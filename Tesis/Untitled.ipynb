{
 "cells": [
  {
   "cell_type": "code",
   "execution_count": 6,
   "metadata": {
    "scrolled": true
   },
   "outputs": [
    {
     "name": "stdin",
     "output_type": "stream",
     "text": [
      "ingrese x : 4\n",
      "ingrese y : 6\n"
     ]
    },
    {
     "name": "stdout",
     "output_type": "stream",
     "text": [
      "1.2\n",
      "2.0\n",
      "3.3333333333333335\n",
      "6.0\n",
      "y - 5  = 1\n"
     ]
    }
   ],
   "source": [
    "x = int(input(\"ingrese x :\"))\n",
    "y = int(input(\"ingrese y :\"))\n",
    "aux = 0\n",
    "next_step = 1\n",
    "while aux == 0:\n",
    "    if y-next_step == 1:\n",
    "        aux=1\n",
    "        print(\"y -\",next_step,\" = 1\")\n",
    "    else:\n",
    "        numerador = x+2*next_step\n",
    "        denominador = y-next_step\n",
    "        print(numerador/denominador)\n",
    "        next_step += 1"
   ]
  },
  {
   "cell_type": "code",
   "execution_count": null,
   "metadata": {},
   "outputs": [],
   "source": []
  }
 ],
 "metadata": {
  "kernelspec": {
   "display_name": "Python 3",
   "language": "python",
   "name": "python3"
  },
  "language_info": {
   "codemirror_mode": {
    "name": "ipython",
    "version": 3
   },
   "file_extension": ".py",
   "mimetype": "text/x-python",
   "name": "python",
   "nbconvert_exporter": "python",
   "pygments_lexer": "ipython3",
   "version": "3.6.9"
  }
 },
 "nbformat": 4,
 "nbformat_minor": 4
}
