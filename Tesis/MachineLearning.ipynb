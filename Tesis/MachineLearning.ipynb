{
 "cells": [
  {
   "cell_type": "code",
   "execution_count": 1,
   "metadata": {},
   "outputs": [],
   "source": [
    "import pandas as pd \n",
    "import matplotlib.pyplot as plt\n",
    "import numpy as np"
   ]
  },
  {
   "cell_type": "code",
   "execution_count": 35,
   "metadata": {},
   "outputs": [],
   "source": [
    "LUNES=pd.read_csv(\"AC_PRIN_LUNES.csv\",index_col = 0)\n",
    "MARTES=pd.read_csv(\"AC_PRIN_MARTES.csv\",index_col = 0)\n",
    "MIERCOLES=pd.read_csv(\"AC_PRIN_MIERCOLES.csv\",index_col = 0)\n",
    "JUEVES=pd.read_csv(\"AC_PRIN_JUEVES.csv\",index_col = 0)\n",
    "VIERNES=pd.read_csv(\"AC_PRIN_VIERNES.csv\",index_col = 0)\n",
    "SABADO=pd.read_csv(\"AC_PRIN_SABADO.csv\",index_col = 0)\n",
    "DOMINGO=pd.read_csv(\"AC_PRIN_DOMINGO.csv\",index_col = 0)\n",
    "###UNIVERSIDAD POLITECNICA DE VALENCIA\n",
    "LUNESEV=pd.read_csv(\"5EV5_LUNES.csv\",index_col = 0)\n",
    "MARTESEV=pd.read_csv(\"5EV5_MARTES.csv\",index_col = 0)\n",
    "MIERCOLESEV=pd.read_csv(\"5EV5_MIERCOLES.csv\",index_col = 0)\n",
    "JUEVESEV=pd.read_csv(\"5EV5_JUEVES.csv\",index_col = 0)\n",
    "VIERNESEV=pd.read_csv(\"5EV5_VIERNES.csv\",index_col = 0)\n",
    "SABADOEV=pd.read_csv(\"5EV5_SABADO.csv\",index_col = 0)\n",
    "DOMINGOEV=pd.read_csv(\"5EV5_DOMINGO.csv\",index_col = 0)\n",
    "#### DATOS KANGLE\n",
    "LUNESKG=pd.read_csv(\"KANGLE________LUNES.csv\",index_col = 0)\n",
    "MARTESKG=pd.read_csv(\"KANGLE________MARTES.csv\",index_col = 0)\n",
    "MIERCOLESKG=pd.read_csv(\"KANGLE________MIERCOLES.csv\",index_col = 0)\n",
    "JUEVESKG=pd.read_csv(\"KANGLE________JUEVES.csv\",index_col = 0)\n",
    "VIERNESKG=pd.read_csv(\"KANGLE________VIERNES.csv\",index_col = 0)\n",
    "SABADOKG=pd.read_csv(\"KANGLE________SABADO.csv\",index_col = 0)\n",
    "DOMINGOKG=pd.read_csv(\"KANGLE________DOMINGO.csv\",index_col = 0)\n",
    "##DATOS FRANCIA\n",
    "LUNESFR=pd.read_csv(\"FRANCIA_______LUNES.csv\",index_col = 0)\n",
    "MARTESFR=pd.read_csv(\"FRANCIA_______MARTES.csv\",index_col = 0)\n",
    "MIERCOLESFR=pd.read_csv(\"FRANCIA_______MIERCOLES.csv\",index_col = 0)\n",
    "JUEVESFR=pd.read_csv(\"FRANCIA_______JUEVES.csv\",index_col = 0)\n",
    "VIERNESFR=pd.read_csv(\"FRANCIA_______VIERNES.csv\",index_col = 0)\n",
    "SABADOFR=pd.read_csv(\"FRANCIA_______SABADO.csv\",index_col = 0)\n",
    "DOMINGOFR=pd.read_csv(\"FRANCIA_______DOMINGO.csv\",index_col = 0)\n",
    "##DATOS RESIDENCIA 1\n",
    "LUNESR1=pd.read_csv(\"RESIDENCIA1______LUNES.csv\",index_col = 0)\n",
    "MARTESR1=pd.read_csv(\"RESIDENCIA1______MARTES.csv\",index_col = 0)\n",
    "MIERCOLESR1=pd.read_csv(\"RESIDENCIA1______MIERCOLES.csv\",index_col = 0)\n",
    "JUEVESR1=pd.read_csv(\"RESIDENCIA1______JUEVES.csv\",index_col = 0)\n",
    "VIERNESR1=pd.read_csv(\"RESIDENCIA1______VIERNES.csv\",index_col = 0)\n",
    "SABADOR1=pd.read_csv(\"RESIDENCIA1______SABADO.csv\",index_col = 0)\n",
    "DOMINGOR1=pd.read_csv(\"RESIDENCIA1______DOMINGO.csv\",index_col = 0)\n",
    "##DATOS RESIDENCIA 10\n",
    "LUNESR10=pd.read_csv(\"RESIDENCIA10______LUNES.csv\",index_col = 0)\n",
    "MARTESR10=pd.read_csv(\"RESIDENCIA10______MARTES.csv\",index_col = 0)\n",
    "MIERCOLESR10=pd.read_csv(\"RESIDENCIA10______MIERCOLES.csv\",index_col = 0)\n",
    "JUEVESR10=pd.read_csv(\"RESIDENCIA10______JUEVES.csv\",index_col = 0)\n",
    "VIERNESR10=pd.read_csv(\"RESIDENCIA10______VIERNES.csv\",index_col = 0)\n",
    "SABADOR10=pd.read_csv(\"RESIDENCIA10______SABADO.csv\",index_col = 0)\n",
    "DOMINGOR10=pd.read_csv(\"RESIDENCIA10______DOMINGO.csv\",index_col = 0)\n",
    "##DATOS RESIDENCIA 11\n",
    "LUNESR11=pd.read_csv(\"RESIDENCIA11______LUNES.csv\",index_col = 0)\n",
    "MARTESR11=pd.read_csv(\"RESIDENCIA11______MARTES.csv\",index_col = 0)\n",
    "MIERCOLESR11=pd.read_csv(\"RESIDENCIA11______MIERCOLES.csv\",index_col = 0)\n",
    "JUEVESR11=pd.read_csv(\"RESIDENCIA11______JUEVES.csv\",index_col = 0)\n",
    "VIERNESR11=pd.read_csv(\"RESIDENCIA11______VIERNES.csv\",index_col = 0)\n",
    "SABADOR11=pd.read_csv(\"RESIDENCIA11______SABADO.csv\",index_col = 0)\n",
    "DOMINGOR11=pd.read_csv(\"RESIDENCIA11______DOMINGO.csv\",index_col = 0)\n",
    "##DATOS RESIDENCIA 12\n",
    "LUNESR12=pd.read_csv(\"RESIDENCIA12______LUNES.csv\",index_col = 0)\n",
    "MARTESR12=pd.read_csv(\"RESIDENCIA12______MARTES.csv\",index_col = 0)\n",
    "MIERCOLESR12=pd.read_csv(\"RESIDENCIA12______MIERCOLES.csv\",index_col = 0)\n",
    "JUEVESR12=pd.read_csv(\"RESIDENCIA12______JUEVES.csv\",index_col = 0)\n",
    "VIERNESR12=pd.read_csv(\"RESIDENCIA12______VIERNES.csv\",index_col = 0)\n",
    "SABADOR12=pd.read_csv(\"RESIDENCIA12______SABADO.csv\",index_col = 0)\n",
    "DOMINGOR12=pd.read_csv(\"RESIDENCIA12______DOMINGO.csv\",index_col = 0)\n",
    "##DATOS RESIDENCIA 13\n",
    "LUNESR13=pd.read_csv(\"RESIDENCIA13______LUNES.csv\",index_col = 0)\n",
    "MARTESR13=pd.read_csv(\"RESIDENCIA13______MARTES.csv\",index_col = 0)\n",
    "MIERCOLESR13=pd.read_csv(\"RESIDENCIA13______MIERCOLES.csv\",index_col = 0)\n",
    "JUEVESR13=pd.read_csv(\"RESIDENCIA13______JUEVES.csv\",index_col = 0)\n",
    "VIERNESR13=pd.read_csv(\"RESIDENCIA13______VIERNES.csv\",index_col = 0)\n",
    "SABADOR13=pd.read_csv(\"RESIDENCIA13______SABADO.csv\",index_col = 0)\n",
    "DOMINGOR13=pd.read_csv(\"RESIDENCIA13______DOMINGO.csv\",index_col = 0)\n",
    "##DATOS RESIDENCIA 14\n",
    "LUNESR14=pd.read_csv(\"RESIDENCIA14______LUNES.csv\",index_col = 0)\n",
    "MARTESR14=pd.read_csv(\"RESIDENCIA14______MARTES.csv\",index_col = 0)\n",
    "MIERCOLESR14=pd.read_csv(\"RESIDENCIA14______MIERCOLES.csv\",index_col = 0)\n",
    "JUEVESR14=pd.read_csv(\"RESIDENCIA14______JUEVES.csv\",index_col = 0)\n",
    "VIERNESR14=pd.read_csv(\"RESIDENCIA14______VIERNES.csv\",index_col = 0)\n",
    "SABADOR14=pd.read_csv(\"RESIDENCIA14______SABADO.csv\",index_col = 0)\n",
    "DOMINGOR14=pd.read_csv(\"RESIDENCIA14______DOMINGO.csv\",index_col = 0)\n",
    "##DATOS RESIDENCIA 15\n",
    "LUNESR15=pd.read_csv(\"RESIDENCIA15______LUNES.csv\",index_col = 0)\n",
    "MARTESR15=pd.read_csv(\"RESIDENCIA15______MARTES.csv\",index_col = 0)\n",
    "MIERCOLESR15=pd.read_csv(\"RESIDENCIA15______MIERCOLES.csv\",index_col = 0)\n",
    "JUEVESR15=pd.read_csv(\"RESIDENCIA15______JUEVES.csv\",index_col = 0)\n",
    "VIERNESR15=pd.read_csv(\"RESIDENCIA15______VIERNES.csv\",index_col = 0)\n",
    "SABADOR15=pd.read_csv(\"RESIDENCIA15______SABADO.csv\",index_col = 0)\n",
    "DOMINGOR15=pd.read_csv(\"RESIDENCIA15______DOMINGO.csv\",index_col = 0)\n",
    "##DATOS RESIDENCIA 16\n",
    "LUNESR16=pd.read_csv(\"RESIDENCIA16______LUNES.csv\",index_col = 0)\n",
    "MARTESR16=pd.read_csv(\"RESIDENCIA16______MARTES.csv\",index_col = 0)\n",
    "MIERCOLESR16=pd.read_csv(\"RESIDENCIA16______MIERCOLES.csv\",index_col = 0)\n",
    "JUEVESR16=pd.read_csv(\"RESIDENCIA16______JUEVES.csv\",index_col = 0)\n",
    "VIERNESR16=pd.read_csv(\"RESIDENCIA16______VIERNES.csv\",index_col = 0)\n",
    "SABADOR16=pd.read_csv(\"RESIDENCIA16______SABADO.csv\",index_col = 0)\n",
    "DOMINGOR16=pd.read_csv(\"RESIDENCIA16______DOMINGO.csv\",index_col = 0)\n",
    "###DATOS RESIDENCIA 2\n",
    "LUNESR2=pd.read_csv(\"RESIDENCIA2______LUNES.csv\",index_col = 0)\n",
    "MARTESR2=pd.read_csv(\"RESIDENCIA2______MARTES.csv\",index_col = 0)\n",
    "MIERCOLESR2=pd.read_csv(\"RESIDENCIA2______MIERCOLES.csv\",index_col = 0)\n",
    "JUEVESR2=pd.read_csv(\"RESIDENCIA2______JUEVES.csv\",index_col = 0)\n",
    "VIERNESR2=pd.read_csv(\"RESIDENCIA2______VIERNES.csv\",index_col = 0)\n",
    "SABADOR2=pd.read_csv(\"RESIDENCIA2______SABADO.csv\",index_col = 0)\n",
    "DOMINGOR2=pd.read_csv(\"RESIDENCIA2______DOMINGO.csv\",index_col = 0)\n",
    "###DATOS RESIDENCIA 3\n",
    "LUNESR3=pd.read_csv(\"RESIDENCIA3______LUNES.csv\",index_col = 0)\n",
    "MARTESR3=pd.read_csv(\"RESIDENCIA3______MARTES.csv\",index_col = 0)\n",
    "MIERCOLESR3=pd.read_csv(\"RESIDENCIA3______MIERCOLES.csv\",index_col = 0)\n",
    "JUEVESR3=pd.read_csv(\"RESIDENCIA3______JUEVES.csv\",index_col = 0)\n",
    "VIERNESR3=pd.read_csv(\"RESIDENCIA3______VIERNES.csv\",index_col = 0)\n",
    "SABADOR3=pd.read_csv(\"RESIDENCIA3______SABADO.csv\",index_col = 0)\n",
    "DOMINGOR3=pd.read_csv(\"RESIDENCIA3______DOMINGO.csv\",index_col = 0)\n",
    "###DATOS RESIDENCIA 2\n",
    "LUNESR4=pd.read_csv(\"RESIDENCIA4______LUNES.csv\",index_col = 0)\n",
    "MARTESR4=pd.read_csv(\"RESIDENCIA4______MARTES.csv\",index_col = 0)\n",
    "MIERCOLESR4=pd.read_csv(\"RESIDENCIA4______MIERCOLES.csv\",index_col = 0)\n",
    "JUEVESR4=pd.read_csv(\"RESIDENCIA4______JUEVES.csv\",index_col = 0)\n",
    "VIERNESR4=pd.read_csv(\"RESIDENCIA4______VIERNES.csv\",index_col = 0)\n",
    "SABADOR4=pd.read_csv(\"RESIDENCIA4______SABADO.csv\",index_col = 0)\n",
    "DOMINGOR4=pd.read_csv(\"RESIDENCIA4______DOMINGO.csv\",index_col = 0)\n",
    "###DATOS RESIDENCIA 2\n",
    "LUNESR5=pd.read_csv(\"RESIDENCIA5______LUNES.csv\",index_col = 0)\n",
    "MARTESR5=pd.read_csv(\"RESIDENCIA5______MARTES.csv\",index_col = 0)\n",
    "MIERCOLESR5=pd.read_csv(\"RESIDENCIA5______MIERCOLES.csv\",index_col = 0)\n",
    "JUEVESR5=pd.read_csv(\"RESIDENCIA5______JUEVES.csv\",index_col = 0)\n",
    "VIERNESR5=pd.read_csv(\"RESIDENCIA5______VIERNES.csv\",index_col = 0)\n",
    "SABADOR5=pd.read_csv(\"RESIDENCIA5______SABADO.csv\",index_col = 0)\n",
    "DOMINGOR5=pd.read_csv(\"RESIDENCIA5______DOMINGO.csv\",index_col = 0)\n",
    "###DATOS RESIDENCIA 2\n",
    "LUNESR6=pd.read_csv(\"RESIDENCIA6______LUNES.csv\",index_col = 0)\n",
    "MARTESR6=pd.read_csv(\"RESIDENCIA6______MARTES.csv\",index_col = 0)\n",
    "MIERCOLESR6=pd.read_csv(\"RESIDENCIA6______MIERCOLES.csv\",index_col = 0)\n",
    "JUEVESR6=pd.read_csv(\"RESIDENCIA6______JUEVES.csv\",index_col = 0)\n",
    "VIERNESR6=pd.read_csv(\"RESIDENCIA6______VIERNES.csv\",index_col = 0)\n",
    "SABADOR6=pd.read_csv(\"RESIDENCIA6______SABADO.csv\",index_col = 0)\n",
    "DOMINGOR6=pd.read_csv(\"RESIDENCIA6______DOMINGO.csv\",index_col = 0)\n",
    "###DATOS RESIDENCIA 2\n",
    "LUNESR7=pd.read_csv(\"RESIDENCIA7______LUNES.csv\",index_col = 0)\n",
    "MARTESR7=pd.read_csv(\"RESIDENCIA7______MARTES.csv\",index_col = 0)\n",
    "MIERCOLESR7=pd.read_csv(\"RESIDENCIA7______MIERCOLES.csv\",index_col = 0)\n",
    "JUEVESR7=pd.read_csv(\"RESIDENCIA7______JUEVES.csv\",index_col = 0)\n",
    "VIERNESR7=pd.read_csv(\"RESIDENCIA7______VIERNES.csv\",index_col = 0)\n",
    "SABADOR7=pd.read_csv(\"RESIDENCIA7______SABADO.csv\",index_col = 0)\n",
    "DOMINGOR7=pd.read_csv(\"RESIDENCIA7______DOMINGO.csv\",index_col = 0)\n",
    "###DATOS RESIDENCIA 2\n",
    "LUNESR8=pd.read_csv(\"RESIDENCIA8______LUNES.csv\",index_col = 0)\n",
    "MARTESR8=pd.read_csv(\"RESIDENCIA8______MARTES.csv\",index_col = 0)\n",
    "MIERCOLESR8=pd.read_csv(\"RESIDENCIA8______MIERCOLES.csv\",index_col = 0)\n",
    "JUEVESR8=pd.read_csv(\"RESIDENCIA8______JUEVES.csv\",index_col = 0)\n",
    "VIERNESR8=pd.read_csv(\"RESIDENCIA8______VIERNES.csv\",index_col = 0)\n",
    "SABADOR8=pd.read_csv(\"RESIDENCIA8______SABADO.csv\",index_col = 0)\n",
    "DOMINGOR8=pd.read_csv(\"RESIDENCIA8______DOMINGO.csv\",index_col = 0)\n",
    "###DATOS RESIDENCIA 2\n",
    "LUNESR9=pd.read_csv(\"RESIDENCIA9______LUNES.csv\",index_col = 0)\n",
    "MARTESR9=pd.read_csv(\"RESIDENCIA9______MARTES.csv\",index_col = 0)\n",
    "MIERCOLESR9=pd.read_csv(\"RESIDENCIA9______MIERCOLES.csv\",index_col = 0)\n",
    "JUEVESR9=pd.read_csv(\"RESIDENCIA9______JUEVES.csv\",index_col = 0)\n",
    "VIERNESR9=pd.read_csv(\"RESIDENCIA9______VIERNES.csv\",index_col = 0)\n",
    "SABADOR9=pd.read_csv(\"RESIDENCIA9______SABADO.csv\",index_col = 0)\n",
    "DOMINGOR9=pd.read_csv(\"RESIDENCIA9______DOMINGO.csv\",index_col = 0)\n",
    "\n",
    "total=pd.concat([LUNES,MARTES,MIERCOLES,JUEVES,VIERNES,SABADO,DOMINGO,LUNESEV,MARTESEV,MIERCOLESEV,JUEVESEV,VIERNESEV,SABADOEV,DOMINGOEV,\n",
    "                LUNESKG,MARTESKG,MIERCOLESKG,JUEVESKG,VIERNESKG,SABADOKG,DOMINGOKG,\n",
    "                LUNESFR,MARTESFR,MIERCOLESFR,JUEVESFR,VIERNESFR,SABADOFR,DOMINGOFR,\n",
    "                LUNESR1,MARTESR1,MIERCOLESR1,JUEVESR1,VIERNESR1,SABADOR1,DOMINGOR1,\n",
    "                LUNESR10,MARTESR10,MIERCOLESR10,JUEVESR10,VIERNESR10,SABADOR10,DOMINGOR10,\n",
    "                LUNESR11,MARTESR11,MIERCOLESR11,JUEVESR11,VIERNESR11,SABADOR11,DOMINGOR11,\n",
    "                LUNESR12,MARTESR12,MIERCOLESR12,JUEVESR12,VIERNESR12,SABADOR12,DOMINGOR12,\n",
    "                LUNESR13,MARTESR13,MIERCOLESR13,JUEVESR13,VIERNESR13,SABADOR13,DOMINGOR13,\n",
    "                LUNESR14,MARTESR14,MIERCOLESR14,JUEVESR14,VIERNESR14,SABADOR14,DOMINGOR14,\n",
    "                LUNESR15,MARTESR15,MIERCOLESR15,JUEVESR15,VIERNESR15,SABADOR15,DOMINGOR15,\n",
    "                LUNESR16,MARTESR16,MIERCOLESR16,JUEVESR16,VIERNESR16,SABADOR16,DOMINGOR16,\n",
    "                LUNESR2,MARTESR2,MIERCOLESR2,JUEVESR2,VIERNESR2,SABADOR2,DOMINGOR2,\n",
    "                LUNESR3,MARTESR3,MIERCOLESR3,JUEVESR3,VIERNESR3,SABADOR3,DOMINGOR3,\n",
    "                LUNESR4,MARTESR4,MIERCOLESR4,JUEVESR4,VIERNESR4,SABADOR4,DOMINGOR4,\n",
    "                LUNESR5,MARTESR5,MIERCOLESR5,JUEVESR5,VIERNESR5,SABADOR5,DOMINGOR5,\n",
    "                LUNESR6,MARTESR6,MIERCOLESR6,JUEVESR6,VIERNESR6,SABADOR6,DOMINGOR6,\n",
    "                LUNESR7,MARTESR7,MIERCOLESR7,JUEVESR7,VIERNESR7,SABADOR7,DOMINGOR7,\n",
    "                LUNESR8,MARTESR8,MIERCOLESR8,JUEVESR8,VIERNESR8,SABADOR8,DOMINGOR8,\n",
    "                LUNESR9,MARTESR9,MIERCOLESR9,JUEVESR9,VIERNESR9,SABADOR9,DOMINGOR9])"
   ]
  },
  {
   "cell_type": "code",
   "execution_count": 36,
   "metadata": {},
   "outputs": [
    {
     "name": "stdout",
     "output_type": "stream",
     "text": [
      "(9745, 132)\n"
     ]
    },
    {
     "data": {
      "image/png": "[encoded data removed]",
      "text/plain": [
       "<Figure size 432x288 with 1 Axes>"
      ]
     },
     "metadata": {
      "needs_background": "light"
     },
     "output_type": "display_data"
    }
   ],
   "source": [
    "##COMPARACION DE DIAS DE ENTRENAMIENTO DE DOS EDIFICIOS\n",
    "plt.plot(LUNES.iloc[0,0:99])\n",
    "plt.plot(LUNESEV.iloc[0,0:99])\n",
    "plt.plot(LUNESKG.iloc[0,0:99])\n",
    "plt.plot(LUNESR1.iloc[0,0:99])\n",
    "plt.plot(LUNESR10.iloc[0,0:99])\n",
    "plt.plot(LUNESR11.iloc[0,0:99])\n",
    "print(total.shape)"
   ]
  },
  {
   "cell_type": "code",
   "execution_count": 37,
   "metadata": {},
   "outputs": [],
   "source": [
    "total2=total.sample(frac=1, replace=True, random_state=1)"
   ]
  },
  {
   "cell_type": "code",
   "execution_count": 38,
   "metadata": {},
   "outputs": [],
   "source": [
    "No_dias=total.shape[0]\n",
    "dataset = np.zeros((No_dias,99))\n",
    "dataset=total2.iloc[:,0:99]\n",
    "salida=total2.iloc[:,99:133]"
   ]
  },
  {
   "cell_type": "code",
   "execution_count": 39,
   "metadata": {},
   "outputs": [
    {
     "name": "stdout",
     "output_type": "stream",
     "text": [
      "7796 1949 9745\n"
     ]
    }
   ],
   "source": [
    "train_size = int(len(dataset) * 0.8)\n",
    "test_size = len(dataset) - train_size\n",
    "print(train_size,test_size,len(dataset))"
   ]
  },
  {
   "cell_type": "code",
   "execution_count": 40,
   "metadata": {},
   "outputs": [],
   "source": [
    "X_data = np.array(dataset.values)\n",
    "Y_data = np.array(salida.values)"
   ]
  },
  {
   "cell_type": "code",
   "execution_count": 41,
   "metadata": {},
   "outputs": [],
   "source": [
    "#Xtrain=np.array(dataset.iloc[0:train_size,:])\n",
    "#Xtest=np.array(dataset.iloc[train_size:,:])\n",
    "#Ytrain=np.array(salida.iloc[0:train_size,:])\n",
    "#Ytest=np.array(salida.iloc[train_size:,:])\n",
    "#print(Xtrain.shape,Xtest.shape,Ytrain.shape,Ytest.shape)"
   ]
  },
  {
   "cell_type": "code",
   "execution_count": 43,
   "metadata": {},
   "outputs": [],
   "source": [
    "msk = np.random.rand(len(X_data)) < 0.70\n",
    "Xtrain = X_data[msk]\n",
    "Xtest = X_data[~msk]\n",
    "Ytrain = Y_data[msk]\n",
    "Ytest = Y_data[~msk]"
   ]
  },
  {
   "cell_type": "code",
   "execution_count": 44,
   "metadata": {},
   "outputs": [],
   "source": [
    "from sklearn.preprocessing import MinMaxScaler #StandardScaler\n",
    "from sklearn.externals import joblib\n",
    "\n",
    "scaler = MinMaxScaler().fit(Xtrain)\n",
    "\n",
    "Xtrain = scaler.transform(Xtrain)\n",
    "\n",
    "Xtest = scaler.transform(Xtest)\n",
    "#joblib.dump(scaler, 'escalamieto.pkl') "
   ]
  },
  {
   "cell_type": "code",
   "execution_count": 45,
   "metadata": {},
   "outputs": [],
   "source": [
    "from keras.models import Sequential\n",
    "from keras.layers import Dense\n",
    "from keras.callbacks import EarlyStopping\n",
    "from keras.layers import Dense, Dropout, Flatten, BatchNormalization\n",
    "model = Sequential()\n",
    "\n",
    "model.add(Dense(99, activation='relu', input_shape=(99,)))\n",
    "model.add(BatchNormalization())\n",
    "model.add(Dropout(0.5))\n",
    "model.add(Dense(100, activation='relu'))\n",
    "model.add(Dropout(0.5))\n",
    "#model.add(Dense(200, activation='sigmoid'))\n",
    "#model.add(Dense(100, activation='sigmoid'))\n",
    "\n",
    "model.add(Dense(33, activation='sigmoid'))\n",
    "\n",
    "validation_split = 0.3"
   ]
  },
  {
   "cell_type": "code",
   "execution_count": 46,
   "metadata": {
    "scrolled": true
   },
   "outputs": [
    {
     "name": "stdout",
     "output_type": "stream",
     "text": [
      "Train on 4811 samples, validate on 2063 samples\n",
      "Epoch 1/150\n",
      "4811/4811 [==============================] - 2s 496us/step - loss: 0.3328 - acc: 0.8782 - val_loss: 0.1688 - val_acc: 0.9490\n",
      "Epoch 2/150\n",
      "4811/4811 [==============================] - 1s 112us/step - loss: 0.1772 - acc: 0.9466 - val_loss: 0.1662 - val_acc: 0.9491\n",
      "Epoch 3/150\n",
      "4811/4811 [==============================] - 1s 114us/step - loss: 0.1657 - acc: 0.9474 - val_loss: 0.1464 - val_acc: 0.9496\n",
      "Epoch 4/150\n",
      "4811/4811 [==============================] - 1s 110us/step - loss: 0.1586 - acc: 0.9486 - val_loss: 0.1427 - val_acc: 0.9499\n",
      "Epoch 5/150\n",
      "4811/4811 [==============================] - 1s 115us/step - loss: 0.1534 - acc: 0.9496 - val_loss: 0.1491 - val_acc: 0.9493\n",
      "Epoch 6/150\n",
      "4811/4811 [==============================] - 1s 113us/step - loss: 0.1504 - acc: 0.9498 - val_loss: 0.1503 - val_acc: 0.9496\n",
      "Epoch 7/150\n",
      "4811/4811 [==============================] - 1s 115us/step - loss: 0.1486 - acc: 0.9501 - val_loss: 0.1427 - val_acc: 0.9496\n",
      "Epoch 8/150\n",
      "4811/4811 [==============================] - 1s 112us/step - loss: 0.1455 - acc: 0.9499 - val_loss: 0.1395 - val_acc: 0.9499\n",
      "Epoch 9/150\n",
      "4811/4811 [==============================] - 1s 117us/step - loss: 0.1433 - acc: 0.9504 - val_loss: 0.1328 - val_acc: 0.9509\n",
      "Epoch 10/150\n",
      "4811/4811 [==============================] - 1s 138us/step - loss: 0.1422 - acc: 0.9502 - val_loss: 0.1347 - val_acc: 0.9511\n",
      "Epoch 11/150\n",
      "4811/4811 [==============================] - 1s 142us/step - loss: 0.1418 - acc: 0.9503 - val_loss: 0.1335 - val_acc: 0.9504\n",
      "Epoch 12/150\n",
      "4811/4811 [==============================] - 1s 117us/step - loss: 0.1401 - acc: 0.9508 - val_loss: 0.1307 - val_acc: 0.9514\n",
      "Epoch 13/150\n",
      "4811/4811 [==============================] - 1s 112us/step - loss: 0.1383 - acc: 0.9510 - val_loss: 0.1325 - val_acc: 0.9515\n",
      "Epoch 14/150\n",
      "4811/4811 [==============================] - 1s 117us/step - loss: 0.1393 - acc: 0.9508 - val_loss: 0.1294 - val_acc: 0.9508\n",
      "Epoch 15/150\n",
      "4811/4811 [==============================] - 1s 113us/step - loss: 0.1390 - acc: 0.9507 - val_loss: 0.1292 - val_acc: 0.9504\n",
      "Epoch 16/150\n",
      "4811/4811 [==============================] - 1s 113us/step - loss: 0.1382 - acc: 0.9503 - val_loss: 0.1261 - val_acc: 0.9510\n",
      "Epoch 17/150\n",
      "4811/4811 [==============================] - 1s 114us/step - loss: 0.1362 - acc: 0.9509 - val_loss: 0.1284 - val_acc: 0.9513\n",
      "Epoch 18/150\n",
      "4811/4811 [==============================] - 1s 115us/step - loss: 0.1370 - acc: 0.9506 - val_loss: 0.1297 - val_acc: 0.9509\n",
      "Epoch 19/150\n",
      "4811/4811 [==============================] - 1s 116us/step - loss: 0.1358 - acc: 0.9510 - val_loss: 0.1409 - val_acc: 0.9498\n",
      "Epoch 20/150\n",
      "4811/4811 [==============================] - 1s 125us/step - loss: 0.1357 - acc: 0.9507 - val_loss: 0.1254 - val_acc: 0.9511\n",
      "Epoch 21/150\n",
      "4811/4811 [==============================] - 1s 116us/step - loss: 0.1354 - acc: 0.9507 - val_loss: 0.1301 - val_acc: 0.9507\n",
      "Epoch 22/150\n",
      "4811/4811 [==============================] - 1s 122us/step - loss: 0.1344 - acc: 0.9508 - val_loss: 0.1287 - val_acc: 0.9508\n",
      "Epoch 23/150\n",
      "4811/4811 [==============================] - 1s 118us/step - loss: 0.1351 - acc: 0.9509 - val_loss: 0.1369 - val_acc: 0.9505\n",
      "Epoch 24/150\n",
      "4811/4811 [==============================] - 1s 115us/step - loss: 0.1354 - acc: 0.9509 - val_loss: 0.1341 - val_acc: 0.9509\n",
      "Epoch 25/150\n",
      "4811/4811 [==============================] - 1s 119us/step - loss: 0.1345 - acc: 0.9514 - val_loss: 0.1292 - val_acc: 0.9507\n",
      "Epoch 26/150\n",
      "4811/4811 [==============================] - 1s 116us/step - loss: 0.1337 - acc: 0.9508 - val_loss: 0.1255 - val_acc: 0.9509\n",
      "Epoch 27/150\n",
      "4811/4811 [==============================] - 1s 116us/step - loss: 0.1346 - acc: 0.9505 - val_loss: 0.1231 - val_acc: 0.9514\n",
      "Epoch 28/150\n",
      "4811/4811 [==============================] - 1s 114us/step - loss: 0.1335 - acc: 0.9511 - val_loss: 0.1337 - val_acc: 0.9510\n",
      "Epoch 29/150\n",
      "4811/4811 [==============================] - 1s 116us/step - loss: 0.1341 - acc: 0.9507 - val_loss: 0.1301 - val_acc: 0.9513\n",
      "Epoch 30/150\n",
      "4811/4811 [==============================] - 1s 117us/step - loss: 0.1343 - acc: 0.9509 - val_loss: 0.1235 - val_acc: 0.9510\n",
      "Epoch 31/150\n",
      "4811/4811 [==============================] - 1s 125us/step - loss: 0.1337 - acc: 0.9512 - val_loss: 0.1430 - val_acc: 0.9496\n",
      "Epoch 32/150\n",
      "4811/4811 [==============================] - 1s 117us/step - loss: 0.1330 - acc: 0.9509 - val_loss: 0.1215 - val_acc: 0.9518\n",
      "Epoch 33/150\n",
      "4811/4811 [==============================] - 1s 115us/step - loss: 0.1334 - acc: 0.9508 - val_loss: 0.1305 - val_acc: 0.9500\n",
      "Epoch 34/150\n",
      "4811/4811 [==============================] - 1s 116us/step - loss: 0.1330 - acc: 0.9514 - val_loss: 0.1221 - val_acc: 0.9521\n",
      "Epoch 35/150\n",
      "4811/4811 [==============================] - 1s 114us/step - loss: 0.1322 - acc: 0.9512 - val_loss: 0.1252 - val_acc: 0.9514\n",
      "Epoch 36/150\n",
      "4811/4811 [==============================] - 1s 113us/step - loss: 0.1329 - acc: 0.9506 - val_loss: 0.1231 - val_acc: 0.9519\n",
      "Epoch 37/150\n",
      "4811/4811 [==============================] - 1s 117us/step - loss: 0.1325 - acc: 0.9510 - val_loss: 0.1406 - val_acc: 0.9510\n",
      "Epoch 38/150\n",
      "4811/4811 [==============================] - 1s 138us/step - loss: 0.1318 - acc: 0.9515 - val_loss: 0.1317 - val_acc: 0.9509\n",
      "Epoch 39/150\n",
      "4811/4811 [==============================] - 1s 141us/step - loss: 0.1318 - acc: 0.9513 - val_loss: 0.1412 - val_acc: 0.9504\n",
      "Epoch 40/150\n",
      "4811/4811 [==============================] - 1s 126us/step - loss: 0.1317 - acc: 0.9509 - val_loss: 0.1261 - val_acc: 0.9504\n",
      "Epoch 41/150\n",
      "4811/4811 [==============================] - 1s 112us/step - loss: 0.1315 - acc: 0.9514 - val_loss: 0.1229 - val_acc: 0.9513\n",
      "Epoch 42/150\n",
      "4811/4811 [==============================] - 1s 116us/step - loss: 0.1314 - acc: 0.9512 - val_loss: 0.1260 - val_acc: 0.9510\n",
      "Epoch 43/150\n",
      "4811/4811 [==============================] - 1s 118us/step - loss: 0.1312 - acc: 0.9513 - val_loss: 0.1381 - val_acc: 0.9502\n",
      "Epoch 44/150\n",
      "4811/4811 [==============================] - 1s 113us/step - loss: 0.1308 - acc: 0.9512 - val_loss: 0.1281 - val_acc: 0.9505\n",
      "Epoch 45/150\n",
      "4811/4811 [==============================] - 1s 109us/step - loss: 0.1314 - acc: 0.9513 - val_loss: 0.1205 - val_acc: 0.9521\n",
      "Epoch 46/150\n",
      "4811/4811 [==============================] - 1s 113us/step - loss: 0.1325 - acc: 0.9509 - val_loss: 0.1231 - val_acc: 0.9514\n",
      "Epoch 47/150\n",
      "4811/4811 [==============================] - 1s 112us/step - loss: 0.1322 - acc: 0.9512 - val_loss: 0.1208 - val_acc: 0.9517\n",
      "Epoch 48/150\n",
      "4811/4811 [==============================] - 1s 115us/step - loss: 0.1316 - acc: 0.9514 - val_loss: 0.1256 - val_acc: 0.9509\n",
      "Epoch 49/150\n",
      "4811/4811 [==============================] - 1s 119us/step - loss: 0.1302 - acc: 0.9513 - val_loss: 0.1287 - val_acc: 0.9510\n",
      "Epoch 50/150\n",
      "4811/4811 [==============================] - 1s 117us/step - loss: 0.1311 - acc: 0.9513 - val_loss: 0.1207 - val_acc: 0.9514\n",
      "Epoch 51/150\n",
      "4811/4811 [==============================] - 1s 118us/step - loss: 0.1308 - acc: 0.9511 - val_loss: 0.1261 - val_acc: 0.9510\n",
      "Epoch 52/150\n",
      "4811/4811 [==============================] - 1s 113us/step - loss: 0.1312 - acc: 0.9513 - val_loss: 0.1248 - val_acc: 0.9513\n",
      "Epoch 53/150\n",
      "4811/4811 [==============================] - 1s 116us/step - loss: 0.1307 - acc: 0.9510 - val_loss: 0.1217 - val_acc: 0.9516\n",
      "Epoch 54/150\n",
      "4811/4811 [==============================] - 1s 112us/step - loss: 0.1306 - acc: 0.9515 - val_loss: 0.1279 - val_acc: 0.9511\n",
      "Epoch 55/150\n",
      "4811/4811 [==============================] - 1s 112us/step - loss: 0.1309 - acc: 0.9510 - val_loss: 0.1211 - val_acc: 0.9513\n",
      "Epoch 56/150\n",
      "4811/4811 [==============================] - 1s 117us/step - loss: 0.1300 - acc: 0.9512 - val_loss: 0.1234 - val_acc: 0.9519\n",
      "Epoch 57/150\n",
      "4811/4811 [==============================] - 1s 120us/step - loss: 0.1301 - acc: 0.9515 - val_loss: 0.1230 - val_acc: 0.9516\n",
      "Epoch 58/150\n",
      "4811/4811 [==============================] - 1s 113us/step - loss: 0.1304 - acc: 0.9514 - val_loss: 0.1316 - val_acc: 0.9510\n",
      "Epoch 59/150\n",
      "4811/4811 [==============================] - 1s 117us/step - loss: 0.1300 - acc: 0.9515 - val_loss: 0.1275 - val_acc: 0.9517\n",
      "Epoch 60/150\n",
      "4811/4811 [==============================] - 1s 115us/step - loss: 0.1299 - acc: 0.9513 - val_loss: 0.1197 - val_acc: 0.9523\n",
      "Epoch 61/150\n",
      "4811/4811 [==============================] - 1s 120us/step - loss: 0.1301 - acc: 0.9514 - val_loss: 0.1232 - val_acc: 0.9514\n",
      "Epoch 62/150\n",
      "4811/4811 [==============================] - 1s 119us/step - loss: 0.1310 - acc: 0.9513 - val_loss: 0.1250 - val_acc: 0.9516\n",
      "Epoch 63/150\n",
      "4811/4811 [==============================] - 1s 110us/step - loss: 0.1296 - acc: 0.9511 - val_loss: 0.1209 - val_acc: 0.9514\n",
      "Epoch 64/150\n",
      "4811/4811 [==============================] - 1s 114us/step - loss: 0.1303 - acc: 0.9508 - val_loss: 0.1223 - val_acc: 0.9514\n",
      "Epoch 65/150\n",
      "4811/4811 [==============================] - 1s 118us/step - loss: 0.1293 - acc: 0.9514 - val_loss: 0.1289 - val_acc: 0.9510\n",
      "Epoch 66/150\n",
      "4811/4811 [==============================] - 1s 125us/step - loss: 0.1284 - acc: 0.9513 - val_loss: 0.1229 - val_acc: 0.9514\n",
      "Epoch 67/150\n",
      "4811/4811 [==============================] - 1s 132us/step - loss: 0.1294 - acc: 0.9514 - val_loss: 0.1194 - val_acc: 0.9519\n",
      "Epoch 68/150\n",
      "4811/4811 [==============================] - 1s 116us/step - loss: 0.1305 - acc: 0.9513 - val_loss: 0.1279 - val_acc: 0.9514\n",
      "Epoch 69/150\n",
      "4811/4811 [==============================] - 1s 116us/step - loss: 0.1298 - acc: 0.9512 - val_loss: 0.1197 - val_acc: 0.9524\n",
      "Epoch 70/150\n",
      "4811/4811 [==============================] - 1s 113us/step - loss: 0.1299 - acc: 0.9514 - val_loss: 0.1199 - val_acc: 0.9517\n",
      "Epoch 71/150\n",
      "4811/4811 [==============================] - 1s 117us/step - loss: 0.1306 - acc: 0.9514 - val_loss: 0.1182 - val_acc: 0.9521\n",
      "Epoch 72/150\n",
      "4811/4811 [==============================] - 1s 110us/step - loss: 0.1290 - acc: 0.9516 - val_loss: 0.1205 - val_acc: 0.9519\n",
      "Epoch 73/150\n",
      "4811/4811 [==============================] - 1s 113us/step - loss: 0.1286 - acc: 0.9518 - val_loss: 0.1246 - val_acc: 0.9519\n",
      "Epoch 74/150\n",
      "4811/4811 [==============================] - 1s 110us/step - loss: 0.1295 - acc: 0.9514 - val_loss: 0.1230 - val_acc: 0.9511\n",
      "Epoch 75/150\n",
      "4811/4811 [==============================] - 1s 112us/step - loss: 0.1296 - acc: 0.9516 - val_loss: 0.1353 - val_acc: 0.9514\n",
      "Epoch 76/150\n",
      "4811/4811 [==============================] - 1s 121us/step - loss: 0.1298 - acc: 0.9511 - val_loss: 0.1210 - val_acc: 0.9522\n",
      "Epoch 77/150\n",
      "4811/4811 [==============================] - 1s 113us/step - loss: 0.1295 - acc: 0.9513 - val_loss: 0.1188 - val_acc: 0.9526\n",
      "Epoch 78/150\n",
      "4811/4811 [==============================] - 1s 110us/step - loss: 0.1300 - acc: 0.9514 - val_loss: 0.1313 - val_acc: 0.9510\n",
      "Epoch 79/150\n",
      "4811/4811 [==============================] - 1s 115us/step - loss: 0.1317 - acc: 0.9510 - val_loss: 0.1291 - val_acc: 0.9520\n",
      "Epoch 80/150\n",
      "4811/4811 [==============================] - 1s 117us/step - loss: 0.1297 - acc: 0.9512 - val_loss: 0.1217 - val_acc: 0.9513\n",
      "Epoch 81/150\n",
      "4811/4811 [==============================] - 1s 110us/step - loss: 0.1298 - acc: 0.9514 - val_loss: 0.1191 - val_acc: 0.9520\n",
      "Epoch 82/150\n",
      "4811/4811 [==============================] - 1s 110us/step - loss: 0.1305 - acc: 0.9513 - val_loss: 0.1231 - val_acc: 0.9522\n",
      "Epoch 83/150\n",
      "4811/4811 [==============================] - 1s 108us/step - loss: 0.1295 - acc: 0.9512 - val_loss: 0.1219 - val_acc: 0.9511\n",
      "Epoch 84/150\n",
      "4811/4811 [==============================] - 1s 114us/step - loss: 0.1304 - acc: 0.9515 - val_loss: 0.1213 - val_acc: 0.9522\n",
      "Epoch 85/150\n",
      "4811/4811 [==============================] - 1s 113us/step - loss: 0.1300 - acc: 0.9513 - val_loss: 0.1201 - val_acc: 0.9524\n",
      "Epoch 86/150\n",
      "4811/4811 [==============================] - 1s 111us/step - loss: 0.1296 - acc: 0.9520 - val_loss: 0.1207 - val_acc: 0.9518\n",
      "Epoch 87/150\n",
      "4811/4811 [==============================] - 1s 111us/step - loss: 0.1305 - acc: 0.9512 - val_loss: 0.1201 - val_acc: 0.9515\n",
      "Epoch 88/150\n",
      "4811/4811 [==============================] - 1s 110us/step - loss: 0.1293 - acc: 0.9512 - val_loss: 0.1260 - val_acc: 0.9511\n",
      "Epoch 89/150\n",
      "4811/4811 [==============================] - 1s 113us/step - loss: 0.1299 - acc: 0.9513 - val_loss: 0.1206 - val_acc: 0.9518\n",
      "Epoch 90/150\n",
      "4811/4811 [==============================] - 1s 112us/step - loss: 0.1293 - acc: 0.9511 - val_loss: 0.1199 - val_acc: 0.9519\n",
      "Epoch 91/150\n",
      "4811/4811 [==============================] - 1s 109us/step - loss: 0.1295 - acc: 0.9515 - val_loss: 0.1187 - val_acc: 0.9517\n",
      "Epoch 92/150\n",
      "4811/4811 [==============================] - 1s 108us/step - loss: 0.1307 - acc: 0.9513 - val_loss: 0.1269 - val_acc: 0.9508\n",
      "Epoch 93/150\n",
      "4811/4811 [==============================] - 1s 115us/step - loss: 0.1294 - acc: 0.9513 - val_loss: 0.1223 - val_acc: 0.9527\n",
      "Epoch 94/150\n",
      "4811/4811 [==============================] - 1s 106us/step - loss: 0.1295 - acc: 0.9514 - val_loss: 0.1246 - val_acc: 0.9513\n",
      "Epoch 95/150\n",
      "4811/4811 [==============================] - 1s 119us/step - loss: 0.1292 - acc: 0.9512 - val_loss: 0.1242 - val_acc: 0.9510\n",
      "Epoch 96/150\n",
      "4811/4811 [==============================] - 1s 130us/step - loss: 0.1292 - acc: 0.9517 - val_loss: 0.1230 - val_acc: 0.9509\n",
      "Epoch 97/150\n",
      "4811/4811 [==============================] - 1s 120us/step - loss: 0.1302 - acc: 0.9511 - val_loss: 0.1243 - val_acc: 0.9514\n",
      "Epoch 98/150\n",
      "4811/4811 [==============================] - 1s 109us/step - loss: 0.1300 - acc: 0.9509 - val_loss: 0.1220 - val_acc: 0.9521\n",
      "Epoch 99/150\n",
      "4811/4811 [==============================] - 1s 109us/step - loss: 0.1295 - acc: 0.9512 - val_loss: 0.1254 - val_acc: 0.9503\n",
      "Epoch 100/150\n",
      "4811/4811 [==============================] - 1s 107us/step - loss: 0.1298 - acc: 0.9515 - val_loss: 0.1207 - val_acc: 0.9513\n",
      "Epoch 101/150\n",
      "4811/4811 [==============================] - 1s 109us/step - loss: 0.1290 - acc: 0.9514 - val_loss: 0.1220 - val_acc: 0.9518\n",
      "Epoch 102/150\n",
      "4811/4811 [==============================] - 1s 121us/step - loss: 0.1292 - acc: 0.9513 - val_loss: 0.1486 - val_acc: 0.9511\n",
      "Epoch 103/150\n",
      "4811/4811 [==============================] - 1s 107us/step - loss: 0.1298 - acc: 0.9516 - val_loss: 0.1238 - val_acc: 0.9515\n",
      "Epoch 104/150\n",
      "4811/4811 [==============================] - 1s 109us/step - loss: 0.1293 - acc: 0.9511 - val_loss: 0.1226 - val_acc: 0.9516\n",
      "Epoch 105/150\n",
      "4811/4811 [==============================] - 1s 107us/step - loss: 0.1295 - acc: 0.9516 - val_loss: 0.1276 - val_acc: 0.9520\n",
      "Epoch 106/150\n",
      "4811/4811 [==============================] - 1s 112us/step - loss: 0.1282 - acc: 0.9516 - val_loss: 0.1194 - val_acc: 0.9525\n",
      "Epoch 107/150\n",
      "4811/4811 [==============================] - 1s 109us/step - loss: 0.1290 - acc: 0.9515 - val_loss: 0.1189 - val_acc: 0.9517\n",
      "Epoch 108/150\n",
      "4811/4811 [==============================] - 1s 108us/step - loss: 0.1293 - acc: 0.9513 - val_loss: 0.1220 - val_acc: 0.9518\n",
      "Epoch 109/150\n",
      "4811/4811 [==============================] - 1s 109us/step - loss: 0.1280 - acc: 0.9514 - val_loss: 0.1202 - val_acc: 0.9523\n",
      "Epoch 110/150\n",
      "4811/4811 [==============================] - 1s 110us/step - loss: 0.1294 - acc: 0.9512 - val_loss: 0.1223 - val_acc: 0.9521\n",
      "Epoch 111/150\n",
      "4811/4811 [==============================] - 1s 108us/step - loss: 0.1279 - acc: 0.9516 - val_loss: 0.1178 - val_acc: 0.9519\n",
      "Epoch 112/150\n",
      "4811/4811 [==============================] - 1s 109us/step - loss: 0.1304 - acc: 0.9511 - val_loss: 0.1223 - val_acc: 0.9512\n",
      "Epoch 113/150\n",
      "4811/4811 [==============================] - 1s 112us/step - loss: 0.1296 - acc: 0.9514 - val_loss: 0.1184 - val_acc: 0.9518\n",
      "Epoch 114/150\n",
      "4811/4811 [==============================] - 1s 108us/step - loss: 0.1306 - acc: 0.9513 - val_loss: 0.1232 - val_acc: 0.9514\n",
      "Epoch 115/150\n",
      "4811/4811 [==============================] - 1s 109us/step - loss: 0.1288 - acc: 0.9519 - val_loss: 0.1193 - val_acc: 0.9516\n",
      "Epoch 116/150\n",
      "4811/4811 [==============================] - 1s 113us/step - loss: 0.1293 - acc: 0.9514 - val_loss: 0.1198 - val_acc: 0.9522\n",
      "Epoch 117/150\n",
      "4811/4811 [==============================] - 1s 108us/step - loss: 0.1287 - acc: 0.9513 - val_loss: 0.1216 - val_acc: 0.9516\n",
      "Epoch 118/150\n",
      "4811/4811 [==============================] - 1s 113us/step - loss: 0.1298 - acc: 0.9510 - val_loss: 0.1183 - val_acc: 0.9521\n",
      "Epoch 119/150\n",
      "4811/4811 [==============================] - 1s 110us/step - loss: 0.1289 - acc: 0.9513 - val_loss: 0.1258 - val_acc: 0.9522\n",
      "Epoch 120/150\n",
      "4811/4811 [==============================] - 1s 109us/step - loss: 0.1288 - acc: 0.9516 - val_loss: 0.1209 - val_acc: 0.9522\n",
      "Epoch 121/150\n",
      "4811/4811 [==============================] - 1s 113us/step - loss: 0.1282 - acc: 0.9515 - val_loss: 0.1193 - val_acc: 0.9525\n",
      "Epoch 122/150\n",
      "4811/4811 [==============================] - ETA: 0s - loss: 0.1283 - acc: 0.951 - 1s 113us/step - loss: 0.1285 - acc: 0.9514 - val_loss: 0.1190 - val_acc: 0.9527\n",
      "Epoch 123/150\n",
      "4811/4811 [==============================] - 1s 111us/step - loss: 0.1297 - acc: 0.9515 - val_loss: 0.1199 - val_acc: 0.9522\n",
      "Epoch 124/150\n",
      "4811/4811 [==============================] - 1s 113us/step - loss: 0.1292 - acc: 0.9515 - val_loss: 0.1246 - val_acc: 0.9524\n",
      "Epoch 125/150\n",
      "4811/4811 [==============================] - 1s 125us/step - loss: 0.1279 - acc: 0.9514 - val_loss: 0.1256 - val_acc: 0.9512\n",
      "Epoch 126/150\n",
      "4811/4811 [==============================] - 1s 129us/step - loss: 0.1290 - acc: 0.9510 - val_loss: 0.1202 - val_acc: 0.9516\n",
      "Epoch 127/150\n",
      "4811/4811 [==============================] - 1s 116us/step - loss: 0.1280 - acc: 0.9517 - val_loss: 0.1197 - val_acc: 0.9520\n",
      "Epoch 128/150\n",
      "4811/4811 [==============================] - 1s 111us/step - loss: 0.1293 - acc: 0.9511 - val_loss: 0.1236 - val_acc: 0.9508\n",
      "Epoch 129/150\n",
      "4811/4811 [==============================] - 1s 107us/step - loss: 0.1279 - acc: 0.9517 - val_loss: 0.1185 - val_acc: 0.9520\n",
      "Epoch 130/150\n",
      "4811/4811 [==============================] - 1s 112us/step - loss: 0.1285 - acc: 0.9514 - val_loss: 0.1236 - val_acc: 0.9518\n",
      "Epoch 131/150\n",
      "4811/4811 [==============================] - 1s 111us/step - loss: 0.1291 - acc: 0.9513 - val_loss: 0.1224 - val_acc: 0.9522\n",
      "Epoch 132/150\n",
      "4811/4811 [==============================] - 1s 108us/step - loss: 0.1279 - acc: 0.9519 - val_loss: 0.1177 - val_acc: 0.9519\n",
      "Epoch 133/150\n",
      "4811/4811 [==============================] - 1s 113us/step - loss: 0.1294 - acc: 0.9514 - val_loss: 0.1175 - val_acc: 0.9519\n",
      "Epoch 134/150\n",
      "4811/4811 [==============================] - 1s 109us/step - loss: 0.1284 - acc: 0.9515 - val_loss: 0.1206 - val_acc: 0.9514\n",
      "Epoch 135/150\n",
      "4811/4811 [==============================] - 1s 110us/step - loss: 0.1284 - acc: 0.9517 - val_loss: 0.1247 - val_acc: 0.9519\n",
      "Epoch 136/150\n",
      "4811/4811 [==============================] - 1s 109us/step - loss: 0.1282 - acc: 0.9513 - val_loss: 0.1206 - val_acc: 0.9522\n",
      "Epoch 137/150\n",
      "4811/4811 [==============================] - 1s 107us/step - loss: 0.1293 - acc: 0.9514 - val_loss: 0.1219 - val_acc: 0.9511\n",
      "Epoch 138/150\n",
      "4811/4811 [==============================] - 1s 111us/step - loss: 0.1288 - acc: 0.9516 - val_loss: 0.1244 - val_acc: 0.9506\n",
      "Epoch 139/150\n",
      "4811/4811 [==============================] - 1s 108us/step - loss: 0.1293 - acc: 0.9514 - val_loss: 0.1190 - val_acc: 0.9522\n",
      "Epoch 140/150\n",
      "4811/4811 [==============================] - 1s 110us/step - loss: 0.1292 - acc: 0.9513 - val_loss: 0.1197 - val_acc: 0.9518\n",
      "Epoch 141/150\n",
      "4811/4811 [==============================] - 1s 110us/step - loss: 0.1294 - acc: 0.9515 - val_loss: 0.1191 - val_acc: 0.9522\n",
      "Epoch 142/150\n",
      "4811/4811 [==============================] - 1s 110us/step - loss: 0.1285 - acc: 0.9511 - val_loss: 0.1180 - val_acc: 0.9521\n",
      "Epoch 143/150\n",
      "4811/4811 [==============================] - 1s 107us/step - loss: 0.1288 - acc: 0.9518 - val_loss: 0.1187 - val_acc: 0.9518\n",
      "Epoch 144/150\n",
      "4811/4811 [==============================] - 1s 109us/step - loss: 0.1281 - acc: 0.9516 - val_loss: 0.1296 - val_acc: 0.9513\n",
      "Epoch 145/150\n",
      "4811/4811 [==============================] - 1s 113us/step - loss: 0.1284 - acc: 0.9508 - val_loss: 0.1212 - val_acc: 0.9514\n",
      "Epoch 146/150\n",
      "4811/4811 [==============================] - 1s 114us/step - loss: 0.1287 - acc: 0.9514 - val_loss: 0.1204 - val_acc: 0.9519\n",
      "Epoch 147/150\n",
      "4811/4811 [==============================] - 1s 110us/step - loss: 0.1292 - acc: 0.9510 - val_loss: 0.1256 - val_acc: 0.9516\n",
      "Epoch 148/150\n",
      "4811/4811 [==============================] - 1s 110us/step - loss: 0.1295 - acc: 0.9512 - val_loss: 0.1212 - val_acc: 0.9525\n",
      "Epoch 149/150\n",
      "4811/4811 [==============================] - 1s 107us/step - loss: 0.1295 - acc: 0.9511 - val_loss: 0.1213 - val_acc: 0.9511\n",
      "Epoch 150/150\n",
      "4811/4811 [==============================] - 1s 111us/step - loss: 0.1294 - acc: 0.9516 - val_loss: 0.1259 - val_acc: 0.9507\n"
     ]
    }
   ],
   "source": [
    "model.compile(loss='binary_crossentropy', optimizer='adam', metrics=['accuracy'])\n",
    "es = EarlyStopping(monitor='val_loss', mode='min', verbose=1)\n",
    "                   \n",
    "history=model.fit(Xtrain, Ytrain,epochs=150, batch_size=32, verbose=1,validation_split=validation_split)"
   ]
  },
  {
   "cell_type": "code",
   "execution_count": 47,
   "metadata": {},
   "outputs": [
    {
     "data": {
      "image/png": "[encoded data removed]",
      "text/plain": [
       "<Figure size 432x288 with 1 Axes>"
      ]
     },
     "metadata": {
      "needs_background": "light"
     },
     "output_type": "display_data"
    },
    {
     "data": {
      "image/png": "[encoded data removed]",
      "text/plain": [
       "<Figure size 432x288 with 1 Axes>"
      ]
     },
     "metadata": {
      "needs_background": "light"
     },
     "output_type": "display_data"
    }
   ],
   "source": [
    "plt.plot(history.history['acc'])\n",
    "plt.plot(history.history['val_acc'])\n",
    "plt.title('Model accuracy')\n",
    "plt.ylabel('Accuracy')\n",
    "plt.xlabel('Epoch')\n",
    "plt.legend(['Train', 'Test'], loc='upper left')\n",
    "plt.show()\n",
    "\n",
    "# Plot training & validation loss values\n",
    "plt.plot(history.history['loss'])\n",
    "plt.plot(history.history['val_loss'])\n",
    "plt.title('Model loss')\n",
    "plt.ylabel('Loss')\n",
    "plt.xlabel('Epoch')\n",
    "plt.legend(['Train', 'Test'], loc='upper left')\n",
    "plt.show()"
   ]
  },
  {
   "cell_type": "code",
   "execution_count": null,
   "metadata": {},
   "outputs": [],
   "source": [
    "pd.DataFrame(history.history).to_csv('TrainHist.csv')"
   ]
  },
  {
   "cell_type": "code",
   "execution_count": 48,
   "metadata": {},
   "outputs": [],
   "source": [
    "Ypred = model.predict(Xtest)\n",
    "#model.predict_classes"
   ]
  },
  {
   "cell_type": "code",
   "execution_count": 31,
   "metadata": {},
   "outputs": [
    {
     "name": "stdout",
     "output_type": "stream",
     "text": [
      "[0. 0. 0. 0. 0. 0. 0. 0. 0. 0. 0. 0. 0. 0. 0. 0. 0. 0. 0. 0. 0. 0. 0. 0.\n",
      " 0. 0. 0. 0. 0. 0. 0. 0. 0.]\n",
      "[0. 0. 0. 0. 0. 0. 0. 0. 0. 0. 0. 0. 0. 0. 0. 0. 0. 0. 0. 0. 0. 0. 0. 0.\n",
      " 0. 0. 0. 0. 0. 1. 0. 0. 0.]\n"
     ]
    }
   ],
   "source": [
    "print(np.round(Ypred[2]))\n",
    "print(Ytest[2])"
   ]
  },
  {
   "cell_type": "code",
   "execution_count": 49,
   "metadata": {},
   "outputs": [
    {
     "data": {
      "text/plain": [
       "[0.12675542738100495, 0.9518698358402896]"
      ]
     },
     "execution_count": 49,
     "metadata": {},
     "output_type": "execute_result"
    }
   ],
   "source": [
    "model.evaluate(Xtest,Ytest,verbose = 0)"
   ]
  },
  {
   "cell_type": "code",
   "execution_count": 33,
   "metadata": {},
   "outputs": [
    {
     "data": {
      "text/plain": [
       "array([0.1038249 , 0.11598189, 0.15632384, 0.17529512, 0.19994207,\n",
       "       0.27872117, 0.29730211, 0.21919889, 0.25179249, 0.2874887 ,\n",
       "       0.27331272, 0.34773748, 0.44020766, 0.38995402, 0.35894334,\n",
       "       0.34062045, 0.34562992, 0.40686044, 0.36559206, 0.26741736,\n",
       "       0.27287032, 0.21536623, 0.15413417, 0.12776291, 0.14587919,\n",
       "       0.17552563, 0.1906383 , 0.23897231, 0.25634716, 0.2578805 ,\n",
       "       0.26540889, 0.27601558, 0.26796237, 0.24354884, 0.32772247,\n",
       "       0.29051717, 0.29870314, 0.28711781, 0.15221945, 0.24644259,\n",
       "       0.19769327, 0.20467872, 0.18514133, 0.17458012, 0.22700489,\n",
       "       0.15270724, 0.14581134, 0.13247762, 0.14299334, 0.17011124,\n",
       "       0.19853139, 0.26294006, 0.25955835, 0.15845426, 0.13082994,\n",
       "       0.13524503, 0.19479852, 0.17178396, 0.15535016, 0.13553219,\n",
       "       0.11190188, 0.1130798 , 0.12512737, 0.13514406, 0.12695779,\n",
       "       0.15577093, 0.16582129, 0.15606114, 0.15194598, 0.12633067,\n",
       "       0.06490323, 0.05953802, 0.06620932, 0.17701242, 0.20712456,\n",
       "       0.20885141, 0.20518337, 0.18317716, 0.18357355, 0.29493732,\n",
       "       0.27926385, 0.20285101, 0.22621379, 0.2103869 , 0.21887736,\n",
       "       0.21130366, 0.21753599, 0.23299025, 0.24572027, 0.23799431,\n",
       "       0.24983218, 0.15672449, 0.1033123 , 0.09715789, 0.09272376,\n",
       "       0.08653188, 0.23458871, 0.31519095, 0.63208658])"
      ]
     },
     "execution_count": 33,
     "metadata": {},
     "output_type": "execute_result"
    }
   ],
   "source": [
    "Xtest[0]"
   ]
  },
  {
   "cell_type": "code",
   "execution_count": 18,
   "metadata": {},
   "outputs": [
    {
     "data": {
      "text/plain": [
       "((1318, 33), (1318, 33))"
      ]
     },
     "execution_count": 18,
     "metadata": {},
     "output_type": "execute_result"
    }
   ],
   "source": [
    "(Ytest.shape,Ypred.shape)"
   ]
  },
  {
   "cell_type": "code",
   "execution_count": 19,
   "metadata": {},
   "outputs": [
    {
     "data": {
      "text/plain": [
       "array([[0., 0., 0., ..., 0., 0., 0.],\n",
       "       [0., 0., 0., ..., 0., 0., 0.],\n",
       "       [0., 0., 0., ..., 0., 1., 0.],\n",
       "       ...,\n",
       "       [0., 0., 0., ..., 0., 0., 0.],\n",
       "       [0., 0., 0., ..., 0., 0., 0.],\n",
       "       [0., 0., 0., ..., 1., 0., 0.]])"
      ]
     },
     "execution_count": 19,
     "metadata": {},
     "output_type": "execute_result"
    }
   ],
   "source": [
    "Ytest"
   ]
  },
  {
   "cell_type": "code",
   "execution_count": 20,
   "metadata": {},
   "outputs": [
    {
     "name": "stdout",
     "output_type": "stream",
     "text": [
      "[ 7  7 10 ...  7 29  9]\n"
     ]
    }
   ],
   "source": [
    "print(np.argmax(Ytest, axis=1))"
   ]
  },
  {
   "cell_type": "code",
   "execution_count": 21,
   "metadata": {},
   "outputs": [
    {
     "name": "stdout",
     "output_type": "stream",
     "text": [
      "[[6.7705297e-01 8.1187487e-04 2.7120113e-06 ... 1.9595027e-04\n",
      "  4.7802925e-05 2.7179718e-05]\n",
      " [1.4692545e-05 1.6910911e-02 1.3738871e-04 ... 4.4584274e-05\n",
      "  5.7445288e-02 3.2638580e-02]\n",
      " [5.9604645e-08 1.7481744e-03 5.6028366e-06 ... 2.9802322e-08\n",
      "  1.5481991e-01 1.2533784e-02]\n",
      " ...\n",
      " [5.2839518e-05 2.8662056e-02 5.4836273e-06 ... 2.1070242e-05\n",
      "  7.0383549e-03 3.0636787e-04]\n",
      " [8.0692768e-04 2.1499395e-04 9.2834234e-05 ... 2.9504299e-06\n",
      "  8.7717772e-03 5.7944208e-02]\n",
      " [9.6742511e-03 1.7935738e-01 2.9802322e-07 ... 5.9476668e-01\n",
      "  3.7346263e-06 9.0035819e-02]]\n"
     ]
    }
   ],
   "source": [
    "print(Ypred)"
   ]
  },
  {
   "cell_type": "code",
   "execution_count": null,
   "metadata": {},
   "outputs": [],
   "source": [
    "from sklearn.metrics import confusion_matrix\n",
    "import matplotlib.pyplot as plt\n",
    "import numpy as np\n",
    "\n",
    "cm = confusion_matrix(np.argmax(Ytest, axis=1), Ypred)\n",
    "cm = cm.astype('float') / cm.sum(axis=1)[:, np.newaxis]\n",
    "plt.imshow(cm, cmap=plt.cm.Blues)\n",
    "plt.xlabel(\"Predicted labels\")\n",
    "plt.ylabel(\"True labels\")\n",
    "plt.xticks([], [])\n",
    "plt.yticks([], [])\n",
    "plt.title('Confusion matrix ')\n",
    "plt.colorbar()\n",
    "plt.show()"
   ]
  },
  {
   "cell_type": "code",
   "execution_count": null,
   "metadata": {},
   "outputs": [],
   "source": [
    "from sklearn.metrics import classification_report\n",
    "print(classification_report(np.argmax(Ytest, axis=1), Ypred))"
   ]
  },
  {
   "cell_type": "code",
   "execution_count": null,
   "metadata": {},
   "outputs": [],
   "source": [
    "aux=0\n",
    "for i in range (Ypred.shape[0]):\n",
    "    if (np.round(Ypred[i])==Ytest[i]).all():\n",
    "        aux=aux+1\n",
    "    else:\n",
    "        a=(np.round(Ypred[i])==Ytest[i])\n",
    "        unique, counts = np.unique(a, return_counts=True)\n",
    "        if counts[0] <0:\n",
    "            aux=aux+1\n",
    "            #print(i)"
   ]
  },
  {
   "cell_type": "code",
   "execution_count": null,
   "metadata": {},
   "outputs": [],
   "source": [
    "eficiencia=aux/Ypred.shape[0]\n",
    "print(aux,Ypred.shape[0],eficiencia)"
   ]
  },
  {
   "cell_type": "code",
   "execution_count": null,
   "metadata": {},
   "outputs": [],
   "source": [
    "a=(np.round(Ypred[8])==Ytest[8])"
   ]
  },
  {
   "cell_type": "code",
   "execution_count": null,
   "metadata": {},
   "outputs": [],
   "source": [
    "from sklearn.metrics import mean_squared_error\n",
    "print(mean_squared_error(Ytest, Ypred))"
   ]
  },
  {
   "cell_type": "code",
   "execution_count": null,
   "metadata": {},
   "outputs": [],
   "source": [
    "y_pred = (Ypred > 0.5) \n",
    "y_test = (Ytest > 0.5)"
   ]
  },
  {
   "cell_type": "code",
   "execution_count": null,
   "metadata": {},
   "outputs": [],
   "source": [
    "a=(np.round(Ypred[2])==Ytest[2])\n",
    "unique, counts = np.unique(a, return_counts=True)"
   ]
  },
  {
   "cell_type": "code",
   "execution_count": null,
   "metadata": {},
   "outputs": [],
   "source": [
    "counts[0]"
   ]
  },
  {
   "cell_type": "code",
   "execution_count": null,
   "metadata": {},
   "outputs": [],
   "source": [
    "Ypred[:,i].astype(int)"
   ]
  },
  {
   "cell_type": "code",
   "execution_count": null,
   "metadata": {},
   "outputs": [],
   "source": [
    "from sklearn.metrics import confusion_matrix\n",
    "tn = np.zeros(33)\n",
    "fp = np.zeros(33)\n",
    "fn = np.zeros(33)\n",
    "tp = np.zeros(33)\n",
    "\n",
    "Accuracy = np.zeros(33)\n",
    "Precision = np.zeros(33)\n",
    "Recall = np.zeros(33)\n",
    "f1 = np.zeros(33)\n",
    "for i in range(33):\n",
    "    try:\n",
    "        tn[i], fp[i], fn[i], tp[i]=confusion_matrix(Ypred[:,i].astype(int),Ytest[:,i].astype(int)).ravel()\n",
    "        Accuracy[i] = (tn[i]+tp[i])*100/(tp[i]+tn[i]+fp[i]+fn[i])\n",
    "        Precision[i] = tp[i]/(tp[i]+fp[i])\n",
    "        Recall[i] = tp[i]/(tp[i]+fn[i])\n",
    "        f1[i] = (2*Precision[i]*Recall[i])/(Precision[i] + Recall[i])\n",
    "        print(\"Accuracy : \",Accuracy[i])\n",
    "    except:\n",
    "        print(i)"
   ]
  },
  {
   "cell_type": "code",
   "execution_count": null,
   "metadata": {},
   "outputs": [],
   "source": [
    "Precision*100"
   ]
  },
  {
   "cell_type": "code",
   "execution_count": null,
   "metadata": {},
   "outputs": [],
   "source": [
    "print(Ypred[:,0].astype(int))\n",
    "print(Ytest[:,0].astype(int))"
   ]
  },
  {
   "cell_type": "code",
   "execution_count": 51,
   "metadata": {},
   "outputs": [
    {
     "data": {
      "text/plain": [
       "['escalamieto.pkl']"
      ]
     },
     "execution_count": 51,
     "metadata": {},
     "output_type": "execute_result"
    }
   ],
   "source": [
    "model.save(\"MLANOMALIAS.h5\")\n",
    "joblib.dump(scaler, 'escalamieto.pkl') "
   ]
  },
  {
   "cell_type": "code",
   "execution_count": null,
   "metadata": {},
   "outputs": [],
   "source": []
  }
 ],
 "metadata": {
  "kernelspec": {
   "display_name": "Python 3",
   "language": "python",
   "name": "python3"
  },
  "language_info": {
   "codemirror_mode": {
    "name": "ipython",
    "version": 3
   },
   "file_extension": ".py",
   "mimetype": "text/x-python",
   "name": "python",
   "nbconvert_exporter": "python",
   "pygments_lexer": "ipython3",
   "version": "3.7.7"
  }
 },
 "nbformat": 4,
 "nbformat_minor": 4
}
