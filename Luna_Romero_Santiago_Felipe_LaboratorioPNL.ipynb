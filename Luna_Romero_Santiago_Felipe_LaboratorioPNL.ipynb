{
 "cells": [
  {
   "cell_type": "markdown",
   "metadata": {},
   "source": [
    "**Universidad Internacional de La Rioja (UNIR) - Máster Universitario en Inteligencia Artificial - Procesamiento del Lenguaje Natural** \n",
    "\n",
    "\n",
    "# Laboratorio: Desambiguación del sentido de las palabras\n",
    "\n",
    "\n",
    "**Objetivos**\n",
    "\n",
    "Con este laboratorio el alumno conseguirá aplicar diferentes algoritmos basados en aprendizaje automático supervisado para desambiguar el sentido de las palabras. Además, va a aprender a utilizar la herramienta de software abierto Natural Language Toolkit (NLTK) con la que implementar tareas de procesamiento del lenguaje natural en Python."
   ]
  },
  {
   "cell_type": "markdown",
   "metadata": {},
   "source": [
    "**Descripción**\n",
    "\n",
    "En este laboratorio debes desarrollar e implementar diferentes algoritmos basados en aprendizaje automático supervisado para desambiguar el sentido de las palabras en Python y utilizando la herramienta de software abierto Natural Language Toolkit (NLTK).\n",
    "\n",
    "Para preparar este laboratorio, simplemente descarga e instala NLTK 3.3 en tu equipo.\n",
    "\n",
    "NLTK requiere de Python versiones 2.7, 3.4, 3.5 o 3.6 para funcionar. Por lo que, si no tienes instalado Python, descárgalo e instálalo.\n",
    "\n",
    "Asegúrate de que has instalado NLTK 3.3 adecuadamente antes de la sesión de laboratorio y de revisar el contenido teórico, Semántica léxica y temas anteriores, para tener frescos los diferentes conceptos sobre el procesamiento del lenguaje natural estudiados en esta asignatura."
   ]
  },
  {
   "cell_type": "markdown",
   "metadata": {},
   "source": [
    "Durante la sesión del laboratorio debes solucionar un problema sobre desambiguación del sentido de las palabras utilizando el corpus etiquetado en inglés llamado Senseval 2 y que viene disponible en NLTK."
   ]
  },
  {
   "cell_type": "markdown",
   "metadata": {},
   "source": [
    "El primer paso es importar el corpus etiquetado utilizando los siguientes comandos:"
   ]
  },
  {
   "cell_type": "code",
   "execution_count": 1,
   "metadata": {},
   "outputs": [],
   "source": [
    "import nltk\n",
    "from nltk.corpus import senseval"
   ]
  },
  {
   "cell_type": "code",
   "execution_count": 2,
   "metadata": {},
   "outputs": [],
   "source": [
    "#nltk.download('senseval')"
   ]
  },
  {
   "cell_type": "markdown",
   "metadata": {},
   "source": [
    "El corpus Senseval 2 contiene datos etiquetados que sirven para entrenar un clasificador que permita desambiguar el sentido de las palabras. Cada elemento del corpus Senseval 2 se corresponde a una palabra ambigua, concretamente a las palabras en inglés *«hard»*, *«interest»*, *«line»* y *«serve»*, tal como se observa a través del siguiente comando:"
   ]
  },
  {
   "cell_type": "code",
   "execution_count": 3,
   "metadata": {
    "scrolled": true
   },
   "outputs": [
    {
     "data": {
      "text/plain": [
       "['hard.pos', 'interest.pos', 'line.pos', 'serve.pos']"
      ]
     },
     "execution_count": 3,
     "metadata": {},
     "output_type": "execute_result"
    }
   ],
   "source": [
    "senseval.fileids()"
   ]
  },
  {
   "cell_type": "markdown",
   "metadata": {},
   "source": [
    "El archivo 'hard.pos' que contiene las instancias de la palabra *«hard»* tiene el siguiente formato:\n",
    "\n",
    "```xml\n",
    "\n",
    "<corpus lang=\"en\">\n",
    "\n",
    "<lexelt item=\"hard-a\">\n",
    "\n",
    "<instance id=\"hard-a.sjm-274_1:\">\n",
    "\n",
    "<answer instance=\"hard-a.sjm-274_1:\" senseid=\"HARD1\"/>\n",
    "\n",
    "<context>\n",
    "\n",
    " <wf pos=\"``\">``</wf> <wf pos=\"PRP\">he</wf> <wf pos=\"MD\">may</wf> <wf pos=\"VB\">lose</wf> <wf pos=\"DT\">all</wf> <wf pos=\"JJ\">popular</wf> <wf pos=\"NN\">support</wf> <wf pos=\",\">,</wf> <wf pos=\"CC\">but</wf> <wf pos=\"NN\">someone</wf> <wf pos=\"VBZ\">has</wf> <wf pos=\"TO\">to</wf> <wf pos=\"VB\">kill</wf> <wf pos=\"PRP\">him</wf> <wf pos=\"TO\">to</wf> <wf pos=\"VB\">defeat</wf> <wf pos=\"PRP\">him</wf> <wf pos=\"CC\">and</wf> <wf pos=\"DT\">that</wf> <wf pos=\"VBZ\">'s</wf> <head> <wf pos=\"JJ\">hard</wf></head> <wf pos=\"TO\">to</wf> <wf pos=\"VB\">do</wf> <wf pos=\".\">.</wf> <wf pos=\"''\">''</wf> \n",
    "</context>\n",
    "\n",
    "</instance>\n",
    "\n",
    "<instance id=\"hard-a.sjm-014_1:\">\n",
    "\n",
    "<answer instance=\"hard-a.sjm-014_1:\" senseid=\"HARD1\"/>\n",
    "\n",
    "<context>\n",
    "\n",
    " <wf pos=\"NNP\">clever</wf> <wf pos=\"NNP\">white</wf> <wf pos=\"NNP\">house</wf> <wf pos=\"``\">``</wf> <wf pos=\"VB\">spin</wf> <wf pos=\"NNS\">doctors</wf> <wf pos=\"''\">''</wf> <wf pos=\"VBP\">are</wf> <wf pos=\"VBG\">having</wf> <wf pos=\"DT\">a</wf> <head> <wf pos=\"JJ\">hard</wf></head> <wf pos=\"NN\">time</wf> <wf pos=\"VBG\">helping</wf> <wf pos=\"NNP\">president</wf> <wf pos=\"NNP\">bush</wf> <wf pos=\"VB\">explain</wf> <wf pos=\"RB\">away</wf> <wf pos=\"DT\">the</wf> <wf pos=\"JJ\">economic</wf> <wf pos=\"NN\">bashing</wf> <wf pos=\"IN\">that</wf> <wf pos=\"JJ\">low-and</wf> <wf pos=\"JJ\">middle-income</wf> <wf pos=\"NNS\">workers</wf> <wf pos=\"VBP\">are</wf> <wf pos=\"VBG\">taking</wf> <wf pos=\"DT\">these</wf> <wf pos=\"NNS\">days</wf> <wf pos=\".\">.</wf> \n",
    "</context>\n",
    "\n",
    "</instance>\n",
    "\n",
    "</lexelt>\n",
    "\n",
    "</corpus>\n",
    "```"
   ]
  },
  {
   "cell_type": "markdown",
   "metadata": {},
   "source": [
    "Para cada una de las palabras ambiguas, el corpus contiene una lista de instancias correspondientes a las ocurrencias de esa palabra. Para cada instancia se proporciona la palabra, una lista de sentidos que se aplican a la aparición de esa palabra y el contexto de la palabra. "
   ]
  },
  {
   "cell_type": "markdown",
   "metadata": {},
   "source": [
    "El comando utilizado para visualizar la información que contiene cada instancia de la palabra ambigua *«hard»* es:"
   ]
  },
  {
   "cell_type": "code",
   "execution_count": 4,
   "metadata": {},
   "outputs": [
    {
     "data": {
      "text/plain": [
       "SensevalInstance(word='hard-a', position=20, context=[('``', '``'), ('he', 'PRP'), ('may', 'MD'), ('lose', 'VB'), ('all', 'DT'), ('popular', 'JJ'), ('support', 'NN'), (',', ','), ('but', 'CC'), ('someone', 'NN'), ('has', 'VBZ'), ('to', 'TO'), ('kill', 'VB'), ('him', 'PRP'), ('to', 'TO'), ('defeat', 'VB'), ('him', 'PRP'), ('and', 'CC'), ('that', 'DT'), (\"'s\", 'VBZ'), ('hard', 'JJ'), ('to', 'TO'), ('do', 'VB'), ('.', '.'), (\"''\", \"''\")], senses=('HARD1',))"
      ]
     },
     "execution_count": 4,
     "metadata": {},
     "output_type": "execute_result"
    }
   ],
   "source": [
    "senseval.instances('hard.pos')[0]"
   ]
  },
  {
   "cell_type": "code",
   "execution_count": 5,
   "metadata": {},
   "outputs": [
    {
     "data": {
      "text/plain": [
       "SensevalInstance(word='line-n', position=30, context=[('desk', 'NNP'), ('traders', 'NNS'), ('said', 'VBD'), ('selling', 'VBG'), ('by', 'IN'), ('several', 'JJ'), ('fund', 'NN'), ('groups', 'NNS'), ('contributed', 'VBD'), ('to', 'TO'), ('the', 'DT'), ('market', 'NN'), (\"'s\", 'POS'), ('decline', 'NN'), ('.', '.'), ('many', 'JJ'), ('fund', 'NN'), ('managers', 'NNS'), ('--', ':'), ('including', 'VBG'), ('those', 'DT'), ('with', 'IN'), ('high', 'JJ'), ('cash', 'NN'), ('reserves', 'NNS'), ('--', ':'), ('are', 'VBP'), ('walking', 'VBG'), ('a', 'DT'), ('thin', 'JJ'), ('line', 'NN'), ('.', '.')], senses=('division',))"
      ]
     },
     "execution_count": 5,
     "metadata": {},
     "output_type": "execute_result"
    }
   ],
   "source": [
    "inst = senseval.instances('line.pos')[500]\n",
    "inst"
   ]
  },
  {
   "cell_type": "code",
   "execution_count": 6,
   "metadata": {},
   "outputs": [
    {
     "data": {
      "text/plain": [
       "'line-n'"
      ]
     },
     "execution_count": 6,
     "metadata": {},
     "output_type": "execute_result"
    }
   ],
   "source": [
    "inst.word"
   ]
  },
  {
   "cell_type": "markdown",
   "metadata": {},
   "source": [
    "Por ejemplo, en la primera instancia (`SensevalInstance`) la palabra ambigua (`word`) es `‘hard-a’`, lo que indica que la palabra es `‘hard’` y en este caso la categoría gramatical es un adjetivo, identificado por el sufijo `‘-a’`."
   ]
  },
  {
   "cell_type": "code",
   "execution_count": 7,
   "metadata": {},
   "outputs": [
    {
     "data": {
      "text/plain": [
       "'line-n'"
      ]
     },
     "execution_count": 7,
     "metadata": {},
     "output_type": "execute_result"
    }
   ],
   "source": [
    "inst.word"
   ]
  },
  {
   "cell_type": "markdown",
   "metadata": {},
   "source": [
    "El campo `position` indica la posición en la oración en la que se encuentra la palabra ambigua, en este caso la palabra `‘hard’` se encuentra en la posición 20."
   ]
  },
  {
   "cell_type": "code",
   "execution_count": 8,
   "metadata": {},
   "outputs": [
    {
     "data": {
      "text/plain": [
       "30"
      ]
     },
     "execution_count": 8,
     "metadata": {},
     "output_type": "execute_result"
    }
   ],
   "source": [
    "inst.position"
   ]
  },
  {
   "cell_type": "markdown",
   "metadata": {},
   "source": [
    "El campo `context` representa el contexto, es decir, la oración en la que se encuentra la palabra ambigua, en este ejemplo *«\"he may lose all popular support, but someone has to kill him to defeat him and that's hard to do.\"»*."
   ]
  },
  {
   "cell_type": "code",
   "execution_count": 9,
   "metadata": {},
   "outputs": [
    {
     "data": {
      "text/plain": [
       "[('desk', 'NNP'),\n",
       " ('traders', 'NNS'),\n",
       " ('said', 'VBD'),\n",
       " ('selling', 'VBG'),\n",
       " ('by', 'IN'),\n",
       " ('several', 'JJ'),\n",
       " ('fund', 'NN'),\n",
       " ('groups', 'NNS'),\n",
       " ('contributed', 'VBD'),\n",
       " ('to', 'TO'),\n",
       " ('the', 'DT'),\n",
       " ('market', 'NN'),\n",
       " (\"'s\", 'POS'),\n",
       " ('decline', 'NN'),\n",
       " ('.', '.'),\n",
       " ('many', 'JJ'),\n",
       " ('fund', 'NN'),\n",
       " ('managers', 'NNS'),\n",
       " ('--', ':'),\n",
       " ('including', 'VBG'),\n",
       " ('those', 'DT'),\n",
       " ('with', 'IN'),\n",
       " ('high', 'JJ'),\n",
       " ('cash', 'NN'),\n",
       " ('reserves', 'NNS'),\n",
       " ('--', ':'),\n",
       " ('are', 'VBP'),\n",
       " ('walking', 'VBG'),\n",
       " ('a', 'DT'),\n",
       " ('thin', 'JJ'),\n",
       " ('line', 'NN'),\n",
       " ('.', '.')]"
      ]
     },
     "execution_count": 9,
     "metadata": {},
     "output_type": "execute_result"
    }
   ],
   "source": [
    "inst.context"
   ]
  },
  {
   "cell_type": "markdown",
   "metadata": {},
   "source": [
    "El contexto viene representado por pares formados por una palabra y la correspondiente etiqueta gramatical. Por ejemplo, el par `(‘he’, ‘PRP’)` que aparece en el contexto indica que la categoría gramatical asociada a la palabra `‘he’` es un pronombre personal `‘PRP’`. "
   ]
  },
  {
   "cell_type": "code",
   "execution_count": 10,
   "metadata": {},
   "outputs": [
    {
     "data": {
      "text/plain": [
       "('said', 'VBD')"
      ]
     },
     "execution_count": 10,
     "metadata": {},
     "output_type": "execute_result"
    }
   ],
   "source": [
    "inst.context[2]"
   ]
  },
  {
   "cell_type": "markdown",
   "metadata": {},
   "source": [
    "Por último, el campo `senses` contiene los posibles sentidos de la palabra ambigua, en el ejemplo `‘HARD1’`."
   ]
  },
  {
   "cell_type": "code",
   "execution_count": 11,
   "metadata": {},
   "outputs": [
    {
     "data": {
      "text/plain": [
       "('division',)"
      ]
     },
     "execution_count": 11,
     "metadata": {},
     "output_type": "execute_result"
    }
   ],
   "source": [
    "inst.senses"
   ]
  },
  {
   "cell_type": "markdown",
   "metadata": {},
   "source": [
    "Los sentidos del corpus hacen referencia a los sentidos de la palabra recogidos en la base de datos de relaciones léxicas WordNet."
   ]
  },
  {
   "cell_type": "markdown",
   "metadata": {},
   "source": [
    "En este caso `‘HARD1’` hace referencia la primera definición de la palabra `‘hard’` que aparece en WordNet *«difficult, hard (not easy; requiring great physical or mental effort to accomplish or comprehend or endure)»*, lo que en español sería difícil, algo que presenta obstáculos y por lo tanto no es fácil. \n",
    "Esta información se puede obtener utilizando el interfaz de búsqueda web de WordNet:\n",
    "http://wordnetweb.princeton.edu/perl/webwn"
   ]
  },
  {
   "cell_type": "markdown",
   "metadata": {},
   "source": [
    "Nota: NLTK implementa también un lector para la información disponible en la base de datos de relaciones léxicas WordNet. Aunque no es necesario para realizar esta actividad de laboratorio, WordNet se puede importar utilizando el siguiente comando:"
   ]
  },
  {
   "cell_type": "code",
   "execution_count": 12,
   "metadata": {},
   "outputs": [],
   "source": [
    "from nltk.corpus import wordnet"
   ]
  },
  {
   "cell_type": "markdown",
   "metadata": {},
   "source": [
    "Ejemplo de WordNet:"
   ]
  },
  {
   "cell_type": "code",
   "execution_count": 13,
   "metadata": {},
   "outputs": [
    {
     "data": {
      "text/plain": [
       "[Synset('difficult.a.01'),\n",
       " Synset('hard.a.02'),\n",
       " Synset('hard.a.03'),\n",
       " Synset('hard.s.04'),\n",
       " Synset('arduous.s.01'),\n",
       " Synset('unvoiced.a.01'),\n",
       " Synset('hard.a.07'),\n",
       " Synset('hard.a.08'),\n",
       " Synset('intemperate.s.03'),\n",
       " Synset('hard.s.10'),\n",
       " Synset('hard.s.11'),\n",
       " Synset('hard.s.12'),\n",
       " Synset('hard.r.01'),\n",
       " Synset('hard.r.02'),\n",
       " Synset('hard.r.03'),\n",
       " Synset('hard.r.04'),\n",
       " Synset('hard.r.05'),\n",
       " Synset('heavily.r.07'),\n",
       " Synset('hard.r.07'),\n",
       " Synset('hard.r.08'),\n",
       " Synset('hard.r.09'),\n",
       " Synset('hard.r.10')]"
      ]
     },
     "execution_count": 13,
     "metadata": {},
     "output_type": "execute_result"
    }
   ],
   "source": [
    "wordnet.synsets('hard')"
   ]
  },
  {
   "cell_type": "code",
   "execution_count": 14,
   "metadata": {},
   "outputs": [
    {
     "data": {
      "text/plain": [
       "['difficult', 'hard']"
      ]
     },
     "execution_count": 14,
     "metadata": {},
     "output_type": "execute_result"
    }
   ],
   "source": [
    "wordnet.synset('hard.a.01').lemma_names()"
   ]
  },
  {
   "cell_type": "code",
   "execution_count": 15,
   "metadata": {},
   "outputs": [
    {
     "data": {
      "text/plain": [
       "'not easy; requiring great physical or mental effort to accomplish or comprehend or endure'"
      ]
     },
     "execution_count": 15,
     "metadata": {},
     "output_type": "execute_result"
    }
   ],
   "source": [
    "wordnet.synset('hard.a.01').definition()"
   ]
  },
  {
   "cell_type": "markdown",
   "metadata": {},
   "source": [
    "En este laboratorio vas a trabajar con algoritmos basados en aprendizaje automático supervisado, por lo tanto, vas a tener que a aprender diferentes clasificadores que permitan desambiguar las palabras ambiguas en inglés «hard», «interest», «line» y «serve», y vas a tener que evaluar el desempeño de los clasificadores creados. \n",
    "\n",
    "Las diferentes partes que forman este laboratorio se indican a continuación."
   ]
  },
  {
   "cell_type": "markdown",
   "metadata": {},
   "source": [
    "## Parte 1: análisis del corpus\n",
    "\n",
    "Analiza el corpus Senseval 2 que vas a utilizar para entrenar los clasificadores. Para realizar el análisis utiliza las funcionalidades que aporta NLTK. Desarrolla el código necesario y responde a las siguientes preguntas.\n",
    "\n",
    "* ¿Cuántos posibles sentidos tiene cada palabra ambigua? ¿Cuáles son esos sentidos? Para cada sentido indica la etiqueta que aparece en el corpus y su definición según WordNet."
   ]
  },
  {
   "cell_type": "code",
   "execution_count": 16,
   "metadata": {},
   "outputs": [
    {
     "data": {
      "text/plain": [
       "SensevalInstance(word='hard-a', position=20, context=[('``', '``'), ('he', 'PRP'), ('may', 'MD'), ('lose', 'VB'), ('all', 'DT'), ('popular', 'JJ'), ('support', 'NN'), (',', ','), ('but', 'CC'), ('someone', 'NN'), ('has', 'VBZ'), ('to', 'TO'), ('kill', 'VB'), ('him', 'PRP'), ('to', 'TO'), ('defeat', 'VB'), ('him', 'PRP'), ('and', 'CC'), ('that', 'DT'), (\"'s\", 'VBZ'), ('hard', 'JJ'), ('to', 'TO'), ('do', 'VB'), ('.', '.'), (\"''\", \"''\")], senses=('HARD1',))"
      ]
     },
     "execution_count": 16,
     "metadata": {},
     "output_type": "execute_result"
    }
   ],
   "source": [
    "senseval.instances('hard.pos')[0]"
   ]
  },
  {
   "cell_type": "code",
   "execution_count": 17,
   "metadata": {},
   "outputs": [
    {
     "data": {
      "text/plain": [
       "SensevalInstance(word='hard-a', position=6, context=[('he', 'PRP'), ('said', 'VBD'), ('tuesday', 'NNP'), ('there', 'EX'), ('are', 'VBP'), ('no', 'DT'), ('hard', 'JJ'), ('feelings', 'NNS'), ('.', '.')], senses=('HARD2',))"
      ]
     },
     "execution_count": 17,
     "metadata": {},
     "output_type": "execute_result"
    }
   ],
   "source": [
    "senseval.instances('hard.pos')[3500]"
   ]
  },
  {
   "cell_type": "code",
   "execution_count": 18,
   "metadata": {},
   "outputs": [
    {
     "data": {
      "text/plain": [
       "SensevalInstance(word='hard-a', position=22, context=[('becker', 'NNP'), ('matched', 'VBD'), ('lendl', 'NNP'), (\"'s\", 'POS'), ('nine', 'CD'), ('aces', 'NNS'), ('but', 'CC'), ('won', 'VBD'), ('this', 'DT'), ('match', 'NN'), ('with', 'IN'), ('his', 'PRP$'), ('more', 'RBR'), ('dynamic', 'JJ'), ('net', 'JJ'), ('play', 'NN'), (',', ','), ('diving', 'VBG'), ('and', 'CC'), ('rolling', 'VBG'), ('on', 'IN'), ('the', 'DT'), ('hard', 'JJ'), ('court', 'NN'), ('as', 'IN'), ('if', 'IN'), ('frolicking', 'VBG'), ('on', 'IN'), ('grass', 'NN'), ('.', '.')], senses=('HARD3',))"
      ]
     },
     "execution_count": 18,
     "metadata": {},
     "output_type": "execute_result"
    }
   ],
   "source": [
    "senseval.instances('hard.pos')[4000]"
   ]
  },
  {
   "cell_type": "markdown",
   "metadata": {},
   "source": [
    "## Para encontrar los posibles sentidos de cada palabra ambigua, basta con iterar cada instancia de cada palabra ambigua, guardar el campo de \"senses\" correspondiente a los sentidos de cada palabra ambigua, estos sentidos-almacenar en una lista. Al final solo eliminamos las repeteciones mediante el comano set"
   ]
  },
  {
   "cell_type": "code",
   "execution_count": 19,
   "metadata": {},
   "outputs": [
    {
     "name": "stdout",
     "output_type": "stream",
     "text": [
      "Numero de sentidos para la paralbra ambigua hard  :  3 \n",
      "    Etiquetas de  sentidos son :  {('HARD2',), ('HARD3',), ('HARD1',)}\n",
      "Numero de sentidos para la paralbra ambigua interest  :  6 \n",
      "    Etiquetas de  sentidos son :  {('interest_6',), ('interest_5',), ('interest_2',), ('interest_4',), ('interest_3',), ('interest_1',)}\n",
      "Numero de sentidos para la paralbra ambigua line  :  6 \n",
      "    Etiquetas de  sentidos son :  {('phone',), ('division',), ('formation',), ('cord',), ('text',), ('product',)}\n",
      "Numero de sentidos para la paralbra ambigua serve  :  4 \n",
      "    Etiquetas de  sentidos son :  {('SERVE6',), ('SERVE10',), ('SERVE2',), ('SERVE12',)}\n"
     ]
    }
   ],
   "source": [
    "#MI CODIGO AQUI\n",
    "for num in range(len(senseval.fileids())):\n",
    "    inst = senseval.instances(senseval.fileids()[num])\n",
    "    sense = []\n",
    "    for i in inst:\n",
    "        sense.append(i.senses)\n",
    "    print(\"Numero de sentidos para la paralbra ambigua\",senseval.fileids()[num][:-4],\" : \", len(set(sense)),\"\\n    Etiquetas de  sentidos son : \",set(sense))"
   ]
  },
  {
   "cell_type": "markdown",
   "metadata": {},
   "source": [
    "## DEFINICION SEGUN WORDNET"
   ]
  },
  {
   "cell_type": "markdown",
   "metadata": {},
   "source": [
    "### Del laboratorio sabemos que cada sentido de la palabra ambigua corresponde al nivel de definicion segun la base de wordnet"
   ]
  },
  {
   "cell_type": "markdown",
   "metadata": {},
   "source": [
    "### Como es posible observar existe un problema en la definicion de sentidos para la palabra line, por lo cual debemos realizar una busqueda de los sentidos que tenemos en el corpus con cada una de las deficiones que tiene wordnet"
   ]
  },
  {
   "cell_type": "code",
   "execution_count": 20,
   "metadata": {},
   "outputs": [
    {
     "name": "stdout",
     "output_type": "stream",
     "text": [
      "Synset('line.n.01')     a formation of people or things one beside another\n",
      "Synset('line.n.02')     a mark that is long relative to its width\n",
      "Synset('line.n.03')     a formation of people or things one behind another\n",
      "Synset('line.n.04')     a length (straight or curved) without breadth or thickness; the trace of a moving point\n",
      "Synset('line.n.05')     text consisting of a row of words written across a page or computer screen\n",
      "Synset('line.n.06')     a single frequency (or very narrow band) of radiation in a spectrum\n",
      "Synset('line.n.07')     a fortified position (especially one marking the most forward position of troops)\n",
      "Synset('argumentation.n.02')     a course of reasoning aimed at demonstrating a truth or falsehood; the methodical process of logical reasoning\n",
      "Synset('cable.n.02')     a conductor for transmitting electrical or optical signals or electric power\n",
      "Synset('course.n.02')     a connected series of events or actions or developments\n",
      "Synset('line.n.11')     a spatial location defined by a real or imaginary unidimensional extent\n",
      "Synset('wrinkle.n.01')     a slight depression in the smoothness of a surface\n",
      "Synset('pipeline.n.02')     a pipe used to transport liquids or gases\n",
      "Synset('line.n.14')     the road consisting of railroad track and roadbed\n",
      "Synset('telephone_line.n.02')     a telephone connection\n",
      "Synset('line.n.16')     acting in conformity\n",
      "Synset('lineage.n.01')     the descendants of one individual\n",
      "Synset('line.n.18')     something (as a cord or rope) that is long and thin and flexible\n",
      "Synset('occupation.n.01')     the principal activity in your life that you do to earn money\n",
      "Synset('line.n.20')     in games or sports; a mark indicating positions or bounds of the playing area\n",
      "Synset('channel.n.05')     (often plural) a means of communication or access\n",
      "Synset('line.n.22')     a particular kind of product or merchandise\n",
      "Synset('line.n.23')     a commercial organization serving as a common carrier\n",
      "Synset('agate_line.n.01')     space for one line of print (one column wide and 1/14 inch deep) used to measure advertising\n",
      "Synset('credit_line.n.01')     the maximum credit that a customer is allowed\n",
      "Synset('tune.n.01')     a succession of notes forming a distinctive sequence\n",
      "Synset('line.n.27')     persuasive but insincere talk that is usually intended to deceive or impress\n",
      "Synset('note.n.02')     a short personal letter\n",
      "Synset('line.n.29')     a conceptual separation or distinction\n",
      "Synset('production_line.n.01')     mechanical system in a factory whereby an article is conveyed through sites at which successive operations are performed on it\n",
      "Synset('line.v.01')     be in line with; form a line along\n",
      "Synset('line.v.02')     cover the interior of\n",
      "Synset('trace.v.02')     make a mark or lines on a surface\n",
      "Synset('line.v.04')     mark with lines\n",
      "Synset('line.v.05')     fill plentifully\n",
      "Synset('line.v.06')     reinforce with fabric\n"
     ]
    }
   ],
   "source": [
    "for i in wordnet.synsets('line'):\n",
    "    print(i,\"   \",i.definition())"
   ]
  },
  {
   "cell_type": "markdown",
   "metadata": {},
   "source": [
    "### Ya encontradado cada significado segun wordnet, procedo a mostrar estos usando los comandos de nltk para wortnet"
   ]
  },
  {
   "cell_type": "code",
   "execution_count": 21,
   "metadata": {},
   "outputs": [
    {
     "name": "stdout",
     "output_type": "stream",
     "text": [
      "HARD: \n",
      "    hard 1 :  not easy; requiring great physical or mental effort to accomplish or comprehend or endure\n",
      "    hard 2 :  dispassionate\n",
      "    hard 3 :  resisting weight or pressure\n",
      "interest: \n",
      "    interest 1 :  a sense of concern with and curiosity about someone or something\n",
      "    interest 2 :  a reason for wanting something done\n",
      "    interest 3 :  the power of attracting or holding one's attention (because it is unusual or exciting etc.)\n",
      "    interest 4 :  a fixed charge for borrowing money; usually a percentage of the amount borrowed\n",
      "    interest 5 :  (law) a right or legal share of something; a financial involvement with something\n",
      "    interest 6 :  (usually plural) a social group whose members control some field of activity and who have common aims\n",
      "line: \n",
      "    chord :  a conductor for transmitting electrical or optical signals or electric power\n",
      "    text :  text consisting of a row of words written across a page or computer screen\n",
      "    product :  mechanical system in a factory whereby an article is conveyed through sites at which successive operations are performed on it\n",
      "    division :  a conceptual separation or distinction\n",
      "    phone :  a telephone connection\n",
      "    formation :  a formation of people or things one beside another\n",
      "SERVE: \n",
      "    SERVE 2 :  do duty or hold offices; serve in a specific function\n",
      "    SERVE 6 :  provide (usually but not necessarily food)\n",
      "    SERVE 10 :  work for or be a servant to\n",
      "    SERVE 12 :  be sufficient; be adequate, either in quality or quantity\n"
     ]
    }
   ],
   "source": [
    "print(\"HARD: \")\n",
    "print(\"    hard 1 : \",wordnet.synset('hard.a.01').definition())\n",
    "print(\"    hard 2 : \",wordnet.synset('hard.a.02').definition())\n",
    "print(\"    hard 3 : \",wordnet.synset('hard.a.03').definition())\n",
    "\n",
    "print(\"interest: \")\n",
    "print(\"    interest 1 : \",wordnet.synset('interest.n.01').definition())\n",
    "print(\"    interest 2 : \",wordnet.synset('interest.n.02').definition())\n",
    "print(\"    interest 3 : \",wordnet.synset('interest.n.03').definition())\n",
    "print(\"    interest 4 : \",wordnet.synset('interest.n.04').definition())\n",
    "print(\"    interest 5 : \",wordnet.synset('interest.n.05').definition())\n",
    "print(\"    interest 6 : \",wordnet.synset('interest.n.06').definition())\n",
    "\n",
    "print(\"line: \")\n",
    "print(\"    chord : \",wordnet.synset('cable.n.02').definition())\n",
    "print(\"    text : \",wordnet.synset('line.n.05').definition())\n",
    "print(\"    product : \",wordnet.synset('production_line.n.01').definition())\n",
    "print(\"    division : \",wordnet.synset('line.n.29').definition())\n",
    "print(\"    phone : \",wordnet.synset('telephone_line.n.02').definition())\n",
    "print(\"    formation : \",wordnet.synset('line.n.01').definition())\n",
    "\n",
    "print(\"SERVE: \")\n",
    "print(\"    SERVE 2 : \",wordnet.synset('serve.v.02').definition())\n",
    "print(\"    SERVE 6 : \",wordnet.synset('serve.v.06').definition())\n",
    "print(\"    SERVE 10 : \",wordnet.synset('serve.v.10').definition())\n",
    "print(\"    SERVE 12 : \",wordnet.synset('serve.v.12').definition())\n"
   ]
  },
  {
   "cell_type": "markdown",
   "metadata": {},
   "source": [
    "* ¿Cuántas instancias hay en el corpus para cada uno de los sentidos de las palabras ambiguas? Es decir, cuantas oraciones hay en el corpus etiquetadas con cada uno de los sentidos."
   ]
  },
  {
   "cell_type": "markdown",
   "metadata": {},
   "source": [
    "### Para encontrar el numero de instancias ocupo un codigo similar al de la primera pregunta,\n",
    "\n",
    "    Almaceno cada uno de los sentidos en cada instancia de cada una de las palabras ambiguas , luego mediante la funcion \"counter\" de la libreria collections la cual me permite contar  el numero de instancias de cada sentido procedo a mostrar en pantalla "
   ]
  },
  {
   "cell_type": "code",
   "execution_count": 22,
   "metadata": {},
   "outputs": [
    {
     "name": "stdout",
     "output_type": "stream",
     "text": [
      "Numero de instancas para cada sentido de la palabra  hard \n",
      "    son :  Counter({('HARD1',): 3455, ('HARD2',): 502, ('HARD3',): 376})\n",
      "Numero de instancas para cada sentido de la palabra  interest \n",
      "    son :  Counter({('interest_6',): 1252, ('interest_5',): 500, ('interest_1',): 361, ('interest_4',): 178, ('interest_3',): 66, ('interest_2',): 11})\n",
      "Numero de instancas para cada sentido de la palabra  line \n",
      "    son :  Counter({('product',): 2217, ('phone',): 429, ('text',): 404, ('division',): 374, ('cord',): 373, ('formation',): 349})\n",
      "Numero de instancas para cada sentido de la palabra  serve \n",
      "    son :  Counter({('SERVE10',): 1814, ('SERVE12',): 1272, ('SERVE2',): 853, ('SERVE6',): 439})\n"
     ]
    }
   ],
   "source": [
    "from collections import Counter\n",
    "\n",
    "for num in range(len(senseval.fileids())):\n",
    "    inst = senseval.instances(senseval.fileids()[num])\n",
    "    sense = []\n",
    "    for i in inst:\n",
    "        sense.append(i.senses)\n",
    "    print(\"Numero de instancas para cada sentido de la palabra \",senseval.fileids()[num][:-4], \"\\n    son : \", Counter(sense))"
   ]
  },
  {
   "cell_type": "markdown",
   "metadata": {},
   "source": [
    "* En el contexto, las palabras ambiguas pueden aparecer en diferentes formas gramaticales. Por ejemplo, en el caso de la palabra ambigua *«hard»*, esta aparece tanto la forma base, el adjetivo *«hard»* como en comparativo *«harder»* y como en superlativo *«hardest»*. ¿Qué formas gramaticales aparecen en el contexto para cada una de las palabas ambiguas?"
   ]
  },
  {
   "cell_type": "code",
   "execution_count": 23,
   "metadata": {},
   "outputs": [],
   "source": [
    "inst_harder = senseval.instances('hard.pos')[4]"
   ]
  },
  {
   "cell_type": "code",
   "execution_count": 24,
   "metadata": {},
   "outputs": [
    {
     "data": {
      "text/plain": [
       "SensevalInstance(word='hard-a', position=66, context=[(\"'a\", 'NN'), ('great', 'JJ'), ('share', 'NN'), ('of', 'IN'), ('responsibility', 'NN'), ('for', 'IN'), ('this', 'DT'), ('national', 'JJ'), ('tragedy', 'NN'), ('unquestionably', 'RB'), ('lies', 'VBZ'), ('with', 'IN'), ('the', 'DT'), ('president', 'NN'), ('of', 'IN'), ('the', 'DT'), ('country', 'NN'), ('.', '.'), (\"'\", \"''\"), ('--', ':'), ('eduard', 'NNP'), ('shevardnadze', 'NNP'), (',', ','), ('former', 'JJ'), ('foreign', 'JJ'), ('minister', 'NN'), (';', ':'), (\"'we\", 'PRP'), ('are', 'VBP'), ('so', 'RB'), ('deep', 'JJ'), ('in', 'IN'), ('this', 'DT'), ('crisis', 'NN'), ('that', 'IN'), ('all', 'PDT'), ('this', 'DT'), ('business', 'NN'), ('about', 'IN'), ('leaving', 'VBG'), ('the', 'DT'), ('party', 'NN'), (',', ','), ('not', 'RB'), ('leaving', 'VBG'), ('the', 'DT'), ('party', 'NN'), ('--', ':'), ('that', 'WDT'), ('will', 'MD'), ('never', 'RB'), ('get', 'VB'), ('us', 'PRP'), ('out', 'IN'), ('.', '.'), (\"'\", \"''\"), ('--', ':'), ('natasha', 'NNP'), (',', ','), ('a', 'DT'), ('moscow', 'NNP'), ('bookkeeper', 'NN'), (';', ':'), (\"'our\", 'NN'), ('life', 'NN'), ('is', 'VBZ'), ('harder', 'JJ'), ('now', 'RB'), (',', ','), ('yes', 'UH'), (',', ','), ('but', 'CC'), ('it', 'PRP'), ('is', 'VBZ'), ('better', 'JJR'), ('to', 'TO'), ('be', 'VB'), ('hungry', 'JJ'), ('and', 'CC'), ('free', 'JJ'), ('.', '.'), (\"'\", \"''\"), ('--', ':'), ('lena', 'NNP'), ('sedykh', 'NNP'), (',', ','), ('a', 'DT'), ('moscow', 'NNP'), ('street', 'NN'), ('sweeper', 'NN'), (';', ':'), (\"'if\", 'NN'), ('you', 'PRP'), ('judge', 'VBP'), ('by', 'IN'), ('astrology', 'NN'), (',', ','), ('gorbachev', 'NNP'), ('is', 'VBZ'), ('cancer', 'NNP'), (',', ','), ('and', 'CC'), ('yeltsin', 'NNP'), ('and', 'CC'), ('russia', 'NNP'), ('are', 'VBP'), ('aquarius', 'NNP'), ('.', '.')], senses=('HARD1',))"
      ]
     },
     "execution_count": 24,
     "metadata": {},
     "output_type": "execute_result"
    }
   ],
   "source": [
    "inst_harder"
   ]
  },
  {
   "cell_type": "code",
   "execution_count": 25,
   "metadata": {},
   "outputs": [
    {
     "data": {
      "text/plain": [
       "('harder', 'JJ')"
      ]
     },
     "execution_count": 25,
     "metadata": {},
     "output_type": "execute_result"
    }
   ],
   "source": [
    "inst_harder.context[inst_harder.position]"
   ]
  },
  {
   "cell_type": "markdown",
   "metadata": {},
   "source": [
    "### Para encontrar las dieferentes formas gramaticales de cada palabra ambigua, es necesario iterar cada instancia y en cada iteracion, buscar la posicion de la palabra en el contexto, ya que en ella esta cada una de las formas, este valor almacenamos en una lista y al final con la ayuda del comando set, muestro cada una de las instancias mencionadas"
   ]
  },
  {
   "cell_type": "code",
   "execution_count": 26,
   "metadata": {},
   "outputs": [
    {
     "name": "stdout",
     "output_type": "stream",
     "text": [
      "Las formas gramaticalas para la palabra ambigua  hard \n",
      "   son : {('harder', 'JJ'), ('hard', 'JJ'), ('hardest', 'JJ')}\n",
      "Las formas gramaticalas para la palabra ambigua  interest \n",
      "   son : {('interest', 'NN'), ('interests', 'NNS')}\n",
      "Las formas gramaticalas para la palabra ambigua  line \n",
      "   son : {('lined', 'NN'), ('line', 'NN'), ('lines', 'NNS')}\n",
      "Las formas gramaticalas para la palabra ambigua  serve \n",
      "   son : {('serve', 'VB'), ('serving', 'VBG'), ('serves', 'VBZ'), ('served', 'VBD')}\n"
     ]
    }
   ],
   "source": [
    "for num in range(len(senseval.fileids())):\n",
    "    inst = senseval.instances(senseval.fileids()[num])\n",
    "    gramatical = []\n",
    "    for i in inst:\n",
    "        gramatical.append(i.context[i.position])\n",
    "    print(\"Las formas gramaticalas para la palabra ambigua \" , senseval.fileids()[num][:-4],'\\n   son :',set(gramatical))"
   ]
  },
  {
   "cell_type": "markdown",
   "metadata": {},
   "source": [
    "* ¿Tienen todas las instancias que forman el corpus el formato que se ha descrito anteriormente? Si hay alguna instancia que no cumpla con ese formato, indica cuales serían las incongruencias que presenta y muestra algunos ejemplos."
   ]
  },
  {
   "cell_type": "code",
   "execution_count": 27,
   "metadata": {},
   "outputs": [],
   "source": [
    "iii=senseval.instances('hard.pos')[999]"
   ]
  },
  {
   "cell_type": "code",
   "execution_count": 28,
   "metadata": {},
   "outputs": [
    {
     "data": {
      "text/plain": [
       "4333"
      ]
     },
     "execution_count": 28,
     "metadata": {},
     "output_type": "execute_result"
    }
   ],
   "source": [
    "len(senseval.instances('hard.pos'))"
   ]
  },
  {
   "cell_type": "code",
   "execution_count": 29,
   "metadata": {},
   "outputs": [],
   "source": [
    "errores = [[] for i in range(4)]\n",
    "for num in range(len(senseval.fileids())):\n",
    "    inst = senseval.instances(senseval.fileids()[num])\n",
    "    no_inst = []\n",
    "    aux=0\n",
    "    for i in inst:\n",
    "        try:\n",
    "            i.word\n",
    "            i.position\n",
    "            i.context\n",
    "            i.senses\n",
    "        except:\n",
    "            errores[num].append(aux)"
   ]
  },
  {
   "cell_type": "code",
   "execution_count": 30,
   "metadata": {},
   "outputs": [
    {
     "name": "stdout",
     "output_type": "stream",
     "text": [
      "[[], [], [], []]\n"
     ]
    }
   ],
   "source": [
    "print(errores)"
   ]
  },
  {
   "cell_type": "markdown",
   "metadata": {},
   "source": [
    "## He realizado un codigo de depuracion para verificar en todas las instancias de cada una de las palabras ambiguas con el fin de comprobar si cumplen con el formato de poseer (word, position,context, sense) mediante un manejo de errores try except!! encontrando que todas las instancias cumplen con el formato "
   ]
  },
  {
   "cell_type": "markdown",
   "metadata": {},
   "source": [
    "## Parte 2: extracción de características\n",
    "\n",
    "Para poder entrenar un clasificador es necesario extraer un conjunto de características lingüísticas a partir del corpus etiquetado. Por lo tanto, debes crear el código en Python que te permita extraer diferentes conjuntos de características a partir de Senseval 2. \n"
   ]
  },
  {
   "cell_type": "markdown",
   "metadata": {},
   "source": [
    "Debes extraer un **conjunto de características basado en las palabras vecinas**. Para una instancia del corpus, debes desarrollar el código que sea capaz de extraer el vector de características que indican si las palabras de un vocabulario aparecen o no en el contexto de la palabra ambigua."
   ]
  },
  {
   "cell_type": "markdown",
   "metadata": {},
   "source": [
    "Utiliza un diccionario en Python para guardar el conjunto de características, la clave del diccionario debe indicar el nombre de la posible palabra de contexto y el valor debe ser un booleano para indicar la aparición o no de las palabras en el contexto. Por ejemplo, el vector de características `{'contains(time)': False, 'contains(would)': False, 'contains(get)': False, 'contains(work)': True, 'contains(find)': False, 'contains(make)': False}` indica que en el contexto de la palabra ambigua aparece la palabra *«work»* y no aparecen las palabras *«time»*, *«would»*, *«get»*, *«time»* y *«make»*."
   ]
  },
  {
   "cell_type": "code",
   "execution_count": 31,
   "metadata": {},
   "outputs": [],
   "source": [
    "features_v = {}"
   ]
  },
  {
   "cell_type": "code",
   "execution_count": 32,
   "metadata": {},
   "outputs": [],
   "source": [
    "features_v['contains({})'.format('time')] = False\n",
    "features_v['contains({})'.format('would')] = False\n",
    "features_v['contains({})'.format('get')] = False\n",
    "features_v['contains({})'.format('work')] = True\n",
    "features_v['contains({})'.format('find')] = False\n",
    "features_v['contains({})'.format('make')] = False"
   ]
  },
  {
   "cell_type": "code",
   "execution_count": 33,
   "metadata": {},
   "outputs": [
    {
     "data": {
      "text/plain": [
       "{'contains(time)': False,\n",
       " 'contains(would)': False,\n",
       " 'contains(get)': False,\n",
       " 'contains(work)': True,\n",
       " 'contains(find)': False,\n",
       " 'contains(make)': False}"
      ]
     },
     "execution_count": 33,
     "metadata": {},
     "output_type": "execute_result"
    }
   ],
   "source": [
    "features_v"
   ]
  },
  {
   "cell_type": "markdown",
   "metadata": {},
   "source": [
    "En el cómputo del vector de características basado en las palabras vecinas debes utilizar como contexto la oración completa donde aparece la palabra ambigua. Es decir, todas las palabras que forman la oración guardada en el campo `context` de la instancia."
   ]
  },
  {
   "cell_type": "code",
   "execution_count": 34,
   "metadata": {},
   "outputs": [
    {
     "data": {
      "text/plain": [
       "[('clever', 'NNP'),\n",
       " ('white', 'NNP'),\n",
       " ('house', 'NNP'),\n",
       " ('``', '``'),\n",
       " ('spin', 'VB'),\n",
       " ('doctors', 'NNS'),\n",
       " (\"''\", \"''\"),\n",
       " ('are', 'VBP'),\n",
       " ('having', 'VBG'),\n",
       " ('a', 'DT'),\n",
       " ('hard', 'JJ'),\n",
       " ('time', 'NN'),\n",
       " ('helping', 'VBG'),\n",
       " ('president', 'NNP'),\n",
       " ('bush', 'NNP'),\n",
       " ('explain', 'VB'),\n",
       " ('away', 'RB'),\n",
       " ('the', 'DT'),\n",
       " ('economic', 'JJ'),\n",
       " ('bashing', 'NN'),\n",
       " ('that', 'IN'),\n",
       " ('low-and', 'JJ'),\n",
       " ('middle-income', 'JJ'),\n",
       " ('workers', 'NNS'),\n",
       " ('are', 'VBP'),\n",
       " ('taking', 'VBG'),\n",
       " ('these', 'DT'),\n",
       " ('days', 'NNS'),\n",
       " ('.', '.')]"
      ]
     },
     "execution_count": 34,
     "metadata": {},
     "output_type": "execute_result"
    }
   ],
   "source": [
    "senseval.instances('hard.pos')[1].context"
   ]
  },
  {
   "cell_type": "markdown",
   "metadata": {},
   "source": [
    "Para la instancia número uno, cuyo contexto se acaba de mostrar, el vector de características sería:\n",
    "\n",
    "`{'contains(time)': True,\n",
    " 'contains(would)': False,\n",
    " 'contains(get)': False, \n",
    " 'contains(work)': False, \n",
    " 'contains(find)': False, \n",
    " 'contains(make)': False}` "
   ]
  },
  {
   "cell_type": "markdown",
   "metadata": {},
   "source": [
    "Además, para obtener las características basadas en las palabras vecinas necesitas un vocabulario. En el ejemplo presentado antes, el vocabulario sobre el que se ha construido el vector de características es `['time', 'would', 'get', 'work', 'find', 'make']`. "
   ]
  },
  {
   "cell_type": "markdown",
   "metadata": {},
   "source": [
    "Vamos a utilizar como vocabulario las m palabras más frecuentes que aparecen en las instancias que conforman el conjunto de datos, es decir en las oraciones que contienen las palabras ambiguas y que forman parte del corpus. Entonces, para crear la *bag of words* (bolsa de palabras) debes extraer el conjunto de las m palabras más frecuentes. Para ello te puedes ayudar de la función `nltk.FreqDist()` que proporciona información sobre la distribución de frecuencias de las palabras que aparecen en un texto. "
   ]
  },
  {
   "cell_type": "markdown",
   "metadata": {},
   "source": [
    "Ejemplo del uso de la función `nltk.FreqDist()`: "
   ]
  },
  {
   "cell_type": "code",
   "execution_count": 35,
   "metadata": {},
   "outputs": [
    {
     "name": "stdout",
     "output_type": "stream",
     "text": [
      "*** Introductory Examples for the NLTK Book ***\n",
      "Loading text1, ..., text9 and sent1, ..., sent9\n",
      "Type the name of the text or sentence to view it.\n",
      "Type: 'texts()' or 'sents()' to list the materials.\n",
      "text1: Moby Dick by Herman Melville 1851\n",
      "text2: Sense and Sensibility by Jane Austen 1811\n",
      "text3: The Book of Genesis\n",
      "text4: Inaugural Address Corpus\n",
      "text5: Chat Corpus\n",
      "text6: Monty Python and the Holy Grail\n",
      "text7: Wall Street Journal\n",
      "text8: Personals Corpus\n",
      "text9: The Man Who Was Thursday by G . K . Chesterton 1908\n"
     ]
    },
    {
     "data": {
      "text/plain": [
       "[(',', 18713),\n",
       " ('the', 13721),\n",
       " ('.', 6862),\n",
       " ('of', 6536),\n",
       " ('and', 6024),\n",
       " ('a', 4569),\n",
       " ('to', 4542),\n",
       " (';', 4072),\n",
       " ('in', 3916),\n",
       " ('that', 2982)]"
      ]
     },
     "execution_count": 35,
     "metadata": {},
     "output_type": "execute_result"
    }
   ],
   "source": [
    "#nltk.download('webtext')\n",
    "#nltk.download('nps_chat')\n",
    "#nltk.download('inaugural')\n",
    "#nltk.download('genesis')\n",
    "#nltk.download('gutenberg')\n",
    "#nltk.download('treebank')\n",
    "\n",
    "from nltk.book import text1\n",
    "fd = nltk.FreqDist(text1)\n",
    "fd.most_common(10)"
   ]
  },
  {
   "cell_type": "markdown",
   "metadata": {},
   "source": [
    "Cuando obtengas las palabras más frecuentes, debes eliminar los signos que puntuación y las palabras vacías (aquellas sin significado como artículos, pronombres o preposiciones, las llamadas stop words en inglés). También debes eliminar las diferentes formas gramaticales de la palabra ambigua, por ejemplo, para desambiguar la palabra *«hard»* no tendría sentido utilizar la palabra *«harder»* ni la palabra *«hardest»*.\n",
    "\n",
    "El conjunto de palabras no útiles que debes eliminar del vocabulario se puede crear utilizando un código parecido al que se indica a continuación. Debes tener en cuenta que en este código faltaría añadir las palabras que has identificado en la Parte 1 de este laboratorio como las diferentes formas gramaticales de las palabras ambiguas."
   ]
  },
  {
   "cell_type": "code",
   "execution_count": 36,
   "metadata": {},
   "outputs": [],
   "source": [
    "from nltk.corpus import stopwords\n",
    "import string\n",
    "OTHER_WORDS = [\"''\", \"'d\", \"'ll\", \"'m\", \"'re\", \"'s\", \"'t\", \"'ve\", '--', '000', '1', '10', '2', 'I', '``', 'also', \"don'\", 'n', 'one', 'said', 'say', 'says', 'us']\n",
    "STOPWORDS_SET = set(stopwords.words('english')).union(set(string.punctuation), set(OTHER_WORDS))"
   ]
  },
  {
   "cell_type": "code",
   "execution_count": 37,
   "metadata": {},
   "outputs": [
    {
     "name": "stdout",
     "output_type": "stream",
     "text": [
      "[\"''\", \"'d\", \"'ll\", \"'m\", \"'re\", \"'s\", \"'t\", \"'ve\", '--', '000', '1', '10', '2', 'I', '``', 'also', \"don'\", 'n', 'one', 'said', 'say', 'says', 'us']\n"
     ]
    }
   ],
   "source": [
    "print(OTHER_WORDS)"
   ]
  },
  {
   "cell_type": "code",
   "execution_count": 38,
   "metadata": {
    "scrolled": true
   },
   "outputs": [
    {
     "name": "stdout",
     "output_type": "stream",
     "text": [
      "['i', 'me', 'my', 'myself', 'we', 'our', 'ours', 'ourselves', 'you', \"you're\", \"you've\", \"you'll\", \"you'd\", 'your', 'yours', 'yourself', 'yourselves', 'he', 'him', 'his', 'himself', 'she', \"she's\", 'her', 'hers', 'herself', 'it', \"it's\", 'its', 'itself', 'they', 'them', 'their', 'theirs', 'themselves', 'what', 'which', 'who', 'whom', 'this', 'that', \"that'll\", 'these', 'those', 'am', 'is', 'are', 'was', 'were', 'be', 'been', 'being', 'have', 'has', 'had', 'having', 'do', 'does', 'did', 'doing', 'a', 'an', 'the', 'and', 'but', 'if', 'or', 'because', 'as', 'until', 'while', 'of', 'at', 'by', 'for', 'with', 'about', 'against', 'between', 'into', 'through', 'during', 'before', 'after', 'above', 'below', 'to', 'from', 'up', 'down', 'in', 'out', 'on', 'off', 'over', 'under', 'again', 'further', 'then', 'once', 'here', 'there', 'when', 'where', 'why', 'how', 'all', 'any', 'both', 'each', 'few', 'more', 'most', 'other', 'some', 'such', 'no', 'nor', 'not', 'only', 'own', 'same', 'so', 'than', 'too', 'very', 's', 't', 'can', 'will', 'just', 'don', \"don't\", 'should', \"should've\", 'now', 'd', 'll', 'm', 'o', 're', 've', 'y', 'ain', 'aren', \"aren't\", 'couldn', \"couldn't\", 'didn', \"didn't\", 'doesn', \"doesn't\", 'hadn', \"hadn't\", 'hasn', \"hasn't\", 'haven', \"haven't\", 'isn', \"isn't\", 'ma', 'mightn', \"mightn't\", 'mustn', \"mustn't\", 'needn', \"needn't\", 'shan', \"shan't\", 'shouldn', \"shouldn't\", 'wasn', \"wasn't\", 'weren', \"weren't\", 'won', \"won't\", 'wouldn', \"wouldn't\"]\n"
     ]
    }
   ],
   "source": [
    "print(stopwords.words('english'))"
   ]
  },
  {
   "cell_type": "code",
   "execution_count": 39,
   "metadata": {},
   "outputs": [
    {
     "data": {
      "text/plain": [
       "'!\"#$%&\\'()*+,-./:;<=>?@[\\\\]^_`{|}~'"
      ]
     },
     "execution_count": 39,
     "metadata": {},
     "output_type": "execute_result"
    }
   ],
   "source": [
    "string.punctuation"
   ]
  },
  {
   "cell_type": "code",
   "execution_count": 40,
   "metadata": {
    "scrolled": true
   },
   "outputs": [
    {
     "name": "stdout",
     "output_type": "stream",
     "text": [
      "{'|', 'needn', 'had', 'each', ',', 'what', 'at', 'on', 'didn', 'for', 'an', 'll', \"she's\", \"don'\", 'have', 'm', 'but', \"that'll\", ']', 'ain', 'will', 're', 'she', 'being', 've', 'hers', ':', 'does', ';', 'the', 'those', 'few', 'one', 'himself', 'are', 'y', 'as', \"''\", 'only', 'where', \"'ll\", 'should', '\\\\', '{', 'his', 'doing', 'our', 'be', '`', 'd', 'from', \"it's\", \"don't\", 'shan', 'after', '#', 'they', \"you've\", 'with', 'her', \"didn't\", 'until', \"shan't\", '/', 'into', \"couldn't\", 'below', \"'m\", '&', 'all', '%', 'their', 'who', 'there', 'very', 'its', '~', 'been', 'is', 'mightn', '?', \"won't\", 'a', '[', 'do', 'then', 'above', 'I', \"should've\", 'did', 'couldn', \"you're\", '``', 'other', 'me', 'here', ')', \"hadn't\", 'ours', 'of', 'so', 'hadn', '1', \"isn't\", 'said', '2', '_', 'having', 't', \"hasn't\", 'o', 'and', 'we', 'yourselves', 'by', '(', 'aren', 'doesn', 'this', 'during', 'them', '@', '+', 'itself', '\"', 'about', 'down', 'wasn', 'which', 'to', 'theirs', 'in', 'any', 'some', \"'d\", 'ma', '$', '.', 'also', 'up', 'or', 'because', 'haven', 'while', '-', \"aren't\", 'before', 'further', 'most', 'weren', '>', \"'re\", 'your', 'nor', \"doesn't\", 'yourself', 'shouldn', 'than', 'out', 'n', 's', 'won', \"you'll\", 'themselves', 'whom', 'both', '000', 'how', 'under', '10', 'not', 'just', 'don', \"needn't\", 'herself', \"haven't\", \"shouldn't\", 'why', 'was', 'him', \"mustn't\", 'us', 'isn', 'he', 'yours', 'am', '^', '}', 'i', \"weren't\", 'now', 'off', 'wouldn', 'once', 'if', 'you', '=', '--', 'that', 'same', \"'\", 'between', 'again', 'too', 'mustn', '*', 'it', 'against', 'such', 'were', '<', \"you'd\", \"'t\", 'these', 'say', 'has', \"mightn't\", \"'s\", 'can', 'my', \"'ve\", 'hasn', 'myself', '!', \"wouldn't\", 'says', 'when', 'over', \"wasn't\", 'no', 'ourselves', 'through', 'own', 'more'}\n"
     ]
    }
   ],
   "source": [
    "print(STOPWORDS_SET)"
   ]
  },
  {
   "cell_type": "markdown",
   "metadata": {},
   "source": [
    "Por ejemplo, si se quiere entrenar un clasificador que permita identificar los diferentes sentidos de la palabra *«hard»* y se utilizan para entrenar y validar el modelo las instancias etiquetadas para esta palabra, la bolsa de palabras en el caso de considerar las seis palabras más frecuentes (*m=6*) sería la presentada anteriormente `['time', 'would', 'get', 'work', 'find', 'make']`."
   ]
  },
  {
   "cell_type": "markdown",
   "metadata": {},
   "source": [
    "Además de extraer un conjunto de características basado en las palabras vecinas, debes extraer también un **conjunto de características de colocación**. Para una instancia del corpus, debes desarrollar el código que sea capaz de extraer el vector de características formado por la secuencia de n palabras que ocurren antes de la palabra ambigua y la secuencia de n palabras que ocurren después de la palabra ambigua, los llamados n-gramas."
   ]
  },
  {
   "cell_type": "markdown",
   "metadata": {},
   "source": [
    "Utiliza un diccionario en Python para guardar el conjunto de características, la clave del diccionario debe indicar la secuencia de palabras de contexto y si aparecen antes o después de la palabra ambigua y el valor asociado a la clave debe ser un booleano verdadero. Por ejemplo, el vector de características `{'previous(have a)': True, 'next(time imagining)': True}` indica que antes de la palabra ambigua se encuentran las palabras *«have a»* y después de la palabra ambigua las palabras *«time imagining»*. En este caso, al tener secuencias de dos palabras (*n=2*), se están considerando bigramas y la ventana tendría tamaño cinco (*2n+1*). Por lo tanto, si la palabra ambigua es *«hard»* en el contexto guardado en el campo context de la instancia, aparece la siguiente parte de la frase «have a hard time imagining»."
   ]
  },
  {
   "cell_type": "code",
   "execution_count": 41,
   "metadata": {},
   "outputs": [],
   "source": [
    "features_c = {}"
   ]
  },
  {
   "cell_type": "code",
   "execution_count": 42,
   "metadata": {},
   "outputs": [],
   "source": [
    "features_c['previous(' + 'have' + ' a' + ')' ] = True\n",
    "features_c['next(' + 'time ' + 'imagining' + ')' ] = True"
   ]
  },
  {
   "cell_type": "code",
   "execution_count": 43,
   "metadata": {},
   "outputs": [
    {
     "data": {
      "text/plain": [
       "{'previous(have a)': True, 'next(time imagining)': True}"
      ]
     },
     "execution_count": 43,
     "metadata": {},
     "output_type": "execute_result"
    }
   ],
   "source": [
    "features_c"
   ]
  },
  {
   "cell_type": "code",
   "execution_count": 44,
   "metadata": {},
   "outputs": [
    {
     "data": {
      "text/plain": [
       "[('``', '``'),\n",
       " ('it', 'PRP'),\n",
       " (\"'s\", 'VBZ'),\n",
       " ('a', 'DT'),\n",
       " ('very', 'RB'),\n",
       " ('interesting', 'JJ'),\n",
       " ('place', 'NN'),\n",
       " ('to', 'TO'),\n",
       " ('work', 'VB'),\n",
       " (',', ','),\n",
       " ('but', 'CC'),\n",
       " ('i', 'PRP'),\n",
       " ('can', 'MD'),\n",
       " ('see', 'VB'),\n",
       " ('why', 'WRB'),\n",
       " ('some', 'DT'),\n",
       " ('people', 'NNS'),\n",
       " ('have', 'VBP'),\n",
       " ('a', 'DT'),\n",
       " ('hard', 'JJ'),\n",
       " ('time', 'NN'),\n",
       " ('imagining', 'VBG'),\n",
       " ('what', 'WP'),\n",
       " ('it', 'PRP'),\n",
       " (\"'s\", 'VBZ'),\n",
       " ('like', 'IN'),\n",
       " (',', ','),\n",
       " ('\"', '\"'),\n",
       " ('says', 'VBZ'),\n",
       " ('nate', 'NNP'),\n",
       " ('gossett', 'NNP'),\n",
       " ('.', '.')]"
      ]
     },
     "execution_count": 44,
     "metadata": {},
     "output_type": "execute_result"
    }
   ],
   "source": [
    "senseval.instances('hard.pos')[2737].context"
   ]
  },
  {
   "cell_type": "markdown",
   "metadata": {},
   "source": [
    "Debes tener en cuenta los posibles casos en los que la palabra ambigua aparezca al principio o final de la frase, ya que en esas instancias no vas a poder obtener una secuencia de palabras de longitud n. Por ejemplo, para la instancia cuyo contexto es: `[('some', 'DT'), ('hard', 'JJ'), ('choices', 'NNS'), ('had', 'VBD'), ('to', 'TO'), ('be', 'VB'), ('made', 'VBN'), …]` si n=2 deberías obtener el siguiente vector de características: `{'previous(some)': True, 'next(choices had)': True}`."
   ]
  },
  {
   "cell_type": "code",
   "execution_count": 45,
   "metadata": {},
   "outputs": [
    {
     "data": {
      "text/plain": [
       "[('some', 'DT'),\n",
       " ('hard', 'JJ'),\n",
       " ('choices', 'NNS'),\n",
       " ('had', 'VBD'),\n",
       " ('to', 'TO'),\n",
       " ('be', 'VB'),\n",
       " ('made', 'VBN'),\n",
       " (',', ','),\n",
       " ('and', 'CC'),\n",
       " ('gov', 'NNP'),\n",
       " ('.', '.'),\n",
       " ('engler', 'NNP'),\n",
       " ('decided', 'VBD'),\n",
       " ('the', 'DT'),\n",
       " ('money', 'NN'),\n",
       " ('available', 'JJ'),\n",
       " ('should', 'MD'),\n",
       " ('go', 'VB'),\n",
       " ('to', 'TO'),\n",
       " ('families', 'NNS'),\n",
       " ('and', 'CC'),\n",
       " ('children', 'NNS'),\n",
       " ('as', 'RB'),\n",
       " ('much', 'JJ'),\n",
       " ('as', 'IN'),\n",
       " ('possible', 'JJ'),\n",
       " ('.', '.'),\n",
       " (\"''\", \"''\")]"
      ]
     },
     "execution_count": 45,
     "metadata": {},
     "output_type": "execute_result"
    }
   ],
   "source": [
    "senseval.instances('hard.pos')[330].context"
   ]
  },
  {
   "cell_type": "markdown",
   "metadata": {},
   "source": [
    "Nota: aunque no es imprescindible para realizar esta actividad de laboratorio, puedes utilizar las funcionalidades para trabajar con n-gramas que ofrece NLTK. Estas se pueden importar utilizando el siguiente comando:"
   ]
  },
  {
   "cell_type": "code",
   "execution_count": 46,
   "metadata": {},
   "outputs": [],
   "source": [
    "from nltk import ngrams"
   ]
  },
  {
   "cell_type": "code",
   "execution_count": 47,
   "metadata": {},
   "outputs": [],
   "source": [
    "from nltk.tokenize import word_tokenize\n",
    "text = \"It was a very good movie.\"\n",
    "words = word_tokenize(text.lower())"
   ]
  },
  {
   "cell_type": "code",
   "execution_count": 48,
   "metadata": {},
   "outputs": [
    {
     "name": "stdout",
     "output_type": "stream",
     "text": [
      "('it', 'was')\n",
      "('was', 'a')\n",
      "('a', 'very')\n",
      "('very', 'good')\n",
      "('good', 'movie')\n",
      "('movie', '.')\n"
     ]
    }
   ],
   "source": [
    "for ngram in ngrams(words, 2):\n",
    "    print(ngram)"
   ]
  },
  {
   "cell_type": "markdown",
   "metadata": {},
   "source": [
    "Una vez hayas implementado el conjunto de características basado en las palabras vecinas y el conjunto de características de colocación descritos anteriormente, propón tú un **tercer conjunto de características** que puedas obtener del corpus Senseval 2. Razona porque crees que puede ser bueno el conjunto de características que tú propones e impleméntalo en Python."
   ]
  },
  {
   "cell_type": "markdown",
   "metadata": {},
   "source": [
    "## CARACTERISTICAS BOLSA DE  PALABRAS "
   ]
  },
  {
   "cell_type": "markdown",
   "metadata": {},
   "source": [
    "## Primero almaceno los sentidos que tiene la palabra ambigua \"hard\" de cada instancia, los almaceno en una lista.\n",
    "    Esta lista sera la salida de mi sistema de clasificacion"
   ]
  },
  {
   "cell_type": "code",
   "execution_count": 49,
   "metadata": {},
   "outputs": [],
   "source": [
    "inst = senseval.instances(senseval.fileids()[0])\n",
    "salidas = []\n",
    "for i in inst:\n",
    "    salidas.append(i.senses[0])"
   ]
  },
  {
   "cell_type": "code",
   "execution_count": 50,
   "metadata": {},
   "outputs": [
    {
     "name": "stdout",
     "output_type": "stream",
     "text": [
      "los sentidos de la palabra hard son : \n",
      "  {'HARD3', 'HARD1', 'HARD2'}\n"
     ]
    }
   ],
   "source": [
    "print(\"los sentidos de la palabra hard son : \\n \",set(salidas))"
   ]
  },
  {
   "cell_type": "markdown",
   "metadata": {},
   "source": [
    "### Aqui es importante relizar una aclaracion en mi codigo, \n",
    "    El objetivo final es realizar un clasificador NaiveBayes para desambiguar el sentido de las palabras ambiguas, para resolver esto es posible utilizar el clasificador de NLTK el cual necesita como datos de entrada y salida una tupla de dos dimenciones (X,Y) en donde :\n",
    "    X = diccionario\n",
    "    Y = salida del sistema \n",
    "    \n",
    "    Utilizar este \"Protocolo\" para conformar un clasificador no es muy util, si quiero escalar a utilizar otros tipos de clasificadores que no pertenezcan al NLTK, por ello para conformar el clasificador yo propongo utilizar la libreria Sciklearn e importar el clasificador NaiveBayes el cual necesita dos variables :\n",
    "    X = Datos en Entrada\n",
    "    y = Datos de salida\n",
    "    \n",
    "    Como extra he decidido utilizar tambien un clasificador Random Forest el cual tambien funciona con el mismo \"protocolo\" del NaiveBayes en Sciklearn."
   ]
  },
  {
   "cell_type": "markdown",
   "metadata": {},
   "source": [
    "### La lista de salida del sistema la convierto a una lista de categorias binarias mediante la libreria pandas."
   ]
  },
  {
   "cell_type": "code",
   "execution_count": 51,
   "metadata": {},
   "outputs": [
    {
     "name": "stdout",
     "output_type": "stream",
     "text": [
      "4333\n",
      "Salidas del sistema : \n",
      " [[1, 0, 0], [1, 0, 0], [1, 0, 0], [1, 0, 0], [1, 0, 0], [1, 0, 0], [1, 0, 0], [1, 0, 0], [1, 0, 0], [1, 0, 0]]\n"
     ]
    }
   ],
   "source": [
    "import pandas as pd \n",
    "b = pd.pandas.get_dummies(salidas)\n",
    "salidas_1= list(b.values.tolist())\n",
    "print(len(salidas_1))\n",
    "print(\"Salidas del sistema : \\n\",salidas_1[0:10])"
   ]
  },
  {
   "cell_type": "markdown",
   "metadata": {},
   "source": [
    "### Una vez conformada la salida del sistema, es momento de conformar la entrada, para ello :\n",
    "    El primer paso es conformar la bolsa de palabras, y a posteriori sabemos que vamos a utilizar las palabras mas frecuentes, entonces lo primero es unir todos los contextos de cada instancia en una sola lista, lo cual se muestra en el codigo a continuacion"
   ]
  },
  {
   "cell_type": "code",
   "execution_count": 52,
   "metadata": {},
   "outputs": [],
   "source": [
    "inst = senseval.instances(senseval.fileids()[0])\n",
    "contextos = []\n",
    "for i in inst:\n",
    "    contextos += [i.context[it][0] for it in range (len(i.context))]"
   ]
  },
  {
   "cell_type": "code",
   "execution_count": 53,
   "metadata": {
    "scrolled": true
   },
   "outputs": [
    {
     "name": "stdout",
     "output_type": "stream",
     "text": [
      "['``', 'he', 'may', 'lose', 'all', 'popular', 'support', ',', 'but', 'someone', 'has', 'to', 'kill', 'him', 'to', 'defeat', 'him', 'and', 'that', \"'s\", 'hard', 'to', 'do', '.', \"''\", 'clever', 'white', 'house', '``', 'spin', 'doctors', \"''\", 'are', 'having', 'a', 'hard', 'time', 'helping', 'president', 'bush', 'explain', 'away', 'the', 'economic', 'bashing', 'that', 'low-and', 'middle-income', 'workers', 'are', 'taking', 'these', 'days', '.', 'i', 'find', 'it', 'hard', 'to', 'believe', 'that', 'the', 'sacramento', 'river', 'will', 'ever', 'be', 'quite', 'the', 'same', ',', 'although', 'i', 'certainly', 'wish', 'that', 'i', \"'m\", 'wrong', '.', 'now', 'when', 'you', 'get', 'bad', 'credit', 'data', 'or', 'are', 'confused', 'with', 'another', 'person', ',', 'the', 'hard', 'part', 'in', 'correcting', 'the', 'mistake', 'is', 'not', 'even', 'knowing', 'where', 'it', 'is', 'recorded', ',', 'let', 'alone', 'having', 'access', '.', \"'a\", 'great', 'share', 'of', 'responsibility', 'for', 'this', 'national', 'tragedy', 'unquestionably', 'lies', 'with', 'the', 'president', 'of', 'the', 'country', '.', \"'\", '--', 'eduard', 'shevardnadze', ',', 'former', 'foreign', 'minister', ';', \"'we\", 'are', 'so', 'deep', 'in', 'this', 'crisis', 'that', 'all', 'this', 'business', 'about', 'leaving', 'the', 'party', ',', 'not', 'leaving', 'the', 'party', '--', 'that', 'will', 'never', 'get', 'us', 'out', '.', \"'\", '--', 'natasha', ',', 'a', 'moscow', 'bookkeeper', ';', \"'our\", 'life', 'is', 'harder', 'now', ',', 'yes', ',', 'but', 'it', 'is', 'better', 'to', 'be', 'hungry', 'and', 'free', '.', \"'\", '--', 'lena', 'sedykh', ',', 'a', 'moscow', 'street', 'sweeper', ';', \"'if\", 'you', 'judge', 'by', 'astrology', ',', 'gorbachev', 'is', 'cancer', ',', 'and', 'yeltsin', 'and', 'russia', 'are', 'aquarius', '.', 'producers', 'of', 'action', 'shows', ',', 'like', 'cannell', ',', 'are', 'willing', 'to', 'make', 'them', 'at', 'a', 'bargain', 'price', 'to', 'help', 'cbs', 'open', 'up', 'a', 'new', 'market', 'for', 'one-hour', 'action', 'shows', ',', 'which', 'have', 'become', 'hard', 'to', 'sell', 'in', 'the', 'rerun', 'market', '.', 'voting', 'against', 'seeking', 'additional', 'sources', 'of', 'funds', 'was', 'supervisor', 'ray', 'belgard', ',', 'who', 'told', 'his', 'colleagues', ',', '``', 'we', 'have', 'to', 'face', 'the', 'hard', 'facts', 'of', 'life', '.', 'it', \"'s\", 'hard', 'to', 'make', 'the', 'columns', 'even', ',', 'to', 'neatly', 'space', 'the', 'text', 'inside', 'the', 'cells', 'of', 'the', 'table', ',', 'to', 'adjust', 'the', 'table', 'when', 'information', 'needs', 'to', 'be', 'added', ',', 'to', 'make', 'exceptions', 'to', 'stretch', 'entries', 'across', 'several', 'cells', ',', 'to', 'add', 'periodic', 'colors', 'or', 'shades', 'to', 'cells', ',', 'and', 'so', 'on', '.', '``', 'it', 'may', 'be', 'hard', 'just', 'to', 'finish', 'these', 'remarks', '.', \"''\", 'now', 'that', 'amanda', 'blake', 'has', 'died', ',', 'is', 'it', 'hard', 'portraying', 'matt', 'dillon', 'without', 'miss', 'kitty', '?', 'even', 'though', 'many', 'of', 'the', 'university', \"'s\", '30', ',', '638', 'students', 'are', 'more', 'conservative', 'and', 'career-oriented', 'than', 'their', \"'60s\", 'and', \"'70s\", 'predecessors', ',', 'and', 'it', \"'s\", 'harder', 'to', 'drum', 'up', 'big', 'crowds', 'for', 'a', 'protest', 'than', 'it', 'used', 'to', 'be', ',', 'telegraph', 'retains', 'a', 'mystical', '--', 'if', 'mangy', '--', 'aura', '.', 'it', \"'s\", 'hard', 'to', 'put', 'into', 'words', ',', 'but', 'since', 'that', 'day', 'i', \"'ve\", 'felt', 'much', 'more', 'confident', '.', 'it', \"'s\", 'hard', 'to', 'believe', 'i', \"'m\", 'seeing', 'it', 'start', 'to', 'rise', 'out', 'of', 'the', 'ground', ',', '\"', 'sheriff', 'harvey', 'nyland', 'said', 'after', 'a', 'groundbreaking', 'ceremony', '.', '``', 'and', 'we', 'are', 'pleased', 'to', 'announce', 'that', 'already', 'coke', ',', 'pepsi', 'and', 'others', 'have', 'expressed', 'enthusiasm', 'and', 'interest', 'in', 'participating', 'in', 'this', 'expanded', 'mtv', 'service', ',']\n"
     ]
    }
   ],
   "source": [
    "print(contextos[0:500])"
   ]
  },
  {
   "cell_type": "markdown",
   "metadata": {},
   "source": [
    "#### De este contexto total es importante eliminar las denominadas \"STOP_WORDS\". \n",
    "    El siguiente codigo realiza esta accion"
   ]
  },
  {
   "cell_type": "code",
   "execution_count": 54,
   "metadata": {
    "scrolled": true
   },
   "outputs": [],
   "source": [
    "voc = [ x for x in contextos if not x in list(STOPWORDS_SET)] "
   ]
  },
  {
   "cell_type": "code",
   "execution_count": 55,
   "metadata": {
    "scrolled": true
   },
   "outputs": [
    {
     "name": "stdout",
     "output_type": "stream",
     "text": [
      "Vocabulario Total : ['may', 'lose', 'popular', 'support', 'someone', 'kill', 'defeat', 'hard', 'clever', 'white', 'house', 'spin', 'doctors', 'hard', 'time', 'helping', 'president', 'bush', 'explain', 'away', 'economic', 'bashing', 'low-and', 'middle-income', 'workers', 'taking', 'days', 'find', 'hard', 'believe', 'sacramento', 'river', 'ever', 'quite', 'although', 'certainly', 'wish', 'wrong', 'get', 'bad', 'credit', 'data', 'confused', 'another', 'person', 'hard', 'part', 'correcting', 'mistake', 'even', 'knowing', 'recorded', 'let', 'alone', 'access', \"'a\", 'great', 'share', 'responsibility', 'national', 'tragedy', 'unquestionably', 'lies', 'president', 'country', 'eduard', 'shevardnadze', 'former', 'foreign', 'minister', \"'we\", 'deep', 'crisis', 'business', 'leaving', 'party', 'leaving', 'party', 'never', 'get', 'natasha', 'moscow', 'bookkeeper', \"'our\", 'life', 'harder', 'yes', 'better', 'hungry', 'free', 'lena', 'sedykh', 'moscow', 'street', 'sweeper', \"'if\", 'judge', 'astrology', 'gorbachev', 'cancer', 'yeltsin', 'russia', 'aquarius', 'producers', 'action', 'shows', 'like', 'cannell', 'willing', 'make', 'bargain', 'price', 'help', 'cbs', 'open', 'new', 'market', 'one-hour', 'action', 'shows', 'become', 'hard', 'sell', 'rerun', 'market', 'voting', 'seeking', 'additional', 'sources', 'funds', 'supervisor', 'ray', 'belgard', 'told', 'colleagues', 'face', 'hard', 'facts', 'life', 'hard', 'make', 'columns', 'even', 'neatly', 'space', 'text', 'inside', 'cells', 'table', 'adjust', 'table', 'information', 'needs', 'added', 'make', 'exceptions', 'stretch', 'entries', 'across', 'several', 'cells', 'add', 'periodic', 'colors', 'shades', 'cells', 'may', 'hard', 'finish', 'remarks', 'amanda', 'blake', 'died', 'hard', 'portraying', 'matt', 'dillon', 'without', 'miss', 'kitty', 'even', 'though', 'many', 'university', '30', '638', 'students', 'conservative', 'career-oriented', \"'60s\", \"'70s\", 'predecessors', 'harder', 'drum', 'big', 'crowds', 'protest', 'used', 'telegraph', 'retains', 'mystical', 'mangy', 'aura', 'hard', 'put', 'words', 'since', 'day', 'felt', 'much', 'confident', 'hard', 'believe', 'seeing', 'start', 'rise', 'ground', 'sheriff', 'harvey', 'nyland', 'groundbreaking', 'ceremony', 'pleased', 'announce', 'already', 'coke', 'pepsi', 'others', 'expressed', 'enthusiasm', 'interest', 'participating', 'expanded', 'mtv', 'service', 'supporting', 'already', 'established', 'use', 'mtv', 'vehicle', 'attract', 'hard', 'to-reach', '12-34-year-old', 'demographic', 'change', 'hard', 'daughter', 'diane', 'nelson', 'santa', 'maria', 'try', 'fun', 'everything', 'hard', 'part', 'make', 'good', 'pitch', 'try', 'make', 'better', 'next', 'time', 'first', 'wife', 'lisa', 'going', 'hard', 'part', 'bad', '25-year-old', 'guy', 'expecting', 'become', 'first-time', 'pop', 'day', 'hard', 'ignore', 'voodoo-like', 'bent', '28-inch', 'iraqi', 'dictator', 'dolls', 'makes', 'job', 'hard', 'find', 'hard', 'understand', 'anyone', 'seeking', 'position', 'public', 'life', 'could', 'demonstrate', 'poor', 'judgment', 'bad', 'taste', 'slump', 'business', 'activity', 'accompanying', 'credit', 'crunch', 'especially', 'hard', 'owners', 'high-yielding', 'high-risk', 'securities', 'whether', 'owned', 'directly', 'mutual', 'funds', 'phoenix', 'F', 'tempe', 'much', 'near', 'phoenix', 'stadium', 'hard', 'decide', 'fit', 'spring', 'training', 'baseball', 'game', 'enough', 'guys', 'big', 'sticks', 'something', 'becomes', 'hard', 'dog', 'old', 'ladies', 'crotchety', 'hard', 'please', 'becoming', 'harder', 'steal', 'car', 'lt', 'jeanne', 'miller', 'detroit', 'police', 'department', 'major', 'crimes', 'division', 'run', 'hard', 'get', 'motivated', 'check', 'often', 'hard', 'tell', 'aluminum', 'steel', 'despite', 'rhetoric', 'truly', 'hard', 'make', 'case', 'big', 'business', 'overtaxed', 'california', 'harder', 'bear', 'walk', 'verdant', 'landscape', 'hard', 'get', 'sense', 'area', 'history', 'hard', 'time', 'use', 'word', 'disaster', 'like', 'oakland', 'hills', 'fire', 'hard', 'remember', 'everything', 'unique', 'project', 'high-risk', 'project', 'put', 'unfortunate', 'time', 'slot', 'opposite', \"'48\", 'hours', \"'quantum\", 'leap', 'would', 'hard', 'get', 'anyone', 'interested', 'four', 'generations', 'family', 'come', 'every', 'year', 'gets', 'harder', 'get', 'easy', 'cuts', 'bunch', 'hard', 'ones', 'made', 'bridging', '14', 'billion', 'gap', 'june', 'earlier', 'studies', 'suggested', 'up-and-down', 'dieting', 'makes', 'harder', 'lose', 'weight', 'may', 'unhealthy', 'consequences', 'hard', 'control', 'teen-agers', 'behavior', 'impossible', 'hard', 'define', 'whether', 'stewart', 'means', 'wo', 'talk', 'whether', 'wo', 'tell', 'truth', 'sees', 'slumped', 'economy', 'unquestionably', 'hard', 'america', 'cities', 'counties', 'school', 'districts', 'fire', 'baldwin', 'hard', 'look', 'sprawling', 'brick', 'plant', 'see', 'every', 'time', 'steps', 'front', 'door', 'apartment', 'empire', 'state', 'building', 'high-profile', 'symbol', 'might', 'hard', 'resist', 'hard', 'get', 'morning', 'pick', 'crutches', 'calls', 'set', 'legs', 'fsu', 'undefeated', 'playing', 'cougars', 'michigan', 'lsu', 'louisville', 'south', 'carolina', 'miami', 'florida', 'hard', 'give', 'title', 'despite', 'lower', 'home', 'prices', 'higher', 'apartment-vacancy', 'rates', 'nation', 'poor', 'finding', 'harder', 'ever', 'find', 'decent', 'affordable', 'housing', 'study', 'week', 'diamonds', 'hard', 'get', 'many', 'revelations', 'bettelheim', 'recently', 'hard', 'know', 'make', 'dr', 'louis', 'jolyon', 'west', 'professor', 'psychiatry', 'ucla', 'crew', 'members', 'wait', 'pothole', 'left', 'may', 'find', 'hard', 'believe', 'impatient', 'drivers', 'would', 'simply', 'mow', 'laughing', 'cones', 'plow', 'right', 'crew', 'handiwork', 'hard', 'enough', 'successful', 'mystery', 'character', 'smith', 'manage', 'two', 'awfully', 'hard', 'achieve', 'balance', 'parents', 'need', 'apply', 'common', 'sense', 'listen', 'gut', 'reactions', 'miami', 'dolphins', 'found', 'hard', 'way', 'sunday', 'silverdome', 'place', 'come', 'party', 'time', 'around', 'conditions', 'different', 'choice', 'far', 'harder', 'pat', 'hurst', 'made', 'jump', 'amateur', 'professional', 'golf', 'six', 'weeks', 'ago', 'learning', 'hard', 'way', 'mistakes', 'costly', 'pocketbook', 'field', 'hard', 'concerned', 'manager', 'cito', 'gaston', 'believes', 'defense', 'cost', 'blue', 'jays', 'east', '1990', 'even', 'fellow', 'israeli', 'cabinet', 'members', 'find', 'hard', 'stop', 'hawkish', 'housing', 'minister', 'savors', 'sprinkling', 'occupied', 'lands', 'new', 'jewish', 'settlements', 'world', 'computing', 'huge', 'hard', 'pick', 'program', 'peripheral', 'processor', 'shows', 'personal', 'computer', 'years', 'least', 'firm', 'familiar', 'new', 'law', 'scarce', 'supply', 'computer', 'professionals', 'may', 'make', 'hard', 'reduce', 'overtime', 'benefits', 'harder', 'tell', 'bankside', 'vegetation', 'drags', 'two', 'three', 'years', 'hard', 'union', 'sustain', 'momentum', 'anderson', 'current', 'service', 'consists', 'unlimited', 'curbside', 'pickup', 'city', 'flatland', 'areas', '16', '73', 'per', 'month', 'variable', 'rate', 'hard', 'to-serve', 'hillside', 'areas', 'ranging', '11', '97', '20', '30', 'five', 'cans', 'first', 'issue', 'included', 'news', 'story', 'major', 'sale', 'vintage', 'jerseys', 'background', 'piece', 'unique', 'style', 'hard', 'to-find', '1970', 'cleveland', 'indians', 'shirts', 'short', 'list', '1991', 'uniform', 'changes', 'try', 'pick', 'separate', 'voices', 'chorus', 'dennis', 'eckart', 'leaving', 'going', 'hard', 'eckart', 'added', 'young', 'hard', 'defend', 'hard', 'influenced', 'slur', 'campaigns', 'hard', 'pick', 'apart', 'percentages', 'hard', 'time', 'completing', 'thought', 'box', 'mixed-signal', 'chips', 'hard', 'make', 'right', 'first', 'time', 'hard', 'enough', 'refusing', 'bonbon', 'nowadays', 'without', 'considering', 'might', 'politely', 'refuse', 'served', 'member', 'household', 'instead', 'opponents', 'like', 'house', 'speaker', 'thomas', 'foley', 'd-spokane', 'stood', 'argument', 'ear', 'imploring', 'home', 'state', 'voters', 'throw', 'away', 'hard', 'political', 'power', 'fit', 'pique', 'unpaid', 'restaurant', 'tabs', 'bounced', 'checks', 'beverly', 'hayon', 'spokeswoman', 'kaiser', 'permanente', 'medical', 'care', 'program', 'hard', 'see', 'going', 'stop', 'aids', 'epidemic', 'allied', 'figures', 'anywhere', 'near', 'correct', 'hard', 'know', 'since', 'british', 'report', '300', 'iraqis', 'killed', 'khafji', 'shrank', '30', 'time', 'saudis', 'briefed', 'couple', 'hours', 'later', 'iraqi', 'leader', 'given', 'bloody', 'nose', 'hard', 'girls', 'laughs', 'hard', 'care', 'make', 'harder', 'already', 'nonetheless', 'house', 'resolution', 'fast-tracked', 'house', 'complexities', 'legal', 'language', 'defining', 'legitimate', 'business', 'necessity', 'hiring', 'promoting', 'workers', 'make', 'hard', 'bill', 'sponsors', 'prove', 'lead', 'quotas', 'employment', 'administration', 'charges', 'originally', 'attached', 'recycled', 'engines', 'bicycles', 'popular', 'mode', 'transportation', 'hard', 'years', 'followed', 'world', 'war', 'ii', 'hard', 'rest', 'got', 'guy', 'like', 'willie', 'wilson', 'place', 'hard', 'devine', 'however', 'notes', 'first', 'nationwide', 'must', 'ultimately', 'achieve', 'goal', 'providing', 'ford', 'average', 'annual', 'return', '15', 'percent', 'investment', 'something', 'increasingly', 'hard', 'troubled', 'savings', 'loan', 'business', 'go', 'home', 'hard', 'even', 'walk', 'outside', 'see', 'suffering', 'people', 'hurts', 'young', 'boy', 'hard', 'life', 'becomes', 'dope', 'addict', 'suddenly', 'turns', 'around', 'less', 'role', 'model', 'go', 'regular', 'scenario', 'college', 'b', 'something', 'community', 'found', 'hard', 'going', 'opposite', 'direction', 'teammates', 'surprising', '24-19', 'trouble', 'marketing', 'museum', 'internationally', 'hard', 'explain', 'garage', 'high-tech', 'attraction', 'lawsuit', 'cited', 'cases', 'different', 'consumers', 'reports', 'mixed', 'together', 'inaccuracies', 'hard', 'correct', 'coming', 'hour', 'since', 'final', 'buzzer', 'sounded', 'still', 'jordan', 'looked', 'heard', 'best', 'worst', 'news', 'life', 'hard', 'tell', 'hear', 'doctor', 'ok', 'going', 'hard', 'concentrate', 'sometimes', 'hard', 'keep', 'mind', 'hard', 'get', 'roads', 'rescue', 'equipment', 'travel', 'little', 'harder', 'lot', 'faster', 'lot', 'quicker', 'racing', 'saw', 'tv', 'basaca', 'hard', 'imagine', 'american', 'priorities', 'would', 'fess', 'pollster', 'time', 'consumers', 'expect', 'harder', 'time', 'getting', 'loans', 'pay', 'hard', 'watching', 'team', 'warm', 'see', 'much', 'athletic', 'ability', 'shaw', 'however', 'found', 'windowbase', 'much', 'harder', 'get', 'close', 'acefile', 'nine', 'years', 'two', 'kids', 'later', 'absolute', 'quiet', 'hard', 'come', 'lives', 'little', 'harder', 'seen', 'cartoon', 'see', 'little', 'mermaid', 'hard', 'cry', 'right', 'hilton', 'wrote', 'fire', 'extremely', 'hard', 'thing', 'deal', 'living', 'memory', 'rest', 'life', 'terrible', 'burden', 'tough', 'reforms', 'planned', 'last', 'week', 'russian', 'president', 'boris', 'yeltsin', 'begin', 'series', 'tough', 'economic', 'reforms', 'first', 'would', 'make', 'life', 'even', 'harder', 'average', 'person', 'lamott', 'canin', 'gone', 'couple', 'hard', 'tense', 'years', 'writing', 'blue', 'river', 'let', 'face', 'men', 'boats', 'given', 'whale', 'hard', 'time', 'holly', 'jaffe', 'capistrano', 'beach', 'office', 'manager', 'making', 'second', 'trip', 'cole', 'make', 'even', 'harder', 'giants', 'swallow', 'ferreira', 'recovering', 'massive', 'wounds', 'left', 'arm', 'side', 'vowed', 'ride', 'waves', 'dot', 'page', '1b', 'wide', 'receiver', 'danielle', 'schurr', 'girl', 'playing', 'wide', 'receiver', 'high', 'school', 'football', 'team', 'hard', 'avoid', 'limelight', 'way', 'danielle', 'schurr', 'fremont', 'irvington', 'high', 'wants', 'special', 'attention', 'special', 'treatment', 'hard', 'know', 'psychological', 'complex', 'democrats', 'republicans', 'hurts', 'nation', 'box', 'hard', 'crust', 'bake', 'bread', 'feels', 'like', 'brick', 'crust', 'softens', 'cools', \"'the\", 'prince', 'tides', 'tom', 'wingo', 'voice', 'think', 'film', 'preserved', 'hard', 'thing', 'co-producer', 'andrew', 'karsch', 'cruelly', 'hard', 'give', 'sound', 'mobs', 'roaring', 'run', 'jesse', 'run', 'think', 'really', 'hard', 'laugh', 'camera', 'nothing', 'house', 'speaker', 'thomas', 'foley', 'd-wash', 'hard', 'take', 'bush', 'suggestion', 'seriously', 'light', 'exemptions', 'bush', 'enjoys', 'various', 'laws', 'including', 'freedom', 'information', 'act', 'law', 'restricting', 'lobbying', 'former', 'government', 'officials', 'foreign', 'minister', \"'no\", 'film', 'going', 'shown', 'abroad', 'nasty', 'girl', 'big', 'hit', 'berlin', 'munich', 'harder', 'suppress', 'hard', 'imagine', 'course', 'civil', 'rights', 'movement', 'without', 'revelatory', 'shocking', 'fire', 'hose', 'beating', 'footage', 'small', 'car', 'made', 'general', 'motors', 'corp', 'subsidiary', 'officially', 'went', 'sale', 'oct', '25', 'quality-control', 'standards', 'made', 'hard', 'come', 'recently', '60', 'saturn', 'dealerships', 'two', 'common', \"'bed\", 'hard', 'put', 'two', 'heard', 'two', 'old', 'ladies', 'given', 'book', 'children', 'novel', 'truth', 'wes', 'raynal', 'autoweek', 'hbox', 'low', 'profiling', 'pretty', 'hard', 'car', 'bright', 'characteristic', 'sets', 'r', 'F', 'apart', 'taurus', 'sho', 'keefe', 'might', 'reached', 'point', 'stanford', 'system', 'hard', 'improve', 'number', 'gets', 'noticed', '21', 'points', 'per', 'game', 'galant', 'success', 'mitsubishi', 'recognizes', 'late', 'entry', 'niche', 'makes', 'hard', 'overcome', 'edge', 'established', 'toyota', 'honda', 'models', 'rev', 'lou', 'sheldon', 'head', 'conservative', 'traditional', 'values', 'coalition', 'orange', 'county', 'leading', 'opponent', 'ab', '101', 'acknowledged', 'longer', 'takes', 'wilson', 'approve', 'measure', 'harder', 'group', 'collect', 'enough', 'valid', 'signatures', 'ballot', 'issue', 'harder', 'ever', 'imagined', 'nowhere', 'turn', 'help', 'hard', 'start', 'candidacy', 'know', 'voters', 'sea', 'modernist', 'vignettes', 'many', 'superb', 'hard', 'wonder', 'overall', 'design', 'result', 'political', 'compromise', 'much', 'architectural', 'intent', 'hard', 'take', 'starting', 'lineup', 'rate', 'something', 'hard', 'pin', 'consistently', 'surprising', 'off-center', 'freshness', 'friendly-fresh', 'aggressive-fresh', 'like', 'twin', 'peaks', 'schimpeler', 'teaches', 'math', 'subject', 'qualified', 'teachers', 'hard', 'find', 'figures', 'secure', 'many', 'still', 'hard', 'humble', 'hard', 'admit', 'mistake', 'made', 'approving', 'prozac', 'difficult', 'get', 'reservations', 'even', 'harder', 'get', 'name', 'hotel', 'supposed', 'stay', 'lot', 'people', 'hard', 'enough', 'time', 'mild', 'weather', 'hard', 'take', 'hard', 'get', 'used', 'hbox', 'hospitality', 'industry', 'critical', 'labor', 'shortage', 'targeting', 'potential', 'employees', 'may', 'harder', 'time', 'fields', 'beginners', 'older', 'workers', 'students', 'mothers', 'young', 'children', 'lawrence', 'adelman', 'analyst', 'vice', 'president', 'dean', 'witter', 'reynolds', 'inc', 'trying', 'come', 'grips', 'problems', 'whether', 'domestic', 'snacks', 'international', 'snacks', 'kfc', 'make', 'hard', 'decisions', '1991', 'go', 'forward', 'positive', 'momentum', '1992', 'sheer', 'ingratitude', 'report', 'hard', 'beat', 'early', 'indications', 'stadium', 'club', 'remain', 'hard', 'get', 'ought', 'try', 'stick', 'would', 'make', 'harder', 'every', 'think', 'give', 'people', 'want', 'guess', 'hard', 'determine', 'want', 'ready', 'support', 'museum', 'suspected', 'porn', 'san', 'francisco', 'art', 'photographer', 'jock', 'sturges', 'learned', 'lesson', 'hard', 'way', 'april', '1990', 'manager', 'photo-processing', 'lab', 'reported', 'fbi', 'received', 'negatives', 'nude', 'young', 'girls', 'could', 'hard', 'family', 'box', '87', 'percent', 'adults', 'think', 'parents', 'today', 'hard', 'time', 'making', 'ends', 'meet', 'fact', 'hard', 'think', 'day', 'week', 'dopey', 'new', 'nbc', 'clip', 'show', 'would', 'best', 'making', 'hard', 'keep', 'team', 'hard', 'language', 'diplomacy', '22', '23', 'years', 'hard', 'fight', 'canoles', 'bush', 'administration', 'vehemently', 'opposes', 'provision', 'saying', 'would', 'lead', 'prolonged', 'appeals', 'make', 'harder', 'punish', 'perpetrators', 'heinous', 'crimes', 'unlike', 'watching', 'joe', 'montana', 'work', 'making', 'hard', 'plays', 'look', 'easy', 'still', 'hard', 'leave', 'hardest', 'loss', 'ever', 'suffered', 'beckenhauer-heller', 'hard', 'imagine', 'back', 'air', 'howard', 'hesseman', 'back', 'character', 'johnny', 'fever', 'new', 'syndicated', 'wkrp', 'cincinnati', 'second', 'time', 'around', 'lot', 'harder', 'big', 'go', 'saints', 'yes', 'hard', 'believe', 'work', 'collaborative', 'hard', 'original', 'vision', 'survive', 'intact', 'times', 'hard', 'money', 'jobs', 'scarce', 'typical', 'markup', 'spy', 'toys', 'still', 'hard', 'find', 'sold', 'mostly', 'dubious', 'catalogs', 'pornography', 'earlier', 'days', 'much', 'harder', 'audience', 'group', 'strangers', 'edwards', 'important', 'follow', 'instincts', 'stand', 'ground', 'really', 'hard', 'really', 'anyone', 'fight', 'fight', 'medical', 'experts', 'water', 'cutoff', 'make', 'harder', 'people', 'wash', 'cook', 'food', 'properly', 'human', 'sense', 'hard', 'imagine', 'inept', 'old', 'managers', 'could', 'done', 'worse', 'job', 'managing', 'change', 'executives', 'g', 'e', 'capital', 'cities', 'larry', 'tisch', 'maybe', 'making', 'lots', 'movies', 'female', 'heroes', 'would', 'change', 'hard', 'figure', 'context', 'woman', 'would', 'hero', 'hardest', 'part', 'selling', 'wide-ranging', 'plan', 'get', 'people', 'think', 'nine-year', 'crusade', 'instead', 'quick-fix', 'program', 'farewell', 'local', 'hero', 'hard', 'think', 'bay', 'area', 'broadcaster', 'put', 'back', 'community', 'bob', 'haulman', 'died', 'early', 'wednesday', 'heart', 'attack', 'age', '49', 'data', 'collected', 'becomes', 'hard', 'work', 'looking', 'job', 'hard', 'without', 'english', 'like', 'write', 'public', 'perceive', 'issue', 'opposed', 'often', 'hard', 'to-understand', 'facts', 'fact', 'looks', 'closely', 'daytime', 'nappers', 'hard', 'find', 'marry', 'want', 'things', 'common', 'girl', 'hard', 'marry', 'someone', 'background', 'patriotic', 'feeling', 'hard', 'describe', 'parts', 'would', 'hard', 'trace', 'world', 'market', 'added', 'think', 'individual', 'single', 'items', 'import', 'watch', \"'em\", 'state', 'looming', 'budget', 'shortfall', 'eliminates', 'chance', 'bailout', 'sacramento', 'leaving', 'education', 'leaders', 'three', 'hard', 'choices', 'raise', 'fees', 'cut', 'faculty', 'staff', 'close', 'doors', 'qualified', 'students', 'u', 'executives', 'learning', 'value', 'european', 'accent', 'executive', 'suite', 'board', 'room', 'may', 'find', 'harder', 'potentially', 'lucrative', 'woo', 'hard', 'figure', 'guy', 'giving', 'guarantee', 'opposed', 'commission', 'hitchcock', 'fries', 'appearance', 'may', 'seem', 'youthful', 'would', 'hard', 'argue', 'doctor', 'think', 'much', 'younger', 'terms', 'several', 'years', 'ago', 'almost', 'load', 'funds', 'charged', '8', '5', 'percent', 'initial', 'investment', 'get', 'statement', 'harder', 'justify', 'hard', 'come', 'place', 'tonight', 'able', 'go', 'clubhouse', 'put', 'uniform', 'throw', 'backdoor', 'sliders', 'get', 'people', 'catchers', 'third', 'basemen', 'hard', 'get', 'light', 'hard', 'time', 'keeping', 'plate', 'ome', 'areas', 'abortions', 'becoming', 'increasingly', 'hard', 'get', 'rural', 'areas', 'parts', 'country', 'physicians', 'shy', 'away', 'procedure', 'harassment', 'peer', 'pressure', 'lack', 'training', 'abortion-rights', 'group', 'announced', 'chicago', 'pranks', 'welcome', 'harder', 'fool', 'folks', 'sun', 'technologies', 'mountain', 'view', 'successive', 'years', 'april', 'fools', 'day', 'jokes', 'prankster', 'peter', 'van', 'der', 'linden', 'new', 'book', 'second', 'official', 'handbook', 'practical', 'jokes', 'hit', 'stores', 'signet', 'struck', 'early', 'year', 'hard', 'enough', 'time', 'getting', 'people', 'fall', 'earth', 'without', 'gimmicks', 'would', 'hard', 'show', 'inner-city', 'black', 'poverty', 'without', 'portraying', 'provoking', 'anger', 'anger', 'emotion', 'network', 'tv', 'cannot', 'use', 'hard', 'match', 'among', 'angry', 'men', 'joanne', 'husband', 'matt', 'peter', 'coyote', 'hard', 'time', 'making', 'living', 'sell', 'last', 'chunk', 'inherited', 'ranch', 'property', 'family', 'named', 'martinez', 'would', 'hard', 'play', 'dave', 'henderson', 'center', 'field', 'tonight', 'check', 'beets', 'hard', 'justify', 'trouble', 'cooking', 'fresh', 'beets', 'canned', 'beets', 'consistently', 'good', 'gary', 'video', 'library', 'locations', '1328', 'w', 'el', 'camino', 'real', 'mountain', 'view', '415', '965-1050', '1000', 'fremont', 'ave', 'los', 'altos', '415', '941-3171', 'success', 'locating', 'ordering', 'hard', 'to-find', 'videotapes', 'hard', 'get', 'caught', 'plight', 'girl', 'root', 'nelson', 'high', 'tech', 'gays', 'california', 'fight', 'much', 'harder', 'means', 'much', 'harder', 'women', 'avoid', 'victims', 'housebreaking', 'errors', 'seem', 'harder', 'correct', 'shortage', 'child', 'care', 'centers', 'makes', 'hard', 'mothers', 'hold', 'careers', 'hard', 'enough', 'find', 'barber', 'comfortable', 'back', 'home', 'equipment', 'little', 'modern', 'police', 'less', 'imposing', 'citizens', 'carry', 'machine', 'guns', 'brother', 'willy', 'lives', 'scotland', 'told', 'radio', 'hope', 'health', 'good', 'know', 'hard', 'keep', 'spirits', 'things', 'seem', 'looking', 'lot', 'better', 'hard', 'see', 'agreement', 'drop', 'labor', 'protections', 'anything', 'less', 'disappointment', 'germany', 'france', 'italy', 'advocates', 'federal-type', 'union', '12-nation', 'trading', 'bloc', 'would', 'hard', 'claim', 'kockelman', 'academic', 'vocational', 'paths', 'influenced', 'family', 'background', 'father', 'william', 'earth', 'services', 'application', 'planner', 'u', 'geological', 'survey', 'menlo', 'park', 'older', 'sister', 'annie', 'trains', 'guide', 'dogs', 'blind', 'older', 'brothers', 'john', 'peter', 'operate', 'bungee', 'cord', 'jumping', 'business', 'younger', 'brother', 'paul', 'attending', 'uc-santa', 'cruz', 'lived', 'depression', 'often', 'find', 'especially', 'hard', 'discard', 'belongings', 'since', 'recall', 'time', 'old', 'clothes', 'tangibles', 'greatly', 'needed', 'winston', 'hard', 'cut', 'things', 'people', 'want', 'councilman', 'ron', 'andersen', 'budget', 'council', 'must', 'adopt', 'july', 'forced', 'upriver', 'water', 'less', 'surface', 'greater', 'depth', 'stronger', 'current', 'smelt', 'harder', 'time', 'swimming', 'finding', 'enough', 'food', 'bart', 'awfully', 'hard', 'deal', 'campbell', 'harder', 'assume', 'telepathy', 'basis', 'statements', 'though', 'research', 'still', 'know', 'far', 'afield', 'esp', 'range', 'hard', 'defense', 'home', 'runs', 'manager', 'roger', 'craig', 'mason', 'omissions', 'harder', 'detect', 'fund', 'transfers', 'commingling', 'noticed', 'trustees', 'jazz', 'shirley', 'horn', 'wo', 'forget', 'verve', 'F', 'polygram', 'formats', 'star', 'star', 'star', 'hard', 'believe', 'listening', 'album', 'previous', 'work', 'shirley', 'horn', 'remains', 'largely', 'unknown', 'general', 'public', 'even', 'segments', 'jazz', 'community', 'sambo', 'chhun', 'whose', 'two-year', 'tour', 'ended', 'last', 'may', 'found', 'hard', 'see', 'positives', 'suggestion', 'anything', 'happening', 'hard', 'believe', 'allegations', 'hard', 'disbelieve', 'allegations', 'easier', 'tell', 'going', 'minors', 'harder', 'tell', 'released', 'rosen', 'hard', 'build', 'consistency', 'players', 'come', 'go', 'fast', 'learn', 'way', 'know', 'really', 'hard', 'save', 'dollars', 'monthly', 'mortgage', 'payments', 'refinancing', 'refinance', 'costs', 'hard', 'justify', 'hard', 'participant', 'involved', 'knowing', 'gut-wrenching', 'things', 'going', 'three', 'days', 'rain', 'game', '6', \"'75\", 'think', 'better', 'call', 'anytime', 'busy', 'putting', 'newspaper', 'hard', 'reach', 'program', 'arrived', 'set', 'washington', 'hard', 'change', 'make', 'center', 'universe', 'car', 'life', 'hard', 'die', 'actually', 'harder', 'make', 'field', 'goals', 'college', 'hash', 'marks', 'wider', 'pros', 'meaning', 'kickers', 'forced', 'kick', 'sharper', 'angles', 'mighty', 'hard', 'make', 'work', 'saturdays', 'boys', 'holiday', 'hates', 'work', 'hates', 'anything', 'else', 'got', 'duty', 'ruination', 'child', '3', '30', 'p', 'hard', 'find', 'seat', 'ozubko', 'methods', 'raising', 'birds', 'copied', 'advantage', 'hard', 'overcome', 'two', 'decades', 'careful', 'breeding', 'produced', 'special', 'strains', 'birds', 'hard', 'admit', 'really', 'could', 'find', 'major', 'fault', 'box', 'splittin', 'peas', 'rich', 'creamy', 'hard', 'believe', 'meat', 'stock', 'dairy', 'products', 'fat', 'technically', 'less', 'gram', 'qualifies', 'fat-free', 'harder', 'come', 'complete', 'package', 'solves', 'real', 'problem', 'deliver', 'whole', 'thing', 'twice', 'hard', 'went', 'back', 'short', 'span', 'generation', 'convinced', 'raising', 'children', 'hard', 'hard', 'really', 'dislike', 'club', 'model', 'biplane', 'piloted', 'gumby', 'pokey', '36', '43', 'save', 'situations', 'season', 'eckersley', 'finds', 'hard', 'reconcile', 'occasional', 'failures', 'japanese', 'view', 'americans', 'swaggering', 'mix', 'willful', 'ignorance', 'wanton', 'sloth', 'saddled', 'nostalgic', 'longing', 'bygone', 'age', 'yet', 'redeemed', 'raw', 'unhesitant', 'energy', 'harnessed', 'certain', 'basic', 'goodness', 'hard', 'resist', 'even', 'drives', 'excess', 'chuck', 'gary', 'principal', 'milpitas', 'high', 'hard', 'time', 'understanding', '3-2', 'vote', 'hard', 'pitch', 'good', 'pitching', 'lot', 'seems', 'ccm', 'nhl', 'jersey', 'manufacturer', 'hard', 'time', 'producing', 'pacific', 'teal', 'shade', 'matt', 'levine', 'team', 'executive', 'vice', 'president', 'charge', 'business', 'operations', 'jerseys', 'probably', 'wo', 'become', 'available', 'sale', 'late', 'may', 'harder', 'publish', 'romance', 'novel', 'mystery', 'new', 'mexico', 'clint', 'anderson', 'offered', 'resolution', 'change', 'senate', 'notorious', 'rule', '22', 'allow', 'three-fifths', 'senators', 'present', 'voting', 'cut', 'debate', 'instead', 'current', 'hard', 'to-get', 'two-thirds', 'many', 'ways', 'hard', 'understand', 'hard', 'feel', 'sorry', 'brown', 'boys', 'democrats', 'republicans', 'either', 'hard', 'time', 'adjusting', 'uncertainty', 'hard', 'know', 'cost', 'water', 'going', 'go', 'ronald', 'etheridge', 'senior', 'facilities', 'manager', 'national', 'semiconductor', 'corp', 'santa', 'clara', 'homophobia', 'hard', 'open', 'meet', 'guys', 'environment', 'sexually', 'charged', 'survives', 'selling', 'liquor', 'fact', '15', 'long', 'sometimes', 'hard', 'time', 'recognizing', 'today', '15-year-olds', 'members', 'species', 'would', 'make', 'harder', 'iraqis', 'kill', 'would', 'explain', 'later', 'jobs', 'hard', 'find', 'etc', 'feel', 'kind', 'sorry', 'poor', 'working', 'girl', 'dog-tired', 'hard', 'night', 'patrolling', 'dismal', 'beat', 'go', 'half-mile', 'way', 'get', 'home', 'reasons', 'hard', 'accept', 'done', 'context', 'yoga', 'much', 'money', 'make', 'hard', 'choices', 'main', 'concerns', 'signings', 'makes', 'hard', 'first-class', 'organization', 'make', 'plans', 'future', 'may', 'race', 'may', 'come', 'question', 'hard', 'would', 'fill', 'corazon', 'aquino', 'shoes', 'happen', 'anybody', 'hardest', 'part', 'get', 'head', 'learned', 'hard', 'way', 'never', 'make', 'mistake', 'warmup', 'exercise', 'stand', 'straight', 'feet', 'spread', 'lift', 'arms', 'head', 'though', 'stretching', 'sky', 'picking', 'fruit', 'trees', 'pruning', 'hard', 'to-reach', 'branches', 'number', 'gardening', 'jobs', 'quarterbacks', 'hard', 'find', 'may', 'end', 'first', 'player', 'drafted', '30', 'afternoon', 'however', 'plenty', 'three', 'unfortunate', 'actors', 'tempest', 'discovered', 'hard', 'way', 'week', 'sometimes', 'hard', 'discover', 'relevance', 'studying', 'seymour', 'yet', 'hard', 'imagine', 'people', 'going', 'start', 'pulling', 'away', 'en', 'masse', 'stock', 'market', 'fall', 'even', 'prices', 'near', 'record', 'heights', 'even', 'hard', 'to-please', 'social', 'observer', 'economic', 'gadfly', 'michael', 'thomas', 'raving', 'saying', 'greatest', 'thing', 'ever', 'read', 'wall', 'street', 'hard', 'winter', 'bring', 'mobs', 'streets', 'assassination', 'coup', 'suddenly', 'remove', 'either', 'man', 'bush', 'could', 'order', 'b-52s', 'back', '15-minute', 'alert', 'harder', 'take', 'kids', 'class', 'older', 'need', 'activities', 'still', 'soft', 'spot', 'heart', 'stack', 'old', 'untouchables', 'series', 'may', 'hard', 'resist', 'hard', 'sobs', 'owner', 'gates', 'response', 'might', 'believable', 'harder', 'believe', 'preconditions', 'savagery', 'change', 'without', 'end', 'secrecy', 'surrounds', 'peace', 'officers', 'departments', 'deal', 'excesses', 'since', 'giants', 'quarterback', 'vanilla', 'nice', 'bland', 'guy', 'named', 'jeff', 'hostetler', 'month', 'ago', 'known', 'average', 'backup', 'performer', 'makes', 'doubly', 'hard', 'choose', 'legislature', 'act', 'proposes', 'could', 'back', 'time', 'next', 'year', 'hard', 'decisions', 'make', 'santa', 'clara', 'county', 'supervisor', 'rod', 'diridon', 'air', 'district', 'board', 'member', 'referring', 'gas', 'tax', 'higher', 'bridge', 'toll', 'measures', 'cut', 'supermarket', 'tabloids', 'equally', 'hard', 'resist', 'gone', 'war', 'enforce', 'united', 'nations', 'resolutions', 'iraq', 'united', 'states', 'finds', 'hard', 'avoid', 'pressing', 'implement', 'u', 'resolutions', 'pertaining', 'israel', 'supported', 'hard', 'get', 'people', 'listen', 'soft-spoken', 'professor', 'political', 'economy', 'recent', 'interview', 'today', 'hard', 'americans', 'use', 'word', 'glory', 'without', 'snickering', 'odd', 'man', 'able', 'block', 'critical', 'effort', 'negative', 'always', 'seems', 'win', 'positive', 'hard', 'prove', 'seven', '15', 'years', 'hard', 'time', 'letting', 'go', 'sonny', 'cher', 'box', 'make', 'harder', 'prisoners', 'make', 'second', 'federal', 'appeal', 'convictions', 'hartford', 'center', 'john', 'cullen', 'knows', 'heart', 'worth', 'four-year', '4', 'million', 'contract', 'signed', 'whalers', 'mind', 'finds', 'hard', 'comprehend', 'miss', 'manners', 'hopes', 'long', 'time', 'grandparents', 'harder', 'come', 'desks', 'hard', 'get', 'reps', 'away', 'steve', 'young', 'point', 'pringle', 'natoli', 'thought', 'bad', 'hemingway', 'contest', 'hard', 'made', 'something', 'anyone', 'enter', 'grown', 'premises', 'wal-mart', 'without', 'security', 'hard', 'habit', 'break', 'offer', 'work', 'well-established', 'museum', 'hard', 'pass', 'today', 'appears', 'harder', 'find', 'tells', 'something', 'significant', 'far', 'come', 'far', 'yet', 'go', 'seem', 'hard', 'first', 'loans', 'hard', 'find', 'hard', 'words', 'proud', 'schwarzkopf', 'told', '700', 'members', 'army', 'vii', 'corps', 'ceremony', 'headed', 'back', 'fort', 'hood', 'texas', 'fort', 'riley', 'kan', 'grew', 'full-time', 'occupation', 'last', 'hurrah', 'bookstore', 'wife', 'williamsport', 'pa', 'specializes', 'assassination', 'books', 'often', 'hard', 'find', 'answer', 'question', 'hard', 'able', 'answer', 'question', 'hard', 'describe', 'nerve-racking', 'kimberly', 'going', 'try', 'tell', 'grandchildren', 'everything', 'hard', 'achieve', 'call', 'douglas', 'coupland', 'voice', 'generation', 'although', 'every', 'newspaper', 'television', 'interview', 'every', 'magazine', 'story', 'every', 'laudatory', 'book', 'review', 'going', 'hard', 'label', 'avoid', 'planning', 'coup', 'hard', 'know', 'reaction', 'population', 'hard', 'ask', 'stuff', 'never', 'done', 'hard', 'measure', 'deterrent', 'hardest', 'part', 'trying', 'funny', 'spontaneous', 'good', 'time', 'nobody', 'else', 'expense', 'preserving', 'semblance', 'economic', 'unity', 'among', 'territories', 'soviet', 'empire', 'hard', 'believe', 'republics', 'choose', 'otherwise', 'would', 'tell', 'hard', 'business', 'important', 'real', 'talent', 'since', 'many', 'homeowners', 'transferred', 'within', 'regions', 'states', 'would', 'hit', 'new', '200-mile', 'requirement', 'large', 'employers', 'donnelly', 'bill', 'make', 'much', 'harder', 'persuade', 'workers', 'accept', 'relocations', 'consumers', 'expressed', 'concern', 'unemployment', '38', '6', 'percent', 'surveyed', 'saying', 'jobs', 'hard', 'get', 'april', '35', '5', 'percent', 'things', 'harder', 'installing', 'low-flow', 'shower', 'heads', 'hard', 'get', 'convictions', 'crimes', 'judged', 'motive', 'supporters', 'foes', 'judge', 'well', 'supporters', 'foes', 'abortion', 'expect', 'supreme', 'court', 'make', 'harder', 'get', 'abortions', 'sometime', 'next', 'years', 'gone', 'playing', 'self-involved', 'businessman', 'learns', 'hard', 'way', 'care', 'others', 'situation', 'excellent', 'example', 'durkheim', 'anomy', 'social', 'disorganization', 'levels', 'norms', 'hard', 'impossible', 'find', 'psychologist', 'long', 'hold', 'many', 'preconceptions', 'hard', 'keep', 'hip', 'artsy', 'keep', 'bad', 'element', 'time', 'admits', 'ken', 'stocks', 'sorry', 'debbie', 'win', 'sense', 'good', 'play', 'teammates', 'hard', 'play', 'friend', 'birch', 'lot', 'students', 'found', 'hard', 'concentrate', 'class', 'hungry', 'like', 'lot', 'olympic', 'sports', 'heard', 'popular', 'europe', 'way', 'get', 'rich', 'harder', 'play', 'looks', 'looks', 'like', 'nothing', 'ever', 'seen', 'know', 'hard', 'person', 'gay', 'society', 'makes', 'difficult', 'many', 'things', 'going', 'night', 'anita', 'hill', 'came', 'ivory', 'tower', 'seclusion', 'last', 'weekend', 'hard', 'sort', 'hardest', 'year', 'life', 'killberg', 'states', 'rock', 'stations', 'like', 'music', 'black', 'black', 'stations', 'hard', 'time', 'rock', 'hutchence', 'known', 'would', 'thought', 'baby', 'died', 'within', 'couple', 'months', 'linda', 'mother', 'called', 'close', 'anniversary', 'death', 'baby', 'often', 'hard', 'time', 'problems', 'hard', 'going', 'puberty', 'tv', 'greatest', 'skin', 'world', 'made', 'worse', 'knew', 'would', '20', 'million', 'television', 'viewers', 'looking', 'zits', 'start', 'really', 'hard', 'go', 'department', 'store', 'pay', 'full', 'price', 'things', 'tomaso', 'hard', 'time', 'deciding', 'top', 'projects', 'going', 'even', 'thought', 'might', 'invite', 'dinner', 'sunny', 'sunday', 'help', 'plentifully', 'nice', 'cabin', 'fare', 'knowing', 'distasteful', 'salt', 'beef', 'pork', 'hard', 'biscuit', 'forecastle', 'must', 'first', 'boy', 'like', 'always', 'lived', 'ashore', 'home', 'tough', 'times', 'mercer', 'survey', 'reveals', 'steps', 'companies', 'taking', 'deal', 'harder', 'economic', 'times', 'hampered', 'hard', 'to-explain', 'shortage', 'elderly', 'tenants', 'palomar', 'inn', 'santa', 'cruz', 'largest', 'earthquake', 'recovery', 'project', 'date', 'half', 'full', 'five', 'months', 'operation', 'believe', 'pitchers', 'right', 'pitch', 'inside', 'hard', 'time', 'believing', 'enough', 'control', 'pitch', 'inside', 'without', 'hitting', 'somebody', 'head', 'williams', 'considered', 'lucky', 'escape', 'headache', 'even', 'hard', 'concoct', 'fattening', 'meal', 'hard', 'find', 'volunteers', 'little', 'hard', 'use', 'however', 'car', 'transmission', 'way', 'forward', 'park', 'like', 'glued', 'television', 'sets', 'wondering', 'clash', 'testimony', 'two', 'intense', 'proud', 'americans', 'end', 'finding', 'hill', 'story', 'harder', 'believe', 'frightening', 'depressing', 'hard', 'tell', 'one-sided', 'news', 'accounts', 'really', 'going', 'hard', 'questions', 'efficiency', 'competitiveness', 'wo', 'answered', 'hand', 'dealt', 'played', 'hard', 'pass', 'anyone', 'need', 'feel', 'guilty', 'perhaps', 'shifting', 'genre', 'another', 'era', 'refusing', 'call', 'soap', 'help', 'homefront', 'sure', 'draw', 'broader', 'audience', 'hard', 'see', 'drawing', 'much', 'bigger', 'thirtysomething', 'whose', 'overall', 'nielsen', 'numbers', 'never', 'impressive', 'film', 'gets', 'ground', 'budget', 'reasonable', 'hard', 'make', 'profit', 'law', 'greater', 'role', 'europe', 'playing', 'making', 'canseco', 'pleas', 'even', 'harder', 'swallow', 'penchant', 'striking', 'case', 'matter', 'fences', 'hard', 'decisions', 'make', 'councilman', 'angelo', 'frosolone', 'nothing', 'salley', 'forward', 'mark', 'aguirre', 'gets', '3', 'million', 'going', 'hard', 'accept', 'new', 'station', 'built', 'city', 'officials', 'would', 'hard', 'time', 'funding', 'engine', 'truck', 'companies', 'staff', 'california', 'million', 'welfare', 'families', 'legislature', 'message', 'struggle', 'survive', 'got', 'harder', 'walsh', 'hard', 'differentiate', 'museum', 'customers', 'negotiating', 'tougher', 'deals', 'loans', 'unusual', 'business', 'venture', 'harder', 'ever', 'get', 'dinamation', 'president', 'chief', 'executive', 'chris', 'mays', 'like', 'hard', 'challenge', 'kevin', 'third-grader', 'clinched', 'first', 'place', 'winning', 'five', 'straight', 'games', 'march', '9', 'competition', 'hardest', 'hams', 'match', 'wine', 'honey-baked', 'hams', 'hard', 'separate', 'fact', 'fiction', 'staff', 'mesa', 'hard', 'play', 'life', 'always', 'hard', 'southerners', 'regularly', 'walk', 'great', 'distances', 'find', 'food', 'livestock', 'although', 'might', 'find', 'early', 'onslaught', 'hard', 'stomach', 'retail', 'experts', 'agree', 'advantages', 'consumers', 'declined', 'name', 'stocks', 'hard', 'spot', 'rallies', 'among', 'stocks', 'given', 'dead', 'hard', 'ground', 'shakes', 'vilma', 'david', '32', 'hard', 'live', 'right', 'know', 'machine', 'could', 'save', 'someone', 'life', 'children', 'find', 'hard', 'understand', 'mother', 'would', 'sacrifice', 'daughter', 'lowlife', 'man', 'like', 'know', 'happen', 'big', 'lesson', 'hard', 'lesson', 'needed', 'learn', 'anna', 'petrovna', 'fedorova', '68', 'former', 'communist', 'party', 'member', 'moscow', 'hard', 'choices', 'made', 'gov', 'engler', 'decided', 'money', 'available', 'go', 'families', 'children', 'much', 'possible', 'albers', 'finds', 'value', 'often', 'apparent', 'many', 'investors', 'harder', 'time', 'identifying', 'believing', 'long-term', 'earnings', 'trend', 'harder', 'public', 'health', 'interventions', 'modify', 'looked', 'routine', 'familiar', 'even', 'five', 'consecutive', 'losses', 'manager', 'tony', 'la', 'russa', 'mused', 'look', 'like', 'hard', 'take', 'cynical', 'tack', 'argue', 'stone', 'clever', 'way', 'appealing', 'today', 'youth', 'audience', 'pressed', 'would', 'hard', 'time', 'telling', 'jim', 'morrison', 'morris', 'cat', 'course', 'early', 'dudes', 'hard', 'act', 'follow', 'baker', 'atwater', 'critics', 'even', 'friends', 'would', 'find', 'hard', 'believe', 'self-professed', 'bad', 'boy', 'angels', 'fires', 'going', 'particularly', 'hot', 'hard', 'put', 'new', 'bills', 'two', 'nearly', 'invisible', 'features', 'make', 'life', 'much', 'harder', 'forgers', 'director-writer-producer', 'co-star', 'matty', 'rich', 'closes', 'reminder', 'first', 'things', 'learned', 'hardest', 'forget', 'token', 'hard', 'imagine', 'interest', 'rates', 'rising', 'soon', 'global', 'economy', 'slowing', 'markedly', 'impartiality', 'question', 'committee', 'leaders', 'want', 'answer', 'wrenching', 'national', 'questions', 'yet', 'would', 'hard', 'devise', 'panel', 'less', 'impartial', 'toward', 'vietnam', 'direct', '9', 'million', 'investigation', 'etiquette', 'hard', 'time', 'getting', 'act', 'together', 'morning', 'adults', 'harder', 'work', 'children', 'really', 'hard', 'tell', 'good', 'anybody', 'right', 'archbishop', 'mitty', 'coach', 'marty', 'procaccio', 'attorney', 'general', 'ordered', 'federal', 'prosecutors', 'target', 'violent', 'offenders', 'community', 'put', 'away', 'hard', 'time', 'federal', 'prisons', 'intelligent', 'composed', 'unflappable', 'religious', 'attractive', 'testified', 'sexual', 'harassment', 'clarence', 'thomas', 'even', 'inadequacies', 'agreeing', 'taken', 'long', 'come', 'forward', 'hard', 'understand', 'kept', 'touch', 'officers', 'acknowledged', 'fate', '20', '25', 'others', 'harder', 'guess', 'ones', 'whose', 'homes', 'reduced', 'ashes', 'rubble', 'fire', 'intense', 'cremated', 'victims', 'goals', 'maintenance', 'hardest', 'part', 'challenges', 'like', 'weigh-ins', 'office', 'visits', 'hard', 'barbecue', 'crushed', 'gravel', 'play', 'softball', 'cactus', 'garden', 'hard', 'answer', 'moss', 'hard', 'imagine', 'worse', 'housing', 'united', 'states', 'would', 'hard', 'counter', 'iraqi', 'threat', 'appear', 'source', 'spoke', 'condition', 'anonymity', 'wanted', 'show', 'hard', 'hard', 'criticize', 'gannett', 'ben', 'bagdikian', 'former', 'dean', 'university', 'california', 'berkeley', 'journalism', 'school', 'becoming', 'harder', 'consumers', 'escape', 'electronic', 'scrutiny', 'face', 'gray', 'squirrels', 'hard', 'resist', 'attorneys', 'defended', 'county', 'knew', 'difficult', 'case', 'made', 'even', 'harder', 'anti-police', 'atmosphere', 'prevailing', 'wake', 'march', '3', 'beating', 'king', \"'he\", 'going', 'hard', 'live', 'hard', 'know', 'feel', 'lauro', 'di', 'bosis', 'hardest', 'part', 'schedule', 'coming', 'coach', 'terry', 'malley', 'jokingly', 'added', 'trying', 'get', 'contract', 'renegotiated', 'soon', 'possible', 'rapidly', 'changing', 'society', 'congregations', 'run', 'difficulties', 'repeatedly', 'since', 'nice', 'balances', 'economic', 'integration', 'hard', 'sustain', 'metropolis', 'single', 'generation', 'still', 'hard', 'imagine', 'debt', 'collecting', 'appeal', 'stems', 'job', 'obvious', 'ability', 'intimidate', 'much', 'harder', 'get', 'data', 'cost', 'treating', 'hiv', 'infection', 'without', 'aids', 'hard', 'exactly', 'bathroom', 'accommodate', 'since', 'know', 'exact', 'dimensions', 'print', 'hard', 'big', 'west', 'conference', 'softball', 'opponents', 'might', 'hard', 'time', 'believing', 'san', 'jose', 'state', 'noleana', 'woodard', 'playing', '85', 'percent', 'efficiency', 'check', 'hard', 'know', 'things', 'people', 'believe', 'actually', 'try', 'keep', 'secret', 'eggbeaters', 'hard', 'find', 'retired', 'unjustly', 'raised', 'unprecedented', 'number', 'single-parent', 'latchkey', 'households', 'post-boomers', 'learned', 'take', 'care', 'hard', 'time', 'trusting', 'others', 'hard', 'look', 'mo', 'last', 'year', 'realize', 'big', 'tall', 'energy-filled', 'dynamo', 'really', 'rep', 'john', 'j', 'rhodes', 'iii', 'r-ariz', 'would', 'ask', 'hard', 'hispanic', 'people', 'race', 'harder', 'refuse', 'someone', 'money', 'look', 'straight', 'ahead', 'keep', 'walking', 'hard', 'blame', 'state', 'hard', 'remember', 'far', 'back', 'pretty', 'sure', 'first', 'grade', 'never', 'heard', 'word', 'sex', 'still', 'farm', 'aiming', 'market', '100', 'pounds', 'sturgeon', 'month', 'others', 'including', 'tiny', 'morgan', 'hill', 'aquafarms', 'eyeing', 'expansion', 'hard', 'imagine', 'day', 'far', 'far', 'future', 'sturgeon', 'may', 'actually', 'commonplace', 'loved', 'pond-raised', 'carp', 'praised', 'czechoslovakian', 'writer', 'ota', 'pavel', 'basis', 'alone', 'choice', 'lying', 'hard', 'make', 'two', 'desserts', 'would', 'hard', 'convince', 'order', 'crepes', '95', '5', '25', 'three', 'sampled', 'bread', 'pudding', '45', 'would', 'hard', 'frys', 'clinging', 'tenacity', 'life', 'austere', 'house', 'seemed', 'joyless', 'barrenness', 'little', 'different', 'fine', 'private', 'place', 'grave', 'sorting', 'enemies', 'friends', 'swirling', 'battlefield', 'hardest', 'tasks', 'close-air-support', 'pilots', 'face', 'capt', 'john', 'mills', 'a-10', 'pilot', 'hard', 'imagine', 'changed', 'trying', 'win', 'triple', 'crown', 'valuable', 'player', 'award', 'hard', 'enough', 'playing', 'sore', 'knee', 'stretch', 'would', 'make', 'virtually', 'impossible', 'special', 'effects', 'especially', 'hard', 'hard', 'remember', 'indians', 'faced', 'danger', 'eduardo', 'franklin', 'spokesman', 'government', 'national', 'indian', 'council', 'rio', 'de', 'janiero', 'today', 'gold', 'harder', 'get', 'low', 'world', 'prices', 'combined', 'higher', 'costs', 'mining', 'thinned', 'ranks', 'prospectors', 'hard', 'times', 'referred', 'child', 'wonder', 'medea', 'towering', 'rage', 'marriage', 'lover', 'jason', 'local', 'princess', 'storms', 'steams', 'around', 'stage', 'making', 'dire', 'noises', 'rending', 'garments', 'unperming', 'hair', 'hard', 'way', 'pulling', 'slow', 'dancing', 'asked', 'hard', 'fair', 'getting', 'harder', 'collect', 'kind', 'data', 'guerrilla', 'nature', 'conflict', 'made', 'hard', 'soldiers', 'distinguish', 'friend', 'foe', 'diana', 'bond', 'chairman', 'los', 'gatos', 'casa', 'chapter', 'presenting', 'community', 'specific', 'information', 'makes', 'hard', 'ignore', 'deny', 'problem', 'hard', 'measure', 'dollars', 'value', 'mature', 'oak', 'maple', 'tree', 'sheltering', 'house', 'summer', 'sun', 'definitely', 'asset', 'see', 'ranking', 'ahead', 'kareem', 'abdul-jabbar', 'teams', 'hard', 'rate', 'ahead', 'bill', 'russell', 'usf', 'teams', 'british', 'travel', 'association', 'excellent', 'work', 'taking', 'care', 'foreigners', 'want', 'good', 'time', 'study', 'pompously', 'called', 'british', 'way', 'life', 'hard', 'time', 'hands', 'hard', 'find', 'mexican', 'food', 'tokyo', 'sanchez', 'told', 'villa', 'montalvo', 'audience', 'normally', 'hard', 'time', 'getting', 'plane', 'reservation', 'hawaii', 'decent', 'room', 'popular', 'resorts', 'definitely', 'hard', 'imagine', 'affable', 'stewart', 'talking', 'especially', 'since', 'interview', 'new', 'york', 'times', 'finished', 'criticizing', 'high', 'salaries', 'given', 'termed', 'mediocre', 'players', 'major', 'leagues', 'hard', 'tell', 'looking', 'mary', 'vernieu', 'casting', 'associate', 'ran', 'video', 'camera', 'exercisers', 'particular', 'probably', 'afford', 'occasional', 'sin', 'without', 'jeopardizing', 'hard', 'health', 'benefits', 'donation', 'hard', 'match', 'hard', 'believe', 'according', 'recent', 'polls', 'many', 'freedom-loving', 'americans', 'freedom-loving', 'peoples', 'world', 'would', 'actually', 'opt', 'military', 'censorship', 'already', 'heavily-restricted', 'gulf', 'war', 'news', 'comes', 'way', 'long-term', 'exposure', 'level', 'pollution', 'may', 'accelerate', 'decline', 'lung', 'capacity', 'making', 'harder', 'breath', 'fully', 'hard', 'tell', 'landlord', \"'i\", 'keep', 'mind', 'future', 'yet', 'people', 'caught', 'entrepreneurial', 'spirit', 'often', 'unrealistic', 'push', 'ahead', 'vague', 'assurances', 'get', 'together', 'referring', 'people', 'roman', 'utters', 'every', 'line', 'fervor', 'force', 'hard', 'tell', 'whether', 'angry', 'ambitious', 'agreeable', 'altruistic', 'fairy', 'tale', 'success', 'joy', 'luck', 'club', 'hard', 'ignore', 'published', '1988', 'good', 'cakes', 'occasion', 'sample', 'chocolate-orange-walnut', 'cake', 'sherry', 'walnut', 'cake', 'trifle', 'hard', 'pass', 'town', 'variety', 'rates', 'based', 'flatland', 'areas', 'hard', 'to-serve', 'areas', 'common', 'service', 'two', 'cans', 'per', 'household', 'go', '30', '11', '72', 'per', 'month', 'third', 'element', 'perhaps', 'hardest', 'would', 'software', 'could', 'manage', 'computers', 'ease', 'cleaning', 'consideration', 'especially', 'people', 'two-story', 'house', 'windows', 'hard', 'reach', 'club', 'raised', 'last', 'year', 'amount', 'hard', 'attain', 'spread', 'around', '14', 'charities', 'year', 'small', 'step', 'makes', 'harder', 'criminal', 'crazy', 'get', 'hold', 'deadly', 'weapon', 'hard', 'believe', 'always', 'successful', 'direction', 'though', 'stories', 'tell', 'early', 'days', 'showbusiness', 'hard', 'believe', 'compared', 'present-day', 'success', 'long', 'hard', 'know', 'job', 'done', 'island', 'monitored', 'pigs', 'two', 'three', 'years', 'well', 'may', 'hard', 'disguise', 'junk', 'health', 'food', 'danger', 'prison', 'guards', 'argument', 'another', 'vasquez', 'reason', 'cited', 'schnacke', 'decision', 'little', 'harder', 'ignore', 'much', 'may', 'hard', 'moreover', 'political', 'strife', 'shortsightedness', 'governments', 'often', 'root', 'problems', 'governments', 'hard', 'control', 'fact', 'nordiques', 'hard', 'time', 'hiding', 'frustration', 'voices', 'talk', 'lindros', 'highly', 'touted', 'draft', 'pick', 'refuses', 'play', 'quebec', 'returned', 'juniors', 'team', 'joining', 'canadian', 'olympic', 'team', 'recently', 'hard', 'stop', 'single', 'pair', 'david', 'steinman', 'written', 'book', 'pesticides', 'chemicals', 'food', 'hard', 'keep', 'exclaiming', 'reception', 'gotten', 'minds', 'findings', 'family', 'survey', 'conducted', 'national', 'commission', 'children', 'box', '88', 'percent', 'adults', 'think', 'harder', 'parent', 'today', 'used', 'u', 'hard', 'climb', 'ladder', 'step', 'step', 'lagera', 'wants', 'vets', 'attend', 'hard', 'time', 'locating', 'national', 'security', 'adviser', 'brent', 'scowcroft', 'cautioned', 'lot', 'harder', 'cooperate', 'peaceful', 'ventures', 'prosecuting', 'war', 'often', 'trouble', 'refusing', 'extend', 'credit', 'hard', 'take', 'personal', 'hat', 'put', 'business', 'hard', 'predict', 'could', 'go', 'october', 'gone', 'hardest', 'part', 'calculating', 'costs', 'fighting', 'war', 'requires', 'making', 'adjustments', 'costs', 'fighting', 'yet', 'hard', 'believe', 'future', 'going', 'quite', 'like', 'past', 'saddam', 'government', 'clearly', 'faces', 'challenges', 'hard', 'criticize', 'would', 'art', 'student', 'walk', 'louvre', 'complain', 'da', 'vinci', 'used', 'brighter', 'colors', 'given', 'lady', 'wider', 'smile', 'timecap', 'bottle', 'seems', 'bulky', 'first', 'sight', 'might', 'advantage', 'harder', 'misplace', 'small', 'slim', 'container', 'fixings', 'padding', 'flavor', 'mclean', 'harder', 'tell', 'eating', '100', 'percent', 'beef', 'forked', '8', 'million', 'cash', 'bel-air', 'shelter', 'make', 'harder', 'news', 'hawks', 'spy', 'david', 'ogden', 'stiers', 'makes', 'valiant', 'effort', 'bring', 'town', 'mayor', 'life', 'often', 'hard', 'decipher', 'aggressive', 'southern', 'accent', 'blustery', 'tone', 'think', 'hard', 'saints', 'concentrate', 'tackle', 'steve', 'wallace', 'happy', 'superdome-dwellers', 'could', 'get', 'taste', 'medicine', 'helped', 'quite', 'bit', 'divorced', 'hard', 'time', 'supporting', 'especially', 'hard', 'survivor', 'spouse', 'child', 'involved', 'hard', 'get', 'doctors', 'definitely', 'carrying', 'school', 'books', 'cause', 'problems', 'likely', 'crowley', 'whether', 'mainstream', 'new', 'age', 'goddess-oriented', 'point', 'view', 'expressing', 'female', 'earth-centered', 'style', 'worship', 'rather', 'specific', 'body', 'liturgy', 'wiccan', 'mainly', 'british', 'isles', 'paganism', 'named', 'old', 'english', 'word', 'witch', 'today', 'celebrants', 'varied', 'hard', 'count', 'sometimes', 'hard', 'choose', 'land', 'hard', 'find', 'wild', 'game', 'populations', 'declining', 'loss', 'habitat', 'tom', 'ebert', 'partner', 'construction', 'company', 'wants', 'build', 'sporting', 'clays', 'range', 'geraldo', 'rivera', 'hit', 'new', 'low', 'last', 'week', 'hard', 'appalling', 'hard', 'figure', 'point', 'going', 'saddam', 'hussein', 'actually', 'willing', 'pull', 'kuwait', 'without', 'land', 'war', 'try', 'keep', 'touch', 'children', 'hard', 'crushed', 'california', 'dear', 'calif', 'every', 'right', 'feel', 'betrayed', 'angry', 'let', 'foolish', 'pride', 'catapult', 'decision', 'painful', 'expensive', 'hard', 'kids', 'jonsen', 'foresees', 'thousands', 'sick', 'patients', 'coming', 'state', 'seek', 'aid', 'dying', 'backlash', 'conservative', 'states', 'make', 'harder', 'end', 'life', 'much', 'material', 'hard', 'come', 'available', 'british', 'libraries', 'pocock', 'corrections', 'department', 'spokesman', 'tip', 'kindel', 'drugs', 'used', 'control', 'bizarre', 'behavior', 'inhibit', 'body', 'ability', 'perspire', 'making', 'harder', 'body', 'cooling', 'mechanism', 'work', 'young', 'adults', 'survey', 'ages', '18', '29', 'reported', 'particularly', 'hard', 'time', 'john', 'devitt', 'learned', 'hard', 'way', 'large', 'corporations', 'anything', 'buck', 'came', 'back', 'hard', 'adds', 'wingspan', 'bigger', 'palm', 'shrill', 'drawn-out', 'call', 'often', 'compared', 'plaintive', 'mew', 'kitten', 'gnatcatcher', 'bird', 'hard', 'dislike', 'sounds', 'looks', 'hard', 'really', 'success', 'rate', 'high', 'rapid', 'buildup', 'teachers', 'salaries', 'teachers', 'hard', 'get', 'political', 'stanford', 'kirst', 'people', 'willing', 'pay', '200', 'week', 'sleep', 'cot', 'closet', 'hard', 'resist', 'temptation', 'put', 'partition', 'middle', 'garage', 'cut', 'two', 'little', 'doors', 'garage', 'doors', 'move', 'children', 'master', 'bedroom', 'put', 'family', 'lettuce', 'workers', 'garage', 'cubicle', 'couple', 'tarp', 'shed', 'back', 'eight', 'men', 'bunks', 'newly', 'vacant', 'room', 'two', 'campers', 'driveway', 'sidewalk', 'lawn', 'front', 'laugh', 'going', 'much', 'harder', 'maintains', 'newark', 'author', 'whose', 'book', 'suddenly', 'single', 'mother', 'survival', 'book', 'published', 'mills', 'sanderson', 'bedford', 'mass', 'unfortunately', 'display', 'hard', 'read', 'batteries', 'last', 'long', 'enough', 'processor', 'obsolete', 'new', 'machines', 'introduced', 'last', 'month', 'faster', 'processors', 'processors', 'extend', 'battery', 'life', 'whole', 'thing', 'weighs', 'much', 'hard', 'tell', 'actor', 'landis', 'circumstances', 'would', 'find', 'hard', 'perhaps', 'indeed', 'impossible', 'absorb', 'within', 'reasonable', 'time', 'young', 'people', 'thus', 'thrown', 'swoop', 'speak', 'labour', 'market', 'ended', 'letter', 'kindly', 'plea', 'understanding', 'sides', 'know', 'hard', 'people', 'make', 'lunches', 'think', 'go', 'wrote', 'hard', 'believe', 'pendulum', 'swing', 'even', 'wider', 'boxing', 'kevin', 'monaghan', 'nbc', 'boxing', 'coordinator', 'tuesday', 'apparently', 'bizarre', 'homophobic', 'press', 'conference', 'conducted', 'mike', 'tyson', 'high', 'school', 'freshman', 'fallbrook', 'rural', 'farm', 'town', 'north', 'san', 'diego', 'trimble', 'decided', 'would', 'attend', 'california', 'institute', 'technology', 'thought', 'hardest', 'school', 'country', 'get', 'degeneres', 'meanwhile', 'proved', 'harder', 'peg', 'summer', 'harvest', 'brought', 'countryside', 'runs', 'harder', 'worst', 'fashion', 'disaster', 'award', 'presenter', 'although', 'would', 'hard', 'single', 'couture', 'calamity', 'crowd', 'included', 'hundreds', 'women', 'sporting', 'rhinestone-and-spandex', 'numbers', 'would', 'make', 'tenderloin', 'hooker', 'blush', 'hayes', 'wins', 'category', 'black', 'spangled', 'baby-doll', 'outfit', 'offset', 'crucifix', 'big', 'enough', 'pound', 'nails', 'hard', 'fred', 'herman', 'palo', 'alto', 'chief', 'building', 'official', 'days', 'hard', 'stay', 'cool', 'listening', 'angry', 'complaints', 'ifyou', 'interested', 'smith', 'asks', 'people', 'want', 'sign', 'send', 'least', 'signatures', 'hard', 'append', 'devon', 'smith', 'r', 'robot', 'lane', 'wampum', 'pa', '16157', 'u', 'businesses', 'finding', 'credit', 'harder', 'get', 'costly', 'bankers', 'continue', 'tighten', 'lending', 'standards', 'hard', 'believe', 'tell', 'hounded', 'husband', 'complaints', 'toronto', 'players', 'hard', 'get', 'along', 'bell', 'far', 'fit', 'well', 'cubs', 'clubhouse', 'hard', 'see', 'upturn', 'stephen', 'balog', 'associate', 'director', 'research', 'shearson', 'lehman', 'brothers', 'inc', 'mother', 'used', 'give', 'really', 'hard', 'time', 'freddy', 'left', 'guard', 'guy', 'mcintyre', 'thought', 'paris', 'lengthy', 'conditioning', 'hiatus', 'made', 'hard', 'catch', 'teammates', 'need', 'find', 'happening', 'hard', 'part', 'e', 'elbow', 'injury', 'easier', 'take', 'ways', 'back', 'problem', 'harder', 'ways', 'montana', 'last', 'week', 'final', 'pre-surgery', 'interviews', 'take', 'compromise', 'accept', 'sometimes', 'hard', 'take', 'made', 'four', 'eggs', 'omelets', 'huge', 'hard', 'finish', 'seats', 'firm', 'comfortable', 'slightly', 'hard', 'adjust', 'recent', 'runup', 'stock', 'prices', 'good', 'values', 'become', 'much', 'harder', 'find', 'sticking', 'vow', 'turns', 'harder', 'thought', 'help', 'hard', 'come', 'organization', 'every', 'crisis', 'civil', 'liberties', 'chipped', 'away', 'lost', 'hard', 'get', 'back', 'rep', 'edwards', 'd-san', 'jose', 'government', 'produces', 'paperwork', 'like', 'mcdonalds', 'cooks', 'hamburgers', 'numbers', 'hard', 'comprehend', 'unless', 'show', 'something', 'legal', 'saying', 'leave', 'going', 'give', 'hard', 'time', 'chris', 'miller', 'durham', 'metz', 'many', 'buildings', 'full', 'roosters', 'hard', 'time', 'keeping', 'track', 'game', 'saturday', 'hard', 'whether', 'could', 'play', 'eliminate', 'small', 'patches', 'grass', 'places', 'hard', 'mow', 'smith', 'hard', 'time', 'earning', 'respect', 'young', 'off-campus', 'coach', 'cared', 'players', 'potential', 'soccer', 'players', 'students', 'work', 'grown-ups', 'making', 'hard', 'choices', 'issues', 'education', 'health', 'care', 'economic', 'growth', 'left', 'undone', 'dead', 'body', 'particularly', 'hard', 'face', 'certainly', 'seen', '15', 'qbasic', 'program', 'asks', 'answers', 'question', 'print', 'hard', 'uncommon', 'cases', 'tend', 'hard', 'value', 'cut', 'kind', 'hard', 'aftermath', 'devastating', 'fire', 'easiest', 'hardest', 'time', 'impose', 'la', 'villa', 'hard', 'believe', 'dave', 'patty', 'bertucelli', 'crammed', 'even', 'food', 'small', 'arguably', 'best', 'italian', 'deli', 'south', 'north', 'beach', 'although', 'palo', 'alto', 'medical', 'foundation', 'already', 'city', 'council', 'approval', 'planned', 'expansion', 'project', 'learning', 'hard', 'way', 'situation', 'anything', 'settled', 'hard', 'enough', 'like', 'penny', 'directing', 'get', 'gotten', 'without', 'men', 'club', 'mentality', 'although', 'x-ray', 'heavily', 'researched', 'japan', 'difficult', 'use', 'draw', 'lines', 'chip', 'x-ray', 'particles', 'hard', 'control', 'phone', 'lines', 'hard', 'get', 'faxes', 'go', 'phone', 'lines', 'always', 'work', 'images', 'tragic', 'game', 'hard', 'shake', 'hank', 'gathers', 'slam-dunked', 'giving', '22nd-ranked', 'loyola', 'marymount', '25-13', 'lead', 'portland', 'west', 'coast', 'conference', 'tournament', 'semifinal', 'game', 'never', 'completed', 'fortunately', 'wheel', 'bearings', 'slow', 'hard', 'get', 'going', 'fast', 'even', 'slight', 'downhill', 'cursor', 'often', 'hard', 'find', 'small', 'dim', 'lap-top', 'screens', 'early', 'essays', 'although', 'reveal', 'sympathy', 'goodwill', 'often', 'seem', 'either', 'strain', 'political', 'correctness', 'lapse', 'coyness', 'boyhood', 'hard', 'leave', 'perhaps', 'never', 'try', 'become', 'man', 'times', 'ask', 'ladies', 'neither', 'absolution', 'understanding', '7', '30', 'ready', 'leave', 'streets', 'getting', 'crowded', 'hard', 'walk', 'without', 'bumping', 'someone', 'president', 'bush', 'june', '3', 'make', 'called', 'hard', 'decision', 'whether', 'renew', 'low', 'tariff', 'rates', 'chinese', 'goods', 'view', 'lee', 'insecure', 'women', 'probably', 'comfortable', 'white', 'people', 'makes', 'doubly', 'hard', 'white', 'woman', 'hard', 'explain', 'war', 'kid', 'q', 'causes', 'hard', 'cold', 'starts', 'morning', 'criticism', 'comes', 'member', 'kennedy', 'clan', 'harder', 'dismiss', 'details', 'harder', 'still', 'see', 'course', 'kind', 'behavior', 'gives', 'hockey', 'bad', 'name', 'hard', 'argue', 'success', 'self-published', 'book', 'much', 'primer', 'hard', 'to-find', 'santa', 'cruz', 'mountains', 'history', 'story', 'transportation', 'landmark', 'hard', 'present', 'system', 'people', 'small', 'units', 'local', 'government', 'get', 're-elected', 'take', 'regional', 'interest', 'serious', 'account', 'desert', 'storm', 'buttons', 'cloth', 'eagle', 'patches', 'john', 'jarrett', 'head', 'firm', 'hard', 'time', 'keeping', 'anything', 'stock', 'anyone', 'seen', 'films', 'would', 'hard', 'time', 'attacking', 'person', 'enjoy', 'god', 'green', 'earth', 'hard', 'get', 'money', 'plan', 'hard', 'tell', 'crystal', 'ball', 'get', 'mileage', 'politically', 'weir', 'seymour', 'announcement', 'may', 'hard', 'judge', 'destructive', 'long', 'run', 'really', 'mind', 'sitting', 'around', 'couple', 'days', 'rains', 'thursday', 'going', 'pretty', 'hard', 'handle', 'made', 'struggle', 'much', 'harder', 'doubt', 'meeting', 'fiscal', 'challenge', 'current', 'budget', 'year', 'harder', 'last', 'year', 'assignment', 'allemann', 'hard', 'fit', 'looks', 'like', 'fashion', 'statement', 'red', 'dress', 'rakish', 'pancake', 'hat', 'hard', 'leading', 'wrong', 'many', 'people', 'unemployed', 'staying', 'home', 'harder', 'conserve', 'hard', 'make', 'impression', 'merely', 'week', 'exhibition', 'games', 'remaining', 'darnell', 'coles', 'seemed', 'determined', 'monday', 'afternoon', 'united', 'states', 'learned', 'hard', 'way', 'danger', 'cozying', 'dictators', 'iraqi', 'president', 'saddam', 'hussein', 'invaded', 'kuwait', 'last', 'august', 'flouted', 'nine', 'years', 'alliance', 'west', 'problem', 'food', 'selection', 'think', 'fire-pot', 'demands', 'attention', 'hard', 'see', 'reach', 'around', 'traders', 'trading', 'many', 'different', 'objectives', 'many', 'unique', 'individualized', 'market', 'theories', 'trading', 'techniques', 'use', 'coming', 'use', 'time', 'hard', 'imagine', 'particular', 'theory', 'technique', 'could', 'acquire', 'enough', 'fans', 'invalidate', 'golfers', 'vacation', 'folks', 'love', 'play', 'golf', 'vacation', 'hard', 'think', 'better', 'place', 'tee', 'bermuda', 'santa', 'clara', 'unified', 'school', 'district', 'board', 'tuesday', 'approved', 'plan', 'stave', 'hard', 'economic', 'times', 'handle', 'enrollment', 'boom', '8', 'students', 'next', 'decade', 'selling', 'leasing', 'school', 'sites', 'reopening', 'others', 'long', 'closed', 'much', 'could', 'handled', 'quietly', 'ground', 'hard', 'devincenzi', 'figures', 'sum', 'hard', 'raise', 'given', 'pride', 'level', 'italian-americans', 'last', 'week', 'series', 'florentine-flavored', 'festivities', 'topped', 'black-tie', 'opera', 'concert', 'friday', 'night', 'st', 'joseph', 'cathedral', 'bash', 'following', 'fairmont', 'plaza', 'somehow', 'seems', 'hard', 'picture', 'san', 'jose', 'men', 'teal', 'getting', 'aggressive', 'women', 'raped', 'man', 'know', 'much', 'harder', 'time', 'recovering', 'trauma', 'women', 'raped', 'strangers', 'research', 'showing', 'whether', 'plateau', 'temporary', 'stop', 'along', 'wayside', 'hard', 'dr', 'roy', 'campbell', 'lyme', 'disease', 'specialist', 'cdc', 'hard', 'tambrands', 'inc', 'advertised', 'army', 'times', 'navy', 'times', 'air', 'force', 'times', 'offering', 'send', 'tampax', 'directly', 'women', 'soldiers', 'gulf', 'company', 'received', 'couple', 'thousand', 'requests', 'bruce', 'garren', 'spokesman', 'lake', 'success', 'company', 'united', 'states', 'postal', 'inspection', 'service', 'produced', 'new', 'money', 'order', 'make', 'harder', 'counterfeit', 'money', 'orders', 'color', 'copiers', 'alter', 'dollar', 'amounts', 'legitimate', 'ones', 'even', 'harder', 'believe', 'person', 'familiar', 'consequences', 'addiction', 'could', 'fallen', 'love', 'contains', 'magnifies', 'explosion', 'makes', 'harder', 'crew', 'escape', 'whether', 'aberration', 'year', 'oops', 'kind', 'misfiring', 'sign', 'serious', 'problems', 'lie', 'ahead', 'hard', 'know', 'sure', 'owners', 'incidents', 'petty', 'hard', 'argue', 'numbers', 'kind', 'hard', 'afford', 'buy', 'even', 'shoes', 'wear', 'walk', 'church', 'hard', 'imagine', 'even', 'suggestible', 'youngster', 'buying', 'film', 'phony', 'emotionalism', 'hackneyed', 'holiday', 'spirit', 'state', 'money', 'available', 'hard', 'board', 'digest', 'idea', 'newark', 'annex', 'mciver', 'aeschbacher', 'work', 'much', 'akin', 'schnabel', 'sound', 'decca', 'disc', 'dated', 'hard', 'time', 'locating', 'copy', 'ideal', 'going', 'leaves', 'addition', 'pick', 'pine', 'needles', 'hedge', 'clippings', 'get', 'bushes', 'hard', 'rake', 'tom', 'vasis', 'manager', 'product', 'merchandising', 'echo', 'veterans', 'get', 'identity', 'hard', 'way', 'hard', 'time', 'remembering', 'match', 'agassi', 'much', 'concerned', 'would', 'succeed', 'attempt', 'would', 'messy', 'would', 'hard', 'kind', 'moderate', 'center', 'keep', 'power', 'high-level', 'u', 'intelligence', 'official', 'manila', 'years', 'told', 'listening', 'rest', 'record', 'find', 'hard', 'disagree', 'paying', 'higher', 'rates', 'banks', 'harder', 'time', 'collecting', 'unpaid', 'balances', 'suffer', 'greater', 'losses', 'credit', 'cards', 'secured', 'loans', 'even', 'industrial', 'development', 'leaders', 'find', 'hard', 'win', 'local', 'support', 'training', 'unless', 'new', 'industry', 'sight', 'requests', 'hard', 'honest', 'hard', 'imagine', 'hard', 'set', 'standard', 'long', 'hard', 'struggle', 'make', 'norm', 'parents', 'godparents', 'realize', 'important', 'event', 'particular', 'preparation', 'needed', 'hardest', 'part', 'find', 'mental', 'physical', 'department', 'director', 'john', 'christian', 'told', 'council', 'hard', 'find', 'adequate', 'locations', 'dog', 'parks', 'sites', 'either', 'next', 'schools', 'school', 'officials', 'like', 'small', 'city', 'would', 'give', 'recreational', 'facilities', 'make', 'way', 'dogs', 'auction', 'business', 'hard', 'retail', 'store', 'mccoy', 'tales', 'circulated', 'test', 'audiences', 'finding', 'suicide', 'hard', 'take', 'ending', 'changed', 'much', 'harder', 'find', 'someone', 'would', 'understand', 'thomas', 'well', 'hard', 'watch', 'movers', 'recently', 'emptied', 'old', 'home', 'many', 'antiques', 'including', '25', 'floor-to-ceiling', 'clocks', 'albert', 'refurbished', 'years', 'hard', 'watch', 'serious', 'pest', 'sometimes', 'hard', 'kill', 'tired', 'parents', 'dealing', 'sleep', 'problems', 'harder', 'dealing', 'infectious', 'diseases', 'hard', 'deal', 'system', 'emphasizes', 'small', 'entrepreneurial', 'businesses', 'looks', 'negotiating', 'hard', 'expensive', 'maybe', 'best', 'thing', 'million', 'dollar', 'getaway', 'shows', 'hard', 'make', 'crime', 'pay', 'athletes', 'would', 'hard', 'time', 'reading', 'cereal', 'box', 'duncan', 'document', 'brought', 'light', 'today', 'editions', 'washington', 'post', 'could', 'study', 'home', 'atmosphere', 'harder', 'however', 'payne', 'company', 'hard', 'time', 'selling', 'production', 'town', 'scheduled', 'close', 'past', 'friday', 'u', 'newspaper', 'railed', 'inhumanity', 'extraordinarily', 'hard', 'find', 'record', 'move', 'could', 'threaten', 'planned', '400-mile', 'bay', 'area', 'ridge', 'trail', 'santa', 'clara', 'county', 'considering', 'making', 'harder', 'government', 'take', 'private', 'land', 'public', 'hiking', 'biking', 'riding', 'trails', 'hard', 'explain', 'rhino', 'title', 'q', 'close', 'turns', 'power', 'steering', '1985', 'chrysler', 'hard', 'turn', 'feels', 'bouncy', 'asked', 'whether', 'endangered', 'species', 'act', 'requires', 'chinook', 'salmon', 'spared', 'pain', 'even', 'expense', 'users', 'paff', 'makes', 'balancing', 'act', 'harder', 'sure', \"'and\", 'big', 'studios', 'hard', 'deal', 'hard', 'believe', 'want', 'believe', 'future', 'better', 'present', 'hard', 'believe', 'karina', 'gebauers', 'slender', '18-year-old', 'latvian', 'studying', 'fashion', 'design', 'find', 'hard', 'duplicate', 'feeling', 'love', 'encompasses', 'odor', 'french', 'fries', 'floats', 'air', 'finding', 'hard', 'find', 'affordable', 'place', 'live', 'realize', 'hard', 'road', 'ahead', 'especially', 'homeless', 'penniless', 'jobless', 'person', 'redgrave', 'sisters', 'recently', 'starred', 'remake', 'awfully', 'hard', 'beat', 'original', 'company', 'hard', 'get', 'coal', 'seams', 'downturn', 'market', 'made', 'operation', 'unprofitable', 'hard', 'feel', 'compassion', 'nelson', 'hard', 'best', 'leading', 'hard', 'take', 'offense', 'task', 'carried', 'want', 'better', 'national', 'life', 'willing', 'look', 'whole', 'tedious', 'picture', 'ask', 'hard', 'questions', 'give', 'luxury', 'depending', 'surrogate', 'parent', 'make', 'decisions', 'hard', 'distinguish', 'vinyl', 'good', 'coverings', 'companies', 'deal', 'archival', 'materials', 'bauer', 'former', 'living', 'star', 'explains', 'prior', 'production', 'film', 'plays', 'de', 'niro', 'mistress', 'everybody', 'trying', 'tell', \"'real\", 'robert', 'de', 'niro', 'like', 'stand', 'close', 'hard', 'get', 'along', 'hard', 'ever', 'forget', 'sequence', 'latter', 'people', 'want', 'give', 'something', 'fond', 'memories', 'many', 'things', 'hard', 'nowadays', 'salsa', 'afro-pop', 'brazilian', 'music', 'popular', 'ethnic', 'instruments', 'hard', 'find', 'hard', 'develop', 'mixed', 'uses', 'reasonable', 'densities', 'hard', 'predict', 'crowd', 'react', 'new', 'oilers', 'like', 'vincent', 'damphousse', 'scott', 'mellanby', 'peter', 'ing', 'troy', 'mallette', 'home', 'opener', 'edmonton', 'waxed', '9-2', 'archrival', 'calgary', 'friday', 'first', 'instinct', \"'oh\", 'start', 'making', 'movie', 'issues', 'hard', 'think', 'movie', 'hard', 'define', 'helprin', 'elusive', 'power', 'evident', 'along', 'unevenness', 'winter', 'tale', 'novel', 'new', 'york', 'grand', 'historical', 'myth', 'project', 'idea', 'student', 'leaders', 'sara', 'charukesnant', 'christine', 'esperanza', 'two', 'best', 'friends', 'finish', 'sentences', 'quickly', 'hard', 'sure', 'pancake', 'grew', 'stiff', 'heavy', 'mouth', 'hard', 'swallow', 'hard', 'talk', 'elderly', 'rural', 'americans', 'find', 'money', 'especially', 'tight', 'health', 'care', 'expensive', 'harder', 'get', 'city', 'agriculture', 'department', 'study', 'started', 'warming', 'businesses', 'recognize', 'hard', 'many', 'people', 'patronize', 'day', 'post', 'office', 'offices', 'san', 'jose', 'open', '5', '30', 'p', 'complicated', 'trend', 'hard', 'generalize', 'across', 'industries', 'blake', 'downing', 'palo', 'alto', 'consultant', 'venture', 'capitalist', 'nowhere', 'seem', 'harder', 'fat', 'police', 'high', 'school', 'level', 'however', 'believes', 'republics', 'may', 'find', 'hard', 'jettison', 'soviet', 'ties', 'may', 'equally', 'hard', 'arts', 'council', 'santa', 'clara', 'county', 'round', 'creative', 'types', 'artists', 'registry', 'described', 'key', 'resource', 'facilitate', 'communication', 'arts', 'community', 'hard', 'accept', 'really', 'hard', 'autographs', 'hard', 'come', 'face', 'two', 'might', 'familiar', 'jill', 'talking', 'hard', 'break', 'san', 'francisco', 'clubs', 'even', 'though', 'draw', 'san', 'jose', 'alison', 'saving', 'parents', 'seems', 'like', 'much', 'harder', 'task', 'however', 'longtime', 'party', 'chairman', 'gus', 'hall', 'hard', 'man', 'reach', 'telephone', 'week', 'often', 'harder', 'cope', 'stress', 'unemployed', 'make', 'ends', 'meet', 'especially', 'two-income', 'household', 'board', 'able', 'ask', 'hard', 'questions', 'ask', 'information', 'certain', 'way', 'understands', 'best', 'let', 'wear', 'killed', 'aphids', 'hard', 'get', 'worry', 'economies', 'robust', 'harder', 'get', 'market', 'openings', 'two', 'german', 'libraries', 'extensive', 'collections', 'islamic', 'world', 'confirmed', 'book', 'existence', 'hard', 'obtain', 'good', 'english', 'however', 'harder', 'preserve', 'good', 'architecture', 'hard', 'believe', 'community', 'become', 'like', 'new', 'york', 'los', 'angeles', 'even', 'hard', 'think', 'events', 'early', 'years', 'marriage', 'veered', 'intense', 'happiness', 'deep', 'sadness', 'kind', 'hard', 'talking', 'someone', 'katherine', 'referring', 'interview', 'krementz', 'hard', 'tell', 'scattered', 'scenes', 'people', 'department', 'different', 'jobs', 'makes', 'hard', 'appraisal', 'interviews', 'department', 'head', 'complained', 'hard', 'override', 'righteousness', 'go', 'surfing', 'administration', 'ducking', 'hard', 'decisions', 'energy', 'environment', 'answer', 'show', 'great', 'hard', 'real', 'feelings', 'expose', 'much', 'check', 'alternatives', 'unfortunately', 'lauan', 'cheapest', 'plywood', 'hard', 'find', 'alternative', 'comparable', 'price', 'parents', 'even', 'finish', 'high', 'school', 'hard', 'even', 'think', 'going', 'college', 'junior', 'patricia', 'rodriguez', 'focus', 'execute', 'anybody', 'hard', 'stop', 'sjs', 'inside', 'linebacker', 'chris', 'clarke', 'team-high', 'nine', 'tackles', 'quarterback', 'sack', 'fumble', 'recovery', 'hard', 'accept', 'fact', 'every', 'four', 'children', 'abused', 'time', '18', 'years', 'old', 'told', 'erickson', 'laid', 'back', 'world', 'series', 'start', 'hyper', 'playoffs', 'erickson', 'guess', 'hard', 'make', 'everybody', 'happy', 'fate', 'awaits', 'emf', 'hard', 'hour', 'hebert', 'hard', 'add', 'times', 'apparently', 'hard', 'even', 'lotto', 'fever', 'cooled', 'cold', 'sweat', 'tameness', 'barking', 'characteristics', 'juvenile', 'animals', 'today', 'dog', 'canine', 'genetically', 'stuck', 'adolescence', 'youngster', 'finds', 'hard', 'keep', 'mouth', 'shut', 'hardest', 'thing', 'comedy', 'idea', 'going', 'work', 'see', 'stage', 'hard', 'open-minded', 'bloodshed', 'probably', 'hardest', 'things', 'finding', 'bean', 'things', 'kids', 'like', 'q', 'regarding', 'sewage', 'treatment', 'plant', 'problem', 'discharging', 'fresh', 'water', 'bay', 'past', 'san', 'jose', 'resistance', 'complying', 'environmental', 'laws', 'seems', 'made', 'settlement', 'water', 'quality', 'control', 'board', 'hard', 'reach', 'hard', 'argue', 'coaching', 'techniques', 'especially', 'becoming', 'toast', 'nba', 'job', 'saturday', 'san', 'antonio', 'texas', 'hard', 'police', 'officers', 'would', 'rather', 'gone', 'shoot', 'bank', 'robbery', 'go', 'community', 'meeting', 'since', 'nixon', 'years', 'discovered', 'aroused', 'racial', 'emotions', 'never', 'hard', 'america', 'better', 'white', 'vote', 'black', 'vote', 'wanted', 'win', 'check', 'going', 'hard', 'write', 'kitayama', 'cause', 'going', 'help', 'industry', 'long', 'run', 'rules', 'hardest', 'part', 'whole', 'experience', 'choosing', 'car', 'drive', 'next', 'would', 'hard', 'make', 'argument', 'business', 'proposing', 'tax', 'increase', 'among', 'human', 'speakers', 'lastly', 'die', 'natural', 'way', 'express', 'pathos', 'though', 'tautology', 'meaning', 'would', 'make', 'correct', 'description', 'career', 'son', 'hard', 'invent', 'gentle', 'reader', 'hard', 'imagine', 'anyone', 'negotiating', 'rise', 'top', 'would', 'consider', 'possible', 'skip', 'mastering', 'simple', 'requirements', 'necessary', 'get', 'food', 'directly', 'mouth', 'hard', 'find', 'nice', 'acres', 'florida', 'harder', 'look', 'new', 'job', 'anderson', 'council', 'make', 'needed', 'hard', 'decision', 'dating', 'hard', 'sometimes', 'always', 'know', 'man', 'interested', 'certainly', 'hard', 'americans', 'patriotic', 'agreed-upon', 'country', 'cherish', 'warring', 'tribes', 'national', 'security', 'state', 'keep', 'lid', '300', 'billion', 'year', 'law', 'order', 'mean', 'hard', 'going', 'sit', 'watch', 'robert', 'redford', 'ride', 'around', 'horseback', 'books', 'easy', 'read', 'hard', 'swallow', 'people', 'would', 'agree', 'immanuel', 'kant', 'great', 'thinker', 'hard', 'understand', 'showing', 'courtesy', 'patrol', 'finton', 'non-smoking', 'officers', 'would', 'simply', 'throw', 'ashtrays', 'police', 'cars', 'making', 'harder', 'smokers', 'use', 'vehicles', 'hardest', 'individual', 'sport', 'hard', 'talk', 'suspect', 'newest', 'waves', 'immigrants', 'become', 'second', 'third', 'generation', 'americans', 'needs', 'voting', 'instincts', 'diverse', 'americans', 'may', 'increasingly', 'hard', 'identify', 'voting', 'bloc', 'yet', 'couple', 'weeks', 'danforth', 'lead', 'charge', 'bush', 'white', 'house', 'pass', '1991', 'civil', 'rights', 'act', 'bill', 'seeking', 'reverse', 'recent', 'supreme', 'court', 'decisions', 'make', 'harder', 'women', 'minorities', 'prove', 'job', 'discrimination', 'especially', 'claims', 'based', 'statistical', 'under-representation', 'workplace', 'youths', 'alameda', 'santa', 'clara', 'counties', 'agree', 'finding', 'summer', 'job', 'year', 'harder', 'ever', 'average', 'day', 'children', 'discovery', 'museum', 'san', 'jose', 'every', 'child', 'answer', 'heaven', 'perhaps', 'place', 'town', 'hard', 'tell', 'big', 'kids', 'little', 'kids', 'hard', 'delve', 'mind', 'rooster', 'hard', 'believe', 'people', 'talking', 'remote', 'chances', 'club', 'saw', 'saw', 'today', 'national', 'labor', 'relations', 'board', 'announced', 'decision', 'friday', 'could', 'make', 'harder', 'companies', 'relocate', 'factories', 'low-wage', 'areas', 'doorknobs', 'become', 'slippery', 'hard', 'twist', 'going', 'hard', 'clients', 'buy', 'though', 'flavor', 'pronounced', 'jarlsberg', 'hard', 'quibble', 'impressive', 'nutrition', 'numbers', 'dreyfuss', 'sam', 'hard', 'take', 'divorce', 'would', 'painful', 'expensive', 'hard', 'kids', 'become', 'hard', 'generate', 'new', 'blood', 'cibilich', 'makes', 'withdrawal', 'grief', 'much', 'harder', 'take', 'time', 'revolutionary', 'qualities', 'copied', 'appear', 'quite', 'dismally', 'hackneyed', 'fresh', 'surprising', 'becomes', 'tricksy', 'affected', 'case', 'new', 'wave', 'movement', 'barnacled', 'cliches', 'hard', 'remember', 'high', 'inordinately', 'high', 'hopes', 'began', 'anyway', 'concern', 'balch', 'springs', 'incident', 'criminals', 'start', 'packing', 'turtles', 'quieter', 'guns', 'harder', 'pick', 'metal', 'detectors', 'hard', 'assessor', 'keep', 'track', 'sales', 'laying', 'contracts', 'really', 'hard', 'find', 'decision-makers', 'first', 'clow', 'hard', 'time', 'getting', 'word', 'parents', 'disabled', 'children', 'may', 'hard', 'manager', 'kind', 'thing', 'managers', 'get', 'paid', 'students', 'signed', 'yearbooks', 'wrote', 'phone', 'numbers', 'backs', 'hands', 'branham', 'junior', 'lori', 'dickerson', 'expected', 'watching', 'graduation', 'particularly', 'hard', 'see', 'hardest', 'part', 'brown', 'probably', 'off-the-field', 'demands', 'surprising', 'often', 'hard', 'get', 'top', 'people', 'interested', 'public', 'service', 'hard', 'imagine', 'things', 'without', 'language', 'learned', 'hard', 'way', 'celebrate', 'final', 'whistle', 'complained', 'club', 'hard', 'time', 'keeping', 'people', 'board', 'directors', 'maturity', 'hard', 'part', 'flops', 'seemed', 'come', 'naturally', 'hardest', 'thing', 'world', \"'i\", 'good', 'capable', 'high', 'school', 'attendance', 'harder', 'keep', 'elementary', 'middle', 'school', 'attendance', 'marsalis', 'versatile', 'son', 'wynton', 'observed', 'hard', 'flip-flop', 'jazz', 'classical', 'evening', 'hard', 'focus', 'dealing', 'loss', 'hard', 'enough', 'hard', 'accident', 'pretty', 'much', 'real', 'fighting', 'even', 'abortion', 'remains', 'legal', 'may', 'become', 'harder', 'obtain', 'explains', 'since', 'actor', 'something', 'hard', 'pull', 'unusual', 'way', 'single', 'person', 'shannon', 'kelley', 'told', 'mother', 'martha', 'kelley', 'owner', 'almaden', 'valley', 'videotaping', 'member', 'almaden', 'kiwanis', 'club', 'hard', 'blind', 'people', 'use', 'machine', 'designed', 'people', 'see', 'find', 'little', 'hard', 'believe', 'hard', 'envision', 'jackson', 'humbly', 'throwing', 'batting', 'practice', 'next', 'six', 'months', 'without', 'creating', 'sort', 'ruckus', 'like', 'idea', 'tied', 'hard', 'time', 'trying', 'cut', 'back', 'constant', 'pain', 'local', 'exhibitors', 'already', 'hard', 'time', 'projecting', 'sharp', 'picture', 'crisp', 'sound', 'always', 'hard', 'leave', 'job', 'enjoys', 'much', 'naturally', 'intention', 'putting', 'much', 'weight', 'found', 'especially', 'hard', 'grasp', 'hard', 'deny', '15', 'players', 'hard', 'get', 'always', 'hard', 'predict', 'future', 'yet', 'policy', 'gets', 'made', 'anyway', 'support', 'media', 'fans', 'harder', 'come', 'team', '13-game', 'losing', 'streak', 'hard', 'everyone', 'bay', 'area', 'performance', 'art', 'traditionally', 'associated', 'extravagant', 'presentations', 'george', 'coates', 'paul', 'dresher', 'whose', 'multimedia', 'work', 'otherwise', 'hard', 'type', 'hard', 'convey', 'words', 'hormones', 'going', 'hard', 'think', 'gerald', 'powers', 'associate', 'professor', 'boston', 'university', 'college', 'communication', 'public', 'relations', 'hard', 'define', 'still', 'trend', 'toward', 'shorter', 'vacations', 'sparked', 'earlier', 'explosion', 'two-worker', 'households', 'makes', 'much', 'harder', 'dovetail', 'schedules', 'grown', 'tour', 'operators', 'increasingly', 'targeted', 'growing', 'market', 'niche', 'possible', 'companies', 'hard', 'time', 'complying', 'laws', 'many', 'already', 'developed', 'policies', 'practices', 'far', 'sync', 'parent-leave', 'laws', 'required', 'study', 'narrow', 'man', 'man', 'knows', 'little', 'outside', 'field', 'science', 'nothing', 'outside', 'science', 'virtually', 'useless', 'industry', 'finds', 'hard', 'communicate', 'manage', 'people', 'lrb', 'important', 'enough', 'rrb', 'bad', 'technologist', 'part', 'law', 'making', 'harder', 'kids', 'buy', 'cigarettes', 'first', 'place', 'hard', 'know', 'eating', 'later', 'erred', 'direction', 'agreeing', 'almost', 'terms', 'set', 'civic', 'groups', 'opposed', 'original', 'plans', 'even', 'revisions', 'lead', 'scaled-down', 'plan', 'hard', 'make', 'profitable', 'latest', 'generation', 'eda', 'software', 'replaces', 'older', 'generations', 'much', 'harder', 'use', 'took', 'longer', 'design', 'products', 'many', 'programs', 'fashioned', 'chip', 'companies', 'hard', 'leave', 'campus', 'fullerton', 'second', 'afternoon', 'dragged', 'merced', 'lake', '8', '4-mile', 'downhill', 'hike', 'thought', 'would', 'snap', 'well-traveled', 'companions', 'gasped', 'decided', 'harder', 'nepal', 'deficit', 'politicians', 'enough', 'money', 'help', 'cities', 'enough', 'money', 'provide', 'health', 'care', '33', 'million', 'uninsured', 'americans', 'enough', 'money', 'help', 'eastern', 'europe', 'soviet', 'republics', 'hard', 'transition', 'democracy', 'thereby', 'build', 'better', 'world', 'hard', 'time', 'people', \"'i\", 'hate', 'politics', 'even', 'want', 'talk', 'required', 'information', 'included', 'think', 'type', 'style', 'format', 'especially', 'hard', 'read', 'another', 'issue', 'editor', 'tina', 'brown', 'knows', 'hard', 'follow', 'hit', 'like', 'august', 'vanity', 'fair', 'cover', 'showing', 'nude', 'pregnant', 'demi', 'moore', 'brown', 'second', 'biggie', 'coming', 'september', 'mega-edition', 'popular', 'mag', 'hard', 'estimate', 'much', 'loss', 'revenue', 'changeover', 'keeping', 'rates', 'would', 'involve', 'figure', '30', 'quoted', 'hard', 'give', 'quick', 'report', 'card', 'governor', 'action', 'solving', 'budget', 'crisis', 'enormous', 'senate', 'president', 'pro', 'tempore', 'david', 'roberti', 'd-los', 'angeles', 'going', 'bring', 'different', 'attitude', 'among', 'black', 'people', 'san', 'jose', 'hard', 'black', 'folks', 'town', 'together', 'marijuana', 'sales', 'pretty', 'hard', 'come', 'around', 'pound', 'good', 'quality', 'marijuana', 'like', 'sinsemilla', 'sells', 'quite', 'high', 'detective', 'mark', 'kostic', 'southern', 'alameda', 'county', 'narcotics', 'enforcement', 'team', 'assisted', 'dea', 'confiscating', 'plants', 'hardest', 'things', 'wife', 'hard', 'time', 'distinguishing', 'flowered', 'chintz', 'sofa', 'obviously', 'suffering', 'severe', 'laura', 'ashley', 'overdose', 'folks', 'society', 'preservation', 'english', 'language', 'literature', 'hard', 'run', 'verbal', 'goofs', 'malapropisms', 'past', \"'em\", 'mercury', 'news', 'national', 'foreign', 'editor', 'paul', 'van', 'slambrouck', 'correspondent', 'christian', 'science', 'monitor', 'south', 'africa', 'understands', 'information', 'sometimes', 'hardest', 'come', 'events', 'play', 'beneath', 'chador', 'secrecy', 'tremendous', 'scope', 'atrocities', 'hard', 'forget', 'kent', 'khauv', 'san', 'jose', 'cambodian', 'works', 'clinic', 'clerk', 'santa', 'clara', 'county', 'health', 'department', 'people', 'abuse', 'system', 'people', 'welfare', 'long', 'hard', 'struggle', 'get', 'month', 'sets', 'longer', 'lot', 'harder', 'kraemer', 'fatigued', 'voice', 'ferreira', 'conscious', 'looking', 'like', 'hard', 'time', 'pain', 'facing', 'typical', 'summer', 'slowdown', 'hard', 'happen', \"'i\", 'go', 'international', 'gymnastics', 'camps', 'look', 'second', 'korbut', 'hard', 'find', 'gymnastics', 'coach', 'former', 'olympic', 'champ', 'olga', 'korbut', 'hard', 'fathom', 'colleague', 'would', 'things', 'like', 'brad', 'phillipson', 'fire', 'marshal', 'san', 'marino', 'hard', 'stay', 'quick', 'analysts', 'worry', 'fed', 'recent', 'stimulus', 'may', 'tantamount', 'pushing', 'string', 'whose', 'front', 'end', 'hard', 'move', 'pressure', 'behind', 'forces', 'numerous', 'enough', 'even', 'sixty', 'years', 'hard', 'find', 'anyone', 'whose', 'sympathies', 'enlisted', 'emerged', 'battle', 'honours', 'consequent', 'good', 'press', 'james', 'george', 'former', 'canadian', 'ambassador', 'kuwait', 'environmental', 'scientist', 'led', 'friends', 'earth', 'inspection', 'team', 'kuwait', 'june', 'told', 'subcommittee', 'lakes', 'catching', 'fire', 'causing', 'pollution', 'well', 'fire', 'harder', 'extinguish', 'berman', 'conceded', 'learn', 'hard', 'way', 'far', 'home-run', 'call', 'hard', 'see', 'brighter', 'picture', 'children', 'years', 'come', \"'stick\", 'really', 'really', 'hard', 'time', 'radio', 'right', 'people', 'dance', 'artists', 'whose', 'music', 'certain', 'groove', 'happens', 'popular', 'ought', 'make', '18th', 'hardest', 'hole', 'golf', 'course', 'hard', 'enough', 'achieve', 'drama', 'xceptionally', 'tricky', 'comedy', 'depends', 'intangible', 'element', 'timing', 'much', 'effect', 'know', 'hardest', 'work', 'comes', 'games', 'sometimes', 'hard', 'explain', 'going', 'even', 'speak', 'language', 'nguyen', 'hard', 'give', 'pardee', 'earth', 'day', '1990', 'hard', 'act', 'follow', 'kind', 'hard', 'wanted', 'susan', 'eighth-grader', 'hopkins', 'junior', 'high', 'hard', 'wake', 'faltered', 'hard', 'hand', 'blame', 'policeman', 'blank', 'good-natured', 'thoughtless', 'insuperably', 'innocent', 'perfect', 'representative', 'people', 'serves', 'herbert', 'jarrell', 'technical', 'director', 'accuracy', 'testing', 'american', 'association', 'bioanalysts', 'hard', 'see', 'labs', 'fail', 'yet', 'still', 'going', 'hard', 'going', 'way', 'written', 'seriously', 'except', 'stories', 'tired', 'old', 'method', 'realismo', 'successfully', 'used', 'sky', 'red', 'red', 'sox', 'done', 'things', 'hard', 'way', 'late', 'drive', 'fourth', 'division', 'championship', 'six', 'years', 'entered', 'body', 'ghastly', 'intimacy', 'incubus', 'particles', 'spreading', 'creeping', 'crawling', 'joined', 'steel', 'bands', 'constricted', 'knees', 'tightly', 'ached', 'stifled', 'lungs', 'breath', 'came', 'harsh', 'gasps', 'clutched', 'throat', 'sucked', 'moisture', 'mouth', 'tongue', 'dry', 'hard', 'stuck', 'roof', 'mouth', 'teeth', 'clenched', 'together', 'rigid', 'fixture', 'jaws', 'relationship', 'physical', 'activity', 'cancer', 'harder', 'grasp', 'sometimes', 'tedious', 'discussions', 'virus', 'strains', 'cell', 'types', 'came', 'done', 'may', 'hard', 'going', 'uninitiated', 'details', 'provide', 'counterpoint', 'crewdson', 'reporting', 'readers', 'wish', 'compare', 'thinks', 'going', 'step', 'take', 'job', 'going', 'harder', 'thinks', 'kitchen', 'sink', 'hard', 'reach', 'plants', 'window', 'real', 'deep', 'hickerson', 'desert', 'storm', 'fierce', 'hard', 'stand', 'straight', 'see', 'feet', 'even', 'catch', 'breath', 'hard', 'find', 'open', 'condemnation', 'aggression', 'media', 'biden', 'hailed', 'tough', 'crime', 'bill', 'includes', 'death', 'penalties', 'many', 'offenses', 'makes', 'harder', 'criminals', 'buy', 'guns', 'bans', 'assault', 'weapons', 'beefs', 'federal', 'local', 'crime', 'fighters', 'launches', 'attack', 'gangs', 'rural', 'crime', 'drug', 'offenders', 'provides', 'new', 'prisons', 'world', 'leading', 'maker', 'liquid', 'crystal', 'display', 'screens', 'lap-tops', 'japanese', 'firm', 'hosiden', 'corp', 'last', 'month', 'longer', 'bother', 'trying', 'export', 'screens', 'united', 'states', 'making', 'harder', 'u', 'firms', 'acquire', 'mills', 'performance', 'grows', 'steadily', 'emotional', 'conviction', 'hard', 'imagine', 'damaged', 'vulnerable', 'victim', 'played', 'actress', 'played', 'abby', 'wicked', 'vixen', 'knots', 'landing', 'many', 'seasons', '67-year-old', 'actor', 'likes', 'idea', 'couple', 'gunsmoke', 'tv', 'movies', 'year', 'weekly', 'show', 'would', 'hard', 'workload', 'days', 'hard', 'maintain', 'kind', 'thing', 'whole', 'game', 'especially', 'road', 'television', 'hard', 'fight', 'hard', 'realize', 'prosperous', 'silicon', 'valley', 'children', 'older', 'folks', 'even', 'whole', 'families', 'desperate', 'need', 'kinds', 'services', 'emergency', 'food', 'shelter', 'substance', 'abuse', 'counseling', 'affordable', 'child', 'care', 'might', 'hard', 'match', 'co-host', 'hard', 'understand', 'corporations', 'seen', 'degree', 'hard', 'much', 'short-run', 'burden', 'due', 'current', 'recession', 'first', 'hard', 'get', 'spangler', 'shows', 'bend', 'end', 'slightly', 'fit', 'motherboard', 'mounting', 'rail', 'help', 'hard', 'find', 'guidelines', 'voluntary', 'hard', 'determine', 'fast', 'new', 'ideas', 'trickling', 'classroom', 'ironically', 'stanford', 'researchers', 'complained', 'several', 'years', 'stanford', 'high', 'overhead', 'rate', 'making', 'harder', 'compete', 'grants', 'may', 'benefit', 'waiting', 'since', 'last', 'day', \"'89\", 'hard', 'describe', 'kelleher', 'business', 'partner', 'rollin', 'king', 'mapped', 'southwest', 'original', 'routes', 'dallas', 'houston', 'san', 'antonio', 'cocktail', 'napkin', '1966', 'idea', 'hard', 'would', 'business', 'take', 'current', 'tax', 'laws', 'make', 'harder', 'arizona', 'communities', 'lure', 'teams', 'ones', 'florida', 'vincent', 'trying', 'influence', 'legislature', 'two', 'problems', 'getting', 'police', 'budget', 'control', 'city', 'knows', 'real', 'cost', 'services', 'deciding', 'hard', 'part', 'whether', 'san', 'jose', 'afford', 'services', 'tight', 'budget', 'year', 'although', 'costlier', 'harder', 'score', 'compare', 'kinds', 'tests', 'proponents', 'national', 'exam', 'system', 'want', 'shoot', \"'responsible\", 'growth', 'know', 'people', 'hard', 'time', 'want', 'keep', 'things', 'bricker', 'drs', 'mary', 'jumbelic', 'michael', 'chambliss', 'found', 'toddler', 'high', 'center', 'gravity', 'relatively', 'large', 'head', 'make', 'easy', 'topple', 'bucket', 'toddler', 'lack', 'coordination', 'strength', 'make', 'hard', 'get', 'hard', 'hell', 'get', 'anything', 'going', 'phillip', 'brown', 'novato', 'city', 'manager', 'hard', 'understand', 'unconnected', 'science', 'policy', 'issues', 'hard', 'read', 'understand', 'reveal', 'plenty', 'interpret', 'landry', '52', 'former', 'beauty-shop', 'owner', 'three', 'biological', 'children', 'adopted', 'seven', 'handicapped', 'children', 'three', 'years', 'took', 'adopt', 'first', 'son', 'denny', '21', 'hard', 'boy', 'particular', 'smith', 'vapors', 'pose', 'health', 'risks', 'could', 'make', 'harder', 'people', 'sell', 'homes', 'anita', 'hill', 'allegations', 'sexual', 'harassment', 'make', 'harder', 'easier', 'public', 'figures', 'sexually', 'harass', 'employees', 'survive', 'public', 'scrutiny', 'machine', 'small', 'built', 'common', 'materials', 'would', 'extremely', 'hard', 'detect', 'edward', 'j', 'lofgren', 'physicist', 'helped', 'develop', 'device', 'early', '1940s', 'university', 'california', 'berkeley', 'box', 'avoidance', 'children', 'kids', 'group', 'hard', 'time', 'babies', 'brush', 'head', 'small', 'ideal', 'getting', 'hard', 'to-reach', 'places', 'many', 'toothbrushes', 'miss', 'fdic', 'resisted', 'approach', 'months', 'arguing', 'bank', 'failures', 'hard', 'predict', 'hard', 'separate', 'two', 'part', 'problem', 'hard', 'request', 'candidates', 'acknowledged', 'would', 'hard', 'time', 'always', 'library', 'people', 'going', 'harder', 'people', 'use', 'hard', 'resist', 'unconditional', 'love', 'hard', 'raise', 'anybody', 'consciousness', 'first', 'get', 'attention', 'usually', 'terrific', 'nelligan', 'eye', 'needle', 'particularly', 'hard', 'take', 'hard', 'choices', 'clear', 'hepburn', 'book', 'desolation', 'finds', 'beloved', 'spencer', 'tracy', 'dead', 'kitchen', 'floor', 'dreadful', 'moment', 'tracy', 'widow', 'tells', 'thought', 'rumor', 'q', 'hard', 'resist', 'temptation', 'trade', 'break', 'hearts', 'boston', 'mayor', 'ray', 'flynn', \"'it\", 'hard', 'cope', 'get', 'easily', 'started', 'mighty', 'hard', 'stop', 'seems', 'even', 'harder', 'believe', 'still', 'around', 'celebrate', 'anything', 'make', 'hard', 'decisions', 'la', 'femme', 'nikita', 'american', 'style', 'execution', 'hard', 'conceive', 'americanized', 'fact', 'made', 'statement', 'early', 'hard', 'understand', 'sure', 'past', 'present', 'would', 'hard', 'improve', 'hardest', 'part', 'seeing', 'rest', 'teammates', 'resident', 'empty', 'parking', 'spaces', 'hard', 'find', 'plaza', 'lot', 'wondered', 'chevy', 'management', 'planned', 'employee', 'parking', 'hard', 'knew', 'soon', 'saw', 'telling', 'new', 'york', 'air', 'day', \"'this\", 'drill', 'withdrawn', 'certain', 'expenses', 'connected', 'running', 'president', 'house', 'saying', 'proper', 'would', 'hard', 'explain', 'public', 'medak', 'talked', 'hard', 'get', 'ruling', 'class', 'peter', \"'toole\", 'ground', 'journalist-festival', 'adviser', 'gideon', 'bachmann', 'told', 'would-be', 'film', 'makers', 'start', 'thinking', 'terms', 'story', 'communication', 'rather', 'high', 'art', 'really', 'hard', 'imagine', 'state', 'services', 'going', 'look', 'like', 'finished', 'solving', 'problem', 'marcia', 'howard', 'acting', 'executive', 'director', 'national', 'association', 'state', 'budget', 'officers', 'understandable', '53', 'years', 'column-writing', 'would', 'produce', 'long', 'list', 'things', 'remember', 'harder', 'figure', 'caen', 'pining', 'good', 'old', 'days', 'ever', 'since', 'column', 'began', 'eighty-eight', 'percent', 'harder', 'parent', 'today', 'used', '81', 'percent', 'parents', 'spend', 'enough', 'time', 'children', 'hard', 'think', 'simpler', 'arrangement', 'healthier', 'example', 'bare-bones', 'handiness', 'may', 'hard', 'municipal', 'officials', 'around', 'country', 'accept', 'free-market', 'republicans', 'believe', 'places', 'like', 'new', 'york', 'philadelphia', 'detroit', 'deserve', 'die', 'hard', 'believe', 'summer', 'drawing', 'close', 'know', 'vacations', 'everything', 'back', 'normal', 'whatever', 'schedule', 'piece', 'communism', 'hardest', 'kill', 'really', 'difficult', 'kids', 'really', 'want', 'schools', 'hard', 'find', 'teachers', 'serve', 'advisers', 'times', 'hard', 'get', 'word', 'told', 'chapter', 'georgia', 'farm', 'history', 'reaped', 'profits', 'problems', 'places', 'stanford', 'ted', 'leland', 'cal', 'bob', 'bockrath', 'hard', 'time', 'containing', 'glee', 'frankly', 'find', 'hard', 'believe', 'hardest', 'part', 'producing', 'book', 'scaling', 'mountains', 'poring', 'law', 'books', 'interviewing', 'murderers', 'writing', '480-page', 'book', 'although', '11', 'snow', 'getting', 'denser', 'harder', 'push', 'skis', 'toyota', 'harder', 'time', 'breaking', 'midwestern', 'market', 'strong', 'buy', 'american', 'sentiment', 'folklore', 'wysocki', 'notes', 'squirrels', 'hoard', 'large', 'store', 'nuts', 'winter', 'hard', 'get', 'harder', 'keep', 'garner', 'zakho', 'fred', 'hard', 'always', 'prioritize', 'among', 'vulnerable', 'epidemic', 'hardest', 'reach', 'recent', 'immigrants', 'migrant', 'workers', 'often', 'left', 'network', 'social', 'services', 'health', 'education', 'available', 'long-term', 'residents', 'turns', 'hard', 'thing', 'eludes', 'categories', 'usually', 'sort', 'evaluate', 'artists', 'unpredictable', 'elusive', 'hard', 'pin', 'contrast', 'genes', 'nucleus', 'scant', 'two', 'copies', 'per', 'cell', 'thus', 'harder', 'salvage', 'old', 'damaged', 'tissue', 'harder', 'running', 'insist', 'hard', 'define', 'rayburn', 'contribution', 'political', 'civilization', 'massive', 'widespread', 'complicated', 'goes', 'deep', 'baldwin', 'biggest', 'mistake', 'alec', 'baldwin', 'co-starred', 'kim', 'basinger', 'marrying', 'man', 'division', 'disney', 'gives', 'studio', 'hard', 'time', 'interview', 'entertainment', 'weekly', 'magazine', 'families', 'making', 'big', 'incomes', 'really', 'hard', 'keep', 'roof', 'heads', 'fran', 'wagstaff', 'director', 'mid-peninsula', 'housing', 'coalition', 'non-profit', 'group', 'helps', 'develop', 'maintain', 'affordable', 'housing', 'units', 'bay', 'area', 'want', 'congress', 'make', 'harder', 'individuals', 'file', 'superb', 'fish', 'chowder', 'rock', 'lobsters', 'call', 'guinea', 'chicks', 'bermuda', 'plus', 'conch', 'stew', 'pan-fried', 'rockfish', 'fresh', 'seafood', 'hard', 'dine', 'well', 'dove', 'even', 'close', 'first', 'day', 'talks', 'hard', 'tell', 'wintertime', 'hardest', 'time', 'trish', 'crowder', 'executive', 'director', 'san', 'jose', 'shelter', 'foundation', 'vice', 'chairwoman', 'center', 'planning', 'committee', 'course', 'see', 'every', 'sunday', 'waist', 'always', 'smiling', 'behind', 'desk', 'espn', 'hard', 'imagine', 'pixie', 'look', 'polished', 'robin', 'roberts', 'implementing', 'nutrition', 'labeling', 'education', 'act', '1990', 'bush', 'administration', 'hard', 'escapes', 'neighbor', 'lawn', 'find', 'hard', 'eradicate', 'without', 'killing', 'grasses', 'john', 'f', 'kennedy', 'president', 'hard', 'time', 'finding', 'trace', 'romantic', 'camelot', 'turlock', 'circa', '1962', 'time', 'place', 'pink', 'lightning', 'tonight', 'premiere', 'movie', 'fox', 'network', 'machine', 'takes', 'dna', 'fragment', 'spins', 'copies', 'much', 'harder', 'use', 'newest', 'xerox', 'steps', 'especially', 'difficult', 'flowing', 'lines', 'haunting', 'unearthly', 'atmosphere', 'hard', 'master', 'former', 'kansas', 'city', 'royals', 'second', 'baseman', 'frank', 'white', 'outstanding', 'career', 'clearly', 'near', 'end', 'hard', 'time', 'getting', 'contract', '1991', 'hard', 'makes', 'people', 'censor', 'could', 'make', 'hard', 'king', 'fahd', 'saudi', 'arabia', 'president', 'hosni', 'mubarak', 'egypt', 'keep', 'fighting', 'keep', 'risking', 'arab', 'lives', 'saddam', 'offered', 'pull', 'israel', 'bonnie', 'raitt', 'woman', 'love', 'awfully', 'hard', 'miss', 'year', 'team', 'hard', 'time', 'describing', 'team', 'play', 'well', 'together', 'dunsmuir', 'economic', 'damage', 'harder', 'assess', 'even', 'harder', 'accept', 'news', 'time', 'trevor', 'wilson', 'knotted', 'tie', 'dodged', 'questions', 'real', 'hard', 'time', 'sitting', 'bench', 'knecht', 'played', 'safety', 'high', 'school', 'area', 'big', 'vast', 'really', 'hard', 'get', 'handle', 'skilled', 'missile', 'makers', 'hard', 'find', 'disclosure', 'would', 'put', 'spotlight', 'embarrassment', 'bankers', 'make', 'harder', 'problems', 'troubled', 'institutions', 'swept', 'rug', 'finding', 'time', 'hardest', 'part', 'schedule', 'choice', 'may', 'never', 'hard', 'miss', 'san', 'mateo', 'dunfey', 'hotel', 'highway', '101', 'even', 'perspective', 'time', 'empty', 'raid', 'cans', 'hard', 'decide', 'worse', 'santa', 'ana', 'flying', 'water', 'bugs', 'southern', 'maryland', 'chirping', 'crickets', 'kid-tested', 'bean', 'recipes', 'hard', 'come', 'quarrel', 'flavor', 'either', 'steak', 'sauce', 'meat', 'filled', 'gristle', 'hard', 'cut', 'even', 'dull', 'steak', 'knife', 'finally', 'obtained', 'waiter', 'simply', 'ignored', 'request', 'stood', 'smoothing', 'hair', 'straightening', 'clothes', 'feeling', 'thankfulness', 'enveloping', 'darkness', 'outside', 'everything', 'else', 'absence', 'need', 'answer', 'respond', 'aware', 'even', 'stowey', 'coming', 'going', 'yet', 'beginning', 'cook', 'glimpsed', 'future', 'without', 'future', 'alone', 'like', 'pain', 'made', 'head', 'writhe', 'moment', 'found', 'hard', 'wait', 'lucretia', 'come', 'guests', 'perhaps', 'part', 'many', 'find', 'hardest', 'necessity', 'professing', 'appreciation', 'afterward', 'hard', 'good', 'bad', 'davis', 'cup', 'miracles', 'go', 'hard', 'beat', 'hard', 'course', 'see', 'darn', 'thing', 'wrong', 'hard', 'blame', 'hard', 'hard', 'understand', 'separation', 'two', 'violence', 'see', 'daily', 'lives', 'next', 'day', 'recording', 'studio', 'hard', 'believe', 'things', 'lonnie', 'jordan', 'spills', 'wine', 'recording', 'console', 'ground', 'war', 'hard', 'old', 'still', 'hard', 'face', 'people', 'take', 'parenting', 'responsibility', 'lightly', 'take', 'telephone', 'lines', 'hard', 'allowing', 'yeltsin', 'communicate', 'george', 'bush', 'john', 'major', 'could', 'lay', 'law', 'international', 'perspective', 'edge', 'cities', 'hard', 'define', 'writes', 'rarely', 'mayor', 'city', 'council', \"'we\", 'got', 'falsifying', 'results', 'diana', 'caldwell', 'found', 'hard', 'way', 'happen', 'lab', 'tests', 'go', 'wrong', 'hard', 'find', 'plant', 'host', 'natwick', 'writers', 'fairly', 'interesting', 'particularly', 'mcnamara', 'end', 'hard', 'figure', 'adams', 'chose', 'either', 'randisi', 'responsible', 'roundup', 'getting', 'harder', 'persuade', 'ducks', 'traps', 'covered', 'wire', 'mesh', 'enclosures', 'curved', 'ends', 'entrance', 'unfortunately', 'snow', 'peas', 'noodles', 'badly', 'overcooked', 'pieces', 'chicken', 'harder', 'finding', 'shortstop', 'hits', '40', 'home', 'runs', 'hard', 'phenom', 'especially', 'always', 'recovering', 'injuries', 'hard', 'take', 'seriously', 'light', 'jenkins', 'comments', '73-3', 'season-opening', 'win', 'louisiana', 'tech', 'everett', 'thought', 'cox', 'going', 'run', 'longer', 'rout', 'middle', 'hard', 'imagine', 'everett', 'getting', 'ball', 'bowles', 'situation', 'turned', 'things', 'reach', 'someone', 'harder', 'touch', 'obstacles', 'heart', 'condition', 'makes', 'hard', 'heart', 'work', 'efficiently', 'hard', 'believe', 'native', 'americans', 'still', 'like', 'everyone', 'else', 'dough', 'hard', 'may', 'wait', '3', '5', 'minutes', 'cut', 'cleanly', 'wo', 'lose', 'narrow', 'parts', 'cutout', 'pretty', 'hard', 'beat', 'moreover', 'david', 'wyss', 'research', 'director', 'dri', 'F', 'mcgraw-hill', 'economic', 'consulting', 'firm', 'weak', 'christmas', 'mean', 'would', 'hard', 'get', 'much', 'action', 'first', 'quarter', '1992', 'retailers', 'overstocked', 'orders', 'anemic', 'session', 'entirely', 'serious', 'hard', 'serious', 'lunch', 'bini', 'point', 'supes', 'agree', 'new', 'district', 'lines', 'reflecting', 'population', 'changes', '1990', 'census', 'somebody', 'else', 'three', 'somebodies', 'actually', 'without', 'clear', 'reliable', 'mammography', 'researchers', 'breast', 'cancer', 'likely', 'go', 'undetected', 'larger', 'harder', 'treat', 'long', 'hard', 'years', 'job', 'training', 'brought', 'competence', 'david', 'duke', 'good', 'ideas', 'things', 'think', 'would', 'hard', 'accomplish', 'ideas', 'hebert', 'told', 'new', 'orleans', 'reporters', 'hardest', 'thing', 'turn', 'around', 'drummer', 'steve', 'jordan', 'switched', 'bass', 'player', 'charlie', 'drayton', 'next', 'song', 'switched', 'back', 'nothin', 'worth', 'ai', 'little', 'hard', 'get', 'hard', 'skate', 'mark', 'galindo', 'split', 'pairs', 'partner', 'kristi', 'yamaguchi', 'last', 'april', 'back-to-back', 'national', 'titles', 'according', 'stephen', \"'donnell\", 'assistant', 'store', 'manager', 'mcdonald', 'mclean', 'available', 'san', 'jose', 'hard', 'beat', '320', 'calories', 'hard', 'get', 'help', 'hard', 'face', 'roomful', 'elderly', 'disabled', 'people', 'pleading', 'mercy', 'left', 'bay', 'area', 'found', 'victories', 'harder', 'come', 'experts', 'note', 'parents', 'intensely', 'political', 'sexuality', 'may', 'make', 'harder', 'children', 'denying', 'option', 'secrecy', 'think', 'people', 'hard', 'time', 'believing', 'supreme', 'court', 'could', 'take', 'away', 'constitutional', 'right', 'kolbert', 'know', 'hard', 'know', 'tough', 'time', 'cost', 'living', 'hardest', 'decision', 'could', 'involve', 'bass', 'presuming', 'returns', 'scheduled', 'date', 'hard', 'flush', 'things', 'mind', 'stats', 'games', 'businessmen', 'play', 'may', 'hard', 'decide', 'labor', 'worth', 'charge', 'something', 'riders', 'insist', 'helmets', 'distort', 'balance', 'make', 'harder', 'see', 'hardest', 'thing', 'something', 'feel', 'strongly', 'musically', 'really', 'reflects', 'reaches', 'lot', 'people', 'pointing', 'experience', 'foreign-exchange', 'trading', 'brady', 'contended', 'hard', 'governments', 'successfully', 'affect', 'course', 'large', 'markets', 'successful', 'success', 'game', 'today', 'winning', 'making', 'money', 'real', 'hard', 'right', 'thing', 'team', 'world', 'series', 'three', 'years', 'row', 'led', 'league', 'home', 'runs', 'making', '3', 'million', 'year', 'jackson', 'least', 'went', 'hardest', 'thing', 'example', 'see', 'paddling', 'serious', 'whitewater', 'probably', 'need', 'small', 'super-durable', 'read', 'heavy', 'nimble', 'read', 'hard', 'control', 'model', 'understand', 'times', 'get', 'harder', 'providing', 'benefit', 'like', 'frivolous', 'perhaps', 'wish', 'never', 'learn', 'anything', 'hard', 'hard', 'believe', 'example', 'judy', 'rankin', 'made', 'sticks', 'black', 'nose', 'fence', 'whimpers', 'attention', 'finds', 'hard', 'believe', 'anyone', 'would', 'want', 'dog', 'hard', 'choice', 'echoed', 'santa', 'clara', 'mayor', 'sue', 'lasher', 'vote', 'lived', 'dirt-floor', 'shack', 'northern', 'nevada', 'desert', 'neighbors', 'similar', 'mind', 'nice', 'folks', 'mostly', 'sun', 'went', 'alcohol', 'mixed', 'strong', 'emotions', 'became', 'hard', 'remember', 'loved', 'cared', 'another', 'back', 'cheap', 'seats', 'ones', 'cost', '150', 'hard', 'tell', 'least', 'video', 'screens', 'sides', 'huge', 'tent', 'hospital', 'grounds', 'flicked', 'got', 'video', 'confirmation', 'quick', 'glimpse', 'white', 'hair', 'broad', 'smile', 'trademark', 'pearls', 'hard', 'talk', 'success', 'without', 'talking', 'dianna', 'success', 'hard', 'choice', 'involve', 'promised', 'addition', '45', 'police', 'officers', 'next', 'year', 'ntsb', 'lighting', 'configuration', 'used', 'skywest', 'plane', 'complied', 'federal', 'regulations', 'would', 'made', 'harder', 'see', 'fully', 'illuminated', 'makes', 'hard', 'provide', 'enough', 'open', 'space', 'spread', 'evenly', 'development', 'report', 'film', 'brings', 'closer', 'ever', 'herds', 'skittish', 'beasts', 'survived', 'large', 'numbers', 'harder', 'poachers', 'find', 'expensive', 'hunt', 'remoteness', 'five', 'years', 'hard', 'dry', 'lessons', 'santa', 'clara', 'valley', 'water', 'officials', 'looking', 'ways', 'store', 'water', 'rainy', 'years', 'american', 'catholics', 'learned', 'hard', 'lesson', 'exclusively', 'ethnic', 'national', 'churches', 'common', 'east', 'midwest', 'closed', 'parishioners', 'moved', 'suburbs', 'hard', 'single', 'parents', 'struggling', 'active', 'dealing', 'community', 'person', 'road', 'ten', 'thousand', 'miles', 'year', 'adds', 'chance', 'ten', 'thousand', 'per', 'year', 'killed', 'automobile', 'accident', 'much', 'larger', 'many', 'risks', 'try', 'hard', 'exorcise', 'still', 'less', 'tenth', 'average', 'risk', 'death', 'smoking', 'find', 'hard', 'talk', 'people', 'fans', 'mine', 'hard', 'sit', 'husband', 'watch', 'movie', 'makes', 'passionate', 'love', 'on-screen', 'co-star', 'gets', 'hard', 'explain', 'actually', 'see', 'remote', 'outpost', 'steep', 'paths', 'thick', 'mud', 'inaccessible', 'trucks', 'hard', 'see', 'pattern', 'haphazard', 'distribution', 'thus', 'far', 'meager', 'food', 'water', 'supplies', 'though', 'found', 'higher', 'proportion', 'players', 'listed', 'doubtful', 'games', 'artificial', 'surface', 'duberstein', 'actual', 'severity', 'injury', 'hard', 'accurately', 'measure', 'heather', 'hard', 'concentrate', 'schoolwork', 'directly', 'across', 'street', 'drug', 'dealers', 'brisk', 'lethal', 'business', 'story', 'creation', 'journey', 'new', 'zealand', 'hard', 'determine', 'nathen', 'wright', 'part', 'owner', 'nursery', 'maybe', 'hunter', 'would', 'hard', 'time', 'scott', 'halem', 'works', 'group', 'distributes', 'needles', 'weekly', 'hard', 'to-reach', 'high-risk', 'intravenous', 'drug', 'addicts', 'since', 'holds', 'public', 'office', 'harder', 'raise', 'money', 'really', 'hard', 'things', 'go', 'along', 'easy', 'lot', 'people', 'look', 'q', 'going', 'hard', 'ration', 'another', '5', 'percent', 'sympathize', 'investors', 'hard', 'risks', 'understand', 'william', 'gross', 'managing', 'director', 'pacific', 'investment', 'management', 'co', 'newport', 'beach', 'calif', 'might', 'hard', 'walk', 'nine', 'men', 'problem', 'much', 'adrenaline', 'cutbacks', 'especially', 'involving', 'removal', 'management', 'layers', 'indicate', 'young', 'managers', 'harder', 'longer', 'time', 'getting', 'salary', 'increases', 'actual', 'promotions', 'many', 'states', 'governors', 'legislatures', 'mayors', 'angling', 'hard', 'tactical', 'advantage', 'hard', 'figure', 'behind', 'political', 'smoke', 'mirrors', 'would', 'hard', 'get', 'everyone', 'together', 'tell', 'think', 'conformist', 'small', 'town', 'evidently', 'hard', 'atheist', 'parent', 'challenge', 'religious', 'instruction', 'hard', 'explain', 'frustrating', 'situation', 'seem', 'hard', 'knock', 'trying', 'maximize', 'sales', 'hard', 'explain', '3-year-old', 'hard', 'part', 'guessing', 'might', 'good', 'tv', 'days', 'hard', 'find', 'anyone', 'silicon', 'valley', 'elsewhere', 'rely', 'personal', 'computer', 'work', 'station', 'network', 'accouterments', 'high', 'technology', 'job', 'fraud', 'criminal', 'intent', 'hard', 'prove', 'may', 'hard', 'landing', 'ceo', 'kaleida', 'impressive', 'credentials', 'demanded', 'search', 'team', 'headed', 'apple', 'vice', 'president', 'david', 'nagel', 'like', 'many', '25', 'witnesses', 'sought', 'hard', 'locate', 'yet', 'permanent', 'housing', 'may', 'find', 'hard', 'believe', 'love', 'dearly', 'hurts', 'see', 'way', 'family', 'lives', 'struggle', 'barely', 'make', 'ends', 'meet', 'coming', 'america', 'always', 'hard', 'hearing', 'wednesday', 'serra', 'supporters', 'acknowledged', 'celebrity', 'status', 'massive', 'popular', 'support', 'helped', 'croy', 'gain', 'freedom', 'may', 'made', 'harder', 'adjust', 'later', 'judge', 'put', 'glitter', 'goes', 'away', 'lawyers', 'involved', 'mental', 'health', 'issues', 'companies', 'unlikely', 'try', 'get', 'rid', 'mentally', 'ill', 'workers', 'law', 'takes', 'effect', 'part', 'many', 'employees', 'come', 'forward', 'hard', 'identify', 'hard', 'believe', 'wo', 'coming', 'home', 'hard', 'happy', 'man', 'life', 'diane', 'nelson', 'mother', 'slain', 'esl', 'worker', 'wayne', 'buddy', 'williams', 'hard', 'imagine', 'bunch', 'bureaucrats', 'going', 'ornament', 'side', 'aging', 'brick', 'building', 'downtown', 'hard', 'enough', 'family', 'adds', 'part', 'problem', 'hard', 'know', 'important', 'comes', 'time', 'plant', 'new', 'bare-root', 'roses', 'january', 'hard', 'part', 'done', 'hard', 'know', 'ideal', 'bat', 'weights', 'mean', 'hard', 'get', 'replacement', 'arata', 'wilson', 'last-minute', 'worker', 'compensation', 'proposal', 'failed', 'emerge', 'assembly', 'committee', 'wednesday', 'afternoon', 'would', 'make', 'harder', 'workers', 'collect', 'injury', 'payments', 'stress-related', 'claims', 'firefighters', 'harder', 'time', 'expected', 'stopping', 'blaze', 'jumped', 'containment', 'lines', 'spread', '750', 'acres', 'bill', 'stone', 'president', 'stanford', 'alumni', 'association', 'alumni', 'fierce', 'loyalty', 'stanford', 'made', 'controversy', 'especially', 'hard', 'take', 'take', 'instance', 'prominent', 'signs', 'fitting', 'rooms', 'harder', 'find', 'older', 'k', 'marts', 'however', 'running', 'dos', 'software', 'zenith', 'faster', 'tasks', 'though', 'harder', 'learn', 'mac', 'despite', 'hard', 'financial', 'times', 'county', 'last', 'year', 'handed', '550', 'bonuses', 'managers', 'hard', 'get', 'corporations', 'rethink', 'hard', 'time', 'saving', 'first', 'place', 'make', 'lot', 'sense', 'leaning', 'back', 'couch', 'east', 'san', 'jose', 'home', 'lived', 'since', '1950', 'matsumura', 'thinks', 'back', 'older', 'days', 'hard', 'believe', '50', 'years', 'gone', 'seems', 'hard', 'believe', 'till', 'five', 'months', 'later', 'brought', 'subject', 'desperation', 'getting', 'measure', 'ballot', 'nov', '5', 'election', 'hard', 'solicitation', 'signature', 'initiative', 'slanted', 'provocative', 'way', 'getting', 'intelligent', 'people', 'sunnyvale', 'vote', 'much', 'difficult', 'job', 'case', 'doubly', 'hard', 'sunnyvale', 'well-run', 'hard', 'time', 'synthesizing', 'news', 'half', 'world', 'away', 'taking', 'first', 'step', 'signing', 'swimming', 'lesson', 'hardest', 'part', 'david', 'lloyd', 'berkeley', 'professor', 'teaches', 'colonial', 'literature', 'minority', 'literature', 'hard', 'professor', 'darkwing', 'batman', 'might', 'become', 'bruce', 'wayne', 'mom', 'married', 'howard', 'duck', 'tongue-in-cheek', 'crime', 'fighter', 'hard', 'take', 'seriously', 'hardest', 'things', 'learn', 'pace', 'people', 'hard', 'imagine', 'anything', 'good', 'migraine', 'headache', 'names', 'like', 'swordfish', 'lightning', 'hard', 'remember', 'products', 'really', 'advanced', 'new', 'semiconductors', 'check', 'former', 'bankrupts', 'may', 'find', 'hard', 'get', 'job', 'hard', 'raise', 'eyebrow', 'listen', 'luck', 'draw', 'new', 'album', 'follow-up', '1989', 'nick', 'time', 'three', 'grammys', 'sold', 'million', 'copies', 'raised', 'raitt', 'cult', 'star', 'status', 'find', 'hard', 'see', 'could', 'cooperative', 'robert', 'destatte', 'defense', 'intelligence', 'agency', 'research', 'specialist', 'come', 'home', 'work', 'hard', 'day', 'loyal', 'dog', 'always', 'make', 'feel', 'welcome', 'leaping', 'insane', 'joy', 'knocking', 'drooling', 'business', 'clothes', 'brochure', 'available', 'customers', 'hertz', 'cars', 'sells', 'peak', 'mechanical', 'physical', 'shape', 'receive', 'kind', 'constant', 'professional', 'care', 'hard', 'backyard', 'mechanic', 'provide', 'kind', 'hard', 'playing', 'much', 'julien', 'cut', 'administration', 'going', 'harder', 'tell', 'someone', 'focus', 'dropouts', 'wo', 'many', 'cases', 'hard', 'someone', 'look', 'wedding', 'license', 'deed', 'house', 'political', 'party', 'car', 'drive', 'hard', 'get', 'job', 'nashville', 'many', 'good', 'singers', 'town', 'difficult', 'describe', 'euphoric', 'feeling', 'get', 'win', 'game', 'conversely', 'hard', 'describe', 'pain', 'go', 'lose', 'game', 'primarily', 'criticism', 'heaped', 'breaking', 'tech', 'talk', 'habit', 'however', 'lot', 'harder', 'sounds', 'decrease', 'risk', 'injury', 'develop', 'follow', 'hard', 'F', 'easy', 'schedule', 'knows', 'hard', 'endured', 'experience', 'roughly', 'age', 'slime', 'mold', 'fruiting', 'bodies', 'often', 'beautiful', 'tiny', 'hard', 'see', 'clearly', 'without', 'magnifying', 'glass', \"'this\", 'hard', 'difficult', 'joy', 'burnett', 'notes', 'television', 'changed', 'since', '1970s', 'made', 'right', 'approach', 'quickly', 'hard', 'work', 'bush', 'anguish', 'night', 'hard', 'believe', 'view', 'fact', 'launched', 'attack', 'iraq', 'months', 'unrelenting', 'pressure', 'congress', 'u', 'american', 'people', 'accept', 'war', 'rejecting', 'every', 'opportunity', 'peaceful', 'solution', 'marriage', 'starts', 'paper', 'makes', 'war', 'even', 'harder', 'georgia', 'van', 'zanten', 'knowing', 'son', 'starting', 'marriage', 'letters', 'jennifer', 'kicking', 'front', 'leg', 'way', 'made', 'harder', 'drive', 'forward', 'hard', 'predict', 'efficiency', 'rough', 'seas', 'testa', 'hard', 'take', 'nickname', 'demean', 'kelly', 'hard', 'time', 'flap', 'hard', 'thing', 'take', 'dedicated', '4', 'F', 'years', 'life', 'want', 'hold', 'onto', 'fresh', 'fruit', 'vegetable', 'growers', 'harder', 'time', 'mexican', 'competitors', 'already', 'share', 'market', 'want', 'something', 'client', 'already', 'particularly', 'drawn', 'pretty', 'hard', 'pull', 'away', 'hard', 'two', 'things', 'ramey', 'earlier', 'day', 'bashed', 'face', 'side', 'helicopter', 'bumpy', 'takeoff', 'photos', 'current', 'crisis', 'hard', 'come', 'lack', 'media', 'coverage', 'hard', 'get', 'gun', '10-year-old', 'get', 'sgt', 'john', 'sieracki', 'heads', 'drug', 'enforcement', 'unit', 'although', 'ruling', 'would', 'technically', 'binding', 'superior', 'court', 'justices', 'without', 'substantial', 'new', 'evidence', 'would', 'hard', 'arrive', 'different', 'conclusion', 'david', 'reiser', 'attorney', 'c', 'public', 'defender', 'service', 'sometimes', 'hard', 'figure', 'track', 'ends', 'another', 'begins', 'smoothly', 'nelson', 'maintain', 'tone', 'set', 'attractive', 'women', 'seem', 'hardest', 'time', 'getting', 'dates', 'sure', 'psychopaths', 'may', 'actually', 'things', 'pretty', 'hard', 'drum', 'support', 'office', 'hardest', 'thing', 'piece', 'steps', 'mostly', 'running', 'fast', 'changes', 'direction', 'fluidity', 'hard', 'track', 'happened', 'ameliorate', 'gripes', 'easy', 'see', 'local', 'news', 'effect', 'walks', 'people', 'saw', 'mayor', 'pounded', 'pavement', 'leadership', 'equivalent', 'cop', 'beat', 'find', 'hard', 'believe', 'truly', 'homeless', 'person', 'best', 'served', 'living', 'garbage', 'dump', 'deal', 'drug', 'dealers', 'bad', 'hard', 'think', 'place', 'less', 'like', 'former', 'kron', 'ch', '4', 'weather', 'forecaster', 'l', 'insincerity', 'lunch', 'art', 'forms', 'little', 'harder', 'get', 'know', 'able', 'believe', 'trying', 'teach', 'would', 'hard', 'coordinate', 'schedules', 'three', 'different', 'groups', 'mention', 'equipment', 'face', 'harder', 'economic', 'times', 'see', 'needs', 'developing', 'communities', 'greater', 'sense', 'urgency', 'look', 'help', 'beyond', 'government', 'beyond', 'churches', 'non-profit', 'sector', 'usually', 'hard', 'assess', 'blame', 'water', 'wasting', 'virtually', 'impossible', 'assess', 'water', 'penalties', 'fairly', 'subtle', 'violations', 'hardest', 'prove', '35', 'always', 'worked', 'technical', 'F', 'professional', 'area', 'great', 'deal', 'interaction', 'accounts', 'students', 'find', 'hard', 'stay', 'task', 'respectful', 'find', 'communicative', 'regularly', 'hard', 'know', 'kids', 'fully', 'understand', 'bleak', 'vision', 'bet', 'wo', 'ever', 'using', 'air', 'conditioners', 'cars', 'fastball', 'gags', 'hit', 'hard', 'ones', 'throwing', 'trigger', 'recurring', 'nightmares', 'intrusive', 'thoughts', 'making', 'hard', 'concentrate', 'last', 'five', 'weeks', 'hard', 'scu', 'might', 'toughest', 'take', 'david', 'bonior', 'earned', 'position', 'hard', 'way', 'rep', 'john', 'lewis', 'd-ga', 'nitty-gritty', 'unglamorous', 'work', 'every', 'day', 'hard', 'time', 'believing', 'thing', 'could', 'happen', 'sometimes', 'hard', 'time', 'school', 'today', 'harder', 'scene', 'observes', 'university', 'spokesman', 'ray', 'colvig', '1953', 'graduate', 'cal', 'always', 'try', 'bend', 'rules', 'clear', 'stiff', 'rules', 'least', 'harder', 'bend', 'otherwise', 'hard', 'tell', 'hard', 'get', '200', 'miles', 'either', 'berlin', 'vienna', 'put', 'side', 'side', 'hard', 'make', 'argument', 'lottery', 'violate', 'law', 'action', 'check', 'court', 'today', 'consider', 'making', 'harder', 'title', 'insurance', 'companies', 'fix', 'prices', 'barons', 'nashville', 'country-music', 'machine', 'learned', 'lesson', 'hard', 'way', 'last', 'year', 'grammy', 'awards', 'favorite', 'movie', 'last', 'saw', 'liked', \"'the\", 'sheltering', 'sky', 'musical', 'preferences', 'since', 'musician', 'improvisational', 'creative', 'music', 'hard', 'describe', 'kind', 'hard', 'student', 'talk', 'teacher', 'like', 'hard', 'read', 'newark', 'office', 'building', 'orphaned', 'savings', 'loan', 'crisis', 'offered', 'city', 'newark', 'deal', 'city', 'officials', 'may', 'hard', 'refuse', 'idea', 'discarding', 'basic', 'etiquette', 'sanitary', 'measures', 'society', 'revolting', 'civilized', 'people', 'hard', 'imagine', 'anyone', 'stomach', 'joke', 'kind', 'hard', 'happen', 'terms', 'additional', 'service', 'got', 'get', 'service', 'running', 'caltrans', 'spokesman', 'jim', 'drago', 'jobs', 'hard', 'find', 'competition', 'fierce', 'among', 'growing', 'number', 'people', 'taking', 'refuge', 'recession', 'returning', 'college', 'war', 'kind', 'hard', 'stick', 'unity', 'theme', 'house', 'democratic', 'leadership', 'aide', 'makes', 'harder', 'draw', 'districts', 'favor', 'minority', 'candidates', 'common', 'denominator', 'children', 'live', 'santa', 'clara', 'county', 'life', 'hard', 'families', 'paul', 'schutz', 'director', 'development', 'social', 'advocates', 'youth', 'counseling', 'education', 'program', 'youth', 'really', 'hard', 'right', 'sheriff', 'sgt', 'jim', 'knudsen', 'hard', 'cities', 'provide', 'affordable', 'housing', 'would', 'hard', 'find', 'mother', 'america', 'today', 'wondered', 'woman', 'white', 'house', 'would', 'war', 'would', 'grievously', 'hard', 'want', 'make', 'right', 'decision', 'good', 'community', 'morse', 'hard', 'decision', 'make', 'going', 'today', 'johnson', 'ride', 'two', 'scale', 'hardest', 'hard', 'keep', 'research', 'agenda', 'intact', 'gone', 'longer', 'hard', 'get', 'put', 'name', 'tags', 'shy', 'put', 'name', 'tags', 'good', 'time', 'cleere', 'laughing', 'although', 'continues', 'insist', 'enjoying', 'challenge', 'shows', 'outward', 'signs', 'wear', 'tear', 'wilson', 'finding', 'hard', 'way', 'spencer', 'warning', 'contained', 'lot', 'grain', 'truth', 'hard', 'work', 'lot', 'warmth', 'person', 'psychological', 'hang-ups', 'generally', 'poor', 'taste', 'men', \"'i\", 'hard', 'believe', 'happening', 'interview', 'last', 'week', 'like', 'find', 'billy', 'relief', 'hard', 'right', 'hardest', 'thing', 'suffered', 'personal', 'level', 'treachery', 'friend', 'couple', 'joyce', 'thompson', 'rob', 'told', 'three', 'days', 'afterward', 'searchers', 'still', 'looking', 'blair', 'going', 'hard', 'raising', 'nicole', 'alone', 'best', 'put', 'morality', 'leadership', 'real', 'answers', 'hard', 'questions', 'ahead', 'depravity', 'expediency', 'diversion', 'right', 'sometimes', 'hard', 'imagine', 'yosemite', 'conservationist', 'john', 'muir', 'first', 'viewed', 'pristine', 'magnificence', 'place', 'love', 'meaning', 'limelight', 'hard', 'make', '72', 'ana', 'jaramillo', 'bicakci', '25', 'geologist', 'san', 'jose', 'found', 'drama', 'dispiriting', 'lesson', 'hard', 'men', 'women', 'communicate', 'hard', 'tell', 'people', 'going', 'react', 'debley', 'ned', 'make', 'regroup', 'hard', 'get', 'momentum', 'hard', 'get', 'point', 'feel', 'guilty', 'raped', 'mario', 'elie', 'whose', 'minutes', 'hard', 'find', 'public', 'sector', 'filled', 'gaps', 'noting', 'medicaid', 'coverage', 'often', 'harder', 'get', 'states', 'large', 'populations', 'blacks', 'lose', 'time', 'big', 'game', 'hard', 'take', 'hard', 'believe', 'ibj', 'got', 'caught', 'comes', 'hard', 'part', 'go', 'power', 'arrogance', 'hardest', 'thing', 'sublimating', 'fear', 'know', 'long', 'pause', 'hard', 'realize', 'last', 'time', 'come', 'see', 'blackford', 'game', 'hard', 'get', 'rhythm', 'conditions', 'kennedy', 'told', 'meeting', 'faculty', 'committee', 'research', 'tuesday', 'stanford', 'might', 'decide', 'forgo', 'overhead', 'charges', 'hard', 'explain', 'public', 'tree', 'fills', 'yard', 'many', 'leaves', 'hard', 'keep', 'maybe', 'would', 'good', 'dealing', 'state', 'shortfalls', 'special', 'education', 'funds', 'harder', 'since', 'classes', 'mandated', 'state', 'federal', 'laws', 'requiring', 'schools', 'provide', 'services', 'mentally', 'physically', 'handicapped', 'children', 'need', 'times', 'hard', 'extended', 'hand', 'pretty', 'hard', 'extend', 'guy', 'mayor', 'bradley', 'extended', 'let', 'tell', 'hard', 'believe', 'man', 'intelligent', 'could', 'alcoholic', 'F', 'addict', 'however', 'admits', 'hard', 'time', 'getting', 'funding', 'bread', 'quite', 'hard', 'crisp', 'still', 'pliable', 'enough', 'cut', 'regards', 'simple', 'absence', 'humour', 'like', 'think', 'fond', 'good', 'laugh', 'next', 'man', 'stand', 'without', 'long', 'periods', 'reading', 'trained', 'oxford', 'english', 'school', 'many', 'best', 'science-fiction', 'stories', 'xi', 'effect', 'example', 'distil', 'kind', 'horror', 'hard', 'conceive', 'harmonising', 'plausibly', 'anything', 'comic', 'bookings', 'resorts', 'hawaii', 'still', 'hard', 'come', 'seats', 'destinations', 'continental', 'u', 'may', 'available', 'even', 'last', 'minute', 'want', 'imagine', 'easy', 'given', 'betty', 'friedan', 'second', 'stage', 'summit', '1981', 'get', 'sense', 'worth', 'trying', 'get', 'mix', 'right', 'arlie', 'hochschild', 'second', 'shift', 'viking', '1989', 'realize', 'hard', 'everyone', 'hard', 'sell', 'meat', 'los', 'angeles', 'easy', 'harder', 'prove', 'doubting', 'ability', 'hard', 'keep', 'positive', 'attitude', 'sometimes', 'chitren', 'tenor', 'romance', 'hard', 'see', 'two', 'could', 'go', 'wrong', 'end', 'even', 'harder', 'face', 'fundamentally', 'supreme', 'court', 'along', 'country', 'changed', 'since', 'day', '1967', 'president', 'johnson', 'picked', 'marshall', 'replace', 'justice', 'tom', 'clark', 'companies', 'everex', 'harder', 'time', 'differentiating', 'although', 'closely', 'observed', 'animals', 'modern', 'times', 'hard', 'tell', 'sure', 'prove', 'reason', 'guys', 'belong', 'museum', 'hard', 'read', 'standing', 'sudden', 'japan', 'bursting', 'plans', 'import', 'foreign-made', 'products', 'hard', 'figure', 'sam', 'jankovich', 'miami', 'athletic', 'director', '1983', 'leaving', 'last', 'december', 'become', 'new', 'england', 'patriots', 'chief', 'operating', 'officer', 'issued', 'statement', 'saturday', 'hard', 'believe', 'kind', 'thing', 'could', 'happen', 'given', 'structure', 'financial-aid', 'system', 'time', 'reality', 'check', 'days', 'getting', 'harder', 'distinguish', 'boxing', 'pro', 'wrestling', 'hard', 'daughter', 'hardest', 'part', 'movie', 'kathleen', 'jalalpour', 'watch', 'hard', 'know', 'speculate', 'hard', 'justify', 'paying', '140', 'black-and-white', 'get', 'color', 'free', 'hard', 'time', 'french', 'braiding', 'hair', 'time', 'rapid', 'social', 'change', 'hard', 'know', 'rules', 'point', 'political', 'scientist', 'journalism', 'professor', 'philip', 'meyer', 'university', 'north', 'carolina', 'unfortunately', 'hard', 'buy', 'crape', 'myrtle', 'variety', 'company', 'stock', 'value', 'brokers', 'grown', '3', '100', 'contribution', 'made', 'behalf', '1985', '77', 'six', 'years', 'later', 'would', 'hard', 'find', 'better', 'retirement', 'plan', 'makes', 'damn', 'hard', 'make', 'profit', 'hard', 'since', 'cast', 'rotates', 'performance', 'would', 'hard', 'pull', 'flawless', 'show', 'hard', 'come', 'far', 'well', 'hard', 'lose', 'anytime', 'sjs', 'quarterback', 'matt', 'veatch', 'threw', 'interception', 'returned', 'minnesota', 'go-ahead', 'touchdown', 'harder', 'running', 'city', 'council', 'meeting', 'spangler', 'quipping', 'candice', 'learned', 'hard', 'way', 'time', 'crucial', 'element', 'research', 'quarterback', 'joe', 'montana', 'storied', 'run', 'success', '49ers', 'spectacular', 'hard', 'imagine', 'could', 'gone', 'another', 'way', 'according', 'deacon', 'jeremiah', 'yang', 'chun', 'commitment', 'bettering', 'lives', 'poor', 'koreans', 'suicide', 'forged', 'recognition', 'misrule', 'hard', 'life', 'frozen', 'food', 'section', 'continues', 'burst', 'new', 'convenient', 'meal', 'main', 'dish', 'snack', 'items', 'nutrition', 'information', 'hard', 'find', 'unless', 'health', 'pitch', 'product', 'thing', 'universal', 'support', 'fact', 'hard', 'time', 'council', 'approved', 'last-minute', 'amendment', 'make', 'harder', 'win', 'university', 'regents', 'approval', 'much', 'harder', 'kind', 'intelligent', 'dramatic', 'series', 'overlapping', 'story', 'lines', 'today', 'keep', 'air', 'referring', 'growing', 'competition', 'made', 'patience', 'costly', 'virtue', 'words', 'people', 'figured', 'would', 'hard', 'time', 'finding', 'work', 'anywhere', 'else', 'still', 'stuck', 'wkrp', 'decade', 'later', 'starlight', 'angel', 'short', 'crammed', 'ken', 'barbi', 'facsimiles', 'particularly', 'hard', 'take', 'thing', 'least', 'bit', 'hard', 'remember', 'cuomo', 'described', 'issue', 'hiring', 'quotas', 'nice', 'thing', 'discuss', 'especially', 'want', 'get', 'people', 'eyes', 'real', 'problem', 'economy', 'deal', 'hard', 'politically', 'black', 'truffles', 'prized', 'imparting', 'flavor', 'food', 'expensive', '500', 'pound', 'fresh', 'product', 'hard', 'come', 'world', 'supply', 'reduced', 'over-harvesting', 'buzzing', 'going', 'everybody', 'electronic', 'agendas', 'voice', 'memo-takers', 'pill-taking', 'reminders', 'unnecessarily', 'fancy', 'trinkets', 'hard', 'tell', 'career', 'set', 'singing', 'hard', 'beat', 'favorite', 'holiday', 'halloween', 'really', 'hard', 'beat', 'hard', 'excited', 'upset', 'time', 'got', 'close', 'sanders', 'could', 'even', 'go', 'leningrad', 'without', 'permission', 'hard', 'get', 'ought', 'propose', 'remedies', 'except', 'admitted', 'evils', 'find', 'hard', 'popularity', 'oxford', 'cambridge', 'evil', 'always', 'hard', 'playing', 'team', 'losing', 'record', 'afraid', 'hard', 'time', 'waking', 'morning', 'drank', 'last', 'night', 'getting', 'hard', 'keep', 'players', 'general', 'manager', 'mused', 'miss', 'manners', 'fails', 'understand', 'hard', 'developers', 'builders', 'hard', 'time', 'godfather', 'comedy', 'mid', \"'80s\", 'hard', 'think', 'san', 'francisco', 'comedy', 'without', 'thinking', 'alex', 'bennett', 'corleone', 'scene', 'going', 'hard', 'summer', 'playing', 'gabriela', 'sabatini', 'martina', 'playing', 'fresno', 'state', 'talking', 'people', 'hard', 'enough', 'time', 'getting', 'street', 'besides', 'true', 'value', 'particular', 'package', 'far', 'harder', 'define', 'dollars-and-cents', 'initial', 'price', 'needs', 'met', 'hard', 'take', 'care', 'others', 'needs', 'no-fault', 'makes', 'easier', 'faster', 'compen', 'sated', 'typical', 'medium-sized', 'accident', 'harder', 'file', 'lawsuits', 'maybe', 'win', 'big', 'bucks', 'even', 'three-bedroom', 'two-bath', 'four', 'semi-automatic', 'families', 'know', 'darned', 'hard', 'get', 'instant', 'service', 'hard', 'something', 'believe', 'lot', 'fun', 'r', 'r', 'hard', 'come', 'back', 'hard', 'believe', 'happened', 'engines', 'produce', 'smoke', 'hard', 'naked', 'eye', 'spot', 'eagle', 'high', 'sky', '6-foot-7', '300', 'pounds', 'hard', 'feeling', 'hard', 'sit', 'nod', 'head', 'repeated', 'stories', 'anymore', 'agile', 'quick', 'even', 'hard', 'tell', 'limb', 'missing', 'willey', 'lives', 'sacramento', 'makes', 'harder', 'stanford', 'terms', 'public', 'relations', 'lawmakers', 'told', 'clifford', 'ultimate', 'washington', 'insider', 'found', 'hard', 'believe', 'know', 'foreign-owned', 'bank', 'credit', 'commerce', 'international', 'exercised', 'illicit', 'control', 'big', 'u', 'bank', 'headed', 'although', 'hard', 'exactly', 'many', 'people', 'might', 'company', 'world', 'odyssey', 'los', 'altos', 'planning', 'build', 'project', 'amid', 'deep', 'canyons', 'steep', 'red', 'sandstone', 'cliffs', 'spires', 'zion', 'national', 'park', 'many', 'parks', 'monuments', 'around', 'country', 'kind', 'hard', 'run', 'constantly', 'taking', 'ball', 'bounds', 'getting', 'harder', 'find', 'popularity', 'hard', 'take', 'another', 'person', 'westerners', 'may', 'hard', 'time', 'differentiating', 'authentic', 'spiritual', 'leaders', 'prone', 'exploitation', 'different', 'way', 'judging', 'things', 'way', 'judgment', 'based', 'materialism', 'hard', 'trick', 'like', 'far', 'bagian', 'single-parent', 'households', 'mothers', 'two-parent', 'families', 'work', 'outside', 'home', 'nowadays', 'harder', 'parents', 'squeeze', 'time', 'meet', 'teachers', 'mineta', 'added', 'bias', 'hard', 'overcome', 'bmws', 'mercedeses', 'per', 'square', 'inch', 'place', 'side', 'munich', 'hard', 'believe', 'saratoga', 'rootin', 'tootin', 'lumber', 'town', 'newspaper', 'observed', 'seven', 'saloons', 'village', \"'a\", 'drunk', 'saratoga', 'last', 'word', 'drunkenness', 'people', 'finally', 'really', 'talking', 'stuff', 'great', 'still', 'hard', 'explain', 'men', 'things', 'offensive', 'seavello', 'third-year', 'stanford', 'medical', 'student', 'decision', 'favor', 'landowners', 'would', 'make', 'harder', 'governments', 'enact', 'enforce', 'laws', 'protect', 'environment', 'hard', 'underestimate', 'importance', 'paper', 'dr', 'david', 'williamson', 'centers', 'disease', 'control', 'hard', 'tell', 'ross', 'never', 'good', 'brevity', 'F', 'add', 'little', 'levity', 'F', 'verse', 'guess', 'must', 'recite', 'F', 'things', 'hard', 'right', 'F', 'please', 'forgive', 'go', 'fashion', 'F', 'issue', 'might', 'tend', 'towards', 'passi', 'F', 'know', 'keep', 'going', 'way', 'F', 'poetic', 'license', 'pay', 'inflation', 'hard', 'estimate', 'many', 'prices', 'controlled', '30', '60', 'percent', 'year', 'many', 'key', 'commodities', 'ilya', 'prizel', 'associate', 'professor', 'johns', 'hopkins', 'school', 'advanced', 'international', 'studies', 'hard', 'figure', 'left-hander', 'steve', 'whitaker', 'made', 'long-awaited', 'professional', 'baseball', 'debut', 'friday', 'night', 'hard', 'tell', 'anxious', 'game', 'time', 'whitaker', 'pitching', 'coach', 'gary', 'lucas', 'last', 'hard', 'men', 'seem', 'arriving', 'daily', 'hackett', 'making', 'first', 'start', 'since', 'turned', 'aside', '48', '52', 'shots', '4-3', 'loss', 'last', 'friday', 'season', 'opener', 'vancouver', 'hard', 'time', 'getting', 'flow', 'game', 'long', 'layoff', 'dual', 'meets', 'hard', 'beat', 'sides', 'agree', 'hard', 'make', 'living', '5', '6', 'hour', 'still', 'simple', 'fact', 'blind', 'man', 'could', 'compose', 'soundtrack', 'film', 'see', 'wonder', 'makes', 'album', 'hard', 'dismiss', 'angry', 'business', 'community', 'may', 'industry', 'begins', 'making', 'profits', 'line', 'industries', 'hard', 'make', 'case', 'lower', 'fares', 'seeing', 'television', 'seeing', 'exactly', 'women', 'go', 'seeing', 'verdict', 'sending', 'clear', 'message', 'hard', 'going', 'get', 'anything', 'melanie', 'boyd', 'san', 'francisco', 'women', 'rape', 'many', 'excellent', 'australian', 'plants', 'hard', 'choose', 'among', 'three', 'among', 'growing', 'number', 'fallen', 'times', 'hard', 'ask', 'help', 'feed', 'house', 'families', 'stroke', 'veto', 'pen', 'gov', 'pete', 'wilson', 'made', 'harder', 'immigrants', 'learn', 'english', 'become', 'productive', 'californians', 'although', 'cupertino', 'supposed', 'affluence', 'makes', 'figure', 'hard', 'believe', 'many', 'people', 'city', 'facing', 'onerous', 'housing', 'costs', 'run', 'money', 'food', 'norling', 'hard', 'soul', 'artist', 'however', 'halt', 'viewer', 'frantic', 'search', 'familiar', 'themes', 'objects', 'hard', 'hard', 'people', 'concentrate', 'hard', 'win', 'declared', 'get', 'inch', 'fourth-and-inches', 'hardest', 'preparation', 'ever', 'done', 'number', 'called', 'pro', 'football', 'player', '1968', 'try', 'unite', 'communities', 'interest', 'around', 'downtown', 'hard', 'end', 'majority', 'hispanic', 'district', 'even', 'hard', 'make', 'legal', 'case', 'everyone', 'signs', 'proper', 'forms', 'soocher', 'hard', 'believe', '11', 'tryouts', 'eight', 'teams', 'landing', 'job', 'kansas', 'city', 'lowery', 'piniella', 'never', 'thought', 'repeating', 'could', 'hard', 'incredibly', 'hard', 'woman', 'higher', 'achiever', 'making', 'maybe', 'man', 'sense', 'isolation', 'fitting', 'hard', 'overcome', 'hard', 'continue', 'momentum', 'think', 'lot', 'harder', 'get', 'physicians', 'sign', 'reserves', 'stay', 'reserves', 'hard', 'figure', 'cash', 'gets', 'perspective', 'team', 'faced', 'last', 'year', 'year', 'really', 'hard', 'explain', 'hawkins', 'obviously', 'wanting', 'analyze', 'thing', 'death', 'wait', 'long', 'time', 'next', 'game', 'hard', 'stay', 'sharp', 'beautiful', 'quality', 'hard', 'find', 'man', 'committed', 'marriage', 'hard', 'hindsight', 'guy', 'would', 'ever', 'responded', 'rational', 'pressure', 'like', 'sanctions', 'democratic', 'adviser', 'michael', 'mccurry', 'hard', 'define', 'eat', 'well', 'get', 'enough', 'sleep', 'exercise', 'best', 'hard', 'time', 'getting', 'around', 'help', 'home', 'humvee', 'climbs', '60-degree', 'grade', 'hard', 'flip', 'runs', 'ice', 'mud', 'snow', 'course', 'sand', 'standard', 'gas', 'plasma', 'screen', 'replaced', 'electroluminescent', 'display', 'gas', 'plasma', 'screen', 'easy', 'read', 'overheated', 'quickly', 'astronauts', 'rejected', 'replacement', 'liquid', 'crystal', 'display', 'hard', 'read', 'complicate', 'matters', 'readers', 'hard', 'time', 'finding', 'alpine', 'lace', 'lean', 'free', 'using', 'statistical', 'evidence', 'interviews', 'gordon', 'makes', 'good', 'case', 'hard', 'care', 'allegations', 'proposed', 'edenvale', 'amendment', 'represents', 'significant', 'change', 'land', 'use', 'policy', 'san', 'jose', '20', 'years', 'hard', 'fathom', 'hard', 'parent', 'think', 'child', 'put', 'situation', 'wednesday', 'night', 'new', 'group', 'opponents', 'emerged', 'argue', 'center', 'named', 'mcenery', 'would', 'recognize', 'convention', 'center', 'would', 'therefore', 'harder', 'market', 'started', 'long', 'descent', 'harder', 'ascent', 'someone', 'told', 'oldest', 'person', 'reach', 'summit', '74', 'years', 'old', 'seen', 'dame', 'edna', 'kind', 'hard', 'describe', 'entire', 'downtown', 'area', 'get', 'aluminum', 'cans', 'hard', 'believe', 'nobody', 'area', 'recycles', 'cans', 'janet', 'foreman', 'recycling', 'coordinator', 'hard', 'see', 'situation', 'could', 'otherwise', 'hard', 'reconcile', 'two', 'crusaders', 'jazz', 'crusaders', 'fairly', 'formidable', 'band', 'sluggish', 'uneven', 'recovery', 'begins', 'u', 'economy', 'wall', 'street', 'analysts', 'benefits', 'especially', 'hard', 'see', 'service', 'businesses', 'numerous', 'thefts', 'ostriches', 'emus', 'texas', 'georgia', 'extremely', 'hard', 'trace', 'malcom', 'wilkes', 'milam', 'county', 'sheriff', 'department', 'investigator', 'conceded', 'democrat', 'hard', 'time', 'beating', 'bush', 'hard', 'argue', 'peace', 'sealed', 'room', 'man', 'gets', 'older', 'boxers', 'find', 'harder', 'keep', 'training', 'yet', 'people', 'surrounding', 'neighborhoods', 'strong', 'emotional', 'ties', 'campus', 'campus', 'expected', 'draw', 'vociferous', 'support', 'series', 'public', 'hearings', 'start', 'monday', 'culminate', 'feb', '28', 'hard', 'decisions', 'school', 'board', 'finding', 'new', 'job', 'hard', 'people', 'planting', 'roots', 'fields', 'lack', 'experience', 'hard', 'finding', 'shortstop', 'catcher', 'less', 'five', 'bucks', 'wo', 'hurt', 'although', 'acknowledged', 'conclusive', 'evidence', 'discrimination', 'hard', 'find', 'lantos', 'anecdotes', 'formed', 'distressing', 'pattern', 'unique', 'japanese', 'companies', 'hard', 'believe', 'compromise', 'durable', 'others', 'proposed', 'since', 'foundation', 'began', 'pursue', 'plan', 'add', '45', 'square', 'feet', 'clinic', 'research', 'facilities', 'hard', 'get', 'ernie', 'piini', 'san', 'jose', 'retired', 'electrical', 'engineer', 'seen', '11', 'eclipses', 'past', '20', 'years', 'ecstatically', 'justified', 'satisfaction', 'someone', 'achieved', 'within', '100', 'years', 'forebears', 'dreamed', 'self-confidence', 'someone', 'firmly', 'believed', 'even', 'times', 'hard', 'indeed', 'believe', 'day', 'would', 'come', 'whole', 'world', 'including', 'enemies', 'would', 'accept', 'reality', 'israel', 'easy', 'grow', 'task', 'transplanting', 'desired', 'native', 'tree', 'woods', 'lawn', 'hard', 'land', 'labor', 'costs', 'add', 'quickly', 'event', 'failure', 'hard', 'convert', 'buildings', 'uses', 'eisenzimmer', 'last', 'two', 'years', 'times', 'hard', 'everyone', 'downswing', 'mentally', 'fine', 'confident', 'playing', 'great', 'hard', 'think', 'good', 'la', 'russa', 'much', 'harder', 'replicate', 'even', 'crucial', 'underlying', 'process', 'technology', 'required', 'make', 'constantly', 'improve', 'new', 'generations', 'products', 'mr', 'kennedy', 'however', 'takes', 'office', 'time', 'problems', 'subtle', 'answers', 'harder', 'find', 'tilbury', 'heard', 'victims', 'bidding', 'homes', 'primarily', 'hills', 'hard', 'to-find', 'three', 'four-bedroom', 'houses', 'hard', 'whether', 'women', 'abused', 'whether', 'lot', 'awareness', 'women', 'know', 'lee-siegmann', 'specialty', 'stores', 'tex', 'toys', 'mountain', 'view', 'carried', 'moon', 'shoes', 'hard', 'find', 'completely', 'fooled', 'pat', 'admits', 'easy', 'guy', 'hard', 'fool', '62', 'years', 'seven', 'municipalities', 'predicted', 'would', 'harder', 'meet', 'financial', 'needs', 'last', 'year', 'fewer', 'inadequately', 'prepared', 'players', 'asked', 'job', 'harder', 'hardest', 'person', 'league', 'guard', 'oliver', 'dresses', 'nicely', 'heels', 'jewely', 'middle', 'day', 'home', 'june', 'cleaver-style', 'makes', 'harder', 'picture', 'rooting', 'dumpsters', 'behind', 'k', 'mart', 'gray', 'area', 'hard', 'define', '17', 'months', 'hostage', 'david', 'jacobsen', 'hardest', 'thing', 'allow', 'emotional', 'particularly', 'people', 'loves', 'fine', 'line', 'stimulating', 'sales', 'new', 'products', 'alienating', 'customers', 'putting', 'much', 'product', 'companies', 'atari', 'discovered', 'hard', 'way', 'times', 'may', 'hard', 'dreams', 'live', 'minds', 'faithful', 'faithful', 'lotto', 'players', 'caffe', 'verona', 'hard', 'place', 'pigeonhole', 'let', 'put', 'hard', 'painful', 'believe', 'perhaps', 'really', 'thinks', 'fax', 'modem', 'software', 'almost', 'always', 'harder', 'learn', 'use', 'fax', 'machine', 'course', 'presidents', 'sometimes', 'learn', 'hard', 'way', 'delegating', 'dangerous', 'professional', 'people', 'staff', 'analyze', 'bids', 'asked', 'mayor', 'adding', 'legally', 'liability', 'hard', 'prove', 'would', 'hard', 'conceive', 'three', 'different', 'presences', 'going', 'hard', 'president', 'mikhail', 'gorbachev', 'warned', 'hard', 'winter', 'urged', 'west', 'contribute', 'food', 'country', 'makes', 'painful', 'move', 'centralized', 'economy', 'market', 'system', 'secret', 'hard', 'shamir', 'daily', 'life', 'writes', 'decalogue', 'written', 'two', 'plates', 'hard', 'facts', 'life', 'facts', 'injuries', 'aside', 'hard', 'times', 'smaller', 'schools', 'field', 'teams', 'sports', 'like', 'offer', 'thing', 'bill', 'even', 'marchibroda', 'recalled', 'wednesday', 'time', 'together', 'baltimore', 'gave', 'work', 'never', 'asked', 'hard', 'long', 'take', 'maine', 'republican', 'spent', 'six', 'years', 'panel', 'oversees', 'cia', 'aspects', 'american', 'spycraft', 'hard', 'decide', 'fact', 'ends', 'fiction', 'begins', 'still', 'hard', 'overlook', 'nutrition', 'south', 'bay', 'hard', 'know', 'wear', 'jaunt', 'northeast', 'corridor', \"'people\", 'realize', 'hard', 'miss', 'wimbledon', 'hard', 'see', 'effectively', 'carry', 'government', 'work', 'sometimes', 'kremlin', 'revolution', 'harder', 'follow', 'old', 'twin', 'peaks', 'show', 'hard', 'going', 'back', 'place', 'called', 'home', 'home', 'longer', 'place', 'laid', 'roots', 'sound', 'bite', 'bo', 'jackson', 'still', 'walks', 'crutches', 'laments', 'excruciating', 'slowness', 'recovery', 'hip', 'injury', 'mentally', 'hard', 'able', 'run', 'yet', 'may', 'hard', 'latch', 'unlatch', 'national', 'highway', 'traffic', 'safety', 'administration', 'honestly', 'hard', 'keep', 'track', 'litigation', 'going', 'drew', 'peck', 'follows', 'companies', 'securities', 'firm', 'donaldson', 'lufkin', 'jenrette', 'hard', 'see', 'hard', 'get', 'anything', 'done', 'building', 'demarcus', 'spent', '310', 'alone', 'lunches', 'staff', 'person', 'marianne', 'payne', 'since', 'january', '1990', 'much', 'harder', 'get', 'impossible', 'hard', 'believe', 'first', 'really', 'drawbacks', 'becoming', 'well-known', '16', 'years', 'since', 'met', 'landy', 'musician', 'hardest', 'wilson', 'positioned', 'pawn', 'battle', 'control', 'landy', 'termed', 'brian', 'good', 'father', 'beach', 'boys', 'camp', 'asking', 'courts', 'appoint', 'legal', 'conservator', 'hard', 'believe', 'president', 'going', 'make', 'decision', 'kinds', 'export', 'conditions', 'going', 'placed', 'cheap', 'work', 'stations', 'looks', 'like', 'going', 'happen', 'roszel', 'thomsen', 'ii', 'washington', 'lawyer', 'represents', 'work', 'station', 'makers', 'giants', 'ended', 'shawon', 'dunston', '14-game', 'hitting', 'streak', 'thursday', 'pitchers', 'may', 'find', 'hard', 'stop', 'salary', 'drive', 'always', 'amazed', 'people', 'amazed', 'actually', 'cook', 'gourmet', 'common', 'assumption', 'hard', 'time-consuming', 'robert', 'reitherman', 'half', 'moon', 'bay-based', 'consultant', 'recently', 'completed', 'study', '1972', 'state', 'law', 'effectively', 'prohibits', 'building', 'within', '50', 'feet', 'active', 'fault', 'new', 'law', 'would', 'much', 'harder', 'implement', 'less', 'agreement', 'among', 'scientists', 'areas', 'subject', 'severe', 'ground', 'motion', 'liquefaction', 'landslides', 'location', 'faults', 'art', 'hard', 'understand', 'oneal', 'many', 'others', 'offering', 'similar', 'appeal', 'viewers', 'hard', 'see', 'eddie', 'dodd', 'win', 'final', 'verdict', 'judge', 'nielsen', 'men', 'may', 'find', 'hard', 'take', 'venom', 'rarely', 'directed', 'hard', 'excuse', 'blindly', 'fatalistic', 'view', 'u', 'ussr', 'would', 'forever', 'mortal', 'enemies', 'locked', 'global', 'struggle', 'bradley', 'citing', 'gates', 'speeches', 'classified', 'analyses', 'plus', 'hard', 'general', 'grant', 'interviews', 'washington', 'since', 'still', 'duty', 'persian', 'gulf', 'whole', 'hard', 'imagine', 'disasters', 'victims', 'ought', 'better', 'prepared', 'financially', 'take', 'care', 'since', 'know', 'coming', 'however', 'hard', 'focus', 'much', 'prelude', 'researchers', 'agree', 'small', 'year-to-year', 'fluctuations', 'linked', 'human', 'activities', 'would', 'hard', 'spot', 'hard', 'tell', 'hargrove', 'yes', 'boy', 'give', 'hard', 'time', 'demanded', 'know', 'rain', 'forbade', 'go', 'outside', 'another', 'slice', 'reality', 'well', 'harder', 'cover', 'casualties', 'right', 'home', 'hard', 'practice', 'running', 'forward', 'year', 'start', 'running', 'backward', 'thing', 'prospective', 'contestants', 'come', \"'i\", 'believe', 'hard', 'test', 'harv', 'selsby', 'wheel', 'contestant', 'coordinator', 'funny', 'hard', 'believe', 'creators', 'jay', 'warde', 'bill', 'scott', 'died', \"'80s\", 'original', 'episodes', 'three', 'seasons', 'two', 'abc', 'nbc', 'late', \"'50s\", 'early', \"'60s\", 'three-year-old', 'chip', 'maker', 'cyrix', 'corp', 'learning', 'hard', 'lessons', 'young', 'age', 'hard', 'know', 'without', 'going', 'hard', 'build', 'list', 'complete', 'clues', 'phonetic', 'misspellings', 'words', 'child', 'trouble', 'spelling', 'difficult', 'give', 'clue', 'hard', 'misspell', 'word', 'dificult', 'hard', 'imagine', 'better', 'bargain', 'software', 'hard', 'days', 'pick', 'good', 'day', 'pitcher', 'struggle', 'sunday', 'might', 'worst', 'day', 'ron', 'darling', 'lose', 'first', 'game', 'uniform', 'congressional', 'aide', 'north', 'koreans', 'want', 'congressional', 'delegation', 'receive', 'remains', 'earlier', 'exchange', 'high-ranking', 'group', 'would', 'hard', 'convene', 'time', 'remains', 'turned', 'measurable', 'help', 'articles', 'offer', 'owners', 'hard', 'discern', 'unless', 'desire', 'spend', 'time', 'compiling', 'names', 'ranking', 'players', 'maybe', 'federal', 'equivalent', 'selling', 'boat', 'make', 'hard', 'sometimes', 'painful', 'decisions', 'reducing', 'things', 'nice', 'need', 'decided', 'stick', 'thing', 'hard', 'thing', 'l', 'women', 'closeted', 'industry', 'pressure', 'controls', 'dashboard', 'left', 'steering', 'wheel', 'puts', 'sight', 'makes', 'hard', 'operate', 'driving', 'extremely', 'hard', 'athlete', 'injured', 'brick', 'hard', 'vote', 'law', 'lillian', 'bread', 'good', 'everything', 'tastes', 'much', 'better', 'hard', 'eat', 'much', 'secretary', 'ruefully', 'eyeing', 'extra', 'pounds', 'reported', 'defaults', 'involving', 'paper', 'held', 'tax-free', 'funds', 'year-plus', 'history', 'harder', 'evaluate', 'credit', 'quality', 'tax-free', 'funds', 'taxable', 'funds', 'russell', 'e', 'long', 'assistant', 'vice', 'president', 'standard', 'poor', 'mutual', 'fund', 'group', 'new', 'york', '54-0', 'hard', 'game', 'lentz', 'funds', 'rate', 'going', 'go', 'place', 'makes', 'job', 'telling', 'much', 'harder', 'may', 'stolen', 'items', 'buyer', 'reneged', 'paying', 'may', 'decided', 'items', 'would', 'hard', 'sell', 'police', 'hard', 'road', 'back', 'plenty', 'political', 'ammunition', 'given', 'government', 'recent', 'sessions', 'leading', 'opposition', 'skill', 'assurance', 'match', 'prime', 'minister', 'across', 'floor', 'little', 'bit', 'harder', 'long', 'strategic', 'aspect', 'alliances', 'moving', 'along', 'past', 'sanford', 'robertson', 'founding', 'partner', 'robertson', 'stephens', 'co', 'san', 'francisco', 'investment', 'banking', 'firm', 'times', 'hard', 'distance', 'expense', 'outweighing', 'fond', 'sentiment', 'regrets', '100', 'percent', 'yes', 'today', 'sad', 'day', 'days', 'ahead', 'harder', 'days', 'hard', 'believe', 'neither', 'matt', 'furry', 'would', 'realize', 'flying', 'missions', 'arabs', 'u', 'marked', 'f-15', 'united', 'states', 'studiously', 'neutral', 'might', 'disastrous', 'effect', 'national', 'policy', 'hard', 'hard', 'believe', 'could', 'make', 'effort', 'consolidate', 'save', 'money', 'brownstein', 'makes', 'life', 'hard', 'japan', 'high-paying', 'consumers', 'foreign', 'companies', 'face', 'steep', 'costs', 'obstacles', 'breaking', 'market', 'rural', 'community', '6', '200', 'people', 'imperial', 'food', 'products', 'biggest', 'employer', '225', 'jobs', 'provided', 'mostly', '5', '5', '50-an-hour', 'range', 'hard', 'come', 'hard', 'see', 'trade', 'pressure', 'product', 'could', 'interpreted', 'china', 'protest', 'non-trade', 'related', 'human', 'rights', 'abuses', 'difference', 'call', 'nazi', 'make', 'stick', 'tough', 'really', 'hard', 'sometimes', 'hardest', 'thing', 'world', 'huh', 'made', 'hard', 'choices', 'days', 'bull', 'connor', 'seem', 'remote', 'hard', 'even', 'son', 'south', 'began', 'covering', 'sit-ins', 'summer', '1960', 'recall', 'climate', 'official', 'unofficial', 'menace', 'king', 'comrades', 'followers', 'overcome', 'hard', 'child', 'star', 'grow', 'understand', 'since', 'january', 'however', 'gotten', 'harder', 'live', 'homeless', 'life', 'hard', 'deny', 'something', 'going', 'something', 'hear', 'tv', 'hard', 'cope', 'come', 'school', 'see', 'empty', 'seat', 'saddam', 'hard', 'remove', 'part', 'followers', 'came', 'power', 'military', 'coup', 'determined', 'keep', 'others', 'following', 'blueprint', 'employers', 'rewarding', 'service', 'persian', 'gulf', 'veterans', 'might', 'remember', 'longer', 'harder', 'lonelier', 'service', 'vietnam', 'veterans', 'another', 'user', 'demand', 'likely', 'outpace', 'technology', 'better', 'handwriting', 'recognition', 'hardest', 'problems', 'pen', 'computing', 'second-guessing', 'anyway', 'hard', 'fathom', 'harris', 'band', 'nash', 'ramblers', 'given', 'visibility', 'ads', 'harder', 'prove', 'film', 'houses', 'still', 'make', 'money', 'popcorn', 'furtney', 'found', 'hard', 'believe', 'sp', 'could', 'accused', 'uncooperative', \"'76\", 'spill', 'hard', 'gauge', 'city', 'channel', 'impact', 'audience', 'ratings', 'cable', 'station', 'available', 'received', 'tons', 'publicity', 'achievement', 'hard', 'miss', 'mac', 'format', 'paper', 'written', 'university', 'north', 'carolina', 'housing', 'professor', 'michael', 'stegman', '144-page', 'treatise', 'concludes', 'privatizing', 'public', 'housing', 'necessarily', 'bad', 'idea', 'costly', 'hard', 'right', 'limited', 'application', 'going', 'hard', 'raising', 'daughter', 'woman', 'driving', 'hills', 'oakland', 'saratoga', 'los', 'altos', 'los', 'gatos', 'years', 'drought', 'hard', 'resist', 'fleeting', 'thought', 'god', 'earth', 'would', 'happen', 'spark', 'got', 'loose', 'land', 'democrats', 'conceded', 'advance', 'bitter', 'fight', 'thomas', 'would', 'make', 'particularly', 'hard', 'get', 'gop', 'votes', 'would', 'needed', 'prevail', 'would', 'real', 'hard', 'write', 'job', 'description', 'special', 'assistant', 'president', 'general', 'manager', 'willie', 'formal', 'title', 'giants', 'duffy', 'jennings', 'final', 'step', 'quest', 'become', 'triathlete', 'hardest', 'harder', 'extend', 'body', 'sliding', 'feet', 'first', 'psychological', 'implications', 'even', 'harder', 'visualize', 'small', 'type', 'toughest', 'lie', 'rebut', 'cutting', 'edge', 'alone', 'story', 'found', 'hard', 'believe', 'wife', 'complains', 'making', 'money', 'become', 'infatuating', 'thing', 'hard', 'time', 'paul', 'dupont', '48', 'hard', 'get', 'agitated', 'extravagant', 'parades', 'week', 'henry', 'kissinger', 'plays', 'guest', 'weatherman', 'cbs', 'morning', 'show', 'church', 'architecture', 'location', 'hard', 'imagine', 'building', 'san', 'jose', 'important', 'preserve', 'felt', 'mean', 'hard', 'describe', 'hard', 'find', 'jewish', 'heroine', 'positive', 'well-balanced', 'successful', 'admirable', 'jewish', 'woman', 'hindus', 'prefer', 'time-honored', 'cremation', 'wood', 'fire', 'although', 'find', 'hard', 'witness', 'little', 'people', 'however', 'like', 'kyle', 'daria', '3', 'F', 'much', 'harder', 'put', 'aside', 'hard', 'know', 'state', 'larry', 'come', 'back', 'brain', 'damage', 'day', 'controversial', 'legislation', 'aimed', 'making', 'harder', 'manufacturers', 'control', 'sales', 'servicing', 'policies', 'discount', 'retailers', 'cleared', 'major', 'hurdle', 'wednesday', 'senate', 'voted', '63-35', 'cut', 'debate', 'bring', 'measure', 'vote', 'later', 'week', 'harder', 'minority', 'non-profit', 'groups', 'donors', 'stay', 'away', 'farmers', 'depend', 'bees', 'pollinate', 'crops', 'beekeepers', 'fear', 'africanized', 'bees', 'economic', 'damage', 'even', 'stings', 'hard', 'manage', 'devote', 'much', 'energy', 'swarming', 'creating', 'new', 'colonies', 'chips', 'hard', 'trace', 'detectives', 'complain', 'hand', 'markings', 'small', 'chips', 'used', 'effectively', 'trace', 'origin', 'chips', 'wind', 'anywhere', 'world', 'within', 'hours', 'school', 'nutritionists', 'shape', 'program', 'individual', 'schools', 'face', 'many', 'obstacles', 'make', 'serving', 'healthy', 'lunch', 'harder', 'looks', 'among', 'box', 'fast-food', 'generation', 'children', 'susceptible', 'advertising', 'wo', 'eat', 'food', 'look', 'though', 'came', 'mcdonald', 'manufacturer', 'warns', 'hard', 'compensate', 'action', 'put', 'american', 'grain', 'food', 'pipeline', 'arrive', 'destination', 'time', 'assistance', 'hard', 'winter', 'facing', 'soviet', 'people', 'bush', 'statement', 'hardest', 'things', 'faced', 'losing', 'friends', 'ambitious', 'discontented', 'girls', '30', 'years', 'ago', 'hard', 'time', 'imagining', 'imagine', 'vote', '5-4', 'criminal', 'made', 'harder', 'defendants', 'make', 'second', 'federal', 'appeals', 'bombarded', 'bad', 'news', 'disturbed', 'threats', 'terrorism', 'confounded', 'economy', 'skidded', 'recession', 'angered', 'elected', 'officials', 'posture', 'pontificate', 'rather', 'step', 'hard', 'questions', 'deficits', 'ethics', 'accountability', 'people', 'upset', 'inevitability', 'cheaper', 'technology', 'competition', 'made', 'harder', 'envious', 'laser', 'printer', 'owners', 'senate', 'passed', 'budget', 'resolution', 'provision', 'would', 'make', 'still', 'harder', 'raise', 'taxes', 'pay', 'extensions', 'challenged', 'clause', 'hard', 'time', 'adjusting', 'bench', 'player', 'herr', 'acknowledged', 'hard', 'understand', 'draft', 'seem', 'particularly', 'encouraging', 'grade', 'b', 'best', 'hardest', 'thing', 'overcome', 'nfl', 'succession', 'weak', 'drafts', 'either', 'direction', 'wild', 'wind-swept', 'scenery', 'mesmerizing', 'hard', 'keep', 'eyes', 'narrow', 'road', 'campus', 'administrators', 'worry', 'spech', 'codes', 'place', 'civil', 'framework', 'around', 'debate', 'hard', 'find', 'debate', 'despite', 'hard', 'imagine', 'tapes', 'cause', 'ripple', 'anyone', 'die-hard', 'fans', 'uncertainties', 'serious', 'hardest', 'fathom', 'greenspan', 'view', 'continued', 'failure', 'banks', 'make', 'loans', 'creditworthy', 'customers', 'four-year', 'deficit', 'make', 'hard', 'good', 'march', 'recession', 'especially', 'difficult', 'media', 'companies', 'particularly', 'hard', 'second', 'newspaper', 'company', 'market', 'buzzetta', 'reforms', 'highly', 'unlikely', 'pass', 'shows', 'wilson', 'apparent', 'boldness', 'hard', 'go', 'back', 'simple', 'accountable', 'form', 'government', 'considered', 'commonplace', 'generally', 'agreed', 'bakers', 'harder', 'time', 'finding', 'new', 'jobs', 'field', 'closest', 'major', 'bakery', 'least', '35', 'miles', 'away', 'hard', 'tell', 'whether', 'fellow', 'senators', 'applauding', 'gifts', 'orator', 'mastery', 'pork', 'barrel', 'could', 'easy', '40-member', 'senate', '26', 'democrats', 'independent', 'hold', 'two-thirds', 'votes', 'much', 'harder', '80-member', 'assembly', '47', 'democrats', 'seven', 'votes', 'short', 'two-thirds', 'margin', 'harder', 'end', 'hard', 'read', 'book', 'without', 'anger', 'harder', 'write', 'peter', 'jennings', 'tom', 'brokaw', 'first', 'semester', 'hard', 'really', 'tried', 'coach', 'never', 'done', 'anything', 'harder', 'arresting', 'people', 'might', 'especially', 'hard', 'oakland', 'fire', 'considering', 'authorities', 'actually', 'welcomed', 'people', 'ignored', 'evacuation', 'order', 'furthermore', 'white', 'house', 'bill', 'would', 'offered', 'states', '3-for-1', 'funding', 'major', 'highways', '2-for-1', 'public', 'transit', 'making', 'highways', 'hard', 'cash-starved', 'states', 'turn', 'marc', 'girardelli', 'favorite', 'along', 'tomba', 'fell', 'first', 'run', 'victim', 'hard', 'unusually', 'slick', 'course', 'someone', 'good', 'imagination', 'tried', 'hard', 'could', 'seen', 'downtown', 'san', 'jose', 'park', 'avenue', 'almaden', 'boulevard', '50', 'driveway', 'courts', 'sunday', 'worship', 'leaders', 'finding', 'increasingly', 'hard', 'wring', 'money', 'church', 'budgets', 'serious', 'music', 'pastors', 'members', 'hierarchy', 'unsympathetic', 'messerli', 'times', 'hard', 'advertising', 'business', 'hard', 'imagine', 'loss', 'total', 'discovery', 'mailbox', 'broken', 'teacup', 'tomato', 'plant', 'sends', 'tears', 'joy', 'streaming', 'face', 'president', 'set', 'task', 'believed', 'vital', 'awakening', 'u', 'allies', 'hard', 'complex', 'effort', 'necessary', 'shift', 'balance', 'well', 'dug-in', 'infantry', 'hard', 'destroy', 'aerial', 'bombardment', 'like', 'average', 'families', 'hard', 'time', 'putting', 'away', 'dollars', 'every', 'month', 'children', 'college', 'education', 'requirements', 'call', 'almost', 'superhuman', 'self-restraint', 'magnanimity', 'sides', 'hard', 'achieve', 'physical', 'segregation', 'two', 'races', 'continues', 'seems', 'done', 'hardest', 'part', 'assemblywoman', 'delaine', 'eastin', 'd-union', 'city', 'existing', 'downtown', 'businesses', 'fail', 'may', 'hard', 'replace', 'witness', 'pavilion', 'problem', 'renting', 'space', 'hard', 'spot', 'chinese', 'pants', 'last', 'long', 'really', 'hard', 'see', 'anything', 'much', '9', 'percent', 'finding', 'room', 'kids', 'hard', 'enough', 'location', 'far-flung', 'development', 'adds', 'costs', 'kid', 'far', 'gone', 'hard', 'put', 'back', 'right', 'track', 'lindsay', 'hard', 'break', 'guys', 'volume', 'control', 'sound', 'like', 'problem', 'tried', 'make', 'things', 'hard', 'humphries', 'phat', 'nguyen', 'vietnamese', 'field', 'representative', 'heritage', 'cablevision', 'learned', 'hard', 'way', 'began', 'tracking', 'local', 'relatives', 'refugees', 'tran', 'taped', 'philippines', 'harder', 'semester', 'allow', 'see', 'immediacy', 'issue', 'men', 'willing', 'sail', 'waters', 'wooden', 'ships', 'could', 'crushed', 'like', 'eggs', 'hard', 'find', 'farther', 'move', 'harder', 'fight', 'willbecome', 'predicted', 'lt', 'gen', 'walter', 'boomer', 'commander', '30', 'u', 'marines', 'poured', 'kuwait', 'sunday', 'hard', 'time', 'accepting', 'kids', 'woman', 'listening', 'hard', 'sometimes', 'nelson', 'attempted', 'soften', 'remarks', 'wednesday', 'saying', 'pete', 'played', 'two', 'minutes', 'hard', 'look', 'good', 'course', 'lose', 'game', 'get', 'mitch', 'richmond', 'hardest', 'trade', 'ever', 'made', 'gorbachev', 'soviet', 'official', 'proving', 'hard', 'reach', 'going', 'learn', 'hard', 'way', 'something', 'else', 'parents', 'told', 'hard', 'remember', 'time', 'much', 'confusion', 'state', 'economy', 'financial', 'markets', 'good', 'numbers', 'steelhead', 'holding', 'extremely', 'hard', 'catch', 'air', 'force', 'specifications', 'called', 'new', 'plane', 'double', 'range', 'f-15', 'fighter', 'replaces', 'maneuverable', 'harder', 'enemy', 'radar', 'detect', 'found', 'hard', 'mother', 'father', 'highway', 'brett', 'butler', 'cautions', 'nearly', '100', 'games', 'remaining', 'hard', 'ignore', 'fact', 'hard', 'part', 'finding', 'hbox', 'fresh', 'fish', 'hard', 'find', 'frozen', 'fish', 'good', 'quality', 'tasty', 'prepared', 'way', 'san', 'francisco', 'like', 'cities', 'install', 'bus-stop', 'seats', 'engineered', 'hard', 'sleep', 'whoever', 'taking', 'plants', 'wherever', 'end', 'bottom', 'line', 'hard', 'homeowners', 'others', 'protect', 'plants', 'snatchers', 'book', 'tries', 'hard', 'stay', 'grounded', 'numbers', 'sensible', 'book', 'whose', 'goal', 'tell', 'silly', 'world', 'hard', 'sen', 'jay', 'rockefeller', 'd-w', 'va', 'chairman', 'national', 'commission', 'children', 'detmer', 'hedged', 'asked', 'critique', 'performance', 'hard', 'rate', 'personal', 'basis', 'guys', 'happy', 'cougars', 'opened', 'team', 'maintain', 'people', 'means', 'support', 'whatever', 'children', 'another', 'make', 'things', 'harder', 'hard', 'imagine', 'patch', 'holes', 'run', 'foundations', 'life', 'even', 'george', 'bush', 'would', 'like', 'play', 'ways', 'going', 'find', 'much', 'harder', 'get', 'away', 'wendy', 'sherman', 'executive', 'director', 'emily', 'list', 'fund-raising', 'group', 'democratic', 'women', 'support', 'abortion', 'rights', 'people', 'giving', 'doctors', 'hard', 'time', 'reason', 'presidents', 'avoid', 'subject', 'obvious', 'according', 'amy', 'davis', 'economic', 'historian', 'purdue', 'university', 'predict', 'recession', 'hard', 'become', 'self-fulfilling', 'prophecy', 'harder', 'turn', 'negative', 'perceptions', 'positive', 'way', 'around', 'got', 'crossed', 'square', 'side', 'directly', 'opposite', 'gate', 'found', 'good', 'restaurant', 'hard', 'come', 'part', 'city', 'hard', 'play', 'lawyers', 'wilson', 'proposal', 'would', 'make', 'harder', 'women', 'get', 'jobs', 'figures', 'hard', 'come', 'report', 'three', 'authors', 'william', 'arkin', 'hard', 'pick', 'little', 'pieces', 'candy', 'without', 'smearing', 'furniture', 'unless', 'change', 'thinking', 'forestry', 'young', 'hard', 'time', 'thinking', 'go', 'table', 'plan', 'filed', 'wednesday', 'federal', 'bankruptcy', 'court', 'new', 'york', 'would', 'force', 'maker', 'steel', 'aerospace', 'equipment', 'auction', 'part', 'operations', 'buyers', 'may', 'hard', 'find', 'much', 'going', 'backstage', 'hard', 'tell', 'constant', 'shifting', '49ers', 'offensive', 'line', 'hard', 'know', 'expect', 'thought', 'property', 'trades', 'good', 'way', 'owner', 'get', 'rid', 'hard', 'to-sell', 'income', 'property', 'yet', 'despite', 'deadly', 'pounding', 'former', 'countrymen', 'taking', 'khazzoom', 'finds', 'hard', 'muster', 'much', 'sympathy', 'iraq', 'although', 'american', 'troops', 'men', 'women', 'deployed', 'persian', 'gulf', 'august', 'essentials', 'still', 'hard', 'come', 'late', 'january', 'hard', 'figure', 'fair', 'hard', 'describe', 'tv', 'game', 'show', 'paper', 'matter', 'clever', 'diverting', 'may', 'make', 'sound', 'idiotic', 'actually', 'months', 'look', 'right', 'away', 'little', 'like', 'wordperfect', 'pc', 'powerful', 'hard', 'use', 'bad', 'memories', 'wordperfect', '0', 'mac', 'even', 'kennedy', 'clan', 'would', 'hard', 'time', 'keeping', 'type', 'disgraceful', 'behavior', 'middle', 'revolution', 'hard', 'predict', 'future', 'going', 'sometimes', 'hardest', 'thing', 'world', 'get', 'good', 'night', 'sleep', 'hardest', 'thing', 'keeping', 'grades', 'tape', 'guests', 'off-camera', 'hard', 'tell', 'whether', 'fought', 'back', 'went', 'nusseibeh', '41', 'west', 'bank', 'senior', 'sophisticated', 'political', 'leaders', 'ask', 'hard', 'questions', 'current', 'political', 'views', 'hard', 'see', 'guys', 'go', 'comes', 'hard', 'part', 'comparison', 'shopping', 'among', 'lenders', 'get', 'best', 'loan', 'loan', 'covenants', 'bent', 'broken', 'may', 'hard', 'time', 'gets', 'progressively', 'worse', 'deal', 'could', 'prove', 'hard', 'consummate', 'member', 'ethics', 'panel', 'sen', 'jesse', 'helms', 'r-n', 'c', 'appears', 'unlikely', 'go', 'along', '1987', 'cabernet', 'sauvignon', 'columbia', 'valley', 'sweet', 'cherry', 'aroma', 'full-bodied', 'lively', 'soft', 'without', 'hard', 'tannic', 'edge', '14', 'hard', 'writing', '120', 'pages', 'mostly', 'white', 'space', 'get', 'someone', 'complain', 'hard', 'start', 'action', 'kinds', 'bars', 'good', 'baby', 'sitters', 'hard', 'find', 'fresh', 'quick-cooking', 'pasta', 'widely', 'available', 'hard', 'find', 'many', 'quicker', 'dishes', 'vincent', 'hard', 'convince', 'people', 'financial', 'problems', 'given', 'huge', 'tv', 'contracts', 'baseball', 'signed', 'last', 'year', 'four-year', '21', 'million', 'contract', 'red', 'sox', 'gave', 'pitcher', 'roger', 'clemens', 'last', 'week', 'america', 'flung', 'spasms', 'passionate', 'moral', 'debate', 'nations', 'tolerant', 'human', 'frailty', 'find', 'hard', 'understand', 'sunday', 'times', 'london', 'sunday', 'report', 'carried', 'headline', 'talking', 'dirty', 'basic', 'message', 'cracking', 'hard', 'seems', 'outsider', 'often', 'goes', 'undetected', 'legitimate', 'users', 'cracked', 'computers', 'little', 'harder', 'city', 'county', 'officials', 'opted', 'build', 'bypass', 'express', 'trains', '49ers', 'win', 'next', 'two', 'games', 'rams', 'raiders', 'bet', 'much', 'harder', 'believe', 'sometimes', 'hard', 'fit', 'pieces', 'soap-opera', 'plot', 'together', 'economists', 'suspect', 'harder', 'previous', 'recessions', 'get', 'consumers', 'back', 'stores', 'auto', 'showrooms', 'kellar', 'general', 'public', 'hard', 'time', 'relating', 'football', 'players', 'athletic', 'gear', 'hard', 'know', 'whether', 'accommodating', 'white', 'house', 'sensible', 'thing', 'allan', 'meltzer', 'economist', 'carnegie-mellon', 'university', 'pittsburgh', 'longtime', 'fed-watcher', 'attorneys', 'warned', 'antitrust', 'violations', 'hard', 'prove', 'vast', 'majority', 'suits', 'defendants', 'need', 'cash', 'maturity', 'date', 'could', 'hard', 'sell', 'might', 'lose', 'money', 'forced', 'sell', 'wrong', 'time', 'former', 'player', 'hard', 'switch', 'hardest', 'part', 'learning', 'language', 'expressing', 'green', 'hardest', 'thing', 'children', 'adults', 'get', 'used', 'system', 'based', 'usual', '0-100', 'range', 'system', 'percent', 'example', 'hard', 'compare', 'defenders', 'real', 'hard', 'time', 'telling', 'everyone', 'stay', 'safe', 'editor', 'note', 'places', 'many', 'party', 'members', 'religious', 'believers', 'hard', 'get', 'members', 'together', 'meetings', 'high', 'income', 'bracket', 'hard', 'lauvinia', 'nurse', 'works', 'midnight', '8', 'kaiser', 'hospital', 'hayward', 'husband', 'works', 'hard', 'take', 'dennis', 'menace', 'seriously', 'real', 'hard', 'got', 'keep', 'going', 'lopez', 'everybody', 'recognizes', 'would', 'lot', 'harder', 'move', 'diplomacy', 'going', 'official', 'remarked', 'thursday', 'native', 'flame', 'hard', 'snuff', 'two', 'three-year-olds', 'hardest', 'hope', 'little', 'hard', 'rivalry', 'all-time', 'series', 'consists', 'game', 'played', '39', 'years', 'ago', 'hard', 'believe', 'singleton', 'pushing', '24', 'fact', 'hard', 'time', 'fulfilling', 'campaign', 'goals', 'long', 'rest', 'council', 'continues', 'strive', 'high-density', 'housing', 'along', 'transportation', 'corridors', 'high-profile', 'downtown', 'hard', 'functionally', 'understand', 'principles', 'man-to-man', 'work', 'matter', 'eagles', 'redux', 'hard', 'deny', 'people', 'like', 'beat', 'plain', 'rock', 'adds', 'olson', 'hard', 'time', 'dealing', 'items', 'going', 'hard', 'find', 'going', 'get', 'expensive', 'hard', 'ignore', 'debt', 'buyout', 'burden', 'made', 'heavier', 'nationwide', 'real', 'estate', 'slump', 'today', 'hard', 'swallow', 'welch', 'saddam', 'possibly', 'could', 're-emerge', 'regional', 'power', 'surely', 'far', 'harder', 'rearm', 'arm', 'suddenly', 'two', 'become', 'question', 'may', 'find', 'hard', 'answer', 'books', 'even', 'explain', 'win', 'war', 'hard', 'find', 'even', 'difficult', 'read', 'sophomore', 'jinx', 'way', 'second', 'movie', 'harder', 'first', 'pressure', 'well', 'better', 'haines', 'fast', 'lunch', 'break', 'cbs-mtm', 'studio', 'argued', 'much', 'harder', 'today', 'player', 'deviate', 'statistical', 'norm', 'dramatically', 'dimaggio', 'williams', \"'41\", 'price', 'fluctuations', 'make', 'hard', 'set', 'early', 'lucille', 'ball', 'found', 'hard', 'way', 'likewise', 'mary', 'tyler', 'moore', 'several', 'times', 'costas', 'quickly', 'apologized', 'claiming', 'champagne', 'eyes', 'juanita', 'white', 'cap', 'made', 'hard', 'see', 'locker', 'room', 'like', 'reading', 'book', 'hard', 'relate', 'acceptance', 'farm-raised', 'venison', 'hard', 'gauge', 'industry', 'call', 'bambi', 'factor', 'meaning', 'reluctance', 'americans', 'eat', 'deer', 'sometimes', 'perceived', 'food', 'source', 'cuddly', 'woodsy', 'creature', 'browning-ferris', 'industries', 'serves', 'areas', 'variety', 'rates', 'fixed', 'incomes', 'residents', 'hard', 'to-serve', 'areas', 'sometimes', 'slight', 'ambiguous', 'unintentional', 'hard', 'confront', 'people', 'bar', 'elderly', 'well-off', 'artistic', 'felt', 'made', 'hard', 'bargain', 'giving', 'awfully', 'hard', 'scrape', 'dimes', 'quarters', 'bottom', 'hard', 'gets', 'easier', 'little', 'practice', 'boroff', 'would', 'hard', 'prove', 'pointer', 'capable', 'child', 'neglect', 'regardless', 'hard', 'believe', 'paintings', 'would', 'offend', 'anyone', 'swinging', 'lifestyle', 'makes', 'hard', 'youngster', 'hang', 'doors', 'may', 'music', 'ears', 'like', 'genevieve', 'sheffer', 'wrote', 'stopped', 'going', 'fremont', 'main', 'library', 'front', 'doors', 'hard', 'open', 'would', 'hardest', 'years', 'knew', 'missed', 'father', 'desperately', 'exact', 'figures', 'hard', 'come', 'united', 'airlines', 'estimates', 'year', 'carry', '100', 'unaccompanied', 'minors', 'christian', 'catholic', 'really', 'believe', 'required', 'forgive', 'matter', 'hard', 'determined', 'hard', 'believe', 'gone', 'long', 'monday', '29', 'three', 'bay', 'area', 'relatives', 'hostages', 'taken', 'beirut', 'mark', 'foster', 'policy', 'analyst', 'consumer', 'action', 'san', 'francisco', 'consumer', 'advocacy', 'group', 'appointments', 'make', 'work', 'much', 'harder', 'asked', 'many', 'officials', 'rank', 'peak', 'chinese', 'political', 'system', 'still', 'believe', 'marxism', 'hard', 'probably', 'even', 'small-scale', 'michelin', 'map', 'marnoz', 'hard', 'find', 'trust', 'sure', 'nothing', 'sexual', 'going', 'feel', 'threatened', 'woman', 'find', 'friendship', 'hard', 'accept', 'shortage', 'child', 'care', 'state', 'low-income', 'families', 'would', 'find', 'much', 'harder', 'find', 'affordable', 'care', 'always', 'known', 'circles', 'hoaxes', 'find', 'hard', 'believe', 'two', 'men', 'could', 'created', 'hundreds', 'circles', 'often', 'appear', 'nights', 'widely', 'different', 'parts', 'country', 'traffic', 'engineers', 'stress', 'plan', 'list', 'options', 'politicians', 'make', 'hard', 'choices', 'hard', 'time', 'making', 'understand', 'farouk', 'wished', 'meet', 'edberg', 'beating', 'john', 'grass', 'always', 'going', 'hard', 'come', 'many', 'big', 'kicks', 'hard', 'bad', 'word', 'field-goal', 'unit', 'sure', 'hard', 'leave', '14', 'years', 'nbc', 'ought', 'late', 'studios', 'stop', 'calling', 'hardest', 'elements', 'outsiders', 'understand', 'relationship', 'saddam', 'people', 'rules', 'analysts', 'hard', 'tell', 'story', 'happens', 'odd', 'little', 'film', 'office', 'romance', 'may', 'taking', 'place', 'pssst', 'hard', 'questions', 'raised', 'people', 'conscience', 'conflict', 'war', 'massacre', 'hard', 'lay', 'blame', 'failures', 'pope', 'central', 'message', 'nicely', 'summed', 'quote', 'poet', 'e', 'e', 'cummings', 'nobody', 'world', 'best', 'night', 'day', 'make', 'everybody', 'else', 'fight', 'hardest', 'fight', 'man', 'fight', 'never', 'stop', 'fighting', 'hard', 'day', 'night', 'british', 'court', 'apple', 'computer', 'inc', 'apple', 'corps', 'decided', 'come', 'together', 'settle', '2-year-old', 'case', 'pitting', 'computer', 'giant', 'beatles', 'gary', 'l', 'bailey', 'sunnyvale', 'overwork', 'plagues', 'silicon', 'valley', 'parallel', 'silicon', 'valley', 'executives', 'hard', 'follow', 'japan', 'fears', 'epidemic', 'deaths', 'overwork', 'mercury', 'news', 'june', 'word', 'wise', 'sufficient', 'check', 'girls', 'babies', 'tend', 'get', 'much', 'respect', 'hard', 'date', 'kid', 'willeane', 'lockett', 'expects', 'second', 'child', 'july', 'face', 'generally', 'admiring-to-glowing', 'reviews', 'iannone', 'took', 'middle', 'passage', 'concluded', 'hard', 'take', 'johnson', 'prize-winning', 'book', 'seriously', 'literature', 'andy', 'mutch', 'assistant', 'curator', 'u', 'golf', 'association', 'library', 'hard', 'prove', 'seems', 'like', 'logical', 'conclusion', 'hard', 'believe', 'wasted', 'form', 'tubes', 'needles', 'invading', 'body', 'man', 'substance', 'successful', 'negotiation', 'give-and-take', 'needed', 'make', 'work', 'still', 'hard', 'envisage', 'pentagon', 'spokesman', 'pete', 'williams', 'hard', 'control', 'flow', 'cash', 'start', 'sell', 'oil', 'paraplegic', 'park', 'ranger', 'climbing', 'partner', 'finding', 'ascent', 'yosemite', 'half', 'dome', 'little', 'harder', 'expected', 'take', 'extra', 'day', 'complete', 'climb', 'still', 'hard', 'tell', 'hammer', 'asian', 'power', 'hard', 'achieve', 'asian', 'neighborhoods', 'generally', 'dispersed', 'hispanic', 'neighborhoods', 'sweet', 'smell', 'free', 'meal', 'hard', 'ignore', 'social', 'services', 'tend', 'fragmented', 'uncoordinated', 'hard', 'access', 'overlapping', 'bureaucratic', 'mikhail', 'vladimir', 'boris', 'sorts', 'people', 'names', 'considered', 'hard', 'pronounce', 'problem', 'hard', 'curb', 'q', 'may', '4', 'item', 'pertaining', 'public', 'streets', 'parking', 'particular', 'interest', 'truth', 'lot', 'harder', 'think', 'thought', 'hard', 'trip', 'ever', 'taken', 'hard', 'make', 'sleaze', 'sound', 'genuine', 'korder', 'hard', 'believe', 'never', 'issue', 'harder', 'work', 'covering', 'plastic', 'many', 'voices', 'provide', 'you-are-there', 'effect', 'hard', 'match', 'structure', 'soothing', 'tunes', 'besides', 'believe', 'real', 'hard', 'take', 'rest', 'turtle', 'lore', 'seriously', 'believe', 'turtles', 'ditched', 'violent', 'crime-fighting', 'image', 'favor', 'peaceful', 'conflict', 'resolution', 'even', 'kevin', 'play', 'going', 'hard', 'step', 'back', 'pick', 'left', 'could', 'would', 'hard', 'valuable', 'land', 'hard', 'build', 'cost-efficient', 'hotel', 'two', 'stories', 'land', 'worth', 'lot', 'lead', 'injury', 'sidelines', 'someone', 'weeks', 'even', 'months', 'getting', 'back', 'shape', 'much', 'harder', 'well', 'would', '100', 'times', 'harder', 'official', 'estimated', 'army', 'would', 'send', 'tens', 'thousands', 'soldiers', 'baghdad', 'hard', 'exactly', 'behind', 'makes', 'harder', 'move', 'hard', 'way', 'peace', 'dark', 'even', 'dusk', 'would', 'hard', 'tell', 'apart', 'think', 'wo', 'make', 'much', 'difference', 'skiing', 'others', 'fear', 'make', 'skis', 'hard', 'control', 'passing', 'day', 'goal', 'become', 'harder', 'achieve', 'result', 'sometimes', 'make', 'hard', 'decisions', 'recently', 'hard', 'time', 'choosing', 'southwestern', 'meat', 'loaf', 'grilled', 'sourdough', 'jalapeno', 'gravy', '6', 'grilled', 'eggplant', 'sandwich', 'roasted', 'peppers', 'pepper-jack', 'cheese', '5', '50', 'hard', 'deduce', 'hard', 'describe', 'feelings', 'parents', 'get', 'see', 'children', 'daniels', 'general', 'populace', 'might', 'hard', 'picture', 'running', 'back', 'roger', 'craig', 'anything', '49ers', 'uniform', \"'it\", 'hard', 'go', 'back', 'biosphere', 'still', 'idealism', 'hard', 'maintain', 'face', 'constant', 'discouragement', 'smith', 'severely', 'discouraged', 'time', 'time', 'seems', 'likely', 'indian', 'python', 'comes', 'ahead', 'records', 'growth', 'made', 'carefully', 'frequently', 'responds', 'exceptionally', 'well', 'captivity', 'reach', 'proportions', 'make', 'hard', 'keep', 'another', 'group', 'march', 'hard', 'anything', 'wo', 'k', 'san', 'jose', 'spider', 'mites', 'hard', 'control', 'hard', 'believe', 'soviet', 'politicians', 'resort', 'dirty', 'tricks', 'others', 'identify', 'old', 'way', 'running', 'business', 'find', 'hard', 'change', 'japan', 'feels', 'americans', 'using', 'debt', 'forgiveness', 'reward', 'certain', 'nations', 'complains', 'policy', 'encourages', 'irresponsibility', 'makes', 'saying', 'countries', 'similar', 'problems', 'much', 'harder', 'young', 'guns', 'reference', 'hard', 'escape', 'looking', 'monday', 'night', 'season', 'opener', '49ers', 'giants', 'meadowlands', 'wo', 'concerning', 'troops', 'morale', 'frankly', 'choice', 'others', 'like', 'made', 'making', 'damned', 'hard', 'maintain', 'hard', 'imagine', 'least', 'part', 'kind', 'hard', 'placing', 'value', 'describing', 'analysts', 'incident', 'could', 'make', 'harder', 'two', 'sides', 'agree', 'billion', 'standby', 'loan', 'hard', 'anticipate', 'needs', 'medical', 'care', 'buy', 'broadest', 'policy', 'afford', 'course', 'hard', 'mornings', 'caught', 'stinging', 'cold', 'rain', 'pelts', 'northern', 'arkansas', 'march', 'hard', 'make', 'simple', 'metal', 'plate', 'marks', 'steve', 'mason', 'burial', 'ground', 'hammer', 'home', 'v-shaped', 'somewhat', 'like', 'stealth', 'bomber', 'hard', 'see', 'flatlands', 'low', 'profile', 'like', 'lot', 'young', 'kids', 'real', 'hard', 'time', 'functioning', 'despite', 'luxurious', 'appointments', 'hard', 'find', 'downright', 'cheap', 'things', 'car', 'flimsy', 'sunroof', 'cover', 'console', 'box', 'panel', 'pops', 'reveal', 'gears', 'comes', 'hard', 'part', 'volunteers', 'may', 'hard', 'come', 'owing', 'lure', 'actual', 'combat', 'uncertainty', 'future', 'new-fangled', 'device', 'makes', 'last', 'network', 'radio', 'comic', 'america', 'hard', 'though', 'may', 'believe', 'though', 'life', 'hard', 'adds', 'improved', 'since', 'state', 'loosened', 'grip', 'allowed', 'free', 'enterprise', 'like', 'spread', 'even', 'though', 'design', 'particularly', 'revolutionary', 'prospective', 'purchaser', 'recently', 'search', 'long', 'hard', 'find', 'piece', 'bottomed', 'yet', 'hard', 'hard', 'opinion', 'achieve', 'fair', 'balance', 'privately', 'giants', 'officials', 'skeptical', 'working', 'santa', 'clara', 'city', 'staff', 'council', 'extremely', 'hard', 'deal', 'last', 'year', 'home', 'stretch', 'last', 'month', 'season', 'holds', 'much', 'promise', 'hard', 'restrain', 'yawning', 'january', 'survey', 'people', 'jobs', 'hard', 'find', 'outnumbered', '3', 'tendency', 'makes', 'hard', 'companies', 'keep', 'secrets', 'greatly', 'facilitates', 'transmission', 'ideas', 'sometimes', 'lead', 'new', 'products', 'companies', 'hard', 'remember', 'turner', 'all-purpose', 'buffoon', 'howie', 'favoured', 'bolt', 'would', 'hard', 'stage', 'fell', 'back', 'stroke', 'teach', 'short', 'game', 'hard', 'teach', 'length', 'city', 'fremont', 'larger', 'harder', 'get', 'someone', 'needs', 'get', 'doctor', 'allegation', 'questioned', 'u', 'official', 'insisted', 'anonymity', 'someone', 'serious', 'jesuit', 'case', 'credible', 'evidence', 'case', 'hard', 'understand', 'would', 'wait', 'second', 'anniversary', 'deaths', 'release', 'evidence', 'media', 'rather', 'turn', 'evidence', 'quickly', 'possible', 'judge', 'case', 'proven', 'commitment', 'prosecute', 'whoever', 'accused', 'moment', 'silence', 'hard', 'break', 'course', 'hard', 'put', 'exact', 'dollar', 'value', 'land', 'makes', 'direct', 'profit', 'hardest', 'thing', 'teach', 'sighs', 'hard', 'imagine', 'things', 'like', 'happen', 'united', 'states', 'hard', 'lose', 'friends', 'political', 'prisoners', 'northeastern', 'china', 'planning', 'hunger', 'strike', 'unless', 'prison', 'authorities', 'stop', 'beating', 'forcing', 'work', '14-hour', 'days', 'diet', 'hard', 'bread', 'vegetables', 'chinese', 'person', 'briefed', 'circumstances', 'lap-top', 'screens', 'use', 'lightweight', 'technology', 'eats', 'little', 'power', 'possible', 'therefore', 'dimmer', 'smaller', 'harder', 'read', 'desk-top', 'displays', 'president', 'recession', 'hard', 'time', 'believing', '80', 'percent', 'clients', 'telling', 'business', 'lousy', 'sometimes', 'hard', 'figure', 'want', 'important', 'thing', 'make', 'test', 'operator', 'license', 'harder', 'find', 'hard', 'believe', 'could', 'anywhere', 'three', 'years', 'without', 'trying', 'make', 'contact', 'sharon', 'carried', 'cellular', 'telephone', 'nearly', 'year', 'wherever', 'went', 'hard', 'sustain', 'cattle', 'without', 'bringing', 'food', 'expensive', 'operation', 'always', 'harder', 'get', 'big', 'guy', 'offensive', 'coordinator', 'mike', 'holmgren', 'new', 'yorkers', 'people', 'new', 'jersey', 'find', 'hard', 'settle', 'relax', 'hard', 'travel', 'agents', 'sell', 'organized', 'tours', 'america', 'americans', 'used', 'full', 'force', 'fiery', 'oratory', 'reject', 'fundamental', 'change', 'hard', 'imagine', 'adjust', 'late', 'date', 'new', 'soviet', 'order', 'hard', 'see', 'bottom', 'easy', 'hear', 'lab', 'home', 'dozen', 'dogs', 'everything', 'rides', 'small', 'portion', 'anatomy', 'hard', 'control', 'day', 'independence', 'day', 'biggest', 'traffic', 'jam', 'triggered', 'terminator', 'toughest', 'toilers', 'town', 'reggae', 'rockers', 'san', 'jose', 'america', 'festival', 'hard', 'working', 'stiff', 'everybody', 'else', 'played', 'thus', 'forms', 'become', 'bunched', 'knobbly', 'casing', 'clefts', 'hard', 'read', 'anatomically', 'lean', 'stumpy', 'extremities', 'hard', 'time', 'watching', 'decided', 'fun', 'hard', 'understand', 'men', 'u', 'senate', 'grasp', 'importance', 'anita', 'hill', 'reluctant', 'charges', 'clarence', 'thomas', 'historically', 'washington', 'c', 'women', 'perks', 'go', 'power', 'hard', 'justify', 'kind', 'money', 'make', 'makes', 'hard', 'listen', 'tourists', 'planning', 'stop', 'world', 'fair', 'find', 'rooms', 'hard', 'come', 'government', 'starts', 'whining', 'hard', 'make', 'ends', 'meet', 'natural', 'sneer', 'grab', 'hold', 'wallet', 'hardest', 'career', 'planning', 'wife', 'husband', 'fast', 'track', 'hardest', '12', 'months', 'business', 'career', 'wright', 'began', 'taped', 'sessions', 'learned', 'palm', 'beach', 'trial', 'rape', 'terrible', 'thing', 'hard', 'crime', 'prove', 'learned', 'little', 'simply', 'delicious', 'good', 'hard', 'believe', 'simple', 'drought', 'shell', 'bursts', 'ranching', 'gotten', 'harder', 'ever', 'convincingly', 'non-human', 'exceedingly', 'clever', 'even', 'hardest', 'trick', 'quite', 'funny', 'end', 'saturday', 'hard', 'tell', 'difference', 'hard', 'believe', 'hard', 'making', 'pim', 'seemed', 'strange', 'custom', 'hard', 'see', 'purpose', 'man', 'would', 'trouble', 'make', 'rich', 'could', 'buy', 'women', 'riches', 'happens', 'lot', 'harder', 'lie', 'used', 'undoubtedly', 'belden', 'remembering', 'bread', 'meat', 'hard', 'come', 'period', '1841', 'crossed', 'plains', 'member', 'bidwell-bartleson', 'party', 'first', 'overland', 'emigrant', 'train', 'california', '1990s', 'likely', 'hard', 'avoid', 'would', 'going', 'late', 'ballpark', 'take', 'batting', 'practice', 'like', \"'well\", 'fight', 'going', 'late', 'call', 'hard', 'day', 'around', 'house', 'want', 'save', 'rest', 'energy', 'game', 'wilson', 'proposed', 'shifts', 'discretion', 'certain', 'programs', 'counties', 'local', 'voters', 'sometimes', 'hard', 'distinguish', 'philosophical', 'conviction', 'fiscal', 'necessity', 'even', 'harder', 'predict', 'counties', 'voters', 'use', 'discretion', 'value', 'conflicts', 'may', 'make', 'hard', 'managers', 'know', 'right', 'business', 'barney', 'think', 'even', 'harder', 'different', 'kind', 'stress', 'spoke', 'head', 'home', 'economist', 'usda', 'hot', 'line', 'susan', 'conley', 'hardest', 'part', 'job', 'advising', 'people', 'improper', 'preparation', 'turkeys', 'used', 'something', 'dinner', 'landfill', 'tight', 'get', 'away', 'make', 'hard', 'undo', 'airlines', 'found', 'hard', 'comply', 'rules', 'often', 'hard', 'erect', 'clumsy', 'carry', 'hard', 'believe', 'taxicabs', 'especially', 'downtown', 'area', 'hard', 'find', 'people', 'subscribing', 'hbo', 'probably', 'intermittent', 'sports', 'programming', 'makes', 'hard', 'argue', 'early', 'morning', 'even', 'afternoon', 'coverage', 'flour', 'tortillas', 'plastic-bagged', 'kept', 'warm', 'gotten', 'little', 'hard', 'around', 'edges', 'lot', 'irritate', 'eyes', 'make', 'hard', 'breathe', 'hard', 'think', 'life', 'without', 'volleyball', 'beckenhauer-heller', 'rock', 'band', 'hand', 'something', 'happens', 'put', 'four', 'girls', 'stage', 'miniskirts', 'sort', 'vibe', 'hard', 'control', 'evidence', 'claims', 'hard', 'come', 'part', 'fears', 'public', 'complaints', 'u', 'companies', 'would', 'prompt', 'japanese', 'equipment', 'makers', 'retaliate', 'moved', 'texas', 'harder', 'expensive', 'continue', 'calling', 'ftb', 'depardieu', 'would-be', 'poet', 'noiret', 'all-loving', 'philosopher', 'particularly', 'hard', 'take', 'former', '49ers', 'coach', 'honored', 'dinner', 'saturday', 'night', 'outstanding', 'alumnus', 'san', 'jose', 'state', 'always', 'able', 'make', 'hard', 'decisions', 'telling', 'player', 'time', 'nfl', 'run', 'reason', 'laptop', 'computers', 'size', 'notebooks', 'hard', 'figure', 'put', 'hands', 'keyboard', 'smaller', 'honest', 'hard', 'feel', 'like', 'no-nonsense', 'take-charge', 'kind', 'parent', 'sitting', 'tiny', 'desk', 'looks', 'like', 'made', 'santa', 'workshop', 'hard', 'see', 'like', 'center', 'jesse', 'sapolu', 'joined', 'large', 'group', '49ers', 'eagles', 'reggie', 'white-led', 'prayer', 'session', 'field', 'game', 'ended', 'understand', 'preemies', 'hard', 'time', 'best', 'conditions', 'comes', 'hard', 'part', 'creating', 'stable', 'prosperous', 'society', 'ruins', 'old', 'totalitarian', 'order', 'hard', 'improve', 'tetris', 'easy', 'spoil', 'game', 'pokhilko', 'noting', 'ideas', 'changing', 'considered', 'discarded', 'every', 'day', 'hard', 'like', 'tina', 'turner', 'bitch', 'back', \"'connor\", 'could', 'make', 'living', 'tribute', 'albums', 'alone', 'usually', 'hard', 'sell', 'workers', 'gives', 'longer', 'holiday', 'periods', 'kind', 'hard', 'happen', 'terms', 'additional', 'service', 'got', 'get', 'service', 'running', 'caltrans', 'spokesman', 'jim', 'drago', 'perceptions', 'stereotypes', 'hard', 'dispel', 'hear', 'blushing', 'virginal', 'young', 'things', 'hard', 'find', 'hollywood', 'box', 'microwave', 'method', 'smaller', 'turkeys', 'less', '12', 'pounds', 'may', 'cooked', 'microwave', 'hard', 'evenly', 'cook', 'larger', 'birds', 'last', 'season', 'loss', 'especially', 'hard', 'swallow', 'irvington', '1-1', 'coming', 'first', 'victory', 'three', 'seasons', 'surprised', 'chargers', 'finished', '2-8', 'harder', 'get', 'obese', 'begin', 'exercise', 'woman', 'obese', 'bagwell', 'lose', 'ground', 'like', 'makes', 'hard', 'things', 'hard', 'explain', 'undergraduate', 'stanford', 'early', \"'80s\", 'hardest', 'classes', 'get', 'english', 'department', 'seminar', 'called', 'american', 'lives', 'makes', 'hard', 'things', 'like', 'dunn', 'struggling', 'hard', 'pitch', 'lot', 'makes', 'hard', 'teams', 'play', 'vow', 'veto', 'legislation', 'designed', 'overturn', 'five', '1989', 'supreme', 'court', 'decisions', 'made', 'harder', 'women', 'minorities', 'win', 'job-discrimination', 'lawsuits', 'would', 'want', 'discourage', 'anyone', 'trying', 'sport', 'play', 'first', 'times', 'hard', 'find', 'opponents', 'abilities', 'play', 'change', 'dramatically', 'although', 'local', 'rejection', 'rates', 'immediately', 'available', 'agents', 'working', 'south', 'bay', 'minority', 'home', 'buyers', 'study', 'proves', 'something', 'experience', 'regularly', 'subtle', 'harder', 'to-prove', 'forms', 'discrimination', 'army', 'women', 'like', 'counterparts', 'marines', 'hard', 'time', 'finding', 'sanitary', 'napkins', 'hard', 'going', 'favored', 'hard', 'think', 'poor', 'slobs', 'sit', 'twice', 'day', 'bumper-to-bumper', 'traffic', 'along', '101', 'spotted', 'owl', 'silicon', 'valley', 'year', 'hard', 'economic', 'times', '42', 'percent', 'school', 'graduates', 'found', 'jobs', 'hard', 'time', 'imagining', 'could', 'lead', 'discombobulation', 'describe', 'nevertheless', 'appreciates', 'practical', 'wisdom', 'suggestion', 'happy', 'pass', 'credit', 'van', 'poppel', 'seems', 'eager', 'absorb', 'hard', 'lessons', 'everyone', 'improved', 'hard', 'way', 'scoring', 'everything', 'two', 'outs', 'shows', 'character', 'team', 'thing', 'wagner', 'concedes', 'teknekron', 'start-up', 'characteristic', 'eight', '15-year', 'gestation', 'period', 'hard', 'giant', 'abide', 'love', 'affair', 'alice', 'erik', 'immediate', 'miraculous', 'harder', 'accept', 'premise', 'young', 'woman', 'regularly', 'becomes', 'wolf', 'executive', 'traditional', 'male', 'job', 'attractive', 'woman', 'tends', 'harder', 'time', 'winning', 'recognition', 'promotion', 'considering', 'willingness', 'extortionists', 'use', 'terror', 'tactics', 'hard', 'understand', 'many', 'people', 'apprehensive', 'arthritis', 'left', 'hip', 'makes', 'doubly', 'hard', 'reach', 'customers', 'times', 'dull', 'business', 'detecting', 'hard', 'feet', 'combination', 'things', 'hard', 'find', 'pretty', 'much', 'tell', 'pitchers', 'hard', 'since', 'gregory', 'toddler', 'growing', 'leatherwood', 'va', 'hard', 'keep', 'stage', 'box', '40', 'percent', 'hard', 'reach', 'cable', 'company', 'phone', 'hard', 'ascertain', 'ineffective', 'cardinal', 'offense', 'defense', 'kicking', 'game', 'coaching', 'beginners', 'hardest', 'thing', 'sport', 'holding', 'breath', 'mental', 'burn', 'lot', 'air', 'anxiety', 'still', 'hard', 'time', 'expressing', 'willingly', 'left', 'academy', 'jeopardizing', 'comfortable', 'lifestyle', 'chance', 'start', 'soviet', 'telecommunications', 'firm', 'hard', 'imagine', 'bridge', 'would', 'important', 'days', 'following', 'quake', 'israel', 'may', 'face', 'something', 'faced', 'united', 'arab', 'approval', 'peace', 'conference', 'may', 'find', 'hard', 'resist', 'senior', 'administration', 'official', 'unless', 'agreement', 'worked', 'soon', 'city', 'may', 'make', 'hard', 'choices', 'many', 'trips', 'provide', 'critically', 'ill', 'patients', 'first', 'neighborhood', 'visit', 'forlorn', 'place', 'hard', 'write', 'home', 'feel', 'hard', 'keep', 'touch', 'old', 'friends', 'hard', 'find', 'hard', 'believe', 'still', '400', 'extra', 'people', 'hanging', 'around', 'cbs', 'fifth', 'year', 'stewardship', 'larry', 'tisch', 'relentlessly', 'cheery', 'tone', 'makes', 'cloying', 'read', 'sitting', 'hard', 'beat', 'browser', 'hard', 'two', 'weeks', 'anyone', 'looking', 'would', 'hard', 'put', 'see', 'downturn', 'typically', 'computer', 'belongs', 'corporation', 'government', 'considered', 'cracking', 'circles', 'hard', 'penetrate', 'issue', 'low', 'wages', 'janitors', 'much', 'harder', 'solve', 'efforts', 'included', 'customer', 'survey', 'find', 'really', 'hard', 'understand', 'tax', 'code', 'forms', 'etc', 'dr', 'robert', 'huizenga', 'multiple', 'tumors', 'alzado', 'brain', 'shrunk', 'become', 'hard', 'see', 'x-rays', 'two', 'courses', 'chemotherapy', 'treatment', 'ucla', 'medical', 'center', 'hard', 'imagine', '125', 'dead', 'millions', 'homeless', 'united', 'kingdom', 'receiving', 'scant', 'attention', 'soon', 'fact', 'american', 'public', 'tolerating', 'shortage', 'news', 'coverage', 'experiencing', 'resident', 'manager', 'hard', 'imagine', 'full-fledged', 'research', 'facility', 'without', 'airfield', 'attached', 'compton', 'kinds', 'incidents', 'would', 'hard', 'find', 'random', 'check', 'records', 'framiglio', 'many', 'spots', 'hard', 'remove', 'allowed', 'set', 'hard', 'part', 'hard', 'still', 'kid', 'far', 'physicality', 'concerned', 'husband', 'hard', 'time', 'holding', 'back', 'tears', 'read', 'money', 'saved', 'hard', 'count', 'knows', 'baby', 'might', 'required', 'hospitalization', '3-year-old', 'wo', 'need', 'special', 'education', 'parent', 'stimulation', 'head', 'start', 'saved', 'future', 'punch', 'dough', 'roughly', 'become', 'elastic', 'hard', 'shape', 'loaf', 'french', 'italian', 'breads', 'sliced', 'thin', 'toasted', 'tend', 'become', 'hard', 'crumble', 'hard', 'tell', 'claim', 'true', 'tiny', 'insects', 'sure', 'possible', 'people', 'forget', 'camera', 'go', 'business', 'hard', 'watch', 'something', 'intimate', 'phone', 'call', 'hoped-for', 'birth', 'parent', 'adopted', 'child', 'feel', 'like', 'intruder', 'hard', 'anyone', 'close', 'pows', 'approach', 'normalcy', 'week', 'whirlwind', 'events', 'gregory', 'sawers', 'analyst', 'new', 'york', 'financial', 'research', 'firm', 'sanford', 'c', 'bernstein', 'co', 'mci', 'chief', 'competitors', 'american', 'telephone', 'telegraph', 'co', 'u', 'sprint', 'would', 'hard', 'time', 'matching', 'mci', 'promotion', 'computerized', 'billing', 'systems', 'sophisticated', 'well', 'budget', 'agreement', 'people', 'know', 'instinctively', 'hard', 'lessons', 'learned', 'represents', 'great', 'deal', 'sound', 'fury', 'little', 'else', 'still', 'hard', 'recall', 'party', 'santa', 'clara', 'county', 'labor', 'dispute', 'contemptible', 'service', 'employees', 'international', 'union', 'current', 'effort', 'establish', 'union', 'shine', 'building', 'maintenance', 'san', 'jose', 'janitorial', 'company', 'hard', 'find', 'much', 'good', 'news', 'amigo', 'design', 'makes', 'awfully', 'hard', 'adult', 'reach', 'back', 'seat', 'something', 'harder', 'name', 'restless', 'self-involved', 'could', 'make', 'easy', 'make', 'comparatively', 'hard', 'nevertheless', 'okazaki', 'sympathized', 'griffith', 'saying', 'state', 'allocate', 'enough', 'money', 'project', 'hard', 'please', 'everyone', 'dr', 'solomon', 'hard', 'use', 'congress', 'controlled', 'democrats', 'hard', 'bush', 'pork', 'hardest', 'foods', 'digest', 'hard', 'work', 'age', 'sponsor', 'le', 'huu', 'dan', 'translates', 'instantly', 'cut', 'value', 'investments', 'buildings', '20', 'percent', 'throwing', 'marginal', 'developments', 'bankruptcy', 'adding', 'hard', 'to-sell', 'assets', 'bank', 'balance', 'sheets', 'besides', 'hard', 'fun', 'wearing', 'gorilla', 'mask', 'frida', 'unfortunately', 'display', 'hard', 'read', 'batteries', 'last', 'long', 'enough', 'processor', 'obsolete', 'new', 'machines', 'introduced', 'last', 'month', 'faster', 'processors', 'processors', 'extend', 'battery', 'life', 'whole', 'thing', 'weighs', 'couple', 'pounds', 'much', 'legislation', 'began', 'effort', 'overturn', 'series', 'supreme', 'court', 'decisions', 'making', 'harder', 'minorities', 'women', 'win', 'job-discrimination', 'lawsuits', 'hosin', 'hard', 'time', 'convincing', 'parents', 'situation', 'serious', 'enough', 'warrant', 'leaving', 'know', 'going', 'hard', 'since', 'july', 'blackout', 'like', 'thousands', 'california', 'motorists', 'similar', 'circumstances', 'learned', 'hard', 'way', 'department', 'motor', 'vehicles', 'little', 'known', 'system', 'requires', 'doctors', 'report', 'state', 'officials', 'patients', 'treated', 'lapses', 'consciousness', 'european', 'observatory', 'statement', 'chances', 'object', 'hitting', 'relatively', 'small', 'halley', 'nucleus', 'seem', 'extremely', 'remote', 'hard', 'see', 'event', 'could', 'lead', 'relatively', 'steady', 'outflow', 'dust', 'observed', 'common', 'sense', 'indicates', 'trees', 'hard', 'time', 'especially', 'citrus', 'trees', 'would', 'unable', 'combat', 'whitefly', 'invasion', 'check', 'would', 'nullify', 'u', 'resolutions', 'iraq', 'full', 'withdrawal', 'making', 'harder', 'enforce', 'technology', 'military', 'embargoes', 'iraq', 'allowing', 'rebuild', 'armed', 'forces', 'future', 'hard', 'keep', 'winning', 'playing', 'game', 'experts', 'hard', 'knowing', 'success', 'richmond', 'tell', 'truth', 'writing', 'hard', 'tough', 'thing', 'hard', 'find', 'big', 'back', 'qualities', 'nunnelly', 'union', 'wants', 'company', 'recognize', 'outright', 'without', 'election', 'legal', 'tactic', 'unions', 'embraced', 'recently', 'new', 'labor', 'laws', 'make', 'harder', 'win', 'traditional', 'election', 'drives', 'hardest', 'thing', 'deal', 'anything', 'love', 'much', 'gama', 'hard', 'time', 'understanding', 'signal', 'get', 'bottom', 'pile', 'learned', 'hard', 'way', 'hard', 'way', 'grow', 'name', 'like', 'february', 'day', 'sharks', 'unveiled', 'uniform', 'jersey', 'retailers', 'hard', 'time', 'keeping', 'merchandise', 'bearing', 'team', 'colors', 'logo', 'shelf', 'south', 'bay', 'hardest', 'dreams', 'change', 'single-family', 'house', 'admirable', 'goals', 'even', 'hard', 'tell', 'results', 'past', 'spring', 'santa', 'clara', 'valley', 'water', 'district', 'officials', 'adopted', '25', 'percent', 'average', 'cutback', 'requiring', '30', 'percent', 'reduction', 'summer', '15', 'percent', 'winter', 'harder', 'conserve', 'craig', 'referring', 'new', 'astrodome', 'configuration', 'makes', 'harder', 'hit', 'homers', 'left', 'right', 'hard', 'time', 'telling', 'passing', 'train', 'small', 'earthquake', 'hard', 'deal', 'husband', 'past', 'life', 'past', 'wife', 'often', 'hard', 'defend', 'speak', 'english', 'well', 'hard', 'see', 'investors', 'outside', 'brokerage', 'industry', 'could', 'learned', 'promising', 'deal', 'last', 'thursday', 'announcement', 'mentioned', 'reports', 'judicate', 'filed', 'securities', 'exchange', 'commission', 'box', 'dave', 'coffee', 'shop', '4299', 'broadway', 'oakland', '510', '658-2455', 'would', 'hard', 'miss', 'dark', 'neighborhood', 'even', 'without', 'huge', 'signs', 'make', 'sure', 'know', 'dave', 'coffee', 'shop', 'takes', 'pain', 'killers', 'medication', 'days', 'harder', 'others', 'many', 'books', 'magazines', 'hard', 'harder', 'dives', 'still', 'get', 'nervous', 'since', 'expo', \"'86\", 'spread', 'word', 'vancouver', 'charms', 'canada', 'third-largest', 'metropolis', 'fills', 'summer', 'cosmopolitan', 'mix', 'tourists', 'making', 'inexpensive', 'safe', 'rooms', 'hard', 'come', 'hard', 'get', 'budget', 'doable', 'realistic', 'robert', 'byer', 'dean', 'research', 'whose', 'office', 'slated', '550', 'cut', 'awful', 'hard', 'believe', 'made', 'man', 'created', 'family', 'maude', 'mary', 'hartman', 'mary', 'hartman', 'fernwood', '2-night', 'asking', 'no-trade', 'clause', 'hard', 'hard', 'talk', 'without', 'crying', 'ruth', 'early', 'today', 'new', 'home', 'near', 'grass', 'valley', 'moved', 'last', 'week', 'hard', 'define', 'reservations', 'hard', 'get', 'getting', 'reservation', 'popular', 'coast', 'redwoods', 'parks', 'like', 'winning', 'telephone', 'lottery', 'campers', 'hard', 'believe', 'anyone', 'else', 'lot', 'harder', 'thought', 'would', 'expensive', 'thought', 'would', 'inside', 'top', 'fun', \"'hot\", 'shots', 'starring', 'charlie', 'sheen', 'lloyd', 'bridges', 'parody', 'many', 'movies', 'hard', 'keep', 'track', 'people', 'work', 'hard', 'get', 'time', 'hard', 'find', 'place', 'weakness', 'tomey', 'active', 'life', 'harder', 'let', 'go', \"'young\", 'body', 'hard', 'believe', 'mass', 'intertwined', 'concrete', 'constitutes', 'law', 'calls', 'highest', 'best', 'use', 'centrally', 'located', 'urban', 'land', 'think', 'really', 'hard', 'predict', 'going', 'happen', 'anne', 'golseth', 'vice', 'president', 'student', 'services', 'fremont', 'ohlone', 'college', 'hard', 'imagine', 'long', 'ago', 'named', 'missile', 'minuteman', 'hard', 'imagine', 'someone', 'supreme', 'court', 'whose', 'attitudes', 'toward', 'status', 'half', 'nation', 'population', 'called', 'question', 'hard', 'infantry', 'get', 'handle', 'jerry', 'bartlett', 'fmc', 'executive', 'retired', 'army', 'general', 'hard', 'part', 'yet', 'go', 'rare', 'form', 'cancer', 'called', 'germ', 'cell', 'tumor', 'often', 'responds', 'well', 'chemotherapy', 'comes', 'back', 'hard', 'get', 'rid', 'otherwise', 'hard', 'explain', 'refusal', 'allow', 'regional', 'differences', 'prices', 'long', 'hesitation', 'closing', 'uneconomic', 'pits', 'hard', 'argue', 'intel', 'success', 'part', 'due', 'manufacturing', 'investments', 'harder', 'see', 'ntsb', 'lighting', 'configuration', 'used', 'skywest', 'plane', 'complied', 'federal', 'regulations', 'would', 'made', 'harder', 'see', 'fully', 'illuminated', 'risk', 'hard', 'measure', 'changes', 'frequently', 'market', 'closed', 'foreign', 'competition', '1970s', 'old', 'habits', 'proven', 'hard', 'break', 'spokesman', 'california', 'medical', 'association', 'cma', 'acknowledges', 'hard', 'find', 'doctors', 'take', 'aids', 'patients', 'southern', 'alameda', 'county', 'history', 'reports', 'great', 'many', 'people', 'found', 'hard', 'way', 'among', 'relentless', 'phalanxes', 'alexander', 'ruthless', 'horsemen', 'genghis', 'khan', 'bayonet-tipped', 'minions', 'british', 'empire', 'harder', 'information', 'different', 'viewpoints', 'words', 'rap', 'songs', 'little', 'hard', 'older', 'ears', 'comprehend', 'fee', 'backstage', 'easy', 'young', 'pick', 'hard', 'understand', 'waited', 'long', 'filing', 'serious', 'claim', 'deputy', 'state', 'attorney', 'general', 'dane', 'r', 'gillette', 'skater', 'include', 'two', 'triple', 'axels', 'long', 'program', 'hardest', 'combination', 'night', 'triple', 'axel', 'F', 'triple', 'toe', 'lack', 'management', 'openings', 'sometimes', 'makes', 'hard', 'hispanic', 'employees', 'move', 'camarillo', 'acknowledged', 'reason', 'added', 'delay', 'maj', 'mark', 'rader', 'spokesman', 'military', 'postal', 'service', 'agency', 'harder', 'hit', 'moving', 'target', 'lugged', 'around', 'fat', 'binders', 'handouts', 'extra', 'backpacks', 'books', 'slogged', 'hardest', 'subjects', 'decathlon', 'curriculum', 'science', 'mathematics', 'passed', 'dates', 'cristalina', 'cendejas', 'student', 'sequoia', 'high', 'school', 'redwood', 'city', 'hard', 'time', 'putting', 'thoughts', 'words', 'words', 'spoken', 'english', 'patience', 'international', 'sanctions', 'continue', 'easy', 'counsel', 'hard', 'practice', 'best', 'course', 'hard', 'believe', 'could', 'fail', 'see', 'among', 'many', 'people', 'death', 'row', 'guilty', 'murder', 'people', 'innocent', 'crimes', 'incarcerated', 'asking', 'hard', 'questions', 'value', 'though', 'questions', 'nothing', 'net', 'worth', 'hard', 'believe', 'noticed', 'mayor', 'city', 'council', 'staffs', 'often', 'hard', 'see', 'short', 'notice', 'protracted', 'hard', 'see', 'result', 'want', 'reasonable', 'time', 'frame', 'although', 'pause', 'advance', 'general', 'business', 'activity', 'year', 'thus', 'far', 'quite', 'modest', 'hard', 'escape', 'conclusion', 'softening', 'process', 'continue', 'first', 'quarter', '1961and', 'possibly', 'somewhat', 'longer', 'streets', 'life', 'hard', 'gray', 'dirty', 'sidewalks', 'people', 'seem', 'want', 'art', 'maybe', 'exquisitely', 'painful', 'hardest', 'time', 'ever', 'would', 'observe', 'baby', 'made', 'things', 'even', 'harder', 'though', 'men', 'left', 'study', 'reasons', 'even', 'longer', 'learned', 'war', 'hard', 'way', 'staff', 'types', 'got', 'vietnam', 'tickets', 'punched', 'far', 'shooting', 'dedicated', 'children', 'hard', 'support', 'hussey', 'like', 'admit', 'letting', 'go', 'lots', 'harder', 'let', 'go', 'people', 'houses', 'go', 'hard', 'go', 'every', 'day', 'especially', '7', \"'clock\", 'morning', 'parents', 'usa', 'dear', 'parents', 'hard', 'talk', 'sense', 'heads', 'idea', 'problem', 'wants', 'discuss', 'book', 'feed', 'birds', 'workman', '8', '95', 'helen', 'dick', 'witty', 'warn', 'hard', 'evaluate', 'packaged', 'wild-bird', 'seed', 'widely', 'available', 'supermarkets', 'pet', 'stores', 'garden', 'centers', 'march', '27', '1990', 'main', 'policy', 'committee', 'faced', 'hard', 'question', 'economic', 'activity', 'slowing', 'much', 'fed', 'needed', 'stimulate', 'growth', 'still', 'strong', 'enough', 'avoid', 'recession', 'alum', 'rock', 'anticipating', 'hard', 'effort', 'get', 'april', 'measure', 'passed', 'haley', 'take', 'words', 'heart', 'hard', 'blame', 'travel', 'road', 'hope', 'opportunity', 'hard', 'difficult', 'chance', 'might', 'somehow', 'way', 'help', 'god', 'make', 'find', 'hard', 'believe', 'hardest', 'part', 'able', 'tell', 'anybody', 'righetti', '32', 'first-time', 'parent', 'marketing', 'director', 'brian', 'gruber', 'lot', 'anecdotal', 'evidence', 'suggest', 'cnn', 'big', 'reason', 'rush', 'hook', 'although', 'hard', 'separate', 'war', 'company', '20th-anniversary', 'free', 'installation', 'deal', 'began', 'jan', 'began', 'promoted', 'war', 'whether', 'upgraded', 'card', 'stock', 'boost', 'sales', 'topps', 'basic', 'brands', 'hard', 'kind', 'historic', 'item', 'talking', 'would', 'make', 'perfect', 'gift', 'distinguished', 'gentleman', 'lady', 'list', 'likes', 'come', 'home', 'hard', 'day', 'put', 'comfortable', 'pair', 'slippers', 'walk', 'around', 'house', 'making', 'loud', 'flatulence', 'noises', 'feet', 'task', 'harder', 'sounds', 'playing', '14', 'years', 'going', 'hard', 'sit', 'visitors', 'bench', 'china', 'beach', 'hard', 'time', 'dealing', 'vietnam', 'statistics', 'support', 'hard', 'come', 'hard', 'time', 'bubba', 'life', 'dealt', 'right', 'tried', 'beano', 'three', 'occasions', 'notice', 'significant', 'reduction', 'flatulence', 'though', 'admittedly', 'hard', 'measure', 'things', 'many', 'programs', 'primarily', 'educational', 'hard', 'implement', 'langer', 'organizations', 'like', 'cancercare', 'send', 'professionals', 'give', 'seminars', 'help', 'management', 'set', 'extensive', 'programs', 'unless', 'hard', 'to-find', 'map', 'lists', 'blm', 'property', 'given', 'district', 'accompanying', 'public', 'roads', 'cannot', 'tell', 'whether', 'land', 'seeing', 'public', 'private', 'cold', 'war', 'fears', 'another', 'pearl', 'harbor', 'rest', 'hard', 'remember', 'thanksgiving', 'day', 'reasons', 'united', 'states', 'give', 'thanks', 'second', 'year', 'last', 'decade', 'century', 'sudden', 'attention', 'given', 'cardoen', 'hard', 'figure', 'kaplan', 'hard', 'surprising', 'cincinnati', 'bengals', 'finally', 'way', 'hard', 'go', 'wrong', 'bbq', 'baby', 'back', 'ribs', '15', '95', 'wonderful', 'bbq', 'pork', 'chops', '13', '95', 'dent', 'finding', 'illicit', 'gardens', 'hard', 'people', 'would', 'think', 'hardest', 'thing', 'miss', 'friends', 'sense', 'belonging', 'sense', 'identity', 'five', 'nominees', 'lacking', 'excellence', 'presumably', 'would', 'hard', 'name', 'five', 'excellent', 'choices', 'good', 'old', 'white', 'male', 'writers', 'hard', 'excuse', 'blindly', 'fatalistic', 'view', '1988', \"'the\", 'dictatorship', 'communist', 'party', 'remains', 'untouched', 'untouchable', \"'a\", 'long', 'competition', 'struggle', 'soviet', 'union', 'lie', 'bradley', 'hard', 'to-find', 'star', 'harper', 'often', 'leaves', 'audiences', 'screaming', 'going', 'hard', 'without', 'julie', 'potok', 'admitted', 'hard', 'decide', 'take', 'often', 'considered', 'possibility', 'senior', 'administration', 'official', 'acknowledged', 'lack', 'action', 'saying', 'put', 'anything', 'health', 'care', 'little', 'hard', 'defend', 'whole', 'life', 'certainly', 'fantasy', 'hard', 'come', 'frivolous', 'ideas', 'hard', 'take', 'colors', 'blue', 'sky', 'barbara', 'kercsmar', 'albuquerque', 'tribute', 'midsummer', 'bang-sashes', 'seems', 'terribly', 'funny', 'though', 'would', 'hard', 'explain', 'see', 'try', 'hard', 'unfair', 'see', 'cases', 'like', 'disagree', 'hard', 'talk', 'far', 'nonchalant', 'field', 'asserted', 'given', 'harshness', 'terrain', 'hard', 'people', 'survive', 'altitudes', 'hope', 'active', 'position', 'last', 'civilize', 'life', 'rather', 'hard', 'run', 'antiques', 'really', 'hard', 'find', 'reiff', 'continued', 'hard', 'black', 'quarterback', 'city', 'hard', 'enough', 'imagine', 'cool', 'sophisticated', 'eikenberry', 'talking', 'like', 'tammy', 'wynette', 'real', 'challenge', 'buy', 'dutiful', 'wife', 'works', 'beauty', 'parlor', 'subscribes', 'submissive', 'philosophy', 'wynette', 'old', 'stand', 'man', 'country', 'song', 'roc', 'tv', 'show', 'becomes', 'hit', 'many', 'critics', 'predicting', 'fall', 'hard', 'find', 'hollywood-style', 'rags-to-riches', 'success', 'story', 'dutton', 'lot', 'work', 'someone', 'reputation', 'hard', 'work', 'many', 'speakers', 'believed', 'new', 'chief', 'hardest', 'task', 'continue', 'improving', 'department', 'relationships', 'minorities', 'environmental', 'issues', 'especially', 'hard', 'particularly', 'problem', 'concerned', 'disappears', 'thin', 'air', 'hardest', 'part', 'finding', 'baby', 'sitter', 'putting', 'pressure', 'hard', 'whitfield', 'baker', 'surely', 'deserve', 'much', 'better', 'even', 'though', 'hard', 'imagine', 'diana', 'ross', 'myriad', 'actresses', 'tried', 'make', 'movie', 'baker', 'playing', 'better', 'course', 'comes', 'clothes', 'patterns', 'gotten', 'bad', 'rap', 'style', 'hard', 'make', 'lost', 'road-game', 'winning', 'streak', 'hardest', 'place', 'win', 'home', 'mcintyre', 'fully', 'respectful', 'rams', 'ability', 'strike', 'back', 'software', 'lets', 'save', 'parts', 'screen', 'graphic', 'files', 'disk', 'lets', 'magnify', 'menus', 'hard', 'read', 'using', 'large', 'screen', 'high', 'resolution', 'way', 'officials', 'harder', 'time', 'fending', 'lawsuits', 'groups', 'claiming', 'received', 'enough', 'jobs', 'today', 'david', 'leeper', 'assistant', 'vice', 'president', 'bellcore', 'telephone', 'research', 'firm', 'definitely', 'harder', 'multi-vendor', 'market', 'changing', 'rapidly', 'guarantee', 'overall', 'network', 'entirely', 'reliable', 'harrison', 'client', 'san', 'diego', 'neurologist', 'dr', 'mark', 'levine', 'learned', 'hard', 'way', 'happen', 'doctors', 'properly', 'fill', 'disclosure', 'cards', 'heard', 'often', 'hard', 'know', 'longer', 'lament', 'excuse', 'neglect', 'youngest', 'poorest', 'americans', 'almost', 'shelley', 'took', 'frame', 'mind', 'hard', 'accept', 'de', 'doctrina', 'without', 'talking', 'milton', 'unconsciousness', 'narrow', 'roads', 'snake', 'canyons', 'hard', 'people', 'flee', 'fire', 'trucks', 'charge', 'especially', 'pardon', 'adjectives', 'hard', 'believe', 'stuff', 'goes', 'without', 'water', 'hard', 'time', 'hard', 'keep', 'sharp', 'helps', 'good', 'crew', 'shapiro', 'brought', '4-year-old', 'son', 'ben', 'accept', 'award', 'montana', 'hard', 'watching', 'hard', 'figure', 'means', 'load', 'honey', 'harder', 'sting', 'gorged', 'milk', 'cartons', 'hard', 'recycle', 'aseptic', 'juice', 'boxes', 'disposable', 'boxes', 'one-serving', 'containers', 'popular', 'kids', 'inseparable', 'layers', 'mixed', 'material', 'hard', 'time', 'going', 'bed', 'night', 'sitting', 'see', 'happening', 'war', 'austrian', 'ultimately', 'hard', 'put', 'time', 'frame', 'like', 'true', 'international', 'sports', 'something', 'inbred', 'lot', 'makes', 'forever', 'self-conscious', 'hard', 'dismiss', 'gut', 'feelings', 'whim', 'duvet', 'comforter', 'covers', 'long', 'staple', 'europe', 'used', 'harder', 'find', 'hen', 'teeth', 'states', 'hard', 'carry', 'enough', 'water', 'long', 'hike', 'planning', 'rely', 'streams', 'must', 'prepared', 'disinfect', 'water', 'drink', 'find', 'hard', 'see', 'moonbeams', 'truth', 'smog', 'hypocrisy', 'sjs', 'orders', 'changes', 'two', 'major', 'changes', 'sjs', 'make', 'harder', 'esl', 'students', 'avoid', 'writing', 'problems', 'new', 'mandate', 'writing', 'general', 'education', 'courses', 'plus', 'new', 'requirement', 'students', 'take', 'writing', 'test', 'take', 'required', 'upper-division', 'general', 'education', 'courses', 'easy', 'change', 'goods', 'prices', 'hard', 'change', 'nature', 'beast', 'particularly', 'big', 'hard', 'time', 'trying', 'snap', 'third', 'game', 'first', 'interstate', 'bancorp', 'hard', 'hit', 'bad', 'real', 'estate', 'loans', 'announced', 'eliminate', '3', '500', 'jobs', 'end', 'year', 'reorganize', 'sprawling', '13-state', 'operation', 'effort', 'cut', '250', 'million', 'year', 'costs', 'hard', 'judge', 'big', 'guessing', 'game', 'hard', 'get', 'treated', 'badly', 'like', 'animals', 'sometimes', '22-year-old', 'jaral', 'spanish', 'dangerous', 'enter', 'hard', 'clean', 'hard', 'tell', 'hard', 'articulate', 'level', 'interest', 'james', 'harpster', 'coordinator', 'anniversary', 'activities', 'national', 'park', 'service', 'oversees', 'arizona', 'memorial', 'visit', 'soviet', 'orphanage', 'hard', 'keep', 'composure', 'hard', 'overestimate', 'number', 'people', 'commented', 'favorably', 'personalization', 'message', 'still', 'hard', 'thing', 'deal', 'since', 'muscle', 'burns', 'calories', 'faster', 'fat', 'makes', 'harder', 'stay', 'slim', 'officials', 'particularly', 'hard', 'assess', 'damage', 'done', 'entrenched', 'elite', 'republican', 'guard', 'divisions', '4', '000-square-mile', 'area', 'kuwait', 'iraq', 'high-priority', 'target', 'jack', 'hard', 'convince', 'though', 'saddam', 'future', 'anything', 'clear', 'allies', 'may', 'soon', 'forced', 'look', 'countries', 'willing', 'provide', 'homes', 'many', 'long-suffering', 'soldiers', 'may', 'find', 'hard', 'come', 'analysts', 'hard', 'chalmers', 'possibly', 'hard', 'time', 'classifying', 'fact', 'good', 'things', 'group', 'hard', 'imagine', 'industry', 'environment', 'getting', 'worse', 'unfortunately', 'consumers', 'discerning', 'anything', 'truly', 'green', 'inside', 'fertilizer', 'bags', 'even', 'harder', 'selecting', 'product', 'right', 'n-p-k', 'ratio', 'ever', 'simplest', 'things', 'hard', 'days', 'giants', 'magic', 'johnson', 'even', 'harder', 'job', 'ahead', 'going', 'fulfill', 'pledge', 'become', 'advocate', 'safe', 'sex', 'going', 'talk', 'contracted', 'hiv', 'virus', 'three-d', 'pretty', 'hard', 'think', 'math', 'involved', 'engineer', 'dana', 'batali', 'getting', 'harder', 'join', 'group', 'health', 'plan', 'hard', 'line', 'financing', 'real', 'estate', 'days', 'sometimes', 'hard', 'dad', 'divide', 'time', 'kids', 'court', 'rulings', 'made', 'harder', 'women', 'members', 'minority', 'groups', 'win', 'job', 'discrimination', 'lawsuits', 'signs', 'hope', 'hard', 'find', 'cases', 'based', 'eyewitness', 'accounts', 'well', 'cops', 'hard', 'imagine', 'officers', 'could', 'acted', 'much', 'differently', 'hard', 'move', 'sort', 'stuff', 'carries', 'applied', 'many', 'places', 'denny', 'mcdonald', 'car', 'wash', 'hard', 'find', 'work', 'spanish', 'chaffee', 'radar', 'used', 'busy', 'roads', 'plagued', 'speeding', 'accidents', 'officers', 'hard', 'time', 'clocking', 'pursuing', 'speeders', 'patrol', 'cars', 'hard', 'areas', 'assimilate', 'newcomers', 'long', 'history', 'hard', 'film', 'get', 'financed', 'think', 'important', 'particularly', 'youth', 'today', 're-establish', 'silly', 'boring', 'silent', 'films', 'everyone', 'throwing', 'custard', 'pies', 'mailer', 'obsessions', 'see', 'hard', 'bear', '40', 'year', 'ago', 'beginning', 'hard', 'stay', 'bars', 'dark', 'alleys', 'avoid', 'starting', 'fights', 'balky', 'drivers', 'hard', 'avoid', 'lovers', 'friends', 'relatives', 'ducts', 'hard', 'get', 'call', 'heating', 'contractor', 'life', 'hard', 'walkaway', \"'hey\", 'past', 'crew', 'repaints', 'license', 'plates', 'get', 'hard', 'read', 'sometimes', 'plain', 'old', 'revenge', 'sure', 'hard', 'beat', 'weird', 'strange', 'tough', 'hard', 'accept', 'contention', 'la', 'russa', 'players', 'saying', 'wednesday', 'baker', 'strategy', 'gambit', 'typical', 'baker', 'approach', 'secretary', 'state', 'appears', 'staking', 'initiative', 'success', 'arranging', 'peace', 'conference', 'serve', 'goal', 'postpone', 'harder', 'work', 'resolving', 'issues', 'substance', 'living', 'standards', 'hard', 'imagine', 'people', 'qualifying', 'tournament', 'harder', 'tournament', 'play', 'lpga', 'tour', 'saturday', 'hard', 'know', 'transferred', 'company', 'runs', 'harder', 'explain', 'away', 'people', 'lying', 'believe', 'something', 'fact', 'happened', 'fresno', 'hard', 'time', 'finding', 'place', 'play', 'throwing', 'schedule', 'teams', 'tigers', 'scheduled', 'meet', 'tribune', 'reported', 'time', 'hard', 'know', 'right', 'sometimes', 'would', 'harder', 'regular', 'child', '16', \"'not\", 'lot', 'heroes', 'harlow', '47', 'handful', 'volcano', 'seismologists', 'world', 'discounted', 'indiana', 'jones', 'reputation', 'successful', 'forecast', 'evacuation', 'result', 'lot', 'people', 'taking', 'lot', 'responsibility', 'making', 'hard', 'decisions', 'without', 'healthy', 'parking', 'fund', 'coonerty', 'city', 'unable', 'provide', 'enough', 'new', 'parking', 'lots', 'small-business', 'owners', 'harder', 'time', 'convincing', 'banks', 'draw', 'enough', 'customers', 'pay', 'potential', 'reconstruction', 'loans', 'hard', 'tell', 'two', 'apart', 'fifteen', 'minutes', 'take', 'chances', 'patty', 'hoath', 'administrator', 'tax-counseling', 'program', 'aarp', 'washington', 'c', 'lot', 'seniors', 'need', 'help', 'tax', 'forms', 'reasons', 'ranging', 'physical', 'ailments', 'printed', 'type', 'tax', 'forms', 'seniors', 'often', 'find', 'hard', 'read', 'way', 'hard', 'innovate', 'way', 'ratings', 'success', 'finally', 'gets', 'message', 'hardest', 'possible', 'way', 'doctor', 'william', 'windom', 'diagnoses', 'fatal', 'illness', 'gives', 'six', 'months', 'live', 'clicking', 'cylinders', 'hard', 'beat', 'hard', 'count', 'head', 'torso', 'going', 'two', 'separate', 'directions', '45', 'miles', 'hour', 'five', 'six', 'serious', 'major', 'gut-twisting', 'turns', 'suddenly', 'feel', 'gentle', 'caress', 'denouement', 'mere', 'ripple', 'track', 'sky', 'ground', 'finally', 'return', 'places', 'god', 'put', 'comedy', 'may', 'hard', 'interviewing', 'comedians', 'certainly', 'fair', 'anyone', 'calling', '202', 'area', 'code', 'hard', 'time', 'getting', 'shields', 'age', 'word', 'processors', 'hard', 'generate', 'rejection', 'letter', 'stuff', 'envelope', 'let', 'make', 'hard', 'travelers', 'hard', 'figure', 'ceausescu', 'repressive', 'regime', 'found', 'acceptance', 'west', 'particularly', 'cold', 'war', 'began', 'thaw', 'paul', 'galm', 'preparing', 'academic', 'decathlon', 'harder', 'course', 'took', 'fall', 'including', 'physiology', 'hard', 'know', 'miami', 'bowden', 'shopping', 'around', 'washington', 'reds', 'best', 'producers', 'state', 'cabernet', 'sauvignon', 'merlot', 'check', 'quilceda', 'creek', 'hard', 'find', 'cabernets', 'cream', 'crop', 'hard', 'visualize', 'anyone', 'green', 'industry', 'would', 'phrase', 'way', 'many', 'businesses', 'thrive', 'times', 'get', 'hard', 'yet', 'ranstrom', 'acknowledged', 'shubb', 'specify', 'frequently', 'accounting', 'notices', 'must', 'issued', 'type', 'information', 'must', 'contain', 'effect', 'order', 'hard', 'gauge', 'rest', 'left', 'lurch', 'revolting', 'turn', 'events', 'life', 'television', 'hard', 'get', 'separate', 'days', 'never', 'real', 'caring', 'giving', 'jennine', 'zinner', 'fellow', 'counselor', 'south', 'county', 'center', 'cynical', 'embittered', 'hard', 'life', 'hard', 'know', 'parks', 'department', 'hard', 'time', 'county', 'planner', 'dave', 'lutes', 'actually', 'sat', 'trial', 'seen', 'impact', 'person', 'like', 'mr', 'dallas', 'jury', 'hard', 'describe', 'emily', 'would', 'add', 'male', 'classmates', 'generally', 'nice', 'married', 'hard', 'get', 'good', 'marks', 'called', 'class', 'found', 'hard', 'time', 'remembering', 'something', 'helps', 'change', 'physical', 'position', 'hard', 'consumers', 'mount', 'big', 'spending', 'upturn', 'joblessness', 'still', 'growing', 'allen', 'sinai', 'chief', 'economist', 'boston', 'co', 'may', 'years', 'truth', 'known', 'coup', 'hard', 'deny', 'kgb', 'heart', 'root', 'unchanged', 'reforms', 'gorbachev', 'era', 'matter', 'green', 'hard', 'catch', 'colorado', 'notre', 'dame', 'bad', 'day', 'honest', 'man', 'hard', 'job', 'implication', 'anything', 'else', 'unbearable', 'find', 'hard', 'believe', '126', 'contributors', 'print', 'comments', 'males', 'claim', 'suffering', 'effects', 'sexual', 'harassment', 'hard', 'elated', 'think', 'triggered', 'death', 'two', 'youngsters', 'six', 'years', 'mayor', 'jack', 'sutorius', 'create', 'really', 'definitive', 'culture', 'type', 'hard', 'think', 'including', 'playbill', 'chapter', 'san', 'jose', 'state', 'prof', 'larry', 'engelmann', 'history', 'fall', 'south', 'vietnam', 'tears', 'rain', 'chapter', 'hard', 'amerasian', 'vietnam', 'really', 'hard', 'understand', 'crowd', 'going', 'sell', 'hard', 'deal', 'decious', 'loss', 'poor', 'families', 'hard', 'time', 'hard', 'decision', 'feel', 'ready', 'next', 'level', 'afternoon', 'news', 'conference', 'would', 'hard', 'think', 'anything', 'plainly', 'anti-constitutional', 'hard', 'imagine', 'sophomore', 'team', 'leader', 'even', 'gazing', 'window', 'hard', 'windows', 'washed', 'bird', 'droppings', 'two', 'years', 'works', 'well', 'simple', 'compounds', 'would', 'hard', 'imagine', 'ever', 'building', 'molecular-sized', 'robot', 'way', 'hard', 'imagine', 'human', 'bowling', 'joe', 'place', 'least', 'organized', 'form', 'technique', 'makes', 'hard', 'keep', 'track', 'even', 'principal', 'story', 'lines', 'dealing', 'pearl', 'harbor', 'philippines', 'malaya', 'movies', 'supposed', 'thrive', 'hard', 'economic', 'times', 'real', 'hard', 'beginning', 'make', 'best', 'every', 'day', 'even', 'smuggest', 'would', 'probably', 'hard', 'time', 'saying', 'marxist', 'told', 'sooner', 'later', 'god', 'would', 'fail', '3', 'p', '3', 'p', 'next', 'day', 'newman', 'pledge', 'many', 'dry', 'cleaners', 'would', 'hard', 'time', 'matching', 'five-month', 'senate', 'veteran', 'sending', 'encouraging', 'signals', 'saying', 'things', 'like', 'make', 'hard', 'tough', 'political', 'decisions', 'may', 'end', 'destroying', 'beauty', 'california', 'wants', 'may', 'hard', 'time', 'defining', 'gay', 'recruiting', 'film', 'hard', 'function', 'los', 'gatos', 'historian', 'bill', 'wulf', 'remembers', 'movie', 'house', 'teen-age', 'days', 'hard', 'time', 'envisioning', 'classic', 'theater', 'triplex', 'case', 'seemed', 'congress', 'white', 'house', 'came', 'realization', 'lawmakers', 'go', 'home', 'two', 'months', 'without', 'addressing', 'issue', 'foremost', 'voters', 'minds', 'sagging', 'economy', 'would', 'get', 'increasingly', 'hard', 'keep', 'blaming', 'lapse', 'tape', 'makes', 'harder', 'truth', 'fade', 'blurred', 'collection', 'opposing', 'viewpoints', 'emotional', 'arguments', 'attempts', 'hide', 'facts', 'hard', 'year', 'court', 'hard', 'play', 'practice', 'even', 'tackle', 'something', 'called', 'button-up', 'halt', 'runners', 'gets', 'physical', 'get', 'pumped', 'forget', 'team', 'hard', 'felt', 'bad', 'mentally', 'volobuyev', 'vo-lo-boo-yev', '44', 'small', 'flesh-colored', 'hard', 'stab', 'fork', 'garner', 'whole', 'lot', 'respect', 'ceramic-tile', 'counter', 'tops', 'kitchens', 'bathrooms', 'elegant', 'generally', 'speaking', 'hard', 'install', 'existing', 'counter', 'top', 'plastic', 'laminate', 'surface', 'formica', 'sink', 'faucets', 'removed', 'yeah', 'hard', 'reach', 'certain', 'point', 'headliner', 'else', 'going', 'asks', 'would', 'hard', 'see', 'minority', 'could', 'elected', 'districts', 'swanson', 'aide', 'u', 'rep', 'ron', 'dellums', 'despite', 'bargain-price', 'menu', 'still', 'spent', '65', 'dinner', 'including', 'tip', 'find', 'hard', 'order', 'wine', 'dislike', 'spending', '4', 'single', 'glass', 'generosity', 'beyond', 'hard', 'top', 'bill', 'penny', 'fitler', 'watsonville', 'night', 'stay', 'radisson', 'south', 'san', 'jose', 'hotel', 'parents', 'helping', 'parents', 'contest', 'promptly', 'gave', 'san', 'diego', 'couple', 'daughter', 'suffering', 'cerebral', 'palsy', 'block', 'way', 'anything', 'hard', 'see', 'military', 'value', 'target', 'hard', 'find', 'anyone', 'home', 'days', 'people', 'want', 'open', 'door', 'anyone', 'even', 'loss', 'hotel', 'business', 'outskirt', 'motel', 'relatively', 'painless', 'hotel-motel', 'demarcation', 'becoming', 'harder', 'find', 'every', 'year', 'important', 'even', 'near-term', 'future', 'soviet', 'union', 'hard', 'read', 'influence', 'mines', 'however', 'rest', 'bottom', 'harder', 'find', 'set', 'noise', 'water', 'pressure', 'magnetic', 'signature', 'ship', 'approaching', 'passing', 'overhead', 'hard', 'last', 'days', 'face', 'problems', 'world', 'bit', 'hard', 'take', 'boredom', 'seriously', 'hard', 'make', 'adjustments', 'coach', 'time', 'last', 'year', 'young', 'shaw', 'sometimes', 'hard', 'getting', 'figures', 'right', 'lines', 'person', 'hard', 'convince', 'donald', 'fehr', 'executive', 'director', 'major', 'league', 'players', 'association', 'hard', 'describe', 'shy', 'bennett', 'asserts', 'statement', 'hard', 'take', 'seriously', 'sits', 'beneath', 'larger-than-life', 'silhouette', 'portrait', 'counter-culture', 'days', 'new', 'york', 'city', 'kind', 'hard', 'take', 'poinsettias', 'yuletide', 'season', 'interlocked', 'hard', 'imagine', 'without', 'selecting', 'funds', 'course', 'hard', 'part', 'food', 'marketing', 'consultant', 'quoted', 'saying', 'hard', 'describe', 'product', 'fairly', 'accurately', 'still', 'make', 'saleable', 'hard', 'get', 'stuff', 'noting', 'still', 'tinkering', 'grasses', 'good', 'bugs', 'occasional', 'shot', 'herbicide', 'help', 'crops', 'suspect', 'giants', 'front', 'office', 'hard', 'time', 'drawing', 'comfort', 'tenet', 'figures', 'prevalence', 'problem', 'researchers', 'actual', 'effect', 'drugs', 'may', 'hard', 'detect', 'many', 'men', 'using', 'steroids', 'still', 'young', 'tried', 'children', 'thun', 'epidemiologist', 'american', 'cancer', 'society', 'headquarters', 'atlanta', 'warned', 'even', 'colon-cancer', 'findings', 'borne', 'aspirin', 'never', 'substitute', 'harder', 'things', 'benefit', 'health', 'smoking', 'eating', 'varied', 'healthy', 'diet', 'controlling', 'weight', 'getting', 'exercise', 'hard', 'understand', 'folks', 'tongues', 'cheeks', 'although', 'story', 'based', 'brief', 'historical', 'account', 'occasionally', 'lighthearted', 'tone', 'text', 'lively', 'watercolor', 'illustrations', 'jarring', 'hard', 'believe', 'given', 'documented', 'suffering', 'camp', 'time', 'hard', 'time', 'finding', 'stocks', 'really', 'interested', 'buying', 'valuations', 'would', 'apply', 'tough', 'ironically', 'pay-tv', 'rival', 'disney', 'channel', 'marching', 'direction', 'trying', 'hard', 'lure', 'adult', 'viewers', 'times', 'kiddies', 'either', 'asleep', 'school', 'last', 'six', 'months', 'hard', 'find', 'anything', 'vinyl', 'phyllis', 'frelich', 'talks', 'hard', 'stare', 'hard', 'hard', 'use', 'quite', 'slow', 'chronicles', 'beiderbecke', 'hard', 'unhappy', 'times', 'punish', 'ordinary', 'iraqis', 'saddam', 'make', 'harder', 'economically', 'politically', 'saddam', 'strengthen', 'hold', 'power', 'hard', 'believe', 'accidental', 'superintendent', 'rick', 'marcoux', 'began', 'building', '145-unit', 'complex', 'october', '1989', 'willing', 'agree', 'anything', 'gets', 'bill', 'committee', 'agreed', 'onetime', 'change', 'status', 'quo', 'hard', 'break', 'terms', 'economic', 'fundamentals', 'hard', 'think', 'particularly', 'bad', 'hard', 'think', 'type', 'place', 'stay', 'bermuda', 'depth', 'without', 'ancillary', 'markets', 'mgm', 'harder', 'time', 'making', 'profit', 'totally', 'hard', 'think', 'person', 'think', 'want', 'lie', 'hard', 'believe', 'turner', 'braves', 'hot', 'cable', 'news', 'network', 'operation', 'desert', 'storm', 'hot', 'romance', 'jane', 'fonda', 'hard', 'time', 'breathing', 'hard', 'get', 'giddy', 'game', '35-46', 'fifth', 'place', 'giants', 'lot', 'second', 'half', 'season', 'begins', 'thursday', 'philadelphia', 'think', 'fare', 'well', 'hard', 'predict', 'canley', 'industry', 'eye', 'hard', 'shoot', 'everybody', 'actress', 'patricia', 'arquette', 'lifetime', 'wildflower', 'tv', 'movie', 'set', 'air', 'dec', '3', 'hard', 'cartel', 'controlled', 'scrolls', 'put', 'genie', 'back', 'bottle', 'hard', 'without', 'availability', 'capital', 'competitive', 'rates', 'hard', 'test', 'progress', 'issues', 'rant', 'system', 'may', 'people', 'want', 'hear', 'ultimately', 'presidential', 'candidate', 'times', 'needs', 'tell', 'voters', 'many', 'apparently', 'want', 'hear', 'kick', 'bums', 'left', 'hard', 'choices', 'education', 'defense', 'health', 'care', 'taxes', 'wave', 'consolidation', 'harder', 'times', 'ahead', 'industry', 'observers', 'expect', 'wave', 'consolidation', 'among', '12', 'banks', 'thrifts', 'serving', '260', 'million', 'americans', 'hard', 'try', 'change', 'unlike', 'deayardan', 'rides', 'self-designed', 'skateboard-sized', 'platform', 'aussies', 'trying', 'master', 'much', 'bigger', 'harder', 'to-control', 'boards', 'last', 'word', 'hard', 'time', 'trying', 'pinpoint', 'disappointment', 'car', 'never', 'studied', 'russian', 'economy', 'close', 'range', 'hard', 'imagine', 'gap', 'rather', 'canyon', 'separates', 'u', 'economy', 'know', 'ever', 'expect', 'understand', 'happening', 'hard', 'time', '5', 'astros', 'move', 'fences', 'back', 'hard', 'enough', 'hit', 'home', 'run', 'astrodome', 'folks', 'houston', 'decided', 'make', 'nearly', 'impossible', 'season', 'difficult', 'things', 'adaptations', 'things', 'easy', 'give', 'choices', 'hard', 'benton', 'personally', 'hard', 'time', 'hill', 'coming', 'forward', 'years', 'later', 'hard', 'choice', 'right', 'kidd', 'sometimes', 'good', 'away', 'want', 'around', 'hard', 'get', 'away', 'people', 'hard', 'define', 'insider', 'trading', 'think', 'every', 'executive', 'every', 'company', 'knows', 'gray', 'area', 'talking', 'son', 'saudi', 'arabia', 'hard', 'convey', 'corporations', 'fiduciary', 'duties', 'equity', 'holders', 'owed', 'debt', 'holders', 'making', 'harder', 'bring', 'cases', 'really', 'hard', 'figure', 'read', 'military', 'red', 'tape', 'happens', 'troubled', 'companies', 'find', 'harder', 'get', 'credit', 'need', 'reorganize', 'first', 'year', 'eligibility', 'hard', 'getting', 'better', 'know', 'hard', 'believe', 'late', 'fred', 'astaire', 'hardest', 'job', 'kids', 'face', 'today', 'learning', 'good', 'manners', 'without', 'seeing', 'much', 'harder', 'thought', 'hard', 'turn', 'long-term', 'treasury', 'bond', 'yield', 'gets', '8', '4', 'percent', 'mindlink', 'harder', 'learn', 'expected', 'much', 'practical', 'real', 'hard', 'get', 'players', 'come', 'games', 'grateful', 'came', 'bird', 'look', 'worked', 'new', 'bonneville', 'little', 'harder', 'take', 'smaller', 'grand', 'fact', 'hard', 'need', 'demonstrate', 'many', 'cases', 'environmental', 'values', 'given', 'slightest', 'consideration', 'hard', 'enough', 'meet', 'people', 'age', 'l', 'meet', 'girl', 'might', 'chemistry', 'even', 'harder', 'hard', 'express', 'felt', 'hard', 'reporters', 'determine', 'taylor', 'speak', 'press', 'probably', 'hardest', 'job', 'baseball', 'got', 'lot', 'capable', 'people', 'chairman', 'biden', 'judge', 'thomas', 'past', 'days', 'hard', 'especially', 'good', 'friend', 'colleague', 'sen', 'kennedy', 'easy', 'man', 'sit', 'three', 'full', 'days', 'hearings', 'paper', 'bag', 'head', 'let', 'go', 'point', 'want', 'make', 'important', 'point', 'fully', 'intend', 'make', 'ever', 'get', 'end', 'sentence', 'know', 'know', 'judge', 'highly', 'unlikely', 'occur', 'current', 'fiscal', 'year', 'apparent', 'trend', 'somewhat', 'harder', 'mid-level', 'player', 'get', 'free-agent', 'pay', 'dirt', 'maybe', 'mega-dollars', 'going', 'contracts', 'superstars', 'shapiro', 'remembered', 'parents', 'talking', 'maine', 'came', 'vague', 'distant', 'place', 'girded', 'rocks', 'bound', 'hard', 'winters', 'hsieh', 'insists', 'issue', 'fairness', 'minority', 'voters', 'would', 'harder', 'time', 'connecting', 'sound', 'name', 'printed', 'form', 'important', 'differences', 'harder', 'to-explain', 'features', 'wit', 'never', 'learn', 'anything', 'hard', 'way', 'ensembles', 'go', 'turtle', 'island', 'hard', 'beat', 'program', 'four', 'south', 'bay', 'hard', 'time', 'meeting', 'needs', 'father', 'certainly', 'nothing', 'like', 'tommy', 'scanlan', 'hard', 'know', 'much', 'mother', 'like', 'connie', 'scanlan', 'perhaps', 'mr', 'dark', 'chand', 'brusquely', 'finding', 'hard', 'believe', 'woman', 'behavior', 'would', 'kind', 'hard', 'fake', 'terribly', 'hard', 'hard', 'make', 'solid', 'contact', 'making', 'every', 'effort', 'get', 'hard', 'exception', 'khafji', 'pows', 'fought', 'well', 'even', 'death', 'iraqis', 'captured', 'far', 'come', 'isolated', 'bases', 'would', 'hard', 'resupply', 'best', 'times', 'british', 'officer', 'time', 'state', 'budget', 'process', 'fiscal', 'straitjacket', 'bound', 'tightly', 'series', 'structural', 'constraints', 'prevent', 'leaders', 'setting', 'budget', 'priorities', 'making', 'hard', 'choices', 'times', 'require', 'chip', 'thought', 'could', 'make', 'make', 'hard', 'believe', 'lovers', 'tv', 'game', 'especially', 'disappointed', 'hard', 'visualize', 'contestant', 'dressed', 'like', 'turnip', 'phone', 'craig', 'would', 'let', 'hickerson', 'work', 'longer', 'five', 'innings', 'already', 'thrown', '84', 'pitches', 'hickerson', 'hard', 'time', 'recovering', 'last', 'start', 'going', 'long', 'hard', 'winter', 'lot', 'people', 'mayor', 'abbie', 'covington', 'slide', 'downhill', 'gets', 'going', 'hard', 'stop', 'believes', 'possible', 'possible', 'easy', 'book', 'hard', 'two', 'years', 'ago', 'competitors', 'suggest', 'cost-cutting', 'pinch', 'cb', 'data', 'service', 'help', 'brokers', 'cb', 'hard', 'time', 'boosting', 'revenues', 'already', 'takes', 'half', 'broker', 'commission', 'biggest', 'bites', 'industry', 'hard', 'imagine', 'reaction', 'might', 'notre', 'dame', 'lost', 'hard', 'polite', 'getting', 'funding', 'hard', 'prez', 'full-time', 'student', 'supports', 'federal', 'supplemental', 'security', 'income', 'blowing', 'tanks', 'easy', 'stability', 'hard', 'something', 'hear', 'tv', 'hard', 'cope', 'come', 'school', 'see', 'empty', 'seat', 'rosemary', 'bulaich', '15', 'counselors', 'san', 'jose', 'school', 'wednesday', 'helping', 'students', 'cope', 'bizarre', 'tragedy', 'agency', 'program', 'bulk', 'sales', 'intended', 'unload', 'hard', 'to-sell', 'properties', 'theory', 'least', 'service', 'sector', 'high-tech', 'industry', 'places', 'u', 'economy', 'generating', 'new', 'jobs', 'hard', 'time', 'proving', 'recent', 'experience', 'family', 'lot', 'people', 'think', 'secret', 'spring', 'training', 'starting', 'get', 'hard', 'buy', 'game', 'tickets', 'almost', 'worth', 'going', 'anymore', 'asked', 'golda', 'hard', 'spotting', 'recession', 'end', 'hard', 'harder', 'mimic', 'speech', 'native', 'would', 'hard', 'find', 'anything', 'equivocal', 'cannot', 'recommend', 'highly', 'going', 'harder', 'learn', \"'carmen\", 'double', 'prepared', 'cover', 'make', 'calls', 'home', 'harder', 'trace', 'crackers', 'might', 'use', 'stolen', 'telephone', 'credit-card', 'numbers', 'place', 'series', 'calls', 'different', 'long-distance', 'carriers', 'corporate', 'switchboards', 'calling', 'target', 'computer', 'modem', 'named', 'coach', 'u', 'olympic', 'basketball', 'team', 'still', 'hurts', 'although', 'hard', 'understand', 'nelson', 'could', 'done', 'beat', 'detroit', 'chuck', 'daly', 'except', 'win', 'two', 'nba', 'championships', 'competition', 'much', 'harder', 'merckx', 'others', 'could', 'win', 'nearly', 'race', 'expensive', 'harder', 'learn', 'photoshop', 'huge', 'hold', 'users', 'related', 'products', 'indeed', 'would', 'hard', 'discern', 'dominant', 'element', 'delicate', 'sauce', 'pine', 'nuts', 'meat', 'juices', 'garlic', 'accompanied', 'rare', 'grilled', 'quail', '14', '95', 'companion', 'entree', 'sort', 'baked', 'fish', 'triumphant', 'marriage', 'flavors', 'march', '25', 'letter', 'charles', 'moore', 'rival', 'rail', 'systems', 'draws', 'many', 'illogical', 'conclusions', 'hard', 'know', 'start', 'refutation', 'hardest', 'thing', 'language', 'problem', 'sharks', 'general', 'manager', 'jack', 'ferreira', 'atmosphere', 'enter', 'decision', 'either', 'hard', 'overlook', 'setting', 'central', 'texan', 'people', 'would', 'hard', 'time', 'living', 'lofty', 'billing', 'unfeeling', 'remark', 'would', 'hard', 'find', 'funny', 'people', 'hard', 'record', 'tv', 'program', 'vcr', 'seeing', 'saw', 'first', 'pitch', 'hard', 'animal', 'wear', 'harness', 'records', 'heart', 'rate', 'oxygen', 'consumption', 'indication', 'hard', 'exercising', 'decent', 'jobs', 'hard', 'find', 'box', 'brooke', 'shields', 'hard', 'act', 'follow', 'plan', 'would', 'make', 'harder', 'potential', 'gun', 'buyers', 'obtain', 'firearms', 'acquisition', 'certificate', 'requires', 'weapons', 'locked', 'use', 'even', 'first', 'official', 'day', 'work', 'east', 'palo', 'alto', 'new', 'police', 'chief', 'got', 'hard', 'lesson', 'financial', 'management', 'problems', 'inheriting', 'notice', 'department', 'crime-fighting', 'computers', 'would', 'repossessed', 'hard', 'think', 'give', 'makes', 'safe', 'hard', 'enough', 'make', 'film', 'without', 'writing', 'letters', 'editor', '15th', '16th', 'hours', 'day', 'much', 'rather', 'see', 'glorious', 'parade', 'celebrating', 'smart', 'kids', 'turning', 'except', 'hard', 'education', 'department', 'tells', 'two', 'weeks', 'ago', 'none', 'states', 'adequate', 'job', 'teaching', 'math', 'schools', 'miserably', 'litton', 'plays', 'outfield', 'make', 'increasingly', 'hard', 'keep', 'someone', 'leonard', 'maybe', 'harder', 'develop', 'new', 'fuels', 'penn', 'thinks', 'hard', 'time', 'constitutional', 'rights', 'hard', 'know', 'despondent', 'person', 'going', 'standard', 'inculcated', 'among', 'rank', 'file', 'everyone', 'understands', 'roles', 'joe', 'mcnamara', 'hard', 'replace', 'hard', 'work', 'guess', 'proved', 'done', 'wright', 'recent', 'afternoon', 'office', 'half', 'block', 'loyalton', 'main', 'drag', 'addition', 'historical', 'appeal', 'considerable', 'archaeological', 'interest', 'island', 'dotted', 'work', 'prehistoric', 'man', 'even', 'though', 'much', 'record', 'stone', 'hard', 'read', 'hardest', 'part', 'interviewed', 'dozens', 'contractors', 'measure', 'extent', 'united', 'nations', 'would', 'go', 'prevent', 'saddam', 'creating', 'hard', 'to-detect', 'biological', 'weapons', 'plan', 'sets', 'standards', 'bacteriological', 'laboratories', 'iraq', 'british', 'television', 'obsessed', 'war', 'america', 'four', 'channels', 'choose', 'war', 'coverage', 'hard', 'avoid', 'people', 'harder', 'time', 'qualifying', 'loan', 'days', 'herbert', 'b', 'tasker', 'pacific', 'mortgage', 'co', 'concord', 'celtic', 'mystery', 'individual', 'beauty', 'coalesce', 'flaky', 'metal', 'shield', 'prongs', 'hard', 'simple', 'terms', 'charles', 'made', 'hard', 'call', 'craig', 'gilliland', 'sunseeds', 'attorney', 'growing', 'numbers', 'poor', 'non-english-speaking', 'students', 'make', 'job', 'harder', 'pointed', 'job', 'hard', 'explain', 'responsible', 'making', 'back', 'payments', 'rightful', 'lender', 'may', 'get', 'hard', 'to-remove', 'black', 'marks', 'credit', 'record', 'hard', 'quantify', 'class', 'members', 'normal', 'intelligence', 'pretty', 'good', 'math', 'special', 'education', 'class', 'hard', 'time', 'language', 'writing', 'texts', 'hard', 'get', 'looking', 'advice', 'growing', 'without', 'synthetic', 'chemicals', 'masumoto', 'found', 'looking', 'agriculture', 'texts', 'written', 'world', 'war', 'ii', 'hot', 'seat', 'brendan', 'shanahan', 'wants', 'play', 'hockey', 'sometimes', 'hard', 'guy', 'cost', 'st', 'louis', 'blues', 'scott', 'stevens', 'council', 'scheduled', 'vote', 'whether', 'join', 'santa', 'cruz', 'county', 'cities', 'watsonville', 'scotts', 'valley', 'making', 'cigarettes', 'tobacco', 'harder', 'minors', 'obtain', 'banning', 'sale', 'products', 'vending', 'machines', 'would', 'hard', 'things', 'walk', 'away', 'ones', 'relied', 'rich', 'baby', 'boomers', 'ones', 'see', 'hard', 'time', 'mariel', 'hemingway', 'box', 'papa', 'hard', 'act', 'follow', 'appearance', 'age', '17', 'woody', 'allen', 'manhattan', 'made', 'star', 'none', 'subsequent', 'films', 'hit', 'hemingway', 'took', 'leave', 'screen', 'mother', 'really', 'hard', 'put', 'words', 'get', 'hopes', 'dashed', 'time', 'time', 'hard', 'tell', 'whether', 'isolated', 'incident', 'something', 'pretty', 'hard', 'go', 'knocking', 'people', 'doors', 'interrupting', 'privacy', 'find', 'wrong', 'money', 'especially', 'tight', 'country', 'rural', 'elderly', 'find', 'health', 'care', 'expensive', 'harder', 'get', 'city', 'agriculture', 'department', 'researchers', 'reported', 'today', 'even', 'though', 'halloween', 'time', 'weird', 'supernatural', 'hard', 'believe', 'scary', 'recession', 'remedy', 'suddenly', 'gained', 'popularity', 'congress', 'thrive', 'stress', 'deadlines', 'create', 'hard', 'time', 'concentrating', 'tasks', 'without', 'cynical', 'age', '30-second', 'hit', 'spots', 'hard', 'remember', 'local', 'politics', 'brimming', 'idealism', 'e', 'hard', 'going', 'come', 'nathan', 'snyder', 'technical', 'director', 'ralph', 'parsons', 'co', 'giant', 'southern', 'california', 'engineering', 'firm', 'notion', 'ship', 'alaska', 'water', 'california', 'come', 'potential', 'buyers', 'learn', 'hazards', 'home', 'even', 'harder', 'sell', 'plenty', 'bitter', 'going', 'hard', 'time', 'trusting', 'another', 'woman', 'hard', 'describe', 'exactly', 'place', 'hard', 'find', 'hard', 'take', 'qualifications', 'hard', 'check', 'consumer', 'groups', 'california', 'advocates', 'nursing', 'home', 'reform', 'never', 'registered', 'complaint', 'nurses', 'trained', 'overseas', 'hard', 'believe', 'librarians', 'always', 'decide', 'questions', 'budgets', 'decline', 'choice', 'becomes', 'harder', 'pretty', 'hard', 'believe', 'given', 'position', 'deputy', 'director', 'time', 'plummer', 'cal', 'walk-on', 'linebacker', 'gary', 'plummer', 'made', 'pros', 'hard', 'way', 'watching', 'serrano', 'another', 'repopulated', 'town', 'hard', 'imagine', 'settling', 'life', 'peasant', 'slapping', 'tortillas', 'scrubbing', 'clothes', 'long', 'birds', 'migrate', 'third', 'world', 'countries', 'still', 'using', 'harmful', 'pesticides', 'hard', 'far', 'efforts', 'go', 'erwin', 'vices', 'hard', 'give', 'know', 'danilov', 'romero', 'hard', 'act', 'anyone', 'follow', 'fund-raising', 'difficult', 'getting', 'harder', 'hard', 'get', 'accurate', 'figure', 'hard', 'put', 'finger', 'went', 'wrong', 'friday', 'whether', 'night', 'something', 'essentially', 'wrong', 'manhattan', 'transfer', 'trying', 'road', 'time', '1940', 'lamarr', 'whose', 'first', 'husband', 'austrian', 'weapons', 'mogul', 'came', 'idea', 'making', 'radio', 'guidance', 'system', 'torpedoes', 'harder', 'jam', 'found', 'hard', 'way', 'hard', 'explain', 'anti-semitism', 'thousands', 'years', 'history', 'simplest', 'response', 'found', 'tell', 'oftentimes', 'people', 'understand', 'fear', 'heard', 'many', 'horror', 'stories', 'friends', 'industry', 'hard', 'deal', 'go', 'talk', 'try', 'steal', 'secrets', 'hammer', 'get', 'got', 'hard', 'see', 'got', 'hunt', 'older', 'technologies', 'cruder', 'harder', 'use', 'especially', 'dos', 'side', 'many', 'low', 'clouds', 'coming', 'hard', 'sun', 'burn', 'time', 'air', 'warm', 'much', 'nelsen', 'explained', 'hard', 'let', 'go', 'something', 'love', 'something', 'know', 'good', 'florida', 'court', 'decisions', 'suggest', 'obstruction', 'charge', 'would', 'hard', 'prove', 'someone', 'return', 'police', 'phone', 'calls', 'even', 'proven', 'person', 'knew', 'police', 'wanted', 'speak', 'hard', 'believe', 'brokaw', 'survey', 'survey', 'shows', 'emergency', 'child', 'care', 'hardest', 'find', 'barbara', 'reisman', 'executive', 'director', 'child', 'care', 'action', 'campaign', 'national', 'advocacy', 'group', 'hard', 'evaluate', 'speedometer', 'located', 'dead-center', 'dash', 'hard', 'see', 'first', 'time', 'add', 'redwood', 'soil', 'conditioner', 'chore', 'soil', 'hard', 'spade', 'harder', 'raise', 'big', 'healthy', 'blooming', 'plants', 'weak', 'sickly', 'little', 'things', 'fact', 'easier', 'wish', 'saint', 'saints', 'hard', 'live', 'sour', 'old', 'person', 'work', 'devil', 'hard', 'back', \"'feels\", 'good', 'granados', 'moving', 'shelter', 'hard', 'joel', 'become', 'worried', 'remote', 'find', 'hard', 'believe', 'santa', 'clara', 'county', 'transit', '144', 'people', 'percent', 'county', 'population', 'ride', 'bus', 'weekdays', 'national', 'taxpayers', 'union', 'hard', 'imagine', 'inappropriate', 'use', 'taxpayer', 'funds', 'getting', 'jazz', 'sites', 'hard', 'hard', 'get', 'games', 'school', 'district', 'longer', 'carrying', 'blue', 'cross', 'insurance', 'hard', 'correspond', 'usa', 'lightning', 'field', 'harder', 'road', 'particularly', 'viewers', 'seen', 'ancient-curse', 'movies', 'need', 'lifetime', 'mountain', 'view', '80', 'percent', 'residents', 'kids', 'school', 'money', 'hard', 'come', 'championship', 'hard', 'predict', 'think', 'would', 'disappointed', 'finish', 'somewhere', 'top', 'four', 'hard', 'imagine', 'magnitude', 'misery', 'poorer', 'california', 'counties', 'states', 'hardest', 'part', 'parents', 'sticking', 'attack', 'plan', 'hard', 'time', 'getting', 'romania', 'time', 'harder', 'thomas', 'defenders', 'struggled', 'day', 'limited', 'success', 'suggest', 'kind', 'twisted', 'motive', 'hill', 'might', 'telling', 'monstrous', 'lies', 'warriors', 'assistant', 'coach', 'pattie', 'mcdaniel', 'lost', 'game', 'would', 'hard', 'recover', 'rest', 'match', 'hard', \"'we\", 'stand', 'quite', 'glamorous', 'snazzy', 'michael', \"'neill\", 'picture', 'ran', 'april', 'vanity', 'fair', 'hard', 'write', 'report', 'raise', 'three', 'children', 'talk', 'husband', 'espresso', 'brown', 'hair', 'always', 'swinging', 'around', 'head', 'like', 'food', 'orders', 'short-order', 'cook', 'wheel', 'miss', 'delaney', 'get', 'authentic', 'accents', 'young', 'mr', 'bart', 'get', 'large', 'number', 'good', 'tunes', 'traditional', 'quarters', 'found', 'hard', 'come', 'lately', 'hard', 'boring', 'subject', 'william', 'burroughs', 'jack', 'kerouac', 'neal', 'cassady', 'hard', 'believe', 'large-enough', 'late-night', 'audience', 'already', 'hooked', 'arsenio', 'johnny', 'give', 'much', 'time', 'practice', 'way', 'go', 'court', 'think', 'hard', 'figure', 'situation', 'involving', 'sexual', 'harassment', 'becoming', 'unbearable', 'hard', 'decision', 'think', 'better', 'leave', 'coaching', 'young', 'turks', 'odd', 'person', 'hard', 'time', 'child', 'another', 'query', 'higher', 'rate', 'fussy', 'babies', 'pamela', 'clark', 'coordinator', 'county', 'perinatal', 'substance', 'abuse', 'program', 'whether', 'drugs', 'environment', 'hard', 'hard', 'dispose', 'l', 'mess', 'bank', 'crisis', 'followed', 'garment', 'writes', 'long', 'refuse', 'address', 'nonpersonal', 'structural', 'factors', 'distorted', 'deposit', 'insurance', 'system', 'underlay', 'crisis', 'first', 'place', 'thought', 'calgary', 'would', 'harder', 'teams', 'beat', 'patients', 'hard', 'time', 'tonight', 'lewiston', 'wife', 'hard', 'enough', 'write', 'cop', 'show', 'going', 'deal', 'lifestyles', 'moral', 'values', 'rather', 'leave', 'church', 'give', 'learned', 'whole', 'truth', 'hard', 'way', 'women', 'involved', 'preacher', 'started', 'planning', '1992', 'baseball', 'draft', 'hard', 'would', 'pinpoint', '15', 'elite', 'names', 'hard', 'road', 'lies', 'ahead', 'good', 'start', 'hard', 'make', 'wines', 'kind', 'money', 'really', 'looking', 'increase', 'numbers', 'much', 'make', 'better', 'wines', 'key', 'varietals', 'best', 'produced', 'area', 'winning', 'hard', 'win', 'game', 'manager', 'tony', 'la', 'russa', 'hard', 'decisions', 'make', 'next', 'days', 'later', 'gratifying', 'note', 'set', 'solidly', 'hard', 'remove', 'time', 'came', 'two', 'months', 'shuttling', 'across', 'mideast', 'four', 'different', 'trips', 'learned', 'hard', 'way', 'persian', 'gulf', 'war', 'yet', 'given', 'birth', 'new', 'era', 'arab-israeli', 'relations', 'hansen', 'bill', 'aims', 'ending', 'abuses', 'small-business', 'market', 'become', 'pervasive', 'hard', 'insurance', 'companies', 'compete', 'without', 'engaging', 'hard', 'leave', 'school', 'friends', 'hard', 'approach', 'somebody', 'level', 'advice', 'informal', 'sessions', 'easiest', 'watching', 'seen', 'something', 'may', 'nothing', 'anyway', 'sometimes', 'get', 'start', 'like', 'ian', 'hard', 'keep', 'going', \"'meara\", 'lives', 'near', 'baker-finch', 'orlando', 'fla', 'close', 'friends', 'suspension', 'disbelief', 'may', 'little', 'harder', 'year', 'search', 'hard', 'chance', 'winning', 'invites', 'comparison', 'lottery', 'still', 'may', 'hard', 'viewers', 'see', 'light', 'quite', 'loving', 'mom', 'boss', 'watching', 'feed', 'arsenic', 'daughter', 'wife', 'mother', 'murderer', 'q', 'hard', 'someone', 'like', 'read', 'single', 'note', 'music', 'write', 'choral', 'work', 'problem', 'hard', 'figure', 'preacher', 'delivered', 'scorching', 'sermonettes', 'use', 'drugs', 'jesse', 'jackson', 'finding', 'hard', 'shake', 'addiction', 'would', 'make', 'harder', 'discriminate', 'hiring', 'employing', 'promoting', 'hard', 'time', 'somberly', 'crafted', 'accordance', 'science', 'found', 'safe', 'lawyers', 'proven', 'hardest', 'litigate', 'assistant', 'u', 'attorney', 'leland', 'altschuler', 'white', 'might', 'hard', 'time', 'youngster', 'least', 'childhood', 'hard', 'rock', \"'n\", 'roll', 'really', 'politically', 'correct', 'burum', 'agrees', 'many', 'schedule', 'labels', 'collection', 'boxes', 'los', 'gatos', 'hard', 'read', 'critical', 'moment', 'surprising', 'asking', 'hard', 'questions', 'institution', 'leadership', 'harris', 'believes', 'daughter', 'death', 'harder', 'wife', 'exam', 'preoccupied', 'wells', 'executives', 'weeks', 'hurt', 'san', 'francisco', 'bank', 'stock', 'price', 'outcome', 'hard', 'anyone', 'predict', 'recent', 'years', 'gourmet', 'editors', 'simplified', 'menus', 'overcome', 'fascination', 'hard', 'to-get', 'ingredients', 'vice', 'president', 'hard', 'position', 'make', 'mark', 'remain', 'loyal', 'president', 'controlling', 'mistletoe', 'hard', 'attaches', 'tree', 'vascular', 'system', 'part', 'carries', 'water', 'nutrients', 'parts', 'tree', 'gets', 'easier', 'going', 'harder', 'kim', 'every', 'year', 'number', 'toys', 'become', 'hard', 'to-find', 'best', 'sellers', 'tried', 'think', 'back', 'hard', 'brutality', 'terrible', 'grief', 'families', 'stayed', 'kuwait', 'nature', 'accidents', 'hard', 'violations', 'state', 'safety', 'codes', 'could', 'contributing', 'factors', 'remember', 'hard', 'find', 'scud', 'missiles', 'iraq', 'wonder', 'hard', 'make', 'putt', 'hard', 'put', 'price', 'rarity', 'way', 'base', 'jim', 'palmer', 'comeback', 'bid', 'hard', 'take', 'seriously', 'hard', 'enough', 'set', 'five', 'priorities', 'instead', 'chicago', 'san', 'francisco', 'dallas', 'new', 'orleans', 'others', 'morris', 'hard', 'consider', 'perfume-free', 'air', 'matter', 'anyone', 'civil', 'rights', 'auto', 'exhaust', 'coming', 'every', 'door', 'hard', 'believe', 'roger', 'craig', 'afterward', 'odd', 'many', 'kitchen', 'instruments', 'replaced', 'motorized', 'version', 'effective', 'much', 'bulkier', 'harder', 'wash', 'hard', 'describe', 'complete', 'utter', 'ineptness', 'oregon', 'squad', 'give', 'old', 'college', 'try', 'ducks', 'fumbled', 'six', 'times', 'arena', 'politics', 'thomas-anita', 'f', 'hill', 'drama', 'played', 'hard', 'whose', 'name', 'ends', 'dirty', 'ends', 'smelling', 'like', 'well', 'smelling', 'much', 'hard', 'briefly', 'thing', 'girls', 'share', 'new', 'realization', 'taking', 'care', 'baby', 'harder', 'expected', 'travel', 'results', 'hard', 'top', 'silicon', 'valley', 'delegation', 'international', 'gay', 'lesbian', 'human', 'rights', 'commission', 'meetings', 'leningrad', 'moscow', 'earlier', 'month', 'subject', 'harder', 'write', 'truthfully', 'walsh', 'staff', 'fail', 'hard', 'see', 'similarly', 'immunized', 'defendant', 'could', 'ever', 'successfully', 'prosecuted', 'hard', 'imagine', 'would', 'happen', 'example', 'simmons', 'hard', 'time', 'several', 'prep', 'schools', 'attended', 'tells', 'much', 'playwright', 'tony', 'kushner', 'learned', 'hard', 'way', 'corneille', 'name', 'got', 'second', 'billing', 'hartford', 'conn', 'crux', 'problem', 'economy', 'turning', 'point', 'soemewhere', 'recession', 'recovery', 'hard', 'get', 'clear', 'reading', 'things', 'stand', 'new', 'shorts', 'typically', 'cut', 'full', 'like', 'skirt', 'often', 'hard', 'tell', 'difference', 'harder', 'sleep', 'putting', 'everything', 'agency', 'may', 'hard', 'pull', 'politically', 'eastin', 'acknowledged', 'boys', 'would', 'like', 'much', 'girls', 'think', 'pretty', 'hard', 'try', 'figure', 'kill', 'bad', 'guys', 'life', 'hard', 'forget', 'sang', 'high', 'voices', 'hard', 'balance', 'people', 'incarcerated', 'rikers', 'island', 'even', 'bouncing', 'check', 'would', 'prefer', 'innermost', 'circle', 'hades', 'must', 'like', 'known', 'child', 'molester', 'hard', 'comprehend', 'hard', 'find', 'recognition', 'hard', 'come', 'scarce', 'ever', 'kousky', 'noted', 'similarity', 'year', '1982', 'presence', 'cloud', 'volcanic', 'debris', 'air', 'making', 'hard', 'use', 'satellite', 'measurements', 'determine', 'water', 'temperature', 'tonga', 'best', 'beach', 'pangai', 'ha', \"'apai\", 'tonga', 'promised', 'would', 'journalistic', 'juices', 'hard', 'control', 'hard', 'things', 'bizarre', 'odd', 'everybody', 'else', 'direction', 'bathrooms', 'powder', 'rooms', 'little', 'harder', 'tuck', 'away', 'pipes', 'hidden', 'building', 'codes', 'govern', 'placement', 'fixtures', 'hard', 'aging', 'harder', 'madonna', 'grammy-winning', 'singer-songwriter', 'bonnie', 'raitt', 'still', 'gazing', 'around', 'deserted', 'shopping', 'mall', 'hard', 'see', 'driven', 'poor', 'store', 'owner', 'edge', 'merrily', 'milbert', 'san', 'jose', 'rose', 'garden', 'area', 'aesthetics', 'sturdiness', 'excellence', 'cooking', 'caused', 'lay', '500', 'hard', 'to-find', '1947', 'wedgwood', 'six', 'burners', 'two', 'ovens', 'two', 'broilers', 'feeling', 'get', 'going', 'hard', 'winter', 'mcentee', 'going', 'face', 'rather', 'hard', 'winter', 'ambassador', 'viktor', 'komplektov', 'hard', 'men', 'friends', 'working', 'president', 'bay', 'area', 'pagan', 'assemblies', 'christian', 'helped', 'found', 'organization', 'hard', 'pagans', 'find', 'pagans', 'friends', 'find', 'hard', 'categorize', 'ardanelle', 'dishon', 'quite', 'know', 'outcome', 'episode', 'except', 'geraldo', 'rivera', 'last', 'heard', 'muttering', 'well', 'good', 'guests', 'hard', 'get', 'still', 'hard', 'robinson', 'achieve', 'bo', 'jackson', 'level', 'endorser', 'hardest', 'decision', 'ever', 'make', 'system', 'makes', 'hard', 'board', 'able', 'ask', 'hard', 'questions', 'ask', 'information', 'certain', 'way', 'understands', 'hard', 'time', 'keeping', 'eric', 'lindros', 'sideshow', 'feel', 'alone', 'still', 'accepting', 'help', 'hard', 'hill', 'convenient', 'silence', 'hard', 'maintain', 'eat', 'stuff', 'hard', 'eat', 'store-bought', 'hardest', 'job', 'embree', 'talking', 'way', 'past', 'police', 'lines', 'either', 'way', 'hard', 'beat', 'flavor', 'well', 'ease', 'preparation', 'would', 'call', 'lifestyle', 'hard', 'square', 'class-war', 'precepts', 'making', 'sort', 'limousine', 'socialist', 'stakes', 'high', 'questions', 'hard', 'may', 'take', 'consideration', 'hard', 'case', 'seems', 'require', 'either', 'action', 'employing', 'economic', 'pressure', 'else', 'action', 'would', 'seem', 'violate', 'principles', 'set', 'forth', 'timberwolves', '112', 'kings', '94', 'sacramento', 'entered', 'nba', 'record', 'book', 'hard', 'way', 'losing', '35th', 'straight', 'road', 'game', 'third-quarter', 'cold', 'spell', 'doomed', 'loss', 'minnesota', 'minneapolis', 'councilman', 'steve', 'blanton', 'los', 'gatos', 'property', 'tax', 'revenue', 'represents', 'small', 'overall', 'amount', 'santa', 'clara', 'county', 'find', 'hard', 'look', 'situation', 'critical', 'dollars', 'county', 'makes', 'hard', 'king', 'surveys', 'consumption', 'data', 'show', 'major', 'diet', 'changes', 'right', 'changes', 'hard', 'make', 'check', 'red', 'meat', 'sales', 'past', 'years', 'consumption', 'grain', 'fruits', 'vegetables', 'rise', 'needed', 'win', 'seem', 'make', 'hard', 'either', 'way', 'reason', 'craig', 'rosen', 'find', 'patience', 'hard', 'come', 'background', 'draft', 'lottery', 'picks', 'guesswork', 'hard', 'know', 'college', 'kid', 'going', 'nba', 'slaps', 'sneakers', 'pro', 'floor', 'hard', 'retire', 'plays', 'highly', 'formalized', 'waiting', 'godot', 'endgame', 'krapp', 'last', 'tape', 'would', 'hard', 'find', 'hard', 'knock', 'smile', 'face', 'would', 'hard', 'question', 'best', 'player', 'game', 'right', 'hardest', 'thing', 'barrientez', '23', 'mental', 'health', 'system', 'since', 'age', '12', 'suffers', 'mood', 'swings', 'condition', 'controlled', 'medication', 'everyone', 'connected', 'foundry', 'worked', 'hard', 'identify', 'additional', 'business', 'opportunities', 'within', 'outside', 'company', 'deere', 'chairman', 'hans', 'becherer', 'news', 'release', 'girls', 'earn', 'esteem', 'way', 'boys', 'likely', 'sweat', 'hard', 'subjects', 'counts', 'objective', 'mastery', 'without', 'program', 'hard', 'council', 'know', 'community', 'wants', 'would', 'hard', 'time', 'living', 'playing', 'eight', 'nine', 'years', 'minors', 'getting', 'damn', 'close', 'never', 'getting', 'claim', 'hard', 'prove', 'hard', 'american', 'worker', 'justify', 'times', 'rate', 'mexican', 'worker', 'know', 'americans', 'willing', 'work', 'tenth', 'current', 'pay', 'hard', 'take', 'seriously', 'government', 'spent', '600', 'apiece', 'toilet', 'seats', 'harder', 'reduce', 'salt', 'content', 'hurt', 'municipal', 'golf', 'course', 'effluent', 'used', 'experimentally', 'always', 'hard', 'swallow', 'organized', 'fraud', 'rings', 'file', 'tens', 'thousands', 'claims', 'annually', 'soft-tissue', 'injuries', 'back', 'neck', 'sprains', 'hard', 'prove', 'medically', 'tower', 'celebrates', '50th', 'anniversary', 'today', 'hard', 'ignore', 'contributions', 'scholars', 'made', 'conservative', 'causes', 'country', 'nowhere', 'startling', 'reagan', 'administration', 'hard', 'ones', 'duck', 'jane', 'pauley', 'interview', 'pete', 'rose', 'telecast', 'sunday', 'asks', 'charlie', 'hustle', 'agreeing', 'interview', 'public', 'relations', 'hustle', 'add', 'list', 'black', 'characters', 'featured', 'two', 'new', 'dramas', 'fly', 'away', 'cleaning', 'woman', 'homefront', 'chauffeur', 'janitor', 'son', 'get', 'televised', 'picture', 'black', 'life', 'moving', 'good', 'times', 'harder', 'times', 'hard', 'lesson', 'awaits', 'many', 'nation', '45', 'million', 'schoolchildren', 'teachers', 'fall', 'make', 'less', 'today', 'mfa', 'julian', 'harder', 'tell', 'suit', 'italian', 'french', 'american', 'moreover', 'general', 'emphasis', 'short-term', 'gains', 'based', 'quarterly', 'reports', 'makes', 'hard', 'managers', 'except', 'large', 'companies', 'invest', 'long-term', 'research', 'town', 'archives', 'watched', 'mayor', 'esteemed', 'prof', 'juckenack', 'particularly', 'hard', 'crack', 'concludes', 'premiums', 'hard', 'swallow', 'flavor', 'might', 'take', 'little', 'getting', 'used', 'unpleasant', 'flavor', 'hard', 'define', 'light', 'experience', 'fruits', 'gardener', 'found', 'hard', 'way', 'weekend', 'los', 'altos', 'leaf', 'blowers', 'quiet', '94', 'ray', 'gun', 'slow', 'gun', 'even', 'little', 'bit', 'harder', 'kuehl', 'well-marketed', 'well-received', 'new', 'team', 'sharks', 'awfully', 'hard', 'time', 'working', 'cable', 'deal', 'sportschannel', 'network', 'sexual', 'harassment', 'may', 'difficult', 'define', 'making', 'hard', 'come', 'simple', 'rules', \"'ts\", 'harass', 'sexually', 'without', 'violating', 'title', 'vii', '1964', 'civil', 'rights', 'act', 'harder', 'wonder', 'guiding', 'lights', 'george', 'bush', 'accelerating', 'national', 'debt', 'junk', 'bonds', 'losses', 'twice', 'bank', 'failures', 'occurred', 'depression', 'much', 'mess', 'created', 'democrats', 'decide', 'hardest', 'democrats', 'arithmetic', 'gives', 'upper', 'hand', 'east', 'side', 'union', 'high', 'school', 'district', 'figures', 'cut', 'class', 'every', 'senior', 'day', 'making', 'harder', 'take', 'music', 'art', 'drama', 'even', 'foreign', 'language', 'going', 'hard', 'thing', 'look', 'guys', 'going', 'something', 'like', 'like', 'milosevic', 'yeltsin', 'prefers', 'issuing', 'decrees', 'harder', 'task', 'persuasion', 'coming', 'years', 'hard', 'believe', 'low', 'bond', 'yields', 'flip', 'side', 'rising', 'bond', 'prices', 'get', 'gary', 'conway', 'president', 'conway', 'williams', 'foster', 'menlo', 'park', 'add', 'sutcliffe', 'cubs', 'veteran', 'pitcher', 'underwent', 'shoulder', 'surgery', 'last', 'year', 'found', 'hard', 'suppress', 'emotion', 'thursday', 'comeback', 'victory', 'pretty', 'girls', 'around', 'hard', 'time', 'although', 'herd', 'individual', 'yields', 'surpassed', 'friesian', 'cows', 'country', 'would', 'hard', 'find', 'many', 'cows', 'uniform', 'excellence', 'anywhere', 'else', 'pretty', 'hard', 'redeem', 'committing', 'three', 'errors', 'bungling', 'double-play', 'attempt', 'san', 'jose', 'giants', 'second', 'baseman', 'frank', 'carey', 'came', 'close', 'get', 'game', 'california', 'league', 'northern', 'division', 'playoff', 'series', 'municipal', 'stadium', 'saturday', 'night', 'thing', 'gains', 'productivity', 'important', 'element', 'inflation', 'equation', 'hard', 'achieve', 'periods', 'declining', 'economic', 'activity', 'find', 'hard', 'believe', 'rolm', 'could', 'inconsiderate', 'ruin', 'beautiful', 'peaceful', 'family', 'event', 'gone', 'kid', 'fought', 'taking', 'college', 'prep', 'classes', 'thinking', 'going', 'college', 'make', 'hard', 'young', 'man', 'grade', 'average', 'sometimes', 'spends', 'lunch', 'library', 'wants', 'doctor', 'hard', 'road', 'freedom', 'led', 'drought', 'famine', 'u', 'opposition', 'billion-dollar', 'soviet', 'military', 'slaughter', 'small', 'classes', 'teachers', 'teach', 'maintain', 'control', 'harder', 'kids', 'hide', 'back', 'row', 'john', 'decided', 'give', '23-year', 'career', 'carpenter', 'part', 'arthritis', 'part', 'consistent', 'work', 'hard', 'come', 'hear', 'real', 'hard', 'vance', 'returned', 'bay', 'area', 'working', 'nebraska', 'year', 'child', 'may', 'disoriented', 'hard', 'awaken', 'calm', 'usually', 'returns', 'sleep', 'quickly', 'little', 'memory', 'event', 'next', 'day', 'far', 'mbari', 'scientific', 'contribution', 'hard', 'gauge', 'sure', 'hard', 'pay', 'utilities', 'rent', 'groceries', 'reality', 'though', 'attracting', 'shoppers', 'downtown', 'san', 'jose', 'even', 'validation', 'come-ons', 'still', 'hard', 'trying', 'sell', 'new', 'shake', 'roofs', 'california', 'hill-dwellers', 'spoke', 'degree', 'knowledge', 'experience', 'currency', 'hard', 'overlook', 'hard', 'way', 'fight', 'war', 'thomas', 'without', 'making', 'disastrous', 'mistakes', 'became', 'little', 'harder', 'purchase', 'house', 'monday', 'especially', 'first-time', 'buyers', 'making', 'transition', 'middle', 'east', 'bay', 'area', 'hard', 'added', 'unfortunately', 'display', 'hard', 'read', 'batteries', 'last', 'long', 'enough', 'processor', 'obsolete', 'whole', 'thing', 'weighs', 'much', 'business', 'hard', 'enough', 'without', 'council', 'telling', 'serve', 'serve', 'peterson', 'hard', 'see', 'something', 'color', 'sand', 'shadows', 'thing', 'would', 'easy', 'spot', 'red', 'orange', 'call', 'squeamish', 'found', 'hard', 'work', 'appetite', 'point', 'many', 'opportunities', 'hard', 'get', 'continuity', 'redskins', 'coach', 'joe', 'gibbs', 'box', 'story', 'ekstrom', 'assessment', 'season', 'gymnastics', 'long', 'hard', 'come', 'back', 'juveniles', 'hard', 'place', 'sally', 'brennan', 'executive', 'director', 'cupertino', 'community', 'services', 'non-profit', 'social', 'services', 'agency', 'worked', 'courts', 'alternative', 'sentencing', 'program', 'sidewalk', 'stained', 'oil', 'may', 'hard', 'visualize', 'sections', 'appear', 'sidewalk', 'actually', 'vehicle', 'parking', 'pretty', 'hard', 'believe', 'seemingly', 'always', 'motion', 'hard', 'imagine', 'stocky', 'hurricane', 'rosenberg', 'youth', 'moving', 'basketball', 'court', 'point', 'guard', 'called', 'plays', 'traders', 'biotech', 'group', 'hit', 'investors', 'take', 'profits', 'amid', 'realization', 'recent', 'rise', 'group', 'based', 'speculation', 'might', 'hard', 'bear', \"'abe\", 'hard', 'man', 'fool', 'ivins', 'writing', 'neighborhoods', 'many', 'times', 'descriptions', 'beer-gut', 'belly', 'got', 'changed', 'protuberant', 'abdomen', 'americans', 'sensed', 'making', 'hard', 'way', 'demanding', 'world', 'sometimes', 'proceeding', 'awkwardly', 'sometimes', 'even', 'cheating', '87', 'percent', \"'good\", 'drivers', 'reasons', 'hard', 'comprehend', 'guess', 'ought', 'sometimes', 'get', 'started', 'stadium', 'hard', 'resist', 'hard', 'imagine', 'tanned', 'muscular', 'man', 'kicking', 'soccer', 'ball', 'athletic', 'fields', 'mountain', 'view', 'los', 'gatos', 'six', 'days', 'week', 'ever', 'could', 'uncoordinated', 'hard', 'move', 'roger', 'angell', '70', 'baseball', 'writer', 'fiction', 'editor', 'hard', 'back', 'besides', 'hard', 'pessimistic', 'museum', 'opening', 'addition', 'give', 'almost', 'much', 'gallery', 'space', 'new', 'york', 'famed', 'whitney', 'museum', 'american', 'art', 'harder', 'two', 'battles', 'course', 'india', 'since', 'institution', 'caste', 'momentum', 'three', 'thousand', 'years', 'history', 'behind', 'hard', 'miss', 'river', 'inn', 'first', 'outpost', 'come', 'carmel', 'sure', 'sign', 'officially', 'big', 'sur', 'check', 'ducts', 'already', 'insulated', 'harder', 'find', 'ducts', 'leak', 'hard', 'far', 'nikkei', 'go', 'could', 'eventually', 'sink', 'low', '23', 'points', 'hosaku', 'endo', 'trader', 'dresdner', 'securities', 'loretta', 'corrales', 'san', 'jose', 'fiscal', 'fiascoes', 'hold', 'economics', 'lessons', 'hard', 'economics', 'lesson', 'learned', 'federal', 'state', 'local', 'agencies', 'simply', 'spend', 'money', 'real', 'solution', 'get', 'rid', 'guns', 'circulation', 'make', 'lot', 'harder', 'get', 'new', 'ones', 'federation', 'spokesman', 'ian', 'barnes', 'hard', 'accept', 'validity', 'seles', 'medical', 'excuse', 'continued', 'play', 'new', 'jersey', 'event', 'dedication', 'cause', 'hard', 'top', 'char', 'krumwiede', 'director', 'volunteers', 'silicon', 'valley', 'charity', 'ball', 'newly-released', 'stanford', 'study', 'homeless', 'families', 'helpful', 'description', 'hard', 'lives', 'homeless', 'parents', 'children', 'man', 'man', 'hard', 'romantic', 'really', 'hard', 'joke', 'speaker', 'brown', 'vasconcellos', 'closest', 'allies', 'assembly', 'meetings', 'hard', 'schedule', 'city', 'employees', 'spoke', 'candidly', 'past', 'seem', 'less', 'forthcoming', 'presence', 'boss', 'admit', 'monterey', 'peninsula', 'california', 'better', 'inner', 'city', 'pretty', 'hard', 'case', 'maintain', 'sense', 'self-worth', 'sure', 'going', 'eat', 'sleep', 'go', 'bathroom', 'left', 'jews', 'hard', 'faith', 'mother', 'working', 'woman', 'tell', 'professor', 'banner', 'motherhood', 'much', 'harder', 'work', '9', '5', 'job', 'hard', 'san', 'jose', 'state', 'communicate', 'coach', 'berry', 'thanks', 'menu', 'system', 'hard', 'imagine', 'capital', 'gainz', 'appealing', 'new', 'small', 'investor', 'niles', 'special', 'ground', 'beef', 'onions', 'spinach', 'swiss', 'cheese', '3', '95', 'real', 'meal', 'set', 'hard', 'day', 'processing', 'words', 'dealing', 'concepts', 'mention', 'real', 'work', 'may', 'hard', 'feeney', 'hard', 'things', 'first', 'go', 'wrong', '25-year-old', 'castro', 'valley', 'chef', 'hardest', 'part', 'take', 'break', 'something', 'fun', 'come', 'back', 'rest', 'sense', 'power', 'charisma', 'hard', 'define', 'changing', 'hits', 'acoustic', 'arrangement', 'current', 'tour', 'hard', 'thought', 'would', 'oates', 'top', 'san', 'jose', 'computer', 'engineer', 'eric', 'larsen', 'may', 'survived', 'shark', 'attack', 'surfing', 'davenport', 'july', 'economy', 'bite', 'harder', 'dodge', 'highway', 'see', 'outlet', 'center', 'sign', 'hard', 'see', 'center', 'hours', 'hard', 'hard', 'think', 'leaving', 'people', 'place', 'derived', 'enormous', 'satisfaction', 'buckley', 'impressed', 'patience', 'determination', 'may', 'fully', 'realize', 'hard', 'go', 'home', 'really', 'hard', 'tell', 'hard', 'hope', 'take', 'notice', 'cheerily', 'quasimodo', 'outfit', 'though', 'hard', 'way', 'harder', 'point', 'fingers', 'things', 'work', 'king', 'may', 'hard', 'imagine', 'anyone', 'cast', 'abc', 'carter', 'country', 'earning', 'oscar', 'nomination', 'griffith', '1989', 'working', 'girl', 'moving', 'front', 'ranks', 'movie', 'stars', 'example', 'success', 'talented', 'black', 'figures', 'culture', 'industry', 'bill', 'cosby', 'oprah', 'winfrey', 'spike', 'lee', 'arsenio', 'hall', 'simply', 'result', 'hard', 'work', 'excellence', 'result', 'unprecedented', 'openness', 'white', 'america', 'black', 'humanity', 'hard', 'imagine', 'puny', 'fire', 'much', 'trouble', 'starting', 'struggled', 'keep', 'going', 'could', 'create', 'big', 'problem', 'realize', 'million', 'tons', 'wood', 'burned', '700', 'bay', 'area', 'fireplaces', 'stoves', 'winter', 'admitted', 'many', 'failures', 'central', 'planning', 'past', 'years', 'may', 'harder', 'put', 'idea', 'market-oriented', 'economic', 'reform', 'back', 'bottle', 'oftentimes', 'hardest', 'part', 'decorating', 'room', 'putting', 'finishing', 'touches', 'design', 'hard', 'beat', 'timber', 'hunting', 'packing', 'saddle', 'scabbard', 'dallas-based', 'mesa', 'limited', 'partnership', 'lost', '209', 'million', 'last', 'year', 'hard', 'humble', 'hard', 'shoot', 'lost', 'original', 'ending', 'something', 'connors', 'know', 'went', 'recent', 'rough', 'cut', 'viewing', 'film', 'essential', 'active', 'persistent', 'times', 'personal', 'involvement', 'president', 'may', 'hard', 'sustain', 'domestic', 'international', 'agenda', 'compete', 'time', 'attention', 'never', 'hard', 'hosin', 'lose', 'sport', 'hard', 'time', 'getting', 'together', 'hard', 'anything', 'bulletin-board', 'world', 'reached', 'level', 'private', 'somehow', 'takes', 'public', 'quality', 'rose', 'look', 'victory', 'red', 'test', 'vehicle', 'hard', 'miss', 'sure', 'hard', 'accept', 'fact', 'spending', 'years', 'studying', 'take', 'challenging', 'careers', 'architect', 'communications', 'professional', 'marketing', 'executive', 'actual', 'position', 'offered', 'drinking', 'fountain', 'gum', 'remover', 'brother', 'told', 'heard', 'electronic', 'technician', '8mm', 'camcorders', 'harder', 'costly', 'fix', 'time', 'became', 'frontman', 'administration', 'efforts', 'stigmatize', 'civil', 'rights', 'bills', 'quota', 'legislation', 'overturn', 'constitutional', 'protections', 'arbitrary', 'search', 'seizure', 'hard', 'recognize', 'man', 'hard', 'want', 'notably', 'malone', 'repeatedly', 'contends', 'angry', 'securities', 'exchange', 'commission', 'went', 'way', 'give', 'mips', 'hard', 'time', 'badgering', 'company', 'endless', 'questions', 'prospectus', 'requesting', 'dozens', 'changes', 'added', 'without', 'financing', 'companies', 'hard', 'time', 'growing', 'point', 'ever', 'qualify', 'bank', 'loans', 'hard', 'stay', 'sad', 'death', 'theodore', 'geisel', 'invented', 'many', 'antidotes', 'poison', 'sadness', 'song', 'features', 'sweet-voiced', 'ball', 'raucous', 'barton', 'call-and-response', 'refrain', 'alone', 'F', 'without', 'love', 'F', 'hard', 'go', 'F', 'nights', 'long', 'producer', 'rebennack', 'plays', 'organ', 'piano', 'percussion', 'guitar', 'album', 'addition', 'santos-killins', 'hard', 'groups', 'take', 'volunteer', 'board', 'members', 'turn', 'effective', 'fund-raisers', 'hardest', 'part', 'things', 'like', 'anticipate', 'much', 'really', 'happen', 'single-parent', 'households', 'mothers', 'two-parent', 'families', 'work', 'outside', 'home', 'harder', 'parents', 'squeeze', 'time', 'meet', 'teachers', 'mineta', 'added', 'hard', 'work', 'place', 'generic', 'lottery', 'officials', 'meanwhile', 'attributed', 'sales', 'declines', 'largely', 'hard', 'economic', 'times', 'nobody', 'knows', 'spare', '200', 'million', 'found', '20', 'percent', 'fee', 'increases', 'hard', 'sell', 'although', 'university', 'california', 'untrammeled', 'legislature', 'going', '40', 'percent', 'hole', 'always', 'hard', 'make', 'par', 'unsettling', 'makes', 'hard', 'know', 'bidding', 'going', 'hard', 'doctor', 'read', 'mris', 'hard', 'find', 'garlic', 'detractor', 'anywhere', 'especially', 'weekend', 'gilroy', 'garlic', 'festival', 'attracts', 'special', 'brand', 'deadheads', 'yes', 'lot', 'mda', 'clients', 'necessarily', 'patients', 'kids', 'know', 'hard', 'become', 'treated', 'self-respecting', 'disabled', 'adult', 'society', 'even', 'occupied', 'iraq', 'hard', 'time', 'finding', 'everything', 'gary', 'milhollin', 'nuclear', 'arms', 'specialist', 'hard', 'want', 'like', 'average', 'people', 'people', 'tried', 'give', 'hard', 'time', 'continue', 'assault', 'door', 'without', 'peripheral', 'vision', 'hard', 'line', 'hound', 'head', 'opening', 'uncouplings', 'civilized', 'even', 'breaking', 'hard', 'kept', 'hearing', 'people', 'complain', 'hard', 'order', 'lunch', 'p', 'asher-tournant', 'former', 'chief', 'chef', 'san', 'francisco', 'carnelian', 'room', 'lunch', 'hour', 'stretches', '5', 'p', 'hard', 'imagine', 'could', 'feel', 'affectionate', 'toward', 'working', 'bills', 'hit-or-miss', 'efforts', 'budget', 'days', 'best', 'exercise', 'patience', 'workers', 'bart', 'cash-handling', 'building', 'irony', 'almost', 'hard', 'bear', 'hard', 'imagine', 'pete', 'wilson', 'without', 'otto', 'bos', 'names', 'hard', 'hear', 'especially', 'rushed', 'congressional', 'aides', 'concede', 'growing', 'possibility', 'final', 'action', 'crime', 'package', 'may', 'delayed', 'start', 'presidential', 'election', 'year', 'compromises', 'often', 'harder', 'reach', 'pinedo', 'learned', 'hard', 'way', 'living', 'hiv', 'roller-coaster', 'ride', 'check', 'new', 'peg', 'system', 'anchoring', 'nets', 'still', 'allows', 'movement', 'posts', 'makes', 'nets', 'much', 'harder', 'dislodge', 'addicted', 'hard', 'quit', 'caitlin', 'kerk', 'spokeswoman', 'lung', 'association', 'arms', 'flailing', 'wind', 'hair', 'hard', 'thought', 'slowed', 'dreadful', 'canter', 'would', 'harder', 'personal', 'things', 'toileting', 'check', 'got', 'future', 'really', 'boxer', 'mickey', 'rourke', 'first', 'bout', 'hard', 'believe', 'future', 'film', 'talking', 'like', 'throw', 'yet', 'hard', 'ride', 'bike', 'craig', 'exactly', 'financial', 'mess', 'foothill-de', 'anza', 'ever', 'got', 'far', 'hard', 'understand', 'single', 'parenting', 'hard', 'beats', 'living', 'man', 'never', 'wrong', 'makes', 'feel', 'like', 'nothing', 'thing', 'done', 'could', 'done', 'better', 'although', 'difficult', 'understand', 'money', 'build', 'could', 'found', 'great', 'depression', 'money', 'repair', 'cracks', 'carving', 'hard', 'find', 'today', 'going', 'hard', 'raising', 'daughter', 'according', 'reports', 'outside', 'support', 'hard', 'come', 'christina', 'others', 'teen', 'success', 'program', 'designed', 'help', 'teen', 'mothers', 'prevent', 'unintended', 'pregnancies', 'motivate', 'stay', 'school', 'teach', 'long', 'short-term', 'life', 'planning', 'skills', 'hard', 'seeing', 'father', 'get', 'taken', 'away', 'starting', 'seeds', 'sounds', 'hard', 'garden', 'small', 'use', 'started', 'seedlings', 'six-packs', 'sometimes', 'simplest', 'dishes', 'hardest', 'dish', 'stand', 'alone', 'naked', 'difficult', 'get', 'people', 'convict', 'someone', 'begin', 'get', 'convict', 'someone', 'good', 'motives', 'good', 'intentions', 'far', 'harder', 'task', 'two-part', 'opener', 'get', 'much', 'feel', 'new', 'folks', 'station', 'without', 'knowing', 'work', 'hard', 'show', 'work', 'icarus', 'speaks', 'younger', 'reader', 'without', 'condescension', 'indeed', 'hard', 'icarus', 'disqualifies', 'stimulating', 'adult', 'reading', 'hard', 'tell', 'rusty', 'holmes', 'might', 'anderson', 'simply', 'match', 'hard', 'damodar', 'shastri', 'priest', 'temple', 'wednesday', 'even', 'huge', 'rise', 'new', 'starts', 'santa', 'clara', 'county', 'many', 'developers', 'still', 'finding', 'hard', 'obtain', 'financing', 'build', 'gets', 'pretty', 'banged', 'kind', 'hard', 'hear', 'harold', 'c', 'simmons', 'rich', 'smart', 'often', 'hard', 'understand', 'testing', 'methods', 'improved', 'east', 'german', 'doctors', 'developed', 'technique', 'known', 'bridging', 'athletes', 'stopped', 'taking', 'steroids', 'several', 'weeks', 'major', 'event', 'replaced', 'drug', 'injections', 'testosterone', 'quickly', 'excreted', 'therefore', 'harder', 'detect', 'seriously', 'pictures', 'dave', 'hard', 'come', 'exactly', 'super', 'serve', 'hard', 'part', 'come', 'forward', 'evidence', 'information', 'harder', 'ignore', 'although', 'journalists', 'shy', 'away', 'citing', 'unnamed', 'sources', 'particularly', 'pivotal', 'rest', 'matthiessen', 'case', 'airtight', 'hard', 'argue', 'anything', 'writes', 'hard', 'ignore', 'vulnerable', 'worker', 'depends', 'boss', 'economic', 'survival', 'know', 'contrast', 'two', 'dark', 'bent', 'figures', 'collecting', 'hard', 'dusty', 'weeds', 'flowering', 'gardens', 'plenty', 'around', 'remained', 'mind', 'eye', 'time', 'put', 'humour', 'even', 'reached', 'magda', 'flat', 'hard', 'sitting', 'able', 'strange', 'truth', '1991', 'deficit', 'probably', 'better', 'sounds', 'would', 'hard', 'sounds', 'terrible', 'bolster', 'president', 'national', 'dry', 'bean', 'council', 'knows', 'people', 'hard', 'talk', 'people', 'kids', 'eating', 'beans', 'reaching', 'agreement', 'projects', 'value', 'whole', 'community', 'long', 'greater', 'miami', 'hardest', 'tasks', 'pool', 'talent', 'smaller', 'reasons', 'hard', 'pinpoint', 'much', 'harder', 'get', 'law', 'school', 'today', 'even', 'six', 'years', 'ago', 'random', 'house', '263', 'pp', '18', '95', 'mark', 'salzman', 'two', 'books', 'reminded', 'following', 'truth', 'often', 'stranger', 'fiction', 'nevertheless', 'fiction', 'harder', 'write', 'finding', 'classes', 'hard', 'terry', 'dicianna', 'chancellor', 'hayward', 'chabot', 'college', 'predicts', 'trying', 'enroll', 'two', 'campuses', 'like', 'shopping', 'russian', 'supermarket', 'hard', 'let', 'go', 'hard', 'imagine', 'president', 'recently', 'stood', 'expansive', 'lawn', 'roman', 'villa', 'declared', 'united', 'states', 'recession', 'regularly', 'shops', 'j', 'c', 'penney', 'hard', 'believe', 'three', 'babies', 'hard', 'time', 'believing', 'almost', '90', 'hard', 'talk', 'radio', 'hard', 'format', 'sell', 'advertisers', 'especially', 'community', 'small', 'businesses', 'cutting', 'corners', 'rebuild', 'earthquake', 'believe', 'hardest', 'task', 'right', 'building', 'consensus', 'among', 'smaller', 'cities', 'counties', 'hard', 'argue', 'kind', 'decisiveness', 'hard', 'admire', 'new', 'hotel', 'sells', 'older', 'wines', 'fair', 'prices', 'albert', 'feels', 'way', 'although', 'hard', 'let', 'go', 'memories', 'old', 'house', 'hard', 'argue', 'desk-top', 'computers', 'boosted', 'individual', 'productivity', 'computer', 'systems', 'create', 'much', 'trouble', 'benefit', 'iraq', 'surprised', 'experts', 'using', 'well-known', 'old-fashioned', 'unclassified', 'hard', 'to-detect', 'technology', 'pursuit', 'highly', 'enriched', 'uranium', 'heart', 'atomic', 'weapon', 'chicago', 'contingent', 'modern', 'critics', 'follow', 'aristotle', 'far', 'direction', 'hard', 'see', 'compare', 'poem', 'another', 'purpose', 'evaluation', 'hard', 'fathom', 'true', 'hard', 'imagine', 'la', 'recherche', 'without', 'charlus', 'yet', 'least', 'arguable', 'proust', 'made', 'charlus', 'womanizer', 'albertine', 'perfectly', 'normal', 'heterosexual', 'girl', 'novel', 'would', 'qua', 'novel', 'neither', 'better', 'worse', 'inside', 'body', 'hard', 'extract', 'causes', 'permanent', 'damage', 'terrible', '1990s', 'hard', 'pull', '1940s', 'blinding', 'passion', 'without', 'falling', 'self-parody', 'awfully', 'hard', 'ballclub', 'like', 'pittsburgh', 'pirates', 'hard', 'tell', 'whether', 'scaffolding', 'marks', 'buildings', 'repairs', 'new', 'construction', 'architecture', 'conforms', 'regardless', 'even', 'city', 'council', 'approves', 'project', 'tonight', 'expected', 'hardest', 'part', 'still', 'come', 'hard', 'screw', 'lid', 'society', 'seen', 'much', 'relative', 'freedom', 'soviet', 'union', 'seen', 'last', 'couple', 'years', 'lyman', 'hard', 'tell', 'like', 'torkelsons', 'really', 'much', 'harder', 'believe', 'david', 'duke', 'believe', 'ted', 'kennedy', 'sensitive', 'concerns', 'women', 'clarence', 'thomas', 'never', 'voiced', 'opinions', 'abortion', 'different', 'problem', 'music', 'much', 'baggage', 'hard', 'find', 'caniparoli', 'choreography', 'first', 'two', 'years', 'even', 'harder', 'prison', 'castillo', 'expected', 'worry', 'somber', 'matters', 'wills', 'early', 'lives', 'hard', 'really', 'learns', 'hard', 'way', 'huntsville', 'pitching', 'coach', 'bert', 'bradley', 'diners', 'hard', 'time', 'spending', '5', '6', 'good', 'full', 'meal', 'somewhat', 'hard', 'time', 'right', 'afterward', 'woodcock', '6-3', '260', 'pound', 'defensive', 'lineman', 'detroit', 'lions', '1976', '1980', 'san', 'diego', 'chargers', \"'80\", \"'81\", 'still', 'hard', 'impressed', 'e', 'calculating', 'loss', 'attorneys', 'fees', 'bit', 'harder', 'check', 'hard', 'flatten', 'pet', 'food', 'tuna', 'cans', 'round', 'lip', 'bottom', 'gets', 'going', 'hard', 'stop', 'thus', 'baker', 'find', 'way', 'resolve', 'question', 'palestinian', 'representation', 'hard', 'see', 'conference', 'begin', 'hard', 'life', 'politics', 'well', 'known', 'platform', 'program', 'advanced', 'either', 'major', 'american', 'party', 'purpose', 'beyond', 'expressing', 'emotion', 'along', 'parents', 'scrambling', 'stay', 'upright', 'wind-driven', 'world', 'sometimes', 'hard', 'sometimes', 'get', 'knocked', 'hour', 'perusal', 'national', 'charter', 'makes', 'hard', 'understand', 'argle-bargle', 'deal', 'kind', 'margin', 'error', 'hard', 'happening', 'dr', 'michael', 'mares', 'zoologist', 'university', 'oklahoma', 'expert', 'central', 'south', 'american', 'tropical', 'habitats', 'mcdonnell', 'thinks', 'got', 'backbone', 'needs', 'actress', 'competitive', 'swimmer', 'growing', 'hard', 'develop', 'ideas', 'discipline', 'pressure', 'ready', 'moment', 'whistle', 'blows', 'back', 'halls', 'parliament', 'political', 'leaders', 'dedicated', 'leading', 'nations', 'independence', 'know', 'hard', 'people', 'hardest', 'thing', 'someone', 'dies', 'young', 'hard', 'imagine', 'leading', 'confrontation', 'like', 'occurred', '1968', 'secretary', 'state', 'dean', 'rusk', 'abc', 'newsman', 'john', 'scali', 'hard', 'know', 'react', 'tidbits', 'hodge', 'marvelous', 'presence', 'angry', 'hard', 'like', 'particularly', 'hard', 'therapist', 'grasp', 'instances', 'patient', 'manifesting', 'introject', 'traceable', 'something', 'therapist', 'aspect', 'therapist', 'latter', 'poorly', 'aware', 'recognition', 'part', 'finds', 'distinctly', 'unwelcome', 'sure', 'met', 'barrel', 'rich', 'men', 'hard', 'find', 'real', 'thing', 'young', 'beautiful', 'toast', 'two', 'continents', 'roofs', 'heads', 'moriarty', 'fire', 'make', 'harder', 'group', 'find', 'affordable', 'independent', 'living', 'arrangements', 'former', 'psychiatric', 'patients', 'sure', 'little', 'hard', 'guys', 'swallow', 'looked', 'qualifying', 'sheet', 'saw', 'finished', 'ahead', 'emotionally', 'would', 'hard', 'try', 'probably', 'silly', 'look', 'face', 'although', 'hard', 'tell', 'insects', 'making', 'new', 'machine', 'sending', 'officials', 'duly', 'ascertained', 'fitness', 'great', 'work', 'social', 'reform', 'child', 'task', 'task', 'even', 'harder', 'new', 'central', 'organization', 'fitted', 'heterogeneous', 'confused', 'already', 'existing', 'system', 'relief', 'control', 'ex-slaves', 'agents', 'available', 'work', 'must', 'sought', 'army', 'still', 'busy', 'war', 'operations', 'men', 'nature', 'case', 'ill', 'fitted', 'delicate', 'social', 'work', 'among', 'questionable', 'camp', 'followers', 'invading', 'host', 'crews', 'facing', 'hard', 'choices', 'seek', 'navy', 'billets', 'elsewhere', 'ashore', 'sea', 'shouting', 'breathing', 'hard', 'closing', 'fist', 'pillow', 'depression-glass', 'kitchen', 'items', 'increasingly', 'hard', 'find', 'faria', 'often', 'buys', 'piece', 'item', 'time', 'parents', 'hard', 'time', 'leaving', 'child', 'child', 'care', 'center', 'parents', 'work', 'syntex', 'able', 'reassure', 'another', 'samoff', 'would', 'hard', 'imagine', 'anyone', 'feeling', 'emotional', 'tragedy', 'occurred', 'sacramento', 'river', 'knew', 'river', 'overwhelming', 'panoramic', 'format', 'may', 'hard', 'time', 'keeping', 'horizon', 'level', 'hard', 'settle', 'three', 'entrees', 'trying', 'negotiate', 'bangkok', 'chicken', 'linguine', '7', '95', 'marinated', 'chicken', 'breast', 'julienned', 'carrots', 'green', 'onion', 'roasted', 'peanuts', 'thai-peanut-ginger', 'sauce', 'sheer', 'spirit', 'hard', 'imagine', 'top', 'arena', 'opens', 'two', 'years', 'maybe', 'although', 'hard', 'see', 'anywhere', 'near', 'good', 'playing', 'bitter', 'remember', 'hard', 'write', 'thrilling', 'year', 'life', 'hardest', 'hard', 'convincing', 'people', 'wrong', 'story', 'goes', 'back', 'three', 'years', 'susan', 'pregnant', 'twins', 'hard', 'time', 'housework', 'laundry', 'hard', 'go', 'detail', 'apple', 'chief', 'financial', 'officer', 'joseph', 'graziano', 'interview', 'week', 'hard', 'believe', 'exception', 'waits', 'well-named', 'wolfie', 'leaves', 'much', 'impression', 'game', 'ordinary', 'standards', '3', 'hours', '18', 'minutes', 'hard', 'believe', 'good', 'pitching', 'could', 'look', 'bad', 'seems', 'hard', 'believe', 'nancy', 'reagan', 'former', 'first', 'lady', 'best', 'known', 'love', 'expensive', 'clothes', 'elegant', 'parties', 'could', 'played', 'central', 'role', 'fashioning', 'policies', 'reagan', 'administration', 'harder', 'muttered', 'meditate', 'man', 'woman', 'god', 'q', 'hard', 'get', 'music', 'community', 'take', 'seriously', 'keith', 'partridge', 'people', 'fire', 'burned', 'hard', 'imagine', 'possibility', 'really', 'hard', 'put', 'word', 'like', 'box', 'start', 'screw', 'hard', 'to-reach', 'spot', 'push', 'screw', 'slit', 'piece', 'masking', 'tape', 'adhesive', 'side', 'great', 'knowing', 'woman', 'actually', 'knows', 'hard', 'field', 'traveled', 'road', 'encourages', 'q', 'hard', 'decisions', 'successor', 'make', 'denying', 'women', 'combat', 'experience', 'ireland', 'rightly', 'noted', 'makes', 'harder', 'climb', 'military', 'career', 'ladder', 'sound', 'sappy', 'meanwhile', 'networks', 'would', 'hard', 'think', 'stupider-sounding', 'series', 'title', 'torkelsons', 'down-home', 'sitcom', 'makes', 'debut', 'tonight', 'nbc', 'schrader', 'plenty', 'overtime', 'go', 'around', 'jobs', 'extremely', 'demanding', 'hard', 'keep', 'employees', 'many', 'articles', 'carrying', 'chest', 'hard', 'people', 'look', 'face', 'anymore', 'found', 'beatific', 'beaming', 'randall', 'harder', 'stomach', 'demonic', 'version', 'unloads', 'divorced', 'mother', 'jobeth', 'williams', 'latest', 'seemingly', 'endless', 'string', 'thankless', 'supporting', 'roles', 'favors', 'obnoxious', 'absentee', 'father', 'christopher', 'mcdonald', 'thelma', 'louise', 'arrangement', 'makes', 'hard', 'upstart', 'firm', 'break', 'since', 'must', 'take', 'costs', 'profit', 'equity', 'borrowings', 'players', 'aware', 'paradox', 'reason', 'often', 'tend', 'keep', 'non-players', 'distance', 'know', 'looks', 'easy', 'know', 'hard', 'much', 'harder', 'something', 'totally', 'left', 'field', 'regard', 'sales', 'among', 'believers', 'gathered', 'witness', 'pass', 'box', 'scaling', 'sacred', 'peaks', 'page', '9c', 'box', 'seder', 'soviet', 'emigres', 'page', '9c', 'box', 'churches', 'battle', 'mayans', 'page', '9c', 'ing', 'parallels', 'easter', 'story', 'hard', 'ignore', 'hard', 'mandela', 'noticeably', 'grim-faced', 'next', 'jubilant', 'fist-raising', 'wife', 'left', 'courthouse', 'conviction', 'upheld', 'lord', 'hard', 'child', 'hard', 'winter', 'hard', 'time', 'sensationalizing', 'story', 'month', 'cuddy', 'manager', 'los', 'altos', 'office', 'seville', 'properties', 'way', 'went', 'rolled', 'people', 'everybody', 'really', 'impressed', 'hard', 'nothing', 'going', 'easy', 'lt', 'col', 'hu', 'blazer', 'u', 'army', 'maintenance', 'battalion', 'commander', 'learned', 'hard', 'way', 'vietnam', 'limits', 'air', 'support', 'ground', 'war', 'object', 'construction', 'rarely', 'ever', 'worth', 'completion', 'immediate', 'justification', 'discontinuing', 'work', 'lrb', 'e', 'g', 'blunt', 'tenon-saw', 'shortage', 'F', 'screws', 'rrb', 'hard', 'find', 'hard', 'get', 'good', 'picture', 'happens', 'emerge', 'bankruptcy', 'court', 'hard', 'imagine', 'viewing', 'st', 'john', 'forward', 'malik', 'sealy', 'fluid', 'productive', 'style', 'play', 'bronx', 'native', 'lacked', 'confidence', 'teen-ager', 'play', 'city', 'game', 'getting', 'harder', 'time', 'layoffs', 'budget', 'cutbacks', 'boss', 'get', 'along', 'employees', 'hard', 'sharing', 'demented', 'sense', 'humor', 'long', 'dr', 'zhivago', 'winters', 'life', 'gets', 'even', 'harder', 'outside', 'cities', 'many', 'soviet', 'ports', 'freeze', 'shut', 'katz', 'though', 'united', 'states', 'wo', 'pull', 'plug', 'deals', 'already', 'completed', 'obviously', 'hard', 'extend', 'credit', 'future', 'unless', 'things', 'change', 'baltics', 'even', 'though', 'hard', 'speculate', 'really', 'happened', 'lord', 'mayor', 'appointment', 'election', 'wagering', 'man', 'would', 'worth', 'betting', 'drachma', 'two', 'lawrence', 'stone', 'found', 'way', 'become', 'king', 'hard', 'fume', 'yawn', 'real', 'hard', 'getting', 'started', 'hauser', 'laughing', 'predict', 'children', 'perhaps', 'experience', 'sort', 'reaction', 'similar', 'training', 'hard', 'understand', 'yet', 'convinced', 'educators', 'aesthetic', 'experience', 'capricious', 'individual', 'matter', 'taste', 'find', 'sort', 'evidence', 'unconvincing', 'might', 'even', 'harder', 'concentrate', 'big', 'lead', 'stolen', 'chips', 'hard', 'trace', 'stolen', 'chips', 'infiltrate', 'market', 'mixed', 'legitimately', 'sold', 'chips', 'become', 'extremely', 'difficult', 'trace', 'police', 'hard', 'time', 'getting', 'white', 'men', 'believe', 'national', 'case', 'count', 'climbing', 'toward', '200', 'hard', 'cling', 'naive', 'belief', 'life', 'complete', 'control', 'vice', 'principal', 'len', 'jacques', 'students', 'allowed', 'promote', 'political', 'positions', 'dot', 'page', '1b', 'business', 'business', 'news', 'dot', 'section', 'recession', 'hit', 'state', 'far', 'harder', 'first', 'thought', 'california', 'lost', '240', 'jobs', 'recession', 'nearly', 'seven', 'times', 'greater', 'earlier', 'estimates', 'state', 'officials', 'report', 'premature', 'death', 'always', 'hard', 'accept', 'hard', 'believe', 'fact', 'bush', 'son', 'president', 'play', 'role', 'ryan', 'decision', 'rep', 'bruce', 'f', 'vento', 'd-minn', 'hand', 'hard', 'leave', 'successful', 'series', 'hand', 'things', 'wants', 'con', 'maloney', 'owned', 'jackson', 'mets', 'team', 'pulled', 'last', 'year', 'believe', 'told', 'people', 'maim', 'someone', 'would', 'awfully', 'hard', 'accept', 'proposed', 'measures', 'would', 'make', 'harder', 'obtain', 'visas', 'reinforce', 'personnel', 'immigration', 'posts', 'set', 'tougher', 'penalties', 'employers', 'use', 'illegal', 'immigrant', 'workers', 'war', 'discover', 'vast', 'pool', 'anti-saddam', 'feeling', 'among', 'iraqis', 'secret', 'police', 'indeed', 'may', 'hard', 'find', 'saddam', 'supporter', 'among', 'myriad', 'good', 'iraqis', 'swear', 'know', 'anything', 'atrocities', 'kurds', 'make', 'hard', 'tenants', 'going', 'work', 'cobb', 'ask', 'people', 'nearby', 'keep', 'radios', 'act', 'like', 'crazy', 'give', 'hard', 'time', 'hard', 'imagine', 'mr', 'burman', 'nobel', 'laureate', 'basis', 'charming', 'really', 'momentous', 'fables', 'hard', 'part', 'choosing', 'utility', 'package', 'buy', 'duct', 'tape', 'hard', 'get', 'fingerprints', 'pennington', 'certain', 'would', 'harder', 'bear', 'child', 'pleasant', 'surroundings', 'home', 'big', 'white', 'house', 'haverhill', 'jumped', 'location', 'another', 'fault', 'blame', 'redevelopment', 'earthquake', 'sometimes', 'hard', 'track', 'mostly', 'tanned', 'mostly', 'blond', 'young', 'men', 'boarded', 'yacht', 'tour', 'alcatraz', 'hard', 'imagine', 'living', 'somewhere', 'california', 'know', 'hard', 'time', 'focusing', 'probably', 'hard', 'keep', 'nose', 'grindstone', 'nothing', 'edythe', 'come', 'home', 'frankly', 'hard', 'imagine', 'barbara', 'bush', 'exposing', 'shoulders', 'dresses', 'many', 'women', 'could', 'flattering', 'look', 'blame', 'rest', 'hard', 'whether', 'bureau', 'bank', 'died', 'chiefly', 'reason', 'blows', 'selfish', 'friends', 'dark', 'machinations', 'foes', 'perhaps', 'even', 'time', 'never', 'reveal', 'lies', 'unwritten', 'history', 'fishing', 'recreation', 'groups', 'pushing', 'hard', 'gain', 'access', 'hard', 'even', 'remember', 'bcci', 'means', 'bank', 'credit', 'commerce', 'international', 'actually', 'hard', 'character', 'powerful', 'kind', 'soft-spoken', 'easy', 'laugh', 'may', 'hard', 'find', 'determined', 'locate', 'decent', 'comedy', 'club', 'recent', 'saturday', 'night', 'might', 'hard', 'black', 'people', 'tell', 'slap', 'black', 'people', 'used', 'getting', 'slapped', 'public', 'enemy', 'spokesman', 'harry', 'allen', 'hard', 'pinpoint', 'happened', 'yet', 'hard', 'understand', 'impulse', 'procrastinate', 'many', 'mere', 'mortals', 'hard', 'time', 'understanding', 'ivana', 'wavering', 'settlement', 'could', 'kind', 'dough', 'although', 'nurses', 'pediatrics', 'department', 'long', 'leave', 'cramped', 'quarters', 'harder', 'nurses', 'old', 'children', 'hospital', 'goodbye', 'comfortable', 'adobe', 'red-tile', 'roof', 'campus', 'program', 'hard', 'work', 'retailer', 'training', 'nature', 'ahmed', 'learned', 'hard', 'lessons', 'hardest', 'frustrating', 'thing', 'life', 'bermuda', 'place', 'hard', 'retain', 'reflexive', 'fear', 'many', 'travelers', 'feeling', 'since', 'hard', 'conjure', 'many', 'terrorists', 'pastoral', 'peaceful', 'place', 'board', 'member', 'jan', 'becerra', 'hoping', 'wo', 'make', 'hard', 'choice', 'educating', 'district', 'parents', 'high', 'school', 'students', 'hardest', 'pains', 'growing', 'approached', 'twelve', 'today', 'lay', 'people', 'tourists', 'would', 'hard', 'time', 'finding', 'trace', 'oil', 'along', 'sound', 'inlets', 'crags', 'many', 'species', 'animals', 'including', 'otter', 'bald', 'eagle', 'assorted', 'water', 'birds', 'bounced', 'back', 'j', 'vanderlaan', 'los', 'gatos', 'let', 'pets', 'get', 'spooked', 'oct', '31', 'halloween', 'around', 'corner', 'hard', 'time', 'four-legged', 'friends', 'hard', 'beat', 'free', 'music', 'subtle', 'soft', 'hard', 'resist', 'pretty', 'hard', 'reasonable', 'prices', 'seven', 'legitimate', 'candidates', 'among', '24', 'games', 'hard', 'throw', 'two', 'pittsburgh-los', 'angeles', 'super', 'bowl', 'xiv', 'dallas-baltimore', 'super', 'bowl', 'v', 'ready', 'coach', 'nebraska', 'punter', 'mike', 'stigge', 'hard', 'tell', 'mastered', 'basic', 'polenta', 'hard', 'master', 'top', 'variety', 'sauces', 'hard', 'believe', 'album', 'lynyrd', 'skynyrd', 'would', 'made', '1977', 'plane', 'wreck', 'relatively', 'easy', 'run', 'plumbing', 'first-floor', 'baths', 'basement', 'crawl', 'space', 'underneath', 'gets', 'harder', 'upper', 'floors', 'may', 'enough', 'space', 'floor', 'ceiling', 'install', 'pipes', 'properly', 'use', 'special', 'terminologies', 'newer', 'mathematical', 'subjects', 'may', 'meaningless', 'teachers', 'schools', 'lrb', 'even', 'university', 'mathematicians', 'rrb', 'necessarily', 'make', 'harder', 'student', 'busy', 'quality', 'pattern', 'integrates', 'odd-shaped', 'spaces', 'hard', 'unify', 'bedroom', 'dressing', 'room', 'bath', 'room', 'eaves', 'beams', 'odd', 'angles', 'keys', 'developing', 'nest', 'egg', 'financially', 'independent', 'pay', 'month', 'hard', 'stopping', 'smoking', 'losing', 'weight', 'young', 'arabs', 'anti-iraq', 'coalition', 'finding', 'hard', 'resist', 'feeling', 'melancholy', 'iraqi', 'enemy', 'fellow', 'soldiers', 'receiving', 'end', 'lopsided', 'pummeling', 'sky', 'coach', 'campus', 'hard', 'tobeck', 'hard', 'enough', 'driving', 'hard', 'time', 'persuading', 'cash-strapped', 'companies', 'pay', 'reinvent', 'wheels', 'little', 'guy', 'hard', 'people', 'want', 'know', 'certain', 'thing', 'yet', 'surprisingly', 'introduce', 'insidious', 'frailty', 'information-processing', 'chain', 'hard', 'fathom', 'keep', 'saying', 'turtles', 'real', 'find', 'hard', 'believe', 'pretty', 'hard', 'get', 'big', 'head', 'get', 'strange', 'looks', 'catcalls', 'notices', 'meetings', 'often', 'boring', 'hard', 'understand', 'match', 'hard', 'make', 'hard', 'slipping', 'patient', 'couple', 'biscuits', 'gobbles', 'seconds', 'continental', 'decreed', 'women', 'must', 'paint', 'faces', 'would', 'hard', 'find', 'suitable', 'challenger', 'hammer', 'right', 'hard', 'determine', 'people', 'want', 'even', 'giving', 'touchy', 'point', 'especially', 'much', 'money', 'get', 'years', 'thinking', 'like', 'hard', 'apple', 'programmers', 'feel', 'open', 'comfortable', 'ibm', 'hand', 'keyboard', 'given', 'circumstances', 'hard', 'hard', 'find', 'real', 'pocket', 'strength', 'sector', 'economist', 'gilbert', 'benz', 'swiss', 'bank', 'corp', 'new', 'york', 'private', 'interviews', 'district', 'administrators', 'central', 'services', 'managers', 'accounting', 'leaders', 'representatives', 'auditors', 'heard', 'story', 'chancellor', 'hard', 'work', 'shoots', 'messengers', 'game', 'hard', 'williams', 'given', 'considerable', 'sovereignty', 'assumed', 'interim', 'republic', 'governments', 'hard', 'visualize', 'deputies', 'republics', 'like', 'ukraine', 'persuaded', 'attend', 'new', 'session', 'hard', 'sit', 'listen', 'everything', 'defendant', 'nothing', 'loved', 'ones', 'seems', 'like', 'normal', 'sane', 'person', 'would', 'start', 'easy', 'get', 'warmed', 'tackling', 'harder', 'anagrams', 'makes', 'grim', 'future', 'pawns', 'humankind', 'even', 'harder', 'take', 'kind', 'hard', 'imagine', 'sad', 'think', 'maybe', 'feel', 'certain', 'serenity', 'location', 'hard', 'duplicate', 'every', 'time', 'cruise', 'missile', 'landed', 'time', 'awacs', 'plane', 'took', 'persian', 'gulf', 'hard', 'restrain', 'shouting', 'god', 'many', 'head', 'start', 'slots', 'concerto', 'orchestra', 'century', 'classics', 'miraculous', 'mandarin', 'suite', 'dance', 'piece', 'harder', 'bring', 'adam', 'brings', 'gutsy', 'passion', 'macabre', 'breakdowns', 'police', 'discipline', 'inevitable', 'every', 'department', 'public', 'hears', 'little', 'internal', 'investigations', 'police', 'shield', 'laws', 'make', 'information', 'hard', 'get', 'recipes', 'special', 'sauce', 'hard', 'find', 'jamawatr', 'gracious', 'enough', 'share', 'hard', 'knowing', 'future', 'going', 'arrive', 'coonerty', 'thursday', 'making', 't-1000', 'move', 'like', 'believable', 'human', 'hardest', 'tasks', 'reporter', 'heard', 'someone', 'something', 'damaging', 'tape', 'recorder', 'running', 'might', 'much', 'harder', 'time', 'convincing', 'editor', 'publish', 'quote', 'really', 'hard', 'continue', 'working', 'comes', \"'i\", 'know', 'happening', 'even', 'though', 'know', 'everyone', 'knows', 'brown', 'trout', 'hardest', 'fish', 'lake', 'catch', 'caught', 'toplining', 'rebels', 'rapalas', 'according', 'martin', 'hard', 'hear', 'reno', 'tough', 'obviously', 'lot', 'harder', 'subject', 'right', 'next', 'rather', 'staring', 'camera', 'different', 'room', 'would', 'hard', 'improve', 'thing', 'practice', 'shoot', 'free', 'throws', 'would', 'tell', 'father', 'college', 'professor', 'alann', 'steen', 'hard', '4', 'F', 'years', 'captivity', 'guard', 'emotions', 'work', 'schedule', 'made', 'hard', 'go', 'along', 'wife', 'make', 'effort', 'would', 'fit', 'hard', 'remember', 'first', 'impression', 'seen', 'movies', 'often', 'seifert', '36-11', 'head', 'coach', 'perhaps', 'learning', 'number', 'hard', 'necessary', 'lessons', 'days', 'need', 'evaluate', 'assistants', 'idea', 'altering', 'responsibilities', 'cast', 'hardest', 'part', 'knowing', 'threat', 'exists', 'whole', 'life', 'diet', 'woes', 'oh', 'hard', 'diet', 'around', 'munching', 'constantly', 'changes', 'could', 'occur', 'hair', 'follicles', 'stenn', 'hard', 'dramatically', 'different', 'silvering', 'hair', 'hard', 'imagine', 'anything', 'byrne', 'matching', 'elegant', 'simplicity', 'copland', 'pastoral', 'ode', 'think', 'hard', 'get', 'joes', 'use', 'condom', 'know', 'could', 'die', 'coital', 'act', 'gabriel', 'baily', 'director', 'contraceptive', 'development', 'branch', 'national', 'institutes', 'health', 'washington', 'c', 'box', 'take', 'faith', 'first', 'five', 'years', 'difficult', 'first', 'particularly', 'hard', 'first', 'job', 'probably', 'ultimate', 'job', 'going', 'make', 'really', 'hard', 'working', 'non-traditional', 'students', 'continue', 'education', 'going', 'make', 'many', 'students', 'cease', 'education', 'would', 'hard', 'state', 'liz', 'smith', 'new', 'york', \"'love\", 'letters', 'first', 'hard', 'believe', 'past', 'two', 'years', 'countless', 'productions', 'r', 'gurney', 'love', 'letters', 'performed', 'abroad', 'two-character', 'play', 'never', 'featured', 'interracial', 'couple', 'hard', 'keep', 'coming', 'incentives', 'keep', 'focused', 'body', 'games', 'hard', 'fair', 'santa', 'cruz', 'high', 'junior', 'mike', 'mcguinness', 'third', 'year', 'boardwalk', 'democratic', 'proposal', 'intended', 'overturn', '1989', 'supreme', 'court', 'rulings', 'civil', 'rights', 'lawyers', 'make', 'harder', 'plaintiffs', 'win', 'employment', 'discrimination', 'suits', 'low-cost', 'producer', 'like', 'bofa', 'lot', 'better', 'hard', 'get', 'return', 'equity', 'exceptional', 'would', 'hard', 'ask', 'short', 'stationing', 'peter', 'arnett', 'atop', 'kelley', 'roof', 'georgetown', 'fact', 'hard', 'imagine', 'all-out', 'blitz', 'get', 'bottom', 'big', 'story', 'least', 'big', 'questions', 'hour', 'hour', 'last', 'week', 'hard', 'sympathize', 'woman', 'known', 'channels', 'alleged', 'victim', 'thirty', 'years', 'united', 'way', 'hard', 'shake', 'horses', 'hounds', 'hard', 'time', 'going', 'like', 'porridge', 'exceptionally', 'long', 'days', 'even', 'bigger', 'establishments', 'signs', 'wear-and-tear', 'try', 'think', 'everybody', 'asking', 'hard', 'maddox', 'hard', 'see', 'wonderful', 'passionate', 'talented', 'employees', 'leave', 'company', 'hard', 'explain', 'put', 'words', 'becker', 'reaching', 'top', 'rankings', 'remember', 'hard', 'catch', 'former', 'panamanian', 'president', 'manuel', 'noriega', 'gentle', 'reader', 'surely', 'hard', 'enough', 'get', 'someone', 'pass', 'potatoes', 'without', 'added', 'burden', 'polling', 'feel', 'housing', 'hard', 'find', 'vacant', 'bed', 'house', 'look', 'medal', 'lot', 'harder', 'wear', 'earn', 'former', 'boatswain', 'mate', '1st', 'class', 'elliott', 'williams', '60-year-old', 'retired', 'u', 'marshal', 'palm', 'coast', 'fla', 'even', 'ready', 'risk', 'laws', 'always', 'confusing', 'contradictory', 'hard', 'believe', 'true', 'today', 'true', 'tomorrow', 'since', 'become', 'hard', 'detect', 'heartbeat', 'u', 'hotels', 'hard', 'women', 'children', 'lack', 'secure', 'family', 'life', 'suffer', 'lot', 'barking', 'loud', 'noisy', 'repetitive', 'easy', 'locate', 'hard', 'ignore', 'blackhawks', '12', 'new', 'faces', 'roster', 'players', 'hard', 'time', 'understanding', 'logic', 'moves', 'made', 'mike', 'keenan', 'team', 'coach', 'general', 'manager', 'example', 'flat-panel', 'displays', 'become', 'important', 'part', 'chain', 'get', 'decimated', 'japanese', 'another', 'party', 'dominates', 'hard', 'keep', 'rest', 'chain', 'going', 'hard', 'president', 'f', 'w', 'de', 'klerk', 'pardon', 'without', 'inflaming', 'passions', 'right-wing', 'whites', 'perhaps', 'quite', 'blacks', 'hard', 'think', 'winning', 'try', 'get', 'mind', 'quick', 'interesting', 'place', 'work', 'see', 'people', 'hard', 'time', 'imagining', 'like', 'nate', 'gossett', 'feeling', 'feel', 'bad', 'feel', 'guilty', 'hard', 'criminal', 'hard', 'believe', 'true', 'things', 'like', 'friends', 'keefe', 'trying', 'explain', 'decision', 'remain', 'stanford', 'hard', 'assign', 'dollar', 'figure', 'city', 'hard', 'time', 'replacing', 'someone', 'equal', 'caliber', 'paradox', 'babycal', 'promotes', 'hard', 'to-get', 'service', 'first', 'reports', 'town', 'dzhava', '60', 'miles', 'northwest', 'georgian', 'capital', 'tbilisi', 'hardest', 'hit', 'however', 'recession', 'ends', 'poverty', 'specialists', 'significant', 'numbers', 'poor', 'unemployed', 'people', 'going', 'harder', 'time', 'getting', 'past', 'economic', 'downturn', 'longer', 'harsher', 'recession', 'early', '1980s', 'learn', 'hard', 'way', 'still', 'country', 'girl', 'hardest', 'chores', 'detective', 'hanging', 'around', 'city', 'street', 'trying', 'make', 'inconspicuous', 'keeping', 'eye', 'entrance', 'office', 'building', 'waiting', '46-year-old', 'woman', 'laid', '14-month', 'temporary', 'job', 'local', 'electronics', 'company', 'positions', 'field', 'much', 'harder', 'find', 'last', 'national', 'recession', 'umpires', 'hard', 'work', 'sunday', 'night', 'game', 'hard', 'many', 'children', 'need', 'care', 'helen', 'blank', 'senior', 'child', 'care', 'associate', 'non-profit', 'family', 'support', 'division', 'children', 'defense', 'fund', 'based', 'washington', 'c', 'multiply', 'rapidly', 'hard', 'tell', 'long', 'take', 'become', 'numerous', 'enough', 'destroy', 'vegetables', 'nursery', 'stocks', 'dos', 'hard', 'use', 'windows', 'put', 'top', 'even', 'live', 'around', 'corner', 'hard', 'help', 'handling', 'responsibilities', 'without', 'knowing', 'people', 'involved', 'hard', 'tell', 'whether', 'fair', 'racist', 'hard', 'book', 'adapt', 'think', 'might', 'right', 'time', 'hard', 'enough', 'folks', 'pay', 'bills', 'trying', 'economic', 'times', 'without', 'pay', 'replace', 'smashed', 'windows', 'hard', 'explain', 'hard', 'give', 'kind', 'easy-money', 'lifestyle', 'rhonda', 'owens', 'doll', 'house', 'manager', 'bad', 'sends', 'wrong', 'message', 'network', 'budget', 'slashers', 'make', 'succeeding', 'international', 'crisis', 'harder', 'cover', 'hard', 'believe', 'good', 'fiction', 'could', 'scrabbled', '669', 'square', 'miles', 'red', 'clay', 'brown', 'equal', 'challenge', 'ready-to-drink', 'red', 'wines', 'sometimes', 'hard', 'find', 'mirassou', 'non-vintage', 'lot', '4', 'zinfandel', 'welcome', 'managing', 'institution', 'across', 'country', 'might', 'hard', 'course', 'hard', 'shake', 'defeatist', 'mentality', 'exists', 'cleveland', 'hard', 'tell', 'synopses', 'whether', 'series', 'wrap', 'neat', 'ending', 'lot', 'loose', 'ends', 'still', 'untied', 'virtually', 'unemployable', \"'50s\", 'either', 'writer', 'director', 'sturges', 'concluded', 'appeared', 'developed', 'reputation', 'expensive', 'hard', 'handle', 'boot', 'thing', 'hard', 'track', 'maintenance', 'harder', 'companies', 'achieve', 'dramatic', 'cutbacks', 'jobs', 'economic', 'well-being', 'often', 'related', 'water', 'consumption', 'bushman', 'others', 'hardest', 'part', 'simply', 'submitting', 'drawings', 'application', 'county', 'hard', 'john', 'dotter', 'draw', 'conclusions', 'really', 'hard', 'believe', 'edberg', 'fifth', 'career', 'grand', 'slam', 'title', 'first', '1991', 'prime', 'minister', 'p', 'v', 'narasimha', 'rao', 'told', 'india', 'saturday', 'faced', 'serious', 'economic', 'crisis', 'could', 'resolved', 'hard', 'decisions', 'new', 'foreign', 'investment', 'end', 'inefficiency', 'cripples', 'country', 'growth', 'hardest', 'part', 'job', 'talking', 'extremely', 'smart', 'people', 'forgotten', 'speak', 'english', 'hard', 'students', 'especially', 'cori', 'gordillo', 'incident', 'principal', 'david', 'duncan', 'first', 'couple', 'days', 'hard', 'slipped', 'family', 'though', 'belonged', 'adjustment', 'hard', 'anyway', 'wade', 'year', 'batch', 'christmas', 'goodies', 'hard', 'empathetic', 'hard', 'remember', 'details', 'looked', 'instruments', 'could', 'see', 'smoke', 'hard', 'people', 'remember', 'turn', 'lights', 'big', 'halls', 'especially', 'think', 'others', 'coming', 'miller', 'time', 'people', 'irv', 'sort', 'hard', 'get', 'know', 'lack', 'attention', 'paid', 'morris', 'hard', 'understand', 'first', 'step', 'chambers', 'getting', 'orchid', 'plant', 'pot', 'harder', 'sounds', 'roots', 'completely', 'fill', 'pot', 'palms', 'hard', 'tell', 'whether', 'damaged', 'palm', 'pull', 'carman', 'familiar', 'ground', 'hard', 'see', 'distinction', 'rigorously', 'carried', 'independent', 'meaning', 'probably', 'equivalent', 'fact', 'gloss', 'given', 'native', 'speaker', 'word', 'isolation', 'likely', 'matter', 'degree', 'rather', 'binary', 'division', 'two', 'classes', 'things', 'harder', 'musically', 'inclined', 'time', 'change', 'occurs', 'hard', 'make', 'nighttime', 'practices', 'lay', \"'em\", 'flat', 'hard', 'see', 'dollie', 'vargas', 'explains', 'called', 'home', \"'i\", 'know', 'hard', 'time', 'wondering', 'could', 'expect', 'back', 'work', 'adame', 'artie', 'call', 'theater', \"'i\", 'better', 'treated', 'fairly', 'blown', 'away', 'bajo', 'replied', 'really', 'something', 'like', 'excuse', 'language', \"'f\", \"'em\", 'mariah', 'found', 'hard', 'understand', 'could', 'set', 'uncle', 'jim', 'maybe', 'hard', 'bar', 'band', 'bar', 'band', 'rehearsed', 'packed', 'amphitheater', 'show', 'laird', 'pointed', 'though', 'hard', 'keep', 'handle', 'statistics', 'gray', 'spot', 'covered', 'topics', 'making', 'hard', 'see', 'clearly', 'hard', 'enough', 'bringing', 'child', 'partner', 'help', 'much', 'less', 'alone', 'half', 'women', 'go', 'network', 'meetings', 'considering', 'route', 'go', 'ahead', 'bottom', 'line', 'lost', 'first', 'round', 'hard', 'get', 'overly', 'positive', 'fewer', 'qualified', 'people', 'entering', 'workforce', 'harder', 'find', 'highly', 'skilled', 'workers', 'made', '16-year-old', 'richy', 'silva', 'jr', 'death', '1984', 'traffic', 'accident', 'much', 'harder', 'accept', 'comes', 'hard', 'choices', 'women', 'families', 'never', 'easy', 'jail', 'circumstances', 'hard', 'stanley', 'toshio', 'hara', 'retired', 'ford', 'motor', 'co', 'worker', 'lives', 'berryessa', 'hard', 'comment', 'anything', 'seen', 'harder', 'get', 'people', 'stop', 'driving', 'cars', 'fills', 'role', 'hard', 'pressed', 'match', 'numbers', 'amassed', 'charles', 'earned', 'scholarship', 'division', 'ii', 'portland', 'state', 'hard', 'understand', 'justice', 'rita', 'baumann', 'president', 'blue', 'earth', 'county', 'humane', 'society', 'sentencing', 'nicollet', 'county', 'district', 'judge', 'warren', 'litynski', 'really', 'hard', 'believe', 'yankees', 'wo', 'take', 'brock', 'hard', 'time', 'anything', 'together', 'hard', 'tell', 'future', 'bring', 'even', 'hurley', 'hard', 'believe', 'come', 'positive', 'matchup', 'hard', 'read', 'appreciate', 'novel', 'get', 'irony', 'get', 'jokes', 'extremely', 'good', 'reader', '500', 'years', 'later', 'hard', 'keep', 'straight', 'came', 'mortar', 'shells', 'marines', 'stuck', 'hill', '99', 'point', 'would', 'hard', 'serve', 'deterrent', 'since', 'little', 'ammunition', 'ephemeral', 'hard', 'to-pin-down', 'sense', 'feeling', 'better', 'exercise', 'judy', 'mahl', 'lutter', 'president', 'melpomene', 'institute', 'national', 'organization', 'researches', 'women', 'health', 'issues', 'based', 'st', 'paul', 'minn', '5', 'bottle', 'hard', 'beat', 'fast-rising', 'country', 'music', 'star', 'lorrie', 'morgan', 'understands', 'two', 'things', 'well', 'sing', 'write', 'hit', 'songs', 'hard', 'working', 'mom', 'hard', 'believe', 'people', 'able', 'without', 'trace', 'irony', 'women', 'raped', 'men', 'know', 'either', 'date', 'another', 'male', 'acquaintance', 'much', 'harder', 'time', 'recovering', 'trauma', 'women', 'raped', 'strangers', 'recent', 'research', 'shows', 'hard', 'define', 'broad', 'zones', 'still', 'hard', 'believe', 'wallace', 'williams', 'wednesday', 'evening', 'clutching', 'son', 'photograph', 'dimly', 'lighted', 'living', 'room', 'oakland', 'apartment', 'hard', 'either', 'jamie', 'replace', 'brent', 'walls', 'hard', 'imagine', 'ronnie', 'schell', 'starring', 'dead', 'poets', 'society', 'teaming', 'eddie', 'murphy', 'saturday', 'night', 'live', 'even', 'wild', 'crazy', 'guy', 'maybe', 'schell', 'funny', 'city', 'become', 'players', 'done', 'hard', 'way', 'get', '7-3', 'hard', 'believe', 'still', 'people', 'around', 'want', 'people', 'know', 'son', 'loved', 'died', 'aids', 'nanez-cedillo', 'indeed', 'truth', 'could', 'sale', 'would', 'hard', 'imagine', 'better', 'packaged', 'best-sellerdom', 'fire', 'box', 'made', 'transition', 'area', 'although', 'hard', 'bill', 'would', 'box', 'reverse', 'six', '1989', 'supreme', 'court', 'decisions', 'made', 'harder', 'women', 'members', 'minority', 'groups', 'win', 'job-discrimination', 'lawsuits', 'employers', 'hard', 'lot', 'people', 'imagine', 'things', 'personal', 'environment', 'hazardous', 'adam', 'finkel', 'resources', 'future', 'washington', 'c', 'think', 'tank', 'awfully', 'hard', 'walk', 'water', 'age', 'almost', 'repeated', 'activity', 'considered', 'addiction', 'hard', 'see', 'video', 'games', 'obsession', 'today', 'youth', 'hard', 'winter', 'bring', 'hard', 'believe', 'farmer', 'pierce', 'neb', 'could', 'naive', 'really', 'hard', 'tell', 'jackson', 'think', 'would', 'hard', 'explain', 'kind', 'variation', 'natural', 'object', 'even', 'small', 'gleisher', 'ran', 'advertising', 'campaign', 'young', 'first', 'mayoral', 'race', 'police', 'department', 'personal', 'tool', 'adding', 'going', 'hard', 'time', 'restoring', 'confidence', 'vcrs', 'flashing', '12', '00', 'coast', 'coast', 'last', 'october', 'new', 'york', 'times', 'editorialized', 'hardest', 'part', 'adjusting', 'end', 'daylight', 'savings', 'time', 'reprogramming', 'digital', 'clocks', 'vcrs', 'coffee', 'makers', 'microwave', 'ovens', 'seems', 'hard', 'believe', 'pbs', 'masterpiece', 'theatre', 'celebrate', '20th', 'anniversary', 'weekend', 'news', 'full', 'stories', 'war', 'crimes', 'prisoner', 'exchanges', 'hard', 'remember', 'time', 'long', 'ago', 'toasting', 'end', 'cold', 'war', 'looking', 'forward', 'peace', 'dividend', 'hard', 'keep', 'rtc', 'still', 'estimated', '160', 'billion', 'worth', 'left', 'sell', 'plus', 'assets', 'hundreds', 'ls', 'targeted', 'takeover', 'next', 'two', 'years', 'hard', 'find', 'nice', 'clothes', 'west', 'coast', 'travel', 'buy', 'lot', 'clothes', 'east', 'hard', 'tell', 'impact', 'studies', 'people', 'gay', 'coming', 'back', 'fought', 'military', 'hard', 'time', 'explaining', 'happened', 'presence', 'supposed', 'disruptive', 'military', 'paul', 'di', 'donato', 'executive', 'director', 'san', 'francisco-based', 'national', 'gay', 'rights', 'advocates', 'hard', 'imagine', 'especially', 'seen', 'president', 'come', 'begging', 'notice', 'indifferent', 'washington', 'rates', 'higher', 'customers', 'live', 'hard', 'to-reach', 'areas', 'city', 'place', 'cans', 'curb', 'israel', 'arab', 'states', 'could', 'reassure', 'another', 'enough', 'disarm', 'hard', 'imagine', 'libel', 'trials', 'usually', 'long', 'expensive', 'news', 'organizations', 'try', 'hard', 'avoid', 'unauthorized', 'demand', 'drafts', 'extremely', 'hard', 'detect', 'usually', 'done', 'high-quality', 'laser', 'printers', 'look', 'professional', 'adamski', 'budget', 'cuts', 'raised', 'ire', 'palo', 'alto', 'parents', 'feared', 'changes', 'bus', 'service', 'might', 'make', 'harder', 'children', 'get', 'school', 'get', 'system', 'hard', 'get', 'hard', 'believe', 'took', 'life', 'human', 'much', 'less', 'wife', 'times', 'hard', 'need', 'feed', 'children', 'man', 'explaining', 'turned', 'three', 'small-caliber', 'handguns', 'hard', 'believe', 'lose', 'nine', 'come', 'back', 'game', 'like', 'molitor', 'may', 'accidental', 'spun', 'around', 'called', 'shoulder', 'hard', 'drive', 'media', 'hard', 'even', 'begin', 'tell', 'isaacs', 'still', 'looking', 'full-time', 'clown', 'job', 'since', 'vietnam', 'watergate', 'hard', 'read', 'newspaper', 'morning', 'listen', 'nightly', 'news', 'without', 'told', 'leader', 'government', 'business', 'even', 'church', 'violating', 'trust', 'law', 'lying', 'course', 'hard', 'enough', 'kind', 'weather', 'conditions', 'change', 'hard', 'fashion', 'trends', 'men', 'harder', 'distinguish', 'year', 'year', 'although', 'appears', 'movement', 'toward', 'casual', 'looks', 'hard', 'develop', 'empathy', 'theodora', 'plaster-saint', 'personality', 'anti-defense', 'organization', 'hard', 'leaders', 'put', 'hearts', 'effort', 'preparation', 'may', 'hardest', 'part', 'truly', 'delicious', 'hard', 'match', 'food', 'candidate', 'joe', 'huber', 'pointed', 'may', 'much', 'difference', 'mobsters', 'lawyers', 'family', 'voters', 'hard', 'time', 'yet', 'read', 'johnson', 'controls', 'opinion', 'hard', 'time', 'believing', 'court', 'went', 'far', 'making', 'anti-theft', 'technology', 'automakers', 'introducing', 'cars', 'highly', 'advanced', 'electronic', 'controls', 'well', 'pedestrian', 'measures', 'metals', 'harder', 'bend', 'locks', 'tougher', 'pick', 'second', 'thought', 'hard', 'tell', 'asked', 'hard', 'get', 'organized', 'massive', 'fire', 'unpredictable', 'hard', 'stuff', 'already', 'done', 'people', 'always', 'ask', \"'what\", 'children', 'want', \"'what\", 'children', 'margaret', 'people', 'assume', 'going', 'hard', 'time', 'hard', 'exactly', 'senators', 'always', '65', 'usually', 'go', 'caves', 'westmont', 'prospect', 'among', 'hardest', 'students', 'reach', 'made', 'hard', 'choice', 'sending', 'america', 'understanding', 'unequipped', 'survive', 'thinks', 'hard', 'prove', 'current', 'technology', 'beaches', 'still', 'soiled', 'streets', 'dirty', 'reliable', 'domestic', 'help', 'hard', 'find', 'hard', 'task', 'new', 'bits', 'look', 'sort', 'old', 'old', 'bits', 'look', 'sort', 'new', 'wonderful', 'smell', 'food', 'cooked', 'pastry', 'inviting', 'hard', 'beat', 'late-afternoon', 'traffic', 'hurtles', 'mission', 'boulevard', 'interstate', '680', 'ohlone', 'college', 'hard', 'believe', 'behind', 'mission', 'san', 'jose', 'stands', 'serenely', 'enduring', 'religious', 'institution', 'education', 'southern', 'alameda', 'county', 'must', 'confess', 'hardest', 'part', 'reviewing', 'fratelli', 'deli', 'ordering', 'something', 'italian', 'combo', 'dry', 'salami', 'mortadella', 'cotto', 'provolone', '3', '75', 'godfather', 'sandwich', 'turkey', 'breast', 'salami', 'mortadella', 'provolone', 'italian', 'peppers', '4', '65', 'hard', 'believe', '15', 'years', 'using', 'three', 'chords', 'check', 'crock', 'dish', '20', 'never', 'smile', 'crocodile', 'good', 'advice', 'hard', 'follow', 'see', 'crocodile', 'butter', 'dish', 'puttin', 'ritz', 'los', 'gatos', 'even', 'harder', 'consider', 'rick', 'taking', 'slack', 'q', 'hard', 'time', 'trying', 'exchange', 'pair', 'pants', 'eastridge', 'emporium', 'store', 'choice', 'refuse', 'food', 'water', 'eula', 'oleson', 'raises', 'issue', 'hard', 'health-care', 'professionals', 'try', 'change', 'patients', 'minds', 'whatever', 'happens', 'hard', 'imagine', 'kim', 'ever', 'working', 'assembly', 'line', 'providing', 'elbow', 'grease', 'make', 'products', 'nations', 'united', 'states', 'need', 'longer', 'able', 'produce', 'economically', 'hard', 'time', 'pinning', 'sex', 'age', 'racial', 'discrimination', 'selig', 'kaplan', 'foreman', 'jury', 'hard', 'global', 'industry', 'determine', 'cars', 'parts', 'foreign', 'domestic', 'question', 'japanese', 'attendance', 'pearl', 'harbor', 'commemoration', 'hard', 'call', 'organizers', 'hard', 'time', 'buying', 'stay', 'stores', 'shop', 'take', 'money', 'must', 'real', 'needs', 'programs', 'operated', 'mouse', 'feature', 'lot', 'color', 'snazzy', 'graphics', 'extensive', 'tutorials', 'features', 'walk', 'users', 'hard', 'parts', 'harder', 'find', 'anyway', 'consider', 'blacks', '12', 'percent', 'population', 'bart', 'landry', 'sociology', 'professor', 'university', 'maryland', 'author', 'book', 'called', 'new', 'black', 'middle', 'class', 'empty', 'seat', 'physical', 'science', 'class', 'hard', 'lesson', 'oak', 'grove', 'high', 'school', 'students', 'wednesday', 'day', 'innocent', 'game', 'took', 'tragic', 'twist', 'largely', 'procedural', 'issues', 'settled', 'hard', 'part', 'begins', 'brief', 'review', 'hard', 'convey', 'sheer', 'tour-de-force', 'imagery', 'dazzling', 'imagination', 'radiate', 'short', 'simple', 'novel', 'property', 'dedicated', 'park', 'land', 'would', 'hard', 'swap', 'opportunity', 'arises', 'development', 'restriction', 'lifted', 'voters', 'hard', 'believe', 'market', 'condom', 'spot', 'meets', 'fox', 'approval', 'would', 'meet', 'ktvu', 'thing', 'could', 'happen', 'elsewhere', 'hard', 'game', 'may', 'looked', 'little', 'ugly', 'elements', 'made', 'tough', 'longer', 'face', 'hard', 'choice', 'hard', 'swallow', 'broader', 'investigations', 'involving', 'fbi', 'agencies', 'take', 'months', 'organize', 'witnesses', 'forget', 'details', 'charges', 'become', 'harder', 'prove', 'going', 'hard', 'move', 'billings', 'hard', 'pick', 'high', 'point', 'show', 'even', 'getting', 'help', 'hard', 'tend', 'keep', 'problems', 'hard', 'leave', 'know', 'lisa', 'happy', 'leave', 'imagine', 'hard', 'would', 'confront', 'someone', 'country', 'chief', 'enforcement', 'officer', 'discrimination', 'otto', 'hard', 'believe', 'san', 'jose', 'comedian', 'doug', 'ferrari', 'san', 'francisco', 'standup', 'comedy', 'competition', '1984', 'making', 'first', 'san', 'jose', 'appearance', 'since', 'opens', 'six-night', 'run', 'tuesday', 'last', 'laugh', 'F', 'san', 'pedro', 'square', 'seem', 'particularly', 'interested', 'physics', 'engineering', 'involved', 'frequently', 'hard', 'tell', 'descriptions', 'going', '20-year-old', 'barolo', 'chicken', 'mattone', 'potato', 'salad', 'salt-cured', 'black', 'olives', 'rosemary', 'garlic', 'capers', 'slathered', 'extra-virgin', 'olive', 'oil', 'accompanied', 'chewy', 'sicilian', 'sesame', 'bread', 'hard', 'take', 'often', 'hard', 'decide', 'whose', 'side', 'good', 'whose', 'bad', 'possible', 'reasons', 'difference', 'box', 'physicians', 'may', 'consider', 'heart', 'disease', 'severe', 'men', 'box', 'physicians', 'may', 'regard', 'procedures', 'promising', 'men', 'women', 'whose', 'coronary', 'vessels', 'smaller', 'harder', 'bypass', 'sometimes', 'rookie', 'learn', 'hard', 'way', 'padres', 'manager', 'greg', 'riddoch', 'garcia', 'park', 'workers', 'find', 'hard', 'keep', 'droppings', 'asked', 'whether', 'thought', 'nation', 'largest', 'banks', 'could', 'nearing', 'collapse', 'bowsher', 'much', 'trouble', 'hard', 'determine', 'week', 'nfl', 'leading', 'rusher', 'barry', 'sanders', '640', 'yards', 'seven', 'touchdowns', 'almost', 'certainly', 'get', '25', '30', 'carries', 'making', 'defense', 'job', 'run-and-shoot', 'much', 'harder', 'even', 'harder', 'live', 'kind', 'hard', 'explain', 'feel', 'bad', 'somebody', 'getting', 'baby', 'hard', 'feel', 'bad', 'hard', 'enough', 'getting', 'school', 'work', 'done', 'traveled', 'lot', 'heavy', 'side', 'hard', 'fit', 'tried', 'let', 'pressure', 'get', 'made', 'hard', 'acker', 'graduated', 'santa', 'cruz', 'high', 'true', 'show-must-go-on', 'dedication', 'hard', 'top', 'dance', 'teacher', 'venise', 'taaffe', 'directed', '350', 'kids', 'toes', 'dance', 'studio', 'recital', 'saratoga', 'community', 'center', 'day', 'taaffe', 'given', 'birth', 'little', 'dancer', 'megan', 'christine', 'community', 'hospital', 'rehabilitation', 'center', 'los', 'gatos-saratoga', 'hard', 'guzman', 'pressure', 'pennant', 'race', 'hard', 'ignore', 'tries', 'mound', 'getting', 'harder', 'sing', 'soprano', 'every', 'crack', 'rice', 'lives', 'fremont', 'hard', 'believe', 'someone', 'casting', 'role', 'life', 'hard', 'people', 'die', 'hard', 'find', 'someone', 'coulterville', 'know', 'jenkins', 'family', 'physical', 'training', 'come', 'hard', 'lessons', 'made', 'women', 'stronger', 'mentally', 'second', 'hardest', 'smoked', 'hams', 'smoky', 'taste', 'overpowers', 'taste', 'wine', 'hard', 'areias', 'others', 'fathom', 'california', 'retailers', 'association', 'reported', 'losses', 'credit', 'operations', 'last', 'year', 'totaled', '32', 'million', 'carter', 'hawley', 'hale', '26', 'million', 'may', 'co', '14', 'million', 'macy', 'california', '13', 'million', 'mervyn', 'hard', 'get', 'people', 'excited', 'without', 'military', 'threat', 'gaddis', 'smith', 'diplomatic', 'historian', 'yale', 'university', 'painful', 'erosion', 'skills', 'quitting', 'game', 'harder', 'still', 'little', 'packed', 'perhaps', 'four', 'co-chairs', '25', 'members', 'hard', 'imagine', 'moving', 'quickly', 'even', 'though', 'hammer', 'wants', 'hard', 'put', 'young', 'guy', 'predicament', 'although', 'hard', 'decorate', 'large', 'entrance', 'hall', 'take', 'extra', 'quite', 'useful', 'functions', 'know', 'hardest', 'thing', 'deal', 'scared', 'hard', 'find', 'concurrence', 'opinion', 'fromm', 'finds', 'remarkable', 'ignore', 'hold', 'different', 'opinion', 'enriched', 'sample', 'among', 'drug', 'effects', 'might', 'apparent', 'randomly', 'selected', 'group', 'much', 'harder', 'interpret', 'analyze', 'council', 'hard', 'task', 'earthquake', 'campos', 'contends', 'council', 'needs', 'business', 'skills', 'indeed', 'fed', 'latest', 'survey', 'bank', 'lending', 'showed', 'business', 'loans', 'home', 'mortgages', 'consumer', 'credit', 'continuing', 'become', 'harder', 'get', 'unfortunately', 'making', 'sounds', 'great', 'time', 'going', 'hard', 'decision', 'fellman', 'come', 'terms', 'still', 'hard', 'talk', 'unless', 'offer', 'equally', 'attractive', 'sales', 'terms', 'seller', 'might', 'hard', 'sell', 'home', 'lynch', 'always', 'thought', 'arbitrageurs', 'would', 'hard', 'convict', 'insider', 'trading', 'thomas', 'h', 'wilcox', 'investigator', 'national', 'transportation', 'safety', 'board', 'plane', 'making', 'landing', 'approach', 'friday', 'night', 'pilot', 'encountered', 'problems', 'radio', 'speaker', 'hard', 'time', 'hearing', 'control', 'tower', 'score', '8-4', 'might', 'hard', 'game', 'hinged', 'defensive', 'play', 'going', 'make', 'hard', 'lot', 'people', 'ben', 'lairson', '67', 'retired', 'mechanic', 'really', 'hard', 'slice', 'butter', 'cleanly', 'put', 'away', 'neatly', 'practical', 'matter', 'policy', 'harder', 'enforce', 'domestic', 'flights', 'require', 'passengers', 'show', 'passports', 'ray', 'drives', 'car', 'work', 'every', 'day', 'pretty', 'sure', 'engine', 'hard', 'locate', 'hard', 'hit', 'ball', 'high', 'driver', 'daly', 'next', 'months', 'godfather', 'soul', 'offer', 'music', 'hard', 'refuse', 'gut', 'reaction', 'right', 'thing', 'even', 'looking', 'hard', 'would', 'right', 'thing', 'things', 'hard', 'decline', 'individually', 'indeed', 'industry', 'hard', 'time', 'keeping', 'continuing', 'demand', 'gulf', 'war', 'items', 'sue', 'appeal', 'elusive', 'quality', 'hard', 'define', 'rays', 'hard', 'study', 'gamma', 'rays', 'born', 'deep', 'inside', 'atomic', 'nuclei', 'difficult', 'study', 'want', 'black', 'bat', 'wanted', 'someone', 'reader', 'could', 'identify', 'someone', 'hard', 'life', 'still', 'hard', 'conclude', 'subject', 'gets', 'far', 'attention', 'warranted', 'actual', 'constituency', 'population', 'increased', 'slowly', 'though', 'conditions', 'life', 'usually', 'hard', 'yes', 'would', 'hard', 'give', 'old', 'smells', 'linger', 'memory', 'think', 'probably', 'first', 'year', 'would', 'hardest', 'guess', 'bruce', 'steen', 'even', 'lenders', 'adjustable-rate', 'loans', 'often', 'vehicle', 'first-time', 'buyers', 'high-priced', 'areas', 'becoming', 'harder', 'get', 'day', 'logan', 'show', 'a-effect', 'occurs', 'outline', 'circles', 'filled-in', 'circles', 'hard', 'see', 'explanation', 'could', 'offered', 'present', 'without', 'knowing', 'hard', 'remedy', 'specific', 'problems', 'reason', 'assigning', 'regular', 'essays', 'difference', 'looking', 'blood', 'bank', 'supervisor', 'chief', 'financial', 'officer', 'except', 'blood', 'bank', 'supervisor', 'may', 'harder', 'find', 'howze', 'mobile', 'missiles', 'instance', 'hard', 'keep', 'track', 'although', 'must', 'displayed', 'treaty', 'environment', 'combatant', 'ship', 'sea', 'long', 'periods', 'difficult', 'men', 'living', 'accommodations', 'close', 'privacy', 'hard', 'ensure', 'wo', 'easy', 'funding', 'arts', 'groups', 'hard', 'find', 'days', 'hard', 'escape', 'religion', 'church', 'even', 'educational', 'programs', 'explicitly', 'religious', 'analysts', 'groupe', 'schneider', '78-a-share', 'proposal', 'came', 'form', 'letter', 'stead', 'rather', 'formal', 'tender', 'offer', 'might', 'hard', 'square', 'directors', 'turn', 'hard', 'see', 'board', 'win', 'thing', 'hard', 'mines', 'idle', 'long', 'borrow', 'money', 'hard', 'pay', 'back', 'right', 'away', 'saying', 'car', 'payments', 'rent', 'eat', 'half', '290', 'monthly', 'salary', 'since', 'pay', 'enough', 'deposit', 'apartment', 'even', 'room', 'would', 'hard', 'mourn', 'loss', 'tip', 'money', 'workshop', 'c', 'onsumer', 'credit', 'counseling', 'service', 'santa', 'clara', 'valley', 'present', 'free', 'workshop', 'managing', 'money', 'hard', 'economic', 'times', 'saturday', 'april', '13', '9', 'noon', 'sunnyvale', 'senior', 'citizen', 'center', '820', 'mckinley', 'st', 'room', '201', 'sunnyvale', 'judgment', 'subject', 'opinion', 'hard', 'believe', 'life', 'town', 'somewhat', 'bizarre', 'hard', 'winter', 'home', 'buyer', 'even', 'offenses', 'hard', 'find', 'yet', 'hard', 'find', 'evidence', 'either', 'directly', 'indirectly', 'things', 'kind', 'panic', 'struck', 'anyway', 'hard', 'ask', 'audience', 'come', 'anxious', 'without', 'giving', 'something', 'return', 'john', 'hageman', 'runs', 'small', 'moving', 'storage', 'company', 'got', 'stiffed', '500', 'described', 'hard', 'catch', 'even', 'winning', 'judgment', 'small', 'claims', 'court', 'shwe', 'real', 'estate', 'broker', 'hard', 'time', 'shaking', 'pro-developer', 'label', 'seems', 'poison', 'cupertino', 'really', 'hard', 'respond', 'really', 'matter', 'whether', 'gets', 'job', 'gets', 'married', 'become', 'lesbian', 'show', 'mcmillan', 'feeling', 'especially', 'good', 'though', 'hard', 'imagine', 'ever', 'less', 'affable', 'many', 'pitchers', 'use', 'wind-up', 'instead', 'stretch', 'situation', 'hard', 'baserunner', 'pick', 'move', 'prairie', 'dogs', 'little', 'underground', 'rodents', 'look', 'kind', 'like', 'walter', 'cronkite', 'sometimes', 'considered', 'hard', 'to-get-rid-of', 'nuisance', 'tv', 'producers', 'believe', 'stand-ups', 'become', 'necessity', 'good', 'actors', 'order', 'work', 'successfully', 'front', 'crowds', 'transition', 'working', 'others', 'hard', 'choices', 'limited', 'severe', 'cuts', 'extracurricular', 'activities', 'students', 'fault', 'hard', 'time', 'convincing', 'private', 'out-of-state', 'colleges', 'well-rounded', 'students', 'hard', 'imagine', 'cultures', 'would', 'able', 'divest', 'sexist', 'stereotypes', 'so-called', 'feminist', 'group', 'even', 'much', 'money', 'make', 'hard', 'decisions', 'even', 'though', 'hardest', 'part', 'steve', 'martin', 'always', 'fighting', 'privacy', 'take', 'success', 'granted', 'understanding', 'difficulty', 'art', 'poetry', 'believing', 'technical', 'criticism', 'worth', 'poetry', 'poets', 'felt', 'obliged', 'insist', 'upon', 'duty', 'hard', 'please', 'came', 'review', 'book', 'verse', 'drexel', 'burnham', 'lambert', 'discovered', 'hard', 'way', 'rebel', 'forces', 'offensive', 'diplomats', 'willing', 'discuss', 'peace', 'power-sharing', 'feel', 'addis', 'ababa', 'could', 'prove', 'harder', 'hold', 'capture', 'leave', 'home', 'last', 'road', 'trip', 'go', 'join', 'team', 'extremely', 'hard', 'extremely', 'frustrating', 'keeping', 'part', 'fresh', 'long', 'run', 'harrison', 'suggests', 'harder', 'cracking', 'first', 'place', 'debbie', 'gasparini', 'marketing', 'specialist', 'san', 'francisco-based', 'levi', 'company', 'details', 'survey', 'hard', 'comment', 'task', 'hard', 'tree', 'survive', 'follow', 'seven', 'basic', 'steps', 'hard', 'stop', 'learning', 'hardest', 'thing', 'see', 'used', 'chair', 'third', 'performance', 'drug', 'babies', 'hard', 'love', 'bond', 'hard', 'time', 'keeping', 'demand', 'required', 'forgive', 'matter', 'hard', 'may', 'tradition', 'lies', 'behind', 'iliad', 'odyssey', 'least', 'hard', 'deny', 'even', 'chicago', 'clutched', 'bottles', 'champagne', 'pressed', 'friends', 'wanted', 'share', 'celebration', 'kit', 'sutherland', 'seemed', 'find', 'hard', 'grasp', 'father', 'really', 'free', 'council', 'members', 'peacock', 'experience', 'abilities', 'would', 'hard', 'replace', 'stated', 'action', 'meant', 'show', 'support', 'staff', 'assembled', 'peacock', 'hard', 'enough', 'make', 'decision', 'take', 'someone', 'life', 'evidence', 'outrage', 'juror', 'jill', 'darmer', 'told', 'reporters', 'hearing', 'hard', 'put', 'finger', 'everything', 'sounded', 'nice', 'really', 'hard', 'know', 'going', 'competing', 'depends', 'girls', 'club', 'decides', 'bring', 'know', 'hurt', 'went', 'last', 'competition', 'bands', 'hard', 'classify', 'disturbing', 'peace', 'banzhaf', 'noted', 'hard', 'argue', 'men', 'paid', 'admission', 'see', '8-foot', 'genitals', 'screen', 'would', 'peace', 'disturbed', 'seeing', 'small', 'genital', 'next', 'dog', 'scent', 'scares', 'wildlife', 'trails', 'without', 'leash', 'may', 'hard', 'control', 'dog', 'meets', 'bear', 'hard', 'choices', 'schneiter', 'recommended', 'council', 'study', 'alternatives', 'controversial', 'traffic', 'plan', 'hard', 'get', 'national', 'republican', 'leadership', 'face', 'fact', '1980', \"'84\", \"'88\", 'platforms', 'abortion', 'planks', 'step', 'rank', 'file', 'party', 'let', 'alone', 'american', 'people', 'going', 'hard', 'particularly', 'hard', 'win', \"'yes\", 'campaign', 'added', 'karen', 'cooper', 'managed', 'losing', 'bid', 'give', 'patients', 'right', 'ask', 'aid', 'dying', 'crop', 'circles', 'large', 'photogenic', 'discs', 'rings', 'conveniently', 'appear', 'english', 'wheat', 'fields', 'usually', 'newsless', 'summer', 'months', 'hard', 'study', 'equity', 'certainly', 'make', 'harder', 'people', 'wanting', 'sell', 'homes', 'inequity', 'hudson', 'bleary-eyed', 'bonior', 'thursday', 'democrats', 'talked', 'all-nighter', 'morning', 'news', 'programs', 'succeeded', 'hammering', 'home', 'message', 'democrats', 'want', 'identified', 'people', 'hard', 'time', 'republicans', 'busy', 'taking', 'care', 'millionaires', 'may', 'hard', 'small', 'savers', 'follow', 'experts', 'admit', 'limited', 'production', 'compared', 'upper', 'deck', 'cards', 'company', 'supposed', 'harder', 'find', 'special', 'michael', 'jordan-batting', 'practice', 'card', 'salted', 'baseball', 'set', 'everyone', 'knows', 'joseph', 'schildkraut', 'best', 'supporting', 'actor', \"'the\", 'life', 'emile', 'zola', \"'romance\", 'radium', 'veteran', 'oscar-watchers', 'learned', 'hard', 'way', 'forgiving', 'writer', 'tell', 'writing', 'short', 'whole', 'lot', 'harder', 'writing', 'long', 'hard', 'playing', 'lakers', 'without', 'magic', 'warriors', 'point', 'guard', 'tim', 'hardaway', 'trees', 'mature', 'plants', 'cheap', 'hard', 'replace', 'check', 'read', 'lot', 'meryl', 'streep', 'concerning', 'role', 'women', 'film', 'hard', 'get', 'decent', 'part', 'want', 'go', \"'and\", 'know', 'meryl', 'black', 'opponents', 'fee', 'increase', 'new', 'structure', 'would', 'make', 'hard', 'people', 'qualify', 'buy', 'homes', 'campbell', 'unfair', 'make', 'developers', 'pay', 'facilities', 'benefit', 'community', 'little', 'go', 'around', 'hard', 'think', 'terms', 'expanding', 'services', 'even', 'pay', 'ones', 'got', 'mauriello', 'coffee-table', 'style', 'book', 'beautiful', 'photographs', 'hard', 'put', 'even', 'follow', 'gossip', 'royal', 'family', 'well', 'maybe', 'hard', 'imagine', 'hard', 'deny', 'wgs', 'resumes', 'show', 'disproportionate', 'share', 'wreaking', 'wrong', 'taimen', 'hard', 'catch', 'particularly', 'fly', 'fishermen', 'interest', 'switched', 'angling', 'salmon', 'hardest', 'job', 'making', 'sauce', 'without', 'cream', 'hardest', 'thing', 'finding', 'piano', 'road', 'often', 'animal', 'given', 'better', 'reason', 'got', 'big', 'hard', 'handle', 'instead', 'became', 'caught', 'concerns', 'shrinking', 'health', 'care', 'dollar', 'advances', 'technology', 'created', 'problems', 'even', 'god', 'would', 'hard', 'time', 'solving', 'white-and-dark', 'chocolate', 'terrine', 'chocolate', 'symphony', 'mouth', 'hard', 'terrorist', 'could', 'hurled', 'restaurant', 'window', 'still', 'think', 'would', 'hard', 'shoot', 'someone', 'know', 'protect', 'body', 'catalog', 'wind', 'weather', 'presents', 'large', 'selection', 'sundials', 'weather', 'vanes', 'good', 'gifts', 'hard', 'to-buy-for', 'types', 'could', 'pretty', 'hard', 'mountains', 'especially', 'shady', 'places', 'really', 'hard', 'time', 'accepted', 'rhonda', 'know', 'hard', 'go', 'find', 'job', 'carry', 'belongings', 'remember', 'lot', 'lot', 'lot', 'harder', 'spring', 'training', \"'89\", 'go', 'back', 'hit', 'rodney', 'king', 'case', 'imposition', 'better', 'ask', 'hard', 'questions', 'role', 'want', 'police', 'play', 'environmental', 'laws', 'made', 'harder', 'corps', 'cement', 'riverbanks', 'tendency', 'remains', 'flood', 'control', 'cheaply', 'possible', 'still', 'western', 'fans', 'hard', 'discourage', 'hard', 'game', 'bulldogs', 'coach', 'jim', 'sweeney', 'azocar', 'adventures', 'outfield', 'made', 'hard', 'tell', 'much', 'better', 'giants', 'played', 'result', 'meeting', 'animals', 'large', 'bodies', 'generate', 'heat', 'harder', 'time', 'getting', 'rid', 'small', 'animals', 'cover', 'charge', 'may', 'hard', 'find', 'spot', 'without', 'dinner', 'reservations', 'move', 'toward', 'next', 'century', 'confident', 'ever', 'home', 'abroad', 'must', 'done', 'hard', 'work', 'freedom', 'harder', 'become', 'well-known', 'kuwata', 'unfortunate', 'reality', 'present-day', 'politics', 'california', 'news', 'organizations', 'interest', 'told', 'hard', 'go', 'lugo', 'wednesday', 'sexual', 'harassment', 'widespread', 'hard', 'prove', 'since', 'recorded', 'hard', 'to-find', 'album', 'another', 'recent', 'destiny', 'steeplechase', 'become', 'celebrity', 'japan', 'hard', 'explain', 'wo', 'pass', 'parts', 'bill', 'administration', 'agree', 'example', 'provision', 'overturning', 'decision', 'existing', 'civil-rights', 'law', 'prohibits', 'racial', 'discrimination', 'employment', 'contracts', 'racial', 'discrimination', 'harassment', 'employee', 'job', 'usair', 'relatively', 'easy', 'surviving', 'spouse', 'pick', 'miles', 'harder', 'relatives', 'whether', 'picking', 'stocks', 'self-directed', 'brokerage', 'account', 'diversified', 'stock', 'fund', 'hard', 'ignore', 'historical', 'advantage', 'stock', 'returns', 'hold', 'savings', 'account-type', 'yields', '11', 'percent', 'vs', '7', '7', 'percent', 'last', 'two', 'decades', 'hard', 'imagine', 'pick', 'pieces', 'almost', 'every', 'gone', 'hard', 'color', 'produce', 'hard', 'imagine', 'children', 'studied', 'long', 'hours', 'geography', 'participate', 'show', 'going', 'hard', 'leave', 'fact', 'getting', 'reliable', 'injury', 'information', 'days', 'hard', 'ward', 'snafu', 'another', 'aspect', 'info-challenge', 'committee', 'members', 'hard', 'determine', 'whether', 'ford', 'could', 'carry', 'threat', 'women', 'movement', 'really', 'proposed', 'dramatic', 'change', 'thinking', 'sexual', 'coercion', 'hard', 'change', 'accept', 'university', 'new', 'hampshire', 'sociologist', 'david', 'finkelhor', 'author', 'license', 'rape', 'hard', 'tell', 'started', 'got', 'good', 'position', 'hard', 'get', 'around', 'always', 'hard', 'leave', 'successful', 'group', 'government', 'going', 'hard', 'job', 'defending', 'intention', 'change', 'britain', 'traditional', 'open', 'door', 'policy', 'commonwealth', 'citizens', 'policy', 'goes', 'back', '1608', 'lord', 'chief', 'justice', 'ellesmere', 'declared', 'james', 'entire', 'king', 'subjects', 'whichsoever', 'dominions', 'born', 'fruity', 'style', 'hard', 'beat', 'price', 'similar', 'ab', '860', 'going', 'hard', 'swallow', 'walters', 'almost', 'half', 'find', 'hard', 'make', 'ends', 'meet', 'real', 'hard', 'find', 'balance', 'hard', 'pick', 'favorite', 'hollyhock', 'ladies', 'inverted', 'flowers', 'topped', 'flower', 'bud', 'heads', 'precious', 'owners', 'complained', 'ordinance', 'would', 'make', 'properties', 'harder', 'sell', 'offering', 'nothing', 'return', 'even', 'democratic', 'party', 'hair', 'shirt', 'scratches', 'implied', 'threat', 'hard', 'detect', 'old', 'zest', 'combat', 'image-building', 'canadian', 'figure', 'skater', 'kurt', 'browning', 'hard', 'miss', 'ruling', 'would', 'almost', 'certainly', 'mean', 'tough', 'critical', 'articles', 'would', 'much', 'harder', 'time', 'finding', 'way', 'print', 'think', 'probably', 'first', 'year', 'would', 'hardest', 'find', 'families', 'satisfying', 'parts', 'lives', 'think', 'harder', 'parent', 'used', 'hold', 'nose', 'stare', 'hard', 'see', 'happening', 'fear', 'hard', 'get', 'real', 'attention', 'many', 'things', 'agenda', 'far', 'going', 'hard', 'hard', 'believe', 'writer-director', 'john', 'sayles', 'agrees', 'although', 'hard', 'prove', 'statistically', 'agents', 'appraisers', 'neighborhoods', 'particularly', 'susceptible', 'corporate', 'dumping', 'include', 'parts', 'almaden', 'valley', 'los', 'altos', 'morgan', 'hill', 'areas', 'along', 'interstate', '680', 'corridor', 'alameda', 'contra', 'costa', 'counties', 'took', 'hit', 'last', 'september', 'chevron', 'announced', 'transferring', '400', 'families', 'san', 'ramon', 'texas', 'ted', 'briggs', 'los', 'altos', 'enjoyed', 'morning', 'sailing', 'hard', 'believe', 'outside', 'heart', 'silicon', 'valley', 'miss', 'manners', 'knows', 'contemporary', 'folk', 'going', 'hard', 'time', 'believing', 'time', 'people', 'received', 'invitations', 'given', 'instructions', 'answering', 'union', 'city', 'council', 'member', 'finished', 'book', 'star', 'hopping', 'guide', 'help', 'amateur', 'astronomers', 'pinpoint', 'hard', 'to-find', 'objects', 'night', 'sky', 'hard', 'come', 'back', 'time', 'fund', 'managers', 'actively', 'managing', 'blue-chip', 'stock', 'portfolios', 'hard', 'time', 'beating', 'p', '500', 'aaii', 'research', 'director', 'john', 'markese', 'store', 'papers', 'hard', 'expensive', 'replace', 'carrying', 'whistle', 'signal', 'help', 'better', 'nothing', 'best', 'method', 'protection', 'hard', 'grope', 'whistle', 'bottom', 'purse', 'let', 'alone', 'blow', 'someone', 'attacking', 'finding', 'hard', 'way', 'hard', 'marvel', 'unremitting', 'good', 'fortune', 'man', 'call', 'everyday', 'losses', 'love', 'gone', 'bad', 'job', 'pain', 'ego', 'worst', 'disappointments', 'hard', 'based', 'hairs', 'big', 'texture', 'change', 'expect', 'glaspie', 'told', 'senators', 'comments', 'referred', 'abc', 'presentation', 'edited', 'version', 'show', 'broadcast', 'iraqi', 'television', 'cut', 'sawyer', 'hard', 'questions', '36', 'percent', 'females', '42', 'percent', 'males', 'think', 'women', 'movement', 'made', 'things', 'harder', 'males', 'work', 'although', 'administration', 'officials', 'remain', 'committed', 'sending', 'funds', 'mujahedeen', 'rebels', 'called', 'move', 'reflects', 'increasing', 'frustration', 'afghan', 'policy', 'outmoded', 'hard', 'defend', 'plenty', 'hold', 'attention', 'sometimes', 'hard', 'figure', 'stalking', 'latter', 'point', 'hard', 'dispute', 'even', 'program', 'points', 'big-time', 'universities', 'make', 'money', 'sports', 'whether', 'average', 'citizens', 'change', 'behavior', 'response', 'experience', 'see', 'read', 'government', 'crime', 'punishment', 'whether', 'become', 'less', 'ethical', 'cheat', 'taxes', 'turn', 'increasingly', 'disgusted', 'hard', 'hanigan', 'basically', 'marketing', 'expert', 'asserts', 'hard', 'sell', 'corporations', 'improving', 'recruiting', 'units', 'quality', 'hires', 'containing', 'costs', 'hard', 'keep', 'friend', 'hard', \"'i\", 'raped', 'friend', 'hear', 'encourages', 'students', 'talk', 'role-play', 'characters', 'motivations', 'actions', 'body', 'language', 'big', 'lesson', 'hard', 'lesson', 'needed', 'learn', 'hard', 'believe', 'land', 'ninevah', 'ur', 'numrud', 'lagash', 'uruk', 'babylon', 'garden', 'eden', 'facing', 'extinction', 'hard', 'believe', 'increase', 'budget', 'people', 'cutting', 'including', 'people', 'laid', 'outsider', 'might', 'hardest', 'time', 'seemingly', 'nonchalant', 'attitude', 'toward', 'death', 'exhibited', 'nearly', 'everyone', 'works', 'office', 'transmission', 'shifts', 'smoothly', 'hard', 'notice', 'change', 'hard', 'exactly', 'came', 'take', 'part', 'struggle', 'democracy', 'hard', 'days', 'feel', 'deep', 'gratitude', 'respect', 'brave', 'muscovites', 'went', 'streets', 'relentless', 'questioning', 'latest', 'lesson', 'hard', 'smith', 'defense', 'attorney', 'roy', 'black', 'asked', 'alleged', 'victim', 'suggestive', 'questions', 'designed', 'discredit', 'account', 'raped', 'smith', 'kennedy', 'family', 'compound', 'easter', 'weekend', 'night', 'met', 'fashionable', 'palm', 'beach', 'bar', 'judy', 'hard', 'time', 'understanding', 'left', 'simply', 'relationship', 'fell', 'apart', 'navratilova', 'trust', 'continue', 'ask', 'hard', 'questions', 'seek', 'honest', 'answers', 'bush', \"'a\", 'cruel', 'business', 'generally', 'speaking', 'think', 'expectation', 'keep', 'saying', 'cruel', 'business', 'hard', 'raise', 'hopes', 'family', 'diminished', 'teeing', 'cape', 'arundel', 'golf', 'club', 'part', 'computer', 'companies', 'afraid', 'heavy', 'dumping', 'duties', 'already', 'expensive', 'screens', 'make', 'hard', 'succeed', 'japanese', 'competitors', 'lap-top', 'business', 'hearing', 'first', 'make', 'hard', 'decisions', 'fremont', 'school', 'budget', 'cuts', 'drew', 'overflow', 'crowd', 'packed', 'city', 'council', 'chambers', 'spilled', 'corridor', 'dozens', 'watched', 'session', 'television', 'health', 'insurers', 'regulators', 'ask', 'hard', 'questions', 'medical', 'establishment', 'learn', 'future', 'likelier', 'alumni', 'friends', 'districts', 'might', 'find', 'hard', 'let', 'go', 'past', 'merger', 'makes', 'sense', 'future', 'deal', 'match', '142', 'million', 'cirrus', 'known', 'savvy', 'aggressive', 'marketing', 'company', 'approximately', '20', 'million', 'crystal', 'analysts', 'advanced', 'technology', 'hard', 'to-design', 'analog', 'chips', 'hard', 'predict', 'impact', 'dbs', 'satellite', 'systems', 'hard', 'question', 'answer', 'much', 'book', 'dexter', 'abc', 'first', 'season', 'scrambling', 'pilfering', 'signals', 'likely', 'get', 'harder', 'next', 'year', 'legislation', 'relies', 'broad', 'definition', 'weapons', 'classified', 'relics', 'curios', 'authorities', 'guns', 'become', 'easier', 'buy', 'harder', 'bill', 'author', 'intended', 'wines', 'tasted', 'hardest', 'produce', 'need', 'least', 'years', 'become', 'drinkable', 'never', 'cheap', 'day', 'thought', 'invented', 'perfect', 'no-moving-parts', 'no-fuel-required', 'spaceship', 'launcher', 'tube', '100', 'miles', 'high', 'yards', 'wide', 'ok', 'would', 'hard', 'build', 'moreover', 'broad', 'decline', 'u', 'manufacturing', 'made', 'harder', 'many', 'laid-off', 'steel', 'autoworkers', 'move', 'fields', 'important', 'far', 'ahead', 'place', 'like', 'hard', 'pass', 'hard', 'get', \"'artie\", 'jeff', 'armstrong', 'business', 'manager', 'brothers', \"'farrell\", 'theatre', 'san', 'francisco', 'hard', 'understand', 'wake', 'lived', 'house', 'seem', 'hard', 'thing', 'sad', 'realities', 'lilly', 'life', 'fact', 'meltzer', 'love', 'never', 'satisfied', 'wishful', 'thinking', 'longer', 'stay', 'harder', 'get', 'back', 'hard', 'imagine', 'earnings', 'better', 'tai', 'factors', 'difficult', 'prove', 'banzhaf', 'hard', 'imagine', 'almost', 'exclusively', 'male', 'patrons', 'paid', 'admission', 'see', 'much-larger-than-life', 'genitals', 'silver', 'screen', 'would', 'peace', 'disturbed', 'seeing', 'actual', 'genital', 'displayed', 'fellow', 'patron', 'people', 'going', 'hard', 'see', 'john', 'pike', 'associate', 'director', 'space', 'policy', 'federation', 'american', 'scientists', 'fearless', 'basic', 'brownie', 'belief', 'batter', 'tastes', 'good', 'burn', 'hard', 'ruin', 'batch', 'brownies', 'make', 'something', 'totally', 'inedible', 'hard', 'time', 'believing', 'ever', 'anything', 'could', 'prove', 'bane', 'proving', 'discrimination', 'mortgage', 'applicants', 'much', 'harder', 'dunne', 'second', 'runs', 'getting', 'hard', 'come', 'getting', 'late', 'game', 'mistake', 'harder', 'figure', 'sometimes', 'hard', 'separate', 'drought', 'damage', 'freeze', 'damage', 'tampa', 'franchise', 'owner', 'phil', 'esposito', 'hard', 'time', 'paying', 'bills', 'selling', 'tickets', 'going', 'hard', 'know', 'getting', 'guys', 'grillo', 'hard', 'give', 'contracts', 'like', 'catechism', 'mainly', 'tools', 'keeping', 'research', 'projects', 'course', 'something', 'often', 'hard', 'science', 'pointing', 'large', 'number', 'non-earning', 'loans', 'held', 'bank', 'boston', 'fleet', 'moynihan', 'weight', 'shoulders', 'hard', 'competitive', 'comes', 'jewish', 'stereotypes', 'hard', 'tell', 'difference', 'bonfire', 'abe', 'weiss', 'evil', 'silent-film', 'jews', '70', 'years', 'ago', 'arco', 'total', 'alaskan', 'production', 'fell', '6', 'percent', 'last', 'year', 'wells', 'aged', 'declining', 'underground', 'pressure', 'made', 'harder', 'get', 'oil', 'surface', 'hard', 'explain', 'feel', 'burrell', '24', 'victory', 'gallop', 'around', 'infield', 'downing', 'stadium', 'randalls', 'island', 'whose', 'track', 'considered', 'fast', 'hard', 'get', 'straight', 'story', 'anyone', 'harder', 'question', 'oil', 'gasoline', 'markets', 'closely', 'linked', 'track', 'exactly', 'either', 'compliance', 'working', 'hard', 'compliance', 'clifford', 'burrous', 'acting', 'chief', 'ames', 'office', 'safety', 'reliability', 'quality', 'assurance', 'dessert', 'split', 'hard', 'shortcake', 'biscuit', 'topped', 'fresh', 'strawberries', 'blueberries', 'whipped', 'cream', '4', '50', 'people', 'found', 'best', 'ovens', 'electric', 'want', 'cook', 'top', 'stove', 'electric', 'hard', 'control', 'weekends', 'sunnyvale', 'public', 'library', 'central', 'facility', 'hard', 'find', 'place', 'park', 'hard', 'tell', 'director', 'whitney', 'j', 'leblanc', 'would', 'done', 'hands', 'tied', 'set', 'designer', 'since', 'blame', 'reputation', 'rather', 'like', 'crystal', 'goblet', 'dropped', 'hard', 'put', 'back', 'together', 'u', 'trade', 'representative', 'carla', 'hills', 'remarked', 'asked', 'japan', 'image', 'united', 'states', 'gulf', 'war', 'fact', 'even', 'hard', 'get', 'touring', 'pros', 'golf', 'architects', 'agree', 'definition', 'unfair', 'hole', 'hard', 'exaggerate', 'thoroughly', 'metz', 'come', 'dominate', 'market', 'mentally', 'prepared', 'pretty', 'much', 'emotionally', 'really', 'hard', 'louise', 'ray', 'boys', 'mother', 'sunday', 'home', 'sarasota', 'fla', 'hard', 'understand', 'harder', 'choice', 'willing', 'league', 'wade', 'flores', 'using', 'program', 'since', 'last', 'summer', 'free', 'lunches', 'helped', 'family', 'cope', 'hard', 'economic', 'times', 'inadequacies', 'enemy', 'long', 'apparent', 'hard', 'unite', 'behind', 'tough', 'trade', 'policy', 'results', 'jacking', 'price', 'toyota', 'digital', 'audio', 'tape', 'player', 'raised', 'upper', 'mid-level', 'managers', 'even', 'something', 'hard', 'explain', 'see', 'hard', 'catch', 'recession', 'lesson', 'many', 'businesses', 'learned', 'hard', 'way', 'play', 'close', 'edge', 'although', 'hard', 'predict', 'economic', 'mood', 'september', 'garrett', 'enthused', 'enough', 'lineup', 'predict', '4', 'million', 'day', 'wo', 'hard', 'hard', 'see', 'variants', 'aggression', 'could', 'extrapolated', 'sperm', 'design', 'maybe', 'maybe', 'hard', 'know', 'hard', 'enough', 'get', 'bill', 'congress', 'levels', 'magnitude', 'difficult', 'get', 'resolution', 'u', 'general', 'assembly', 'hard', 'people', 'worrying', 'losing', 'jobs', 'ask', 'sign', 'something', 'like', 'really', 'stresses', 'hard', 'learn', 'hard', 'believe', 'everybody', 'ever', 'worked', 'political', 'campaign', 'ends', 'hanging', 'shingle', 'campaign', 'consultant', '20', 'years', 'ago', 'exactly', 'three', 'heavy-hitting', 'professional', 'campaign', 'consultants', 'democratic', 'side', 'strother', 'drabek', 'better', 'glavine', 'second', 'half', 'hard', 'beat', 'three', 'ri', 'rs', 'stadium', 'glavine', 'all-star', 'starter', 'accustomed', 'commotion', 'used', 'hard', 'individual', 'tourists', 'travel', 'east', 'germany', 'communist', 'government', 'encouraged', 'group', 'travel', 'pacific', 'spread', 'played', 'defense', 'makes', 'hard', 'stop', 'run', 'rep', 'hard', 'time', 'asking', 'hard', 'ask', 'child', 'care', 'environment', 'enough', 'food', 'always', 'hard', 'cook', 'two', 'ever', 'since', 'got', 'real', 'pleasure', 'cooked', 'number', 'guests', 'inn', 'sort', 'reversal', 'cliff', 'robertson', 'popular', 'charly', 'regarding', 'henry', 'hard', 'film', 'warm', 'result', 'soviet', 'refugees', 'harder', 'time', 'finding', 'good-paying', 'jobs', 'staying', 'welfare', 'things', 'hard', 'confirm', 'unless', 'actually', 'grench', 'hard', 'admit', 'might', 'something', 'wrong', 'leslie', 'corwin', 'specialist', 'partnership', 'law', 'new', 'york', 'firm', 'morrison', 'cohen', 'singer', 'weinstein', 'hard', 'tv', 'drama', 'show', 'something', 'screen', 'hope', 'arouse', 'emotions', 'arrived', 'st', 'paul', 'local', 'office', 'american', 'automobile', 'association', 'hard', 'time', 'directing', 'bethel', 'college', 'neapolitans', 'hard', 'time', 'summarizing', 'feel', 'hard', 'less', 'groceries', 'less', 'going', 'eat', 'type', 'entertainment', 'deanne', 'knott', 'sorter', 'stark', 'packing', 'president', 'bush', 'tout', 'incremental', 'changes', 'baby', 'steps', 'change', 'malpractice', 'law', 'make', 'harder', 'sue', 'doctors', 'last', 'week', 'lawyer', 'harris', 'requested', 'postponement', 'citing', 'u', 'supreme', 'court', 'ruling', 'april', '16', 'made', 'harder', 'state', 'prisoners', 'make', 'repeated', 'federal', 'court', 'challenges', 'convictions', 'jeremy', 'irons', 'box', 'magic', 'amid', 'rubbish', 'shift', 'stage', 'screen', 'hard', 'actors', 'wax', 'dripped', 'onto', 'curves', 'crevices', 'metal', 'candlestick', 'hard', 'remove', 'spiritual', 'benefits', 'rewards', 'hard', 'define', 'share', 'experience', 'total', 'devotion', 'pure', 'holy', 'life', 'orthodoxy', 'dictates', 'looks', 'clean', 'sweet', 'hard', 'imagine', 'ever', 'anything', 'nasty', 'movies', 'giants', 'begin', 'final', 'first-half', 'homestand', 'tuesday', 'houston', 'hard', 'way', 'sunday', 'knew', 'coming', 'would', 'hard', 'score', 'many', 'points', 'scouring', 'box', 'scores', 'searching', 'overlooked', 'sensations', 'hard', 'find', 'syntax', 'sparky', 'anderson', 'quote', 'good', 'location', 'getting', 'harder', 'find', 'hard', 'viewers', 'understand', 'merely', 'poking', 'nagging', 'whining', 'standard', 'tricks', 'reporting', 'trade', 'people', 'tell', 'anything', 'worm', 'countries', 'hard', 'believe', 'even', 'legal', 'television', 'hotel', 'rooms', 'hard', 'believe', 'left', 'house', 'sometimes', 'hard', 'employers', 'workers', 'recognize', 'difference', 'spontaneous', 'expression', 'frustration', 'something', 'menacing', 'holiday', 'decorating', 'season', 'beginning', 'originality', 'hard', 'beat', 'christmas', 'tree', 'dressed', 'nines', '75', 'barbies', 'evening', 'gowns', 'tv', 'close-ups', 'today', 'hard', 'get', 'away', 'anything', 'kind', 'hard', 'toes', 'work', 'researchers', 'vagaries', 'reporting', 'relatively', 'new', 'disease', 'hard', 'tell', 'spread', 'really', 'stopped', 'fact', 'hard', 'imagine', 'worse', 'performance', 'u', 'government', 'longer', 'period', 'time', 'screens', 'inordinately', 'hard', 'manufacture', 'many', 'must', 'rejected', 'imperfect', 'making', 'expensive', 'nightmare', 'blood', 'hard', 'get', 'system', 'thursday', 'recalling', 'incident', 'virginia', 'mcquilla', 'husky', 'voice', 'simply', 'hardest', 'thing', 'ever', 'hard', 'chalk', 'two', 'events', 'mere', 'coincidence', 'timing', 'appear', 'bush', 'hard', 'time', 'trying', 'really', 'deliver', 'panel', 'could', 'find', 'hard', 'evidence', 'prozac', 'anti-depressant', 'drugs', 'cause', 'people', 'commit', 'suicide', 'violent', 'acts', 'think', 'moving', 'decade', 'looking', 'future', 'lot', 'harder', '15', 'years', 'ago', 'hard', 'hard', 'understand', 'logic', 'sometimes', 'like', 'oates', 'updike', 'best', 'however', 'banks', 'strictly', 'realistic', 'writer', 'remarkably', 'comprehensive', 'sympathetic', 'vision', 'human', 'condition', 'hardest', 'realities', 'fun', 'see', 'longer', 'please', 'someone', 'hard', 'please', 'wood', 'q', 'friend', 'tells', 'redwood', 'sawdust', 'fine', 'use', 'hard', 'to-work', 'soils', 'think', 'going', 'hard', 'deal', 'built', 'much', 'going', 'true', 'friends', 'end', 'career', 'hard', 'first', 'askey', 'remembering', 'first', 'weeks', 'worked', 'laundry', 'make', 'hard', 'know', 'root', 'segment', 'show', 'airs', 'late', 'december', 'probably', 'forget', 'told', 'barbaccias', 'cuts', 'educational', 'jargon', 'union', 'rallying', 'hard', 'perceive', 'settlement', 'based', 'logic', 'reasoning', 'compromise', 'could', 'reached', 'months', 'earlier', 'jerry', 'smith', 'clearly', 'hard', 'man', 'convince', 'hike', 'hard', 'actually', 'even', 'show-biz', 'terms', 'hard', 'know', 'crawford', 'san', 'mateo', 'box', 'hard', 'find', 'something', 'eat', 'downtown', 'san', 'mateo', 'e', 'hard', 'date', 'hard', 'turn', 'direction', 'kids', 'saying', \"'i\", 'kid', 'walsh', 'advises', 'parents', 'blunt', 'advertising', 'bombardment', 'cutting', 'back', 'supervising', 'children', 'television', 'viewing', 'clear', 'time', 'imsai', 'cp', 'F', 'm-based', 'personal', 'computer', 'came', 'hard', 'ignore', 'royalty', 'checks', 'going', '45-degree', 'angle', 'hard', 'walters', 'exception', 'unjustly', 'neglected', 'avram', 'davidson', 'hard', 'imagine', 'american', 'writer', 'well-suited', 'evan', 'connell', 'create', 'book', 'hard', 'know', 'latrines', 'always', 'mirrors', 'since', 'attentions', 'male', 'senior', 'lady', 'nice', 'well', 'hard', 'come', 'perhaps', 'act', 'foolishly', 'permissively', 'sake', 'parts', 'reports', 'confusing', 'hard', 'tell', 'whether', 'right', 'hard', 'start', 'lay', 'long', 'hard', 'sympathize', 'guy', 'stupid', 'woebegone', 'hard', 'favorite', 'hard', 'miss', 'absurdity', 'machine', 'mcmillen', 'plea', 'need', 'organize', 'scrabble-letter', 'heaps', 'thought', 'clear', 'language', 'lying', 'easier', 'person', 'harder', 'others', 'detect', 'know', 'hard', 'get', 'boy', 'good', 'college', 'hard', 'understand', 'time', 'gone', 'strasburger', 'hard', 'imagine', 'anything', 'private', 'moment', 'death', 'seemed', 'hard', 'believe', 'dull', 'joe', 'cotten', 'could', 'charmed', 'widows', 'hitchcock', 'shadow', 'doubt', 'harmon', 'would', 'piece', 'cake', 'no-risk', 'deal', 'surety', 'obvious', 'still', 'hard', 'understand', 'confused', 'bureaucrats', 'booted', 'deal', 'around', 'months', 'family', 'two', 'three', 'children', 'valley', 'hard', 'time', 'finding', 'affordable', 'housing', 'housing', 'brennan', 'yet', '80', 'years', 'later', 'surrounded', 'crime', 'crumbling', 'housing', 'hard', 'believe', 'city', 'ever', 'answers', 'let', 'alone', 'knew', 'questions', 'dominant', 'cardinal', '38-21', 'victory', 'saturday', 'accentuated', 'vardell', '182', 'yards', 'three', 'touchdowns', 'hard', 'imagine', 'stanford', '1-3', 'lurking', 'pacific', 'conference', 'cellar', 'humbling', 'losses', 'washington', 'arizona', 'notre', 'dame', 'less', 'two', 'months', 'ago', 'hardest', 'etiquette', 'lesson', 'learned', 'rest', 'targeting', 'individuals', 'minor', 'children', 'unsolicited', 'advice', 'major', 'rudenesses', 'nearly', '40', 'percent', 'watched', 'movie', 'demi', 'moore-patrick', 'swayze', 'weeper', 'made', 'much', 'money', 'theaters', 'hard', 'believe', 'people', 'missed', 'would', 'dream', 'trying', 'call', 'forth', 'ouija', 'board', 'apparently', 'quite', 'hard', 'get', 'rid', 'hard', 'guy', 'like', 'ahead', 'count', 'time', 'really', 'hard', 'tell', 'kids', 'going', 'work', 'tomorrow', 'another', 'problem', 'producers', 'perception', 'venison', 'tough', 'gamy', 'hard', 'cook', 'bunce', 'hard', 'dislike', 'jim', 'noble', 'lord', 'lord', 'strang', 'done', 'splendid', 'work', 'gladly', 'add', 'tribute', 'paid', 'others', 'chairman', 'long', 'national', 'parks', 'commission', 'hard', 'row', 'hoe', 'longer', 'put', 'harder', 'gets', 'suite', 'old', 'russian', 'dances', 'opened', 'inaugural', 'program', 'slow', 'modest', 'entrance', 'maidens', 'built', 'steadily', 'typical', 'moiseyev', 'vigor', 'warmth', 'amusing', 'yurochka', 'hard', 'to-please', 'young', 'man', 'given', 'come-uppance', 'lovely', 'course', 'vigorous', 'polyanka', 'meadow', 'three', 'moldavian', 'dances', 'entitled', 'zhok', 'sweet', 'funny', 'little', 'dance', 'potato', 'planting', 'called', 'bul', \"'ba\", 'hilarious', 'picture', 'social', 'life', 'earlier', 'day', 'called', 'city', 'quadrille', 'good', 'remembers', 'welcome', 'back', 'judging', 'stroll', 'clubsport', 'fremont', 'hard', 'think', 'members', 'sacrifice', 'anything', 'find', 'hard', 'shrug', 'pirated', 'election', 'scenario', 'two', 'reasons', 'circumstantial', 'evidence', 'bizarre', 'cast', 'characters', 'hard', 'part', 'things', 'necessary', 'get', 'front', 'goal', 'staying', 'school', 'shape', 'team', 'foothill', 'offense', 'easy', 'hard', 'hard', 'enough', 'convincing', 'drug', 'alcohol', 'abusing', 'teen-ager', 'seek', 'help', 'programs', 'make', 'difficult', 'expecting', 'go', 'treatment', 'school', 'weekends', 'chestnut', 'blight', 'killed', 'millions', 'trees', 'back', 'east', 'migrated', 'west', 'coast', 'hard', 'time', 'growing', 'see', 'many', 'newark', 'school', 'trustees', 'already', 'know', 'want', 'keep', 'budget', 'next', 'fall', 'comes', 'hard', 'part', 'eliminate', 'lendl', 'blew', 'leads', '2-0', '5-3', 'third', 'set', 'complained', 'officials', 'hard', 'play', 'noise', 'crowd', 'approximately', '8', 'thriving', 'america', 'harder', 'ever', 'hard', 'imagine', 'river', 'warm', 'summer', 'evening', 'without', 'clouds', 'caddis', 'mayflies', 'rising', 'rainbows', 'dimpling', 'surface', 'allen', 'scrap', 'metal', 'become', 'popular', 'thieves', 'hard', 'trace', 'machines', 'chew', 'quickly', 'destroy', 'chances', 'identifying', 'owner', 'since', 'females', 'give', 'birth', 'single', 'calf', 'every', 'two', 'years', 'hard', 'appreciate', 'perilously', 'close', 'extinction', 'humpback', 'hard', 'imagine', 'could', 'squelch', 'entire', 'opening', 'society', 'gone', 'hard', 'time', 'understanding', 'kept', 'going', 'back', 'kittle', 'would', 'hard', 'imagine', 'john', 'lennon', 'writing', 'song', 'like', 'chocolate', 'cake', 'lambasting', 'americans', 'decadent', 'tastes', 'andrew', 'lloyd', 'webber', 'musicals', 'tammy', 'faye', 'bakker', 'religion', 'much', 'rich', 'cake', 'hard', 'define', 'artist', 'jean', 'hanamoto', 'hard', 'tell', 'like', 'hurricane', 'middle', 'field', 'people', 'hard', 'time', 'staying', 'sunday', 'opening', 'two', 'hours', 'meander', 'around', 'globe', 'setting', 'columbus', 'times', 'motivation', 'struggle', 'get', 'someone', 'finance', 'dream', 'sailing', 'west', 'reach', 'east', 'hard', 'categorize', 'letters', 'nature', 'tone', 'good', 'determination', 'reach', 'agreement', 'positive', 'looking', 'closely', 'details', 'pane', 'glass', 'hard', 'jokes', 'hard', 'translate', 'adding', 'translator', 'eager', 'begin', 'another', 'japanese-american', 'collaboration', 'hard', 'duty', 'necessary', 'divine', 'hardest', 'thing', 'learning', 'material', 'candidate', 'complicates', 'ways', 'make', 'hard', 'decisions', 'hurt', 'candidacy', 'great', 'counted', 'always', 'hard', 'gauge', 'pitchers', 'robinson', 'reuschel', 'spring-training', 'outings', 'time', 'gets', 'little', 'hard', 'rely', 'race-neutral', 'issues', 'explanations', 'makes', 'hard', 'sell', 'tickets', 'mail', 'delivered', 'two', 'years', 'late', 'j', 'stage', 'pushes', 'asked', 'believed', 'evans', 'killed', 'many', 'people', 'lusk', 'seeing', 'child', 'body', 'hard', 'disbelieve', 'hard', 'even', 'get', 'hospital', 'without', 'medical', 'insurance', 'john', 'le', 'carre', 'spy', 'novelist', 'described', 'greene', 'guiding', 'star', 'great', 'magical', 'writer', 'hard', 'fit', 'pattern', 'hard', 'part', 'way', 'zaner', 'understood', 'generalizations', 'harder', 'make', 'united', 'states', 'however', 'tickets', 'hottest', 'hardest', 'get', 'parents', 'five', 'lovely', 'children', 'hard', 'enough', 'encourage', 'abstinence', 'without', 'articles', 'like', 'abortion', 'kit', 'living', 'sept', '11', 'dunlap', 'sure', 'company', 'companies', 'responsible', 'ftc', 'investigation', 'asked', 'might', 'sunnyvale-based', 'amd', 'hard', 'sheer', 'creativity', 'hard', 'beat', 'playroom', 'broderbund', 'software', 'lottery', 'money', 'represents', '3', 'cents', 'every', 'school', 'dollar', 'start', 'officials', 'encouraged', 'schools', 'spend', 'money', 'one-time', 'purchases', 'warned', 'building', 'money', 'budget', 'base', 'things', 'salaries', 'benefits', 'becomes', 'hard', 'extract', 'find', 'hard', 'believe', 'check', 'mailbox', 'idea', 'help', 'people', 'find', 'pets', 'denzer', 'whose', 'stylishly', 'cut', 'blond', 'hair', 'perfect', 'lipstick', 'make', 'hard', 'imagine', 'cruising', 'animal', 'shelters', 'taking', 'photos', 'doomed', 'dogs', 'cats', 'would', 'hard', 'vaguer', 'mushier', 'administration', 'so-called', 'commitments', 'wyden', 'feeling', 'elation', 'hard', 'describe', 'bill', 'toone', 'curator', 'birds', 'san', 'diego', 'wild', 'animal', 'park', 'key', 'member', 'california', 'condor', 'recovery', 'team', 'includes', 'federal', 'state', 'officials', 'ambrosius', 'admitted', 'estimate', 'extremely', 'broad', 'figures', 'hard', 'pin', 'industry', 'infancy', 'flight', 'director', 'al', 'pennington', 'hard', 'whether', 'discovery', 'would', 'collided', 'object', 'hip-pocket', 'tactics', 'going', 'harder', 'apply', 'tommy', 'armour', \"'after\", 'played', 'hole', 'longer', 'blind', 'easiest', 'thing', 'world', 'make', 'hard', 'golf', 'course', 'hard', 'fathom', 'bunch', 'clowns', 'hang', 'silly', 'dead-end', 'idea', 'like', 'post-it', 'notes', 'decade', 'right', 'east', 'bay-san', 'francisco', 'ferries', 'carrying', '500', 'passengers', 'day', 'decrease', '200', 'year', 'ago', 'hard', 'find', 'support', 'legislature', 'continuing', 'state', 'financial', 'aid', 'sen', 'quentin', 'kopp', 'i-san', 'francisco', 'bush', 'would', 'speed', 'federal', 'licensing', 'nuclear', 'power', 'plants', 'make', 'harder', 'states', 'block', 'nuclear-waste', 'dump', 'sites', 'long-sought', 'goals', 'moribund', 'nuclear-power', 'industry', 'e', 'even', 'general', 'information', 'hard', 'get', 'stream', 'position', 'hardest', 'part', 'dealing', 'fact', 'survived', 'wellborn', 'living', 'frankfurt', 'germany', 'hard', 'times', 'part', 'challenge', 'blank', 'daughter', 'tennessee', '14', 'considered', 'hardest', 'fastest', 'method', 'days', 'week', 'tell', 'team', 'young', 'female', 'lawyer', 'older', 'ex-con', 'private', 'eye', 'hard', 'write', 'hard', 'understand', 'even', 'jan', 'stenerud', 'finds', 'hard', 'believe', 'series', 'circumstances', 'led', 'pro', 'football', 'hall', 'fame', 'really', 'hard', 'show', 'stuff', 'traditional', 'galleries', 'equipment', 'overhead', 'abbe', 'multimedia', 'artist', 'specializes', 'interactive', 'oral', 'histories', 'think', 'real', 'hard', 'sometimes', 'turn', 'around', 'intensity', 'next', 'time', 'around', 'stanford', 'coach', 'tara', 'vanderveer', 'team', 'hardest', 'thing', 'chase', 'give', 'another', 'hug', 'hard', 'see', 'making', 'la', 'russa', 'hard', 'leave', 'motown', 'sense', 'recording', 'home', 'many', 'years', 'hard', 'see', 'work', 'gone', 'sheesh', 'dames', 'hard', 'figure', 'grew', 'hard', 'way', 'given', 'tender', 'father-son', 'scene', 'hard', 'think', 'john', 'mcenroe', 'bad', 'boy', 'tennis', 'bill', 'would', 'overturn', 'five', '1989', 'u', 'supreme', 'court', 'decisions', 'made', 'harder', 'women', 'members', 'minority', 'groups', 'win', 'job', 'discrimination', 'lawsuits', 'way', 'figures', 'lose', 'move', 'away', 'half-hour', 'nbc', 'anthology', 'series', 'found', 'extremely', 'hard', 'put', 'together', 'week', 'hard', 'concentrate', 'things', 'ok', 'hard', 'decision', 'lots', 'tears', 'betty', 'peach-ewing', 'owner', 'center', 'operates', 'amid', 'rundown', 'apartments', 'south', 'rengstorff', 'avenue', 'hard', 'deal', 'budget', 'constraints', 'war', 'going', 'time', 'bright', 'spot', 'jobs', 'hard', 'find', 'starting', 'salaries', 'apparently', 'declined', 'even', 'inched', 'somewhat', 'hard', 'know', 'pleased', 'shopper', 'narrowed', 'choice', 'windows', 'macintosh', 'plain', 'dos', 'hard', 'part', 'hard', 'makers', 'control', 'potency', 'easy', 'addicts', 'overdose', 'authorities', 'reason', 'added', 'delay', 'maj', 'mark', 'rader', 'spokesman', 'military', 'postal', 'service', 'agency', 'harder', 'hit', 'moving', 'target', 'although', 'cavers', 'try', 'contaminate', 'cave', 'pretty', 'hard', 'eat', 'lunch', 'without', 'dropping', 'small', 'crumb', 'northup', 'suggested', 'short', 'cut', 'proves', 'hard', 'travel', 'mission', 'santa', 'cruz', 'founded', 'august', '1791', 'even', 'hard', 'get', 'feeling', 'back', 'game', 'maybe', 'hard', 'get', 'know', 'going', 'hard', 'notion', 'permanent', 'congress', 'balances', 'power', 'presidency', 'hard', 'swallow', 'current', 'do-nothing', 'sit-there', 'state', 'politics', 'stayed', 'many', 'wonderful', 'people', 'speak', 'english', 'really', 'hard', 'goodbye', 'make', 'harder', 'car', 'start', 'tipping', 'first', 'place', 'far', 'consumers', 'union', 'concerned', 'samurai', 'whole', 'problem', 'hard', 'see', 'potential', 'buyer', 'afford', 'accord', 'choosing', 'elantra', 'different', 'class', 'car', 'hardest', 'moment', 'life', 'hard', 'imagine', 'women', 'came', 'hard', 'way', 'together', 'close', 'friends', 'generation', 'trying', 'make', 'transition', 'broadway', 'becoming', 'recording', 'artist', 'lot', 'reasons', 'hard', 'hard', 'guess', 'man', 'plays', 'laid-back', 'al', 'bundy', 'married', 'restoring', 'peace', 'pranab', 'mukherjee', 'congress', 'party', 'elder', 'current', 'spokesman', 'conceded', 'take', 'hard', 'economic', 'decisions', 'doubt', 'particularly', 'must', 'seek', 'support', 'traditional', 'opponents', 'hard', 'way', 'lose', 'ianni', 'really', 'hard', 'time', 'shelly', 'kidwell', 'felton', 'mother', 'volunteered', 'children', 'advocate', 'santa', 'clara', 'county', 'two', 'years', 'harder', 'merry', 'christmas', 'know', 'santa', 'clara', 'county', 'lost', '14', 'jobs', 'past', 'year', 'month', 'ago', 'things', 'supposed', 'picking', 'support', 'bush', 'hard', 'find', 'pennsylvania', 'avenue', 'lot', 'harder', 'everything', 'cigarettes', 'hard', 'get', 'overeating', 'writers', 'used', 'tell', 'hardest', 'show', 'television', 'write', 'know', 'much', 'much', 'roddenberry', 'told', 'times', 'hard', 'count', 'number', 'ways', 'personal', 'computer', 'changed', 'working', 'lives', 'millions', 'education', 'kids', 'hard', 'understand', 'concluded', 'snakes', 'grow', 'appreciably', 'attaining', 'maturity', 'working', 'species', 'java', 'perhaps', 'tropical', 'snakes', 'unusual', 'respect', 'figures', 'kind', 'hard', 'many', 'never', 'left', 'san', 'jose', 'nothing', 'terribly', 'sinister', 'going', 'smart', 'business', 'especially', 'recession', 'customers', 'harder', 'come', 'hardest', 'things', 'beckenhauer-heller', 'long', 'hard', 'fight', 'growing', 'hard', 'enough', 'without', 'encouraged', 'pursue', 'accept', 'every', 'contradictory', 'feeling', 'emotion', 'might', 'wisely', 'developing', 'behind-the-camera', 'skills', 'perhaps', 'preparing', 'day', 'acting', 'jobs', 'may', 'harder', 'come', 'longer', 'creative', 'enough', 'satisfy', 'hard', 'find', 'instruments', 'crafted', 'well', 'enough', 'actually', 'sound', 'good', 'look', 'good', 'someone', 'truly', 'cared', 'quality', 'craftsmanship', 'made', 'hard', 'time', 'keeping', 'store', 'tad', 'dawley', 'kings', 'slap', 'shop', 'store', 'westchester', 'found', 'hard', 'resist', 'holderman', 'hard', 'imagine', 'prettier', 'teacher', 'live', 'high-priced', 'area', 'work', 'lot', 'hard', 'find', 'time', 'together', 'hard', 'thing', 'handle', 'wife', 'berlin', 'resilience', 'amazing', 'hire', 'labor', 'west', 'struggle', 'hard', 'indeed', 'hard', 'team', 'figure', 'coaching', 'switch', 'find', 'harder', 'month', 'make', 'ends', 'meet', 'hardest', 'thing', 'mother', 'bury', 'children', 'check', 'olives', 'though', 'prefer', 'deeper', 'flavors', 'cured', 'olives', 'canned', 'ripe', 'olives', 'used', 'many', 'dishes', 'hard', 'keep', 'list', 'still', 'wanders', 'sidelines', 'bullets', 'games', 'wont', 'hard', 'place', 'member', 'organization', 'fears', 'publication', 'name', 'would', 'complicate', 'search', 'hard', 'enough', 'man', '54', 'asked', 'troubled', 'last', 'year', 'stacked', 'previous', 'decade', 'running', 'stanford', 'year', 'included', 'grilling', 'congress', 'calls', 'resignation', 'litany', 'well-publicized', 'problems', 'deadpanned', 'little', 'harder', 'hard', 'believe', 'worse', 'defensive', 'outfielder', 'braves', 'lonnie', 'smith', 'hard', 'put', 'past', 'heard', 'elsewhere', 'may', 'hard', 'think', 'future', 'ever', 'played', 'someone', 'good', 'contrary', 'complain', 'almost', 'tedious', 'uniformity', 'hard', 'work', 'artistic', 'endeavours', 'entail', 'even', 'amid', 'laughter', 'kevin', 'rigged', 'ingenious', 'ways', 'outsmart', 'burglars', 'found', 'hard', 'abandon', 'absurdity', 'scenes', 'hard', 'time', 'growing', 'sorry', 'rather', 'hard', 'follow', 'drama', 'ends', 'abruptly', 'peculiar', 'sequence', 'suggesting', 'michelangelo', 'win', 'respect', 'highly', 'critical', 'father', 'means', 'day-to-day', 'even', 'week-to-week', 'basis', 'even', 'people', 'charge', 'various', 'projects', 'hard', 'time', 'determining', 'whether', 'within', 'budget', 'without', 'objective', 'evaluation', 'facts', 'hard', 'expect', 'big', 'benefits', 'formation', 'state', 'commission', 'implement', 'control', 'cease-fire', 'derailleur', 'gearing', 'outside', 'rear', 'wheel', 'hub', 'go', 'alignment', 'abuse', 'kids', 'give', 'bike', 'simple', 'one-speed', 'lot', 'harder', 'destroy', 'question', 'getting', 'harder', 'answer', 'goes', 'beyond', 'esoteric', 'world', 'liver', 'transplants', 'take', 'large', 'issues', 'allocate', 'health', 'care', 'scarcity', 'reality', 'personal', 'attachments', 'de-junking', 'home', 'hard', 'brain', 'surgery', 'hard', 'complicated', 'move', 'country', 'world', 'attempting', 'secede', 'yugoslavia', 'difficult', 'slovenia', 'ethnically', 'homogenous', 'could', 'much', 'harder', 'ethnically', 'mixed', 'republic', '4', '5', 'million', 'yet', 'hard', 'dismiss', 'impact', 'depression', 'hard', 'bond', 'baby', 'like', 'lewis', 'slump', 'hard', 'see', 'indians', 'could', 'return', 'fermin', 'manager', 'john', 'mcnamara', 'outside', 'often', 'hard', 'tell', 'restaurant', 'private', 'home', 'read', 'japanese', 'third', 'angry', 'letter', 'writer', 'column', 'makes', 'goal', 'harmonious', 'existence', 'bicyclists', 'motorists', 'pedestrians', 'even', 'harder', 'achieve', 'yeltsin', 'would', 'agree', 'share', 'power', 'man', 'consistently', 'tried', 'intimidate', 'humiliate', 'hard', 'fathom', 'kind', 'hard', 'keep', 'secret', 'somebody', 'notre', 'dame', 'alumni', 'association', 'books', '20', 'rooms', 'new', 'orleans', 'new', 'year', 'heard', 'good', 'school', 'hard', 'get', 'kind', 'radical', 'judge', 'hoped', 'seat', 'jury', 'days', 'sides', 'acknowledge', 'hard', 'finding', 'impartial', 'panel', 'hard', 'accept', 'need', 'move', 'overcrowd', 'pan', 'hard', 'turn', 'stuffing', 'easily', 'washes', 'right', 'hot', 'water', 'hard', 'find', 'cuba', 'law', 'degree', 'struggled', 'hard', 'acquire', 'value', 'nearly', 'impossible', 'work', 'outside', 'home', 'two', 'men', 'insist', 'giving', 'hard', 'deck-chairs', 'two', 'women', 'would', 'ungracious', 'women', 'refuse', 'terms', 'using', 'feelings', 'emotional', 'life', 'really', 'feel', 'like', 'acting', 'way', 'harder', 'father', 'knew', 'life', 'would', 'hard', 'communists', '1975', 'thien', 'bui', 'patriotic', 'elected', 'stay', 'thinking', 'could', 'way', 'help', 'country', 'addition', 'usual', 'difficulties', 'raising', '6', 'million', 'festival', 'draws', 'much', 'support', 'widely', 'scattered', 'audience', 'extra', 'hard', 'nicholson', 'seek', 'corporate', 'underwriting', 'common', 'source', 'capital', 'funds', 'hard', 'figure', 'people', 'would', 'fear', 'rulers', 'apple', 'may', 'respect', 'royalty', 'ibm', 'peasants', 'hate', 'hard', 'see', 'changing', 'time', 'soon', 'announcing', 'capital', 'spending', 'cuts', 'crandall', 'key', '1992', 'profitability', 'extent', 'impact', 'bankrupt', 'semi-bankrupt', 'carriers', 'moderated', 'point', 'hard', 'optimistic', 'help', 'many', 'grew', 'seeing', 'contemporary', 'work', 'find', 'hard', 'believe', 'period', 'piece', 'next', 'came', 'really', 'hard', 'parts', 'serving', 'hot', 'main', 'course', 'frozen', 'dessert', 'even', 'older', 'kids', 'like', 'hard', 'recognized', 'dark', 'find', 'hard', 'sound', 'cliched', 'describing', 'sight', 'lap-top', 'computer', 'owners', 'know', 'greater', 'freedom', 'work', 'road', 'beach', 'quickly', 'discover', 'seven-pound', 'lap-top', 'seems', 'weigh', '20', 'end', 'trip', 'hotels', 'make', 'difficult', 'connect', 'portable', 'computer', 'phone', 'line', 'fax', 'modems', 'treacherous', 'things', 'transferring', 'files', 'lap-top', 'desk-top', 'computer', 'network', 'often', 'harder', 'looks', 'system', 'set', 'keep', 'calling', 'parents', 'truant', 'students', 'entire', 'message', 'plays', 'make', 'harder', 'students', 'intercept', 'calls', 'course', 'hard', 'look', 'big', 'picture', 'hard', 'stay', 'without', 'family', 'computer', 'industry', 'seen', 'definite', 'signs', 'slowing', \"'brien\", 'growth', 'even', 'harder', 'come', 'future', 'kirk', 'west', 'vice', 'chairman', 'commission', 'president', 'california', 'chamber', 'commerce', 'split', 'roll', 'would', 'hit', 'disproportionately', 'hard', 'silicon', 'valley', 'arguing', 'increased', 'taxes', 'would', 'make', 'harder', 'valley', 'keep', 'aerospace', 'electronics', 'industries', 'wooed', 'states', 'state', 'federal', 'governments', 'provide', 'limited', 'number', 'grants', 'restoration', 'historic', 'properties', 'hard', 'obtain', 'besides', 'damaging', 'psyche', 'offending', 'aesthetic', 'sensibilities', 'scarred', 'bases', 'edges', 'make', 'ski', 'slower', 'harder', 'turn', 'less', 'predictable', 'statewide', 'hard', 'differentiate', 'drought', 'impacts', 'recession', 'today', 'frederick', 'cannon', 'vice', 'president', 'senior', 'economist', 'bank', 'america', 'memories', 'make', 'harder', 'teach', 'adults', 'swim', 'children', 'experts', 'lot', 'expressed', 'sense', 'much', 'tackle', 'hard', 'know', 'start', 'know', 'hard', 'believe', 'strong', 'persona', 'inside', 'idea', 'nosair', 'reason', 'kill', 'kahane', 'come', 'believe', 'radical', 'zionist', 'softened', 'hard', 'line', 'arabs', 'mideast', 'kunstler', 'opening', 'statement', 'nosair', 'murder', 'trial', 'sense', 'going', 'gain', 'back', 'easy', 'day', 'lost', 'hard', 'day', 'body', 'break', 'course', 'season', 'hard', 'turn', 'cal', 'moves', 'sixth', '8-1', 'sixth-ranked', 'cal', 'team', 'hard', 'turn', 'zatarain', 'attend', 'next', 'saturday', 'arizona', 'state-cal', 'game', 'stay', 'bay', 'area', 'bowl', 'selections', 'announced', 'next', 'sunday', 'comes', 'hard', 'part', 'losing', 'least', 'nine', 'pounds', 'holding', 'foster', 'testament', 'guiding', 'principles', 'disney', 'marketers', 'like', 'hard', 'part', 'getting', 'consumer', 'buy', 'first', 'tape', 'may', 'hard', 'imagine', 'substitute', 'would', 'serve', 'purposes', 'well', 'emotional', 'support', 'hard', 'come', 'thought', 'mezz', 'amore', 'made', 'almonds', 'bittersweet', 'chocolate', 'hard', 'dry', 'example', 'hard', 'imagine', 'king', 'needling', 'middle', 'eastern', 'potentate', 'attitude', 'toward', 'women', 'walters', 'late', 'shah', 'iran', 'hard', 'brave', 'know', 'hard', 'digest', 'pretty', 'hard', 'come', 'look', '1955', 'chateau', 'beychevelle', 'hard', 'make', 'good', 'impression', 'court', 'wearing', 'orange', 'jumpsuit', 'lawrence', 'biggam', 'santa', 'cruz', 'county', 'public', 'defender', 'proposal', 'finalized', 'make', 'harder', 'private', 'landowners', 'log', 'areas', 'owl', 'lives', 'hard', 'imagine', 'happening', 'today', 'society', 'immediate', 'widespread', 'tangible', 'impact', 'lampf', 'ruling', 'would', 'hard', 'top', 'check', 'hard', 'believe', 'case', 'closed', 'stamp', 'finally', 'applied', 'trump', 'vs', 'trump', 'admit', 'though', 'long', 'hours', 'rehabilitation', 'wondering', 'would', 'make', 'back', 'hard', 'spot', 'difficult', 'exactly', 'competitive', 'consumer', 'credit', 'market', 'report', 'noting', 'information', 'hard', 'get', 'hard', 'tell', 'ask', 'hard', 'stay', 'sober', 'see', 'nba', 'hard', 'thing', 'try', 'get', 'back', 'washburn', \"'it\", 'might', 'hard', 'black', 'people', 'tell', 'slap', 'black', 'people', 'used', 'getting', 'slapped', 'check', 'writer', 'hinted', 'juice', 'worse', 'gas', 'would', 'harder', 'haul', 'extension', 'cord', 'borrow', 'electrical', 'outlet', 'carry', 'gasoline', 'know', 'modern', 'age', 'harder', 'put', 'information', 'freedom', 'back', 'bottle', 'hard', 'everyone', 'understand', '1941', 'lots', 'people', 'thinking', 'suicide', 'striped', 'bass', 'fish', 'may', 'suffer', 'lack', 'food', 'although', 'right', 'hard', 'distinguish', 'effects', 'clam', 'invasion', 'drought', 'knew', 'might', 'hard', 'convince', 'father', 'wanted', 'money', 'case', 'medical', 'emergency', 'chang', 'perspective', 'hard', 'see', 'shouting', 'hard', 'analyze', 'group', 'incumbents', 'might', 'committee', 'impact', 'climate', 'change', 'nature', 'would', 'hard', 'control', 'optimistic', 'ability', 'u', 'industry', 'farming', 'adapt', 'warming', 'weather', 'testing', 'lags', 'far', 'behind', 'hard', 'link', 'symptoms', 'specific', 'emissions', 'week', 'since', 'magic', 'johnson', 'announced', 'hiv-positive', 'increasingly', 'busy', 'place', 'even', 'though', 'hard', 'people', 'take', 'simple', 'test', 'keep', 'drawer', 'next', 'time', 'boss', 'gives', 'hard', 'time', 'recommends', 'continuing', 'education', 'courses', 'developing', 'effective', 'people', 'skills', 'hard', 'work', 'phrase', 'consent', 'governed', 'needs', 'hard', 'look', 'good', 'friend', 'hopefully', 'hard', 'work', 'done', 'swing', 'going', 'pay', 'dividends', 'really', 'show', 'slapstick', 'side', 'still', 'works', 'interpretation', 'play', 'kids', 'see', 'much', 'fun', 'shakespeare', 'often', 'associated', 'hard', 'academic', 'disciplines', 'orlando', 'antidote', 'dependency', 'identity', 'routinely', 'advocates', 'classic', 'values', 'hard', 'work', 'individual', 'initiative', 'self-reliance', 'even', 'bigotry', 'continually', 'resisted', 'box', 'comment', 'game-winning', 'single', 'compliment', 'hard', 'work', 'moreau', 'coach', 'mike', 'bungarz', 'therefore', 'real', 'hard', 'cash', 'bases', 'argument', 'manchester', 'ready', 'pay', 'top', 'price', '25', 'seat', 'fill', 'theatre', 'manchester', 'expect', 'world-famous', 'ones', 'always', 'provided', 'claims', 'unhappily', 'conflict', 'la', 'scala', 'new', 'york', 'metropolitan', 'opera', 'vienna', 'venice', 'paris', 'san', 'francisco', 'rest', 'world', 'leading', 'opera', 'houses', 'hard', 'lines', 'hook', 'style', 'took', 'hoffmann', 'another', 'teacher', 'year', 'persuade', 'take', 'harder', 'classes', 'taken', 'long', 'hard', 'look', 'minority', 'dissenters', 'wild', 'habitats', 'indeed', 'disappearing', 'species', 'human', 'expansion', 'supposed', 'magnitude', 'rate', 'extinctions', 'unsubstantiated', 'hard', 'evidence', 'probably', 'exaggerated', 'lot', 'hard', 'earned', 'money', 'lose', 'today', 'like', 'english', 'master', 'mason', 'realizes', 'subjects', 'large', 'simplified', 'masses', 'though', 'seem', 'effortless', 'reality', 'result', 'skilled', 'design', 'born', 'hard', 'work', 'thorough', 'distillation', 'natural', 'form', 'inspired', 'left', 'faces', 'hard', 'lives', 'come', 'passions', 'heated', 'desert', 'air', 'move', 'toward', 'next', 'century', 'confident', 'ever', 'home', 'abroad', 'must', 'done', 'hard', 'work', 'freedom', 'question', 'came', 'hard', 'way', 'question', 'accuracy', 'version', 'probably', 'noticed', 'virtually', 'cities', 'including', 'real', 'armpits', 'like', 'boast', 'museums', 'symphonies', 'course', 'last', 'things', 'really', 'want', 'end', 'hard', 'day', 'traveling', 'could', 'courageous', 'hard', 'working', 'fair-minded', 'amiable', 'clearer', 'harder', 'tougher', 'national', 'self-assessment', 'davies', 'authorities', 'long', 'suspected', 'sjonborg', 'wilde', 'slaying', 'lacked', 'hard', 'evidence', 'estranged', 'wife', 'came', 'forward', 'sept', '6', 'recanted', 'earlier', 'alibi', 'given', 'sjonborg', 'day', 'wilde', 'death', 'self-discipline', 'diligence', 'hard', 'work', 'exemplary', 'look', 'old', 'dumpy', 'stolid', 'hard', 'faces', 'know', 'would', 'call', 'luck', 'plain', 'hard', 'work', 'probably', 'combination', 'mother', 'put', 'lot', 'hours', 'ended', 'successful', 'business', 'hard', 'work', 'recalls', 'john', 'breeding', 'year', 'younger', 'lester', 'resident', 'live', 'oak', 'hearings', 'forced', 'tim', 'stead', '37', 'supervisor', 'san', 'jose', 'manufacturing', 'plant', 'take', 'hard', 'look', 'past', 'treatment', 'women', 'mr', 'daly', 'hard', 'news', 'man', 'become', 'dismayed', 'recent', 'trends', 'journalism', 'others', 'silicon', 'valley', 'encouraged', 'richly', 'rewarded', 'hard', 'work', 'perseverance', 'teachers', 'singled', 'condemned', 'even', 'joyous', 'moments', 'songs', 'something', 'talk', 'good', 'man', 'good', 'woman', 'sultry', 'slow', 'ride', 'luck', 'draw', 'asks', 'tough', 'questions', 'takes', 'hard', 'look', 'never-ending', 'balance', 'ideals', 'realities', 'administration', 'wants', 'hard', 'evidence', 'soviets', 'moving', 'free', 'market', 'economy', 'massive', 'aid', 'considered', 'proposing', 'toast', 'guests', 'mr', 'thomas', 'lonsdale', 'catering', 'industry', 'today', 'required', 'brains', 'pointed', 'capacity', 'absorb', 'technical', 'knowledge', 'differed', 'hard', 'realism', 'routine', 'catering', 'demanded', 'brains', 'skill', 'common', 'sense', 'understanding', 'human', 'nature', 'well', 'highest', 'possible', 'degree', 'courtesy', 'mix', 'hard', 'facts', 'horoscopes', 'advice', 'offered', 'end', '900', 'lines', 'group', 'mainline', 'christians', 'adding', 'another', 'choice', 'comfort', 'inspiration', 'wilson', 'needs', 'take', 'hard', 'look', 'state', 'spending', 'resources', 'comes', 'poor', 'elderly', 'disabled', 'grandmothers', 'might', 'described', 'hard', 'woman', 'today', 'trying', 'desperately', 'recapture', 'yesterday', 'ingenue', 'clouds', 'parted', 'hard', 'gashes', 'sunlight', 'swooped', 'stain', 'earth', 'streaks', 'white', 'gold', 'light', 'shadows', 'running', 'horses', 'flowed', 'like', 'dark', 'streams', 'dazzling', 'snow', 'friend', 'commiserates', 'way', 'avoid', 'hard', 'work', 'fellow', 'council', 'members', 'praised', 'rogers', 'hard', 'work', 'dedication', 'professors', 'hard', 'science', 'disciplines', 'engineering', 'found', 'satisfied', 'jobs', 'colleagues', 'lime', 'always', 'hand', 'capitol', 'basement', 'plaster', 'repairs', 'slaked', 'several', 'months', 'make', 'stiffer', 'really', 'putty-like', 'consistency', 'avoid', 'cracking', 'added', 'little', 'hydrated', 'lime', 'hard', 'hands', 'could', 'see', 'disadvantage', 'invite', 'anyone', 'hard', 'information', 'kuwait', 'contradicts', 'preliminary', 'findings', 'get', 'quickly', 'possible', 'evidently', 'came', 'solution', 'owning', 'home', 'forgot', 'add', 'patience', 'hard', 'work', 'jane', 'thought', 'sudden', 'uncharacteristically', 'hard', 'perception', 'chevy', 'engined', 'stalled', 'mears', 'failed', 'pick', 'fuel', 'mears', 'took', 'hill', 'made', 'hard', 'left', 'turn', 'toward', 'checkered', 'flag', 'force', 'designed', 'take', 'hard', 'look', 'capabilities', 'potential', 'opponents', 'around', 'world', 'hard', 'work', 'spring', 'training', 'paid', 'tuesday', 'hard', 'feelings', 'denying', 'obvious', 'sex', 'appeal', 'bolton', 'clearly', 'earned', 'position', 'prominence', 'artistically', 'commercially', 'music', 'industry', 'tremendous', 'talents', 'singer', 'songwriter', 'many', 'years', 'hard', 'work', 'dedication', 'yet', 'hard', 'work', 'ability', 'live', 'within', 'means', 'produced', 'seen', 'finished', 'eyes', 'hard', 'corporate', 'information', 'systems', 'managers', 'need', 'take', 'good', 'hard', 'look', 'people', 'need', 'develop', 'simple', 'useful', 'applications', 'deliver', 'up-to-date', 'information', 'knowledge', 'workers', 'hands', 'however', 'hard', 'look', 'current', 'career', 'path', 'system', 'shows', 'work', 'time', 'adios', 'hard', 'feelings', 'californians', 'need', 'take', 'long', 'hard', 'look', 'stop', 'hiding', 'behind', 'fuzzy', 'liberated', 'notions', 'freedom', 'home', 'rustic', 'older', 'home', 'four', 'acres', 'woodside', 'gets', 'lot', 'hard', 'use', 'people', 'backers', 'played', 'part', 'hard', 'work', 'collecting', '19', 'signatures', 'recall', 'brother', 'sister', 'seemed', 'sort', 'mutual-aid', 'society', 'little', 'fortress', 'kindness', 'hard', 'world', 'disagreement', 'matters', 'kept', 'hard', 'feelings', 'dying', 'cover', 'piece', 'current', 'people', 'magazine', 'takes', 'hard', 'look', 'pair', 'see', 'often', 'anymore', 'point', 'royal', 'watchers', 'figured', 'together', '39', 'days', 'pro', 'athletes', 'never', 'know', 'good', 'face', 'kind', 'hard', 'reality', 'yuh', '25', 'unaccustomed', 'hard', 'edge', 'new', 'york', 'humor', 'found', 'breslin', 'remarks', 'sexist', 'school', 'discipline', 'hard', 'work', 'right-from-wrong', 'highest', 'priority', 'ironically', 'consulting', 'business', 'firmly', 'established', 'could', 'run', 'location', 'couple', 'taking', 'long', 'hard', 'look', 'career', 'potential', 'job', 'dickerson', 'admitted', 'still', 'hard', 'feelings', 'toward', 'colts', 'management', 'sunday', 'two', 'weeks', 'hard', 'thinking', 'blondie', 'bumstead', 'entered', 'workforce', 'caterer', 'industry', 'analysts', 'japan', 'ibm', 'faces', 'hard', 'fight', 'japanese', 'market', 'price', 'competition', 'notebook', 'computers', 'fierce', 'loyalty', 'japanese', 'brands', 'runs', 'deep', 'even', 'radical', 'professors', 'require', 'hard', 'work', 'self-reliance', 'students', 'institution', 'got', 'real', 'estate', 'oil', 'gas', 'takes', 'hard', 'look', 'year', 'write', 'peculiar', 'portfolio', 'meyer', 'best', 'antidote', 'bitterness', 'disappointment', 'poisoned', 'hard', 'work', 'corrections', 'counselor', 'ric', 'hyland', 'hard', 'time', 'armed', 'robbery', '25', 'years', 'ago', 'stood', 'shoulder', 'shoulder', '31-year-old', 'groom', 'whose', 'criminal', 'record', 'includes', '42', 'misdemeanor', 'four', 'felony', 'convictions', 'drug', 'alcohol', 'related', 'crimes', 'three', 'terms', 'san', 'quentin', 'demure', 'moment', 'hard', 'decisive', 'next', 'caught', 'dual', 'sides', 'complex', 'character', 'hard', 'work', 'concludes', 'sufficient', 'recover', 'create', 'winning', 'formula', 'parents', 'perhaps', 'fall', 'three', 'sections', 'glad', 'finish', 'formal', 'education', '14', 'earlier', 'obtained', 'professional', 'qualification', 'hard', 'way', 'traditional', 'english', 'system', 'remember', 'university', 'would', 'oxford', 'cambridge', 'london', 'medical', 'school', 'attorneys', 'william', 'lucas', 'barker', 'unsuccessful', 'bid', 'client', 'charges', 'dismissed', 'grounds', 'hard', 'scientific', 'proof', 'aids', 'recently', 'workshop', 'tri-valley', 'citizens', 'radioactive', 'environment', 'heard', 'physicist', 'lab', 'comment', 'project', 'may', 'well', 'mothballed', 'completion', 'soviets', 'already', 'much', 'excess', 'capacity', 'produce', 'enriched', 'uranium', 'using', 'technology', 'given', 'desperate', 'need', 'hard', 'currency', 'would', 'willing', 'undersell', 'anyone', 'planet', 'task', 'force', 'take', 'hard', 'look', 'funding', 'programming', 'academic', 'support', 'sjs', 'must', 'enhance', 'division', 'program', 'thanks', 'hard', 'work', 'diligent', 'researchers', 'classic', 'two-reel', 'comedies', 'legendary', 'chick', 'morton', 'eddie', 'hayes', 'long', 'believed', 'lost', 'discovered', 'forgotten', 'film', 'vault', 'tonight', 'begin', 'unprecedented', 'revival', 'cbs', 'americans', 'unique', 'responsibility', 'hard', 'work', 'freedom', 'suddenly', 'voice', 'grew', 'hard', 'officials', 'incentive', 'look', 'hard', 'effectiveness', 'drug', 'programs', 'simply', 'paying', 'air', 'force', 'navy', 'flying', 'steaming', 'would', 'anyway', 'budgets', 'learned', 'hard', 'way', 'trial', 'error', 'learned', 'clung', 'shadowy', 'mardonius', 'simultaneously', 'hard', 'noble', 'greek', 'soldier', 'soft', 'curling-lipped', 'persian', 'tyrant', 'bearded', 'clean-shaven', 'sides', 'faint', 'ghost-mardonius', 'sky', 'potentiality', 'half-real', 'played', 'songs', 'successful', 'album', 'schubert', 'dip', 'harder', 'edge', 'record', 'importantly', 'create', 'effort', 'performance-based', 'system', 'send', 'message', 'students', 'hard', 'work', 'pays', 'dividends', 'learning', 'important', 'tough', 'courses', 'path', 'success', 'cooperman', 'truth', 'arab', 'tries', 'make', 'stand', 'somewhat', 'moderate', 'hard', 'line', 'killed', 'hard', 'feelings', 'developed', 'within', 'months', 'rosenberg', 'followed', 'cooley', 'seafirst', 'washington', 'state', 'largest', 'bank', 'last', 'word', 'water', 'smart', 'severe', 'water', 'rationing', 'hanging', 'heads', 'take', 'time', 'hard', 'look', 'garden', 'weed', 'wimps', 'two', 'research', 'psychologists', 'university', 'california', 'santa', 'cruz', 'happen', 'married', 'want', 'take', 'hard', 'scientific', 'look', 'interesting', 'aspects', 'amore', 'years', 'charlie', 'seen', 'every', 'way', 'human', 'life', 'end', 'heart', 'attack', 'stroke', 'car', 'accident', 'hanging', 'suffocation', 'crib', 'death', 'drowning', 'even', 'murders', 'every', 'way', 'survivors', 'deal', 'hard', 'reality', 'pretel', 'bride', 'covered', 'tattoos', 'prison', 'imprimaturs', 'hard', 'time', 'served', 'amid', 'hard', 'feelings', 'failed', 'merger', 'legal', 'squabbling', 'began', 'disney', 'use', 'henson', 'characters', 'disney', 'theme', 'parks', 'lawyers', 'sides', 'churn', 'briefs', 'lot', 'sits', 'dusty', 'vacant', 'home', 'lanky', 'eucalyptus', 'lot', 'hard', 'feelings', 'hard', 'eye', 'informed', 'moll', 'sure', \"'nuff\", 'officer', 'hard', 'work', 'almost', 'everything', 'rendered', 'hard', 'fast', 'ham-fisted', 'manner', 'subtle', 'kick', 'gut', 'hard', 'look', 'status', 'women', 'workplace', 'shows', 'check', 'record', 'numbers', 'women', 'entering', 'traditional', 'male', 'professions', 'law', 'business', 'medicine', 'tom', 'fast', 'scotts', 'valley', 'stepped', 'crowd', 'hard', 'embrace', 'first', 'blush', 'allied', 'unity', 'look', 'divergence', 'views', 'washington', 'berlin', 'deal', 'hard', 'new', 'men', 'kremlin', 'taylor', 'remained', 'leading', 'candidate', 'succeed', 'seidman', 'bush', 'told', 'reporters', 'last', 'week', 'seidman', 'resignation', 'decided', 'start', 'take', 'hard', 'look', 'looking', 'show', 'making', 'real', 'hard', 'turn', 'worst', 'busfield', 'means', 'create', 'community', 'mutual', 'acceptance', 'creating', 'open', 'responsive', 'political', 'process', 'sound', 'educational', 'system', 'forums', 'community', 'members', 'work', 'key', 'issues', 'achievable', 'least', 'degree', 'persistence', 'hard', 'work', 'taking', 'hard', 'look', 'ways', 'generate', 'additional', 'revenues', 'pre-monkees', 'singing', 'little', 'harder', 'edge', 'hunting', 'everywhere', 'ways', 'save', 'money', 'employee', 'health', 'insurance', 'taking', 'hard', 'look', 'two-income', 'couples', 'thought', 'indication', 'still', 'hard', 'feelings', 'toward', 'segments', 'community', 'new', 'honey-haired', 'somers', 'sexy', 'thoughtful', 'articulate', 'self-assured', 'without', 'hard', 'edges', 'past', 'besides', 'way', 'win', 'palo', 'alto', 'credibility', 'hard', 'work', 'fancy', 'mailers', 'many', 'breakthroughs', 'researchers', 'would', 'prefer', 'talk', 'hard', 'science', 'leave', 'extravagant', 'marketing', 'claims', 'others', 'least', 'ophelia', 'gave', 'chance', 'go', 'mad', 'hard', 'work', 'map', 'right', 'approved', 'majority', 'committee', 'product', 'hard', 'work', 'conducted', 'public', 'people', 'trying', 'right', 'thing', 'praises', 'efforts', 'grandfather', 'sister', 'lived', 'relatives', 'father', 'walked', 'family', 'thomas', '7', 'believed', 'hard', 'work', 'faith', 'god', 'moral', 'values', 'could', 'overcome', 'adversity', 'making', 'hard', 'joyce', 'laugh', 'hard', 'equation', 'success', 'equation', 'simple', 'determination', 'discipline', 'hard', 'work', 'success', 'mayor', 'chalks', 'mcclain', 'controversy', 'misunderstandings', 'hard', 'feelings', 'book', 'goal', 'writes', 'suggest', 'study', 'hard', 'work', 'first-time', 'buyers', 'often', 'reduce', 'need', 'capital', 'substitute', 'guarantees', 'cash', 'borrow', 'money', 'even', 'limited', 'incomes', 'assume', 'going', 'hard', 'feelings', 'hard', 'work', 'luck', 'able', 'accumulate', 'considerable', 'net', 'worth', 'turtles', 'learned', 'lot', 'benefits', 'diligence', 'hard', 'work', 'way', 'rock', 'stardom', 'raphael', 'found', 'surprised', 'person', 'could', 'bear', 'hard', 'another', 'believe', 'logic', 'reason', 'hard', 'work', 'proctor', 'sinks', 'eyelashes', 'quicksand', 'offense', 'okun', 'probably', 'good', 'guy', 'charming', 'grover', 'publicist', 'supposed', 'hard', 'look', 'company', 'works', 'lacking', 'hard', 'data', 'social', 'scientists', 'poll', 'takers', 'offer', 'array', 'educated', 'often', 'contradictory', 'guesses', 'explain', 'widespread', 'support', 'thomas', 'among', 'women', 'sure', 'provides', 'hours', 'enjoyment', 'urban', 'professionals', 'hard', 'day', 'wrangling', 'sales', 'reports', 'mosey', 'back', 'condominiums', 'rustle', 'mess', 'sushi', 'spend', 'old-fashioned', 'western-style', 'evening', 'analyzing', 'jean', 'damage', 'additional', 'hard', 'intelligence', 'data', 'appeared', 'two', 'years', 'later', 'pentagon', 'much', 'rest', 'state', 'department', 'informed', 'suspicious', 'algerian', 'reactor', 'people', 'must', 'get', 'lumps', 'hard', 'way', 'apparently', 'daughter', 'convinced', 'reason', 'cities', 'counties', 'find', 'enough', 'qualified', 'asians', 'hire', 'looking', 'hard', 'enough', 'state', 'california', 'wants', 'take', 'long', 'hard', 'look', 'trip-related', 'health', 'accident', 'insurance', 'determine', 'sale', 'people', '65', 'older', 'subject', 'greater', 'regulation', 'yet', 'study', 'suggests', 'lawsuits', 'legislation', 'hard', 'work', 'money', 'spent', '1970s', 'began', 'show', 'results', 'marine', 'environment', '1980s', 'hard', 'evidence', 'suggest', 'feathers', 'developed', 'sears', 'announced', 'actions', 'board', 'began', 'two-day', 'meeting', 'expected', 'take', 'hard', 'look', 'flagging', 'retailing', 'business', 'search', 'way', 'regain', 'lost', 'customers', 'profits', 'hard', 'economic', 'facts', 'extolled', 'values', 'taught', 'youth', 'good', 'education', 'hard', 'work', 'discipline', 'warned', 'young', 'blacks', 'never', 'forget', 'blood', 'civil', 'rights', 'marchers', 'prayers', 'hope', 'people', 'surely', 'hard', 'feelings', 'critical', 'open', 'wide', 'debate', 'future', 'american', 'foreign', 'policy', 'demands', 'hard', 'look', 'bush', 'doctrine', 'outlined', 'president', 'secretary', 'state', 'james', 'baker', 'national', 'security', 'adviser', 'brent', 'scowcroft', 'sen', 'christopher', 'dodd', 'd-conn', 'told', 'senate', 'banking', 'subcommittee', 'salomon', 'scandal', 'forced', 'regulators', 'congress', 'take', 'long', 'hard', 'look', 'auction', 'process', 'remember', 'hard', 'work', 'put', 'great', 'hopes', 'held', 'disappointment', 'made', 'mistake', 'smaller', 'companies', 'taking', 'hard', 'look', 'overall', 'security', 'operation', 'mark', 'giudici', 'senior', 'industry', 'analyst', 'dataquest', 'inc', 'san', 'jose', 'died', 'plane', 'crash', '1982', 'kids', 'took', 'company', 'dedicated', 'hard', 'work', 'memory', 'changes', 'vary', 'head', 'head', 'hard', 'fast', 'rules', 'made', 'applying', 'colour', 'results', 'vary', 'considerably', 'according', 'condition', 'hair', 'hard', 'feelings', 'bitterness', 'even', 'breakdowns', 'bankruptcies', 'suicides', 'alumni', 'magazines', 'pages', 'old', 'hard', 'complaints', 'nothing', 'share', 'reminiscences', 'everything', 'true', 'court', 'found', 'little', 'hard', 'evidence', 'support', 'distinction', 'powdered', 'cocaine', 'crack', 'hard', 'pieces', 'highly', 'purified', 'cocaine', 'prepared', 'smoking', 'time', 'take', 'hard', 'look', 'warriors', 'coach', 'general', 'manager', 'nelson', 'advised', 'take', 'hard', 'look', 'community', 'organizations', 'propose', 'elimination', 'duplicate', 'services', 'long', 'run', 'doubts', 'invested', 'four', 'years', 'hard', 'study', '100', 'college', 'degree', 'get', 'good', 'jobs', 'eventually', 'perhaps', 'later', 'year', 'recession', 'eases', 'spared', 'grinding', 'unemployment', 'poverty', 'often', 'faces', 'limited', 'higher', 'education', 'teen-agers', 'project', 'hard', 'work', 'strongest', 'international', 'response', 'date', 'economic', 'sanctions', 'yugoslavia', 'european', 'community', 'earlier', 'month', 'president', 'bush', 'united', 'states', 'taking', 'hard', 'look', 'option', 'follow', 'suit', 'harder', 'work', 'needed', 'need', 'drive', 'better', 'direction', 'efficiency', 'economy', 'effort', 'father', 'hard', 'work', 'desk', 'notice', 'time', 'passing', 'well', 'past', 'six', 'looked', 'clock', 'sky', 'hard', 'enamel', 'blue', 'despite', 'autumn', 'odds', 'robin', 'williams', 'engages', 'dry', 'humor', 'able', 'handle', 'situations', 'people', 'without', 'causing', 'hard', 'feelings', 'escalating', 'situation', 'depicted', 'war', 'part', 'hard', 'work', 'freedom', 'familiar', 'americans', 'tammy', 'harmon', 'still', 'remembers', 'mother', 'hovering', 'around', 'years', 'ago', 'came', 'home', 'hard', 'day', 'work', 'propped', 'feet', 'couch', 'told', \"'just\", 'play', 'like', 'double-a', 'general', 'manger', 'al', 'rosen', 'clayton', 'get', 'hard', 'look', 'next', 'spring', 'office', 'milieu', 'timeless', 'typewriter', 'except', 'scrivening', 'much', 'pre-automation', 'profession', 'hard', 'eyes', 'labor-intensive', 'dull', 'beyond', 'compare', 'craig', 'willing', 'take', 'hard', 'look', 'next', 'spring', 'rookie', 'pitchers', 'paul', 'mcclellan', 'allowed', 'cubs', 'four', 'hits', 'seven', 'innings', 'saturday', 'bryan', 'hickerson', 'gave', 'two', 'runs', 'five', 'innings', 'friday', 'caused', 'hard', 'look', 'taken', 'county', 'child', 'welfare', 'system', 'keeley', 'hard', 'number', '11', '607', 'starting', 'last', 'year', 'every', 'year', 'looking', 'hard', 'young', 'quarterbacks', 'offensive', 'coordinator', 'mike', 'holmgren', 'whereas', 'everything', 'boccaccio', 'hard', 'elegant', 'general', 'chaucer', 'muted', 'peculiar', 'full', 'objects', 'unexpected', 'yet', 'oddly', 'characteristic', 'british', 'prime', 'minister', 'john', 'major', 'moves', 'meant', 'ec', 'dismantling', 'ties', 'yugoslavia', 'president', 'bush', 'united', 'states', 'taking', 'hard', 'look', 'option', 'follow', 'suit', 'bought', 'little', 'piece', 'property', 'along', 'coast', 'hard', 'country', 'calabria', 'knew', 'well', 'comes', 'hard', 'work', 'santa', 'clara', 'county', 'supervisor', 'rod', 'diridon', 'helped', 'form', 'bay', 'vision', '2020', 'commission', '18', 'months', 'ago', 'concern', 'california', 'hard', 'recession', 'something', 'people', 'talking', 'probably', 'james', 'murren', 'casino', 'stock', 'analyst', 'c', 'j', 'lawrence', 'inc', 'new', 'york', 'plotters', 'coup', 'men', 'hard', 'right', 'wanted', 'prevent', 'change', 'ought', 'take', 'good', 'hard', 'look', 'increases', 'given', 'teachers', 'nadine', 'praised', 'dorosin', 'hard', 'work', 'strong', 'ties', 'forged', 'businesses', 'chamber', 'building', 'viable', 'successful', 'immigrant', 'community', 'hard', 'work', 'hope', 'without', 'forfeiting', 'identity', 'mother', 'scandalized', 'tones', 'money', 'everything', 'thought', 'hard', 'daughter', 'become', 'hard', 'fast', 'divisions', 'humanity', 'come', 'later', 'gotta', 'become', 'hard', 'guy', 'come', 'jail', 'officer', 'retorted', 'interview', 'donaldson', 'called', 'federal', 'government', 'take', 'good', 'hard', 'look', 'whether', 'encouragement', 'competition', 'among', 'different', 'securities', 'markets', 'placed', 'industry', 'slippery', 'slope', 'toward', 'fragmented', 'market', 'would', 'difficult', 'monitor', 'control', 'quiet', 'determination', 'hard', 'work', 'rose', 'ranks', 'fidelity', 'investments', 'giant', 'mutual', 'fund', 'company', 'becoming', 'respected', 'portfolio', 'manager', 'junk', 'bonds', 'likened', 'ronald', 'reagan', 'populist', 'real', 'interest', 'details', 'government', 'hard', 'intellectual', 'work', 'sonnenfeldt', 'sometimes', 'hard', 'head', 'play', 'anyway', 'break', 'glass', 'suffer', 'consequences', 'could', 'hard', 'feelings', 'first', 'time', 'two', 'teams', 'met', 'since', 'calgary', 'defenseman', 'jamie', 'macoun', 'broke', 'buffalo', 'star', 'pat', 'lafontaine', 'jaw', 'high', 'stick', 'nov', '16', 'hard', 'rough', 'ride', 'got', 'lot', 'power', 'amazing', 'much', 'aircraft', 'take', 'years', 'ad', 'makers', 'needed', 'bright', 'idea', 'hard', 'work', 'little', 'luck', 'walk', 'away', 'clio', 'awards', 'show', 'golden', 'statuette', 'jones', 'keeping', 'actors', 'fold', 'often', 'leads', 'hard', 'feelings', 'among', 'competitors', 'erlendson', 'careful', 'hush', 'competition', 'mentioned', 'got', 'take', 'long', 'hard', 'look', 'house', 'senate', 'voted', 'separately', 'lift', 'counseling', 'ban', 'putting', 'collision', 'course', 'bush', 'throughout', 'presidency', 'taken', 'hard', 'line', 'abortion', 'going', 'take', 'hard', 'look', 'operations', 'look', 'ways', 'improve', 'cash', 'flow', 'ways', 'lower', 'expenses', 'levels', 'across', 'board', 'continue', 'make', 'significant', 'reductions', 'work', 'force', 'harrison', 'leadership', 'quality', 'palumbis', 'lacked', 'acquired', 'hard', 'lesson', 'first', 'three', 'years', 'stanford', 'humbly', 'suggest', 'madam', 'mayor', 'take', 'hard', 'look', 'priorities', 'almost', 'always', 'amazed', 'amount', 'hard', 'work', 'time', 'energy', 'money', 'people', 'invest', 'restaurants', 'success', 'little', 'mundane', 'things', 'quality', 'food', 'musical', 'chairs', 'lawrence', 'bryan', 'taking', 'leave', 'artistic', 'director', 'san', 'jose', 'chamber', 'music', 'society', 'next', 'year', 'hard', 'feelings', 'involved', 'used', 'discipline', 'hard', 'work', 'surmounting', 'crummy', 'odds', 'get', 'little', 'hard', 'something', 'right', 'remind', 'fun', 'war', 'bring', 'victory', 'booty', 'new', 'group', 'lords', 'might', 'oust', 'unsuccessful', 'leaders', 'commons', 'usually', 'supplied', 'hard', 'cash', 'might', 'bold', 'enough', 'demand', 'production', 'accounts', 'even', 'times', 'impeachment', 'unsuccessful', 'estonians', 'see', 'hope', 'foreign', 'pressure', 'changing', 'gorbachev', 'hard', 'line', 'baltic', 'independence', 'testimony', 'cooperation', 'hard', 'work', 'desire', 'demonstrate', 'concern', 'environment', 'health', 'safety', 'community', 'interesting', 'section', 'next', 'century', 'career', 'kazuko', 'inamori', 'hard', 'work', 'attention', 'detail', 'built', 'spectacularly', 'successful', 'japanese', 'company', 'called', 'kyocera', 'kyoto', 'ceramics', 'ford', 'motor', 'co', 'took', 'long', 'hard', 'look', 'acquiring', 'chrysler', 'corp', 'last', 'winter', 'ford', 'former', 'chairman', 'donald', 'petersen', 'carried', 'word', 'chrysler', 'would', 'welcome', 'move', 'companies', 'expect', 'altus', 'hard', 'work', 'garamendi', 'especially', 'hard', 'jewish', 'children', 'hard', 'even', 'though', 'get', 'good', 'responses', 'though', 'lucky', 'always', 'wondered', 'check', 'employment', 'histories', 'getting', 'harder', 'look', 'bbc-made', 'series', 'takes', 'hard', 'mostly', 'uncensored', 'look', 'business', 'movie-making', 'hard', 'truth', 'really', 'knows', 'increase', 'household', 'savings', 'iras', 'seem', 'well-equipped', 'job', 'martin', 'askanas', 'co-owner', 'united', 'flowers', 'vendor', 'since', '1986', 'invested', 'sites', 'long', 'time', 'someone', 'else', 'come', 'capitalize', 'hard', 'work', 'egypt', 'arab', 'country', 'made', 'peace', 'israel', 'took', 'hard', 'line', 'calling', 'resources', 'help', 'children', 'urging', 'long', 'hard', 'look', 'children', 'welfare', 'services', 'provided', 'system', 'overhauled', 'necessary', 'patton', 'happen', 'society', 'wo', 'happen', 'right', 'fruity', 'reds', 'take', 'well', 'chilling', 'tannic', 'case', 'chilling', 'make', 'hard', 'bitter', 'stress', 'hard', 'work', 'thing', 'radiator', 'hoses', 'hard', 'teeth', 'better', 'live', 'record', 'guitarist', 'mick', 'jones', 'gave', 'songs', 'harder', 'edge', 'december', '1984', 'straight', 'talk', 'memo', 'made', 'soulmate', 'former', 'assistant', 'secretary', 'state', 'elliott', 'abrams', 'truthfulness', 'approach', 'third', 'world', 'gates', 'advocated', 'hard', 'measures', 'air', 'strikes', 'vs', 'half', 'measures', 'contras', 'destroy', 'nicaraguan', 'military', 'viewed', 'threat', 'american', 'influence', 'western', 'hemisphere', 'realize', 'hard', 'work', 'done', 'benefit', 'hop', 'kiln', 'napa', 'gamay', 'character', 'similar', 'swan', 'duxoup', 'wines', 'richer', 'harder', 'needed', 'lots', 'time', 'develop', 'finesse', 'talent', 'hard', 'work', 'sense', 'vocation', 'spurred', 'two', 'remarkable', 'poetry', 'workshops', 'john', 'holmes', 'robert', 'lowell', 'provided', 'atmosphere', 'needed', 'apprentice', 'learn', 'flourish', 'billion', 'value', 'came', 'hard', 'assets', 'factories', 'offices', 'paper', 'clips', 'personal', 'computers', 'cheese', 'group', 'accused', 'dogging', 'exchanging', 'hard', 'looks', 'members', 'miraculous', 'progress', 'material', 'achievements', 'flows', 'qualities', 'far', 'worthy', 'substantial', 'adherence', 'principles', 'methods', 'consonant', 'religious', 'philosophy', 'satisfaction', 'hard', 'work', 'readiness', 'sacrifice', 'worthwhile', 'causes', 'courage', 'meet', 'every', 'challenge', 'intellectual', 'honesty', 'capacity', 'recognize', 'true', 'path', 'best', 'interests', 'dozen', 'low-income', 'families', 'chosen', 'luck', 'draw', 'saturday', 'get', 'chance', 'substitute', 'year', 'hard', 'work', 'payment', 'houses', 'built', 'morgan', 'hill', 'housing', 'authority', 'santa', 'clara', 'county', 'anne', 'scitovsky', 'chief', 'health', 'economics', 'division', 'research', 'institute', 'palo', 'alto', 'medical', 'foundation', 'hellinger', 'estimate', 'cost', 'treating', 'hiv', 'makes', 'sense', 'based', 'hard', 'data', 'aids', 'estimate', 'thought', 'hard', 'egotistical', 'could', 'believe', 'stayed', 'simply', 'affection', 'tim', 'good', 'man', 'hard', 'working', 'would', 'sometimes', 'even', 'get', 'little', 'hard', 'took', 'seriously', 'ask', 'know', 'happen', 'family', 'although', 'may', 'hard', 'believe', 'hard', 'feelings', 'disposition', 'fixing', 'hard', 'work', 'possible', 'project', 'ambitious', 'remodeler', 'hard', 'feelings', 'james', 'buddy', 'ryan', 'sr', 'gone', 'philadelphia', 'eagles', 'scene', 'junior', 'still', 'around', 'glad', 'hard', 'work', 'pay', 'people', 'fun', 'see', 'tempered', 'citizen-oriented', 'approach', 'candidates', 'whereas', 'years', 'ago', 'may', 'seen', 'harder', 'line', 'analysts', 'believe', 'american', 'computer', 'companies', 'take', 'long', 'hard', 'look', 'getting', 'display', 'manufacturing', 'business', 'counseling', 'shows', 'co-dependent', 'hard', 'work', 'pick', 'become', 'healthy', 'worth', 'hard', 'work', 'making', 'decisions', 'order', 'allow', 'students', 'find', 'different', 'traditions', 'meaningful', 'way', 'show', 'pride', 'heritage', 'well', 'status', 'members', 'class', 'actually', 'hard', 'work', 'begins', 'last', 'week', 'litany', 'hard', 'feelings', 'flowed', 'arabs', 'lips', 'israelis', 'salvage', 'operations', 'often', 'attended', 'considerable', 'hard', 'work', 'great', 'risk', 'obligation', 'pay', 'compensation', 'obviously', 'based', 'principles', 'justice', 'payment', 'allowed', 'times', 'every', 'civilized', 'country', 'whores', 'hauled', 'prison', 'stripped', 'wigs', 'makeup', 'hard', 'light', 'day', 'look', 'like', 'ragtag', 'group', 'washington', 'hookers', 'marched', 'across', 'potomac', 'river', 'bridge', 'c', 'police', 'couple', 'years', 'ago', 'matter', 'easing', '20', 'years', 'hard', 'work', 'yet', 'rare', 'exceptions', 'philip', 'morris', 'incidentally', 'managements', 'still', 'spend', 'time', 'managing', 'touch', 'roughly', 'percent', 'assets', 'hard', 'think', 'respect', 'hard', 'work', 'committee', 'done', 'commitment', 'hard', 'work', 'cornerstones', 'children', 'theater', 'fread', 'children', 'well', 'would', 'go', 'reading', 'room', 'solid', 'silence', 'packed', 'hard', 'green', 'far', 'bowl', 'dome', 'walk', 'always', 'desk', 'd-4', 'hard', 'impression', 'presentation', 'slanted', 'ted', 'terrazas', 'attended', 'presentation', 'meyer', 'school', 'box', 'hard', 'rules', 'comes', 'marriage', 'electricity', 'horticulture', 'call', 'reforms', 'hard', 'work', 'always', 'mean', 'pay', 'activists', 'kids', 'reading', 'enough', 'taking', 'hard', 'enough', 'courses', 'sen', 'ernest', 'f', 'hollings', 'd-s', 'c', 'chairman', 'senate', 'commerce', 'committee', 'put', 'federal', 'communications', 'commission', 'notice', 'expects', 'fcc', 'take', 'hard', 'look', 'request', 'waiver', 'government', 'cross-ownership', 'rules', 'boy', 'tried', 'make', 'age-changing', 'voice', 'sound', 'hard', 'might', 'sounded', 'ludicrous', 'reckless', 'chill', 'shimmering', 'cat-yellow', 'eyes', 'lessons', 'book', 'hard', 'work', 'loyalty', 'love', 'endure', 'trying', 'circumstances', 'relatively', 'new', 'concepts', 'children', 'beginning', 'read', 'tyrrell', 'acknowledged', 'trouble', 'hard', 'research', 'kind', 'get', 'back', 'granny', 'used', 'check', 'congress', 'halt', 'new', 'grants', 'international', 'monetary', 'fund', 'world', 'bank', 'demand', 'hard', 'balance', 'sheet', 'loans', 'written', 'market', 'value', 'think', 'commitment', 'hard', 'work', 'aversion', 'shortcuts', 'skepticism', 'utopias', 'open', 'mind', 'profound', 'humanity', 'president', 'bush', 'responding', 'initial', 'reports', 'shamir', 'acceptance', 'leaving', 'kiev', 'bound', 'good', 'news', 'peace', 'middle', 'east', 'pleased', 'hard', 'work', 'many', 'parties', 'especially', 'secretary', 'state', 'looks', 'like', 'may', 'coming', 'fruition', 'names', 'listed', 'invitations', 'distributed', 'baymec', 'hard', 'proof', 'political', 'support', 'long', 'ago', 'ephemeral', 'whispered', 'given', 'winks', 'nods', 'playing', 'leading', 'parts', 'two', 'c', 'highland', 'regiment', 'alec', 'guinness', 'john', 'mills', 'affection', 'men', 'leading', 'war', 'hard', 'efficient', 'newcomer', 'heartily', 'disliked', 'majority', 'soldiers', 'perhaps', 'hard', 'view', 'needs', 'hard', 'look', 'fund', 'higher', 'education', 'california', 'hamlett', 'repelled', 'lack', 'hard', 'answers', 'questions', 'knowledge', 'hard', 'fast', 'rule', 'many', 'mints', 'take', 'upon', 'leaving', 'restaurant', 'lenders', 'taking', 'harder', 'look', 'borrowers', 'approving', 'home-equity', 'loans', 'credit', 'lines', 'hard', 'active', 'words', 'seldom', 'associated', 'females', 'naacp', 'always', 'encouraged', 'hard', 'work', 'even', 'short-cruise', 'ships', 'taking', 'hard', 'look', 'itineraries', 'ncl', 'example', 'changed', 'route', 'sunward', 'ii', 'making', 'key', 'west', 'port', 'call', 'three-day', 'trips', 'instead', 'nassau', 'mauriello', 'directed', 'supervisors', 'take', 'long', 'hard', 'look', 'services', 'supplies', 'estimates', 'staff', 'made', 'county', 'department', 'like', 'previous', 'fraud', 'fact', 'even', 'government', 'critics', 'like', 'political', 'pollster', 'miguel', 'basanez', 'expect', 'pri', 'wage', 'hard', 'fraud', 'elections', 'past', 'patience', 'lot', 'hard', 'work', 'last', 'night', 'volcanic', 'dust', 'deposited', 'around', 'hard', 'jet', 'engines', 'believed', 'hard', 'work', 'got', 'first', 'newspaper', 'simply', 'asking', 'father', 'aborigine', 'deceived', 'knows', 'land', 'hard', 'pitiless', 'hard', 'work', 'succeeded', 'henry', 'ribbs', 'soon', 'became', 'prominent', 'east', 'side', 'citizen', 'oak', 'grove', 'school', 'district', 'learned', 'hard', 'way', 'count', 'san', 'jose', 'good', 'city', 'planning', 'powerful', 'developers', 'take', 'case', 'city', 'council', 'thompson', 'bent', 'hard', 'look', 'lawyer', 'want', 'players', 'things', 'like', 'team', 'start', 'draw', 'ranks', 'gets', 'media', 'dredging', 'hard', 'feelings', 'nothing', 'winning', 'losing', 'country', 'needs', 'take', 'hard', 'look', 'business', 'allowed', 'succeed', 'marketplace', 'federal', 'government', 'cover', 'failures', 'companies', 'gave', 'pleasure', 'hard', 'things', 'wrote', 'would', 'shut', 'forever', 'roddick', 'hard', 'edge', 'off-putting', 'principles', 'endearing', 'spoke', 'aloud', 'opinion', 'nbc', 'news', 'dinosaur', 'organization', 'whose', 'members', 'seemed', 'believe', 'part', 'priesthood', 'immune', 'hard', 'imperatives', 'profit', 'loss', 'keith', 'hearn', 'california', 'association', 'psychiatric', 'technicians', 'commended', 'davis', 'taking', 'hard', 'line', 'unilateral', 'cuts', 'easy', 'take', 'period', 'piece', 'apparently', 'hard', 'feelings', 'around', 'sure', 'lead', 'arguments', 'hard', 'feelings', 'evidence', 'supporting', 'major', 'conclusions', 'eat', 'smart', 'hard', 'plentiful', 'guidance', 'offers', 'important', 'valuable', 'box', 'never', 'speaking', 'feuds', 'temperament', 'clashes', 'recent', 'hard', 'feelings', 'expressed', 'art', 'garfunkel', 'invited', 'perform', 'simon', 'central', 'park', 'concert', 'joan', 'beck', 'right', 'target', 'hard', 'work', 'facts', 'needed', 'shatter', 'glass', 'ceiling', 'women', 'experience', 'corporations', 'commentary', 'aug', '14', 'freelen', 'would', 'reveal', 'list', 'candidates', 'taken', 'hard', 'look', '12', '14', 'people', 'take', 'hard', 'look', 'arm', 'home-equity', 'line', 'credit', 'hammer', 'surprised', 'county', 'took', 'hard', 'line', 'bonds', 'gave', 'short', 'hard', 'laugh', 'looked', 'knowingly', 'terms', 'hard', 'cash', 'calculated', 'bring', '20', '25', 'profit', 'every', 'hundred', 'baconers', 'sold', 'without', 'taking', 'consideration', 'streamlining', 'labour', 'simplification', 'mixing', 'storage', 'cut', 'short-term', 'prime', 'business-loan', 'rate', 'major', 'banks', 'puts', 'new', 'light', 'key', 'development', 'way', 'national', 'mortgage', 'market', 'price', 'spread', 'long-term', 'fixed', 'short-term', 'adjustable-rate', 'mortgages', 'widened', 'point', 'smart', 'money-shoppers', 'take', 'hard', 'look', 'adjustables', 'trying', 'put', 'hard', 'points', 'number', 'victories', 'really', 'tough', 'next', 'day', 'walked', 'talked', 'coach', 'seifert', 'hard', 'feelings', 'windows', 'broke', 'kid', 'things', 'broke', 'pay', 'never', 'hard', 'mom', 'instances', 'merit', 'hard', 'work', 'paid', 'judge', 'gordon', 'baranco', 'armstrong', 'colleagues', 'alameda', 'county', 'superior', 'court', 'become', 'firm', 'enough', 'stand', 'ideals', 'know', 'right', 'become', 'hard', 'enough', 'refuse', 'aid', 'nations', 'permit', 'self-determination', 'become', 'strong', 'enough', 'resist', 'drifts', 'towards', 'socialism', 'nation', 'recognize', 'enemy', 'communism', 'war', 'realize', 'concessions', 'communists', 'insure', 'peace', 'freedom', 'longer', 'soft', 'city', 'allowed', 'officers', 'overworked', 'much', 'became', 'hard', 'cold', 'pugh', 'interview', 'last', 'week', 'get', 'hard', 'work', 'success', 'many', 'turnpikes', 'come', 'hard', 'yesterday', 'backing', 'fancy', 'hard', 'cash', 'shares', 'enjoyed', 'best', 'day', 'long', 'time', 'nankin', 'board', 'taking', 'hard', 'look', 'symphony', 'budget', 'made', 'decisions', 'deficit', 'remains', 'large', 'two', 'years', 'hard', 'work', 'denice', 'decided', 'call', 'quits', 'public', 'appears', 'ready', 'believe', 'many', 'institutions', 'achieve', 'athletic', 'goals', 'honest', 'effort', 'equivocation', 'hard', 'work', 'sacrifice', 'hook', 'crook', 'first', 'women', 'sleuths', 'hard', 'v', 'among', 'defensive', 'backs', 'todd', 'bowles', 'david', 'whitmore', 'greg', 'cox', 'kevin', 'lewis', 'get', 'hard', 'looks', 'miracle', 'happened', 'maryland', 'state', 'prison', 'serving', 'hard', 'time', 'assaulting', 'guard', 'followed', 'conviction', 'weapons-possession', 'charges', 'followed', 'earlier', 'manslaughter', 'conviction', 'killing', 'man', 'knife', 'fight', 'neither', 'industry', 'highway', 'administration', 'hard', 'figures', 'indicate', 'commutes', 'growing', 'length', '12', 'years', 'lot', 'hard', 'work', '350', 'ago', 'hard', 'feelings', 'malone', 'added', '32-year-old', 'professional', 'dog', 'handler', 'knows', 'secret', 'producing', 'champions', 'plain', 'doggone', 'hard', 'work', 'day', 'well', 'spent', 'insurance', 'companies', 'like', 'cold', 'hard', 'facts', 'faced', 'loss', 'give', 'hard', 'data', 'loden', 'look', 'moving', 'ahead', 'inside', 'fortune', '500', 'companies', 'clear', 'women', 'better', 'minorities', 'white', 'women', 'better', 'overall', 'women', 'color', 'video', 'basically', 'find', 'exercise', 'tapes', 'bit', 'demanding', 'owing', 'general', 'laziness', 'weakness', 'character', 'fear', 'hard', 'work', 'part', 'thought', 'hard', 'work', 'behind', 'residents', 'look', 'forward', 'hard', 'work', 'good', 'social', 'dividends', 'hard', 'work', 'pays', 'though', 'eylar', 'anybody', 'mind', 'little', 'hard', 'work', 'sammy', 'hopes', 'adult', 'learners', 'stick', 'program', 'despite', 'hard', 'work', 'maybe', 'take', 'long', 'hard', 'look', 'fragrances', 'market', 'weekend', 'fighting', 'rebels', 'government', 'forces', 'colombia', 'killed', '31', 'people', 'newspaper', 'reported', 'sunday', 'colombia', 'leftist', 'insurgency', 'adopted', 'new', 'hard', 'line', 'take', 'talent', 'brains', 'hard', 'work', 'hope', 'somebody', 'taken', 'long', 'hard', 'look', 'could', 'cost', 'property', 'damage', 'injuries', 'possibly', 'deaths', 'kids', 'receive', 'less', 'training', 'today', 'astonishment', 'mine', 'much', 'increased', 'days', 'storm', 'came', 'upon', 'captain', 'rushed', 'cabin', 'nightcap', 'nothing', 'else', 'shirt', 'leaping', 'poop', 'began', 'jump', 'curse', 'swear', 'call', 'men', 'aloft', 'manner', 'hard', 'names', 'like', 'common', 'loafer', 'street', 'hard', 'work', 'gone', 'cry', 'beating', 'breasts', 'knuckling', 'foreheads', 'young', 'man', 'teammate', 'trying', 'give', 'hard', 'time', 'team', 'manager', 'much', 'stop', 'two', 'centuries', 'done', 'hard', 'work', 'freedom', 'broker', 'regularly', 'changing', 'venues', 'ought', 'take', 'hard', 'look', 'whether', 'fast', 'money', 'means', 'everything', 'person', 'whether', 'getting', 'ahead', 'generating', 'lots', 'commissions', 'earn', 'title', 'big', 'producer', 'expense', 'country', 'get', 'money', 'worth', 'goes', 'hard', 'work', 'setting', 'priorities', 'bill', 'mccann', 'general', 'manager', 'water', 'district', 'council', 'decide', 'ask', 'board', 'eliminate', 'restricters', 'sure', 'board', 'would', 'take', 'hard', 'look', 'hard', 'core', 'pro-communist', 'rebel', 'force', 'numbers', 'tough', 'viet', 'minh', 'guerrilla', 'fighters', 'lender', 'forecloses', 'responsibility', 'selling', 'property', 'getting', 'money', 'hard', 'market', 'swinson', 'hard', 'tough', 'woman', 'refused', 'predict', 'whether', 'would', 'able', 'cobble', 'together', 'governing', 'coalition', 'expects', 'three', 'weeks', 'hard', 'bargaining', 'non-socialist', 'parties', 'hard', 'physically', 'fourth', 'fifth', 'sixth-graders', 'sakamoto', 'elementary', 'school', 'oak', 'grove', 'school', 'district', 'south', 'san', 'jose', 'wanted', 'hard', 'answers', 'tough', 'questions', 'hammer', 'quick', 'stop', 'part', 'whirlwind', 'tour', 'district', 'italy', 'decision', 'adopt', 'hard', 'line', 'third', 'wave', 'albanian', 'boat', 'people', 'appears', 'working', 'golden', 'looking', 'people', 'willing', 'hard', 'work', 'send', 'application', 'talking', 'reporters', 'kennebunkport', 'maine', 'president', 'bush', 'vacationing', 'white', 'house', 'spokesman', 'marlin', 'fitzwater', 'fact', 'hard', 'information', 'unless', 'hard', 'evidence', 'turned', 'free', 'trade', '1992', 'would', 'devastating', 'effects', 'think', 'delay', 'unwarranted', 'author', 'former', 'industrial', 'film', 'maker', 'knack', 'weaving', 'hard', 'information', 'video', 'production', 'without', 'making', 'feel', 'cornered', 'self-absorbed', 'film', 'major', 'syria', 'israel', 'implacable', 'foe', 'hewed', 'traditional', 'hard', 'line', 'standard', 'course', 'different', 'hard', 'expensive', 'glitter', 'west', 'germany', 'guess', 'find', 'hard', 'way', 'circulation', 'increase', 'wonderful', 'mystery', 'produced', 'many', 'theories', 'hard', 'answers', 'would', 'willing', 'admit', 'forgiveness', 'comes', 'hard', 'english', 'professor', 'herbert', 'lindenberger', 'feared', 'humanities', 'departments', 'would', 'suffer', 'brunt', 'budget', 'cuts', 'unlike', 'hard', 'sciences', 'bring', 'overhead', 'dollars', 'chief', 'complaints', 'floodlight', 'ceiling', 'bright', 'glare', 'hard', 'eyes', 'council', 'members', 'foreign', 'airlines', 'beginning', 'take', 'hard', 'look', 'coach', 'class', 'play', 'hand', 'dealt', 'company', 'uaw', 'assert', 'pulled', 'together', 'hard', 'lessons', 'learned', 'japanese', 'consultants', 'others', 'design', 'engineering', 'technology', 'manufacturing', 'labor-management', 'relations', 'working', 'smart', 'men', 'women', 'committed', 'kids', 'willing', 'take', 'second', 'job', 'peanuts', 'give', 'free', 'time', 'hard', 'day', 'regular', 'job', 'get', 'kick', 'teeth', 'sometimes', 'hard', 'work', 'ed', 'southerland', 'vice', 'president', 'robert', 'half', 'co', 'washington', 'company', 'finds', 'jobs', 'financial', 'accounting', 'people', 'defends', 'stern', 'personnel', 'policies', 'generate', 'much', 'clientele', 'somebody', 'got', 'take', 'cold', 'hard', 'look', 'numbers', 'move', 'fact', 'defended', 'content', 'series', 'several', 'speakers', 'audience', 'chided', 'board', 'hard', 'enough', 'textbooks', 'going', 'require', 'hard', 'work', 'imagination', 'part', 'suspect', 'enjoy', 'process', 'well', 'final', 'result', 'want', 'thank', 'council', 'members', 'alane', 'loisel', 'gary', 'mello', 'hard', 'work', 'fremont', 'city', 'council', 'weekly', 'loss', 'partly', 'counterbalanced', '500', 'arrivals', 'week', 'west', 'germany', 'hard', 'truth', 'crossman', 'closing', 'east', 'berlin', 'without', 'interference', 'west', 'use', 'east', 'german', 'distinct', 'russian', 'troops', 'major', 'communist', 'victory', 'dealt', 'west', 'berlin', 'deadly', 'possibly', 'fatal', 'blow', 'appears', 'solid', 'citizen', 'turned', 'excellent', 'defensive', 'player', 'hard', 'work', 'democrats', 'playing', 'straight', 'politics', 'hard', 'ball', 'showing', 'willingness', 'find', 'middle', 'ground', 'matter', 'pete', 'really', 'getting', 'serious', 'hard', 'thinking', 'commit', 'career', 'need', 'take', 'hard', 'look', 'salaries', 'advancement', 'opportunities', 'market', 'environments', 'fields', 'might', 'choose', 'tempting', 'believe', 'many', 'americans', 'state', 'legislatures', 'live', 'ronald', 'reagan', 'maxim', 'know', 'hard', 'work', 'never', 'killed', 'anyone', 'figure', 'take', 'chance', 'despite', 'hard', 'work', 'put', 'companies', 'family', 'members', 'first', 'love', 'fishing', 'activity', 'enjoyed', 'best', 'sacramento-san', 'joaquin', 'river', 'delta', 'hard', 'explanations', 'wide', 'disparity', 'men', 'women', 'sayles', 'never', 'sunniest', 'chroniclers', 'takes', 'long', 'hard', 'look', 'inner', 'city', 'american', 'labor', 'politics', 'identifies', 'imagines', 'hard', 'line', 'rank-and-file', 'party', 'unlikely', 'supporters', 'compact', 'among', 'labor', 'business', 'government', 'howie', 'worked', 'lot', 'hard', 'thinking', 'happened', 'hard', 'work', 'etc', 'new', 'york', 'giants', 'mark', 'bavaro', 'agreed', 'financial', 'settlement', 'ends', 'hard', 'feelings', 'club', 'former', 'all-pro', 'tight', 'end', 'waived', 'knee', 'injuries', 'smiled', 'winston', 'saw', 'hateful', 'hard', 'glitter', 'eyes', 'whichever', 'team', 'long', 'hard', 'road', 'work', 'already', 'hard', 'san', 'jose', 'museum', 'art', 'auxiliary', 'recent', 'debut', 'fashion', 'show', 'luncheon', 'hard', 'act', 'follow', 'california', 'soften', 'hard', 'line', 'mounting', 'business', 'regulation', 'others', 'inland', 'empire', 'never', 'attract', 'strong', 'manufacturing', 'base', 'needed', 'keep', 'growth', 'intact', 'old', 'gal', 'stared', 'hard', 'eyes', 'call', 'done', 'needs', 'goodwill', 'hard', 'work', 'current', 'recession', 'causing', 'many', 'chief', 'executives', 'take', 'harder', 'look', 'technology', 'spending', 'four', 'years', 'hard', 'work', 'waiting', 'long', 'time', 'bush', 'gave', 'iran', 'pat', 'back', 'spokesman', 'struck', 'harder', 'tone', 'hard', 'work', 'ahead', 'taking', 'advantage', 'tragedy', 'turning', 'produce', 'increased', 'stability', 'security', 'middle', 'east', 'scowcroft', 'abc-tv', 'week', 'david', 'brinkley', 'hard', 'work', 'six', 'days', 'week', 'great', 'experience', 'opened', 'doors', 'modest', 'soft-spoken', 'lam', 'hard', 'work', 'included', 'caulking', 'cracks', 'house', 'scraping', 'old', 'paint', 'replacing', 'cracked', 'boards', 'end', 'hard', 'long', 'especially', 'good', 'day', 'piniella', 'paid', 'visit', 'reds', 'administrative', 'offices', 'quickly', 'stopped', 'autograph-seeking', 'secretary', 'cheney', 'repeatedly', 'refused', 'achieved', 'hard', 'fast', 'agreements', 'six', 'countries', 'visited', 'would', 'reveal', 'details', 'talks', 'new', 'nintendo', 'going', 'harder', 'sell', 'people', 'originally', 'anticipated', 'wines', 'six', 'seven', 'months', 'bottle', 'settle', 'gain', 'harmony', 'bit', 'hard', 'first', 'arrived', 'last', 'spring', 'hard', 'work', 'caring', 'evident', 'carefully', 'prepared', 'meals', 'friendly', 'atmosphere', 'hard', 'work', 'involved', 'every', 'volunteer', 'expected', 'attend', 'weekly', 'meetings', 'six', 'months', 'much', 'learned', 'surprise', 'hard', 'work', 'dedication', 'enthusiasm', 'teaching', 'staff', 'pretty', 'inspirational', 'stuff', 'jaded', 'business', 'executive', 'years', 'hard', 'work', 'savings', 'often', 'get', 'lost', 'process', 'means', 'taking', 'long', 'hard', 'look', 'spending', 'see', 'cut', 'sidetracked', 'first', 'real', 'love', 'fancy', 'cars', 'years', 'hard', 'work', 'found', 'owner', 'chain', 'bay', 'area', 'auto', 'body', 'shops', 'specialized', 'bmws', 'mercedes', 'writing', 'hard', 'work', 'right', 'take', 'lot', 'canin', 'day', 'conscientious', 'hard', 'working', 'honest', 'accurate', 'good', 'penman', 'stickler', 'job', 'well', 'done', 'loose', 'ends', 'admit', 'may', 'little', 'hard', 'quayle', 'nation', 'expect', 'vice', 'president', 'let', 'hard', 'work', 'drive', 'create', 'favorable', 'environments', 'willing', 'make', 'effort', 'opposed', 'unwilling', 'check', 'mentors', 'frequently', 'cited', 'dedication', 'hard', 'work', 'intelligence', 'enthusiasm', 'characteristics', 'led', 'mentors', 'choosing', 'next', 'day', 'flaherty', 'learned', 'hard', 'numbers', 'mineta', 'owed', '5', '027', 'congressional', 'dining', 'room', 'report', 'urged', 'lawmakers', 'take', 'hard', 'look', 'tax', 'breaks', 'whose', 'rationales', 'objectives', 'longer', 'valid', 'low', 'priority', 'hence', 'agreement', 'last', 'week', 'two-day', 'hard', 'bargaining', 'among', 'community', 'foreign', 'ministers', 'delete', 'mention', 'federal', 'goal', 'draft', 'treaty', 'prepared', 'maastricht', 'favor', 'reference', 'ever', 'closer', 'union', 'states', 'administration', 'close', 'possible', 'citizens', 'black', 'people', 'beneficiaries', 'special', 'race-based', 'assistance', 'black', 'succeeds', 'family', 'teachers', 'intelligence', 'hard', 'work', 'good', 'character', 'affirmative', 'action', 'help', 'people', 'despite', 'hard', 'work', 'drive', 'might', 'hired', 'promoted', 'admitted', 'prestigious', 'universities', 'gender', 'race', 'president', 'bush', 'tried', 'patch', 'embarrassing', 'split', 'desert', 'storm', 'commander', 'thursday', 'telephoning', 'gen', 'h', 'norman', 'schwarzkopf', 'reassure', 'hard', 'feelings', 'areas', 'little', 'hard', 'work', 'truly', 'pay', 'comes', 'time', 'sell', 'valdiosera', 'story', 'viewed', 'affirmation', 'american', 'dream', 'regardless', 'origins', 'overcome', 'difficult', 'obstacles', 'get', 'want', 'hard', 'work', 'determination', 'match', 'appropriate', 'card', 'monitor', 'dealers', 'get', 'basic', 'step', 'right', 'take', 'long', 'hard', 'look', 'screen', 'still', 'hard', 'answers', 'question', 'drove', 'lewiston', 'nationally', 'known', 'innovator', 'lung', 'transplant', 'techniques', 'complicated', 'emotional', 'life', 'sloppy', 'phrasing', 'aural', 'equivalent', 'drunk', 'bumping', 'light', 'poles', 'garbage', 'cans', 'hard', 'night', 'town', 'fed', 'players', 'union', 'hired', 'new', 'front', 'man', 'bob', 'goodenow', 'whose', 'negotiating', 'team', 'taking', 'harder', 'line', 'owners', 'ever', 'today', 'gates', 'sound', 'somewhat', 'dated', 'lacking', 'emotional', 'force', 'hard', 'gospel', 'singers', 'show', 'side', 'gospel', 'often', 'overlooked', 'consummate', 'technical', 'expertise', 'professionalism', 'hard', 'feelings', 'humphrey', 'road', 'might', 'reward', 'hard', 'work', 'discipline', 'might', 'reward', 'intelligence', 'might', 'fair', 'provide', 'equal', 'opportunity', 'hard', 'truth', 'city', 'council', 'members', 'presented', 'passed', '66', 'million', 'general', 'fund', 'budget', 'fiscal', '1992', 'trim', 'programs', 'services', 'make', '5', 'million', 'shortfall', 'mercury', 'news', 'publishes', 'glitzy', 'cover', 'story', 'highlight', 'home', 'section', 'admittedly', 'portion', 'devoted', 'hard', 'news', 'first', 'guys', 'teams', 'really', 'give', 'hard', 'time', 'great', 'strength', 'developed', 'hard', 'work', '1960s', 'survey', 'nearly', '60', 'percent', 'americans', 'believed', 'hard', 'work', 'always', 'pays', 'fleer', 'players', 'supposed', 'leap', 'right', 'cards', 'pastel', 'backgrounds', 'appear', 'recede', 'inside', 'hard', 'green', 'border', 'lotteries', 'moving', 'toward', 'harder', 'forms', 'gambling', 'deflect', 'criticism', 'stagnant', 'sales', 'states', 'looking', 'toward', 'harder', 'forms', 'gambling', 'envisioning', 'generate', 'revenues', 'lotteries', 'michael', 'jones', 'whose', 'chicago-based', 'marketing', 'promotion', 'company', 'specializes', 'gaming', 'instant', 'glimpse', 'grey', 'eyes', 'hard', 'steel', 'lips', 'action', 'going', 'get', 'hard', 'positions', 'bellamy', 'versatility', 'stemmed', 'hard', 'work', 'behind', 'scenes', 'friends', 'rosaldo', 'crack', 'dealers', 'possess', 'horatio', 'alger', 'values', 'hard', 'work', 'self-reliance', 'hard', 'bitter', 'edge', 'voice', 'accused', 'federal', 'prosecutors', 'hounding', 'ignoring', 'wrongdoing', 'white', 'officials', 'take', 'hard', 'look', 'present', 'successes', 'failures', 'yard', 'especially', 'plants', 'suffering', 'freeze', 'damage', 'see', 'stories', 'young', 'man', 'broken', 'family', 'raised', 'abject', 'poverty', 'help', 'stern', 'loving', 'grandparents', 'instilled', 'value', 'hard', 'work', 'committee', 'released', 'memorandum', 'written', 'gates', '1984', 'director', 'cia', 'analysis', 'branch', 'advocating', 'far', 'harder', 'line', 'leftist', 'nicaragua', 'administration', 'pursuing', 'like', 'democrats', 'better', 'soft', 'issues', 'convinced', 'democrats', 'safe', 'hard', 'issues', 'wo', 'put', 'charge', 'executive', 'branch', 'tone', 'weakest', 'part', 'equipment', 'tends', 'hard', 'colorless', 'smith', 'received', 'praise', 'thursday', 'school', 'officials', 'fellow', 'trustees', 'even', 'recall', 'supporters', 'intelligence', 'hard', 'work', 'diligence', 'help', 'campbell', 'office', 'year', 'hard', 'work', 'tapped', 'corporate', 'private', 'donors', '60', 'hard', 'truth', '55-year-old', 'worker', 'worried', 'job', 'goodbye', 'bonus', 'offer', 'usually', 'refuse', 'today', 'thanks', 'lot', 'industrywide', 'soul', 'searching', 'hard', 'work', 'means', 'something', 'quite', 'different', 'billing', 'clients', 'hard', 'work', 'plainly', 'see', 'getting', 'want', 'work', 'hard', 'next', 'four', 'five', 'years', 'able', 'around', '65', \"'ok\", 'slow', 'remember', 'great', 'accomplishments', 'hard', 'working', 'lifetime', 'grateful', 'handed', 'knowledge', 'others', \"'the\", 'torkelsons', 'lovely', 'show', 'wedged', 'two', 'hard', 'adult', 'comedies', 'hard', 'work', 'autobiography', 'hard', 'work', 'talents', 'earned', 'second', 'princess', 'title', 'invitation', 'owner', 'step', 'step', 'dance', 'group', 'san', 'francisco', 'join', 'group', '1986', 'little', 'hard', 'needed', 'years', 'age', '1987', 'stole', 'show', 'nbc', 'news', 'president', 'michael', 'gartner', 'statement', 'issued', 'sunday', 'trip', 'neither', 'hard', 'news', 'journalistically', 'significant', 'disclosed', 'on-air', 'credits', 'facilities', 'air', 'fare', 'provided', 'lean', 'hard', 'work', 'tanned', 'long', 'hours', 'sun', 'gallucci', 'laughs', 'describes', 'eight', 'dredgers', 'filed', 'claims', 'sp', 'compensation', 'nine', 'days', 'could', 'work', 'apple', 'exceeded', '5', 'billion', 'sales', 'graziano', 'took', 'hard', 'look', 'business', 'position', 'industry', 'going', 'take', 'hard', 'look', 'operating', 'segment', 'may', 'adjustments', 'particular', 'areas', 'amelio', 'make', 'mysticism', 'declaration', 'hard', 'common', 'sense', 'lesson', 'learn', 'every', 'kingdom', 'reign', 'must', 'first', 'formed', 'within', 'bicycle', 'look', 'upon', 'common', 'parade', 'ground', 'individual', 'thought', 'authorities', 'counterattacked', 'old-fashioned', 'hard', 'work', 'like', 'piecing', 'together', 'shredded', 'evidence', 'developing', 'corps', 'electronics', 'experts', '53-year-old', 'mayor', 'spent', 'nearly', 'million', 're-election', 'mostly', 'money', 'business', 'downtown', 'interests', 'dropped', 'several', 'percentage', 'points', 'three', 'months', 'hard', 'campaigning', 'hard', 'evidence', 'mercury', 'dental', 'fillings', 'poses', 'health', 'threat', 'despite', 'concerns', 'raised', 'last', 'year', 'canadian', 'study', 'report', '60', 'minutes', 'government-sponsored', 'panel', 'experts', 'unanimously', 'wednesday', 'arlene', 'hard', 'voice', 'time', 'dutiful', 'teacher', 'puts', 'back', 'work', 'apt', 'hard', 'unbending', 'hard', 'igneous', 'rocks', 'granite', 'made', 'serviceable', 'weights', 'reasonably', 'impervious', 'moisture', 'capable', 'withstanding', 'hard', 'wear', 'exposure', 'journey', 'reaffirm', 'values', 'ancestors', 'hard', 'work', 'determination', 'thrift', 'productivity', 'perseverance', 'music', 'essential', 'reflection', 'culture', 'argues', 'teacher', 'david', 'anderson', 'teaches', 'students', 'value', 'hard', 'work', 'cooperation', 'raises', 'self-esteem', 'often', 'translates', 'higher', 'grades', 'test', 'scores', 'subjects', 'commonly', 'regarded', 'basic', 'skills', 'pretty', 'hard', 'hard', 'work', 'freedom', 'good', 'old-fashioned', 'breakfast', 'really', 'good', 'breakfast', 'dishes', 'among', 'pleasing', 'forms', 'food', 'appreciated', 'energetic', 'prelude', 'day', 'walking', 'climbing', 'fishing', 'holidays', 'good', 'basis', 'day', 'hard', 'work', 'even', 'sunday', 'something', 'sustain', 'perusal', 'newspapers', 'though', 'best', 'aid', 'keeping', 'awake', 'long', 'sermon', 'excel', 'sheer', 'dint', 'hard', 'work', 'times', 'asked', 'play', 'sea', 'hard', 'men', 'felt', 'eerie', 'kind', 'power', 'hard', 'culmination', 'decade', 'hard', 'work', 'risk-taking', '31-year-old', 'west', 'virginia', 'native', 'seen', 'six', 'songs', 'hit', 'charts', 'recently', 'released', 'seventh', 'album', 'time', 'passes', 'notes', 'wines', 'order', 'tasted', 'box', '1988', 'echezeaux', 'smoky', 'tasting', 'brown', 'sugar', 'pretty', 'lively', 'hard', 'tannins', 'closed', 'young', 'charming', 'simple', 'quite', 'forward', '90', '94', 'acres', 'appellation', 'drc', 'owns', '11', 'loyalty', 'hard', 'work', 'greatly', 'contributed', 'success', 'company', 'makes', 'different', 'profession', 'big-money', 'ballplayer', 'public', 'eye', 'numbers', 'hard', 'fast', 'numbers', '21', '201', 'strongly', 'suggest', 'bringing', 'problems', 'work', 'q', 'working', 'deal', 'elektra', 'hard', 'time', 'persuading', 'executives', 'let', 'album', 'president', 'bush', 'praised', 'ec', 'action', 'washington', 'taking', 'hard', 'look', 'whether', 'impose', 'sanctions', 'hard', 'numbers', 'prove', 'language', 'experts', 'insist', 'u', 'companies', 'reaching', 'conclusion', 'dole', 'urged', 'naacp', 'come', 'back', 'america', 'equal', 'opportunity', 'hard', 'work', 'values', 'embraced', 'judge', 'thomas', 'overwhelming', 'majority', 'americans', 'white', 'black', 'wanted', 'badly', 'tell', 'sorry', 'hard', 'offhand', 'way', 'sometimes', 'behaved', 'belief', 'value', 'hard', 'work', 'industriousness', 'basis', 'social', 'economic', 'good', 'report', 'five', 'years', 'director', 'san', 'jose', 'repertory', 'theatre', 'near', 'explored', 'provocative', 'topics', 'survival', 'love', 'hard', 'world', 'arms', 'man', 'burning', 'patience', 'streetcar', 'named', 'desire', 'came', 'season', 'illusion', 'success', 'year', 'sons', 'rainmaker', 'orphans', 'aftereffects', 'loneliness', 'fences', 'caretaker', 'dracula', 'geography', 'luck', 'people', 'definitely', 'thought', 'hard', 'work', 'everyone', 'agreed', 'worth', 'recalled', 'sun', 'volunteer', 'coordinator', 'jennifer', 'sims', 'hard', 'feelings', 'weeds', 'perfectly', 'ok', 'hard', 'individual', 'people', 'firemen', 'policemen', 'ambulances', 'eyes', 'spectators', 'hard', 'disaster', 'family', 'members', 'recalled', 'saturday', 'hard', 'work', 'able', 'successfully', 're-establish', 'family', 'american', 'people', 'learning', 'hard', 'way', 'difficult', 'act', 'accordance', 'cool', 'rational', 'principles', 'supposedly', 'vital', 'national', 'interest', 'threatened', 'dictator', 'highly', 'charged', 'weight', 'public', 'emotion', 'driving', 'forward', 'millions', 'readers', 'name', 'synonymous', 'action', 'intrigue', 'suspense', 'mystery', 'greene', 'think', 'talent', 'patience', 'penchant', 'hard', 'work', 'approval', 'remember', 'figure', 'rightly', 'seven', 'proposed', 'long-distance', 'routes', 'lrb', 'six', 'seven', 'something', 'order', 'rrb', 'meant', 'great', 'deal', 'hard', 'work', 'commission', 'surveying', 'spot', 'even', 'ten', 'years', 'work', 'began', 'none', 'long-distance', 'routes', 'yet', 'completely', 'open', 'walkers', 'horsemen', 'beautiful', 'areas', 'variety', 'reasons', 'least', 'among', 'liability', 'cost', 'accidents', 'several', 'police', 'departments', 'begun', 'take', 'harder', 'look', 'chases', 'particularly', 'traffic', 'violations', 'baltic', 'republics', 'planning', 'independence', 'moves', 'years', 'certain', 'go', 'ahead', 'others', 'take', 'good', 'hard', 'look', 'consequences', 'may', 'cause', 'lot', 'republics', 'reconsider', 'listen', 'man', 'grimly', 'laid', 'hard', 'hand', 'fred', 'arm', 'devoted', 'committed', 'hard', 'work', 'freedom', 'every', 'soldier', 'sailor', 'every', 'marine', 'airman', 'coast', 'guardsman', 'every', 'man', 'woman', 'serving', 'persian', 'gulf', 'soledad', 'sits', 'floor', 'dry', 'flat', 'valley', 'farm', 'country', 'cluster', 'off-white', 'barracks', 'encircled', 'high', 'fence', 'sun', 'hard', 'wind', 'bright', 'relentless', 'shakespeare', 'famous', 'tragedy', 'took', 'harder', 'line', 'course', 'bodies', 'stage', 'jane', 'smiley', 'presents', 'new', 'version', 'set', 'iowa', 'farm', '1979', 'way', 'intelligent', 'compelling', 'complex', 'heartbreaking', 'rand', 'data', 'may', 'persuade', 'doctors', 'take', 'another', 'hard', 'look', 'chiropractor', 'colleagues', \"'damn\", 'going', 'get', 'home', 'cold', 'hard', 'terms', 'five', 'games', 'six', 'weeks', '11', '590', 'miles', 'president', 'bush', 'asked', 'americans', 'tuesday', 'night', 'share', 'hard', 'work', 'freedom', 'defeating', 'tyranny', 'persian', 'gulf', 'embracing', 'volunteerism', 'individual', 'initiative', 'home', 'recession', 'hard', 'economic', 'times', 'grateful', 'steady', 'job', 'enjoy', 'hard', 'work', 'pain', 'go', 'periodically', 'magnificent', 'profession', 'havemann', 'suggests', 'consumers', 'expect', 'homes', 'three', 'five', 'years', 'take', 'hard', 'look', 'discount-rate', 'adjustables', 'taking', 'hard', 'look', 'defensive', 'end', 'pierce', 'holt', 'essentially', 'uneducated', 'man', 'hard', 'work', 'determination', 'wife', 'became', 'landowners', 'beyond', 'claims', 'hard', 'necessity', 'wilson', 'argued', 'cutting', 'welfare', 'support', 'viewed', 'beneficial', 'encourage', 'work', 'efforts', 'level', 'stating', 'hard', 'truth', 'brother', 'karl', 'gentle', 'soul', 'mother', 'quiet', 'woman', 'little', 'hard', 'probing', 'eyes', 'worth', 'come', 'result', 'hard', 'fighting', 'baker', 'firm', 'hope', 'desire', 'wish', 'government', 'president', 'let', 'could', 'historic', 'opportunity', 'pass', 'want', 'willingness', 'commit', 'real', 'hard', 'work', 'peace', 'american', 'students', 'take', 'hard', 'look', 'school', 'programs', 'would', 'like', 'keep', 'ones', 'without', 'hard', 'feelings', 'losing', 'post', 'speech', 'thursday', 'baltimore', 'shamir', 'took', 'hard', 'line', 'negotiations', 'arabs', 'saying', 'israeli', 'needs', 'hold', 'onto', 'former', 'arab', 'lands', 'protect', 'surrounding', 'tyrannies', 'dictatorships', 'includes', 'sprint-boat', 'racing', 'whatever', 'mike', 'woodger', 'chris', 'paddon', 'learned', 'hard', 'way', 'melbourne', 'although', 'neither', 'injured', '400-horsepower', 'boat', 'hit', 'embankment', 'investors', 'need', 'know', 'market', 'volatile', 'take', 'hard', 'look', 'companies', 'investing', 'collins', 'added', 'way', 'wasting', 'hour', 'driving', 'f', 'another', 'hour', 'searching', 'parking', 'confusing', 'furious', 'intense', 'hard', 'day', 'work', 'pretty', 'hard', 'work', 'walter', 'kennedy', 'believed', 'hard', 'feelings', 'campaign', 'set', 'aside', 'ohio', 'state', 'jim', 'jackson', 'led', 'team', '19', 'points', 'really', 'frustrating', 'go', 'way', 'hard', 'worked', 'year', 'think', 'major', 'breakthrough', 'schoemehl', 'really', 'hard', 'work', 'still', 'front', 'mrs', 'goulart', 'served', 'bookkeeper', 'husband', 'hard', 'work', 'attention', 'detail', 'helped', 'make', 'store', 'success', 'hard', 'feelings', 'though', 'plans', 'renew', 'grazing', 'leases', 'take', 'hard', 'look', 'profitable', 'sideline', 'business', 'leasing', '30', 'acres', 'cattle', 'ranchers', 'grazing', 'several', 'members', 'subcommittee', 'however', 'government', 'take', 'long', 'hard', 'look', 'future', 'plane', 'without', 'ever', 'raring', 'back', 'letting', 'go', 'hard', 'stuff', 'harris', 'opened', 'stakes', 'starting', 'job', 'fine', 'performance', 'crowd', '8', '087', 'companion', 'enjoyed', 'healthy', 'slice', 'chocolate', 'mousse', 'cake', 'made', 'hard', 'chocolate', 'crust', 'topping', 'sponge', 'cake', 'either', 'strawberry', 'raspberry', 'bottom', 'feel', 'hard', 'court', 'best', 'surface', 'overall', 'courier', 'water', 'becomes', 'stiff', 'hard', 'clear', 'stone', 'statistics', 'canada', 'hard', 'red', 'spring', 'wheat', 'remaining', 'storage', 'bins', 'western', 'farmers', '47', 'top', 'grade', '46', 'last', 'year', 'lendl', 'three-time', 'u', 'open', 'champion', 'leads', 'series', '13-10', '2-1', 'edberg', 'hard', 'courts', 'year', 'thickened', 'polenta', 'might', 'enhanced', 'salt', 'pepper', 'ground', 'hard', 'cheese', 'asiago', 'romano', 'seasoned', 'fresh', 'herbs', 'chopped', 'basil', 'sage', 'oregano', 'playing', \"'stick\", 'get', 'lot', 'spike', 'marks', 'stay', 'dirt', 'ground', 'hard', 'downs', 'whose', 'annual', 'shoulder', 'trouble', 'apparently', 'remedied', 'surgery', 'last', 'april', 'threw', 'progressively', 'better', 'spring', 'developed', 'inflamed', 'big', 'right', 'toe', 'foot', 'rubbed', 'hard', 'arizona', 'dirt', 'follow-through', 'advent', 'astroturf', 'means', 'players', 'moving', 'faster', 'hitting', 'harder', 'surface', 'crystals', 'make', 'varnish', 'extremely', 'hard', 'probably', '100', 'times', 'tougher', 'varnish', 'used', 'violins', 'last', '150', 'years', 'explain', 'mystery', 'old', 'violins', 'unique', 'sheen', 'complaint', 'industrial-strength', 'roll', 'hard', 'outside', 'thick', 'sells', '695', 'costs', '600', 'hard', 'disk', 'storing', 'pages', 'data', '50', 'paintings', '60', 'works', 'paper', 'show', 'consist', 'largely', 'geometric', 'reductions', 'human', 'form', 'hard', 'lines', 'kaleidoscopic', 'constructions', 'snow', 'hired', 'bring', 'harder', 'edge', 'ideological', 'spirit', 'bush', 'speeches', 'moves', 'toward', '1992', 'election', 'workers', 'carefully', 'scraped', 'away', '19', 'inches', 'hard', 'dirt', 'top', 'vault', 'dr', 'carl', 'austin', 'weiss', 'died', 'hail', 'bullets', 'along', 'long', '1935', 'drying', 'period', 'important', 'may', 'take', 'long', 'month', 'cutting', 'callus', 'form', 'hard', 'leathery', 'seal', 'long', 'fresh', 'cutting', 'put', 'potting', 'medium', 'without', 'callus', 'usually', 'rots', 'day', 'lockerbie', 'explosion', 'two', 'libyans', 'flew', 'libya', 'malta', 'large', 'brown', 'hard', 'sided', 'samsonite', 'suitcase', 'spotlight', 'hard', 'red', 'winter', 'wheat', 'primarily', 'used', 'export', 'make', 'bread', 'berkeley-based', 'company', 'product', 'must', 'refrigerated', 'like', 'mousse', 'candy', 'since', 'truffles', 'hard', 'chocolate', 'shells', 'high', 'cream', 'content', 'low', 'sugar', 'hard', 'boxy', 'edges', 'rounded', 'aerodynamic', 'appearance', 'lumps', 'dark', 'hard', 'ferruginous', 'sandstone', 'recalling', 'tropical', 'laterite', 'found', 'ironstained', 'purbeck', 'slabs', 'surrounding', 'arable', 'fields', 'reynolds', 'prepares', 'introduce', 'camel', 'ninety', 'nines', 'longer-length', 'cigarette', 'hard', 'pack', 'continues', 'testing', 'horizon', 'brand', 'promotes', 'improved-aroma', 'smoke', 'prepares', 'image', 'overhaul', 'flagship', 'winston', 'brand', 'without', 'publicity', 'public', 'relations', 'campaigns', 'existing', 'surface', 'made', 'wood', 'may', 'install', 'hard', 'flooring', 'ceramic', 'tile', 'stone', 'vinyl', 'ordinary', 'green', 'ford', 'consul', 'hard', 'top', 'like', 'ordinary', 'saloon', 'carlton', 'money', 'hard', 'cardboard', 'box', 'handed', 'aide', 'delivery', 'noriega', 'shin', 'knee', 'guards', 'made', 'hard', 'plastic', 'similar', 'shin', 'guards', 'worn', 'catchers', 'baseball', 'even', 'though', 'use', 'cold', 'filtered', 'water', 'tea', 'kettle', 'developed', 'hard', 'cracked', 'gray', 'crust', 'bottom', 'months', 'scar', 'tissue', 'grows', 'form', 'thick', 'capsule', 'around', 'implant', 'cause', 'breasts', 'become', 'hard', 'sometimes', 'sore', 'boys', 'dark', 'pants', 'tri-cornered', 'hats', 'hard', 'soled', 'shoes', 'malaysia', 'electronics', 'industry', 'rock', 'hard', 'place', 'general', 'rule', 'keep', 'mind', 'cooking', 'cheese', 'done', 'medium', 'unless', 'hard', 'cheese', 'grated', 'parmesan', 'romano', 'jeffrey', 'edelman', 'analyst', 'drexel', 'burnham', 'lambert', 'inc', 'penney', 'done', 'good', 'job', 'placing', 'emphasis', 'profitable', 'soft', 'goods', 'moving', 'less', 'profitable', 'hard', 'goods', 'categories', 'electronics', 'sporting', 'goods', 'little', 'boos', 'hard', 'white', 'skin', 'cooking', 'name', 'suggests', 'green', 'plantain', 'hard', 'bright', 'green', 'skin', 'rub', 'swab', 'point', 'roof', 'mouth', 'hard', 'surface', 'becomes', 'soft', 'known', 'junction', 'hard', 'soft', 'palates', 'pasta', 'hard', 'perhaps', 'fmc', 'knock', 'tank', 'treads', 'put', 'rubber', 'tires', 'replace', '5', 'mpg', 'engines', 'efficient', 'ones', 'replace', 'hard', 'seats', 'soft', 'cushions', 'mark', 'prices', 'wee', 'bit', 'compete', 'luxury', 'cars', 'everybody', 'minds', 'noise', 'much', 'wooden', 'mountain', 'house', 'hard', 'surfaces', 'even', 'small', 'crowd', 'rattle', 'windows', 'box', 'sheeting', 'extended', 'length', 'lock', 'form', 'ft', 'wide', 'trench', 'order', 'drain', 'head', 'lock', 'trench', 'filled', 'hard', 'core', 'drain', 'intonation', 'wavered', 'stravinsky', 'apollo', 'sound', 'texture', 'puccini', 'piece', 'turned', 'hard', 'unyielding', 'hard', 'covers', 'always', 'refuges', 'onion', 'seeds', 'hard', 'seed', 'coat', 'good', 'jobs', 'disappearing', 'hard', 'scrabble', 'river', 'town', 'years', 'becker', 'matched', 'lendl', 'nine', 'aces', 'match', 'dynamic', 'net', 'play', 'diving', 'rolling', 'hard', 'court', 'frolicking', 'grass', 'different', 'flavor', 'results', 'firing', 'hard', 'seasoned-wood', 'brick', 'oven', 'slow', 'boring', 'hard', 'boards', 'congress', 'president', 'keep', 'hitting', 'bit', 'breaking', 'knots', 'deficit', 'health', 'care', 'education', 'policy', 'environment', 'rotting', 'infrastructure', 'ragged', 'scrubland', 'manicured', 'lawns', 'bleak', 'blanket', 'hard', 'gray', 'crust', 'time', 'rejoicing', 'hard', 'firm', 'shape', 'automatic', 'sent', 'new', 'confidence', 'surging', 'body', 'always', 'attracted', 'contradictory', 'impulses', 'dual', 'natures', 'suggested', 'exhibit', 'title', 'hard', 'vs', 'soft', 'feminine', 'vs', 'masculine', 'blister', 'caused', 'dragging', 'foot', 'hard', 'mound', 'pitching', 'arizona', 'heard', 'many', 'women', 'spritz', 'spritz', 'even', 'split', 'ends', 'hard', 'enough', 'cut', 'glass', 'surface', 'key', 'frm', 'pkd', 'firm', 'packed', 'hrd', 'pkd', 'hard', 'packed', 'mch', 'grm', 'machine', 'groomed', 'pkd', 'pwdr', 'packed', 'powder', 'pwdr', 'powder', 'time', 'change', 'incremental', 'evocative', 'words', 'max', 'weber', 'strong', 'slow', 'boring', 'hard', 'boards', 'record-breaking', 'hard', 'freeze', 'ravished', 'tropical', 'mediterranean', 'plants', 'bay', 'area', 'gardens', 'play', 'equipment', 'sand', 'hard', 'surface', 'handicapped', 'access', 'cost', '160', 'lincoln', 'fong', 'senior', 'landscape', 'architect', 'city', 'time', 'hard', 'courts', 'mint', 'green', 'national', 'tennis', 'center', 'match', 'fitting', 'finish', 'day', 'featured', 'victories', 'parade', 'australian', 'open', 'champions', 'edberg', '1985', '1987', 'winner', 'ivan', 'lendl', '1989', '1990', 'winner', 'mats', 'wilander', '1983', '1984', '1988', 'winner', 'include', 'covering', 'cake', 'hard', 'glaze', 'sugar', 'gelatin', 'using', 'wood', 'temporary', 'frame', 'floating', 'sculptures', 'collagen', 'forms', 'women', 'likely', 'develop', 'fibrous', 'capsule', 'around', 'implant', 'becomes', 'hard', 'sometimes', 'sore', 'silicon', 'carbide', 'problem', 'hard', 'brittle', 'thus', 'vulnerable', 'impact', 'stresses', 'blond', 'tints', 'fresh', 'enduring', 'enamel', 'quite', 'hard', 'generally', 'novice', 'sandblaster', 'remove', 'old', 'paint', 'without', 'cutting', 'soft', 'grain', 'leaving', 'hard', 'grain', 'virtually', 'untouched', 'handset', 'holding', 'clattered', 'something', 'hard', 'dropped', 'yanked', 'loose', 'intimal', 'surface', 'aorta', 'covered', 'confluent', 'yellow-brown', 'hard', 'friable', 'plaques', 'along', 'entire', 'course', 'marked', 'narrowing', 'orifices', 'large', 'major', 'visceral', 'arteries', 'garage', 'door', 'found', 'opener', 'reversed', 'struck', 'hard', 'block', 'crushed', 'cardboard', 'box', 'material', 'assumes', 'closely', 'represents', 'people', 'find', 'sitting', 'spinal', 'column', 'bent', '45-degree', 'angle', 'knees', 'ramming', 'hard', 'knotty', 'slab', 'oak', 'attention', 'span', 'tends', 'shorten', 'considerably', 'felt', 'nothing', 'head', 'shoulder', 'blades', 'pressing', 'hard', 'slab', 'beneath', 'back', 'like', 'chocolate', 'easter', 'bunny', 'rotationally', 'molded', 'plastic', 'products', 'hard', 'skin', 'hollow', 'inside', 'easter', 'eggs', 'go', 'people', 'time', 'dye', 'buy', 'hard', 'boiled', 'pre-colored', 'rainbow', 'eggs', 'wednesday', 'day', '4', 'morning', 'ice', 'patches', 'stream', 'ground', 'frozen', 'hard', 'started', 'eight-mile', 'hike', 'kibo', 'hut', 'last', 'winter', 'hard', 'frost', 'caused', 'new', 'growth', 'tips', 'go', 'limp', 'quickly', 'recovered', 'hard', 'cheeses', 'higher', 'saturated', 'fats', 'meat', 'performed', 'number', 'operations', 'types', 'ears', 'assure', 'extremely', 'hard', 'bone', 'trevor', 'wilson', 'pitched', 'giants', 'first', 'eight', 'innings', 'mitch', 'hard', 'rock', 'think', 'bothered', 'age', '3', '3', 'servings', 'daily', 'serving', 'would', 'F', '3', 'F', '4', 'cup', 'milk', 'children', 'years', 'age', 'serve', 'whole', 'milk', 'low-fat', 'skim', 'milk', 'F', '3', 'F', '4', 'cup', 'yogurt', 'ounce', 'hard', 'cheese', 'F', '4', 'cup', 'cottage', 'cheese', 'pudding', 'ice', 'milk', 'ice', 'cream', 'interior', 'overly', 'chintzy', 'hard', 'uncomfortable', 'seats', 'fabric', 'feels', 'cheap', 'liked', 'low-fat', 'shortening', 'nuts', 'chocolate', 'better', 'no-fat', 'found', 'dry', 'hard', 'instrument', 'shown', 'fig', 'consists', 'essentially', 'hard', 'sharp', 'tungsten', 'carbide', 'knife', 'pushed', 'along', 'substrate', 'remove', 'coating', 'game', 'made', 'hard', 'courts', 'courts', 'fast', 'bad', 'bounces', 'bumpers', 'sought', 'moratorium', 'proposal', 'impose', '5', 'percent', 'royalty', 'gold', 'silver', 'hard', 'rock', 'minerals', 'mined', 'federal', 'lands', 'stalled', 'years', 'senate', 'energy', 'natural', 'resources', 'committee', 'dominated', 'westerners', 'chains', 'aggressively', 'promote', 'latest', 'mass-market', 'hard', 'cover', 'best', 'sellers', 'putting', 'front', 'store', 'along', 'main', 'thoroughfare', 'power', 'aisle', 'however', 'fifth', 'house', 'row', 'house', 'scientists', 'occupants', 'amenable', 'eviction', 'matter', 'worthy', 'cause', 'boris', 'piotrovsky', 'soon', 'found', 'rock', 'hard', 'place', 'skin', 'covered', 'hard', 'bubblelike', 'scales', 'mattson', 'laboriously', 'constructing', 'boots', 'stitch', 'time', 'slipping', 'needle', 'sewing', 'machine', 'carefully', 'scales', 'implants', 'make', 'breasts', 'hard', 'sore', 'field', 'hockey', 'girls', 'chase', 'solid', 'hard', 'plastic', 'ball', 'wooden', 'sticks', 'shin', 'pads', 'used', 'meet', 'national', 'standards', 'required', 'worn', 'times', 'mature', 'adulthood', 'grasshoppers', 'develop', 'rock', 'hard', 'exoskeleton', 'ability', 'fly', 'length', 'football', 'field', 'atlanta', 'businessman', 'mr', 'scherer', 'severed', 'ties', 'company', '1979', 'dispute', 'board', 'members', 'including', 'mr', 'fink', 'run', 'maker', 'hard', 'soft-shell', 'capsules', 'used', 'hold', 'drugs', 'vitamins', 'bath', 'oil', 'rain', 'along', 'plentiful', 'ogallala', 'aquifer', 'pumped', 'irrigation', 'part', 'nebraska', 'left', 'fields', 'alfalfa', 'corn', 'hard', 'red', 'winter', 'wheat', 'good', 'shape', 'soviet', 'union', 'supply', '5', 'million', 'cubic', 'meters', 'timber', 'year', 'mostly', 'hard', 'pine', 'china', 'provide', 'coal', 'salt', 'electricity', 'oil', 'materials', 'news', 'service', 'hard', 'surface', 'wood', 'clacking', 'heels', 'inappropriate', 'public', 'places', 'life', 'savers', 'holes', 'pellet', 'version', 'hard', 'candies', 'withdrawn', 'stores', 'nationwide', 'four', 'teen-agers', 'swallowed', 'gagged', 'packages', 'plastic', 'tops', 'company', 'officials', 'mr', 'ohmae', 'latest', 'book', 'beyond', 'national', 'borders', 'reflections', 'japan', 'world', 'lrb', 'dow', 'jones-irwin', '128', 'pages', '16', '95', 'rrb', 'ably', 'translated', 'english', 'author', 'mckinsey', 'colleagues', 'sold', '300', 'hard', 'cover', 'copies', 'japan', 'breath', 'ground', 'becomes', 'hard', 'flint', 'note', 'cinnamon', 'red', 'hots', 'small', 'red', 'candies', 'slightly', 'harder', 'jelly', 'beans', 'available', 'baking', 'section', 'supermarkets', 'box', 'sun', 'hong', 'kong', 'restaurant', '91', 'shattuck', 'square', 'e', 'shattuck', 'avenue', 'addison', 'berkeley', '510', '841-2288', 'bright', 'hard', 'surfaced', 'contemporary', 'chinese', 'cafe', 'fills', 'two', 'small', 'floors', 'tables', 'selling', 'long', 'interesting', 'menu', 'supplemented', 'separate', 'menu', 'soups', 'noodle', 'dishes', 'rice', 'plates', 'extremely', 'low', 'prices', 'view', 'misery', 'hard', 'earth', 'blanketed', 'discarded', 'water', 'bottles', 'human', 'waste', 'weary', 'children', 'tattered', 'clothes', 'lining', 'rations', 'sometimes', 'tapping', 'pot', 'hard', 'surface', 'loose', 'cramped', 'plant', 'may', 'use', 'screwdriver', 'pry', 'priest', 'bearing', 'holy', 'relic', 'referee', 'carrying', 'puck', 'rock', 'hard', 'piece', 'black', 'rubber', 'drops', 'face-off', 'center', 'ice', 'contest', 'begins', 'hard', 'covers', 'still', 'advantage', 'common', 'many', 'locks', 'early', 'date', 'hard', 'floor', 'provided', 'mass', 'concrete', 'lock', 'walls', 'although', 'timber', 'baulks', 'substantial', 'section', 'set', 'earth', 'floor', 'act', 'struts', 'bases', 'walls', 'trapped', 'net', 'pack', 'large', 'men', 'wielding', 'wooden', 'sticks', 'whacking', 'hard', 'little', 'projectiles', 'head', '120', 'mph', 'important', 'provide', 'relatively', 'hard', 'stable', 'surface', 'place', 'dining', 'table', 'chairs', 'make', 'possible', 'cook', 'meal', 'close', 'hand', 'ages', '4', '5', '3', 'servings', 'daily', 'serving', 'would', '3', 'F', '4', 'cup', 'milk', '3', 'F', '4', 'cup', 'yogurt', 'F', 'ounces', 'hard', 'cheese', 'F', 'cup', 'cottage', 'cheese', 'pudding', 'ice', 'milk', 'ice', 'cream', 'k', 'mart', 'hard', 'goods', 'business', 'showed', 'improvement', 'january', 'biggest', 'gains', 'small', 'appliances', 'home', 'electronics', 'sporting', 'goods', 'automotive', 'products', 'japan', 'smelled', 'pugh', 'people', 'let', 'dead', 'fish', 'lie', 'beaches', 'till', 'fish', 'got', 'hard', 'rocks', 'scraped', 'mold', 'made', 'fish', 'soup', 'flat', 'hard', 'cap', 'small', 'thrust', 'back', 'head', 'believe', 'could', 'argue', 'basic', 'message', 'either', 'book', 'somehow', 'hard', 'face', 'american', 'capitalism', 'needs', 'softened', 'feminized', 'need', 'color', 'available', 'prefinished', 'pegboard', 'paint', 'smooth', 'unfinished', 'pegboard', 'urethane', 'enamel', 'hard', 'finish', 'dismay', 'soon', 'discovered', 'pastries', 'hard', 'rocks', 'rows', 'metal', 'grave', 'markers', 'green', 'spikes', 'serve', 'temporary', 'markers', 'sit', '200-acre', 'field', 'orange', 'dirt', 'hard', 'baked', 'adobe', 'best', 'whitman', 'song', 'occupations', 'juxtaposes', 'loops', 'soft', 'cloth', 'tape', 'stenciled', 'words', 'house-building', 'glass-blowing', 'spilling', 'hard', 'edge', 'steel', 'wall', 'mounting', 'offer', 'announced', 'april', '30', 'department', 'assured', 'soviets', 'would', 'pay', '80', 'ton', 'bread-quality', 'hard', 'red', 'wheat', 'corn', 'pops', 'pressure', 'expanding', 'steam', 'builds', 'popcorn', 'unlike', 'sweet', 'corn', 'another', 'layer', 'starch', 'hard', 'layer', 'keeps', 'steam', 'inside', 'kernel', 'resist', 'pressure', 'pow', 'autumn', 'ground', 'getting', 'hard', 'nights', 'cold', 'leaves', 'maples', 'around', 'stadium', 'blew', 'across', 'practice', 'fields', 'gusts', 'wind', 'girls', 'beginning', 'put', 'polo', 'coats', 'sweaters', 'first', 'hard', 'cover', 'printing', 'healthy', '150', 'copies', 'even', 'abbreviated', 'cassette', 'version', 'available', 'blow', 'encountered', 'silky', 'hair', 'hard', 'bone', 'matter', 'fact', 'good', 'hard', 'frost', 'seems', 'clear', 'old', 'tubes', 'hard', 'bristle', 'brush', 'presses', 'dutch', 'metal', 'onto', 'railing', 'ornament', 'carefully', 'working', 'groove', 'acanthusleaf', 'pattern', 'may', '1990', 'issue', 'consumer', 'reports', 'article', 'rating', 'bicycle', 'helmets', 'took', 'generally', 'negative', 'view', 'hard', 'shell', 'helmets', 'bicycle', 'helmet', 'safety', 'institute', 'believes', 'impact', 'ratings', 'based', 'current', 'helmet', 'standards', 'tell', 'truth', 'thought', 'marble', 'much', 'harder', 'shelf', 'hard', 'lava', 'resting', 'pile', 'loose', 'rock', 'could', 'snap', 'dump', 'ocean', 'light', 'feed', 'particularly', 'metal', 'hard', 'material', 'causes', 'overheating', 'tool', 'burning', 'cutting', 'edge', 'put', 'drop', 'glass', 'cold', 'water', 'periodically', 'instantly', 'turns', 'hard', 'ball', \"'we\", 'gone', 'rock', 'hard', 'place', 'dog', 'hydrant', 'clark', 'redeker', 'alameda', 'county', 'water', 'district', 'board', 'member', 'water', 'crisis', 'first', 'extended', 'interview', 'reporters', 'since', 'taking', 'party', 'chairmanship', 'yeutter', 'displayed', 'little', 'hard', 'edge', 'characterized', 'atwater', 'brand', 'politics', 'transactions', 'installments', 'sale', 'four', 'million', 'metric', 'tons', 'bread-quality', 'hard', 'red', 'winter', 'wheat', 'soviets', 'agreed', 'buy', 'recently', 'promises', 'heavy', 'subsidies', 'reagan', 'administration', 'export-enhancement', 'program', 'feel', 'heavy', 'hard', 'skin', 'thick', 'without', 'discolored', 'patches', 'smell', 'nice', 'strongly', 'may', 'inaccurate', 'steel', 'may', 'soft', 'lrb', 'possibly', 'hard', 'rrb', 'edge', 'either', 'crumbles', 'brittle', 'may', 'robust', 'enough', 'work', 'first', 'time', '1967', 'breasts', 'turned', 'hard', 'within', 'months', 'ambiguity', 'plaintiffs', 'proverbial', 'position', 'rock', 'hard', 'place', 'judge', 'mcdonald', 'condominiums', 'charged', 'higher', 'rate', 'single-family', 'homes', 'usually', 'hard', 'surfaces', 'thus', 'produce', 'runoff', 'latex', 'expands', 'contracts', 'oil', 'run', 'cracking', 'alligatoring', 'top', 'coat', 'put', 'hard', 'coat', 'oil', 'soft', 'coat', 'latex', 'together', 'sat', 'throwing', 'hard', 'round', 'pebbles', 'dark', 'waters', 'moon', 'full', 'moon', 'nevertheless', 'finest', 'moon', 'joe', 'joe', 'seen', 'san', 'jacinto', 'players', 'mostly', 'east', 'coast', 'help', 'feeling', 'like', 'exiles', 'hard', 'baked', 'patch', 'suburban', 'houston', 'wine', 'F', 'food', 'matches', 'reds', 'box', 'chianti', 'grilled', 'roasted', 'beef', 'veal', 'pasta', 'vegetables', 'light', 'meats', 'poultry', 'hard', 'cheeses', 'six-block', 'radius', 'lesbian', 'bars', 'chrome-plated', 'harley-davidson', 'motorcycles', 'parked', 'outside', 'taco', 'stands', 'alongside', 'szechwan', 'restaurants', 'mexican', 'voodoo', 'parlors', 'filled', 'ceramic', 'figurines', 'devil', 'bars', 'cappuccino-sipping', 'beatniks', 'share', 'tables', 'hard', 'hat', 'construction', 'workers', 'allow', 'pieces', 'become', 'leather', 'hard', 'constructing', 'shaker', 'fda', 'deferred', 'action', 'company', 'request', 'approval', 'sweetener', 'trade', 'name', 'sunette', 'u', 'ingredient', 'confections', 'including', 'hard', 'soft', 'candy', 'process', 'produces', 'hard', 'crystalline', 'mass', 'silicon', 'carbide', 'features', 'strong', 'molecular', 'bonds', 'close-knit', 'structure', 'much', 'like', 'diamond', 'two', 'months', 'passed', 'first', 'broods', 'robins', 'cardinals', 'fledged', 'mound', 'authentic', 'old-fashioned', 'nesting', 'material', 'remains', 'directly', 'ground', 'rock', 'hard', 'place', 'getting', 'unsterile', 'day', 'all-purpose', 'flours', 'contain', 'blend', 'hard', 'soft', 'wheats', 'travel', 'private', 'yacht', 'afford', 'hard', 'sided', 'luggage', 'pick', 'conveyer', 'belt', 'handled', 'staff', 'although', 'extremely', 'hard', 'durable', 'much', 'thickness', 'sanding', 'vernal', 'pools', 'occur', 'springtime', 'usually', 'found', 'hard', 'claypan', 'surfaces', 'water', 'pooled', 'spring', 'runoff', 'difficult', 'sell', 'women', 'apparel', 'store', 'whose', 'reputation', 'hard', 'goods', 'monroe', 'greenstein', 'analyst', 'bear', 'stearns', 'co', 'occasionally', 'pushed', 'far', 'give', 'look', 'narrowed', 'eyes', 'hard', 'cruel', 'bony', 'skull', 'would', 'show', 'smooth', 'face', 'winding', 'streets', 'battered', 'storefronts', 'appear', 'real', 'real', 'thing', 'doubt', 'watch', 'visitors', 'try', 'tiptoe', 'across', 'think', 'sloshy', 'muddy', 'main', 'drag', 'actually', 'hard', 'surface', 'sculpted', 'look', 'like', 'mud', 'ms', 'mcglade', 'hard', 'goods', 'sales', 'continue', 'hold', 'better', 'apparel', 'thanks', 'partly', 'strength', 'new-home', 'sales', 'related', 'furnishing', 'purchases', 'since', 'mr', 'clark', 'believes', 'firmly', 'chewing', 'hard', 'foods', 'helps', 'develop', 'healthy', 'gums', 'teeth', 'raw', 'vegetables', 'raw', 'whole-wheat', 'grains', 'handed', 'fresh', 'fruit', 'whole-wheat', 'cookies', 'snack', 'time', 'afternoons', 'box', 'harvest', 'squash', 'pumpkins', 'decorative', 'gourds', 'vines', 'dry', 'rinds', 'hard', 'surface', 'key', 'frm', 'pkd', 'firm', 'packed', 'hrd', 'pkd', 'hard', 'packed', 'mch', 'grm', 'machine', 'groomed', 'pkd', 'pwdr', 'packed', 'powder', 'pwdr', 'powder', 'popping', 'buttons', 'hard', 'plastic', 'sheets', 'punching', 'machines', 'look', 'date', 'industrial', 'revolution', 'suggestions', 'check', 'install', 'equipment', 'hard', 'surfaces', 'asphalt', 'concrete', 'third', 'class', 'sitting', 'hard', 'wooden', 'benches', 'many', 'passengers', 'bring', 'hammocks', 'hang', 'willy-nilly', 'across', 'heads', 'fellow', 'travelers', 'seem', 'terribly', 'put', 'inconvenience', 'campaign', 'move', 'mildred', 'wortham', '34-year-old', 'mother', 'two', 'lives', 'hard', 'scrabble', 'rockwell', 'gardens', 'housing', 'project', 'young', 'mother', 'recently', 'died', 'cocaine', 'overdose', '13-year-old', 'girl', 'stabbed', 'tossed', 'seventh-floor', 'window', 'rear', 'seat', 'thin', 'hard', 'like', 'park', 'bench', 'generally', 'larger', 'tool', 'harder', 'material', 'slower', 'speed', 'scherer', 'makes', 'hard', 'shell', 'soft-shell', 'gelatin', 'capsules', 'used', 'hold', 'drugs', 'vitamins', 'bath', 'oil', 'earned', '15', 'million', '38', 'share', 'year', 'ended', 'march', '31', 'including', '3', '7', 'million', 'credit', 'tax-loss', 'carry-forwards', 'forecasts', 'hurricane', 'gilbert', 'bring', 'rains', 'hard', 'red', 'winter', 'wheat', 'planting', 'areas', 'texas', 'oklahoma', 'colorado', 'nebraska', 'kansas', 'sparked', 'selling', 'wheat', 'rent-a-car', 'company', 'founder', 'warren', 'avis', 'found', 'promoting', 'hard', 'cover', 'edition', 'guide', 'entrepreneurship', 'take', 'chance', 'first', 'instead', 'suntans', 'souvenirs', 'indians', 'brought', 'back', 'pieces', 'hard', 'rocks', 'called', 'monterey', 'banded', 'chert', 'made', 'stone', 'knives', 'spear', 'tips', 'academy', 'professors', 'still', 'proudly', 'show', 'communist', 'party', 'cards', 'time', 'soviet', 'history', 'hard', 'red', 'leather-bound', 'documents', 'burned', 'demonstrators', 'lenses', 'sold', 'long-term', 'wear', 'come', 'hard', 'platic', 'case', 'glass', 'vials', 'last', 'entire', 'life', 'lens', 'de-thatch', 'aerate', 'hard', 'packed', 'turf', 'areas', 'apply', 'fertilizer', 'carry', 'lawn', 'winter', 'roses', 'unexpected', 'dots', 'color', 'neutral', 'ground', 'playful', 'mural', 'softens', 'hard', 'line', 'central', 'corridor', 'main', 'wing', 'hard', 'shoes', 'squeaky', 'pram', 'wheels', 'annoyed', 'fine', 'dry', 'weather', 'mode', 'travel', 'unpleasant', 'compared', 'heavy', 'vehicles', 'europe', 'hard', 'english', 'turnpikes', 'spring', 'rains', 'drew', 'frost', 'ground', 'roads', 'became', 'nearly', 'impassable', 'winter', 'rivers', 'froze', 'serious', 'peril', 'added', 'susquehanna', 'north', 'river', 'paulus', 'hook', 'must', 'crossed', 'open', 'boat', 'affair', 'hours', 'best', 'sometimes', 'leading', 'fatal', 'accidents', 'heat', 'returns', 'sand', 'baked', 'hard', 'crust', 'capable', 'supporting', 'tanks', 'complicating', 'u', 'attack', 'yet', 'come', 'upon', 'stunning', 'eclat', 'hard', 'chrome', 'surface', 'pleated', 'delicate', 'bows', 'stretch', 'alluringly', 'across', 'wall', 'understand', 'particular', 'eye', 'beauty', 'last', 'week', 'rail', 'journey', 'retired', 'southern', 'pacific', 'steam', 'locomotive', 'south', 'san', 'francisco', 'peninsula', 'way', 'sacramento', 'reminded', 'fondly', 'want', 'know', 'trips', 'city', 'ugly', 'soot-stained', 'cars', 'hard', 'seats', 'drinking', 'fountains', 'filled', 'warm', 'water', 'terrain', 'plod', 'mostly', 'flat', 'desert', 'loose', 'hard', 'packed', 'sand', 'rises', 'mutla', 'ridge', 'north', 'kuwait', 'city', 'climactic', 'tank', 'battle', 'would', 'probably', 'waged', 'grains', 'soybeans', 'wheat-futures', 'prices', 'jumped', 'rumors', 'soviet', 'union', 'plans', 'buy', '300', 'tons', 'u', 'hard', 'red', 'winter', 'wheat', '99', 'ton', 'highest', 'price', 'paid', 'two', 'years', 'daniel', 'basse', 'grain', 'analyst', 'gnp', 'commodities', 'inc', 'chicago', 'real', 'rock', 'hard', 'place', 'la', 'russa', 'designers', 'tried', 'several', 'approaches', 'using', 'hard', 'shell', 'mammal', 'emblem', 'including', 'early', 'sans', 'sunglasses', 'four', 'cowboy', 'boots', 'hard', 'edge', 'like', 'way', 'hard', 'sided', 'luggage', 'elegant', 'type', 'people', 'carried', '1920s', '1930s', 'tummy', 'hard', 'enough', 'stop', 'faucet', 'push', 'tummy', 'throw', 'water', 'enter', 'cable-supported', 'fabric', 'dome', 'insulation', 'costs', 'average', '13', 'million', 'still', 'third', 'less', 'hard', 'shells', 'something', 'hard', 'grazed', 'knuckles', 'added', 'injection', 'system', 'needs', 'redesigned', 'using', 'harder', 'tungsten', 'carbide', 'materials', 'dogloo', 'made', 'two', 'sheets', 'hard', 'plastic', 'nitrogen', 'bubbles', 'insulation', 'chickens', 'frozen', 'hard', 'stones', 'smacked', 'many', 'refugees', 'head', 'heated', 'house', 'however', 'water', 'advisable', 'plants', 'kept', 'dry', 'tend', 'become', 'hard', 'stems', 'slow', 'break', 'spring', 'scherer', 'still', 'makes', 'hard', 'shell', 'capsules', 'overseas', 'put', 'hard', 'wax', 'base', 'fiberglass', 'board', 'speed', 'heitmann', 'explains', 'walk', 'across', 'east', 'cliff', 'drive', 'toward', 'stairs', 'lead', 'ocean', 'flat-soled', 'low-heeled', 'little', 'comfortable', 'fit', 'like', 'tennis', 'shoe', 'hard', 'sole', 'joe', 'figueroa', 'vice', 'president', 'sales', 'marketing', 'fort', 'worth-based', 'company', 'provided', 'boots', 'movie', 'hard', 'freeze', 'last', 'december', 'gave', 'peonies', 'extra', 'fine', 'blooms', 'year', 'common', 'practice', 'cultivate', 'rot-resistant', 'tomatoes', 'harvest', 'still', 'green', 'hard', 'gas', 'make', 'look', 'red', 'formosan', 'termites', 'harder', 'mandibles', 'better', 'tearing', 'chunks', 'soft', 'metal', 'colonies', 'run', 'tens', 'millions', 'compared', 'subterraneans', 'content', 'stay', 'hundreds', 'thousands', 'three', 'varieties', 'call', 'good', 'crunch', 'factor', 'crunchy', 'enough', 'hold', 'dunking', 'hard', 'feel', 'high', 'tackled', 'ronnie', 'lott', 'big', 'today', 'standards', '5-11', '185', 'pounds', 'rock', 'hard', 'box', 'resin', 'beads', 'remove', 'minerals', 'slowly', 'get', 'saturated', 'hard', 'material', 'like', 'people', 'know', 'rubber', 'gets', 'hard', 'low', 'temperatures', 'flip', 'side', 'much', 'light', 'much', 'fertilizer', 'make', 'plant', 'compact', 'tight', 'hard', 'brittle', 'centers', 'gone', 'rock', 'hard', 'place', 'dog', 'hydrant', 'board', 'member', 'clark', 'redeker', 'q', 'new', '1990', 'nissan', 'hard', 'body', 'pickup', 'throws', 'heavy', 'black', 'smoke', 'cool', 'mornings', 'good', 'looks', 'hard', 'body', 'clothes', 'money', 'cars', 'possessions', 'etc', 'even', 'make', 'list', 'cavernous', 'depth', 'cluttered', 'antiques', 'echoed', 'hard', 'heels', 'walked', 'directly', 'office', 'rear', 'took', 'seat', 'desk', 'handle', 'thick', 'combination', 'smooth', 'curves', 'hard', 'lines', 'return', 'school', 'long', 'crowded', 'campus', 'need', 'parking', 'permit', 'sit', 'crowded', 'classroom', 'chair', 'made', 'recycled', 'hard', 'plastic', 'watch', 'television', 'read', 'text', 'required', 'homework', 'big', 'cheese', 'strolled', 'airport', 'bedding', 'hard', 'plastic', 'chair', 'half', 'night', 'could', 'told', 'thing', 'two', 'friends', 'old', 'new', 'moustache', 'sweat', 'hard', 'factory', 'mouth', 'blue', 'unwilling', 'eyes', 'serve', 'appetizer', 'entree', 'vegetable', 'dessert', 'use', 'hard', 'green', 'soft', 'ripe', 'every', 'stage', '10th', 'printing', 'book', 'sold', '155', 'copies', 'hard', 'cover', 'since', 'april', 'among', 'best-selling', 'books', 'country', 'since', 'june', 'astounding', 'mr', 'hirsch', 'publisher', 'houghton', 'mifflin', 'co', 'caught', 'rock', 'hard', 'place', 'investors', 'concerned', 'trying', 'figure', 'trade', 'number', 'means', 'mr', 'greenwald', 'marble', 'cherubs', 'example', 'carved', 'marble', 'fireplaces', 'attacked', 'hard', 'blunt', 'objects', 'hoyas', 'would', 'plural', 'meaning', 'hard', 'rocks', 'despite', 'efforts', 'sell', 'charm', 'school', 'mr', 'hoffman', 'concedes', 'far', 'waldenbooks', 'hard', 'cover', 'sales', 'book', 'totaled', '9', 'lrb', 'warner', 'wo', 'disclose', 'overall', 'sales', 'printed', '100', 'hard', 'cover', 'copies', 'plans', 'million', 'paperback', 'rrb', 'older', 'models', 'made', 'hard', 'stiff', 'rubber', 'provided', 'spring', 'forced', 'amputee', 'pull', 'artificial', 'leg', 'step', 'hip', 'athletes', 'learn', 'suddenly', 'hamstring', 'achilles', 'tendon', 'rest', 'learn', 'slowly', 'body', 'betrays', 'skulls', 'hard', 'protect', 'part', 'really', 'means', 'anything', 'oils', 'develop', 'hard', 'smooth', 'films', 'dry', 'form', 'resinlike', 'substances', 'buying', 'radishes', 'look', 'firm', 'hard', 'fleshed', 'unblemished', 'ones', '1986', 'bantam', 'spent', '250', 'showdown', 'highest', 'price', 'paid', 'north', 'american', 'hard', 'cover', 'rights', 'foreign', 'novelist', 'time', 'beans', 'tossed', 'motion', 'much', 'like', 'clothes', 'dryer', 'coated', 'sugar', 'coloring', 'hard', 'shiny', 'shells', 'develop', 'feel', 'caught', 'rock', 'hard', 'place', 'importance', 'hard', 'abrasion', 'resistant', 'knife', 'material', 'like', 'carboloy', 'employed', 'hesiometer', 'immediately', 'becomes', 'apparent', 'paint', 'hard', 'brush', 'hot', 'vinegar', 'oh', 'remember', \"'strawberries\", 'sliding', 'hard', 'clay', 'pads', 'prior', 'convictions', 'finds', 'jansson', 'red-diaper', 'baby', 'disaffected', 'lawyer', 'caught', 'rock', 'hard', 'place', 'object', 'placed', 'patient', 'hand', 'difficulty', 'determining', 'whether', 'warm', 'cold', 'sharp', 'blunt', 'rough', 'smooth', 'flexible', 'soft', 'hard', 'could', 'tell', 'simply', 'feel', 'whether', 'made', 'wood', 'iron', 'cloth', 'rubber', 'dessert', 'cannot', 'improve', 'hard', 'cookies', 'sharpen', 'teeth', 'dunk', 'lingering', 'wine', 'fences', 'lot', 'harder', 'oakland', 'portland', 'ore', 'north', 'carolina', 'leader', 'policy', 'retreat', 'believing', 'better', 'let', 'beaches', 'move', 'naturally', 'fight', 'ocean', 'sea', 'walls', 'jetties', 'hard', 'structures', 'unlike', 'relatively', 'soft', 'canvas', 'polyester', 'wallpaper', 'linings', 'veneer', 'wall', 'coverings', 'relatively', 'hard', 'applied', 'adhesive', 'finger', 'leave', 'depression', 'first', 'sat', 'noticed', 'paper', 'bag', 'carried', 'bag', 'filled', 'individually', 'wrapped', 'hard', 'candies', 'steadily', 'dipped', 'hand', 'would', 'lie', 'relaxed', 'peaceful', 'though', 'resting', 'iron', 'hard', 'though', 'still', 'fighting', 'scar', 'tissue', 'made', 'right', 'hand', 'brick', 'hard', 'basic', 'rule', 'harder', 'material', 'larger', 'drill', 'diameter', 'slower', 'speed', 'good', 'several', 'feet', 'around', 'pool', 'neither', 'greensward', 'woods', 'good', 'hard', 'pavement', 'speed', 'cooling', 'process', 'put', 'ganache', 'freezer', 'must', 'check', 'make', 'sure', 'become', 'hard', 'scoop', 'teaspoon', 'biggest', 'cuts', 'made', 'pc', '6300', 'plus', 'line', 'price', 'entry', 'model', 'single', 'floppy', 'disk', 'drive', 'fell', '38', '590', 'price', 'top-of-the-line', 'model', 'hard', 'disk', 'storing', 'equivalent', '20', 'pages', 'data', 'cut', '29', '3', '065', 'attention', 'culture', 'history', 'concern', 'state', 'fragile', 'coastal', 'environment', 'visual', 'layering', 'line-art', 'photographs', 'maps', 'guide', 'lrb', 'edited', 'madge', 'caughman', 'joanne', 'ginsberg', 'university', 'california', 'press', '29', '95', 'hard', 'cover', '14', '95', 'paperback', 'rrb', 'emerges', 'fully', 'realized', 'work', 'may', 'fundamentally', 'impossible', 'improve', 'upon', 'hard', 'kernel', 'uncertainty', 'chafes', 'beneath', 'well-being', 'mr', 'president', 'north', 'america', 'tortilla', 'often', 'fried', 'hard', 'onion', 'bulbs', 'grow', 'expand', 'hard', 'adobe', 'soil', 'drought', 'hit', 'durum', 'wheat', 'hard', 'spring', 'wheat', 'even', 'harder', 'ounce', 'hard', 'cheese', 'sliced', 'cheddar', 'swiss', 'fontina', 'slice', 'whole', 'wheat', 'bread', 'toasted', 'tablespoon', 'salsa', 'place', 'cheese', 'top', 'toasted', 'bread', 'microwave-proof', 'plate', 'combination', 'supposed', 'make', 'first', 'republicbank', 'texas', 'dominant', 'financial', 'institution', 'instead', '24', 'billion', 'loan', 'portfolio', 'withered', 'state', 'hard', 'scrabble', 'economy', 'put', 'cut', 'pieces', 'plaster', 'board', 'dry', 'firm', 'leather', 'hard', 'state', 'roper', 'declined', 'comment', 'change', 'heart', 'mr', 'sankey', 'board', 'caught', 'rock', 'hard', 'place', 'seeds', 'hard', 'fibrous', 'stony', 'fruits', 'called', 'nuts', 'provide', 'highly', 'concentrated', 'foods', 'oils', 'materials', 'value', 'list', 'includes', 'anything', 'jacqueline', 'susann', 'plus', 'diet', 'books', 'garfield', 'books', 'completed', 'crossword', 'puzzle', 'books', 'paperback', 'unless', 'unavailable', 'hard', 'cover', 'selfhelp', 'books', 'surface', 'key', 'frm', 'pkd', 'firm', 'packed', 'hrd', 'pkd', 'hard', 'packed', 'mch', 'grm', 'machine', 'groomed', 'pkd', 'pwdr', 'packed', 'powder', 'pwdr', 'powder', 'unlucky', 'man', 'middle', 'sailed', 'side', 'wall', 'ball', 'ricocheted', 'hard', 'plastic', 'dividers', 'protecting', 'wide-eyed', 'spectators', 'craziness', 'enter', 'please', '35', 'comfy', 'little', 'cabins', 'woods', 'specifically', '35', 'little', 'tent', 'cabins', 'huckleberry', 'campground', 'area', 'big', 'basin', 'redwoods', 'state', 'park', 'rock', 'hard', 'place', 'north', 'boulder', 'creek', 'highway', '9', 'look', 'good', 'quality', 'imported', 'olives', 'prosciutto', 'sliced', 'meats', 'italian', 'hard', 'soft', 'cheeses', 'prepared', 'salads', 'plus', 'focaccia', 'breads', 'tips', 'help', 'enjoy', 'garlic', 'check', 'buying', 'cloves', 'big', 'plump', 'hard', 'hard', 'sided', 'coolers', 'unless', 'vacuum', 'bottles', 'specify', 'used', 'hot', 'foods', 'bold', 'gamble', 'hard', 'scrabble', 'economy', 'texas', 'fdic', 'granted', 'north', 'carolina', 'company', 'substantial', 'protection', 'texas', 'loan', 'losses', 'biscotti', 'youth', 'lemon', 'yellow', 'tasted', 'mostly', 'anise', 'hard', 'rock', 'field', 'far', 'away', 'many', 'seats', 'hard', 'wooden', 'planks', 'wacky', 'hilarious', 'stanford', 'band', 'become', 'unhip', 'boring', 'second', 'coat', 'begins', 'set', 'gets', 'hard', 'trowel', 'wood', 'float', 'working', 'circular', 'motion', 'surface', 'key', 'frm', 'pkd', 'firm', 'packed', 'hrd', 'pkd', 'hard', 'packed', 'mch', 'grm', 'machine', 'groomed', 'pkd', 'pwdr', 'packed', 'powder', 'pwdr', 'powder', 'always', 'hard', 'edge', 'intensified', 'years', 'spent', 'vietnam', 'almost', 'never', 'buy', 'new', 'hard', 'cover', 'books', 'afford', 'magic', 'foods', 'get', 'soft', 'cooked', 'carrots', 'potatoes', 'foods', 'get', 'hard', 'cooked', 'eggs', 'cookie', 'dough', 'foods', 'metamorphose', 'cream', 'butter', 'egg', 'whites', 'meringue', 'foods', 'shape-shift', 'popcorn', 'hominy', 'tortillas', 'polenta', 'admires', 'inventive', 'interplay', 'hard', 'tusky', 'forms', 'vulnerable', 'belly', 'without', 'least', 'moved', 'torture', 'sharing', 'deep', 'fried', 'combo', 'appetizer', '7', '95', 'whose', 'fish', 'shellfish', 'thickly', 'breaded', 'fried', 'hard', 'almost', 'indistinguishable', 'pleasantly', 'surprised', 'find', 'sauteed', 'scallops', 'meant', 'large', 'portion', 'hot', 'oval', 'baking', 'dish', 'floating', 'sauce', 'butter', 'garlic', 'white', 'wine', 'lemon', 'garnished', 'parsley', 'grilled', 'green', 'onions', 'served', 'mushrooms', 'rice', 'baked', 'swordfish', 'mean', 'dried-out', 'paperweight', 'may', 'personalized', 'back', 'clay', 'leather', 'hard', 'bestknown', 'author', 'erma', 'bombeck', 'whose', 'books', 'sold', 'million', 'copies', 'hard', 'cover', 'paperback', 'box', 'peppermill', '2909', 'lakeside', 'santa', 'clara', '408', '988-3282', '10690', 'de', 'anza', 'blvd', 'cupertino', '408', '996-7750', 'looks', 'like', \"'50s\", 'vision', 'future', 'mirrored', 'ceiling', 'black', 'chrome', 'neon', 'strip', 'lighting', 'hard', 'surfaces', 'left', 'pro-labor', 'forces', 'allied', 'developers', 'including', 'several', 'hard', 'hatted', 'construction', 'workers', 'check', '4', 'arantxa', 'sanchez', 'vicario', 'showed', 'signs', 'hope', 'winning', 'first', 'title', 'year', 'saturday', 'washington', 'never', 'hard', 'court', 'tournament', 'ice-cream', 'fork', 'would', 'seem', 'contradict', 'miss', 'manners', 'assertion', 'ice', 'cream', 'eaten', 'spoon', 'fooled', 'actually', 'spoon', 'rounded', 'bowl', 'fork-like', 'tines', 'end', 'subduing', 'brick', 'hard', 'ice', 'cream', 'scientists', 'known', 'years', 'larger', 'bodies', 'moon', 'soil-like', 'surface', 'objects', 'small', 'gaspra', 'thought', 'rock', 'hard', 'surfaces', 'surface', 'key', 'frm', 'pkd', 'firm', 'packed', 'hrd', 'pkd', 'hard', 'packed', 'mch', 'grm', 'machine', 'groomed', 'pkd', 'pwdr', 'packed', 'powder', 'pwdr', 'powder', 'cost', 'average', '9', 'million', 'lrb', 'half', 'much', 'hard', 'domes', 'rrb', 'let', 'sunlight', 'much', '30', 'newer', 'fabrics', 'possessed', 'outer', 'fortifications', 'hard', 'shells', 'confidence', 'enough', 'difficulty', 'getting', 'day', 'day', 'let', 'alone', 'awful', 'crime', 'thrust', 'upon', 'used', 'making', 'buttons', 'small', 'hard', 'objects', 'turnery', 'jisr', 'hajar', 'faraya', 'elliptical', 'arch', 'hard', 'stone', 'slightly', 'oblique', 'regular', 'abutments', 'san', 'jose', 'museum', 'art', 'showcase', 'post-minimalist', 'lynda', 'benglis', 'made', 'name', '20', 'years', 'ago', 'supple', 'sculpture-painting', 'hybrids', 'metallized', 'sparkle', 'knots', 'covered', 'gold', 'leaf', 'defied', 'minimalist', 'mandate', 'sculpture', 'hard', 'geometric', 'rigid', 'pity', 'poor', 'hard', 'covers', 'canada', 'wheat', 'customers', 'rely', 'milling', 'canada', 'high-grade', 'high-protein', 'hard', 'red', 'spring', 'wheat', 'since', 'former', 'white', 'house', 'chief', 'staff', 'published', 'memoirs', 'monday', 'time', 'magazine', 'hard', 'cover', 'astrologers', 'exceedingly', 'difficult', 'tune', 'turn', 'disregard', 'box', 'resin', 'beads', 'remove', 'minerals', 'slowly', 'get', 'saturated', 'hard', 'material', 'hbox', 'matzo', 'balls', 'hard', 'fall', 'apart', 'marcie', 'mom', 'aileen', 'gugenheim', 'guarantees', 'recipe', 'handed', 'generation', 'generation', 'box', 'wait', 'cut', 'asparagus', 'ferns', 'turned', 'completely', 'brown', 'usually', 'first', 'hard', 'frost', 'remainder', 'would', 'so-called', 'hard', 'goods', 'include', 'stereos', 'television', 'sets', 'electronic', 'equipment', 'remember', 'curvy', 'road', 'hard', 'shoulders', 'hulking', 'bald', 'foreman', 'folks', 'saw', 'fight', 'qawi', 'different', 'fella', 'hard', 'muscled', 'young', 'champ', 'whose', 'place', 'history', 'rests', 'largely', 'two', 'fights', 'lost', 'students', 'learning', 'take', 'notes', 'standing', 'sitting', 'hard', 'cold', 'tile', 'futon', 'good', 'insist', 'good', 'back', 'bed', 'hard', 'firm', 'love', 'whose', 'flesh', 'boiled', 'clean', 'cold', 'hard', 'white', 'bone-like', 'love', 'box', 'shell', 'hard', 'pinched', 'enough', 'slum-dwellers', 'huaycan', 'outside', 'lima', 'treatment', 'free', 'patients', 'must', 'recline', 'hard', 'benches', 'dirty', 'sheets', 'bring', 'along', 'toilet', 'paper', 'blood', 'blisters', 'could', 'prevented', 'forming', 'rubbing', 'work', 'blister', 'immediately', 'hard', 'nonpoisonous', 'substance', '80', 'miles', 'hour', 'across', 'hard', 'dirt', 'road', 'cluster', 'shacks', 'hard', 'shells', 'nuts', 'might', 'make', 'think', 'good', 'stable', 'foodstuff', 'high', 'fat', 'content', 'meat', 'makes', 'susceptible', 'rancidity', 'law', 'prohibiting', 'hard', 'flooring', 'spray', 'kills', 'germs', 'viruses', 'hard', 'surfaces', 'toilet', 'seats', 'wash', 'basins', 'door', 'handles', 'telephones', 'manufacturer', 'decks', 'new', 'comprehensive', 'book', 'deck', 'building', 'decks', 'tim', 'snyder', '26', '95', 'hard', 'cover', 'rodale', 'press', 'latin', 'americans', 'west', 'indians', 'use', 'bananas', 'hard', 'green', 'squishily', 'soft', 'brown', 'every', 'stage', 'like', 'amoebas', 'plasmodia', 'enter', 'hard', 'resistant', 'resting', 'states', 'called', 'sclerotia', 'conditions', 'bad', 'courier', 'looks', 'comfortable', 'hard', 'courts', 'national', 'tennis', 'center', 'clay', 'roland', 'garros', 'readers', 'smell', 'linseed', 'oil', 'hard', 'soap', 'tallow', 'candles', 'priory', 'quickly', 'caught', 'layers', 'friendships', 'animosities', 'exist', 'among', 'young', 'novices', 'forbidden', 'particular', 'affections', 'sisters', 'current', 'centerpiece', 'star', 'electric', 'vibrator', 'black-and-chrome', 'device', 'size', 'shape', 'medieval', 'mace', 'comes', 'complete', 'carrying', 'case', 'variety', 'hard', 'rubber', 'massage', 'heads', 'instruction', 'manual', 'excavation', 'floor', 'lock', 'followed', 'completed', 'hard', 'core', 'drain', '15', 'ft', 'sections', 'trench', 'sheeting', 'removed', 'ft', 'thick', 'mass', 'concrete', 'slab', '7', '4', 'total', 'aggregate', 'cement', 'ratio', 'emplaced', 'within', '3', 'ft', 'wall', 'york', 'believes', 'double-walled', 'hard', 'sided', 'coolers', 'like', 'little', 'igloos', 'thermos', 'brands', 'good', 'bet', 'two', 'walls', 'efficient', 'way', 'use', 'air', 'excellent', 'insulation', 'properties', 'palm', 'rough', 'hard', 'callouses', 'rested', 'ever', 'lightly', 'eyes', 'unsettled', 'debt', 'market', 'proposed', 'federal', 'reserve', 'board', 'rules', 'capital', 'put', 'banks', 'rock', 'hard', 'place', 'kris', 'bowers', 'advertising', 'director', 'oakley', 'company', 'makes', 'wraparound', 'sunglasses', 'oakleys', 'offer', '100', 'percent', 'uv', 'protection', 'made', 'polycarbonic', 'lenses', 'hard', 'plastic-like', 'material', 'controlled', 'energy', 'marked', 'use', 'yeats', 'demanded', 'intellectually', 'surprising', 'word', 'correct', 'word', 'warm', 'fume', 'hard', 'factory', 'mouth', 'big-potato-bummed', 'man', 'surface', 'sand', 'gravel', 'gold', 'settle', 'time', 'comes', 'barrier', 'stops', 'movement', 'hard', 'clay', 'oak', 'hardest', 'trees', 'california', 'valued', 'long', 'burn', 'hearth', 'acknowledges', 'company', 'inability', 'refinance', '4', 'billion', 'debt', 'deal', 'put', 'rock', 'hard', 'place', 'bay', 'area', 'soil', 'mostly', 'hard', 'clay', 'best', 'way', 'loosen', 'compacted', 'soil', 'dig', 'huge', 'amounts', 'compost', 'redwood', 'soil', 'conditioner', 'organic', 'soil', 'amendments', 'hard', 'lot', 'cracks', 'fractures', 'sometimes', 'pieces', 'break', 'robert', 'joedicke', 'analyst', 'shearson', 'lehman', 'brothers', 'inc', 'called', 'chemical', 'bank', 'agreement', 'important', 'achievement', 'pilots', 'puts', 'company', 'board', 'directors', 'rock', 'hard', 'place', 'jio', 'looking', 'men', 'dressed', 'orange', 'vests', 'white', 'hard', 'hats', 'kind', 'makes', 'sad', 'see', 'thing', 'progress', '1990', 'self-published', 'pamphlets', 'masculinity', 'crisis', 'compiled', 'reissued', 'hard', 'cover', 'leading', 'publisher', 'book', 'iron', 'john', 'quickly', 'scaled', 'new', 'york', 'times', 'best-seller', 'list', 'structural-package', 'designers', 'develop', 'advanced', 'microwaveable', 'packaging', 'metallized', 'foils', 'encourage', 'crisping', 'guidance', 'systems', 'leave', 'ice', 'cream', 'rock', 'hard', 'salisbury', 'steak', 'sizzles', 'conscious', 'fact', 'feet', 'hurt', 'city', 'pavements', 'hard', 'booz', 'asked', 'judge', 'stay', 'would', 'kept', 'baby', 'foster', 'care', 'pending', 'appeal', 'refused', 'saying', 'child', 'cannot', 'remain', 'caught', 'rock', 'hard', 'place', 'early', 'hard', 'domes', 'necessitated', 'round', 'stadiums', 'support', 'inconvenient', 'shape', 'baseball', 'football', 'toys', 'hard', 'covers', 'told', 'friend', 'came', 'two', 'days', 'physical', 'asked', 'look', \"'a\", 'hard', 'place', 'side', 'breast', 'absorb', 'stains', 'food', 'tobacco', 'combine', 'calcium', 'minerals', 'saliva', 'form', 'tartar', 'rock', 'hard', 'coating', 'latest', 'version', 'gv-300', '400', 'year', 'old', 'size', 'hard', 'cover', 'book', 'fear', 'may', 'day', 'replace', 'books', 'spent', 'years', 'observing', 'animals', 'general', 'rule', 'place', 'flat', 'rock', 'chest', 'bang', 'hard', 'shelled', 'molluscs', 'clams', 'avon', 'paperback', 'however', 'different', 'subtitle', 'appeared', 'hard', 'covers', 'last', 'april', 'monday', 'wednesday', 'multiple', 'accidents', 'caused', 'miles', 'long', 'morning', 'backups', 'hard', 'hatted', 'friends', 'even', 'went', 'work', 'loud', 'music', 'bright', 'colors', 'hard', 'slick', 'seats', 'fast-food', 'outlet', 'example', 'intended', 'entertain', 'trigger', 'eat-and-run', 'response', 'often', 'road-wizened', 'artists', 'endure', 'years', 'second-billed', 'status', 'finally', 'find', 'late', 'success', 'emerge', 'hard', 'shell', 'self-righteous', 'bitterness', 'note', 'dragees', 'hard', 'candies', 'used', 'decorate', 'baked', 'goods', 'rose', 'christmas', 'cookies', 'rose', 'levy', 'beranbaum', 'morrow', 'bears', 'orangutans', 'play', 'boomer', 'balls', 'hard', 'plastic', 'spheres', 'size', 'volleyball', 'filled', 'nuts', 'raisins', 'rattle', 'around', 'inside', 'sometimes', 'fall', 'eagerly', 'eaten', 'according', 'mario', 'solomon', 'graduate', 'student', 'georgetown', 'term', 'hoya', 'derives', 'greek', 'word', 'hard', 'rock', 'brushes', 'hard', 'bristles', 'tiny', 'heads', 'good', 'cleaning', 'small', 'white', 'part', 'teeth', 'pears', 'hard', 'variety', 'may', 'need', 'pre-cook', 'little', 'water', 'soft', 'cushion', 'help', 'alleviate', 'discomfort', 'experienced', 'sitting', 'hard', 'surface', 'kind', 'leo', 'buscaglia', 'hard', 'court', 'embracing', 'sweaty', 'charges', 'every', 'opportunity', 'warm', 'feel', 'bit', 'soft', 'cool', 'become', 'crisp', 'hard', 'barbara', 'perry', 'however', 'thought', 'trying', 'deep-fry', 'proposition', 'may', 'strike', 'devotees', 'akin', 'hard', 'boiling', 'caviar', 'made', 'thin', 'hard', 'yellow', 'ware', 'fine', 'red', 'grit', 'units', 'hard', 'plastic', 'sides', 'force', 'water', 'travel', 'length', 'filter', 'insuring', 'longer', 'contact', 'filter', 'federal', 'government', 'wants', 'lease', 'portions', 'outer', 'continental', 'shelf', 'norton', 'sound', 'including', 'disputed', 'acres', 'hard', 'rock', 'mineral', 'recovery', 'gold', 'primary', 'target', 'want', 'hard', 'edge', 'wanted', 'something', 'soft', 'dreamy', 'beat', 'towel', 'hard', 'surface', 'break', 'husks', 'loose', 'kernels', 'doubt', 'fasb', 'proposal', 'leaves', 'rock', 'hard', 'place', 'benefits', 'manager', 'major', 'manufacturing', 'company', 'left', 'pro-labor', 'forces', 'allied', 'developers', 'including', 'several', 'hard', 'hatted', 'construction', 'workers', 'virtually', 'anything', 'hard', 'surface', 'colonize', 'encouraged', 'sit-ins', 'leading', 'replacement', 'reception', 'area', 'comfortable', 'sofas', 'overstuffed', 'chairs', 'hard', 'wood', 'benches', 'caught', 'rock', 'hard', 'place', 'check', 'weight', 'hard', 'shell', 'helmet', 'strains', 'neck', 'pick', 'thin', 'shell', 'hideji', 'takemasa', 'thinks', 'computers', 'imagine', 'hard', 'plastic', 'boxes', 'squatting', 'desk', 'tops', 'goalkeeper', 'face', 'mask', 'evolved', 'jason', 'mask', 'see', 'horror', 'movies', 'awire', 'cage', 'attaches', 'helmet', 'high-tech', 'hard', 'plastic', 'mask-helmet', 'combination', 'bumpy', 'hard', 'skinned', 'irregularly', 'shaped', 'squash', 'typifies', 'american', 'fall', 'winter', 'harvest', 'food', 'best', 'true', 'noir', 'believers', 'purchase', 'new', 'lrb', 'first', 'time', 'published', 'hard', 'covers', 'rrb', 'novel', 'dashiell', 'hammett', 'woman', 'dark', 'novel', 'dangerous', 'romance', 'lrb', 'knopf', '76', 'pages', '15', '95', 'rrb', 'necessary', 'trim', 'using', 'straightedge', 'fresh', 'knife', 'blade', 'rubbing', 'fine-grit', 'sandpaper', 'laid', 'flat', 'hard', 'work', 'surface', 'instance', 'painted', 'planted', 'walkway', 'hard', 'surface', 'save', 'water', 'think', 'hard', 'nose', 'stroking', 'bridge', 'nose', 'love', 'nonsense', 'someday', 'walking', 'forest', 'dead', 'winter', 'stub', 'boot', 'something', 'hard', 'frog', 'sleeping', 'bed', 'hard', 'flat', 'felt', 'staked', 'birds', 'prey', 'desert', 'serving', 'crisp', 'tortillas', 'leave', 'hard', 'flat', 'c', 'edward', 'acker', 'pan', 'chairman', 'remains', 'caught', 'rock', 'hard', 'place', 'mr', 'hoffman', 'entered', 'business', 'decade', 'ago', 'hard', 'cover', 'fiction', 'best', 'seller', 'sold', '150', 'copies', 'replacement', 'leads', 'scribes', 'marking', 'metal', 'glass', 'hard', 'materials', 'stored', 'tape', 'rule', 'driving', 'hard', 'topped', 'car', 'stay', 'harvest', 'fruit', 'first', 'hard', 'freeze', 'never', 'let', 'soil', 'dry', 'watch', 'whiteflies', 'powdery', 'mildew', 'feed', 'generously', 'percent', 'nitrogen', 'fertilizer', 'every', 'week', 'prop', 'ripening', 'pumpkins', 'boards', 'prevent', 'rotting', 'bottom', 'harvest', 'rind', 'starts', 'getting', 'hard', 'cookies', 'start', 'hard', 'soften', 'mature', 'becker', 'matched', 'lendl', 'nine', 'aces', 'match', 'dynamic', 'play', 'net', 'frolicking', 'hard', 'court', 'wimbledon', 'grass', 'done', 'bean', 'curd', 'hard', 'soft', 'fried', 'steamed', 'broiled', 'knows', 'work', 'little', 'harder', 'keep', 'relationship', 'going', 'found', 'way', 'get', 'pretty', 'tomato', 'market', 'pick', 'hard', 'unripe', 'ones', 'gas', 'red', 'mclaughlin', 'recommended', 'class', 'bikers', 'riding', 'steep', 'hard', 'packed', 'dirt', 'hill', 'braking', 'back', 'brake', 'use', 'front', 'brake', 'sparingly', 'hyper', 'pad', 'hard', 'surface', 'mousepad', 'contains', 'heat-sensitive', 'liquid', 'crystals', 'stich', 'stretched', 'five', 'sets', 'third', 'round', 'malivai', 'washington', 'looked', 'comfortable', 'wimbledon', 'grass', 'adjusted', 'medium-fast', 'hard', 'courts', 'national', 'tennis', 'center', 'someone', 'moving', 'larger', 'apartment', 'smaller', 'mr', 'thometz', 'may', 'weed', 'hard', 'cover', 'classics', 'readily', 'available', 'paperback', 'instead', 'tie', 'cushion', 'hard', 'headboard', 'comfortable', 'sitting', 'bed', 'way', 'going', 'miss', 'even', 'kicking', 'ball', 'feels', 'like', 'brick', 'rock', 'hard', 'field', 'wind', 'although', 'question', 'process', 'washing', 'fabrics', 'involves', 'number', 'phenomena', 'related', 'together', 'extremely', 'complicated', 'way', 'phenomena', 'interrelations', 'well', 'understood', 'present', 'section', 'attempts', 'present', 'briefly', 'up-to-date', 'picture', 'physical', 'chemistry', 'washing', 'either', 'fabrics', 'hard', 'surfaces', 'so-called', 'vegetable', 'ivory', 'hard', 'endosperm', 'egg-sized', 'seed', 'mr', 'condello', 'worst', 'thing', 'state', 'capitol', 'hard', 'floors', 'tiled', 'marble', 'corridors', 'stone', 'stairs', 'trampled', 'working', 'day', 'decade', 'remove', 'hard', 'outer', 'shell', 'acorn', 'nut', 'cracker', 'harder', 'skin', 'allow', 'fruit', 'store', 'better', 'since', '1950s', 'cost', 'twice', 'national', 'average', 'build', 'mile', 'highway', 'hard', 'scrabble', 'state', 'example', 'hard', 'stick', 'timpanist', 'virtually', 'turns', 'opening', 'minute', 'kettle-drum', 'concerto']\n"
     ]
    }
   ],
   "source": [
    "print(\"Vocabulario Total :\", voc)"
   ]
  },
  {
   "cell_type": "markdown",
   "metadata": {},
   "source": [
    "### Una vez conformado el vocabulario, es momento de seleccionar las m palabras mas frecuentes con la ayuda de NLTK"
   ]
  },
  {
   "cell_type": "code",
   "execution_count": 56,
   "metadata": {
    "scrolled": true
   },
   "outputs": [],
   "source": [
    "fd= nltk.FreqDist(voc)"
   ]
  },
  {
   "cell_type": "markdown",
   "metadata": {},
   "source": [
    "### A Futuro sabemos que para el clasificador vamos a usar las 250 palabras mas frecuentes, por ello el siguiente codigo muestra como obtenerlas, asi como tambien conformar una lista \"bag_words\" que sera la lista de la bolsa de palabras"
   ]
  },
  {
   "cell_type": "code",
   "execution_count": 57,
   "metadata": {},
   "outputs": [
    {
     "name": "stdout",
     "output_type": "stream",
     "text": [
      "[('hard', 3706), ('harder', 507), ('time', 362), ('would', 267), ('get', 259), ('work', 254), ('make', 226), ('find', 216), ('people', 205), ('even', 178), ('believe', 166), ('like', 160), ('going', 157), ('much', 151), ('hardest', 140), ('take', 138), ('way', 136), ('may', 129), ('look', 126), ('good', 121), ('new', 118), ('see', 117), ('know', 116), ('could', 112), ('years', 112), ('many', 110), ('imagine', 106), ('two', 98), ('without', 95), ('come', 95), ('tell', 92), ('long', 92), ('first', 91), ('made', 91), ('part', 90), ('last', 89), ('really', 89), ('think', 87), ('year', 84), ('go', 84), ('back', 84), ('still', 83), ('thing', 83), ('lot', 81), ('enough', 80), ('day', 78), ('makes', 77), ('things', 77), ('san', 74), ('little', 73), ('keep', 71), ('getting', 70), ('place', 68), ('making', 68), ('life', 67), ('put', 65), ('home', 63), ('might', 62), ('sometimes', 62), ('times', 61), ('something', 60), ('women', 59), ('since', 57), ('become', 56), ('state', 56), ('children', 56), ('job', 55), ('often', 55), ('right', 55), ('president', 54), ('want', 54), ('man', 54), ('business', 53), ('understand', 53), ('found', 53), ('around', 53), ('money', 53), ('kind', 52), ('game', 51), ('school', 51), ('city', 49), ('always', 49), ('every', 48), ('especially', 47), ('real', 47), ('days', 45), ('ever', 45), ('better', 45), ('use', 45), ('someone', 44), ('although', 44), ('though', 44), ('whether', 44), ('big', 43), ('three', 43), ('box', 43), ('today', 43), ('u', 43), ('anything', 43), ('jose', 43), ('national', 42), ('never', 42), ('best', 42), ('well', 42), ('company', 42), ('rock', 41), ('far', 40), ('percent', 40), ('small', 40), ('water', 40), ('play', 40), ('next', 39), ('old', 39), ('finding', 39), ('world', 39), ('show', 39), ('help', 38), ('thought', 38), ('men', 38), ('high', 38), ('feel', 38), ('house', 37), ('easy', 37), ('give', 37), ('young', 37), ('war', 37), ('learned', 37), ('million', 37), ('used', 36), ('public', 36), ('team', 36), ('county', 36), ('read', 36), ('feelings', 36), ('taking', 35), ('deal', 35), ('book', 35), ('trying', 35), ('bush', 34), ('economic', 34), ('another', 34), ('market', 34), ('F', 34), ('check', 34), ('california', 34), ('among', 34), ('companies', 34), ('away', 33), ('change', 33), ('santa', 33), ('week', 33), ('need', 33), ('got', 33), ('kids', 33), ('difficult', 33), ('fact', 33), ('food', 33), ('done', 33), ('figure', 33), ('yet', 33), ('told', 32), ('care', 32), ('american', 32), ('course', 32), ('pretty', 32), ('court', 32), ('particularly', 32), ('parents', 31), ('given', 31), ('states', 31), ('line', 31), ('explain', 30), ('bad', 30), ('students', 30), ('start', 30), ('others', 30), ('anyone', 30), ('area', 30), ('control', 30), ('news', 30), ('system', 30), ('group', 30), ('industry', 30), ('black', 30), ('child', 30), ('john', 30), ('council', 30), ('whose', 30), ('end', 30), ('white', 29), ('face', 29), ('family', 29), ('gets', 29), ('success', 29), ('board', 29), ('health', 29), ('surface', 29), ('future', 29), ('win', 29), ('months', 29), ('director', 29), ('let', 28), ('country', 28), ('remember', 28), ('members', 28), ('different', 28), ('community', 28), ('government', 28), ('working', 28), ('soft', 28), ('support', 27), ('second', 27), ('head', 27), ('longer', 27), ('decisions', 27), ('beat', 27), ('jobs', 27), ('cut', 27), ('3', 27), ('night', 27), ('came', 27), ('cover', 27), ('person', 26), ('run', 26), ('set', 26), ('left', 26), ('ago', 26), ('manager', 26), ('however', 26), ('pay', 26), ('general', 26), ('stay', 26), ('woman', 26), ('budget', 26), ('call', 26), ('questions', 26), ('sure', 26), ('former', 25), ('sell', 25), ('try', 25), ('case', 25), ('prove', 25), ('must', 25), ('officials', 25), ('hit', 25), ('leave', 25), ('americans', 25), ('probably', 25), ('past', 25), ('move', 25), ('red', 25), ('ground', 24)]\n"
     ]
    }
   ],
   "source": [
    "GramAmbig= ['harder','hardest']\n",
    "mostCo=fd.most_common(250+len(GramAmbig))\n",
    "print(mostCo)\n",
    "moscCo = [mostCo[i][0] for i in range (len(mostCo))]\n",
    "bag_words = [ x for x in moscCo if not x in list(GramAmbig)] "
   ]
  },
  {
   "cell_type": "code",
   "execution_count": 58,
   "metadata": {},
   "outputs": [
    {
     "name": "stdout",
     "output_type": "stream",
     "text": [
      "Bolsa de palabras \n",
      "     ['hard', 'time', 'would', 'get', 'work', 'make', 'find', 'people', 'even', 'believe', 'like', 'going', 'much', 'take', 'way', 'may', 'look', 'good', 'new', 'see', 'know', 'could', 'years', 'many', 'imagine', 'two', 'without', 'come', 'tell', 'long', 'first', 'made', 'part', 'last', 'really', 'think', 'year', 'go', 'back', 'still', 'thing', 'lot', 'enough', 'day', 'makes', 'things', 'san', 'little', 'keep', 'getting', 'place', 'making', 'life', 'put', 'home', 'might', 'sometimes', 'times', 'something', 'women', 'since', 'become', 'state', 'children', 'job', 'often', 'right', 'president', 'want', 'man', 'business', 'understand', 'found', 'around', 'money', 'kind', 'game', 'school', 'city', 'always', 'every', 'especially', 'real', 'days', 'ever', 'better', 'use', 'someone', 'although', 'though', 'whether', 'big', 'three', 'box', 'today', 'u', 'anything', 'jose', 'national', 'never', 'best', 'well', 'company', 'rock', 'far', 'percent', 'small', 'water', 'play', 'next', 'old', 'finding', 'world', 'show', 'help', 'thought', 'men', 'high', 'feel', 'house', 'easy', 'give', 'young', 'war', 'learned', 'million', 'used', 'public', 'team', 'county', 'read', 'feelings', 'taking', 'deal', 'book', 'trying', 'bush', 'economic', 'another', 'market', 'F', 'check', 'california', 'among', 'companies', 'away', 'change', 'santa', 'week', 'need', 'got', 'kids', 'difficult', 'fact', 'food', 'done', 'figure', 'yet', 'told', 'care', 'american', 'course', 'pretty', 'court', 'particularly', 'parents', 'given', 'states', 'line', 'explain', 'bad', 'students', 'start', 'others', 'anyone', 'area', 'control', 'news', 'system', 'group', 'industry', 'black', 'child', 'john', 'council', 'whose', 'end', 'white', 'face', 'family', 'gets', 'success', 'board', 'health', 'surface', 'future', 'win', 'months', 'director', 'let', 'country', 'remember', 'members', 'different', 'community', 'government', 'working', 'soft', 'support', 'second', 'head', 'longer', 'decisions', 'beat', 'jobs', 'cut', '3', 'night', 'came', 'cover', 'person', 'run', 'set', 'left', 'ago', 'manager', 'however', 'pay', 'general', 'stay', 'woman', 'budget', 'call', 'questions', 'sure', 'former', 'sell', 'try', 'case', 'prove', 'must', 'officials', 'hit', 'leave', 'americans', 'probably', 'past', 'move', 'red', 'ground'] \n",
      " \n",
      " \n",
      " \n",
      "Tamano de la bolsa de palabras :   250\n"
     ]
    }
   ],
   "source": [
    "print(\"Bolsa de palabras \\n    \",bag_words,\"\\n \\n \\n \\nTamano de la bolsa de palabras :  \",len(bag_words))"
   ]
  },
  {
   "cell_type": "markdown",
   "metadata": {},
   "source": [
    "### Con la bolsa de palabras procedo a crear un diccionario que alamacena cada palabra de la bolsa y la asocia con un valor booleano, lo cual a futuro representara si una oracion posee o no esa palabra"
   ]
  },
  {
   "cell_type": "code",
   "execution_count": 59,
   "metadata": {},
   "outputs": [],
   "source": [
    "features_1 = {}\n",
    "for i in range(len(bag_words)):\n",
    "    features_1[bag_words[i]] = False"
   ]
  },
  {
   "cell_type": "code",
   "execution_count": 60,
   "metadata": {},
   "outputs": [
    {
     "name": "stdout",
     "output_type": "stream",
     "text": [
      "Diccionario bolsa de palabras :  {'hard': False, 'time': False, 'would': False, 'get': False, 'work': False, 'make': False, 'find': False, 'people': False, 'even': False, 'believe': False, 'like': False, 'going': False, 'much': False, 'take': False, 'way': False, 'may': False, 'look': False, 'good': False, 'new': False, 'see': False, 'know': False, 'could': False, 'years': False, 'many': False, 'imagine': False, 'two': False, 'without': False, 'come': False, 'tell': False, 'long': False, 'first': False, 'made': False, 'part': False, 'last': False, 'really': False, 'think': False, 'year': False, 'go': False, 'back': False, 'still': False, 'thing': False, 'lot': False, 'enough': False, 'day': False, 'makes': False, 'things': False, 'san': False, 'little': False, 'keep': False, 'getting': False, 'place': False, 'making': False, 'life': False, 'put': False, 'home': False, 'might': False, 'sometimes': False, 'times': False, 'something': False, 'women': False, 'since': False, 'become': False, 'state': False, 'children': False, 'job': False, 'often': False, 'right': False, 'president': False, 'want': False, 'man': False, 'business': False, 'understand': False, 'found': False, 'around': False, 'money': False, 'kind': False, 'game': False, 'school': False, 'city': False, 'always': False, 'every': False, 'especially': False, 'real': False, 'days': False, 'ever': False, 'better': False, 'use': False, 'someone': False, 'although': False, 'though': False, 'whether': False, 'big': False, 'three': False, 'box': False, 'today': False, 'u': False, 'anything': False, 'jose': False, 'national': False, 'never': False, 'best': False, 'well': False, 'company': False, 'rock': False, 'far': False, 'percent': False, 'small': False, 'water': False, 'play': False, 'next': False, 'old': False, 'finding': False, 'world': False, 'show': False, 'help': False, 'thought': False, 'men': False, 'high': False, 'feel': False, 'house': False, 'easy': False, 'give': False, 'young': False, 'war': False, 'learned': False, 'million': False, 'used': False, 'public': False, 'team': False, 'county': False, 'read': False, 'feelings': False, 'taking': False, 'deal': False, 'book': False, 'trying': False, 'bush': False, 'economic': False, 'another': False, 'market': False, 'F': False, 'check': False, 'california': False, 'among': False, 'companies': False, 'away': False, 'change': False, 'santa': False, 'week': False, 'need': False, 'got': False, 'kids': False, 'difficult': False, 'fact': False, 'food': False, 'done': False, 'figure': False, 'yet': False, 'told': False, 'care': False, 'american': False, 'course': False, 'pretty': False, 'court': False, 'particularly': False, 'parents': False, 'given': False, 'states': False, 'line': False, 'explain': False, 'bad': False, 'students': False, 'start': False, 'others': False, 'anyone': False, 'area': False, 'control': False, 'news': False, 'system': False, 'group': False, 'industry': False, 'black': False, 'child': False, 'john': False, 'council': False, 'whose': False, 'end': False, 'white': False, 'face': False, 'family': False, 'gets': False, 'success': False, 'board': False, 'health': False, 'surface': False, 'future': False, 'win': False, 'months': False, 'director': False, 'let': False, 'country': False, 'remember': False, 'members': False, 'different': False, 'community': False, 'government': False, 'working': False, 'soft': False, 'support': False, 'second': False, 'head': False, 'longer': False, 'decisions': False, 'beat': False, 'jobs': False, 'cut': False, '3': False, 'night': False, 'came': False, 'cover': False, 'person': False, 'run': False, 'set': False, 'left': False, 'ago': False, 'manager': False, 'however': False, 'pay': False, 'general': False, 'stay': False, 'woman': False, 'budget': False, 'call': False, 'questions': False, 'sure': False, 'former': False, 'sell': False, 'try': False, 'case': False, 'prove': False, 'must': False, 'officials': False, 'hit': False, 'leave': False, 'americans': False, 'probably': False, 'past': False, 'move': False, 'red': False, 'ground': False}\n",
      " \n",
      " \n",
      "Valores del diccionario :  dict_values([False, False, False, False, False, False, False, False, False, False, False, False, False, False, False, False, False, False, False, False, False, False, False, False, False, False, False, False, False, False, False, False, False, False, False, False, False, False, False, False, False, False, False, False, False, False, False, False, False, False, False, False, False, False, False, False, False, False, False, False, False, False, False, False, False, False, False, False, False, False, False, False, False, False, False, False, False, False, False, False, False, False, False, False, False, False, False, False, False, False, False, False, False, False, False, False, False, False, False, False, False, False, False, False, False, False, False, False, False, False, False, False, False, False, False, False, False, False, False, False, False, False, False, False, False, False, False, False, False, False, False, False, False, False, False, False, False, False, False, False, False, False, False, False, False, False, False, False, False, False, False, False, False, False, False, False, False, False, False, False, False, False, False, False, False, False, False, False, False, False, False, False, False, False, False, False, False, False, False, False, False, False, False, False, False, False, False, False, False, False, False, False, False, False, False, False, False, False, False, False, False, False, False, False, False, False, False, False, False, False, False, False, False, False, False, False, False, False, False, False, False, False, False, False, False, False, False, False, False, False, False, False, False, False, False, False, False, False, False, False, False, False, False, False, False, False, False, False, False, False])\n"
     ]
    }
   ],
   "source": [
    "print(\"Diccionario bolsa de palabras : \", features_1)\n",
    "print(\" \\n \\nValores del diccionario : \",features_1.values())"
   ]
  },
  {
   "cell_type": "markdown",
   "metadata": {},
   "source": [
    "### Ahora es necesario conformar las primeras caracteristicas del sistema :\n",
    "    El objetivo de la bolsa de palabras es conformar un vector de caracterisitcas donde cada posicion corresponde a una palabra de la bolsa de palabras :\n",
    "    \n",
    "    Cada instancia de del corpus posee un contexto.  El objetivo de las primeras caracteristicas del sistema es representar ese contexto en la bolsa de palabras.\n",
    "    \n",
    "        - Mi forma de representacion es por medio de una lista donde cada posicion contendra un vector de \"Booleanos\" correspondiente a su represenacion segun la bolsa de palabras."
   ]
  },
  {
   "cell_type": "code",
   "execution_count": 61,
   "metadata": {},
   "outputs": [],
   "source": [
    "inst = senseval.instances(senseval.fileids()[0])\n",
    "carac_1 = []\n",
    "for i in inst:\n",
    "    aux_dict = features_1.copy()\n",
    "    for j in range(len(i.context)):\n",
    "        if i.context[j][0] in features_1:\n",
    "            aux_dict[i.context[j][0]] = True\n",
    "    carac_1.append(list(aux_dict.values()))"
   ]
  },
  {
   "cell_type": "code",
   "execution_count": 62,
   "metadata": {
    "scrolled": true
   },
   "outputs": [
    {
     "name": "stdout",
     "output_type": "stream",
     "text": [
      "Bolsa de palabras en binario de los primeros 5 contextos del corpos de la palabra ambigua \n",
      " \n",
      " \n",
      "[1, 0, 0, 0, 0, 0, 0, 0, 0, 0, 0, 0, 0, 0, 0, 1, 0, 0, 0, 0, 0, 0, 0, 0, 0, 0, 0, 0, 0, 0, 0, 0, 0, 0, 0, 0, 0, 0, 0, 0, 0, 0, 0, 0, 0, 0, 0, 0, 0, 0, 0, 0, 0, 0, 0, 0, 0, 0, 0, 0, 0, 0, 0, 0, 0, 0, 0, 0, 0, 0, 0, 0, 0, 0, 0, 0, 0, 0, 0, 0, 0, 0, 0, 0, 0, 0, 0, 1, 0, 0, 0, 0, 0, 0, 0, 0, 0, 0, 0, 0, 0, 0, 0, 0, 0, 0, 0, 0, 0, 0, 0, 0, 0, 0, 0, 0, 0, 0, 0, 0, 0, 0, 0, 0, 0, 0, 0, 0, 0, 0, 0, 0, 0, 0, 0, 0, 0, 0, 0, 0, 0, 0, 0, 0, 0, 0, 0, 0, 0, 0, 0, 0, 0, 0, 0, 0, 0, 0, 0, 0, 0, 0, 0, 0, 0, 0, 0, 0, 0, 0, 0, 0, 0, 0, 0, 0, 0, 0, 0, 0, 0, 0, 0, 0, 0, 0, 0, 0, 0, 0, 0, 0, 0, 0, 0, 0, 0, 0, 0, 0, 0, 0, 0, 0, 0, 0, 0, 0, 1, 0, 0, 0, 0, 0, 0, 0, 0, 0, 0, 0, 0, 0, 0, 0, 0, 0, 0, 0, 0, 0, 0, 0, 0, 0, 0, 0, 0, 0, 0, 0, 0, 0, 0, 0, 0, 0, 0, 0, 0, 0]\n",
      "[1, 1, 0, 0, 0, 0, 0, 0, 0, 0, 0, 0, 0, 0, 0, 0, 0, 0, 0, 0, 0, 0, 0, 0, 0, 0, 0, 0, 0, 0, 0, 0, 0, 0, 0, 0, 0, 0, 0, 0, 0, 0, 0, 0, 0, 0, 0, 0, 0, 0, 0, 0, 0, 0, 0, 0, 0, 0, 0, 0, 0, 0, 0, 0, 0, 0, 0, 1, 0, 0, 0, 0, 0, 0, 0, 0, 0, 0, 0, 0, 0, 0, 0, 1, 0, 0, 0, 0, 0, 0, 0, 0, 0, 0, 0, 0, 0, 0, 0, 0, 0, 0, 0, 0, 0, 0, 0, 0, 0, 0, 0, 0, 0, 0, 0, 0, 0, 0, 0, 1, 0, 0, 0, 0, 0, 0, 0, 0, 0, 0, 0, 0, 1, 0, 0, 0, 1, 1, 0, 0, 0, 0, 0, 0, 0, 1, 0, 0, 0, 0, 0, 0, 0, 0, 0, 0, 0, 0, 0, 0, 0, 0, 0, 0, 0, 0, 0, 0, 0, 1, 0, 0, 0, 0, 0, 0, 0, 0, 0, 0, 0, 0, 0, 0, 0, 0, 0, 1, 0, 0, 0, 0, 0, 0, 0, 0, 0, 0, 0, 0, 0, 0, 0, 0, 0, 0, 0, 0, 0, 0, 0, 0, 0, 0, 0, 0, 0, 0, 0, 0, 0, 0, 0, 0, 0, 0, 0, 0, 0, 0, 0, 0, 0, 0, 0, 0, 0, 0, 0, 0, 0, 0, 0, 0, 0, 0, 0, 0, 0, 0]\n",
      "[1, 0, 0, 0, 0, 0, 1, 0, 0, 1, 0, 0, 0, 0, 0, 0, 0, 0, 0, 0, 0, 0, 0, 0, 0, 0, 0, 0, 0, 0, 0, 0, 0, 0, 0, 0, 0, 0, 0, 0, 0, 0, 0, 0, 0, 0, 0, 0, 0, 0, 0, 0, 0, 0, 0, 0, 0, 0, 0, 0, 0, 0, 0, 0, 0, 0, 0, 0, 0, 0, 0, 0, 0, 0, 0, 0, 0, 0, 0, 0, 0, 0, 0, 0, 1, 0, 0, 0, 1, 0, 0, 0, 0, 0, 0, 0, 0, 0, 0, 0, 0, 0, 0, 0, 0, 0, 0, 0, 0, 0, 0, 0, 0, 0, 0, 0, 0, 0, 0, 0, 0, 0, 0, 0, 0, 0, 0, 0, 0, 0, 0, 0, 0, 0, 0, 0, 0, 0, 0, 0, 0, 0, 0, 0, 0, 0, 0, 0, 0, 0, 0, 0, 0, 0, 0, 0, 0, 0, 0, 0, 0, 0, 0, 0, 0, 0, 0, 0, 0, 0, 0, 0, 0, 0, 0, 0, 0, 0, 0, 0, 0, 0, 0, 0, 0, 0, 0, 0, 0, 0, 0, 0, 0, 0, 0, 0, 0, 0, 0, 0, 0, 0, 0, 0, 0, 0, 0, 0, 0, 0, 0, 0, 0, 0, 0, 0, 0, 0, 0, 0, 0, 0, 0, 0, 0, 0, 0, 0, 0, 0, 0, 0, 0, 0, 0, 0, 0, 0, 0, 0, 0, 0, 0, 0, 0, 0, 0, 0, 0, 0]\n",
      "[1, 0, 0, 1, 0, 0, 0, 0, 1, 0, 0, 0, 0, 0, 0, 0, 0, 0, 0, 0, 0, 0, 0, 0, 0, 0, 0, 0, 0, 0, 0, 0, 1, 0, 0, 0, 0, 0, 0, 0, 0, 0, 0, 0, 0, 0, 0, 0, 0, 0, 0, 0, 0, 0, 0, 0, 0, 0, 0, 0, 0, 0, 0, 0, 0, 0, 0, 0, 0, 0, 0, 0, 0, 0, 0, 0, 0, 0, 0, 0, 0, 0, 0, 0, 0, 0, 0, 0, 0, 0, 0, 0, 0, 0, 0, 0, 0, 0, 0, 0, 0, 0, 0, 0, 0, 0, 0, 0, 0, 0, 0, 0, 0, 0, 0, 0, 0, 0, 0, 0, 0, 0, 0, 0, 0, 0, 0, 0, 0, 0, 0, 0, 0, 0, 0, 0, 0, 0, 1, 0, 0, 0, 0, 0, 0, 0, 0, 0, 0, 0, 0, 0, 0, 0, 0, 0, 0, 0, 0, 0, 0, 0, 0, 0, 0, 0, 0, 0, 0, 0, 1, 0, 0, 0, 0, 0, 0, 0, 0, 0, 0, 0, 0, 0, 0, 0, 0, 0, 0, 0, 0, 0, 0, 0, 0, 0, 0, 0, 0, 1, 0, 0, 0, 0, 0, 0, 0, 0, 0, 0, 0, 0, 0, 0, 0, 0, 0, 0, 0, 0, 1, 0, 0, 0, 0, 0, 0, 0, 0, 0, 0, 0, 0, 0, 0, 0, 0, 0, 0, 0, 0, 0, 0, 0, 0, 0, 0, 0, 0, 0]\n",
      "[0, 0, 0, 1, 0, 0, 0, 0, 0, 0, 0, 0, 0, 0, 0, 0, 0, 0, 0, 0, 0, 0, 0, 0, 0, 0, 0, 0, 0, 0, 0, 0, 0, 0, 0, 0, 0, 0, 0, 0, 0, 0, 0, 0, 0, 0, 0, 0, 0, 0, 0, 0, 1, 0, 0, 0, 0, 0, 0, 0, 0, 0, 0, 0, 0, 0, 0, 1, 0, 0, 1, 0, 0, 0, 0, 0, 0, 0, 0, 0, 0, 0, 0, 0, 0, 1, 0, 0, 0, 0, 0, 0, 0, 0, 0, 0, 0, 0, 1, 1, 0, 0, 0, 0, 0, 0, 0, 0, 0, 0, 0, 0, 0, 0, 0, 0, 0, 0, 0, 0, 0, 0, 0, 0, 0, 0, 0, 0, 0, 0, 0, 0, 0, 0, 0, 0, 0, 0, 0, 0, 0, 0, 0, 0, 0, 0, 0, 0, 0, 0, 0, 0, 0, 0, 0, 0, 0, 0, 0, 0, 0, 0, 0, 0, 0, 0, 0, 0, 0, 0, 0, 0, 0, 0, 0, 0, 0, 0, 0, 0, 0, 0, 0, 0, 0, 0, 0, 0, 0, 0, 0, 0, 0, 0, 0, 0, 0, 0, 0, 0, 1, 0, 0, 0, 0, 0, 0, 0, 0, 0, 0, 0, 0, 0, 0, 0, 0, 0, 0, 0, 0, 0, 0, 0, 0, 0, 0, 0, 0, 0, 0, 0, 0, 0, 0, 1, 0, 0, 0, 0, 0, 0, 0, 0, 0, 0, 0, 0, 0, 0]\n"
     ]
    }
   ],
   "source": [
    "print(\"Bolsa de palabras en binario de los primeros 5 contextos del corpos de la palabra ambigua \\n \\n \")\n",
    "for ji in range(5):\n",
    "    print([1 * carac_1[ji][i] for i in range(len(carac_1[ji]))])"
   ]
  },
  {
   "cell_type": "markdown",
   "metadata": {},
   "source": [
    "### Resumen :\n",
    "    Asi se conforma la primera caracterizacion  :\n",
    "    En este punto las entradas de un sistema de clasificacion correspondieran a cada uno de los contextos de cada instancia en total 4333, pero representados en forma de vector de caracterisiticas de tamaño = 250 ."
   ]
  },
  {
   "cell_type": "markdown",
   "metadata": {},
   "source": [
    "### Segunda forma de caracterizacion, mediante el uso de bigramas"
   ]
  },
  {
   "cell_type": "markdown",
   "metadata": {},
   "source": [
    "### Para el uso de bigramas necesitamos almacenar las dos palabras antes y las dos palabras despues de la palabra ambigua dentro de un contexto de una instancia, para ello :\n",
    "    He creado dos lista \n",
    "    prev ===> almacena las palabras antes de la palabra ambiagua en cada contexto de cada instancia\n",
    "    fut ===> almacena las palabras despues de la palabra ambigua en cada contexto"
   ]
  },
  {
   "cell_type": "code",
   "execution_count": 63,
   "metadata": {},
   "outputs": [],
   "source": [
    "inst = senseval.instances(senseval.fileids()[0])\n",
    "prev = []\n",
    "fut = []\n",
    "for i in inst:\n",
    "    prev.append(i.context[i.position-2:i.position])\n",
    "    fut.append(i.context[i.position+1:i.position+3])"
   ]
  },
  {
   "cell_type": "code",
   "execution_count": 64,
   "metadata": {},
   "outputs": [
    {
     "name": "stdout",
     "output_type": "stream",
     "text": [
      "El tamaño de las listas es el mismo :  4333 4333\n"
     ]
    }
   ],
   "source": [
    "print(\"El tamaño de las listas es el mismo : \",len(prev),len(fut))"
   ]
  },
  {
   "cell_type": "markdown",
   "metadata": {},
   "source": [
    "#### Uno de los objetivos es crear uyn diccionario que contenga las palabras antes y despues de la palabra ambigua en el formato previous(#### ####) y next(#### #### )\n",
    "    Con la ayuda de las listas y un iterador esto es posible tal como se observa en el codigo a continuacion"
   ]
  },
  {
   "cell_type": "code",
   "execution_count": 65,
   "metadata": {},
   "outputs": [],
   "source": [
    "dic_car2 = {} \n",
    "for i in range(len(prev)):\n",
    "    if len(prev[i]) ==2:\n",
    "        dic_car2[\"previous(\"+prev[i][0][0] + \" \"+prev[i][1][0]+\")\"] = False\n",
    "    elif len(prev[i]) ==1:\n",
    "        dic_car2[\"previous(\"+prev[i][0][0]+\")\"] = False\n",
    "    if len(fut[i])==2:\n",
    "        dic_car2[\"next(\"+fut[i][0][0] + \" \"+fut[i][1][0]+\")\"] = False\n",
    "    if len(fut[i])==1:\n",
    "         dic_car2[\"next(\"+fut[i][0][0] +\")\"] = False"
   ]
  },
  {
   "cell_type": "code",
   "execution_count": 66,
   "metadata": {
    "scrolled": true
   },
   "outputs": [
    {
     "name": "stdout",
     "output_type": "stream",
     "text": [
      "El diccionario que contiene todos los bigramas del corpus de entrenamiento : \n",
      " \n",
      "\n",
      "{\"previous(that 's)\": False, 'next(to do)': False, 'previous(having a)': False, 'next(time helping)': False, 'previous(find it)': False, 'next(to believe)': False, 'previous(, the)': False, 'next(part in)': False, 'previous(life is)': False, 'next(now ,)': False, 'previous(have become)': False, 'next(to sell)': False, 'previous(face the)': False, 'next(facts of)': False, \"previous(it 's)\": False, 'next(to make)': False, 'previous(may be)': False, 'next(just to)': False, 'previous(is it)': False, 'next(portraying matt)': False, 'next(to drum)': False, 'next(to put)': False, 'previous(attract the)': False, 'next(to-reach 12-34-year-old)': False, 'previous(was not)': False, 'next(for him)': False, 'previous(but the)': False, 'next(part is)': False, 'previous(through the)': False, 'next(part ,)': False, 'next(to ignore)': False, 'previous(the job)': False, 'next(.)': False, 'next(to understand)': False, 'previous(been especially)': False, 'next(on owners)': False, 'next(to decide)': False, 'previous(it becomes)': False, 'next(for any)': False, 'previous(crotchety and)': False, 'next(to please)': False, 'previous(becoming ))': False, 'next(to steal)': False, 'next(to get)': False, \"previous('s often)\": False, 'next(to tell)': False, 'previous(is truly)': False, 'previous(that is)': False, 'next(to bear)': False, \"previous(n 't)\": False, 'previous(have a)': False, 'next(time with)': False, 'next(to remember)': False, 'previous(would be)': False, 'previous(it gets)': False, 'previous(of the)': False, 'next(ones were)': False, 'previous(makes it)': False, 'next(to lose)': False, 'next(to control)': False, 'next(to define)': False, 'previous(has been)': False, 'next(on america)': False, 'previous(might be)': False, 'next(to resist)': False, 'previous(it was)': False, \"previous('ll be)\": False, 'next(not to)': False, 'previous(finding it)': False, 'next(than ever)': False, 'previous(diamonds are)': False, 'previous(it is)': False, 'next(to know)': False, 'previous(find this)': False, 'next(enough having)': False, \"previous('s awfully)\": False, 'next(to achieve)': False, 'previous(out the)': False, 'next(way sunday)': False, 'previous(is far)': False, 'previous(learning the)': False, 'next(way that)': False, 'previous(field is)': False, 'next(out there)': False, 'next(to stop)': False, 'next(to pick)': False, 'previous(make it)': False, 'next(to reduce)': False, 'next(for a)': False, 'previous(in the)': False, 'next(to-serve hillside)': False, 'previous(style of)': False, 'next(to-find 1970)': False, 'previous(to be)': False, 'next(, \")': False, 'previous(was a)': False, 'next(one .)': False, \"previous('s very)\": False, 'previous(has a)': False, 'next(time completing)': False, 'previous(chips are)': False, 'next(enough refusing)': False, 'previous(away their)': False, 'next(won political)': False, 'next(to see)': False, 'next(for us)': False, 'next(to care)': False, 'next(than it)': False, 'previous(it very)': False, 'next(for the)': False, 'next(years that)': False, 'next(to rest)': False, 'previous(is increasingly)': False, 'next(to even)': False, 'previous(a very)': False, 'next(life becomes)': False, 'previous(found it)': False, 'next(to be)': False, 'next(to explain)': False, 'previous(inaccuracies are)': False, 'next(to correct)': False, 'next(to concentrate)': False, \"previous('s sometimes)\": False, 'previous(they are)': False, 'previous(a little)': False, 'next(, a)': False, 'next(to imagine)': False, 'next(time getting)': False, \"previous('s not)\": False, 'next(watching a)': False, 'previous(windowbase much)': False, 'previous(quiet is)': False, 'next(to come)': False, 'next(to say)': False, 'next(for me)': False, 'previous(an extremely)': False, 'next(thing to)': False, 'previous(life even)': False, 'previous(couple of)': False, 'next(, tense)': False, 'previous(whale a)': False, 'next(time ,)': False, 'previous(it even)': False, 'next(to avoid)': False, 'previous(for a)': False, 'next(crust ,)': False, \"previous('s a)\": False, 'next(thing ,)': False, \"previous('s cruelly)\": False, 'next(to give)': False, \"previous('s really)\": False, 'next(to laugh)': False, 'next(to take)': False, 'previous(, was)': False, 'next(to suppress)': False, 'previous(made them)': False, 'previous(is pretty)': False, 'next(in a)': False, 'next(to improve)': False, 'next(to overcome)': False, 'next(it will)': False, \"previous('s all)\": False, 'next(than we)': False, 'next(to start)': False, 'previous(will be)': False, 'previous(something is)': False, 'next(to pin)': False, 'previous(teachers are)': False, 'next(to find)': False, 'previous(it so)': False, 'next(to admit)': False, 'previous(and even)': False, 'next(enough time)': False, 'previous(was very)': False, 'next(time in)': False, 'previous(make the)': False, 'next(decisions in)': False, 'previous(report is)': False, 'next(to beat)': False, 'previous(will remain)': False, 'next(for every)': False, 'next(to determine)': False, 'previous(lesson the)': False, 'next(way in)': False, 'previous(could be)': False, 'next(time making)': False, 'next(to think)': False, 'previous(making it)': False, 'next(language to)': False, 'next(to fight)': False, 'next(to punish)': False, 'previous(making the)': False, 'next(plays look)': False, 'previous(was still)': False, 'next(to leave)': False, 'previous(was the)': False, 'next(loss i)': False, 'previous(a lot)': False, 'previous(times were)': False, 'next(, and)': False, 'previous(were still)': False, 'previous(a much)': False, 'next(audience than)': False, 'next(for people)': False, \"previous('s so)\": False, 'next(to figure)': False, 'next(part of)': False, 'previous(becomes very)': False, 'next(to work)': False, 'previous(is very)': False, 'next(without english)': False, 'previous(to often)': False, 'next(to-understand facts)': False, 'previous(are not)': False, 'next(when you)': False, 'previous(feeling is)': False, 'next(to describe)': False, 'next(to trace)': False, 'previous(with three)': False, 'next(choices :)': False, 'next(-- but)': False, 'next(to argue)': False, 'previous(statement was)': False, 'next(to justify)': False, 'previous(basemen are)': False, 'previous(had a)': False, 'next(time keeping)': False, 'previous(becoming increasingly)': False, 'next(to fool)': False, \"previous('m a)\": False, 'next(match .)': False, 'previous(been very)': False, 'next(to play)': False, 'previous(and ordering)': False, 'next(to-find videotapes)': False, 'previous(that much)': False, 'next(now .)': False, \"previous('s much)\": False, 'next(for women)': False, 'previous(errors seem)': False, 'next(for mothers)': False, 'next(enough to)': False, 'next(but keep)': False, 'next(to claim)': False, 'previous(it especially)': False, 'next(to discard)': False, 'next(to cut)': False, 'next(time swimming)': False, 'previous(is awfully)': False, 'next(to deal)': False, 'previous(is now)': False, 'next(to assume)': False, 'next(to defense)': False, 'previous(omissions are)': False, 'next(to detect)': False, 'previous(minors and)': False, 'next(to build)': False, 'previous(was really)': False, 'next(then ,)': False, 'previous(costs are)': False, 'next(justify .)': False, \"previous('s just)\": False, 'next(being a)': False, 'previous(can be)': False, 'next(to reach)': False, 'next(to change)': False, 'next(, then)': False, 'previous(actually be)': False, \"previous('s mighty)\": False, 'previous(be very)': False, 'previous(this is)': False, 'previous(twice as)': False, 'next(when i)': False, 'previous(children is)': False, 'next(to really)': False, 'previous(finds it)': False, 'next(to reconcile)': False, 'next(time understanding)': False, 'next(to pitch)': False, 'next(time producing)': False, 'next(to publish)': False, 'previous(the current)': False, 'next(to-get two-thirds)': False, 'previous(of being)': False, 'next(to feel)': False, 'next(time adjusting)': False, 'next(time recognizing)': False, 'previous(jobs are)': False, 'previous(after a)': False, 'next(night of)': False, 'previous(was so)': False, 'next(to accept)': False, 'previous(make some)': False, 'next(choices .)': False, 'previous(of how)': False, 'next(it would)': False, 'previous(is the)': False, 'next(part to)': False, 'previous(learned the)': False, 'next(way ,)': False, 'previous(pruning the)': False, 'next(to-reach branches)': False, 'previous(are so)': False, 'previous(discovered the)': False, 'next(way this)': False, 'next(for them)': False, 'previous(even the)': False, 'next(to-please social)': False, 'previous(should a)': False, 'next(winter bring)': False, 'next(now to)': False, 'previous(is so)': False, \"previous(what 's)\": False, 'previous(it doubly)': False, 'next(to choose)': False, 'previous(, very)': False, 'next(decisions to)': False, 'previous(and equally)': False, 'next(for americans)': False, 'previous(positive is)': False, 'next(to prove)': False, 'next(time letting)': False, 'next(for prisoners)': False, 'next(to comprehend)': False, 'previous(grandparents are)': False, 'previous(was too)': False, 'next(, so)': False, 'next(habit to)': False, 'previous(museum was)': False, 'next(to pass)': False, 'previous(seem that)': False, 'next(, does)': False, 'previous(loans are)': False, 'previous(are often)': False, 'next(one -)': False, 'previous(everything is)': False, 'previous(be a)': False, 'next(label to)': False, 'next(, because)': False, 'next(to measure)': False, \"previous('s the)\": False, 'previous(them how)': False, 'next(this business)': False, 'previous(it much)': False, 'next(to persuade)': False, \"previous('t any)\": False, \"previous('' are)\": False, 'next(or impossible)': False, 'next(to keep)': False, 'previous(it ,)': False, 'previous(know how)': False, 'next(it is)': False, 'next(to sort)': False, 'next(year of)': False, 'previous(often a)': False, 'next(time .)': False, 'next(, going)': False, 'next(for you)': False, 'next(time deciding)': False, 'previous(, and)': False, 'next(biscuit of)': False, 'previous(deal with)': False, 'next(economic times)': False, 'previous(by a)': False, 'next(to-explain shortage)': False, 'next(time believing)': False, 'previous(is not)': False, 'next(to concoct)': False, 'next(to use)': False, \"previous('s story)\": False, 'next(questions about)': False, 'previous(pleas even)': False, 'next(to swallow)': False, 'previous(are all)': False, 'next(time funding)': False, 'previous(just got)': False, 'next(to differentiate)': False, 'previous(venture are)': False, 'next(hams to)': False, 'next(to separate)': False, 'next(play .)': False, 'previous(is always)': False, 'previous(early onslaught)': False, 'next(to stomach)': False, 'next(to spot)': False, 'next(to live)': False, 'previous(, a)': False, 'next(lesson ,)': False, 'next(choices had)': False, 'next(time identifying)': False, 'next(to have)': False, 'previous(all that)': False, 'next(time telling)': False, 'previous(are a)': False, 'next(act to)': False, 'previous(hot ,)': False, 'previous(life much)': False, 'next(for forgers)': False, 'previous(are the)': False, 'next(to forget)': False, 'next(to devise)': False, 'previous(adults are)': False, 'previous(away for)': False, 'previous(others was)': False, 'next(to guess)': False, 'previous(not be)': False, 'next(at all)': False, 'previous(not so)': False, 'next(to criticize)': False, 'previous(is becoming)': False, 'next(for consumers)': False, 'previous(squirrels are)': False, 'previous(made even)': False, 'next(by the)': False, 'previous(`` the)': False, 'previous(integration are)': False, 'next(to sustain)': False, 'previous(is much)': False, 'previous(not very)': False, 'previous(eggbeaters are)': False, 'next(time trusting)': False, \"previous('s been)\": False, 'next(to look)': False, 'previous(if its)': False, 'next(to refuse)': False, 'next(to blame)': False, 'next(to convince)': False, 'previous(have been)': False, 'next(tasks close-air-support)': False, 'previous(were not)': False, 'next(enough ,)': False, 'previous(be especially)': False, 'previous(gold is)': False, 'next(at times)': False, 'previous(( the)': False, \"previous('t that)\": False, \"next(? '')\": False, 'previous(is getting)': False, 'next(to collect)': False, 'previous(made it)': False, 'next(for soldiers)': False, 'next(to rate)': False, 'next(time on)': False, \"previous('s definitely)\": False, 'previous(jeopardizing their)': False, 'next(won health)': False, 'previous(a donation)': False, 'next(to match)': False, 'next(to breath)': False, \"previous('' was)\": False, 'previous(here is)': False, 'previous(areas and)': False, 'next(to-serve areas)': False, 'previous(perhaps the)': False, 'next(, would)': False, 'previous(that are)': False, 'next(to attain)': False, 'next(to disguise)': False, 'previous(governments are)': False, 'next(time hiding)': False, 'next(to climb)': False, 'next(time locating)': False, 'next(to cooperate)': False, 'next(to predict)': False, \"previous('s as)\": False, 'next(to misplace)': False, 'next(for news)': False, 'previous(often is)': False, 'next(to decipher)': False, 'next(time supporting)': False, 'previous(is especially)': False, 'next(when the)': False, 'next(to count)': False, 'previous(is land)': False, 'previous(expensive and)': False, 'next(on the)': False, 'next(to end)': False, 'previous(material is)': False, 'previous(a particularly)': False, 'previous(a bird)': False, 'next(to dislike)': False, 'previous(and looks)': False, 'previous(teachers were)': False, 'previous(display is)': False, 'next(to read)': False, 'next(school in)': False, 'previous(, proved)': False, 'next(to peg)': False, 'next(to single)': False, 'next(to stay)': False, 'next(to append)': False, 'previous(finding credit)': False, 'previous(had been)': False, 'previous(a really)': False, 'next(time about)': False, 'next(part .)': False, 'previous(, but)': False, 'next(in other)': False, 'previous(huge and)': False, 'next(to finish)': False, 'previous(if slightly)': False, 'next(to adjust)': False, 'previous(become much)': False, 'next(than he)': False, 'previous(help is)': False, \"previous('re very)\": False, 'previous(in numbers)': False, 'next(to mow)': False, 'next(time earning)': False, 'previous(, making)': False, 'next(choices on)': False, \"previous('t particularly)\": False, 'next(to face)': False, 'previous(so how)': False, 'next(is it)': False, 'next(to value)': False, 'previous(kind of)': False, 'previous(and the)': False, 'next(time to)': False, 'next(enough for)': False, 'previous(particles are)': False, 'previous(lines are)': False, 'previous(game are)': False, 'next(to shake)': False, 'previous(is often)': False, 'previous(boyhood is)': False, 'next(to walk)': False, 'previous(called a)': False, 'next(decision on)': False, 'previous(what causes)': False, 'next(cold starts)': False, 'next(to dismiss)': False, 'previous(details are)': False, 'next(still to)': False, 'previous(primer of)': False, 'next(to-find santa)': False, 'next(under our)': False, 'next(time attacking)': False, 'next(to judge)': False, 'previous(be pretty)': False, 'next(to handle)': False, 'previous(so much)': False, \"next(. '')\": False, 'next(than last)': False, 'previous(is a)': False, 'next(fit ,)': False, 'previous(-- the)': False, 'next(way --)': False, 'previous(and is)': False, 'previous(stave off)': False, 'previous(ground is)': False, 'previous(be too)': False, 'next(to raise)': False, 'previous(it seems)': False, 'next(to picture)': False, 'next(time recovering)': False, 'previous(, is)': False, 'next(that when)': False, 'next(to counterfeit)': False, \"previous('s even)\": False, 'previous(ahead is)': False, 'next(to rake)': False, 'previous(identity the)': False, 'next(way .)': False, 'next(time remembering)': False, 'next(to disagree)': False, 'next(time collecting)': False, 'next(to win)': False, 'next(because you)': False, 'previous(a long)': False, 'next(struggle to)': False, 'previous(suicide too)': False, 'previous(was much)': False, 'next(to watch)': False, 'previous(and sometimes)': False, 'next(to kill)': False, 'next(than dealing)': False, 'next(and very)': False, 'previous(shows how)': False, 'next(time reading)': False, 'next(time selling)': False, 'previous(is extraordinarily)': False, 'next(for government)': False, 'previous(chrysler is)': False, 'next(to turn)': False, 'previous(balancing act)': False, 'next(, that)': False, 'previous(are very)': False, 'next(to duplicate)': False, 'next(road ahead)': False, 'previous(ask the)': False, 'next(questions ,)': False, 'next(to distinguish)': False, \"previous(he 's)\": False, 'next(nowadays .)': False, 'next(if you)': False, 'previous(that its)': False, 'previous(and was)': False, 'next(to talk)': False, 'previous(recognize how)': False, 'next(to generalize)': False, 'previous(it seem)': False, 'next(to jettison)': False, 'previous(be equally)': False, 'previous(autographs are)': False, 'previous(about how)': False, 'next(task .)': False, 'next(man to)': False, 'next(to cope)': False, 'previous(to ask)': False, 'next(to obtain)': False, 'next(to preserve)': False, 'next(talking to)': False, 'next(to override)': False, 'previous(ducking the)': False, 'next(decisions on)': False, \"previous('s too)\": False, 'previous(emf is)': False, 'next(to add)': False, 'next(that even)': False, 'next(thing about)': False, 'next(things is)': False, 'previous(control board)': False, 'previous(, never)': False, 'next(one to)': False, 'previous(; the)': False, 'previous(son is)': False, 'next(to invent)': False, 'previous(the needed)': False, 'next(decision .)': False, 'previous(dating is)': False, 'next(sometimes ;)': False, 'next(for most)': False, 'previous(, how)': False, 'next(was it)': False, 'previous(read and)': False, 'previous(he was)': False, 'next(for smokers)': False, 'next(individual sport)': False, 'previous(be increasingly)': False, 'next(to identify)': False, 'previous(year is)': False, 'next(to delve)': False, 'next(for companies)': False, 'previous(slippery and)': False, 'next(to twist)': False, 'next(for my)': False, 'next(to quibble)': False, 'previous(sam is)': False, \"previous('s become)\": False, 'next(to generate)': False, 'previous(guns and)': False, \"previous('s also)\": False, 'previous(be particularly)': False, 'next(`` because)': False, 'next(part for)': False, 'next(part ;)': False, 'next(thing in)': False, 'previous(attendance is)': False, 'next(to flip-flop)': False, 'next(to focus)': False, 'previous(loss is)': False, 'next(enough .)': False, 'previous(may become)': False, 'next(to pull)': False, 'next(to envision)': False, 'next(time trying)': False, 'next(time projecting)': False, \"previous('s always)\": False, 'previous(found especially)': False, 'next(to grasp)': False, 'next(to deny)': False, 'previous(fans is)': False, 'next(on everyone)': False, 'previous(is otherwise)': False, 'next(to ``)': False, 'next(to convey)': False, 'next(to dovetail)': False, 'next(time complying)': False, 'next(to communicate)': False, 'next(for kids)': False, 'previous(be so)': False, 'previous(were much)': False, 'next(than nepal)': False, 'previous(through their)': False, 'next(transition to)': False, 'previous(are especially)': False, 'previous(knows how)': False, 'next(to estimate)': False, 'previous(are pretty)': False, 'next(things .)': False, 'next(time distinguishing)': False, 'next(to run)': False, 'previous(is sometimes)': False, 'previous(long and)': False, 'next(to fathom)': False, 'next(to move)': False, 'next(to extinguish)': False, 'previous(that the)': False, 'next(way as)': False, 'previous(, really)': False, 'previous(18th the)': False, 'next(hole on)': False, 'previous(that my)': False, 'next(work comes)': False, \"previous('m -)\": False, 'next(to wake)': False, 'next(, on)': False, 'next(going all)': False, 'previous(things the)': False, 'previous(dry and)': False, 'next(and stuck)': False, 'previous(cancer is)': False, 'next(going for)': False, 'next(to stand)': False, 'next(for criminals)': False, 'previous(making them)': False, 'next(for u)': False, 'next(a workload)': False, 'next(to maintain)': False, 'previous(television is)': False, 'next(for some)': False, 'previous(one is)': False, 'previous(idea how)': False, 'next(for arizona)': False, 'next(part --)': False, 'previous(costlier and)': False, 'next(to score)': False, 'next(as hell)': False, 'previous(, were)': False, 'next(on her)': False, 'next(, not)': False, 'previous(be extremely)': False, 'next(time as)': False, 'previous(to those)': False, 'next(to-reach places)': False, 'previous(are too)': False, 'next(to request)': False, 'next(time doing)': False, 'previous(is particularly)': False, 'next(choices are)': False, 'previous(it been)': False, \"previous('it 's)\": False, 'previous(but mighty)': False, 'previous(seems even)': False, 'next(decisions .)': False, 'next(to conceive)': False, 'previous(early is)': False, 'previous(spaces are)': False, 'next(it was)': False, 'next(for municipal)': False, 'next(time containing)': False, 'previous(find that)': False, 'previous(denser and)': False, 'next(to push)': False, 'next(time breaking)': False, 'next(, but)': False, 'previous(elusive ,)': False, 'previous(and thus)': False, 'next(to salvage)': False, 'next(than running)': False, 'previous(insist ,)': False, 'previous(studio a)': False, 'next(for individuals)': False, 'next(to dine)': False, \"previous('t be)\": False, 'next(to eradicate)': False, 'next(time finding)': False, \"previous('t much)\": False, 'previous(atmosphere are)': False, 'next(to master)': False, 'next(for king)': False, 'next(to miss)': False, 'next(time describing)': False, 'previous(damage is)': False, 'next(to assess)': False, 'previous(was even)': False, 'previous(a real)': False, 'next(time sitting)': False, 'previous(missile makers)': False, 'previous(be the)': False, 'previous(recipes are)': False, 'previous(gristle and)': False, 'next(to wait)': False, 'previous(many find)': False, 'next(is the)': False, 'next(course ,)': False, 'next(here to)': False, 'previous(all still)': False, 'previous(-- how)': False, 'next(can that)': False, 'previous(cities are)': False, 'next(way what)': False, 'previous(chicken were)': False, 'next(than finding)': False, 'next(they are)': False, 'next(for her)': False, 'previous(is too)': False, 'next(, you)': False, \"previous('s pretty)\": False, 'previous(larger and)': False, 'next(to treat)': False, 'next(years of)': False, 'next(thing was)': False, 'next(to skate)': False, 'previous(found victories)': False, 'next(for their)': False, 'next(, i)': False, 'next(decision could)': False, 'next(to flush)': False, 'next(for governments)': False, \"previous('s real)\": False, 'previous(for the)': False, 'previous(( read)': False, 'previous(that get)': False, 'next(, providing)': False, 'previous(learn anything)': False, 'next(again ?)': False, 'next(choice ,)': False, 'previous(it became)': False, 'next(choice will)': False, 'next(to provide)': False, \"previous('ve been)\": False, 'next(for poachers)': False, 'previous(years of)': False, 'next(-- dry)': False, 'previous(learned a)': False, 'next(lesson when)': False, 'next(for single)': False, 'previous(try so)': False, 'next(to exorcise)': False, 'next(to sit)': False, 'previous(injury was)': False, 'next(to accurately)': False, 'previous(zealand is)': False, 'previous(such a)': False, 'previous(weekly to)': False, 'next(to-reach ,)': False, 'next(, all)': False, 'next(to ration)': False, 'previous(these are)': False, 'next(risks to)': False, 'next(and longer)': False, 'previous(angling so)': False, 'next(for tactical)': False, 'previous(evidently as)': False, 'next(as for)': False, 'next(to knock)': False, 'next(landing a)': False, 'next(to locate)': False, 'previous(always been)': False, 'previous(and are)': False, 'next(part will)': False, 'previous(be that)': False, 'next(for workers)': False, 'next(time than)': False, 'previous(controversy especially)': False, 'previous(that were)': False, 'previous(, though)': False, 'next(to learn)': False, 'next(financial times)': False, 'next(time saving)': False, \"previous(who 's)\": False, 'next(day ,)': False, 'next(not playing)': False, 'next(for someone)': False, 'previous(just so)': False, 'previous(follow a)': False, 'next(F easy)': False, 'next(it can)': False, \"previous(they 're)\": False, 'next(, too)': False, 'next(work .)': False, 'previous(night is)': False, 'previous(war even)': False, 'next(for georgia)': False, 'next(to drive)': False, 'next(thing for)': False, 'next(time because)': False, 'previous(crisis are)': False, 'previous(`` how)': False, 'next(( for)': False, 'previous(have the)': False, 'next(to track)': False, 'next(to coordinate)': False, 'previous(we face)': False, 'previous(usually very)': False, \"previous('t as)\": False, 'next(as the)': False, 'next(on scu)': False, 'previous(position the)': False, 'previous(`` a)': False, 'next(time at)': False, 'next(scene ,)': False, 'previous(at least)': False, 'next(to bend)': False, 'next(for title)': False, 'next(way last)': False, 'previous(which is)': False, 'previous(with jobs)': False, 'next(to draw)': False, 'next(for families)': False, 'next(for cities)': False, 'previous(be grievously)': False, 'next(on you)': False, 'previous(just a)': False, 'next(decision to)': False, 'previous(being the)': False, 'next() .)': False, 'next(thing that)': False, 'next(raising nicole)': False, 'previous(answers to)': False, 'next(questions ahead)': False, 'previous(in how)': False, 'previous(comes the)': False, 'next(thing is)': False, 'next(to realize)': False, 'previous(funds is)': False, 'next(since the)': False, 'next(to extend)': False, 'previous(be quite)': False, 'next(and crisp)': False, 'previous(of horror)': False, 'next(for everyone)': False, 'previous(say and)': False, 'previous(is even)': False, 'next(time differentiating)': False, \"previous('s getting)\": False, 'previous(also the)': False, 'next(time french)': False, 'next(to buy)': False, 'previous(it damn)': False, \"previous('t so)\": False, 'next(before .)': False, 'previous(his own)': False, 'next(life .)': False, 'previous(through a)': False, 'previous(least bit)': False, 'next(politically .)': False, 'previous(singing is)': False, 'previous(is really)': False, 'previous(that was)': False, 'next(time waking)': False, 'previous(getting as)': False, 'next(after a)': False, 'next(to file)': False, 'previous(how darned)': False, 'next(feeling to)': False, 'next(for stanford)': False, 'previous(are getting)': False, 'next(for parents)': False, 'previous(bias is)': False, 'previous(is still)': False, 'next(to underestimate)': False, 'previous(which are)': False, 'next(to right)': False, 'previous(inflation ,)': False, 'next(because more)': False, 'previous(we were)': False, 'previous(this album)': False, 'next(and you)': False, 'previous(times so)': False, 'next(they have)': False, 'next(for immigrants)': False, 'previous(that figure)': False, 'next(as this)': False, 'next(preparation i)': False, \"previous('s incredibly)\": False, 'next(if the)': False, 'next(to continue)': False, 'previous(be lot)': False, 'next(to flip)': False, 'previous(display as)': False, 'previous(for how)': False, 'previous(years are)': False, 'previous(therefore be)': False, 'next(to market)': False, 'previous(which was)': False, 'next(than the)': False, \"previous('re extremely)\": False, 'next(time beating)': False, 'previous(28 with)': False, 'next(decisions by)': False, 'previous(job is)': False, 'previous(what is)': False, 'next(is finding)': False, 'previous(discrimination is)': False, 'next(indeed to)': False, 'next(to convert)': False, 'next(; everyone)': False, 'next(to replicate)': False, 'previous(answers are)': False, 'previous(hills for)': False, 'next(to-find three)': False, 'next(person in)': False, 'previous(all the)': False, 'previous(said the)': False, 'next(but dreams)': False, 'next(place to)': False, 'next(and painful)': False, 'previous(almost always)': False, 'previous(learn the)': False, 'previous(liability is)': False, 'previous(of a)': False, 'next(winter and)': False, 'previous(just as)': False, 'previous(asked how)': False, 'next(to overlook)': False, 'previous(realize how)': False, 'previous(revolution was)': False, 'next(to follow)': False, 'next(going back)': False, 'next(because i)': False, 'next(to latch)': False, 'previous(are much)': False, \"previous(musician 's)\": False, 'next(, with)': False, 'next(and time-consuming)': False, 'previous(be much)': False, 'next(to implement)': False, 'previous(find her)': False, 'next(to excuse)': False, \"previous('d be)\": False, 'previous(me a)': False, 'next(to cover)': False, 'previous(believe how)': False, 'next(this test)': False, 'previous(is learning)': False, 'next(lessons at)': False, 'previous(just too)': False, 'previous(as ``)': False, \"next('' and)\": False, 'next(these days)': False, 'next(to convene)': False, 'previous(owners is)': False, 'next(to discern)': False, 'previous(some very)': False, 'next(and sometimes)': False, 'previous(makes them)': False, 'next(to operate)': False, 'previous(is extremely)': False, 'next(to evaluate)': False, 'next(game for)': False, 'previous(telling much)': False, 'previous(been a)': False, 'next(road back)': False, 'previous(little bit)': False, 'previous(times being)': False, 'next(days .)': False, 'previous(makes life)': False, 'next(both for)': False, 'previous(, are)': False, 'previous(sometimes the)': False, 'previous(made some)': False, 'next(( even)': False, 'previous(has gotten)': False, 'previous(saddam is)': False, 'next(to remove)': False, 'previous(longer ,)': False, 'next(, lonelier)': False, 'next(problems in)': False, 'next(to gauge)': False, 'next(raising a)': False, 'previous(it particularly)': False, 'previous(be real)': False, 'next(to write)': False, 'previous(are even)': False, 'next(to visualize)': False, 'previous(all found)': False, 'next(to witness)': False, 'next(for manufacturers)': False, 'next(for minority)': False, 'next(to manage)': False, 'previous(healthy lunch)': False, 'next(to compensate)': False, 'previous(during the)': False, 'next(winter facing)': False, 'next(things he)': False, 'next(time imagining)': False, 'next(for n)': False, 'previous(to the)': False, 'next(questions of)': False, 'previous(it still)': False, \"previous(wasn 't)\": False, 'previous(and particularly)': False, 'previous(but much)': False, 'next(in the)': False, 'previous(semester was)': False, 'previous(done anything)': False, 'next(than what)': False, 'previous(making highways)': False, 'next(for cash-starved)': False, 'next(and unusually)': False, 'previous(imagination tried)': False, 'next(, he)': False, 'previous(it increasingly)': False, 'next(to wring)': False, 'previous(times are)': False, 'next(and complex)': False, 'previous(infantry are)': False, 'next(to destroy)': False, 'next(time putting)': False, 'previous(done the)': False, 'next(to replace)': False, 'previous(kids is)': False, 'next(to break)': False, 'previous(make things)': False, 'previous(this the)': False, 'next(way when)': False, 'next(this semester)': False, 'previous(eggs were)': False, 'next(the fight)': False, 'next(time accepting)': False, 'next(sometimes .)': False, 'next(trade i)': False, 'previous(official proving)': False, \"next(way '')\": False, 'previous(are extremely)': False, 'next(to catch)': False, 'previous(maneuverable and)': False, 'next(for enemy)': False, 'previous(fish is)': False, 'next(to sleep)': False, 'next(for homeowners)': False, 'previous(tries very)': False, 'previous(there is)': False, 'previous(doctors a)': False, 'next(for it)': False, 'previous(restaurant ,)': False, 'previous(figures were)': False, 'next(time thinking)': False, 'previous(rid of)': False, 'next(to-sell income)': False, 'next(to muster)': False, 'previous(still were)': False, 'previous(powerful but)': False, 'previous(some ``)': False, \"next(questions '')\": False, 'next(part :)': False, 'next(time that)': False, 'previous(could prove)': False, 'next(to consummate)': False, 'previous(without a)': False, 'next(tannic edge)': False, 'next(about writing)': False, 'previous(sitters are)': False, 'previous(find so)': False, 'previous(not as)': False, 'next(as it)': False, 'next(because city)': False, 'next(to fit)': False, 'next(than in)': False, 'next(time relating)': False, 'next(to switch)': False, 'next(part about)': False, 'next(to compare)': False, 'previous(been real)': False, 'previous(flame is)': False, 'next(to snuff)': False, 'previous(three-year-olds are)': False, 'next(time fulfilling)': False, 'next(to functionally)': False, 'next(time dealing)': False, 'previous(today was)': False, 'previous(be far)': False, 'previous(may find)': False, 'next(to answer)': False, 'previous(movie is)': False, 'next(for today)': False, 'next(to set)': False, 'next(way ;)': False, 'previous(venison is)': False, 'previous(residents of)': False, 'next(to confront)': False, 'previous(made a)': False, 'next(bargain for)': False, 'next(to scrape)': False, 'next(for more)': False, 'next(to open)': False, 'previous(be his)': False, 'next(years ,)': False, 'previous(figures are)': False, 'previous(matter how)': False, 'next(that is)': False, 'previous(marnoz is)': False, 'previous(their friendship)': False, 'next(elements for)': False, 'previous(there are)': False, 'next(questions raised)': False, 'previous(fight the)': False, 'next(fight a)': False, \"next(day 's)\": False, 'next(to date)': False, 'previous(was ``)': False, 'next(to envisage)': False, 'next(than they)': False, \"previous('s still)\": False, 'previous(power was)': False, 'previous(meal is)': False, 'previous(uncoordinated ,)': False, 'next(to access)': False, 'previous(once considered)': False, 'next(to pronounce)': False, 'next(to curb)': False, 'next(than you)': False, 'previous(was as)': False, 'next(a trip)': False, 'next(work than)': False, 'previous(100 times)': False, 'next(way of)': False, 'previous(the skis)': False, 'previous(has become)': False, 'previous(sometimes make)': False, 'next(time choosing)': False, 'next(to deduce)': False, \"previous('s how)\": False, 'previous(idealism is)': False, 'previous(mites are)': False, 'previous(problems much)': False, 'previous(reference is)': False, 'next(to escape)': False, 'previous(it damned)': False, 'next(placing a)': False, 'next(to anticipate)': False, 'previous(is just)': False, 'next(time functioning)': False, 'previous(america ,)': False, 'next(though that)': False, 'next(, in)': False, 'previous(were extremely)': False, 'next(to restrain)': False, 'next(to stage)': False, 'next(to teach)': False, 'previous(silence ,)': False, 'previous(diet of)': False, 'next(bread and)': False, 'previous(smaller and)': False, \"previous('s license)\": False, 'next(to settle)': False, 'next(for travel)': False, 'previous(and clefts)': False, 'next(time watching)': False, 'previous(not too)': False, 'next(to listen)': False, 'previous(find rooms)': False, 'next(is what)': False, 'previous(been the)': False, 'next(12 months)': False, 'previous(and a)': False, 'next(crime to)': False, 'next(trick --)': False, 'next(about making)': False, 'next(to lie)': False, 'previous(meat were)': False, 'next(day around)': False, 'next(for managers)': False, 'next(; there)': False, 'next(to undo)': False, 'next(to comply)': False, 'next(to erect)': False, 'next(around the)': False, 'next(and more)': False, 'previous(are particularly)': False, 'previous(to make)': False, 'next(decisions about)': False, 'next(time under)': False, 'previous(stereotypes are)': False, 'next(to dispel)': False, 'previous(things are)': False, 'next(to evenly)': False, 'previous(was especially)': False, 'previous(those things)': False, 'next(classes to)': False, 'next(for teams)': False, 'previous(subtle and)': False, 'next(to-prove forms)': False, 'next(going in)': False, 'previous(year in)': False, 'previous(absorb some)': False, 'next(lessons and)': False, 'previous(it the)': False, 'previous(period is)': False, 'next(time winning)': False, 'next(on feet)': False, 'next(to ascertain)': False, 'previous(say the)': False, 'next(time expressing)': False, 'next(choices about)': False, 'next(put to)': False, 'next(to penetrate)': False, 'next(to solve)': False, 'previous(and become)': False, 'previous(spots are)': False, 'next(time holding)': False, 'previous(saved is)': False, 'previous(again and)': False, 'next(to shape)': False, 'previous(become too)': False, 'next(and crumble)': False, 'next(for anyone)': False, 'next(time matching)': False, 'previous(not by)': False, 'next(lessons learned)': False, 'next(to recall)': False, 'previous(it awfully)': False, 'next(for an)': False, 'previous(was something)': False, 'next(to name)': False, 'previous(it comparatively)': False, 'next(for bush)': False, 'next(foods to)': False, 'next(work for)': False, 'previous(and adding)': False, 'next(to-sell assets)': False, 'next(for minorities)': False, 'next(time convincing)': False, 'next(way about)': False, 'next(to enforce)': False, 'next(knowing the)': False, 'next(way to)': False, 'next(dreams to)': False, 'next(to conserve)': False, 'next(to hit)': False, 'next(to defend)': False, 'previous(days are)': False, 'next(than others)': False, 'previous(on the)': False, 'next(dives ,)': False, 'previous(safe rooms)': False, 'next(than i)': False, 'next(to let)': False, 'previous(risk is)': False, 'previous(have proven)': False, 'next(for older)': False, 'previous(did the)': False, 'next(combination of)': False, 'next(for hispanic)': False, 'next(subjects in)': False, 'previous(counsel and)': False, 'next(to practice)': False, \"previous('s asking)\": False, 'previous(be as)': False, 'next(, gray)': False, 'next(time i)': False, 'previous(things even)': False, 'next(, though)': False, 'previous(war the)': False, 'previous(is lots)': False, 'next(than being)': False, 'next(to go)': False, 'previous(faced a)': False, 'next(question :)': False, 'previous(anticipating a)': False, 'next(effort to)': False, 'previous(opportunity is)': False, 'next(and difficult)': False, 'next(part was)': False, 'previous(brands is)': False, 'previous(task was)': False, 'next(to-find map)': False, 'next(as some)': False, 'next(thing has)': False, 'next(to-find star)': False, 'next(without julie)': False, 'previous(try very)': False, 'previous(down ,)': False, 'previous(is rather)': False, 'previous(for being)': False, \"previous(chief 's)\": False, 'next(task will)': False, 'next(, particularly)': False, 'previous(style and)': False, 'next(place we)': False, 'next(time fending)': False, 'previous(canyons are)': False, 'next(watching .)': False, 'previous(also as)': False, 'next(to recycle)': False, 'next(time going)': False, 'next(to carry)': False, 'next(for esl)': False, 'previous(bancorp ,)': False, 'next(hit by)': False, 'next(because we)': False, 'previous(enter ,)': False, 'next(to clean)': False, 'next(to articulate)': False, 'next(to overestimate)': False, 'previous(was particularly)': False, 'previous(find them)': False, 'previous(just very)': False, 'next(time classifying)': False, 'next(than selecting)': False, 'previous(an even)': False, 'next(job ahead)': False, 'previous(also getting)': False, 'next(to join)': False, 'next(when dad)': False, 'previous(will are)': False, 'next(time clocking)': False, 'next(film to)': False, 'previous(ducts are)': False, 'next(to just)': False, 'previous(they get)': False, 'previous(sure is)': False, 'previous(and ``)': False, 'previous(postpone the)': False, 'next(work of)': False, 'previous(, as)': False, 'previous(tournament is)': False, 'next(than any)': False, 'previous(and making)': False, 'previous(find too)': False, 'previous(way too)': False, 'next(to innovate)': False, 'next(possible way)': False, \"previous(we 're)\": False, 'next(, interviewing)': False, 'next(for travelers)': False, 'previous(decathlon was)': False, 'next(to not)': False, 'previous(-- very)': False, 'previous(times get)': False, 'previous(order is)': False, 'previous(doing a)': False, 'next(job ,)': False, 'previous(on how)': False, 'next(time here)': False, 'next(decision ,)': False, 'previous(window is)': False, 'next(because the)': False, 'previous(thrive during)': False, 'previous(was real)': False, 'next(at the)': False, 'next(time saying)': False, 'next(and tough)': False, 'next(time defining)': False, 'next(to function)': False, 'next(time envisioning)': False, 'previous(get increasingly)': False, 'next(year for)': False, 'next(to stab)': False, 'next(to install)': False, 'next(to top)': False, 'previous(union is)': False, 'previous(a bit)': False, 'next(getting all)': False, 'previous(one person)': False, 'next(time drawing)': False, 'next(things that)': False, 'previous(jarring and)': False, 'previous(, trying)': False, 'next(to lure)': False, \"previous(beiderbecke 's)\": False, 'next(and unhappy)': False, 'next(, economically)': False, 'previous(been so)': False, \"previous('s totally)\": False, 'next(time breathing)': False, 'next(shoot for)': False, 'next(to test)': False, 'previous(left with)': False, 'previous(; with)': False, 'next(times ahead)': False, 'next(to try)': False, 'previous(bigger ,)': False, 'next(to-control boards)': False, 'next(choice right)': False, 'next(to bring)': False, 'previous() was)': False, 'next(job kids)': False, 'previous(is both)': False, 'next(need to)': False, 'next(to express)': False, 'next(for reporters)': False, 'previous(probably the)': False, 'next(job in)': False, 'next(for all)': False, 'previous(is somewhat)': False, 'previous(bound by)': False, 'next(winters .)': False, 'next(time connecting)': False, 'previous(are in)': False, 'next(to-explain features)': False, 'previous(anything the)': False, 'previous(island is)': False, 'next(time meeting)': False, 'next(to fake)': False, 'previous(been terribly)': False, 'next(on me)': False, 'next(to resupply)': False, 'next(choices the)': False, 'previous(long ,)': False, 'next(winter for)': False, 'next(two years)': False, 'next(time boosting)': False, 'previous(funding is)': False, 'previous(stability is)': False, 'previous(to unload)': False, 'next(to-sell properties)': False, 'next(time proving)': False, 'previous(get so)': False, 'previous(does is)': False, 'previous(not that)': False, 'next(to mimic)': False, 'previous(from home)': False, 'next(time living)': False, 'next(to record)': False, 'previous(shields a)': False, 'next(for potential)': False, 'previous(got a)': False, 'next(lesson in)': False, 'next(to develop)': False, 'next(time for)': False, 'next(work ,)': False, 'previous(stone is)': False, 'previous(from creating)': False, 'next(to-detect biological)': False, 'previous(coverage is)': False, 'next(time qualifying)': False, 'previous(prongs is)': False, 'next(call ,)': False, 'previous(may get)': False, 'next(to-remove black)': False, 'next(to quantify)': False, \"previous(texts ')\": False, 'next(being the)': False, 'previous(and tobacco)': False, 'next(for minors)': False, 'next(things to)': False, 'previous(really very)': False, 'next(time concentrating)': False, 'previous(be even)': False, 'next(to check)': False, 'previous(choice becomes)': False, 'previous(pros the)': False, 'previous(vices are)': False, 'next(act for)': False, 'previous(of torpedoes)': False, 'next(to jam)': False, 'previous(cruder and)': False, 'previous(soil is)': False, 'next(to spade)': False, 'previous(is no)': False, 'next(being back)': False, 'next(for joel)': False, 'next(road ,)': False, 'previous(money is)': False, 'previous(championship is)': False, 'next(because thomas)': False, 'next(to recover)': False, 'previous(have found)': False, \"previous('s that)\": False, 'next(time when)': False, 'previous(environment is)': False, 'next(to dispose)': False, 'next(teams to)': False, 'next(time tonight)': False, 'previous(truth the)': False, 'next(would it)': False, 'next(road lies)': False, 'previous(have some)': False, 'next(for insurance)': False, 'next(to approach)': False, 'next(this year)': False, 'next(, the)': False, 'next(for viewers)': False, \"previous('t it)\": False, 'next(to discriminate)': False, 'next(to litigate)': False, 'next(for rock)': False, 'previous(gatos are)': False, 'previous(asking myself)': False, 'next(on his)': False, 'previous(outcome was)': False, 'previous(fascination for)': False, 'next(to-get ingredients)': False, 'next(position in)': False, 'previous(mistletoe is)': False, 'previous(toys become)': False, 'next(to-find best)': False, 'next(, to)': False, 'previous(remember how)': False, 'previous(bid was)': False, 'next(to wash)': False, 'previous(baby is)': False, 'next(to ()': False, 'next(time of)': False, 'next(to balance)': False, 'previous(molester is)': False, 'previous(recognition ,)': False, 'previous(juices are)': False, 'next(to tuck)': False, 'next(for madonna)': False, 'next(to-find 1947)': False, 'next(winter ,)': False, 'previous(a rather)': False, 'next(for men)': False, 'next(for pagans)': False, 'next(to categorize)': False, 'next(for robinson)': False, 'next(decision i)': False, 'next(, hill)': False, 'previous(silence is)': False, 'next(to eat)': False, 'next(job for)': False, 'previous(lifestyle was)': False, 'next(to square)': False, 'previous(consideration a)': False, 'next(case which)': False, 'previous(book the)': False, 'previous(-- are)': False, 'next(either way)': False, 'previous(patience so)': False, 'next(to retire)': False, 'next(to question)': False, 'previous(worked very)': False, 'next(subjects ,)': False, 'previous(claim is)': False, 'next(ones to)': False, 'previous(times to)': False, 'next(times .)': False, 'next(lesson awaits)': False, 'next(to crack)': False, 'previous(premiums are)': False, 'previous(flavor is)': False, 'previous(an awfully)': False, 'next(time working)': False, 'next(to wonder)': False, 'next(of all)': False, 'next(task of)': False, \"next(time '')\": False, 'next(to redeem)': False, \"next('' --)\": False, 'next(road to)': False, 'previous(disoriented and)': False, 'next(to awaken)': False, 'previous(contribution is)': False, \"previous('s sure)\": False, 'previous(about as)': False, 'next(as trying)': False, 'next(to purchase)': False, 'previous(business is)': False, 'next(enough without)': False, 'next(to place)': False, 'next(move for)': False, 'next(of the)': False, 'previous(; a)': False, 'next(economics lesson)': False, 'next(lives of)': False, 'next(to joke)': False, 'previous(meetings are)': False, 'next(to schedule)': False, 'next(in any)': False, 'next(at san)': False, 'next(day of)': False, 'previous(at the)': False, 'next(as they)': False, 'previous(bite is)': False, 'next(to dodge)': False, 'previous(hours were)': False, 'previous(of their)': False, 'next(work and)': False, 'previous(oftentimes the)': False, 'previous(design is)': False, 'next(to shoot)': False, 'previous(never was)': False, 'next(for hosin)': False, 'previous(vehicle was)': False, 'previous(camcorders are)': False, 'next(to recognize)': False, 'previous(mips a)': False, 'next(time growing)': False, 'previous(largely to)': False, 'previous(increases are)': False, 'next(to line)': False, 'previous(up is)': False, 'previous(complain how)': False, 'previous(almost too)': False, 'previous(names are)': False, 'next(to hear)': False, 'previous(nets much)': False, 'next(to dislodge)': False, 'next(to quit)': False, 'next(to ride)': False, 'previous(far is)': False, 'previous(parenting is)': False, 'next(but it)': False, 'previous(support is)': False, 'next(seeing your)': False, 'previous(sounds too)': False, 'next(or your)': False, 'previous(a far)': False, 'previous(often very)': False, 'previous(and therefore)': False, 'previous(dave are)': False, 'previous(information is)': False, 'previous(collecting the)': False, 'next(, dusty)': False, 'next(sitting here)': False, 'previous(people how)': False, \"previous(miami 's)\": False, 'next(tasks .)': False, 'previous(reasons are)': False, 'next(to pinpoint)': False, 'previous(fiction is)': False, 'next(that terry)': False, 'next(format to)': False, 'previous(believe the)': False, 'next(task we)': False, 'previous(unclassified and)': False, 'next(to-detect technology)': False, 'next(to extract)': False, 'next(to screw)': False, 'previous(really much)': False, 'previous(were even)': False, 'next(really ,)': False, 'previous(learns the)': False, 'next(time spending)': False, 'next(time right)': False, 'next(to flatten)': False, 'next(life of)': False, 'next(; sometimes)': False, 'next(to like)': False, 'next(for his)': False, 'next(, for)': False, 'previous(are facing)': False, 'next(choices as)': False, 'previous(and breathing)': False, 'next(and closing)': False, 'previous(are increasingly)': False, 'next(time leaving)': False, 'next(convincing people)': False, 'previous(was it)': False, 'previous(in a)': False, 'next(to-reach spot)': False, 'next(the field)': False, 'previous(q what)': False, 'next(decisions will)': False, 'previous(beaming randall)': False, 'next(than doing)': False, 'previous(story are)': False, 'next(winter here)': False, 'next(time sensationalizing)': False, 'previous(rrb -)': False, 'previous(it getting)': False, 'next(in this)': False, 'next(sharing a)': False, 'previous(gets even)': False, 'next(outside the)': False, 'next(to speculate)': False, 'next(to fume)': False, 'next(getting started)': False, 'previous(training is)': False, 'previous(stolen chips)': False, 'next(to cling)': False, 'previous(; far)': False, 'next(than first)': False, 'previous(be awfully)': False, 'previous(it too)': False, 'previous(be no)': False, 'previous(was sometimes)': False, 'next(time focusing)': False, 'previous(are pushing)': False, 'next(to gain)': False, 'next(, even)': False, 'next(character because)': False, 'next(for nurses)': False, 'previous(program is)': False, 'previous(learned some)': False, 'next(lessons .)': False, 'next(and most)': False, 'next(to retain)': False, 'previous(make a)': False, 'next(choice between)': False, 'previous(had the)': False, 'next(pains of)': False, 'previous(me ,)': False, 'next(to throw)': False, 'next(on upper)': False, 'previous(make them)': False, 'next(to unify)': False, 'previous(is as)': False, 'next(enough driving)': False, 'next(time persuading)': False, 'next(because people)': False, 'previous(boring and)': False, 'previous(match was)': False, 'next(for apple)': False, 'previous(chancellor is)': False, 'previous(tackling the)': False, 'next(anagrams .)': False, 'previous(humankind even)': False, 'previous(make information)': False, 'previous(sauce are)': False, 'next(not knowing)': False, 'next(fish in)': False, 'next(when your)': False, 'next(it has)': False, 'previous(number of)': False, 'next(but necessary)': False, 'next(to diet)': False, 'next(and that)': False, 'previous(it really)': False, 'next(for working)': False, 'previous(here are)': False, 'next(for plaintiffs)': False, 'next(to ask)': False, 'previous(way are)': False, 'previous(housing was)': False, 'next(to wear)': False, 'previous(not only)': False, 'previous(locate and)': False, 'next(for president)': False, 'next(to assign)': False, 'next(time replacing)': False, 'previous(promotes a)': False, 'next(to-get service)': False, 'next(hit .)': False, 'next(chores a)': False, 'next(having to)': False, 'next(to help)': False, 'next(book to)': False, 'previous(international crisis)': False, 'previous(are sometimes)': False, 'next(for john)': False, 'previous(resolved by)': False, 'next(decisions ,)': False, 'next(on some)': False, 'previous(days were)': False, 'previous(adjustment was)': False, 'next(anyway .)': False, 'previous(sort of)': False, 'next(enough bringing)': False, 'previous(comes to)': False, 'next(choices for)': False, 'previous(so very)': False, 'next(to comment)': False, 'next(pressed to)': False, 'next(to serve)': False, 'previous(ephemeral ,)': False, 'next(to-pin-down sense)': False, 'previous(and how)': False, 'next(for either)': False, 'next(time restoring)': False, 'next(time explaining)': False, 'previous(live in)': False, 'next(to-reach areas)': False, 'previous(disarm is)': False, 'previous(organizations try)': False, 'next(and i)': False, 'previous(course is)': False, 'next(enough with)': False, 'previous(men are)': False, 'next(for now)': False, 'previous(delicious but)': False, 'next(stuff has)': False, 'previous(among the)': False, 'previous(made the)': False, 'next(choice of)': False, 'next(task ,)': False, 'previous(; how)': False, 'next(should health-care)': False, 'next(time pinning)': False, 'next(call for)': False, 'next(time not)': False, 'next(parts .)': False, 'next(lesson for)': False, 'next(part begins)': False, 'next(to swap)': False, 'next(choice .)': False, 'next(swallow .)': False, 'previous(charges become)': False, 'previous(ourselves is)': False, 'previous(imagine how)': False, \"previous('s frequently)\": False, 'previous(smaller ,)': False, 'next(to bypass)': False, \"previous('re even)\": False, 'next(enough getting)': False, 'previous(side and)': False, 'previous(race is)': False, 'next(to sing)': False, 'next(, those)': False, 'previous(come other)': False, 'next(lessons that)': False, 'previous(the second)': False, 'next(are the)': False, 'previous(game was)': False, 'next(still .)': False, 'next(to decorate)': False, 'previous(know the)': False, 'next(thing he)': False, 'next(to interpret)': False, 'next(task after)': False, 'previous(to become)': False, 'next(to convict)': False, 'next(time hearing)': False, 'next(on a)': False, 'previous(really that)': False, 'next(to slice)': False, 'previous(policy is)': False, 'previous(at how)': False, 'next(to decline)': False, 'next(to study)': False, 'previous(than usually)': False, 'previous(it be)': False, 'previous(are becoming)': False, 'next(to remedy)': False, 'next(to ensure)': False, 'previous(groups is)': False, 'next(for square)': False, 'next(to pay)': False, 'next(to mourn)': False, 'previous(money during)': False, 'previous(described how)': False, 'next(time shaking)': False, 'previous(considered a)': False, 'next(to-get-rid-of nuisance)': False, 'previous(though the)': False, 'next(to hold)': False, 'previous(was extremely)': False, 'next(and extremely)': False, 'next(than cracking)': False, 'previous(babies are)': False, 'next(to love)': False, 'next(that may)': False, 'previous(bands are)': False, 'next(to classify)': False, 'next(choices ,)': False, \"previous('s particularly)\": False, 'next(for small)': False, 'previous(be any)': False, 'next(way ))': False, 'previous(whole lot)': False, 'next(than writing)': False, 'next(playing the)': False, 'next(job was)': False, 'previous(big and)': False, 'next(time solving)': False, 'next(-- a)': False, 'previous(for those)': False, 'next(to-buy-for types)': False, 'next(up in)': False, 'previous(, lot)': False, 'next(in spring)': False, 'previous(ask some)': False, 'previous(fans are)': False, 'next(to discourage)': False, 'next(game ,)': False, 'next(to become)': False, 'previous(him how)': False, 'previous(recorded one)': False, 'next(to-find album)': False, 'next(for other)': False, 'next(color to)': False, 'next(change to)': False, 'previous(were very)': False, 'next(job defending)': False, 'previous(style ;)': False, 'previous(their properties)': False, 'previous(browning is)': False, 'previous(astronomers pinpoint)': False, 'next(to-find objects)': False, 'next(or expensive)': False, 'next(to grope)': False, \"previous(sawyer 's)\": False, 'next(questions .)': False, 'previous(made things)': False, 'next(for males)': False, 'previous(outmoded and)': False, 'previous(point is)': False, 'next(to dispute)': False, 'next(to notice)': False, 'previous(during these)': False, 'next(days but)': False, 'next(one as)': False, 'next(questions and)': False, 'previous(technology for)': False, 'next(to-design analog)': False, 'next(question to)': False, 'previous(to get)': False, 'next(next year)': False, 'previous(-- not)': False, 'next(, as)': False, 'previous(some of)': False, 'next(to produce)': False, 'next(for many)': False, 'next(to ruin)': False, 'next(, dunne)': False, 'previous(were getting)': False, 'next(time paying)': False, 'next(in science)': False, 'next(question ,)': False, 'previous(working very)': False, 'previous(split a)': False, 'next(shortcake biscuit)': False, 'next(to exaggerate)': False, 'next(the choice)': False, 'previous(cope with)': False, 'next(to unite)': False, 'previous(see how)': False, 'next(way is)': False, 'next(when people)': False, 'next(for individual)': False, 'next(time asking)': False, 'next(to confirm)': False, 'next(time directing)': False, 'next(time summarizing)': False, 'next(-- less)': False, 'next(to sue)': False, 'next(for state)': False, 'previous(screen is)': False, 'previous(candlestick is)': False, 'previous(rewards are)': False, 'previous(are as)': False, 'next(for employers)': False, 'previous(are inordinately)': False, 'next(to manufacture)': False, 'next(thing i)': False, 'next(to chalk)': False, \"previous('t find)\": False, 'next(evidence that)': False, 'previous(and its)': False, 'next(realities .)': False, 'previous(who was)': False, 'previous(use with)': False, 'next(to-work soils)': False, 'next(at first)': False, 'previous(clearly a)': False, 'previous(angle is)': False, 'previous(well as)': False, 'next(to sympathize)': False, 'next(for others)': False, 'previous(it seemed)': False, 'next(etiquette lesson)': False, 'next(with a)': False, 'previous(be really)': False, 'previous(gamy and)': False, 'next(to cook)': False, 'next(row to)': False, 'next(it gets)': False, 'previous(which a)': False, 'next(to-please young)': False, 'next(to shrug)': False, 'next(enough convincing)': False, 'previous(america is)': False, 'next(to appreciate)': False, 'next(time staying)': False, \"previous(isn 't)\": False, \"next(to '')\": False, 'previous(jokes are)': False, 'next(to translate)': False, 'next(duty but)': False, 'previous(you make)': False, 'next(to rely)': False, 'next(to disbelieve)': False, 'previous(writer ,)': False, 'previous(generalizations are)': False, 'previous(hottest and)': False, 'next(to apply)': False, 'next(golf course)': False, 'next(for states)': False, 'previous(considered the)': False, 'next(but fastest)': False, 'next(to show)': False, 'next(to sometimes)': False, 'previous(dames are)': False, 'previous(up the)': False, 'previous(found extremely)': False, 'next(for makers)': False, 'previous(; proves)': False, 'next(to travel)': False, 'previous(be this)': False, 'previous(presidency is)': False, 'next(moment of)': False, 'next(way together)': False, 'previous(take some)': False, 'next(( economic)': False, 'previous(bush was)': False, 'next(show in)': False, 'next(when many)': False, 'previous(customers are)': False, 'next(things ,)': False, 'next(fight .)': False, \"next(indeed '')\": False, 'next(team to)': False, 'next(each month)': False, 'next(thing a)': False, 'previous(search ,)': False, 'previous(about the)': False, 'next(work their)': False, 'next(to abandon)': False, 'previous(all rather)': False, 'next(time determining)': False, 'next(to expect)': False, 'next(as brain)': False, 'next(, complicated)': False, 'next(for this)': False, 'next(to bond)': False, 'previous(pedestrians even)': False, 'previous(him is)': False, 'previous(school ,)': False, 'next(finding an)': False, 'previous(struggled so)': False, 'next(to acquire)': False, 'previous(up their)': False, 'next(won deck-chairs)': False, 'previous(way ,)': False, 'next(under the)': False, \"previous('s extra)\": False, 'next(, nicholson)': False, 'previous(find him)': False, 'previous(the really)': False, 'next(parts :)': False, 'next(for students)': False, 'previous(hit disproportionately)': False, 'next(in silicon)': False, 'previous(slower ,)': False, 'previous(softened his)': False, 'next(line on)': False, 'next(day --)': False, 'previous(were too)': False, 'next(and dry)': False, 'next(to digest)': False, 'next(for private)': False, 'previous(information was)': False, 'previous(as a)': False, 'next(to haul)': False, 'next(to analyze)': False, 'next(to link)': False, 'previous(you a)': False, 'previous(skills and)': False, 'previous(needs a)': False, 'next(look .)': False, 'previous(hopefully the)': False, 'next(work he)': False, 'previous(associated with)': False, 'next(academic disciplines)': False, 'previous(values of)': False, 'previous(on real)': False, 'next(cash that)': False, 'next(lines are)': False, 'previous(to take)': False, 'next(classes .)': False, 'previous(unsubstantiated by)': False, 'next(evidence and)': False, 'previous(lot of)': False, 'next(earned money)': False, 'previous(born of)': False, 'previous(faces as)': False, 'previous(, more)': False, 'next(working ,)': False, 'previous(clearer ,)': False, 'next(, tougher)': False, 'previous(but lacked)': False, 'next(evidence until)': False, 'previous(diligence and)': False, 'next(work are)': False, 'previous(stolid ,)': False, 'next(faces .)': False, 'previous(just plain)': False, 'next(work --)': False, 'previous(take a)': False, 'next(look at)': False, 'next(news man)': False, 'previous(rewarded for)': False, 'previous(takes a)': False, 'previous(administration wants)': False, 'next(evidence the)': False, 'previous(from the)': False, 'next(realism of)': False, 'previous(mix of)': False, 'next(facts ,)': False, 'next(woman ,)': False, 'previous(parted and)': False, 'next(gashes of)': False, 'previous(to avoid)': False, 'previous(rogers for)': False, 'previous(professors in)': False, 'next(science disciplines)': False, 'previous(lime -)': False, 'previous(anyone with)': False, 'next(information from)': False, 'previous(patience to)': False, 'previous(, uncharacteristically)': False, 'next(perception .)': False, 'next(left turn)': False, 'next(work i)': False, 'previous(are no)': False, 'next(feelings .)': False, 'previous(, with)': False, 'previous(eyes were)': False, 'previous(good ,)': False, 'previous(, no)': False, 'next(look into)': False, 'previous(of ``)': False, \"next('' use)\": False, 'next(world .)': False, 'previous(has kept)': False, 'next(feelings from)': False, 'next(reality .)': False, 'next(edge of)': False, 'previous(discipline ,)': False, 'previous(still has)': False, 'next(feelings toward)': False, 'previous(weeks of)': False, 'next(thinking ,)': False, 'previous(faces a)': False, 'next(fight in)': False, 'previous(professors require)': False, 'previous(him was)': False, 'previous(who did)': False, 'previous(moment ,)': False, 'next(and decisive)': False, 'next(scientific proof)': False, 'previous(need for)': False, 'next(currency ,)': False, 'previous(do the)': False, 'previous(voice grew)': False, 'previous(to look)': False, 'next(at effectiveness)': False, 'previous(simultaneously a)': False, 'next(, noble)': False, 'previous(with a)': False, 'next(edge than)': False, 'previous(students that)': False, 'next(work pays)': False, 'previous(than the)': False, 'next(line will)': False, 'next(feelings developed)': False, 'next(, scientific)': False, 'previous(with that)': False, 'previous(imprimaturs of)': False, 'next(time served)': False, 'next(feelings over)': False, 'next(eye ,)': False, 'next(, fast)': False, 'previous(into a)': False, 'next(embrace .)': False, 'previous(with the)': False, 'next(new men)': False, 'next(turn for)': False, 'previous(persistence and)': False, 'previous(taking a)': False, 'next(look in)': False, 'next(edge .)': False, 'previous(without the)': False, 'next(edges of)': False, 'previous(credibility and)': False, 'next(science and)': False, 'previous(says is)': False, 'previous(product of)': False, 'next(work conducted)': False, 'previous(believed that)': False, 'previous(making you)': False, 'next(, joyce)': False, 'previous(laugh was)': False, 'previous(discipline +)': False, 'next(work =)': False, 'previous(misunderstandings and)': False, 'previous(study and)': False, 'next(work on)': False, 'next(to another)': False, 'previous(reason ,)': False, 'next(data ,)': False, 'previous(when additional)': False, 'next(intelligence data)': False, 'previous(lumps the)': False, 'next(way and)': False, 'previous(not looking)': False, 'previous(legislation ,)': False, \"previous('s no)\": False, 'next(evidence to)': False, 'next(economic facts)': False, 'previous(education ,)': False, 'previous(have any)': False, 'previous(demands a)': False, \"next(look '')\": False, 'previous(remember the)': False, 'previous(dedicated their)': False, 'next(work to)': False, 'previous(that no)': False, 'next(and fast)': False, 'next(feelings ,)': False, 'next(complaints ,)': False, 'previous(found little)': False, 'next(study and)': False, 'previous(than just)': False, 'next(work is)': False, 'next(at work)': False, 'next(enamel blue)': False, 'previous(without causing)': False, 'next(feelings or)': False, 'previous(the ``)': False, 'previous(from a)': False, 'previous(profession ,)': False, 'next(look next)': False, 'next(look to)': False, \"next(number '')\": False, 'previous(be looking)': False, 'next(at young)': False, 'previous(boccaccio is)': False, 'next(, elegant)': False, 'next(country of)': False, \"previous(california 's)\": False, 'next(recession ``)': False, 'next(right ,)': False, 'previous(for her)': False, 'previous(community through)': False, 'previous(thought how)': False, 'next(her daughter)': False, 'previous(become a)': False, 'next(guy when)': False, 'previous(a good)': False, 'previous(determination and)': False, 'previous(government and)': False, 'next(intellectual work)': False, 'next(head and)': False, 'previous(be some)': False, 'next(feelings in)': False, 'next(, rough)': False, 'previous(idea ,)': False, 'previous(leads to)': False, 'next(feelings among)': False, 'previous(taken a)': False, 'next(lesson during)': False, 'previous(amount of)': False, 'next(feelings involved)': False, 'next(on myself)': False, 'previous(supplied the)': False, 'next(cash ,)': False, \"previous(gorbachev 's)\": False, 'next(line against)': False, 'previous(cooperation ,)': False, 'previous(who through)': False, 'next(on jewish)': False, \"previous('m so)\": False, 'previous(getting a)': False, 'next(and mostly)': False, 'next(truth is)': False, 'previous(on our)': False, 'previous(took a)': False, 'next(line .)': False, 'next(or bitter)': False, 'previous(both stress)': False, 'next(on your)': False, 'previous(songs a)': False, 'previous(advocated ``)': False, \"next(measures '')\": False, 'previous(realize the)': False, 'next(work that)': False, 'previous(richer and)': False, 'next(and needed)': False, 'previous(talent ,)': False, 'previous(from ``)': False, \"next('' assets)\": False, 'previous(\" exchanging)': False, 'next(looks with)': False, 'previous(satisfaction in)': False, 'next(work ;)': False, 'previous(year of)': False, 'previous(on as)': False, 'next(data as)': False, 'previous(her as)': False, 'next(and egotistical)': False, 'previous(man ,)': False, 'next(working .)': False, 'previous(them is)': False, 'next(feelings ;)': False, 'next(work can)': False, 'previous(seen a)': False, 'previous(that with)': False, 'previous(worth the)': False, 'previous(when the)': False, 'next(work begins)': False, 'previous(litany of)': False, 'next(feelings flowed)': False, 'previous(by considerable)': False, 'next(light of)': False, 'previous(are ``)': False, 'previous(respect the)': False, 'next(work the)': False, 'previous(commitment and)': False, 'previous(was packed)': False, 'next(and green)': False, 'previous(the very)': False, 'next(impression ()': False, 'next(rules when)': False, 'previous(; but)': False, 'next(work does)': False, 'previous(not taking)': False, 'next(enough courses)': False, 'previous(voice sound)': False, 'previous(-- that)': False, 'previous(all this)': False, 'next(research is)': False, 'previous(demand a)': False, 'next(balance sheet)': False, 'previous(commitment to)': False, 'previous(baymec --)': False, 'next(proof of)': False, 'previous(other a)': False, 'next(, efficient)': False, 'previous(lack of)': False, 'next(answers to)': False, 'previous(`` those)': False, 'next(, active)': False, 'previous(always encouraged)': False, \"next(fraud '')\": False, 'next(on jet)': False, 'previous(believed in)': False, 'next(work but)': False, 'previous(land is)': False, 'next(and pitiless)': False, 'previous(bent a)': False, 'previous(dredging up)': False, 'next(feelings that)': False, 'previous(to say)': False, \"next(things '')\": False, \"previous(roddick 's)\": False, 'next(edge can)': False, 'next(imperatives of)': False, 'previous(were no)': False, 'next(feelings all)': False, 'previous(arguments and)': False, \"previous('' is)\": False, 'next(and plentiful)': False, 'previous(the recent)': False, 'next(feelings expressed)': False, 'previous(says that)': False, 'previous(a short)': False, 'next(laugh and)': False, 'previous(terms of)': False, 'previous(it into)': False, 'next(points ,)': False, 'previous(never a)': False, 'next(mom .)': False, 'previous(merit and)': False, 'next(work have)': False, 'previous(we become)': False, 'previous(they became)': False, 'next(and cold)': False, 'previous(for his)': False, 'next(work ?)': False, 'previous(has come)': False, 'previous(fancy with)': False, 'previous(were so)': False, 'next(that v)': False, 'previous(will get)': False, 'next(looks .)': False, 'previous(was serving)': False, 'previous(administration has)': False, 'next(figures to)': False, 'previous(, doggone)': False, 'previous(cold ,)': False, 'next(facts when)': False, 'previous(give you)': False, 'previous(fear of)': False, 'previous(thought the)': False, 'next(work was)': False, 'previous(to some)': False, 'next(work with)': False, 'previous(despite the)': False, 'previous(a new)': False, 'previous(brains or)': False, 'previous(manner of)': False, 'next(names ,)': False, 'previous(all our)': False, 'previous(her a)': False, 'next(core of)': False, 'next(market ,)': False, 'next(, tough)': False, 'next(bargaining with)': False, 'previous(jose wanted)': False, 'previous(adopt a)': False, 'next(line with)': False, 'previous(to do)': False, \"previous('t have)\": False, 'next(information .)': False, 'previous(unless some)': False, 'next(evidence has)': False, 'previous(weaving in)': False, 'next(information about)': False, 'previous(its traditional)': False, 'next(, expensive)': False, 'next(way ()': False, 'previous(but no)': False, 'next(answers .)': False, 'previous(forgiveness comes)': False, 'previous(unlike the)': False, 'next(sciences ,)': False, 'previous(its glare)': False, 'next(day on)': False, 'previous(not being)': False, 'next(enough on)': False, 'previous(require some)': False, 'previous(for their)': False, 'next(truth ,)': False, 'previous(player through)': False, 'previous(politics ,)': False, 'next(ball ,)': False, 'previous(do some)': False, 'next(thinking .)': False, 'previous(know that)': False, 'next(work never)': False, 'previous(are few)': False, 'next(explanations for)': False, 'next(line rank-and-file)': False, 'previous(because of)': False, 'previous(that ends)': False, 'next(feelings between)': False, 'previous(the hateful)': False, 'next(glitter in)': False, 'next(road .)': False, 'previous(is already)': False, 'previous(soften its)': False, 'previous(with her)': False, 'next(eyes ,)': False, 'previous(goodwill and)': False, 'previous(struck a)': False, 'next(tone .)': False, 'next(work six)': False, 'next(work has)': False, 'previous(of his)': False, 'next(, long)': False, 'previous(had achieved)': False, 'next(sell than)': False, 'next(when they)': False, \"previous(there 's)\": False, 'next(work involved)': False, 'next(work found)': False, \"previous(writing 's)\": False, 'previous(conscientious ,)': False, 'next(on quayle)': False, \"previous('t let)\": False, 'previous(dedication ,)': False, 'next(numbers :)': False, \"previous(two-day 's)\": False, 'next(bargaining among)': False, 'previous(intelligence ,)': False, 'next(work or)': False, 'previous(, despite)': False, 'previous(want through)': False, 'previous(still no)': False, 'next(night on)': False, \"next('' gospel)\": False, 'previous(might reward)': False, 'next(truth city)': False, 'previous(devoted to)': False, 'next(news .)': False, 'previous(developed through)': False, 'previous(believed ``)': False, 'next(work always)': False, 'previous(inside a)': False, 'next(green border)': False, 'previous(moving toward)': False, 'next(forms of)': False, 'previous(eyes ,)': False, 'next(as steel)': False, 'next(positions .)': False, 'previous(stemmed from)': False, 'next(work behind)': False, \"previous('' of)\": False, 'next(, bitter)': False, 'previous(value of)': False, \"next('' issues)\": False, 'next(and colorless)': False, 'previous(searching and)': False, 'previous(clients for)': False, 'previous(work very)': False, 'next(working lifetime)': False, 'previous(between two)': False, 'next(, adult)': False, 'previous(but her)': False, 'previous(neither ``)': False, 'next(news nor)': False, 'next(common sense)': False, 'previous(with old-fashioned)': False, 'previous(months of)': False, 'next(campaigning .)': False, 'next(voice ,)': False, 'next(and unbending)': False, 'next(igneous rocks)': False, 'previous(ancestors --)': False, \"previous('re pretty)\": False, 'next(on him)': False, 'previous(day of)': False, 'previous(dint of)': False, 'previous(of very)': False, 'next(men ,)': False, \"previous(i 'm)\": False, 'previous(decade of)': False, 'previous(lively with)': False, 'next(tannins ;)': False, 'previous(loyalty and)': False, 'previous(numbers ,)': False, 'previous(one has)': False, 'next(numbers to)': False, 'previous(opportunity and)': False, 'next(, offhand)': False, 'next(world ()': False, 'next(on individual)': False, 'previous(spectators were)': False, 'next(with disaster)': False, 'next(way how)': False, 'previous(penchant for)': False, 'previous(deal of)': False, 'previous(laid a)': False, 'next(hand on)': False, 'previous(sun as)': False, 'next(line ,)': False, 'previous(take another)': False, 'next(terms --)': False, 'previous(recession and)': False, 'previous(but through)': False, 'previous(claims of)': False, 'next(necessity ,)': False, 'previous(stating a)': False, 'next(truth .)': False, 'previous(who had)': False, 'next(, probing)': False, 'previous(result of)': False, 'next(fighting .)': False, 'previous(the real)': False, 'previous(had no)': False, 'next(feelings about)': False, 'previous(, intense)': False, 'previous(believed the)': False, 'next(feelings of)': False, 'previous(after as)': False, 'next(as we)': False, 'next(work still)': False, 'previous(says her)': False, 'next(stuff ,)': False, 'next(chocolate crust)': False, 'next(court is)': False, 'previous(stiff and)': False, 'next(as clear)': False, 'next(red spring)': False, 'previous(edberg on)': False, 'next(courts this)': False, 'previous(a ground)': False, 'next(cheese such)': False, 'previous(rubbed the)': False, 'next(arizona dirt)': False, 'previous(hitting a)': False, 'next(surface .)': False, 'previous(varnish extremely)': False, 'next(, ``)': False, 'previous(a ``)': False, \"next('' disk)\": False, 'previous(-- all)': False, 'next(lines and)': False, 'previous(bring a)': False, 'next(edge and)': False, 'previous(inches of)': False, 'next(dirt on)': False, 'previous(form a)': False, 'next(, leathery)': False, 'previous(brown ,)': False, 'next(sided samsonite)': False, 'previous(be on)': False, 'next(red winter)': False, 'previous(that have)': False, 'next(chocolate shells)': False, 'next(, boxy)': False, 'previous(dark and)': False, 'next(ferruginous sandstone)': False, 'next(pack ;)': False, 'previous(install a)': False, 'next(flooring such)': False, 'next(top -)': False, 'next(cardboard box)': False, 'previous(made of)': False, 'next(plastic ,)': False, 'previous(developed a)': False, 'next(, cracked)': False, 'previous(hats and)': False, 'next(soled shoes)': False, 'next(place .)': False, 'previous(less profitable)': False, 'next(goods categories)': False, 'previous(with their)': False, 'next(white skin)': False, 'next(bright green)': False, 'previous(where the)': False, 'next(surface becomes)': False, 'previous(replace the)': False, 'next(seats with)': False, 'previous(, all)': False, 'next(surfaces ,)': False, 'previous(filled with)': False, 'next(core over)': False, 'previous(piece turned)': False, 'next(and unyielding)': False, 'next(covers always)': False, 'next(seed coat)': False, 'previous(from this)': False, 'next(scrabble river)': False, 'next(court as)': False, 'next(seasoned-wood ,)': False, 'previous(boring of)': False, 'next(boards ,)': False, 'previous(blanket of)': False, 'next(gray crust)': False, 'next(, firm)': False, 'previous(title :)': False, 'next(vs .)': False, 'previous(on a)': False, 'next(mound while)': False, 'previous(ends are)': False, 'previous(pkd =)': False, 'next(packed ,)': False, 'next(boards .)': False, 'previous(that record-breaking)': False, 'next(freeze ravished)': False, 'previous(sand and)': False, 'next(surface for)': False, 'next(courts of)': False, 'next(glaze of)': False, 'previous(that becomes)': False, 'next(, it)': False, 'previous(quite as)': False, 'previous(while leaving)': False, 'next(grain virtually)': False, 'previous(against something)': False, 'next(; it)': False, 'previous(yellow-brown ,)': False, 'next(, friable)': False, 'previous(struck the)': False, 'next(block but)': False, 'next(, knotty)': False, 'next(slab beneath)': False, 'next(skin but)': False, 'previous(now buy)': False, 'next(boiled and)': False, 'previous(was frozen)': False, \"previous(winter 's)\": False, 'next(frost caused)': False, 'next(cheeses are)': False, 'next(bone .)': False, 'previous(mitch is)': False, 'next(as a)': False, 'previous(1 ounce)': False, 'next(cheese ,)': False, 'next(and uncomfortable)': False, 'next(, sharp)': False, 'previous(made for)': False, 'next(courts ,)': False, 'previous(and other)': False, 'next(rock minerals)': False, 'previous(latest mass-market)': False, 'next(cover best)': False, 'previous(covered with)': False, 'next(, bubblelike)': False, 'previous(their breasts)': False, 'next(and sore)': False, 'previous(solid ,)': False, 'next(plastic ball)': False, 'previous(rock -)': False, 'next(exoskeleton and)': False, 'previous(maker of)': False, 'next(- and)': False, 'previous(corn and)': False, 'previous(, mostly)': False, 'next(pine ,)': False, 'next(surface or)': False, 'next(candies ,)': False, 'previous(, 000)': False, 'next(cover copies)': False, 'previous(becomes as)': False, 'next(as flint)': False, 'previous(candies slightly)': False, 'next(than jelly)': False, 'previous(bright ,)': False, 'next(surfaced ,)': False, 'previous(misery --)': False, 'next(earth blanketed)': False, 'next(surface will)': False, 'next(piece of)': False, 'next(covers still)': False, 'next(floor was)': False, 'previous(and whacking)': False, 'next(little projectiles)': False, 'previous(a relatively)': False, 'next(, stable)': False, 'previous(2 ounces)': False, 'next(goods business)': False, 'previous(fish got)': False, 'next(as rocks)': False, 'previous(flat ,)': False, 'next(cap was)': False, 'previous(somehow the)': False, 'next(face of)': False, 'next(finish .)': False, 'previous(were as)': False, 'previous(dirt as)': False, 'next(as baked)': False, 'next(edge steel)': False, 'previous(for bread-quality)': False, 'next(red wheat)': False, 'previous(this a)': False, 'next(layer that)': False, 'previous(was getting)': False, 'previous(the first)': False, 'next(cover printing)': False, 'previous(hair and)': False, 'next(frost seems)': False, 'next(bristle brush)': False, 'previous(view on)': False, 'next(shell helmets)': False, 'previous(shelf of)': False, 'next(lava ,)': False, 'previous(or other)': False, 'next(material ,)': False, 'next(ball .)': False, 'next(edge that)': False, 'previous(of bread-quality)': False, 'next(; its)': False, 'previous(possibly too)': False, 'next(- rrb)': False, 'previous(breasts turned)': False, 'next(within months)': False, 'next(place ,)': False, 'previous(have more)': False, 'next(surfaces and)': False, 'previous(put a)': False, 'next(coat ()': False, 'previous(sat throwing)': False, 'next(, round)': False, 'previous(in this)': False, 'next(baked patch)': False, 'previous(poultry ,)': False, 'next(cheeses .)': False, 'previous(tables with)': False, 'next(hat construction)': False, 'previous(become leather)': False, 'next(before constructing)': False, 'previous(confections including)': False, 'next(and soft)': False, 'previous(produces a)': False, 'next(crystalline mass)': False, 'previous(blend of)': False, 'previous(to have)': False, 'next(sided luggage)': False, \"previous('s extremely)\": False, 'next(and durable)': False, 'previous(found on)': False, 'next(, claypan)': False, 'previous(reputation is)': False, 'next(goods ,)': False, 'next(cruel bony)': False, 'next(surface sculpted)': False, 'previous(that ``)': False, 'next(goods sales)': False, 'previous(chewing of)': False, 'next(foods helps)': False, 'previous(the rinds)': False, 'previous(out of)': False, 'next(plastic sheets)': False, 'previous(equipment over)': False, 'next(surfaces such)': False, 'previous(sitting on)': False, 'next(wooden benches)': False, 'next(scrabble rockwell)': False, 'previous(thin and)': False, 'next(, like)': False, 'next(the material)': False, 'previous(which makes)': False, 'next(shell and)': False, 'previous(promoting the)': False, 'next(cover edition)': False, 'previous(pieces of)': False, 'next(rocks called)': False, 'next(red leather-bound)': False, 'next(platic case)': False, 'previous(and aerate)': False, 'next(packed turf)': False, 'previous(softens the)': False, 'next(line of)': False, 'previous(said their)': False, 'next(shoes and)': False, 'next(english turnpikes)': False, 'next(crust capable)': False, 'previous(with its)': False, 'next(chrome surface)': False, 'previous(cars with)': False, 'next(seats and)': False, 'previous(loose and)': False, 'next(packed sand)': False, 'previous(s .)': False, 'previous(using the)': False, 'next(shell mammal)': False, 'previous(had this)': False, 'next(edge to)': False, 'previous(tummy is)': False, 'previous(less than)': False, 'next(shells .)': False, 'next(grazed his)': False, 'previous(, using)': False, 'next(tungsten carbide)': False, 'previous(sheets of)': False, 'next(plastic with)': False, 'previous(, frozen)': False, 'next(as stones)': False, 'previous(become so)': False, 'next(that the)': False, 'previous(still makes)': False, 'next(shell capsules)': False, 'next(wax on)': False, 'next(sole ,)': False, 'next(freeze last)': False, 'previous(green and)': False, 'previous(termites have)': False, 'next(mandibles ,)': False, 'next(that you)': False, 'previous(was rock)': False, 'previous(with ``)': False, \"next('' material)\": False, 'previous(rubber gets)': False, 'next(at low)': False, 'previous(tight ,)': False, 'next(and brittle)': False, 'previous(1990 nissan)': False, 'next(body pickup)': False, 'previous(looks ,)': False, 'next(body ,)': False, 'previous(to her)': False, 'next(heels as)': False, 'previous(curves and)': False, 'next(lines .)': False, 'previous(from recycled)': False, 'next(plastic chair)': False, 'next(, factory)': False, 'previous(copies in)': False, 'next(cover since)': False, 'next(place where)': False, 'previous(attacked with)': False, 'next(blunt objects)': False, 'previous(, ``)': False, \"previous(waldenbooks ')\": False, 'next(cover sales)': False, 'next(, stiff)': False, 'previous(skulls are)': False, 'next(because they)': False, 'previous(oils develop)': False, 'next(, smooth)': False, 'previous(firm ,)': False, 'next(fleshed and)': False, 'previous(north american)': False, 'next(cover rights)': False, 'previous(until their)': False, 'next(, shiny)': False, 'next(, abrasion)': False, 'previous(paint ,)': False, 'next(: brush)': False, 'previous(sliding on)': False, 'next(clay with)': False, 'previous(, or)': False, 'next(; and)': False, 'previous(improve on)': False, 'next(cookies on)': False, 'next(in oakland)': False, 'next(structures .)': False, 'previous(are relatively)': False, 'next(when applied)': False, 'previous(individually wrapped)': False, 'previous(but iron)': False, 'previous(brick -)': False, 'previous(: the)': False, 'previous(but good)': False, 'next(pavement .)': False, 'next(to scoop)': False, 'previous(. 95)': False, 'next(cover ,)': False, 'next(kernel of)': False, 'previous(often fried)': False, 'previous(expand in)': False, 'next(, adobe)': False, 'previous(durum wheat)': False, 'next(and other)': False, \"previous(state 's)\": False, 'next(scrabble economy)': False, 'previous(leather -)': False, 'next(state .)': False, 'previous(seeds of)': False, 'next(, fibrous)': False, 'previous(unavailable in)': False, 'previous(off the)': False, 'next(plastic dividers)': False, 'next(place north)': False, 'previous(, italian)': False, 'previous(plump and)': False, 'previous(( most)': False, 'next(sided coolers)': False, 'previous(seats are)': False, 'next(wooden planks)': False, 'previous(( gets)': False, 'next() ,)': False, 'previous(buy new)': False, 'next(cover books)': False, 'next(when cooked)': False, 'previous(interplay of)': False, 'next(, tusky)': False, 'previous(, fried)': False, 'next(and almost)': False, 'previous(is leather)': False, 'next(cover and)': False, 'previous(lighting ,)': False, 'next(surfaces .)': False, 'previous(including several)': False, 'next(hatted construction)': False, 'previous(won a)': False, 'next(court tournament)': False, 'previous(subduing brick)': False, 'next(ice cream)': False, 'previous(much as)': False, 'next(domes -)': False, 'next(shells of)': False, 'previous(small ,)': False, 'next(objects of)': False, 'previous(arch of)': False, 'next(stone ,)': False, 'next(, geometric)': False, 'previous(the poor)': False, 'next(covers .)': False, 'previous(high-protein ,)': False, 'previous(and in)': False, 'previous(balls are)': False, 'next(, some)': False, 'next(frost .)': False, 'previous(be so-called)': False, 'previous(with few)': False, 'next(shoulders .)': False, 'next(muscled young)': False, 'next(, cold)': False, 'previous(bed is)': False, 'next(and firm)': False, 'next(, white)': False, 'previous(should be)': False, 'next(when pinched)': False, 'previous(recline on)': False, 'next(benches or)': False, 'previous(with any)': False, 'next(nonpoisonous substance)': False, 'previous(across a)': False, 'next(dirt road)': False, 'previous(law prohibiting)': False, 'next(flooring ?)': False, 'previous(viruses on)': False, 'previous(bananas when)': False, 'previous(can enter)': False, 'next(, resistant)': False, 'next(courts at)': False, 'previous(oil ,)': False, 'next(soap and)': False, 'previous(variety of)': False, 'next(rubber massage)': False, 'previous(the completed)': False, 'next(core drain)': False, 'previous(double-walled ,)': False, 'previous(rough with)': False, 'next(callouses ,)': False, 'previous(rock and)': False, 'next(, plastic-like)': False, 'previous(such as)': False, 'next(clay .)': False, 'next(trees in)': False, 'previous(is mostly)': False, 'next(clay ,)': False, 'next(but can)': False, 'previous(and white)': False, 'next(hats ,)': False, 'previous(reissued in)': False, 'next(cover by)': False, 'previous(cream rock)': False, 'next(while the)': False, 'previous(pavements are)': False, 'previous(early ,)': False, 'next(domes necessitated)': False, 'previous(toys between)': False, \"previous(. 'a)\": False, \"next(place ')\": False, 'next(coating .)': False, 'next(cover book)': False, 'previous(they bang)': False, 'next(shelled molluscs)': False, 'previous(appeared on)': False, 'next(covers last)': False, 'previous(before our)': False, 'next(hatted friends)': False, 'previous(colors and)': False, 'next(, slick)': False, 'next(shell of)': False, 'previous(dragees are)': False, 'next(candies used)': False, 'previous(, \")': False, 'next(plastic spheres)': False, 'previous(for ``)': False, 'next(bristles and)': False, 'next(variety ,)': False, 'next(court ,)': False, 'previous(crisp and)': False, 'next(. ))': False, 'previous(akin to)': False, 'next(boiling caviar)': False, 'previous(thin ,)': False, 'next(yellow ware)': False, 'previous(units with)': False, 'next(plastic sides)': False, 'previous(, for)': False, 'next(rock mineral)': False, 'previous(want a)': False, 'next(edge ,)': False, 'next(surface to)': False, 'previous(chairs with)': False, 'next(wood benches)': False, 'next(shell helmet)': False, \"previous('t imagine)\": False, 'next(plastic boxes)': False, 'previous(high-tech ,)': False, 'next(plastic mask-helmet)': False, 'previous(bumpy ,)': False, 'next(skinned ,)': False, 'previous(published in)': False, 'next(covers -)': False, 'next(work surface)': False, 'next(nose ,)': False, 'previous(on something)': False, 'next(: a)': False, 'next(and so)': False, 'previous(but leave)': False, 'next(and flat)': False, 'next(cover fiction)': False, 'next(materials are)': False, 'previous(driving a)': False, 'next(topped car)': False, 'next(freeze .)': False, 'previous(starts getting)': False, 'previous(start out)': False, 'next(and soften)': False, 'previous(curd --)': False, 'previous(to pick)': False, 'next(, unripe)': False, 'previous(steep ,)': False, 'next(packed dirt)': False, 'next(surface mousepad)': False, 'previous(the medium-fast)': False, 'previous(weed out)': False, 'next(cover classics)': False, 'next(headboard for)': False, 'next(field against)': False, 'previous(fabrics or)': False, 'next(endosperm of)': False, 'previous(was its)': False, 'next(floors ,)': False, 'previous(remove the)': False, 'next(outer shell)': False, 'next(skin will)': False, 'previous(through this)': False, 'next(scrabble state)': False, 'next(stick of)': False}\n"
     ]
    }
   ],
   "source": [
    "print(\"El diccionario que contiene todos los bigramas del corpus de entrenamiento : \\n \\n\")\n",
    "print(dic_car2)"
   ]
  },
  {
   "cell_type": "markdown",
   "metadata": {},
   "source": [
    "### Aqui una aclaracion importante :\n",
    "    El objetivo es representar el un bigrama antes de la palabra ambigua y despues de la palabra ambigua en un vector de caracteristicas\n",
    "    \n",
    "    -Esto es posible solo si se generan dos vectores de caracteristicas, uno representando las palabras antes de la palabra ambigua y el otro las palabras de despues.\n",
    "    -Este vector de caracteresisticas es representado por una bolsa de palabras.\n",
    "    \n",
    "    -El codigo a continucacion muestra el resultado de la creacion de estos vectores de caracterisitcas, las variables carac_2_ant y carac_2_desp, contienen los vectores mencionados."
   ]
  },
  {
   "cell_type": "code",
   "execution_count": 67,
   "metadata": {
    "scrolled": true
   },
   "outputs": [],
   "source": [
    "carac_2_ant = []\n",
    "carac_2_desp = []\n",
    "\n",
    "for it in range(len(prev)):\n",
    "    aux_dict = features_1.copy()\n",
    "    aux_dict2 = features_1.copy()\n",
    "    l=0\n",
    "    try:\n",
    "        if prev[it][0][0] in aux_dict:\n",
    "            aux_dict[prev[it][0][0]] = True\n",
    "        if prev[it][1][0] in aux_dict:\n",
    "            aux_dict[prev[it][1][0]] = True\n",
    "\n",
    "        if fut[it][0][0] in aux_dict2 :\n",
    "            aux_dict2[fut[it][0][0]] = True\n",
    "        if fut[it][1][0] in aux_dict2 :\n",
    "            aux_dict2[fut[it][1][0]] = True\n",
    "    except:\n",
    "        l+=1\n",
    "    carac_2_ant.append(list(aux_dict.values()))\n",
    "    carac_2_desp.append(list(aux_dict2.values()))"
   ]
  },
  {
   "cell_type": "code",
   "execution_count": 68,
   "metadata": {},
   "outputs": [
    {
     "name": "stdout",
     "output_type": "stream",
     "text": [
      "Caracterisiticas usando bigramagas pasados a binario para las 2 primeras isntancias del corpus\n",
      "VEctor de caracteristicas previas a la palabra ambigua \n",
      "\n",
      "[0, 0, 0, 0, 0, 0, 0, 0, 0, 0, 0, 0, 0, 0, 0, 0, 0, 0, 0, 0, 0, 0, 0, 0, 0, 0, 0, 0, 0, 0, 0, 0, 0, 0, 0, 0, 0, 0, 0, 0, 0, 0, 0, 0, 0, 0, 0, 0, 0, 0, 0, 0, 0, 0, 0, 0, 0, 0, 0, 0, 0, 0, 0, 0, 0, 0, 0, 0, 0, 0, 0, 0, 0, 0, 0, 0, 0, 0, 0, 0, 0, 0, 0, 0, 0, 0, 0, 0, 0, 0, 0, 0, 0, 0, 0, 0, 0, 0, 0, 0, 0, 0, 0, 0, 0, 0, 0, 0, 0, 0, 0, 0, 0, 0, 0, 0, 0, 0, 0, 0, 0, 0, 0, 0, 0, 0, 0, 0, 0, 0, 0, 0, 0, 0, 0, 0, 0, 0, 0, 0, 0, 0, 0, 0, 0, 0, 0, 0, 0, 0, 0, 0, 0, 0, 0, 0, 0, 0, 0, 0, 0, 0, 0, 0, 0, 0, 0, 0, 0, 0, 0, 0, 0, 0, 0, 0, 0, 0, 0, 0, 0, 0, 0, 0, 0, 0, 0, 0, 0, 0, 0, 0, 0, 0, 0, 0, 0, 0, 0, 0, 0, 0, 0, 0, 0, 0, 0, 0, 0, 0, 0, 0, 0, 0, 0, 0, 0, 0, 0, 0, 0, 0, 0, 0, 0, 0, 0, 0, 0, 0, 0, 0, 0, 0, 0, 0, 0, 0, 0, 0, 0, 0, 0, 0, 0, 0, 0, 0, 0, 0]\n",
      "[0, 0, 0, 0, 0, 0, 0, 0, 0, 0, 0, 0, 0, 0, 0, 0, 0, 0, 0, 0, 0, 0, 0, 0, 0, 0, 0, 0, 0, 0, 0, 0, 0, 0, 0, 0, 0, 0, 0, 0, 0, 0, 0, 0, 0, 0, 0, 0, 0, 0, 0, 0, 0, 0, 0, 0, 0, 0, 0, 0, 0, 0, 0, 0, 0, 0, 0, 0, 0, 0, 0, 0, 0, 0, 0, 0, 0, 0, 0, 0, 0, 0, 0, 0, 0, 0, 0, 0, 0, 0, 0, 0, 0, 0, 0, 0, 0, 0, 0, 0, 0, 0, 0, 0, 0, 0, 0, 0, 0, 0, 0, 0, 0, 0, 0, 0, 0, 0, 0, 0, 0, 0, 0, 0, 0, 0, 0, 0, 0, 0, 0, 0, 0, 0, 0, 0, 0, 0, 0, 0, 0, 0, 0, 0, 0, 0, 0, 0, 0, 0, 0, 0, 0, 0, 0, 0, 0, 0, 0, 0, 0, 0, 0, 0, 0, 0, 0, 0, 0, 0, 0, 0, 0, 0, 0, 0, 0, 0, 0, 0, 0, 0, 0, 0, 0, 0, 0, 0, 0, 0, 0, 0, 0, 0, 0, 0, 0, 0, 0, 0, 0, 0, 0, 0, 0, 0, 0, 0, 0, 0, 0, 0, 0, 0, 0, 0, 0, 0, 0, 0, 0, 0, 0, 0, 0, 0, 0, 0, 0, 0, 0, 0, 0, 0, 0, 0, 0, 0, 0, 0, 0, 0, 0, 0, 0, 0, 0, 0, 0, 0]\n",
      "\n",
      "Vector de caracteristicas posterior a la palabra ambigua\n",
      "\n",
      "[0, 0, 0, 0, 0, 0, 0, 0, 0, 0, 0, 0, 0, 0, 0, 0, 0, 0, 0, 0, 0, 0, 0, 0, 0, 0, 0, 0, 0, 0, 0, 0, 0, 0, 0, 0, 0, 0, 0, 0, 0, 0, 0, 0, 0, 0, 0, 0, 0, 0, 0, 0, 0, 0, 0, 0, 0, 0, 0, 0, 0, 0, 0, 0, 0, 0, 0, 0, 0, 0, 0, 0, 0, 0, 0, 0, 0, 0, 0, 0, 0, 0, 0, 0, 0, 0, 0, 0, 0, 0, 0, 0, 0, 0, 0, 0, 0, 0, 0, 0, 0, 0, 0, 0, 0, 0, 0, 0, 0, 0, 0, 0, 0, 0, 0, 0, 0, 0, 0, 0, 0, 0, 0, 0, 0, 0, 0, 0, 0, 0, 0, 0, 0, 0, 0, 0, 0, 0, 0, 0, 0, 0, 0, 0, 0, 0, 0, 0, 0, 0, 0, 0, 0, 0, 0, 0, 0, 0, 0, 0, 0, 0, 0, 0, 0, 0, 0, 0, 0, 0, 0, 0, 0, 0, 0, 0, 0, 0, 0, 0, 0, 0, 0, 0, 0, 0, 0, 0, 0, 0, 0, 0, 0, 0, 0, 0, 0, 0, 0, 0, 0, 0, 0, 0, 0, 0, 0, 0, 0, 0, 0, 0, 0, 0, 0, 0, 0, 0, 0, 0, 0, 0, 0, 0, 0, 0, 0, 0, 0, 0, 0, 0, 0, 0, 0, 0, 0, 0, 0, 0, 0, 0, 0, 0, 0, 0, 0, 0, 0, 0]\n",
      "[0, 1, 0, 0, 0, 0, 0, 0, 0, 0, 0, 0, 0, 0, 0, 0, 0, 0, 0, 0, 0, 0, 0, 0, 0, 0, 0, 0, 0, 0, 0, 0, 0, 0, 0, 0, 0, 0, 0, 0, 0, 0, 0, 0, 0, 0, 0, 0, 0, 0, 0, 0, 0, 0, 0, 0, 0, 0, 0, 0, 0, 0, 0, 0, 0, 0, 0, 0, 0, 0, 0, 0, 0, 0, 0, 0, 0, 0, 0, 0, 0, 0, 0, 0, 0, 0, 0, 0, 0, 0, 0, 0, 0, 0, 0, 0, 0, 0, 0, 0, 0, 0, 0, 0, 0, 0, 0, 0, 0, 0, 0, 0, 0, 0, 0, 0, 0, 0, 0, 0, 0, 0, 0, 0, 0, 0, 0, 0, 0, 0, 0, 0, 0, 0, 0, 0, 0, 0, 0, 0, 0, 0, 0, 0, 0, 0, 0, 0, 0, 0, 0, 0, 0, 0, 0, 0, 0, 0, 0, 0, 0, 0, 0, 0, 0, 0, 0, 0, 0, 0, 0, 0, 0, 0, 0, 0, 0, 0, 0, 0, 0, 0, 0, 0, 0, 0, 0, 0, 0, 0, 0, 0, 0, 0, 0, 0, 0, 0, 0, 0, 0, 0, 0, 0, 0, 0, 0, 0, 0, 0, 0, 0, 0, 0, 0, 0, 0, 0, 0, 0, 0, 0, 0, 0, 0, 0, 0, 0, 0, 0, 0, 0, 0, 0, 0, 0, 0, 0, 0, 0, 0, 0, 0, 0, 0, 0, 0, 0, 0, 0]\n"
     ]
    }
   ],
   "source": [
    "print(\"Caracterisiticas usando bigramagas pasados a binario para las 2 primeras isntancias del corpus\")\n",
    "print(\"VEctor de caracteristicas previas a la palabra ambigua \\n\")\n",
    "for ji in range(2):\n",
    "    print([1*carac_2_ant[ji][i] for i in range(len(carac_2_ant[ji]))])\n",
    "print(\"\\nVector de caracteristicas posterior a la palabra ambigua\\n\")\n",
    "for ji in range(2):\n",
    "    print([1*carac_2_desp[ji][i] for i in range(len(carac_2_desp[ji]))])"
   ]
  },
  {
   "cell_type": "markdown",
   "metadata": {},
   "source": [
    "### Resumen :\n",
    "    Asi se conforma la segunda caracterizacion  :\n",
    "    En este punto las entradas de un sistema de clasificacion correspondieran a cada uno de los contextos de cada instancia en total 4333, pero representados en forma de vector de caracterisiticas bigrama = 2*250 = 500 ."
   ]
  },
  {
   "cell_type": "markdown",
   "metadata": {},
   "source": [
    "## Propuesta de conjunto de caracteristicas"
   ]
  },
  {
   "cell_type": "markdown",
   "metadata": {},
   "source": [
    "## Mi propuesta es utilizar tambien las \"POS\" las partes de la oracion"
   ]
  },
  {
   "cell_type": "markdown",
   "metadata": {},
   "source": [
    "### El primer paso es crear una bolsa de \"Pos\" partes de la oracion"
   ]
  },
  {
   "cell_type": "code",
   "execution_count": 69,
   "metadata": {},
   "outputs": [],
   "source": [
    "inst = senseval.instances(senseval.fileids()[0])\n",
    "contextos2 = []\n",
    "for i in inst:\n",
    "    contextos2 += [i.context[it][1] for it in range (len(i.context))]"
   ]
  },
  {
   "cell_type": "markdown",
   "metadata": {},
   "source": [
    "### Una vez creado calculamos la distribucion de frecuencas de los \"POS\" partes de la oracion"
   ]
  },
  {
   "cell_type": "code",
   "execution_count": 70,
   "metadata": {},
   "outputs": [],
   "source": [
    "fd2= nltk.FreqDist(contextos2)"
   ]
  },
  {
   "cell_type": "markdown",
   "metadata": {},
   "source": [
    "### El numero total de partes de la oracion es igual a 45... relativamente un numero pequeño por lo cual la bolsa de \"POS\" es igual a 45"
   ]
  },
  {
   "cell_type": "code",
   "execution_count": 71,
   "metadata": {},
   "outputs": [
    {
     "name": "stdout",
     "output_type": "stream",
     "text": [
      "[('NN', 13668), ('IN', 10706), ('JJ', 10227), ('DT', 9203), ('NNP', 5984), ('PRP', 5731), (',', 5604), ('VB', 5565), ('NNS', 5291), ('.', 4847), ('TO', 4423), ('RB', 4173), ('VBZ', 4134), ('CC', 3254), ('VBD', 2899), ('VBP', 2257), ('VBG', 2163), ('VBN', 1731), ('``', 1457), ('MD', 1270), ('CD', 1264), ('PRP$', 1142), (':', 1029), (\"''\", 785), ('WRB', 677), ('\"', 653), ('POS', 549), ('WP', 534), ('WDT', 481), ('JJR', 295), ('SYM', 289), ('(', 252), ('EX', 180), ('NNPS', 146), ('JJS', 129), ('RBR', 125), ('$', 100), ('RBS', 68), ('PDT', 66), ('RP', 59), ('R', 34), ('WP$', 30), ('UH', 23), ('FW', 16), ('#', 4)]\n"
     ]
    }
   ],
   "source": [
    "mostCo=fd2.most_common(64+100)\n",
    "print(mostCo)\n",
    "moscCo = [mostCo[i][0] for i in range (len(mostCo))]\n",
    "#bag_words = [ x for x in moscCo if not x in list(GramAmbig)] "
   ]
  },
  {
   "cell_type": "code",
   "execution_count": 72,
   "metadata": {},
   "outputs": [
    {
     "name": "stdout",
     "output_type": "stream",
     "text": [
      "Bolsa de palabras \n",
      "     ['NN', 'IN', 'JJ', 'DT', 'NNP', 'PRP', ',', 'VB', 'NNS', '.', 'TO', 'RB', 'VBZ', 'CC', 'VBD', 'VBP', 'VBG', 'VBN', '``', 'MD', 'CD', 'PRP$', ':', \"''\", 'WRB', '\"', 'POS', 'WP', 'WDT', 'JJR', 'SYM', '(', 'EX', 'NNPS', 'JJS', 'RBR', '$', 'RBS', 'PDT', 'RP', 'R', 'WP$', 'UH', 'FW', '#'] \n",
      "Tamano de la bolsa de palabras :   45\n"
     ]
    }
   ],
   "source": [
    "print(\"Bolsa de palabras \\n    \",moscCo,\"\\nTamano de la bolsa de palabras :  \",len(moscCo))"
   ]
  },
  {
   "cell_type": "markdown",
   "metadata": {},
   "source": [
    "#### El siguiente punto es crear un diccionario para la bolsa de \"POS\" de la misma manera que la bolsa de palabras"
   ]
  },
  {
   "cell_type": "code",
   "execution_count": 73,
   "metadata": {},
   "outputs": [],
   "source": [
    "features_Pos = {}\n",
    "for i in range(len(moscCo)):\n",
    "    features_Pos[moscCo[i]] = False"
   ]
  },
  {
   "cell_type": "code",
   "execution_count": 74,
   "metadata": {},
   "outputs": [
    {
     "name": "stdout",
     "output_type": "stream",
     "text": [
      "{'NN': False, 'IN': False, 'JJ': False, 'DT': False, 'NNP': False, 'PRP': False, ',': False, 'VB': False, 'NNS': False, '.': False, 'TO': False, 'RB': False, 'VBZ': False, 'CC': False, 'VBD': False, 'VBP': False, 'VBG': False, 'VBN': False, '``': False, 'MD': False, 'CD': False, 'PRP$': False, ':': False, \"''\": False, 'WRB': False, '\"': False, 'POS': False, 'WP': False, 'WDT': False, 'JJR': False, 'SYM': False, '(': False, 'EX': False, 'NNPS': False, 'JJS': False, 'RBR': False, '$': False, 'RBS': False, 'PDT': False, 'RP': False, 'R': False, 'WP$': False, 'UH': False, 'FW': False, '#': False}\n"
     ]
    }
   ],
   "source": [
    "print(features_Pos)"
   ]
  },
  {
   "cell_type": "markdown",
   "metadata": {},
   "source": [
    "### Las caracteristicas que propongo igual son bigramas antes y despues de la palabra ambigua pero ya no de palabras, sino de partes de la oracion. Para lo cual de igual manera que el segundo tipo de caracteristicas, creo un diccioario que contenga los bigramas \"POS\" ----- > \"previous   next \"."
   ]
  },
  {
   "cell_type": "code",
   "execution_count": 75,
   "metadata": {},
   "outputs": [],
   "source": [
    "dic_car3 = {} \n",
    "for i in range(len(prev)):\n",
    "    if len(prev[i]) ==2:\n",
    "        dic_car3[\"previous(\"+prev[i][0][1] + \" \"+prev[i][1][1]+\")\"] = False\n",
    "    elif len(prev[i]) ==1:\n",
    "        dic_car3[\"previous(\"+prev[i][0][1]+\")\"] = False\n",
    "    if len(fut[i])==2:\n",
    "        dic_car3[\"next(\"+fut[i][0][1] + \" \"+fut[i][1][1]+\")\"] = False\n",
    "    if len(fut[i])==1:\n",
    "         dic_car3[\"next(\"+fut[i][0][1] +\")\"] = False"
   ]
  },
  {
   "cell_type": "code",
   "execution_count": 76,
   "metadata": {
    "scrolled": true
   },
   "outputs": [
    {
     "name": "stdout",
     "output_type": "stream",
     "text": [
      "{'previous(DT VBZ)': False, 'next(TO VB)': False, 'previous(VBG DT)': False, 'next(NN VBG)': False, 'previous(VBP PRP)': False, 'previous(, DT)': False, 'next(NN IN)': False, 'previous(NN VBZ)': False, 'next(RB ,)': False, 'previous(VBP VBN)': False, 'previous(VB DT)': False, 'next(NNS IN)': False, 'previous(PRP VBZ)': False, 'previous(MD VB)': False, 'next(RB TO)': False, 'previous(VBZ PRP)': False, 'next(VBG NNP)': False, 'next(JJ JJ)': False, 'previous(VBD RB)': False, 'next(IN PRP)': False, 'previous(CC DT)': False, 'next(NN VBZ)': False, 'previous(IN DT)': False, 'next(NN ,)': False, 'previous(DT NN)': False, 'next(.)': False, 'previous(VBN RB)': False, 'next(IN NNS)': False, 'next(IN DT)': False, 'previous(JJ CC)': False, 'previous(VBG SYM)': False, 'previous(VBZ RB)': False, 'previous(NN NN)': False, 'previous(VBP DT)': False, 'next(NNS VBD)': False, 'previous(VBZ VBN)': False, 'next(IN NNP)': False, 'previous(PRP VBD)': False, 'previous(VBG PRP)': False, 'next(IN RB)': False, 'previous(NNS VBP)': False, 'next(RB VBG)': False, 'previous(RP IN)': False, 'next(NN NNP)': False, 'previous(VB PRP)': False, 'next(JJ NN)': False, 'previous(NN IN)': False, 'next(JJ CD)': False, 'previous(TO VB)': False, 'next(, \")': False, 'previous(VBD DT)': False, 'next(CD .)': False, 'previous(VBZ DT)': False, 'previous(RB PRP$)': False, 'next(VBD JJ)': False, 'previous(PRP RB)': False, 'next(NNS WDT)': False, 'next(TO RB)': False, 'previous(DT RB)': False, 'previous(VBD PRP)': False, 'previous(PRP VBP)': False, 'previous(DT JJ)': False, 'next(, DT)': False, 'next(VBG DT)': False, 'previous(NNP JJ)': False, 'next(NN TO)': False, 'previous(NN RB)': False, 'next(, JJ)': False, 'previous(NN DT)': False, 'previous(, VBD)': False, 'previous(VBN PRP)': False, 'next(PRP MD)': False, 'previous(CC RB)': False, 'next(NNS VB)': False, 'next(NN PRP)': False, 'previous(NNP VBD)': False, 'next(, CC)': False, 'previous(TO RB)': False, 'next(JJ NNS)': False, 'previous(VBP RB)': False, 'next(WRB PRP)': False, 'previous(IN CD)': False, 'next(NNS :)': False, 'next(: CC)': False, 'previous(NN VBD)': False, 'previous(VBG RB)': False, 'next(NN .)': False, 'previous(CC VBG)': False, 'previous(IN JJ)': False, 'next(RB .)': False, 'previous(VBZ JJ)': False, 'next(CC VB)': False, 'next(TO NN)': False, 'previous(NNS CC)': False, 'next(VB .)': False, 'previous(NNP VBZ)': False, 'next(, RB)': False, 'previous(RB VB)': False, 'previous(VB RB)': False, 'previous(RB IN)': False, 'previous(NNS VBZ)': False, 'previous(WDT VBZ)': False, 'previous(IN VBG)': False, 'next(NNS .)': False, 'previous(IN WRB)': False, 'previous(VBN DT)': False, 'next(NN DT)': False, 'previous(RB DT)': False, 'previous(MD DT)': False, 'next(NN VB)': False, 'previous(WP VBZ)': False, 'previous(, RB)': False, 'next(NNS TO)': False, 'next(IN NNPS)': False, 'next(, IN)': False, 'previous(VB IN)': False, 'next(, VBZ)': False, 'next(CD :)': False, 'previous(PRP WRB)': False, 'next(DT NN)': False, 'previous(PRP JJ)': False, \"previous('' VBP)\": False, 'next(CC JJ)': False, 'previous(PRP ,)': False, 'previous(VBP WRB)': False, 'next(PRP VBZ)': False, 'next(, VBG)': False, 'previous(, CC)': False, 'previous(POS NN)': False, 'previous(NNS RB)': False, 'previous(RB VBD)': False, 'previous(NN VBP)': False, 'previous(JJ NN)': False, 'previous(JJ ,)': False, 'previous(NN JJ)': False, 'previous(NNS VBD)': False, 'previous(RB RB)': False, 'previous(VBZ VBG)': False, 'previous(`` DT)': False, 'next(NN JJ)': False, 'previous(IN PRP$)': False, 'previous(VB VBN)': False, 'next(NNS JJ)': False, 'previous(( DT)': False, \"next(. '')\": False, 'previous(VBG PRP$)': False, 'next(VBD NN)': False, \"previous('' VBD)\": False, 'previous(RB VBZ)': False, 'next(, MD)': False, 'previous(WDT VBP)': False, 'previous(VBZ IN)': False, 'next(IN NN)': False, 'next(WRB DT)': False, 'previous(VBZ NN)': False, 'previous(CC VBZ)': False, 'previous(VBG NN)': False, 'previous(VBD VBN)': False, 'next(IN JJ)': False, 'previous(IN RB)': False, 'previous(VBN JJ)': False, 'previous(VB VBZ)': False, 'previous(NN NNS)': False, 'previous(, VBG)': False, 'previous(RB WRB)': False, 'next(VBZ PRP)': False, 'next(RB IN)': False, 'next(NNP NNP)': False, 'next(IN PRP$)': False, 'previous(RB JJ)': False, 'previous(: DT)': False, 'next(NN :)': False, 'previous(, VBZ)': False, 'next(IN WRB)': False, 'next(TO JJ)': False, 'previous(VBD JJ)': False, 'next(IN VBG)': False, 'next(CC RB)': False, 'previous(VBZ WRB)': False, 'next(NN RB)': False, 'next(NNS ,)': False, 'previous(CC VBD)': False, 'next(NNS VBZ)': False, 'previous(NNP NNP)': False, 'next(CD TO)': False, 'previous(DT VBN)': False, 'previous(VBG VBZ)': False, 'next(RB :)': False, 'next(IN RBS)': False, 'previous(, WRB)': False, 'next(VBD PRP)': False, 'previous(VB CC)': False, 'next(`` IN)': False, 'next(TO ``)': False, 'previous(VBP :)': False, 'next(VBG PDT)': False, 'previous(NNS DT)': False, 'next(CC VBN)': False, 'previous(CD VBZ)': False, 'previous(NN WRB)': False, 'previous(JJR CC)': False, 'previous(NN PRP)': False, 'previous(TO DT)': False, 'next(JJ VBZ)': False, 'next(NNS VBP)': False, 'previous(PRP VBN)': False, 'previous(NN POS)': False, 'previous(CC JJ)': False, 'previous(JJ VBZ)': False, 'next(PRP VBD)': False, 'previous(VBP IN)': False, 'previous(NN CC)': False, 'previous(VBP ,)': False, 'previous(NN VB)': False, 'next(VBZ DT)': False, 'previous(: WRB)': False, 'next(MD WDT)': False, 'next(NN WP)': False, 'next(PRP VBP)': False, 'next(, PRP)': False, 'next(NN VBD)': False, 'previous(VBD NNS)': False, 'next(NN MD)': False, 'previous(( VB)': False, 'previous(VB NN)': False, 'previous(NNS IN)': False, 'next(: JJ)': False, 'next(NN WRB)': False, 'previous(JJ DT)': False, 'previous(JJ TO)': False, 'next(, PDT)': False, 'previous(DT VBP)': False, 'next(IN IN)': False, 'previous(RB VBN)': False, 'previous(CC VBP)': False, 'previous(WDT VBD)': False, 'previous(, IN)': False, 'next(R JJ)': False, 'previous(`` WRB)': False, 'next(( IN)': False, 'previous(IN JJS)': False, 'previous(IN NNS)': False, 'previous(NNP VB)': False, 'next(SYM .)': False, 'previous(NNS TO)': False, 'next(NNS RB)': False, 'previous(IN NN)': False, 'previous(PRP$ JJ)': False, 'previous(JJS NN)': False, 'previous(DT VBD)': False, 'previous(VBG IN)': False, 'previous(WRB RB)': False, 'previous(VBP VBG)': False, 'previous(NN ,)': False, 'next(IN JJR)': False, 'next(CC PRP)': False, 'previous(CD IN)': False, 'next(VBZ VBG)': False, 'next(: NN)': False, 'previous(PDT DT)': False, 'next(CC NNS)': False, 'next(NN CC)': False, 'previous(VBD WRB)': False, 'previous(VB WRB)': False, 'previous(VBP JJ)': False, 'previous(VB JJ)': False, 'previous(VB PRP$)': False, 'previous(PRP DT)': False, 'previous(IN ``)': False, \"next('' CC)\": False, 'next(DT NNS)': False, 'previous(VBG JJ)': False, 'previous(NNP VBG)': False, 'next(DT IN)': False, 'previous(, VBP)': False, 'next(( RB)': False, 'previous(RB ,)': False, 'next(, RBR)': False, 'next(NNS PRP)': False, 'previous(VBN NN)': False, 'next(IN WP)': False, 'previous(VBG NNS)': False, 'previous(VB NNS)': False, 'previous(DT DT)': False, 'previous(NN VBG)': False, \"next(NN '')\": False, 'previous(EX VBZ)': False, 'previous(JJ IN)': False, 'previous(DT ``)': False, \"next(NNS '')\": False, 'next(NN WDT)': False, 'previous(NN VBN)': False, 'next(DT VBZ)': False, 'previous(PRP$ NN)': False, 'previous(EX VBP)': False, 'next(NNS VBN)': False, 'next(NN POS)': False, 'previous(VBD ``)': False, 'previous(VBD IN)': False, 'previous(CD NNS)': False, 'previous(DT NNS)': False, 'previous(POS WRB)': False, 'previous(NNS JJ)': False, 'previous(NNP ,)': False, 'previous(CC NNS)': False, 'next(VBZ WP)': False, 'next(CD NNS)': False, 'next(: EX)': False, 'next(CC RBR)': False, 'next(NNS CC)': False, 'previous(CC VB)': False, 'previous(VBN VBZ)': False, 'previous(RB CC)': False, 'previous(VBD NN)': False, 'next(NN NN)': False, 'previous(JJ NNS)': False, 'previous(VBZ NNS)': False, 'next(VBN IN)': False, 'previous(VB ,)': False, 'previous(RB VBG)': False, 'next(WRB NNP)': False, 'previous(MD VBP)': False, 'previous(CC ``)': False, 'previous(: RB)': False, 'previous(CD NN)': False, 'previous(VBG CC)': False, 'previous(NNP POS)': False, 'previous(VBN IN)': False, 'previous(: IN)': False, 'previous(JJR ,)': False, 'previous(SYM VBD)': False, 'next(NN NNS)': False, 'next(NNS DT)': False, 'previous(VBZ VBZ)': False, 'previous(NNP DT)': False, 'previous(NNS POS)': False, 'previous(CC NN)': False, 'next(MD PRP)': False, 'previous(NNP VBP)': False, 'next(JJ JJS)': False, 'next(, TO)': False, 'next(TO ()': False, 'next(, NNP)': False, 'previous(: VBP)': False, \"next('' :)\": False, 'previous(VBN CC)': False, 'next(NNS NN)': False, 'previous(RB TO)': False, 'previous(IN VBZ)': False, 'next(VBG PRP$)': False, 'next(CC PRP$)': False, 'previous(NNS WRB)': False, 'next(: RB)': False, 'next(TO IN)': False, 'next(CC VBG)': False, 'previous(NN WP)': False, 'next(NNS MD)': False, 'previous(VBG NNP)': False, 'previous(NNP :)': False, 'previous(PRP VBG)': False, 'next(VBG VBN)': False, 'previous(NNP NNS)': False, 'next(CC RBS)': False, 'previous(VBP NN)': False, 'next(WRB PRP$)': False, 'next(CC IN)': False, 'previous(RB VBP)': False, 'next(VBD .)': False, 'next(VBG TO)': False, 'previous(VBZ TO)': False, 'next(VBN TO)': False, 'previous(CC WRB)': False, 'next(MD NN)': False, 'next(VBP DT)': False, 'previous(VBN WRB)': False, 'next(WDT MD)': False, 'next(NN SYM)': False, 'next(: DT)': False, 'previous(, NN)': False, 'previous(VBN CD)': False, 'previous(NN :)': False, 'previous(PRP$ NNS)': False, 'next(CD IN)': False, 'previous(DT IN)': False, 'previous(VBD VBG)': False, 'next(WRB NNS)': False, 'next(: JJR)': False, 'previous(CC PRP$)': False, 'previous(WP VBD)': False, 'previous(WDT DT)': False, 'next(RB JJ)': False, \"next(TO '')\": False, 'previous(JJS CC)': False, 'next(CC JJS)': False, 'previous(: VBZ)': False, 'next(( JJ)': False, 'next(WRB NN)': False, \"next(RB '')\": False, 'next(VB PRP$)': False, 'next(, VBN)': False, 'next(VBD NNS)': False, 'previous(VBN PRP$)': False, 'previous(, RBR)': False, 'next(NN VBP)': False, 'previous(VBD CC)': False, 'previous(NNP IN)': False, 'previous(NN TO)': False, 'next(VBN VB)': False, \"next('' NN)\": False, 'next(NN VBN)': False, 'previous(NN SYM)': False, 'next(TO DT)': False, 'previous(WRB JJ)': False, 'previous(VB VBG)': False, 'next(NN ``)': False, 'next(PRP$ NN)': False, 'previous(WP IN)': False, \"next('' NNS)\": False, 'previous(\" VBG)': False, 'previous(IN IN)': False, 'previous(PRP IN)': False, 'previous(WRB DT)': False, 'previous(VBP ``)': False, 'previous(NNP CC)': False, 'next(NN ()': False, 'next(NNS WRB)': False, 'previous(: CC)': False, \"previous('' VBZ)\": False, 'previous(, JJ)': False, 'previous(DT PRP$)': False, 'previous(PRP$ DT)': False, 'previous(VBG VBP)': False, 'previous(NNS ,)': False, 'next(NN CD)': False, 'previous(VBG POS)': False, 'previous(JJ POS)': False, 'previous(VBN TO)': False, \"previous('' IN)\": False, 'next(, NN)': False, 'next(CC VBD)': False, 'previous(NNS :)': False, 'previous(CC IN)': False, 'previous(VBZ PRP$)': False, 'next(NNP NN)': False, 'next(, ``)': False, 'next(VBD NNP)': False, 'next(JJ :)': False, 'next(, VBD)': False, 'next(VBN NNS)': False, 'previous(RBR JJ)': False, 'next(NNS NNS)': False, 'next(NNP .)': False, 'next(VBN ,)': False, 'next(: PRP)': False, 'next(VBN CC)': False, 'previous(JJS JJ)': False, 'next(NN JJS)': False, 'previous(, CD)': False, 'next(VBD ,)': False, 'next(: PRP$)': False, 'next(: NNP)': False, 'previous(VBP RBR)': False, 'previous(VBN VBG)': False, 'previous(NNS VBG)': False, 'next(VBN NN)': False, 'previous(VBD PRP$)': False, 'next(NNP NNS)': False, 'previous(NNP .)': False, 'previous(JJR IN)': False, 'next(VBD PRP$)': False, 'previous(, VBN)': False, 'previous(CD NNP)': False, 'previous(TO PRP$)': False, 'previous(IN VBN)': False, 'next(VB NNS)': False, 'previous(, ``)': False, 'next(WRB VBN)': False, 'previous(. CD)': False, 'previous(( JJS)': False, 'previous(( VBZ)': False, 'next(SYM ,)': False, 'next(CC NN)': False, 'next(CC MD)': False, 'previous(. NN)': False, 'previous(, \")': False, 'next(. SYM)': False}\n"
     ]
    }
   ],
   "source": [
    "print(dic_car3)"
   ]
  },
  {
   "cell_type": "code",
   "execution_count": 77,
   "metadata": {},
   "outputs": [
    {
     "name": "stdout",
     "output_type": "stream",
     "text": [
      "{'NN': False, 'IN': False, 'JJ': False, 'DT': False, 'NNP': False, 'PRP': False, ',': False, 'VB': False, 'NNS': False, '.': False, 'TO': False, 'RB': False, 'VBZ': False, 'CC': False, 'VBD': False, 'VBP': False, 'VBG': False, 'VBN': False, '``': False, 'MD': False, 'CD': False, 'PRP$': False, ':': False, \"''\": False, 'WRB': False, '\"': False, 'POS': False, 'WP': False, 'WDT': False, 'JJR': False, 'SYM': False, '(': False, 'EX': False, 'NNPS': False, 'JJS': False, 'RBR': False, '$': False, 'RBS': False, 'PDT': False, 'RP': False, 'R': False, 'WP$': False, 'UH': False, 'FW': False, '#': False}\n",
      "False\n"
     ]
    }
   ],
   "source": [
    "print(features_Pos)\n",
    "print(features_Pos[prev[0][0][1]])"
   ]
  },
  {
   "cell_type": "markdown",
   "metadata": {},
   "source": [
    "#### El paso final es crear el vector de caracteristicas de los bigramas \"POS\", el procedimiento es el mismo que para los bigramas de palabras."
   ]
  },
  {
   "cell_type": "code",
   "execution_count": 78,
   "metadata": {
    "scrolled": true
   },
   "outputs": [],
   "source": [
    "carac_2_pos_ant = []\n",
    "carac_2_pos_desp = []\n",
    "\n",
    "for it in range(len(prev)):\n",
    "    aux_dict = features_Pos.copy()\n",
    "    aux_dict2 = features_Pos.copy()\n",
    "    l=0\n",
    "    try:\n",
    "        if prev[it][0][1] in aux_dict:\n",
    "            aux_dict[prev[it][0][1]] = True\n",
    "    except:\n",
    "        l+=1\n",
    "    try:\n",
    "        if prev[it][1][1] in aux_dict:\n",
    "            aux_dict[prev[it][1][1]] = True\n",
    "    except:\n",
    "        l+=1 \n",
    "    try:\n",
    "        if fut[it][0][1] in aux_dict2 :\n",
    "            aux_dict2[fut[it][0][1]] = True\n",
    "    except:\n",
    "        l+=1 \n",
    "    try:\n",
    "        if fut[it][1][1] in aux_dict2 :\n",
    "            aux_dict2[fut[it][1][1]] = True\n",
    "    except:\n",
    "        l+=1 \n",
    "    carac_2_pos_ant.append(list(aux_dict.values()))\n",
    "    carac_2_pos_desp.append(list(aux_dict2.values()))"
   ]
  },
  {
   "cell_type": "code",
   "execution_count": 79,
   "metadata": {},
   "outputs": [
    {
     "name": "stdout",
     "output_type": "stream",
     "text": [
      "Caracterisiticas usando bigramagas pasados a binario para las 5 primeras isntancias del corpus de las caracterisiticas 'POS' de las partes de la oracion \n",
      "\n",
      "Vector de caracteristicas previas a la palabra ambigua usando 'POS' de las partes de la oracion \n",
      "\n",
      "[0, 0, 0, 1, 0, 0, 0, 0, 0, 0, 0, 0, 1, 0, 0, 0, 0, 0, 0, 0, 0, 0, 0, 0, 0, 0, 0, 0, 0, 0, 0, 0, 0, 0, 0, 0, 0, 0, 0, 0, 0, 0, 0, 0, 0]\n",
      "[0, 0, 0, 1, 0, 0, 0, 0, 0, 0, 0, 0, 0, 0, 0, 0, 1, 0, 0, 0, 0, 0, 0, 0, 0, 0, 0, 0, 0, 0, 0, 0, 0, 0, 0, 0, 0, 0, 0, 0, 0, 0, 0, 0, 0]\n",
      "[0, 0, 0, 0, 0, 1, 0, 0, 0, 0, 0, 0, 0, 0, 0, 1, 0, 0, 0, 0, 0, 0, 0, 0, 0, 0, 0, 0, 0, 0, 0, 0, 0, 0, 0, 0, 0, 0, 0, 0, 0, 0, 0, 0, 0]\n",
      "[0, 0, 0, 1, 0, 0, 1, 0, 0, 0, 0, 0, 0, 0, 0, 0, 0, 0, 0, 0, 0, 0, 0, 0, 0, 0, 0, 0, 0, 0, 0, 0, 0, 0, 0, 0, 0, 0, 0, 0, 0, 0, 0, 0, 0]\n",
      "[1, 0, 0, 0, 0, 0, 0, 0, 0, 0, 0, 0, 1, 0, 0, 0, 0, 0, 0, 0, 0, 0, 0, 0, 0, 0, 0, 0, 0, 0, 0, 0, 0, 0, 0, 0, 0, 0, 0, 0, 0, 0, 0, 0, 0]\n",
      "\n",
      "Vector de caracteristicas post a la palabra ambigua\n",
      "\n",
      "[0, 0, 0, 0, 0, 0, 0, 1, 0, 0, 1, 0, 0, 0, 0, 0, 0, 0, 0, 0, 0, 0, 0, 0, 0, 0, 0, 0, 0, 0, 0, 0, 0, 0, 0, 0, 0, 0, 0, 0, 0, 0, 0, 0, 0]\n",
      "[1, 0, 0, 0, 0, 0, 0, 0, 0, 0, 0, 0, 0, 0, 0, 0, 1, 0, 0, 0, 0, 0, 0, 0, 0, 0, 0, 0, 0, 0, 0, 0, 0, 0, 0, 0, 0, 0, 0, 0, 0, 0, 0, 0, 0]\n",
      "[0, 0, 0, 0, 0, 0, 0, 1, 0, 0, 1, 0, 0, 0, 0, 0, 0, 0, 0, 0, 0, 0, 0, 0, 0, 0, 0, 0, 0, 0, 0, 0, 0, 0, 0, 0, 0, 0, 0, 0, 0, 0, 0, 0, 0]\n",
      "[1, 1, 0, 0, 0, 0, 0, 0, 0, 0, 0, 0, 0, 0, 0, 0, 0, 0, 0, 0, 0, 0, 0, 0, 0, 0, 0, 0, 0, 0, 0, 0, 0, 0, 0, 0, 0, 0, 0, 0, 0, 0, 0, 0, 0]\n",
      "[0, 0, 0, 0, 0, 0, 1, 0, 0, 0, 0, 1, 0, 0, 0, 0, 0, 0, 0, 0, 0, 0, 0, 0, 0, 0, 0, 0, 0, 0, 0, 0, 0, 0, 0, 0, 0, 0, 0, 0, 0, 0, 0, 0, 0]\n"
     ]
    }
   ],
   "source": [
    "print(\"Caracterisiticas usando bigramagas pasados a binario para las 5 primeras isntancias del corpus de las caracterisiticas 'POS' de las partes de la oracion \\n\")\n",
    "print(\"Vector de caracteristicas previas a la palabra ambigua usando 'POS' de las partes de la oracion \\n\")\n",
    "for ji in range(5):\n",
    "    print([1*carac_2_pos_ant[ji][i] for i in range(len(carac_2_pos_ant[ji]))])\n",
    "print(\"\\nVector de caracteristicas post a la palabra ambigua\\n\")\n",
    "for ji in range(5):\n",
    "    print([1*carac_2_pos_desp[ji][i] for i in range(len(carac_2_pos_desp[ji]))])"
   ]
  },
  {
   "cell_type": "markdown",
   "metadata": {},
   "source": [
    "### RESUMEN : \n",
    "    CARACTERISITICAS :\n",
    "        - 1.- BOLSA DE PALABRAS VECTOR DE TAMAÑO 64 (PALABRAS MASS COMUNES), TIENE LA INFORMACION DE TODA LA ORACION DE CADA INSTANCIA\n",
    "        - 2.- BIGRAMAS- 2 VECOTRES DE TAMAÑO 64 (UNO PARA REPRESENTAR LAS 2 PALABRAS ANTES DE LA PALABRA AMBIGUA, Y EL OTRO VECTOR PARA LAS 2 SIGUIENTES) EN TOTAL UN VECTOR DE TAMAÑO 128\n",
    "        - 3.- BIGRAMAS DE \"POS PARTES DE LA ORACION\", DE LA MISMA FORMA 2 VECTORES DE TAMAÑO 45 QUE REPRESENTAN LOS DOS \"pos\" antes y despues de la palabra ambigua, EN TOTAL UN VECTOR DE TAM 90.\n",
    "        \n",
    "    PARA EL SISTEMA DE CLASIFICADOR:\n",
    "    \n",
    "    1-  USAR LA BOLSA DE PALABRAS LA ENTRADA DEL SISTEMA Tamaño de entrada =  250\n",
    "    2.- USAR LOS BIGRAMAS DE PALABRAS - ENTRADA DEL SISTEMA Tamaño de entrada = 500\n",
    "    3.- USAR LOS BIGRAMAS DE PALABRAS Y BIGRAMAS DE LOS \"POS\" partes de la oracion entrada del sistema Tamaño de entrada = 500+90 = 590"
   ]
  },
  {
   "cell_type": "markdown",
   "metadata": {},
   "source": [
    "### A manera de comprobacion, los tamaños de las listas deben ser iguales tanto para las diferentes tipos de entradas (Caracteristicas), como para las salidas"
   ]
  },
  {
   "cell_type": "code",
   "execution_count": 80,
   "metadata": {},
   "outputs": [
    {
     "name": "stdout",
     "output_type": "stream",
     "text": [
      "tamaño de vector caract bigramas 'pos' : 4333 4333 \n",
      "Tamano de brigramas palabras :  4333 4333 \n",
      "Tamano bolsa de palabras:  4333 \n",
      "Tamano de salidas :  4333\n"
     ]
    }
   ],
   "source": [
    "print(\"tamaño de vector caract bigramas 'pos' :\",len(carac_2_pos_ant),len(carac_2_pos_desp),\"\\nTamano de brigramas palabras : \",\n",
    "      len(carac_2_ant),len(carac_2_desp),\"\\nTamano bolsa de palabras: \",len(carac_1),\"\\nTamano de salidas : \",len(salidas_1))"
   ]
  },
  {
   "cell_type": "markdown",
   "metadata": {},
   "source": [
    "## Parte 3: entrenamiento de clasificadores\n",
    "\n",
    "Debes a aprender diferentes clasificadores que permitan desambiguar las palabras ambiguas en inglés «hard», «interest», «line» y «serve». Además, vas a tener que evaluar el desempeño de los clasificadores creados. Por lo tanto, debes crear el código en Python que te permita entrenar estos clasificadores y evaluarlos. \n",
    "\n",
    "El tipo de clasificador que vas a utilizar en este laboratorio es el Naive Bayes. Para importar el clasificador y el paquete que te permita evaluar su rendimiento debes utilizar el siguiente comando:"
   ]
  },
  {
   "cell_type": "code",
   "execution_count": 81,
   "metadata": {},
   "outputs": [],
   "source": [
    "from nltk.classify import accuracy, NaiveBayesClassifier"
   ]
  },
  {
   "cell_type": "markdown",
   "metadata": {},
   "source": [
    "Una vez hayas importado los paquetes anteriores, para entrenar un clasificador Naïve Bayes puedes usar el comando `NaiveBayesClassifier.train()` y para evaluarlo `accuracy()`. Además, puedes utilizar el clasificador entrenado para clasificar una instancia utilizando su método `classify()`. Por último, puedes obtener la matriz de confusión utilizando el comando `nltk.ConfusionMatrix()`."
   ]
  },
  {
   "cell_type": "markdown",
   "metadata": {},
   "source": [
    "Ejemplo de clasificación para el corpus Movie Reviews"
   ]
  },
  {
   "cell_type": "code",
   "execution_count": 82,
   "metadata": {},
   "outputs": [],
   "source": [
    "#nltk.download('movie_reviews')\n",
    "from nltk.corpus import movie_reviews"
   ]
  },
  {
   "cell_type": "code",
   "execution_count": 83,
   "metadata": {},
   "outputs": [],
   "source": [
    "documents = [(list(movie_reviews.words(fileid)), category)\n",
    "    for category in movie_reviews.categories()\n",
    "    for fileid in movie_reviews.fileids(category)]"
   ]
  },
  {
   "cell_type": "code",
   "execution_count": 84,
   "metadata": {},
   "outputs": [],
   "source": [
    "all_words = nltk.FreqDist(w.lower() for w in movie_reviews.words())"
   ]
  },
  {
   "cell_type": "code",
   "execution_count": 85,
   "metadata": {},
   "outputs": [],
   "source": [
    "word_features = list(all_words)[:2000]"
   ]
  },
  {
   "cell_type": "code",
   "execution_count": 86,
   "metadata": {},
   "outputs": [],
   "source": [
    "def document_features(document): \n",
    "    # The reason that we compute the set of all words in a document in [3], rather than just checking if word in document, \n",
    "    # is that checking whether a word occurs in a set is much faster than checking whether it occurs in a list (4.7).\n",
    "    document_words = set(document) \n",
    "    features = {}\n",
    "    for word in word_features:\n",
    "        features[word] = (word in document_words)\n",
    "    return features"
   ]
  },
  {
   "cell_type": "code",
   "execution_count": 87,
   "metadata": {},
   "outputs": [],
   "source": [
    "featuresets = [(document_features(d), c) for (d,c) in documents]"
   ]
  },
  {
   "cell_type": "code",
   "execution_count": 88,
   "metadata": {
    "scrolled": true
   },
   "outputs": [],
   "source": [
    "#print(featuresets[0])"
   ]
  },
  {
   "cell_type": "code",
   "execution_count": 89,
   "metadata": {},
   "outputs": [],
   "source": [
    "train_set, test_set = featuresets[100:], featuresets[:100]"
   ]
  },
  {
   "cell_type": "code",
   "execution_count": 90,
   "metadata": {},
   "outputs": [],
   "source": [
    "classifier = NaiveBayesClassifier.train(train_set)"
   ]
  },
  {
   "cell_type": "code",
   "execution_count": 91,
   "metadata": {},
   "outputs": [
    {
     "name": "stdout",
     "output_type": "stream",
     "text": [
      "0.78\n"
     ]
    }
   ],
   "source": [
    "print(accuracy(classifier, test_set))"
   ]
  },
  {
   "cell_type": "code",
   "execution_count": 92,
   "metadata": {},
   "outputs": [
    {
     "data": {
      "text/plain": [
       "'neg'"
      ]
     },
     "execution_count": 92,
     "metadata": {},
     "output_type": "execute_result"
    }
   ],
   "source": [
    "classifier.classify(document_features(movie_reviews.words('pos/cv957_8737.txt')))"
   ]
  },
  {
   "cell_type": "code",
   "execution_count": 93,
   "metadata": {},
   "outputs": [
    {
     "data": {
      "text/plain": [
       "['capsule', ':', 'the', 'best', 'place', 'to', 'start', ...]"
      ]
     },
     "execution_count": 93,
     "metadata": {},
     "output_type": "execute_result"
    }
   ],
   "source": [
    "movie_reviews.words('pos/cv957_8737.txt')"
   ]
  },
  {
   "cell_type": "markdown",
   "metadata": {},
   "source": [
    "### Para la clasificacion del sistema :\n",
    "    -El objetivo del laboratorio es usar una clasificador NaiveBayes\n",
    "    -Mi propuesta es a manera de verificacion es tambien usar un clasificador Random Forest"
   ]
  },
  {
   "cell_type": "markdown",
   "metadata": {},
   "source": [
    "### Primero importamos el clasificador NaiveBayes de la libreria sklearn,  y creamos un modelo de clasificador \"NaiveBayes\""
   ]
  },
  {
   "cell_type": "code",
   "execution_count": 94,
   "metadata": {},
   "outputs": [],
   "source": [
    "import numpy as np\n",
    "from sklearn.naive_bayes import GaussianNB\n",
    "model = GaussianNB()"
   ]
  },
  {
   "cell_type": "markdown",
   "metadata": {},
   "source": [
    "### El primer objetivo de este tercer punto es utilizar la bolsa de palabras para conformar el clasificador, para ello necesitamos crear los vecotres de entrada y salida del sistema,\n",
    "    El modelo NaiveBayes necesita un vector de entrada y un vector de salida.\n",
    "    Para esta primera version, las entradas del modelo corresponden a la bolsa de palabras.\n",
    "    La salida del sistema corresponde a cada clase de la palabra a desambiguar"
   ]
  },
  {
   "cell_type": "code",
   "execution_count": 95,
   "metadata": {},
   "outputs": [],
   "source": [
    "#X_data = np.array(carac_1).astype(int)\n",
    "X_data = np.argmax(np.array(carac_1).astype(int),axis=1)\n",
    "Y_data = np.array(salidas)"
   ]
  },
  {
   "cell_type": "code",
   "execution_count": 96,
   "metadata": {},
   "outputs": [
    {
     "name": "stdout",
     "output_type": "stream",
     "text": [
      "Tamaño de las entradas y salidas del sistema :  (4333,) 4333\n"
     ]
    }
   ],
   "source": [
    "print(\"Tamaño de las entradas y salidas del sistema : \",X_data.shape,len(salidas))"
   ]
  },
  {
   "cell_type": "markdown",
   "metadata": {},
   "source": [
    "### El siguiente paso es separar los datos en entrenamiento y evaluacion (80% entrenamiento 20% validacion):\n",
    "    Para ello utilizo una mascara que toma posiciones randomicas de los vecotres de entrada y salida del sistema, conformando asi los datos de entrenamiento y validacion"
   ]
  },
  {
   "cell_type": "code",
   "execution_count": 97,
   "metadata": {},
   "outputs": [],
   "source": [
    "msk = np.random.rand(len(X_data)) < 0.80\n",
    "trainX = X_data[msk]\n",
    "testX = X_data[~msk]\n",
    "trainY=Y_data[msk]\n",
    "testY=Y_data[~msk]"
   ]
  },
  {
   "cell_type": "markdown",
   "metadata": {},
   "source": [
    "### El siguiente paso corresponde a entrenar el sistema NaiveBayes utilizando la funcion (fit)"
   ]
  },
  {
   "cell_type": "code",
   "execution_count": 98,
   "metadata": {},
   "outputs": [
    {
     "data": {
      "text/plain": [
       "GaussianNB(priors=None, var_smoothing=1e-09)"
      ]
     },
     "execution_count": 98,
     "metadata": {},
     "output_type": "execute_result"
    }
   ],
   "source": [
    "model.fit(trainX.reshape(-1,1), trainY)"
   ]
  },
  {
   "cell_type": "markdown",
   "metadata": {},
   "source": [
    "### Una ves entrenado el modelo lo testeamos con los datos de validacion utilizando la funcion (predict), y almacenamos estos datos en una nueva variable"
   ]
  },
  {
   "cell_type": "code",
   "execution_count": 99,
   "metadata": {},
   "outputs": [],
   "source": [
    "y_pred = model.predict(testX.reshape(-1,1))"
   ]
  },
  {
   "cell_type": "code",
   "execution_count": 100,
   "metadata": {},
   "outputs": [
    {
     "name": "stdout",
     "output_type": "stream",
     "text": [
      "Comprobacion del tamaño de la variable predecida y la real, :  (867,) (867,)\n"
     ]
    }
   ],
   "source": [
    "print(\"Comprobacion del tamaño de la variable predecida y la real, : \",y_pred.shape,testY.shape)"
   ]
  },
  {
   "cell_type": "code",
   "execution_count": 101,
   "metadata": {},
   "outputs": [],
   "source": [
    "from sklearn.metrics import accuracy_score"
   ]
  },
  {
   "cell_type": "markdown",
   "metadata": {},
   "source": [
    "### Con la ayuda de la funcion accuracy_score de la libreria sklearn podemos calcular el radio de exito del modelo."
   ]
  },
  {
   "cell_type": "code",
   "execution_count": 102,
   "metadata": {},
   "outputs": [
    {
     "name": "stdout",
     "output_type": "stream",
     "text": [
      "Accurracy utilizando bolsa de palabras :  80.16147635524798 %\n"
     ]
    }
   ],
   "source": [
    "print(\"Accurracy utilizando bolsa de palabras : \",accuracy_score(testY,y_pred)*100,\"%\")"
   ]
  },
  {
   "cell_type": "markdown",
   "metadata": {},
   "source": [
    "### Para saber que tan eficiente es nuestro modelo, (saber si esta diferenciando bien entre clases) una buena opcion es recurrir a la matriz de confusion y a sus metricas\n",
    "    Mediante la libreria sklearn podemos importar la matriz de confusion y el calculo de las metricas de evaluacion"
   ]
  },
  {
   "cell_type": "code",
   "execution_count": 103,
   "metadata": {},
   "outputs": [
    {
     "data": {
      "text/plain": [
       "array([[695,   0,   0],\n",
       "       [103,   0,   0],\n",
       "       [ 69,   0,   0]], dtype=int64)"
      ]
     },
     "execution_count": 103,
     "metadata": {},
     "output_type": "execute_result"
    }
   ],
   "source": [
    "from sklearn.metrics import confusion_matrix\n",
    "from sklearn.metrics import classification_report \n",
    "confusion_matrix(testY,y_pred,labels=[\"HARD1\", \"HARD2\", \"HARD3\"])"
   ]
  },
  {
   "cell_type": "code",
   "execution_count": 104,
   "metadata": {},
   "outputs": [
    {
     "name": "stdout",
     "output_type": "stream",
     "text": [
      "              precision    recall  f1-score   support\n",
      "\n",
      "       HARD1       0.80      1.00      0.89       695\n",
      "       HARD2       0.00      0.00      0.00       103\n",
      "       HARD3       0.00      0.00      0.00        69\n",
      "\n",
      "    accuracy                           0.80       867\n",
      "   macro avg       0.27      0.33      0.30       867\n",
      "weighted avg       0.64      0.80      0.71       867\n",
      "\n"
     ]
    },
    {
     "name": "stderr",
     "output_type": "stream",
     "text": [
      "D:\\Programas\\Anaconda3\\envs\\PNL\\lib\\site-packages\\sklearn\\metrics\\_classification.py:1272: UndefinedMetricWarning: Precision and F-score are ill-defined and being set to 0.0 in labels with no predicted samples. Use `zero_division` parameter to control this behavior.\n",
      "  _warn_prf(average, modifier, msg_start, len(result))\n"
     ]
    }
   ],
   "source": [
    "print(classification_report(testY,y_pred))"
   ]
  },
  {
   "cell_type": "markdown",
   "metadata": {},
   "source": [
    "### Resumen : \n",
    "    Si bien es cierto el accuracy del modelo es del 80%, tambien podemos observar que el modelo generado no puede diferencia entre clases correctamente (Precision para las clases HARD2 y HARD3 igual a \"0\") (Puede ser porque existen muchos ejemplos de la clase HARD1, pero tambien podria ser que el modelo creado no es generalista es decir el modelo NaiveBayes no es el optimo). \n",
    "    \n",
    "    Por eso propongo usar otro tipo de clasificador para ver si mejoran estas metricas, en este caso uno de tipo random Forest, los pasos para crearlo es muy similar al naiveBayes, ya que la libreria es la misma sciklearn"
   ]
  },
  {
   "cell_type": "code",
   "execution_count": 105,
   "metadata": {
    "scrolled": true
   },
   "outputs": [
    {
     "name": "stderr",
     "output_type": "stream",
     "text": [
      "[Parallel(n_jobs=1)]: Using backend SequentialBackend with 1 concurrent workers.\n",
      "[Parallel(n_jobs=1)]: Done   1 out of   1 | elapsed:    0.0s remaining:    0.0s\n"
     ]
    },
    {
     "name": "stdout",
     "output_type": "stream",
     "text": [
      "building tree 1 of 100\n",
      "building tree 2 of 100\n",
      "building tree 3 of 100\n",
      "building tree 4 of 100\n",
      "building tree 5 of 100\n",
      "building tree 6 of 100\n",
      "building tree 7 of 100\n",
      "building tree 8 of 100\n",
      "building tree 9 of 100\n",
      "building tree 10 of 100\n",
      "building tree 11 of 100\n",
      "building tree 12 of 100\n",
      "building tree 13 of 100\n",
      "building tree 14 of 100\n",
      "building tree 15 of 100\n",
      "building tree 16 of 100\n",
      "building tree 17 of 100\n",
      "building tree 18 of 100\n",
      "building tree 19 of 100\n",
      "building tree 20 of 100\n",
      "building tree 21 of 100\n",
      "building tree 22 of 100\n",
      "building tree 23 of 100\n",
      "building tree 24 of 100\n",
      "building tree 25 of 100\n",
      "building tree 26 of 100\n",
      "building tree 27 of 100\n",
      "building tree 28 of 100\n",
      "building tree 29 of 100\n",
      "building tree 30 of 100\n",
      "building tree 31 of 100\n",
      "building tree 32 of 100\n",
      "building tree 33 of 100\n",
      "building tree 34 of 100\n",
      "building tree 35 of 100\n",
      "building tree 36 of 100\n",
      "building tree 37 of 100\n",
      "building tree 38 of 100\n",
      "building tree 39 of 100\n",
      "building tree 40 of 100\n",
      "building tree 41 of 100\n",
      "building tree 42 of 100\n",
      "building tree 43 of 100\n",
      "building tree 44 of 100\n",
      "building tree 45 of 100\n",
      "building tree 46 of 100\n",
      "building tree 47 of 100\n",
      "building tree 48 of 100\n",
      "building tree 49 of 100\n",
      "building tree 50 of 100\n",
      "building tree 51 of 100\n",
      "building tree 52 of 100\n",
      "building tree 53 of 100\n",
      "building tree 54 of 100\n",
      "building tree 55 of 100\n",
      "building tree 56 of 100\n",
      "building tree 57 of 100\n",
      "building tree 58 of 100\n",
      "building tree 59 of 100\n",
      "building tree 60 of 100\n",
      "building tree 61 of 100\n",
      "building tree 62 of 100\n",
      "building tree 63 of 100\n",
      "building tree 64 of 100\n",
      "building tree 65 of 100\n",
      "building tree 66 of 100\n",
      "building tree 67 of 100\n",
      "building tree 68 of 100\n",
      "building tree 69 of 100\n",
      "building tree 70 of 100\n",
      "building tree 71 of 100\n",
      "building tree 72 of 100\n",
      "building tree 73 of 100\n",
      "building tree 74 of 100\n",
      "building tree 75 of 100\n",
      "building tree 76 of 100\n",
      "building tree 77 of 100\n",
      "building tree 78 of 100\n",
      "building tree 79 of 100\n",
      "building tree 80 of 100\n",
      "building tree 81 of 100\n",
      "building tree 82 of 100\n",
      "building tree 83 of 100\n",
      "building tree 84 of 100\n",
      "building tree 85 of 100\n",
      "building tree 86 of 100\n",
      "building tree 87 of 100\n",
      "building tree 88 of 100\n",
      "building tree 89 of 100\n",
      "building tree 90 of 100\n",
      "building tree 91 of 100\n",
      "building tree 92 of 100\n",
      "building tree 93 of 100\n",
      "building tree 94 of 100\n",
      "building tree 95 of 100\n",
      "building tree 96 of 100\n",
      "building tree 97 of 100\n",
      "building tree 98 of 100\n",
      "building tree 99 of 100\n",
      "building tree 100 of 100\n"
     ]
    },
    {
     "name": "stderr",
     "output_type": "stream",
     "text": [
      "[Parallel(n_jobs=1)]: Done 100 out of 100 | elapsed:    4.3s finished\n"
     ]
    },
    {
     "data": {
      "text/plain": [
       "RandomForestClassifier(bootstrap=True, ccp_alpha=0.0, class_weight=None,\n",
       "                       criterion='gini', max_depth=None, max_features='sqrt',\n",
       "                       max_leaf_nodes=None, max_samples=None,\n",
       "                       min_impurity_decrease=0.0, min_impurity_split=None,\n",
       "                       min_samples_leaf=1, min_samples_split=2,\n",
       "                       min_weight_fraction_leaf=0.0, n_estimators=100,\n",
       "                       n_jobs=None, oob_score=False, random_state=None,\n",
       "                       verbose=2, warm_start=False)"
      ]
     },
     "execution_count": 105,
     "metadata": {},
     "output_type": "execute_result"
    }
   ],
   "source": [
    "from sklearn.ensemble import RandomForestClassifier\n",
    "X_data = np.array(carac_1).astype(int)\n",
    "Y_data = np.array(salidas)\n",
    "\n",
    "msk = np.random.rand(len(X_data)) < 0.80\n",
    "trainX = X_data[msk]\n",
    "testX = X_data[~msk]\n",
    "trainY=Y_data[msk]\n",
    "testY=Y_data[~msk]\n",
    "\n",
    "# Crear el modelo con 100 arboles\n",
    "model_C = RandomForestClassifier(n_estimators=100, \n",
    "                               bootstrap = True, verbose=2,\n",
    "                               max_features = 'sqrt')\n",
    "# a entrenar!\n",
    "model_C.fit(trainX,trainY)"
   ]
  },
  {
   "cell_type": "code",
   "execution_count": 106,
   "metadata": {},
   "outputs": [
    {
     "name": "stderr",
     "output_type": "stream",
     "text": [
      "[Parallel(n_jobs=1)]: Using backend SequentialBackend with 1 concurrent workers.\n",
      "[Parallel(n_jobs=1)]: Done   1 out of   1 | elapsed:    0.0s remaining:    0.0s\n",
      "[Parallel(n_jobs=1)]: Done 100 out of 100 | elapsed:    0.0s finished\n"
     ]
    },
    {
     "data": {
      "text/plain": [
       "84.21610169491525"
      ]
     },
     "execution_count": 106,
     "metadata": {},
     "output_type": "execute_result"
    }
   ],
   "source": [
    "pru_Y=model_C.predict(testX)\n",
    "accuracy_score(testY,pru_Y)*100"
   ]
  },
  {
   "cell_type": "code",
   "execution_count": 107,
   "metadata": {},
   "outputs": [
    {
     "name": "stdout",
     "output_type": "stream",
     "text": [
      "[[717  26  18]\n",
      " [ 53  59   1]\n",
      " [ 49   2  19]]\n",
      "              precision    recall  f1-score   support\n",
      "\n",
      "       HARD1       0.88      0.94      0.91       761\n",
      "       HARD2       0.68      0.52      0.59       113\n",
      "       HARD3       0.50      0.27      0.35        70\n",
      "\n",
      "    accuracy                           0.84       944\n",
      "   macro avg       0.68      0.58      0.62       944\n",
      "weighted avg       0.82      0.84      0.83       944\n",
      "\n"
     ]
    }
   ],
   "source": [
    "print(confusion_matrix(testY,pru_Y,labels=[\"HARD1\", \"HARD2\", \"HARD3\"]))\n",
    "print(classification_report(testY,pru_Y))"
   ]
  },
  {
   "cell_type": "markdown",
   "metadata": {},
   "source": [
    "### Resumen :\n",
    "    Este tipo de clasificador nos muestra un accuracy de 82% pero la precision para cada clase es mucho mejor que el naiveBayes, por lo cual podriamos asegurar que el modelo naiveBayes no es el optimo para resolver este problema.\n",
    "    \n",
    "    Por otra parte un accuracy del 82% es relativamente bajo para el problema, considerando que estamos usando la bolsa de palabras."
   ]
  },
  {
   "cell_type": "markdown",
   "metadata": {},
   "source": [
    "### CARACTERISTICAS DE COLOCACION (BIGRAMAS)"
   ]
  },
  {
   "cell_type": "markdown",
   "metadata": {},
   "source": [
    "### En este punto vo a crear un modelo de clasificacion usando las caracterisitcas de bigramas, para ello :\n",
    "    De la misma manera que el anterior clasificador, necesito crear los vectores de entrenamiento y test\n",
    "    \n",
    "    Ahora las entradas del sistema son los vectores de caracteristicas de (antes y despues de la palabra ambigua) tamaño ==> 500 "
   ]
  },
  {
   "cell_type": "code",
   "execution_count": 108,
   "metadata": {},
   "outputs": [],
   "source": [
    "carac2 = np.argmax(np.array(carac_2_ant).astype(int),axis=1)\n",
    "carac2_2 = np.argmax(np.array(carac_2_desp).astype(int),axis=1)"
   ]
  },
  {
   "cell_type": "code",
   "execution_count": 109,
   "metadata": {},
   "outputs": [],
   "source": [
    "X_data = np.array([[carac2[i],carac2_2[i]] for i in range (len(carac2_2))])\n",
    "Y_data = np.array(salidas)"
   ]
  },
  {
   "cell_type": "code",
   "execution_count": 110,
   "metadata": {},
   "outputs": [
    {
     "data": {
      "text/plain": [
       "((4333,), (4333, 2), 4333)"
      ]
     },
     "execution_count": 110,
     "metadata": {},
     "output_type": "execute_result"
    }
   ],
   "source": [
    "msk.shape,X_data.shape,len(carac2)"
   ]
  },
  {
   "cell_type": "code",
   "execution_count": 111,
   "metadata": {},
   "outputs": [],
   "source": [
    "msk = np.random.rand(len(X_data)) < 0.80\n",
    "trainX = X_data[msk]\n",
    "testX = X_data[~msk]\n",
    "trainY=Y_data[msk]\n",
    "testY=Y_data[~msk]"
   ]
  },
  {
   "cell_type": "code",
   "execution_count": 112,
   "metadata": {},
   "outputs": [],
   "source": [
    "model = GaussianNB()\n",
    "model.fit(trainX, trainY)\n",
    "y_pred = model.predict(testX)"
   ]
  },
  {
   "cell_type": "code",
   "execution_count": 113,
   "metadata": {},
   "outputs": [
    {
     "name": "stdout",
     "output_type": "stream",
     "text": [
      "Accurracy utilizando bigramas :  76.16822429906543 %\n"
     ]
    }
   ],
   "source": [
    "print(\"Accurracy utilizando bigramas : \",accuracy_score(testY,y_pred)*100,\"%\")"
   ]
  },
  {
   "cell_type": "code",
   "execution_count": 114,
   "metadata": {},
   "outputs": [
    {
     "data": {
      "text/plain": [
       "array([[642,  11,  26],\n",
       "       [104,   3,   1],\n",
       "       [ 61,   1,   7]], dtype=int64)"
      ]
     },
     "execution_count": 114,
     "metadata": {},
     "output_type": "execute_result"
    }
   ],
   "source": [
    "confusion_matrix(testY,y_pred,labels=[\"HARD1\", \"HARD2\", \"HARD3\"])"
   ]
  },
  {
   "cell_type": "code",
   "execution_count": 115,
   "metadata": {},
   "outputs": [
    {
     "name": "stdout",
     "output_type": "stream",
     "text": [
      "              precision    recall  f1-score   support\n",
      "\n",
      "       HARD1       0.80      0.95      0.86       679\n",
      "       HARD2       0.20      0.03      0.05       108\n",
      "       HARD3       0.21      0.10      0.14        69\n",
      "\n",
      "    accuracy                           0.76       856\n",
      "   macro avg       0.40      0.36      0.35       856\n",
      "weighted avg       0.67      0.76      0.70       856\n",
      "\n"
     ]
    }
   ],
   "source": [
    "print(classification_report(testY,y_pred))"
   ]
  },
  {
   "cell_type": "markdown",
   "metadata": {},
   "source": [
    "### Resumen :\n",
    "    Utilizando un sistema de caracterizacion con bigramas y un clasificador naivebayes se obtiene un acuracy de 77.56% pero de igual manera al observar las metricas de la matriz de confusion se puede observar que el sistema no generaliza\n",
    "    De la misma manera propongo utilizar otro sistema como es el de RANDOM FOREST "
   ]
  },
  {
   "cell_type": "code",
   "execution_count": 116,
   "metadata": {
    "scrolled": true
   },
   "outputs": [
    {
     "name": "stdout",
     "output_type": "stream",
     "text": [
      "4333 4333\n"
     ]
    },
    {
     "name": "stderr",
     "output_type": "stream",
     "text": [
      "[Parallel(n_jobs=1)]: Using backend SequentialBackend with 1 concurrent workers.\n",
      "[Parallel(n_jobs=1)]: Done   1 out of   1 | elapsed:    0.0s remaining:    0.0s\n"
     ]
    },
    {
     "name": "stdout",
     "output_type": "stream",
     "text": [
      "building tree 1 of 100\n",
      "building tree 2 of 100\n",
      "building tree 3 of 100\n",
      "building tree 4 of 100\n",
      "building tree 5 of 100\n",
      "building tree 6 of 100\n",
      "building tree 7 of 100\n",
      "building tree 8 of 100\n",
      "building tree 9 of 100\n",
      "building tree 10 of 100\n",
      "building tree 11 of 100\n",
      "building tree 12 of 100\n",
      "building tree 13 of 100\n",
      "building tree 14 of 100\n",
      "building tree 15 of 100\n",
      "building tree 16 of 100\n",
      "building tree 17 of 100\n",
      "building tree 18 of 100\n",
      "building tree 19 of 100\n",
      "building tree 20 of 100\n",
      "building tree 21 of 100\n",
      "building tree 22 of 100\n",
      "building tree 23 of 100\n",
      "building tree 24 of 100\n",
      "building tree 25 of 100\n",
      "building tree 26 of 100\n",
      "building tree 27 of 100\n",
      "building tree 28 of 100\n",
      "building tree 29 of 100\n",
      "building tree 30 of 100\n",
      "building tree 31 of 100\n",
      "building tree 32 of 100\n",
      "building tree 33 of 100\n",
      "building tree 34 of 100\n",
      "building tree 35 of 100\n",
      "building tree 36 of 100\n",
      "building tree 37 of 100\n",
      "building tree 38 of 100\n",
      "building tree 39 of 100\n",
      "building tree 40 of 100\n",
      "building tree 41 of 100\n",
      "building tree 42 of 100\n",
      "building tree 43 of 100\n",
      "building tree 44 of 100\n",
      "building tree 45 of 100\n",
      "building tree 46 of 100\n",
      "building tree 47 of 100\n",
      "building tree 48 of 100\n",
      "building tree 49 of 100\n",
      "building tree 50 of 100\n",
      "building tree 51 of 100\n",
      "building tree 52 of 100\n",
      "building tree 53 of 100\n",
      "building tree 54 of 100\n",
      "building tree 55 of 100\n",
      "building tree 56 of 100\n",
      "building tree 57 of 100\n",
      "building tree 58 of 100\n",
      "building tree 59 of 100\n",
      "building tree 60 of 100\n",
      "building tree 61 of 100\n",
      "building tree 62 of 100\n",
      "building tree 63 of 100\n",
      "building tree 64 of 100\n",
      "building tree 65 of 100\n",
      "building tree 66 of 100\n",
      "building tree 67 of 100\n",
      "building tree 68 of 100\n",
      "building tree 69 of 100\n",
      "building tree 70 of 100\n",
      "building tree 71 of 100\n",
      "building tree 72 of 100\n",
      "building tree 73 of 100\n",
      "building tree 74 of 100\n",
      "building tree 75 of 100\n",
      "building tree 76 of 100\n",
      "building tree 77 of 100\n",
      "building tree 78 of 100\n",
      "building tree 79 of 100\n",
      "building tree 80 of 100\n",
      "building tree 81 of 100\n",
      "building tree 82 of 100\n",
      "building tree 83 of 100\n",
      "building tree 84 of 100\n",
      "building tree 85 of 100\n",
      "building tree 86 of 100\n",
      "building tree 87 of 100\n",
      "building tree 88 of 100\n",
      "building tree 89 of 100\n",
      "building tree 90 of 100\n",
      "building tree 91 of 100\n",
      "building tree 92 of 100\n",
      "building tree 93 of 100\n",
      "building tree 94 of 100\n",
      "building tree 95 of 100\n",
      "building tree 96 of 100\n",
      "building tree 97 of 100\n",
      "building tree 98 of 100\n",
      "building tree 99 of 100\n",
      "building tree 100 of 100\n"
     ]
    },
    {
     "name": "stderr",
     "output_type": "stream",
     "text": [
      "[Parallel(n_jobs=1)]: Done 100 out of 100 | elapsed:    4.9s finished\n"
     ]
    },
    {
     "data": {
      "text/plain": [
       "RandomForestClassifier(bootstrap=True, ccp_alpha=0.0, class_weight=None,\n",
       "                       criterion='gini', max_depth=None, max_features='sqrt',\n",
       "                       max_leaf_nodes=None, max_samples=None,\n",
       "                       min_impurity_decrease=0.0, min_impurity_split=None,\n",
       "                       min_samples_leaf=1, min_samples_split=2,\n",
       "                       min_weight_fraction_leaf=0.0, n_estimators=100,\n",
       "                       n_jobs=None, oob_score=False, random_state=None,\n",
       "                       verbose=2, warm_start=False)"
      ]
     },
     "execution_count": 116,
     "metadata": {},
     "output_type": "execute_result"
    }
   ],
   "source": [
    "print(len(carac_2_ant),len(carac_2_desp))\n",
    "carac_2 = [carac_2_ant[i] + carac_2_desp[i] for i in range(len(carac_2_desp))]\n",
    "X_data = np.array(carac_2).astype(int)\n",
    "\n",
    "msk = np.random.rand(len(X_data)) < 0.80\n",
    "trainX = X_data[msk]\n",
    "testX = X_data[~msk]\n",
    "trainY=Y_data[msk]\n",
    "testY=Y_data[~msk]\n",
    "\n",
    "from sklearn.ensemble import RandomForestClassifier\n",
    " \n",
    "# Crear el modelo con 100 arboles\n",
    "model_C = RandomForestClassifier(n_estimators=100, \n",
    "                               bootstrap = True, verbose=2,\n",
    "                               max_features = 'sqrt')\n",
    "# a entrenar!\n",
    "model_C.fit(trainX,trainY)"
   ]
  },
  {
   "cell_type": "code",
   "execution_count": 117,
   "metadata": {},
   "outputs": [
    {
     "name": "stderr",
     "output_type": "stream",
     "text": [
      "[Parallel(n_jobs=1)]: Using backend SequentialBackend with 1 concurrent workers.\n",
      "[Parallel(n_jobs=1)]: Done   1 out of   1 | elapsed:    0.0s remaining:    0.0s\n",
      "[Parallel(n_jobs=1)]: Done 100 out of 100 | elapsed:    0.0s finished\n"
     ]
    },
    {
     "data": {
      "text/plain": [
       "87.85046728971963"
      ]
     },
     "execution_count": 117,
     "metadata": {},
     "output_type": "execute_result"
    }
   ],
   "source": [
    "pru_Y=model_C.predict(testX)\n",
    "accuracy_score(testY,pru_Y)*100"
   ]
  },
  {
   "cell_type": "code",
   "execution_count": 118,
   "metadata": {},
   "outputs": [
    {
     "name": "stdout",
     "output_type": "stream",
     "text": [
      "[[680  11   2]\n",
      " [ 35  56   0]\n",
      " [ 56   0  16]]\n",
      "              precision    recall  f1-score   support\n",
      "\n",
      "       HARD1       0.88      0.98      0.93       693\n",
      "       HARD2       0.84      0.62      0.71        91\n",
      "       HARD3       0.89      0.22      0.36        72\n",
      "\n",
      "    accuracy                           0.88       856\n",
      "   macro avg       0.87      0.61      0.66       856\n",
      "weighted avg       0.88      0.88      0.86       856\n",
      "\n"
     ]
    }
   ],
   "source": [
    "print(confusion_matrix(testY,pru_Y,labels=[\"HARD1\", \"HARD2\", \"HARD3\"]))\n",
    "print(classification_report(testY,pru_Y))"
   ]
  },
  {
   "cell_type": "markdown",
   "metadata": {},
   "source": [
    "### Utilizando bigramas y Random Forest se obtiene una accuracy de 86 % y el sistema mejora su generalizacion en cada clase."
   ]
  },
  {
   "cell_type": "markdown",
   "metadata": {},
   "source": [
    "## PROPUESTA DE CARACTERISTICAS"
   ]
  },
  {
   "cell_type": "code",
   "execution_count": 119,
   "metadata": {},
   "outputs": [],
   "source": [
    "carac3 = np.argmax(np.array(carac_2_pos_ant).astype(int),axis=1)\n",
    "carac3_2 = np.argmax(np.array(carac_2_pos_desp).astype(int),axis=1)"
   ]
  },
  {
   "cell_type": "code",
   "execution_count": 120,
   "metadata": {},
   "outputs": [],
   "source": [
    "X_data = np.array([[carac2[i],carac2_2[i],carac3[i],carac3_2[i]] for i in range (len(carac2_2))])"
   ]
  },
  {
   "cell_type": "code",
   "execution_count": 121,
   "metadata": {},
   "outputs": [
    {
     "data": {
      "text/plain": [
       "(4333, 4)"
      ]
     },
     "execution_count": 121,
     "metadata": {},
     "output_type": "execute_result"
    }
   ],
   "source": [
    "X_data.shape"
   ]
  },
  {
   "cell_type": "code",
   "execution_count": 122,
   "metadata": {},
   "outputs": [],
   "source": [
    "msk = np.random.rand(len(X_data)) < 0.80\n",
    "trainX = X_data[msk]\n",
    "testX = X_data[~msk]\n",
    "trainY=Y_data[msk]\n",
    "testY=Y_data[~msk]"
   ]
  },
  {
   "cell_type": "code",
   "execution_count": 123,
   "metadata": {},
   "outputs": [],
   "source": [
    "model = GaussianNB()\n",
    "model.fit(trainX, trainY)\n",
    "y_pred = model.predict(testX)"
   ]
  },
  {
   "cell_type": "code",
   "execution_count": 124,
   "metadata": {},
   "outputs": [
    {
     "name": "stdout",
     "output_type": "stream",
     "text": [
      "Accurracy utilizando propio sistema de caracterizacion :  78.08219178082192 %\n"
     ]
    }
   ],
   "source": [
    "print(\"Accurracy utilizando propio sistema de caracterizacion : \",accuracy_score(testY,y_pred)*100,\"%\")"
   ]
  },
  {
   "cell_type": "code",
   "execution_count": 125,
   "metadata": {},
   "outputs": [
    {
     "data": {
      "text/plain": [
       "array([[669,   7,  17],\n",
       "       [102,  10,   4],\n",
       "       [ 58,   4,   5]], dtype=int64)"
      ]
     },
     "execution_count": 125,
     "metadata": {},
     "output_type": "execute_result"
    }
   ],
   "source": [
    "confusion_matrix(testY,y_pred,labels=[\"HARD1\", \"HARD2\", \"HARD3\"])"
   ]
  },
  {
   "cell_type": "code",
   "execution_count": 126,
   "metadata": {},
   "outputs": [
    {
     "name": "stdout",
     "output_type": "stream",
     "text": [
      "              precision    recall  f1-score   support\n",
      "\n",
      "       HARD1       0.81      0.97      0.88       693\n",
      "       HARD2       0.48      0.09      0.15       116\n",
      "       HARD3       0.19      0.07      0.11        67\n",
      "\n",
      "    accuracy                           0.78       876\n",
      "   macro avg       0.49      0.38      0.38       876\n",
      "weighted avg       0.72      0.78      0.72       876\n",
      "\n"
     ]
    }
   ],
   "source": [
    "print(classification_report(testY,y_pred))"
   ]
  },
  {
   "cell_type": "markdown",
   "metadata": {},
   "source": [
    "### Utilizando bigramas de palabras y bigramas de \"POS\" y usando NaiveBayes se obtiene un accuracy del 77% ademas tambien el sistema es el que mejor generaiza de los otros sistemas de caracteristicas con NaiveBayes \n",
    "\n",
    "    De igual manera propongo utilizar un clasificador RandomForest"
   ]
  },
  {
   "cell_type": "code",
   "execution_count": 127,
   "metadata": {
    "scrolled": true
   },
   "outputs": [
    {
     "name": "stderr",
     "output_type": "stream",
     "text": [
      "[Parallel(n_jobs=1)]: Using backend SequentialBackend with 1 concurrent workers.\n",
      "[Parallel(n_jobs=1)]: Done   1 out of   1 | elapsed:    0.0s remaining:    0.0s\n"
     ]
    },
    {
     "name": "stdout",
     "output_type": "stream",
     "text": [
      "building tree 1 of 100\n",
      "building tree 2 of 100\n",
      "building tree 3 of 100\n",
      "building tree 4 of 100\n",
      "building tree 5 of 100\n",
      "building tree 6 of 100\n",
      "building tree 7 of 100\n",
      "building tree 8 of 100\n",
      "building tree 9 of 100\n",
      "building tree 10 of 100\n",
      "building tree 11 of 100\n",
      "building tree 12 of 100\n",
      "building tree 13 of 100\n",
      "building tree 14 of 100\n",
      "building tree 15 of 100\n",
      "building tree 16 of 100\n",
      "building tree 17 of 100\n",
      "building tree 18 of 100\n",
      "building tree 19 of 100\n",
      "building tree 20 of 100\n",
      "building tree 21 of 100\n",
      "building tree 22 of 100\n",
      "building tree 23 of 100\n",
      "building tree 24 of 100\n",
      "building tree 25 of 100\n",
      "building tree 26 of 100\n",
      "building tree 27 of 100\n",
      "building tree 28 of 100\n",
      "building tree 29 of 100\n",
      "building tree 30 of 100\n",
      "building tree 31 of 100\n",
      "building tree 32 of 100\n",
      "building tree 33 of 100\n",
      "building tree 34 of 100\n",
      "building tree 35 of 100\n",
      "building tree 36 of 100\n",
      "building tree 37 of 100\n",
      "building tree 38 of 100\n",
      "building tree 39 of 100\n",
      "building tree 40 of 100\n",
      "building tree 41 of 100\n",
      "building tree 42 of 100\n",
      "building tree 43 of 100\n",
      "building tree 44 of 100\n",
      "building tree 45 of 100\n",
      "building tree 46 of 100\n",
      "building tree 47 of 100\n",
      "building tree 48 of 100\n",
      "building tree 49 of 100\n",
      "building tree 50 of 100\n",
      "building tree 51 of 100\n",
      "building tree 52 of 100\n",
      "building tree 53 of 100\n",
      "building tree 54 of 100\n",
      "building tree 55 of 100\n",
      "building tree 56 of 100\n",
      "building tree 57 of 100\n",
      "building tree 58 of 100\n",
      "building tree 59 of 100\n",
      "building tree 60 of 100\n",
      "building tree 61 of 100\n",
      "building tree 62 of 100\n",
      "building tree 63 of 100\n",
      "building tree 64 of 100\n",
      "building tree 65 of 100\n",
      "building tree 66 of 100\n",
      "building tree 67 of 100\n",
      "building tree 68 of 100\n",
      "building tree 69 of 100\n",
      "building tree 70 of 100\n",
      "building tree 71 of 100\n",
      "building tree 72 of 100\n",
      "building tree 73 of 100\n",
      "building tree 74 of 100\n",
      "building tree 75 of 100\n",
      "building tree 76 of 100\n",
      "building tree 77 of 100\n",
      "building tree 78 of 100\n",
      "building tree 79 of 100\n",
      "building tree 80 of 100\n",
      "building tree 81 of 100\n",
      "building tree 82 of 100\n",
      "building tree 83 of 100\n",
      "building tree 84 of 100\n",
      "building tree 85 of 100\n",
      "building tree 86 of 100\n",
      "building tree 87 of 100\n",
      "building tree 88 of 100\n",
      "building tree 89 of 100\n",
      "building tree 90 of 100\n",
      "building tree 91 of 100\n",
      "building tree 92 of 100\n",
      "building tree 93 of 100\n",
      "building tree 94 of 100\n",
      "building tree 95 of 100\n",
      "building tree 96 of 100\n",
      "building tree 97 of 100\n",
      "building tree 98 of 100\n",
      "building tree 99 of 100\n",
      "building tree 100 of 100\n"
     ]
    },
    {
     "name": "stderr",
     "output_type": "stream",
     "text": [
      "[Parallel(n_jobs=1)]: Done 100 out of 100 | elapsed:    3.7s finished\n"
     ]
    },
    {
     "data": {
      "text/plain": [
       "RandomForestClassifier(bootstrap=True, ccp_alpha=0.0, class_weight=None,\n",
       "                       criterion='gini', max_depth=None, max_features='sqrt',\n",
       "                       max_leaf_nodes=None, max_samples=None,\n",
       "                       min_impurity_decrease=0.0, min_impurity_split=None,\n",
       "                       min_samples_leaf=1, min_samples_split=2,\n",
       "                       min_weight_fraction_leaf=0.0, n_estimators=100,\n",
       "                       n_jobs=None, oob_score=False, random_state=None,\n",
       "                       verbose=2, warm_start=False)"
      ]
     },
     "execution_count": 127,
     "metadata": {},
     "output_type": "execute_result"
    }
   ],
   "source": [
    "from sklearn.ensemble import RandomForestClassifier\n",
    "\n",
    "carac_3 = [carac_2_ant[i] + carac_2_desp[i] + carac_2_pos_ant[0] + carac_2_pos_desp[0] for i in range(len(carac_2_desp))]\n",
    "X_data = np.array(carac_3).astype(int)\n",
    "\n",
    "X_data.shape\n",
    "\n",
    "msk = np.random.rand(len(X_data)) < 0.80\n",
    "trainX = X_data[msk]\n",
    "testX = X_data[~msk]\n",
    "trainY=Y_data[msk]\n",
    "testY=Y_data[~msk]\n",
    "\n",
    "# Crear el modelo con 100 arboles\n",
    "model_C = RandomForestClassifier(n_estimators=100, \n",
    "                               bootstrap = True, verbose=2,\n",
    "                               max_features = 'sqrt')\n",
    "# a entrenar!\n",
    "model_C.fit(trainX,trainY)"
   ]
  },
  {
   "cell_type": "code",
   "execution_count": 128,
   "metadata": {},
   "outputs": [
    {
     "name": "stderr",
     "output_type": "stream",
     "text": [
      "[Parallel(n_jobs=1)]: Using backend SequentialBackend with 1 concurrent workers.\n",
      "[Parallel(n_jobs=1)]: Done   1 out of   1 | elapsed:    0.0s remaining:    0.0s\n",
      "[Parallel(n_jobs=1)]: Done 100 out of 100 | elapsed:    0.0s finished\n"
     ]
    }
   ],
   "source": [
    "pru_Y=model_C.predict(testX)"
   ]
  },
  {
   "cell_type": "code",
   "execution_count": 129,
   "metadata": {},
   "outputs": [
    {
     "data": {
      "text/plain": [
       "87.52886836027713"
      ]
     },
     "execution_count": 129,
     "metadata": {},
     "output_type": "execute_result"
    }
   ],
   "source": [
    "accuracy_score(testY,pru_Y)*100"
   ]
  },
  {
   "cell_type": "code",
   "execution_count": 130,
   "metadata": {},
   "outputs": [
    {
     "name": "stdout",
     "output_type": "stream",
     "text": [
      "[[685   6   1]\n",
      " [ 43  51   0]\n",
      " [ 58   0  22]]\n",
      "              precision    recall  f1-score   support\n",
      "\n",
      "       HARD1       0.87      0.99      0.93       692\n",
      "       HARD2       0.89      0.54      0.68        94\n",
      "       HARD3       0.96      0.28      0.43        80\n",
      "\n",
      "    accuracy                           0.88       866\n",
      "   macro avg       0.91      0.60      0.68       866\n",
      "weighted avg       0.88      0.88      0.85       866\n",
      "\n"
     ]
    }
   ],
   "source": [
    "print(confusion_matrix(testY,pru_Y,labels=[\"HARD1\", \"HARD2\", \"HARD3\"]))\n",
    "print(classification_report(testY,pru_Y))"
   ]
  },
  {
   "cell_type": "markdown",
   "metadata": {},
   "source": [
    "### Resumen : \n",
    "    Usando este propio sistema de caracteristicas y RandomForest se consigue un accuracy de 87% y ademas observando las metricas de la matriz de confusion el sistema es el que mejor generaliza y el que mayor accuracy posee\n"
   ]
  },
  {
   "cell_type": "markdown",
   "metadata": {},
   "source": [
    "### Identificacion de las palabras ambigua tipo HARD1 mal etiquetadas  "
   ]
  },
  {
   "cell_type": "code",
   "execution_count": 131,
   "metadata": {},
   "outputs": [],
   "source": [
    "X_data = np.array([[carac2[i],carac2_2[i],carac3[i],carac3_2[i]] for i in range (len(carac2_2))])\n",
    "y_pred = model.predict(X_data)\n",
    "errores = []\n",
    "err_sen = []\n",
    "for i in range (len(testY)):\n",
    "    if Y_data[i] == 'HARD1' and y_pred[i] != 'HARD1':\n",
    "        errores.append(i)\n",
    "        err_sen.append(y_pred[i])"
   ]
  },
  {
   "cell_type": "code",
   "execution_count": 132,
   "metadata": {},
   "outputs": [
    {
     "name": "stdout",
     "output_type": "stream",
     "text": [
      "[6, 110, 127, 128, 141, 232, 238, 255, 256, 300]\n",
      "['HARD2', 'HARD2', 'HARD3', 'HARD3', 'HARD3', 'HARD3', 'HARD2', 'HARD3', 'HARD3', 'HARD2']\n"
     ]
    }
   ],
   "source": [
    "print(errores[0:10])\n",
    "print(err_sen[0:10])"
   ]
  },
  {
   "cell_type": "code",
   "execution_count": 133,
   "metadata": {
    "scrolled": true
   },
   "outputs": [
    {
     "name": "stdout",
     "output_type": "stream",
     "text": [
      "\n",
      "\n",
      "La oracion en la que se cometio un error de etiquetado es :\n",
      " voting against seeking additional sources of funds was supervisor ray belgard , who told his colleagues , `` we have to face the hard facts of life .\n",
      "\n",
      " la palabra ambigua es de tipo :  ('HARD1',)  y segun el sistema clasificador fue etiquetada como : HARD2\n",
      "\n",
      "\n",
      "La oracion en la que se cometio un error de etiquetado es :\n",
      " wes raynal , autoweek ; ( hbox ) ; `` low profiling is pretty hard in a car this bright , a characteristic that sets the r F t apart from the taurus sho .\n",
      "\n",
      " la palabra ambigua es de tipo :  ('HARD1',)  y segun el sistema clasificador fue etiquetada como : HARD2\n",
      "\n",
      "\n",
      "La oracion en la que se cometio un error de etiquetado es :\n",
      " lawrence adelman , an analyst and vice president with dean witter reynolds inc . , said , `` they 're trying to come to grips with all their problems -- whether it be domestic snacks or international snacks or kfc -- make the hard decisions in 1991 and go forward with a very positive momentum into 1992 . ''\n",
      "\n",
      " la palabra ambigua es de tipo :  ('HARD1',)  y segun el sistema clasificador fue etiquetada como : HARD3\n",
      "\n",
      "\n",
      "La oracion en la que se cometio un error de etiquetado es :\n",
      " `` for sheer ingratitude , this report is hard to beat . ''\n",
      "\n",
      " la palabra ambigua es de tipo :  ('HARD1',)  y segun el sistema clasificador fue etiquetada como : HARD3\n",
      "\n",
      "\n",
      "La oracion en la que se cometio un error de etiquetado es :\n",
      " `` it was still hard to leave .\n",
      "\n",
      " la palabra ambigua es de tipo :  ('HARD1',)  y segun el sistema clasificador fue etiquetada como : HARD3\n",
      "\n",
      "\n",
      "La oracion en la que se cometio un error de etiquetado es :\n",
      " do n 't you feel kind of sorry for the poor working girl who , dog-tired after a hard night of patrolling her dismal beat , has to go a half-mile out of her way to get home ?\n",
      "\n",
      " la palabra ambigua es de tipo :  ('HARD1',)  y segun el sistema clasificador fue etiquetada como : HARD3\n",
      "\n",
      "\n",
      "La oracion en la que se cometio un error de etiquetado es :\n",
      " i learned the hard way , and i 'll never make that mistake again .\n",
      "\n",
      " la palabra ambigua es de tipo :  ('HARD1',)  y segun el sistema clasificador fue etiquetada como : HARD2\n",
      "\n",
      "\n",
      "La oracion en la que se cometio un error de etiquetado es :\n",
      " today , it is hard for americans to use the word `` glory '' without snickering .\n",
      "\n",
      " la palabra ambigua es de tipo :  ('HARD1',)  y segun el sistema clasificador fue etiquetada como : HARD3\n",
      "\n",
      "\n",
      "La oracion en la que se cometio un error de etiquetado es :\n",
      " odd that one man should be able to block such a critical effort , but the negative always seems to win when a positive is hard to prove .\n",
      "\n",
      " la palabra ambigua es de tipo :  ('HARD1',)  y segun el sistema clasificador fue etiquetada como : HARD3\n",
      "\n",
      "\n",
      "La oracion en la que se cometio un error de etiquetado es :\n",
      " tough times ; the mercer survey reveals some steps companies are taking to deal with harder economic times .\n",
      "\n",
      " la palabra ambigua es de tipo :  ('HARD1',)  y segun el sistema clasificador fue etiquetada como : HARD2\n",
      "\n",
      "\n",
      "La oracion en la que se cometio un error de etiquetado es :\n",
      " but the hard questions about efficiency and competitiveness wo n 't be answered until the hand is dealt and played .\n",
      "\n",
      " la palabra ambigua es de tipo :  ('HARD1',)  y segun el sistema clasificador fue etiquetada como : HARD3\n",
      "\n",
      "\n",
      "La oracion en la que se cometio un error de etiquetado es :\n",
      " the attorney general ordered federal prosecutors to `` target the most violent offenders in each community and put them away for hard time in federal prisons . ''\n",
      "\n",
      " la palabra ambigua es de tipo :  ('HARD1',)  y segun el sistema clasificador fue etiquetada como : HARD2\n",
      "\n",
      "\n",
      "La oracion en la que se cometio un error de etiquetado es :\n",
      " and exercisers , in particular , can probably afford an occasional sin without jeopardizing their hard won health benefits .\n",
      "\n",
      " la palabra ambigua es de tipo :  ('HARD1',)  y segun el sistema clasificador fue etiquetada como : HARD3\n",
      "\n",
      "\n",
      "La oracion en la que se cometio un error de etiquetado es :\n",
      " she has forked over $ 8 million `` in cash '' for a bel-air shelter that will make it harder for news hawks to spy her out .\n",
      "\n",
      " la palabra ambigua es de tipo :  ('HARD1',)  y segun el sistema clasificador fue etiquetada como : HARD3\n",
      "\n",
      "\n",
      "La oracion en la que se cometio un error de etiquetado es :\n",
      " young adults in the survey , ages 18 to 29 , reported having a particularly hard time .\n",
      "\n",
      " la palabra ambigua es de tipo :  ('HARD1',)  y segun el sistema clasificador fue etiquetada como : HARD2\n",
      "\n",
      "\n",
      "La oracion en la que se cometio un error de etiquetado es :\n",
      " john devitt says he learned the hard way that some large corporations will do anything for a buck .\n",
      "\n",
      " la palabra ambigua es de tipo :  ('HARD1',)  y segun el sistema clasificador fue etiquetada como : HARD2\n",
      "\n",
      "\n",
      "La oracion en la que se cometio un error de etiquetado es :\n",
      " some days it 's hard to stay cool while listening to angry complaints .\n",
      "\n",
      " la palabra ambigua es de tipo :  ('HARD1',)  y segun el sistema clasificador fue etiquetada como : HARD3\n",
      "\n",
      "\n",
      "La oracion en la que se cometio un error de etiquetado es :\n",
      " a dead body is n 't particularly hard to face , certainly not after you 've seen 15 , 000 of them .\n",
      "\n",
      " la palabra ambigua es de tipo :  ('HARD1',)  y segun el sistema clasificador fue etiquetada como : HARD3\n",
      "\n",
      "\n",
      "La oracion en la que se cometio un error de etiquetado es :\n",
      " the early essays , although they reveal sympathy and goodwill , too often seem either to strain after political correctness or to lapse into coyness : `` but boyhood is hard to leave , and perhaps one never does , and while i try to become a man of the times , i ask you , o ladies , for neither absolution nor understanding .\n",
      "\n",
      " la palabra ambigua es de tipo :  ('HARD1',)  y segun el sistema clasificador fue etiquetada como : HARD3\n",
      "\n",
      "\n",
      "La oracion en la que se cometio un error de etiquetado es :\n",
      " how much of this could have been handled more quietly on the ground is hard to say .\n",
      "\n",
      " la palabra ambigua es de tipo :  ('HARD1',)  y segun el sistema clasificador fue etiquetada como : HARD2\n",
      "\n",
      "\n",
      "La oracion en la que se cometio un error de etiquetado es :\n",
      " in a move that could threaten the planned 400-mile bay area ridge trail , santa clara county is considering making it harder for government to take private land for public hiking , biking and riding trails .\n",
      "\n",
      " la palabra ambigua es de tipo :  ('HARD1',)  y segun el sistema clasificador fue etiquetada como : HARD3\n",
      "\n",
      "\n",
      "La oracion en la que se cometio un error de etiquetado es :\n",
      " if we want a better national life , we have to be willing to look at the whole tedious picture , ask the hard questions , and give up the luxury of depending on a surrogate parent to make our decisions for us .\n",
      "\n",
      " la palabra ambigua es de tipo :  ('HARD1',)  y segun el sistema clasificador fue etiquetada como : HARD3\n",
      "\n",
      "\n",
      "La oracion en la que se cometio un error de etiquetado es :\n",
      " the board has to be able to ask hard questions , and ask for information in a certain way , so it understands it . ''\n",
      "\n",
      " la palabra ambigua es de tipo :  ('HARD1',)  y segun el sistema clasificador fue etiquetada como : HARD3\n",
      "\n",
      "\n",
      "La oracion en la que se cometio un error de etiquetado es :\n",
      " `` it was kind of hard talking to someone about this , \" said katherine , referring to her interview with krementz .\n",
      "\n",
      " la palabra ambigua es de tipo :  ('HARD1',)  y segun el sistema clasificador fue etiquetada como : HARD2\n",
      "\n",
      "\n",
      "La oracion en la que se cometio un error de etiquetado es :\n",
      " `` the administration is ducking the hard decisions on energy and the environment .\n",
      "\n",
      " la palabra ambigua es de tipo :  ('HARD1',)  y segun el sistema clasificador fue etiquetada como : HARD3\n",
      "\n",
      "\n",
      "La oracion en la que se cometio un error de etiquetado es :\n",
      " as students signed yearbooks and wrote phone numbers on the backs of their hands , branham junior lori dickerson said she expected watching graduation to be particularly hard `` because we 'll see what we should have been doing . ''\n",
      "\n",
      " la palabra ambigua es de tipo :  ('HARD1',)  y segun el sistema clasificador fue etiquetada como : HARD2\n",
      "\n",
      "\n",
      "La oracion en la que se cometio un error de etiquetado es :\n",
      " `` we learned the hard way that you can 't celebrate until the final whistle , \" he said .\n",
      "\n",
      " la palabra ambigua es de tipo :  ('HARD1',)  y segun el sistema clasificador fue etiquetada como : HARD2\n",
      "\n",
      "\n",
      "La oracion en la que se cometio un error de etiquetado es :\n",
      " it 's always hard to leave a job one enjoys so much .\n",
      "\n",
      " la palabra ambigua es de tipo :  ('HARD1',)  y segun el sistema clasificador fue etiquetada como : HARD3\n",
      "\n",
      "\n",
      "La oracion en la que se cometio un error de etiquetado es :\n",
      " `` it is hard to leave this campus , \" fullerton said .\n",
      "\n",
      " la palabra ambigua es de tipo :  ('HARD1',)  y segun el sistema clasificador fue etiquetada como : HARD3\n",
      "\n",
      "\n",
      "La oracion en la que se cometio un error de etiquetado es :\n",
      " it 's hard to stay quick .\n",
      "\n",
      " la palabra ambigua es de tipo :  ('HARD1',)  y segun el sistema clasificador fue etiquetada como : HARD3\n",
      "\n",
      "\n",
      "La oracion en la que se cometio un error de etiquetado es :\n",
      " other analysts worry that the fed 's recent stimulus may be tantamount to `` pushing on a string '' whose front end is very hard to move with pressure from behind .\n",
      "\n",
      " la palabra ambigua es de tipo :  ('HARD1',)  y segun el sistema clasificador fue etiquetada como : HARD3\n",
      "\n",
      "\n",
      "La oracion en la que se cometio un error de etiquetado es :\n",
      " `` i had a real hard time sitting on the bench , \" said knecht , who also played safety in high school .\n",
      "\n",
      " la palabra ambigua es de tipo :  ('HARD1',)  y segun el sistema clasificador fue etiquetada como : HARD2\n",
      "\n",
      "\n",
      "La oracion en la que se cometio un error de etiquetado es :\n",
      " i had no quarrel with the flavor of either steak or sauce , but the meat was filled with gristle and hard to cut , even with the dull steak knife i finally obtained from a waiter after our own simply ignored my request .\n",
      "\n",
      " la palabra ambigua es de tipo :  ('HARD1',)  y segun el sistema clasificador fue etiquetada como : HARD3\n"
     ]
    }
   ],
   "source": [
    "for i in range(len(errores)):\n",
    "    print(\"\\n\")\n",
    "    inst = senseval.instances(senseval.fileids()[0])\n",
    "    oracion = [inst[errores[i]].context[j][0] for j in range(len(inst[errores[i]].context))]\n",
    "    separator = ' '\n",
    "    print(\"La oracion en la que se cometio un error de etiquetado es :\\n\",separator.join(oracion))\n",
    "    print(\"\\n la palabra ambigua es de tipo : \",inst[errores[i]].senses,\" y segun el sistema clasificador fue etiquetada como :\",err_sen[i])"
   ]
  },
  {
   "cell_type": "markdown",
   "metadata": {},
   "source": [
    "### Finalmente como objetivos del laboratorio es presentar cada uno de los diferentes clasificadores para cada palabra ambigua : \"«interest», «line» y «serve»\"\n",
    "    Para ello en creado una funcion que devuelve el accuracy de cada clasificador"
   ]
  },
  {
   "cell_type": "code",
   "execution_count": 134,
   "metadata": {},
   "outputs": [],
   "source": [
    "def sl_clasificador(num_ins):\n",
    "    \n",
    "    inst = senseval.instances(senseval.fileids()[num_ins])\n",
    "    salidas = []\n",
    "    for i in inst:\n",
    "        salidas.append(i.senses[0])\n",
    "\n",
    "    import pandas as pd \n",
    "    b = pd.pandas.get_dummies(salidas)\n",
    "    salidas_1= list(b.values.tolist())\n",
    "\n",
    "    inst = senseval.instances(senseval.fileids()[num_ins])\n",
    "    contextos = []\n",
    "    for i in inst:\n",
    "        contextos += [i.context[it][0] for it in range (len(i.context))]\n",
    "\n",
    "    voc = [ x for x in contextos if not x in list(STOPWORDS_SET)] \n",
    "\n",
    "\n",
    "    fd= nltk.FreqDist(voc)\n",
    "\n",
    "        \n",
    "    GramAmbig= [['harder','hardest'],['interests'],['lined','line'],['serving','served','serves']]\n",
    "    \n",
    "    mostCo=fd.most_common(250+len(GramAmbig[num_ins]))\n",
    "\n",
    "    moscCo = [mostCo[i][0] for i in range (len(mostCo))]\n",
    "    bag_words = [ x for x in moscCo if not x in list(GramAmbig[num_ins])] \n",
    "\n",
    "\n",
    "    features_1 = {}\n",
    "    for i in range(len(bag_words)):\n",
    "        features_1[bag_words[i]] = False\n",
    "\n",
    "\n",
    "    inst = senseval.instances(senseval.fileids()[num_ins])\n",
    "    carac_1 = []\n",
    "    for i in inst:\n",
    "        aux_dict = features_1.copy()\n",
    "        for j in range(len(i.context)):\n",
    "            if i.context[j][0] in features_1:\n",
    "                aux_dict[i.context[j][0]] = True\n",
    "        carac_1.append(list(aux_dict.values()))\n",
    "\n",
    "\n",
    "    inst = senseval.instances(senseval.fileids()[num_ins])\n",
    "    prev = []\n",
    "    fut = []\n",
    "    for i in inst:\n",
    "        prev.append(i.context[i.position-2:i.position])\n",
    "        fut.append(i.context[i.position+1:i.position+3])\n",
    "\n",
    "    dic_car2 = {} \n",
    "    for i in range(len(prev)):\n",
    "        if len(prev[i]) ==2:\n",
    "            dic_car2[\"previous(\"+prev[i][0][0] + \" \"+prev[i][1][0]+\")\"] = False\n",
    "        elif len(prev[i]) ==1:\n",
    "            dic_car2[\"previous(\"+prev[i][0][0]+\")\"] = False\n",
    "        if len(fut[i])==2:\n",
    "            dic_car2[\"next(\"+fut[i][0][0] + \" \"+fut[i][1][0]+\")\"] = False\n",
    "        if len(fut[i])==1:\n",
    "             dic_car2[\"next(\"+fut[i][0][0] +\")\"] = False\n",
    "\n",
    "\n",
    "    carac_2_ant = []\n",
    "    carac_2_desp = []\n",
    "\n",
    "    for it in range(len(prev)):\n",
    "        aux_dict = features_1.copy()\n",
    "        aux_dict2 = features_1.copy()\n",
    "        l=0\n",
    "        try:\n",
    "            if prev[it][0][0] in aux_dict:\n",
    "                aux_dict[prev[it][0][0]] = True\n",
    "            if prev[it][1][0] in aux_dict:\n",
    "                aux_dict[prev[it][1][0]] = True\n",
    "            if fut[it][0][0] in aux_dict2 :\n",
    "                aux_dict2[fut[it][0][0]] = True\n",
    "            if fut[it][1][0] in aux_dict2 :\n",
    "                aux_dict2[fut[it][1][0]] = True\n",
    "        except:\n",
    "            l+=1\n",
    "        carac_2_ant.append(list(aux_dict.values()))\n",
    "        carac_2_desp.append(list(aux_dict2.values()))\n",
    "        \n",
    "\n",
    "\n",
    "    inst = senseval.instances(senseval.fileids()[num_ins])\n",
    "    contextos2 = []\n",
    "    l=0\n",
    "    for i in inst:\n",
    "        try:\n",
    "            contextos2 += [i.context[it][1] for it in range (len(i.context))]\n",
    "        except:\n",
    "            l+=1\n",
    "        \n",
    "    fd2= nltk.FreqDist(contextos2)\n",
    "\n",
    "\n",
    "    mostCo=fd2.most_common(64+100)\n",
    "\n",
    "    moscCo = [mostCo[i][0] for i in range (len(mostCo))]\n",
    "\n",
    "    \n",
    "    features_Pos = {}\n",
    "    for i in range(len(moscCo)):\n",
    "        features_Pos[moscCo[i]] = False\n",
    "\n",
    "    dic_car3 = {} \n",
    "    for i in range(len(prev)):\n",
    "        if len(prev[i]) ==2:\n",
    "            dic_car3[\"previous(\"+prev[i][0][1] + \" \"+prev[i][1][1]+\")\"] = False\n",
    "        elif len(prev[i]) ==1:\n",
    "            dic_car3[\"previous(\"+prev[i][0][1]+\")\"] = False\n",
    "        if len(fut[i])==2:\n",
    "            dic_car3[\"next(\"+fut[i][0][1] + \" \"+fut[i][1][1]+\")\"] = False\n",
    "        if len(fut[i])==1:\n",
    "             dic_car3[\"next(\"+fut[i][0][1] +\")\"] = False\n",
    "\n",
    "\n",
    "\n",
    "    carac_2_pos_ant = []\n",
    "    carac_2_pos_desp = []\n",
    "\n",
    "    for it in range(len(prev)):\n",
    "        aux_dict = features_Pos.copy()\n",
    "        aux_dict2 = features_Pos.copy()\n",
    "        l=0\n",
    "        try:\n",
    "            if prev[it][0][1] in aux_dict:\n",
    "                aux_dict[prev[it][0][1]] = True\n",
    "        except:\n",
    "            l+=1\n",
    "        try:\n",
    "            if prev[it][1][1] in aux_dict:\n",
    "                aux_dict[prev[it][1][1]] = True\n",
    "        except:\n",
    "            l+=1 \n",
    "        try:\n",
    "            if fut[it][0][1] in aux_dict2 :\n",
    "                aux_dict2[fut[it][0][1]] = True\n",
    "        except:\n",
    "            l+=1 \n",
    "        try:\n",
    "            if fut[it][1][1] in aux_dict2 :\n",
    "                aux_dict2[fut[it][1][1]] = True\n",
    "        except:\n",
    "            l+=1 \n",
    "        carac_2_pos_ant.append(list(aux_dict.values()))\n",
    "        carac_2_pos_desp.append(list(aux_dict2.values()))\n",
    "\n",
    "\n",
    "\n",
    "    import numpy as np\n",
    "    from sklearn.naive_bayes import GaussianNB\n",
    "    model = GaussianNB()\n",
    "\n",
    "    \n",
    "    X_data = np.argmax(np.array(carac_1).astype(int),axis=1)\n",
    "    Y_data = np.array(salidas)\n",
    "\n",
    "\n",
    "    # ### El siguiente paso es separar los datos en entrenamiento y evaluacion (80% entrenamiento 20% validacion):\n",
    "    #     Para ello utilizo una mascara que toma posiciones randomicas de los vecotres de entrada y salida del sistema, conformando asi los datos de entrenamiento y validacion\n",
    "\n",
    "\n",
    "    msk = np.random.rand(len(X_data)) < 0.80\n",
    "    trainX = X_data[msk]\n",
    "    testX = X_data[~msk]\n",
    "    trainY=Y_data[msk]\n",
    "    testY=Y_data[~msk]\n",
    "\n",
    "\n",
    "    # ### El siguiente paso corresponde a entrenar el sistema NaiveBayes utilizando la funcion (fit)\n",
    "\n",
    "    model.fit(trainX.reshape(-1,1), trainY)\n",
    "\n",
    "\n",
    "    # ### Una ves entrenado el modelo lo testeamos con los datos de validacion utilizando la funcion (predict), y almacenamos estos datos en una nueva variable\n",
    "\n",
    "\n",
    "    y_pred = model.predict(testX.reshape(-1,1))\n",
    "\n",
    "\n",
    "\n",
    "    from sklearn.metrics import accuracy_score\n",
    "\n",
    "\n",
    "    print(\"\\nAccurracy utilizando bolsa de palabras : \",accuracy_score(testY,y_pred)*100,\"%\")\n",
    "\n",
    "\n",
    "    # ### Para saber que tan eficiente es nuestro modelo, (saber si esta diferenciando bien entre clases) una buena opcion es recurrir a la matriz de confusion y a sus metricas\n",
    "\n",
    "\n",
    "    from sklearn.metrics import confusion_matrix\n",
    "    from sklearn.metrics import classification_report \n",
    "    #confusion_matrix(testY,y_pred,labels=list(set(salidas)))\n",
    "\n",
    "    #print(classification_report(testY,y_pred))\n",
    "\n",
    "\n",
    "    # ### Resumen :\n",
    "\n",
    "\n",
    "    carac2 = np.argmax(np.array(carac_2_ant).astype(int),axis=1)\n",
    "    \n",
    "    #return carac_2_desp\n",
    "    carac2_2 = np.argmax(np.array(carac_2_desp).astype(int),axis=1)\n",
    "    \n",
    "\n",
    "\n",
    "    X_data = np.array([[carac2[i],carac2_2[i]] for i in range (len(carac2_2))])\n",
    "    Y_data = np.array(salidas)\n",
    "\n",
    "    msk.shape,X_data.shape,len(carac2)\n",
    "\n",
    "\n",
    "    msk = np.random.rand(len(X_data)) < 0.80\n",
    "    trainX = X_data[msk]\n",
    "    testX = X_data[~msk]\n",
    "    trainY=Y_data[msk]\n",
    "    testY=Y_data[~msk]\n",
    "\n",
    "\n",
    "    model = GaussianNB()\n",
    "    model.fit(trainX, trainY)\n",
    "    y_pred = model.predict(testX)\n",
    "\n",
    "\n",
    "    print(\"\\nAccurracy utilizando Bigramas: \",accuracy_score(testY,y_pred)*100,\"%\")\n",
    "\n",
    "\n",
    "    #confusion_matrix(testY,y_pred,labels=list(set(salidas)))\n",
    "\n",
    "\n",
    "    #print(classification_report(testY,y_pred))\n",
    "\n",
    "\n",
    "\n",
    "    # ## PROPUESTA DE CARACTERISTICAS\n",
    "\n",
    "    carac3 = np.argmax(np.array(carac_2_pos_ant).astype(int),axis=1)\n",
    "    carac3_2 = np.argmax(np.array(carac_2_pos_desp).astype(int),axis=1)\n",
    "\n",
    "\n",
    "    X_data = np.array([[carac2[i],carac2_2[i],carac3[i],carac3_2[i]] for i in range (len(carac2_2))])\n",
    "\n",
    "\n",
    "\n",
    "    X_data.shape\n",
    "\n",
    "\n",
    "\n",
    "    msk = np.random.rand(len(X_data)) < 0.80\n",
    "    trainX = X_data[msk]\n",
    "    testX = X_data[~msk]\n",
    "    trainY=Y_data[msk]\n",
    "    testY=Y_data[~msk]\n",
    "\n",
    "\n",
    "\n",
    "    model = GaussianNB()\n",
    "    model.fit(trainX, trainY)\n",
    "    y_pred = model.predict(testX)\n",
    "\n",
    "\n",
    "\n",
    "    print(\"\\nAccurracy utilizando Propio sistema de caracteristicas : \",accuracy_score(testY,y_pred)*100,\"%\")\n",
    "\n",
    "\n",
    "\n",
    "    #confusion_matrix(testY,y_pred,labels=list(set(salidas)))\n",
    "\n",
    "\n",
    "    #print(classification_report(testY,y_pred))\n"
   ]
  },
  {
   "cell_type": "markdown",
   "metadata": {},
   "source": [
    "### Clasificadores NaiveBayes para la palabra \"interest\" "
   ]
  },
  {
   "cell_type": "code",
   "execution_count": 135,
   "metadata": {
    "scrolled": true
   },
   "outputs": [
    {
     "name": "stdout",
     "output_type": "stream",
     "text": [
      "\n",
      "Accurracy utilizando bolsa de palabras :  61.35371179039302 %\n",
      "\n",
      "Accurracy utilizando Bigramas:  46.975806451612904 %\n",
      "\n",
      "Accurracy utilizando Propio sistema de caracteristicas :  41.75152749490835 %\n"
     ]
    }
   ],
   "source": [
    "sl_clasificador(1)"
   ]
  },
  {
   "cell_type": "markdown",
   "metadata": {},
   "source": [
    "### Clasificadores NaiveBayes para la palabra \"Line\" "
   ]
  },
  {
   "cell_type": "code",
   "execution_count": 136,
   "metadata": {},
   "outputs": [
    {
     "name": "stdout",
     "output_type": "stream",
     "text": [
      "\n",
      "Accurracy utilizando bolsa de palabras :  54.116222760290555 %\n",
      "\n",
      "Accurracy utilizando Bigramas:  54.292343387471 %\n",
      "\n",
      "Accurracy utilizando Propio sistema de caracteristicas :  51.73210161662818 %\n"
     ]
    }
   ],
   "source": [
    "sl_clasificador(2)"
   ]
  },
  {
   "cell_type": "markdown",
   "metadata": {},
   "source": [
    "### Clasificadores NaiveBayes para la palabra \"Serve\" "
   ]
  },
  {
   "cell_type": "code",
   "execution_count": 137,
   "metadata": {},
   "outputs": [
    {
     "name": "stdout",
     "output_type": "stream",
     "text": [
      "\n",
      "Accurracy utilizando bolsa de palabras :  44.77791116446579 %\n",
      "\n",
      "Accurracy utilizando Bigramas:  28.361581920903955 %\n",
      "\n",
      "Accurracy utilizando Propio sistema de caracteristicas :  39.50892857142857 %\n"
     ]
    }
   ],
   "source": [
    "sl_clasificador(3)"
   ]
  },
  {
   "cell_type": "markdown",
   "metadata": {},
   "source": [
    "### Preguntas"
   ]
  },
  {
   "cell_type": "markdown",
   "metadata": {},
   "source": [
    "#### ¿Cuál es el conjunto de características que aporta mejores resultados? ¿Por qué?"
   ]
  },
  {
   "cell_type": "markdown",
   "metadata": {},
   "source": [
    "    Considerando los tres conjunto de caracteristicas para desambiguar la palabra hard, observando los resultados de cada uno de los clasificadores (Accuracy y Metricas de la matriz de confusion) considero que el conjunto de caracteristicas que yo propongo utilizando bigramas de palabras y bigramas de los \"POS\" de la oracion es el mejor. Considero que es mejor porque la informacion que se tiene es mas eficiente, primero porque no se considera todo un contexto sino solo las 2 palabras que van antes y despues de la palabra ambigua, y ademas tambien sus categorias gramaticales (\"POS\"). esta informacion es mas util para ayudar al clasificador a converger a los resultados deseados"
   ]
  },
  {
   "cell_type": "markdown",
   "metadata": {},
   "source": [
    "### ¿Cuál es el sentido más difícil de identificar? ¿Por qué?"
   ]
  },
  {
   "cell_type": "markdown",
   "metadata": {},
   "source": [
    "    Para responder esta pregunta es importante mirar la matriz de confusion total, los sentidos (HARD1,HARD2) son difisiles de intendificar, esto debido a la poca cantidad de ejemplos en el corpus :\n",
    "    Para el sentido HARD2 solo existen :  502, y para el sentido HARD3 solo  376. Por otra parte para el sentido HARD1 el total es : 3455. Esto proboca un desbalance en las clases y a su vez el entrenamiento de un clasificador se vuelve dificil."
   ]
  },
  {
   "cell_type": "markdown",
   "metadata": {},
   "source": [
    "### ¿Qué posibles mejoras se podrían aplicar para mejorar el rendimiento de los clasificadores creados? No es necesario que las implementes, solo que las comentes."
   ]
  },
  {
   "cell_type": "markdown",
   "metadata": {},
   "source": [
    "    Para contestar esta pregunta yo implemente un sistema de clasificacion utilizando RANDOM FOREST, el cual produce mejor accuracy y mejor generalizacion entre clases al momento de clasificar el sistema. \n",
    "    \n",
    "    El problema dell clasificador NaiveBayes es que este se basa el la probabilidad de ocurrencia de los ejemplos vistos, en este problema se puede observar que existe una cantidad alta de ejemplos de clase HARD1 y relativamente pocos de las clases HARD2 y HARD3. Lo cual provoca que el clasificador falle."
   ]
  },
  {
   "cell_type": "markdown",
   "metadata": {},
   "source": [
    "### ¿Por qué no es justo comparar directamente la exactitud aportada por los clasificadores que han aprendido diferentes palabras ambiguas?"
   ]
  },
  {
   "cell_type": "markdown",
   "metadata": {},
   "source": [
    "    Numero de instancas para cada sentido de la palabra  interest \n",
    "        son :  Counter({('interest_6',): 1252, ('interest_5',): 500, ('interest_1',): 361, ('interest_4',): 178, ('interest_3',): 66, ('interest_2',): 11})\n",
    "    Numero de instancas para cada sentido de la palabra  line \n",
    "        son :  Counter({('product',): 2217, ('phone',): 429, ('text',): 404, ('division',): 374, ('cord',): 373, ('formation',): 349})\n",
    "    Numero de instancas para cada sentido de la palabra  serve \n",
    "        son :  Counter({('SERVE10',): 1814, ('SERVE12',): 1272, ('SERVE2',): 853, ('SERVE6',): 439})"
   ]
  },
  {
   "cell_type": "markdown",
   "metadata": {},
   "source": [
    "    No es posible comparar la exactitud aportada por los clasificadores porque el Clasificador NaiveBayes se basa en la probailidad de ocurrencia de los ejemplos vistos, y como podemos observar las clases estan completamente desbalanceadas en cada palabra ambigua.\n",
    "    \n",
    "    Por otra parte el accuracy nos muestra solo el radio de exito de el clasificador no nos aporta informacion sobre la capacidad de generalizacion del clasificador"
   ]
  },
  {
   "cell_type": "markdown",
   "metadata": {},
   "source": [
    "### ¿Cómo podrías hacerlo para que la comparación entre clasificadores que desambiguan palabras diferentes tenga sentido?"
   ]
  },
  {
   "cell_type": "markdown",
   "metadata": {},
   "source": [
    "    Una opcion seria la de utilizar la matriz de confunsion total, la cual si nos aporta informacion de como el sistema generaliza entre clases"
   ]
  },
  {
   "cell_type": "markdown",
   "metadata": {},
   "source": [
    "### Compara la exactitud de los clasificadores con la que proporcionaría un clasificador que asignara el sentido de forma aleatoria. ¿Cuál sería el mejor clasificador tomando como referencia (baseline), el clasificador aleatorio?"
   ]
  },
  {
   "cell_type": "markdown",
   "metadata": {},
   "source": [
    "### Creaccion de un clasificador aleatorio"
   ]
  },
  {
   "cell_type": "code",
   "execution_count": 170,
   "metadata": {},
   "outputs": [],
   "source": [
    "salidas2=['HARD1','HARD2','HARD3']\n",
    "aleatorio = []\n",
    "for i in range(len(testY)):\n",
    "        aleatorio.append(salidas2[np.random.randint(3)])"
   ]
  },
  {
   "cell_type": "code",
   "execution_count": 171,
   "metadata": {},
   "outputs": [
    {
     "data": {
      "text/plain": [
       "32.5635103926097"
      ]
     },
     "execution_count": 171,
     "metadata": {},
     "output_type": "execute_result"
    }
   ],
   "source": [
    "accuracy_score(testY,aleatorio)*100"
   ]
  },
  {
   "cell_type": "code",
   "execution_count": 172,
   "metadata": {},
   "outputs": [
    {
     "name": "stdout",
     "output_type": "stream",
     "text": [
      "[[231 227 234]\n",
      " [ 41  30  23]\n",
      " [ 33  26  21]]\n",
      "              precision    recall  f1-score   support\n",
      "\n",
      "       HARD1       0.76      0.33      0.46       692\n",
      "       HARD2       0.11      0.32      0.16        94\n",
      "       HARD3       0.08      0.26      0.12        80\n",
      "\n",
      "    accuracy                           0.33       866\n",
      "   macro avg       0.31      0.31      0.25       866\n",
      "weighted avg       0.62      0.33      0.40       866\n",
      "\n"
     ]
    }
   ],
   "source": [
    "print(confusion_matrix(testY,aleatorio,labels=[\"HARD1\", \"HARD2\", \"HARD3\"]))\n",
    "print(classification_report(testY,aleatorio))"
   ]
  },
  {
   "cell_type": "markdown",
   "metadata": {},
   "source": [
    "### Compracion de clasificadores para la palabra \"Hard\" (NaiveBayes vs Aleatorio)\n",
    "    \n",
    "    Si partimos el analisis por el accuracy : \n",
    "        NaiveBayes con la mejor caracterizacion = 77 % \n",
    "        Aleatorio = 32.5% \n",
    "    Podriamos decir que mejor exactitud tiene  el clasificador NaiveBayes\n",
    "    \n",
    "    Ahora analizando la capacidad de generalizacion : \n",
    "        NaiveBayes con la mejor caracterizacion tiene una precisicion en clasificar las clases hard2 y hard 3 (mas dificiles de clasificar) del 48 y 19% respectivamente.\n",
    "        Por su parte el aleatorio posee del 11 y 8% respectivamente\n",
    "     \n",
    "     Por lo tanto el NaiveBayes es mejor clasificador."
   ]
  },
  {
   "cell_type": "markdown",
   "metadata": {},
   "source": [
    "### PARTE 4"
   ]
  },
  {
   "cell_type": "markdown",
   "metadata": {},
   "source": [
    "### ¿Cuáles son las limitaciones de los clasificadores que has creado para la desambiguación del sentido de las palabras?"
   ]
  },
  {
   "cell_type": "markdown",
   "metadata": {},
   "source": [
    "    La primera limitacion es el desbalance entre ejemplos de cada clase en el corpus.\n",
    "    La segunda es el tipo de clasificador utilizado ya que se basa en la probabilidad de ocurrencia"
   ]
  },
  {
   "cell_type": "markdown",
   "metadata": {},
   "source": [
    "### ¿Qué alternativas propondrías para superar esas limitaciones y obtener algoritmo que resuelva mejor el problema de la desambiguación del sentido de las palabras?"
   ]
  },
  {
   "cell_type": "markdown",
   "metadata": {},
   "source": [
    "    La primera opcion seria balancear el corpues para tener una cantidad de ejemplos similares para cada clase, si son muy pocas entonces es necesario expandir el corpus y conseguir mas ejemplos.\n",
    "    \n",
    "    La otra alternativa es utilizar otro tipo de clasificador, como pude comprobar en este laboratorio, utilizar RandomForest es una muy buena opcion pero se podria mirar hacia otras tecnicas mas actules redes neuronales."
   ]
  },
  {
   "cell_type": "markdown",
   "metadata": {},
   "source": [
    "Debes aprender un clasificador que permita desambiguar la palabra «hard», es decir, que debes entrenar el clasificador utilizando las instancias disponibles en el corpus Senseval 2 para esta palabra ambigua."
   ]
  },
  {
   "cell_type": "markdown",
   "metadata": {},
   "source": [
    "Para entrenar y validar divide las instancias disponibles en una proporción del 80-20 % y recuerda que en el conjunto de datos de entrenamiento deben aparecer instancias de todas las clases."
   ]
  },
  {
   "cell_type": "markdown",
   "metadata": {},
   "source": [
    "Utiliza como características el conjunto basado en las palabras vecinas cuyo código has implementado en la parte 2 de este laboratorio. Para definir el vocabulario utiliza las 250 palabras más frecuentes (m=250)."
   ]
  },
  {
   "cell_type": "markdown",
   "metadata": {},
   "source": [
    "Una vez hayas obtenido los resultados del rendimiento del clasificador, entrena otro modelo clasificador que permita desambiguar la palabra «hard», pero que utilice como conjunto de características las de colocación cuyo código has implementado en la parte 2 de este laboratorio.\n",
    "\n",
    "Para definir la ventana de contexto utiliza la secuencia de dos palabras que ocurren antes de la palabra ambigua y la secuencia de dos palabras que ocurren después de esta (n=2). Utiliza los mismos conjuntos de entrenamiento y de test que has usado en el caso anterior para entrenar y validar este clasificador."
   ]
  },
  {
   "cell_type": "markdown",
   "metadata": {},
   "source": [
    "Por último, crea un tercer clasificador que también permita desambiguar la palabra «hard», pero que utilice como características el conjunto de las que has propuesto tú en la parte 2 de este laboratorio. Igual que en el caso anterior, utiliza los mismos conjuntos de entrenamiento y de test que has usado para entrenar los otros dos clasificadores."
   ]
  },
  {
   "cell_type": "markdown",
   "metadata": {},
   "source": [
    "Analiza los resultados del rendimiento con base en la exactitud (accuracy) y la matriz de confusión, obtenidos para cada uno de los tres clasificadores que permiten desambiguar el sentido de la palabra «hard»."
   ]
  },
  {
   "cell_type": "markdown",
   "metadata": {},
   "source": [
    "Responde a las siguientes preguntas:\n",
    "\n",
    "* ¿Cuál es el conjunto de características que aporta mejores resultados? ¿Por qué? \n",
    "\n",
    "* ¿Cuál es el sentido más difícil de identificar? ¿Por qué?\n",
    "\n",
    "* ¿Qué posibles mejoras se podrían aplicar para mejorar el rendimiento de los clasificadores creados? No es necesario que las implementes, solo que las comentes.\n"
   ]
  },
  {
   "cell_type": "markdown",
   "metadata": {},
   "source": [
    "Para el clasificador que permite desambiguar la palabra «hard» y que utiliza las características de colocación, obtén las instancias que pertenecen al sentido ‘HARD1’ y que se han clasificado incorrectamente. Presenta en el informe la oración en la que aparece la palabra ambigua (el contexto) para cada una de esas instancias y la etiqueta en la que han sido erróneamente clasificadas."
   ]
  },
  {
   "cell_type": "markdown",
   "metadata": {},
   "source": [
    "A continuación, entrena algunos clasificadores que te permitan desambiguar el resto de las palabras ambiguas «interest», «line» y «serve». Crea tres clasificadores para cada palabra ambigua manteniendo los mismos parámetros que en la extracción de características (m=250 para las características basadas en las palabras vecinas y n=2 para las características de colocación) y la proporción del 80-20 % para la creación de los conjuntos de entrenamiento y de test. Compara los resultados de rendimiento basados en la exactitud (accuracy) para los clasificadores que has creado. "
   ]
  },
  {
   "cell_type": "markdown",
   "metadata": {},
   "source": [
    "Presenta en el informe los valores de exactitud para cada uno de los 12 clasificadores (tres para cada palabra ambigua) y responde a las siguientes preguntas:\n",
    "\n",
    "* ¿Por qué no es justo comparar directamente la exactitud aportada por los clasificadores que han aprendido diferentes palabras ambiguas?\n",
    "\n",
    "* ¿Cómo podrías hacerlo para que la comparación entre clasificadores que desambiguan palabras diferentes tenga sentido?\n",
    "\n",
    "* Compara la exactitud de los clasificadores con la que proporcionaría un clasificador que asignara el sentido de forma aleatoria. ¿Cuál sería el mejor clasificador tomando como referencia (baseline), el clasificador aleatorio?\n"
   ]
  },
  {
   "cell_type": "markdown",
   "metadata": {},
   "source": [
    "## Parte 4: conclusiones sobre el uso de aprendizaje automático supervisado para desambiguar el sentido de las palabras\n",
    "\n",
    "Una vez hayas implementado diferentes clasificadores para desambiguar el sentido de diferentes palabras y analizado su desempeño, reflexiona sobre el uso de algoritmos basados en aprendizaje automático supervisado para resolver la tarea de desambiguación del sentido de las palabras. Para ello responde de forma razonada a las siguientes preguntas:\n",
    "\n",
    "* ¿Cuáles son las limitaciones de los clasificadores que has creado para la desambiguación del sentido de las palabras?\n",
    "\n",
    "* ¿Qué alternativas propondrías para superar esas limitaciones y obtener algoritmo que resuelva mejor el problema de la desambiguación del sentido de las palabras?"
   ]
  }
 ],
 "metadata": {
  "kernelspec": {
   "display_name": "Python 3",
   "language": "python",
   "name": "python3"
  },
  "language_info": {
   "codemirror_mode": {
    "name": "ipython",
    "version": 3
   },
   "file_extension": ".py",
   "mimetype": "text/x-python",
   "name": "python",
   "nbconvert_exporter": "python",
   "pygments_lexer": "ipython3",
   "version": "3.7.7"
  }
 },
 "nbformat": 4,
 "nbformat_minor": 4
}
